{
 "cells": [
  {
   "cell_type": "markdown",
   "metadata": {},
   "source": [
    "# Importação das bibliotecas"
   ]
  },
  {
   "cell_type": "code",
   "execution_count": 4,
   "metadata": {},
   "outputs": [],
   "source": [
    "import pandas as pd\n",
    "\n",
    "# Gerador de gráficos\n",
    "import plotly.express as px\n",
    "\n",
    "# Limpeza de warnings \n",
    "import warnings\n",
    "warnings.simplefilter('ignore')"
   ]
  },
  {
   "cell_type": "markdown",
   "metadata": {},
   "source": [
    "# Carregamento e Limpeza dos dados"
   ]
  },
  {
   "cell_type": "code",
   "execution_count": 5,
   "metadata": {},
   "outputs": [],
   "source": [
    "gastos_carregados = pd.read_csv(\n",
    "    'https://www.gov.br/secretariageral/pt-br/acesso-a-informacao/informacoes-classificadas-e-desclassificadas/Planilha12003a2022.csv',\n",
    "    encoding='latin1', delimiter=';')\n",
    "ipca_carregado = pd.read_csv('Arquivos_suporte/IPCA mensal 1994-2022.csv',\n",
    "    encoding='utf-8', delimiter=';')"
   ]
  },
  {
   "cell_type": "code",
   "execution_count": 6,
   "metadata": {},
   "outputs": [],
   "source": [
    "gastos = gastos_carregados.copy()\n",
    "ipca = ipca_carregado.copy()"
   ]
  },
  {
   "cell_type": "markdown",
   "metadata": {},
   "source": [
    "### Manipulação do dataframe de gastos"
   ]
  },
  {
   "cell_type": "code",
   "execution_count": 7,
   "metadata": {},
   "outputs": [],
   "source": [
    "# Muda o formato da data para datetime\n",
    "gastos.loc[:, 'DATA PGTO'] = pd.to_datetime(gastos['DATA PGTO'], errors='coerce', format=\"%d/%m/%Y\")\n",
    "\n",
    "# Gera uma nova coluna com os anos\n",
    "gastos.loc[:, 'ANO'] = gastos['DATA PGTO'].dt.year\n",
    "\n",
    "# Remove os dados faltantes de acordo com a coluna 'CPF SERVIDOR'\n",
    "gastos = gastos.dropna(axis=0, subset=['CPF SERVIDOR'])\n",
    "\n",
    "# Cria uma coluna nova com os valores em Reais no formato float\n",
    "gastos.loc[:, 'VALOR_NUM'] = pd.to_numeric(gastos['VALOR'].str.replace(\n",
    "    r'R\\$', '').str.replace(\".\", '').str.replace(',', '.').str.strip(), errors='coerce')\n",
    "\n",
    "# Muda o formato dos dados de tipo(modalidade de pagamento):\n",
    "gastos.loc[:, \"TIPO\"] = gastos.loc[:, \"TIPO\"].replace('D','Débito').replace('C', 'Crédito')\n",
    "\n",
    "# Remove as dados faltantes que não tenha nenhum valor de gastos\n",
    "gastos = gastos.dropna(subset=['VALOR_NUM'])"
   ]
  },
  {
   "cell_type": "code",
   "execution_count": 8,
   "metadata": {},
   "outputs": [],
   "source": [
    "# Converte o ano para o nome do presidente\n",
    "def presidente(ano):\n",
    "    if ano <= 2010:\n",
    "        return 'LULA'\n",
    "    elif ano <= 2016:\n",
    "        return 'DILMA'\n",
    "    elif ano <= 2018:\n",
    "        return \"TEMER\"\n",
    "    elif ano <= 2022:\n",
    "        return \"BOLSONARO\"\n",
    "\n",
    "# Gera uma coluna com a informação do nome do atual presidente\n",
    "gastos['PRES'] = gastos['ANO'].apply(presidente)"
   ]
  },
  {
   "cell_type": "markdown",
   "metadata": {},
   "source": [
    "### Manipulação do dataframe do ipca"
   ]
  },
  {
   "cell_type": "code",
   "execution_count": 9,
   "metadata": {},
   "outputs": [],
   "source": [
    "ipca = ipca.T.reset_index()\n",
    "ipca.columns = ['DATA', 'INFLAÇÃO NO MÊS']"
   ]
  },
  {
   "cell_type": "code",
   "execution_count": 10,
   "metadata": {},
   "outputs": [],
   "source": [
    "# Limpeza dos dados: converte o mês de março para 'mar' assim como os outros meses estão abreviados\n",
    "ipca['DATA'] = ipca['DATA'].str.replace('março ' ,'mar/')\n",
    "\n",
    "# Converte os anos para números\n",
    "ipca['DATA'] = ipca['DATA'].str.replace('/199' ,'/9')\n",
    "ipca['DATA'] = ipca['DATA'].str.replace('/200' ,'/0')\n",
    "ipca['DATA'] = ipca['DATA'].str.replace('/201' ,'/1')\n",
    "ipca['DATA'] = ipca['DATA'].str.replace('/202' ,'/2')\n",
    "\n",
    "ipca[['MES','ANO']] = ipca['DATA'].str.split('/',expand=True)\n",
    "\n",
    "# Converte os meses para numeros\n",
    "mes_para_numero = {'jan':1, 'fev':2, 'mar':3, 'abr':4, 'mai':5, 'jun':6, 'jul':7, 'ago':8, 'set':9, 'out':10, 'nov':11, 'dez':12}\n",
    "ipca['MES_NUM'] = ipca['MES'].map(mes_para_numero)"
   ]
  },
  {
   "cell_type": "code",
   "execution_count": 11,
   "metadata": {},
   "outputs": [],
   "source": [
    "ipca['ANO'] = pd.to_numeric(ipca['ANO'], errors='coerce')\n",
    "\n",
    "def formata_ano(ano):\n",
    "    if ano <23:\n",
    "        return ano + 2000\n",
    "    if ano >23:\n",
    "        return ano + 1900\n",
    "    \n",
    "ipca['ANO_FORMATADO'] = ipca['ANO'].apply(formata_ano)\n",
    "ipca['MES-ANO'] = ipca['MES_NUM'].astype(str) + ipca['ANO_FORMATADO'].astype(str)\n",
    "ipca = ipca.drop(['MES', 'ANO', 'MES_NUM', 'ANO_FORMATADO'], axis=1)"
   ]
  },
  {
   "cell_type": "code",
   "execution_count": 12,
   "metadata": {},
   "outputs": [],
   "source": [
    "indice_corte = ipca.loc[ipca['MES-ANO'] == '122002'].index[0]\n",
    "ipca = ipca[indice_corte+1:]\n",
    "ipca['INFLAÇÃO NO MÊS'] = ipca['INFLAÇÃO NO MÊS']/100"
   ]
  },
  {
   "cell_type": "code",
   "execution_count": 13,
   "metadata": {},
   "outputs": [],
   "source": [
    "ipca = ipca.iloc[::-1]\n",
    "ipca['AJUSTE INFLAÇÃO'] = (ipca['INFLAÇÃO NO MÊS']+1).cumprod()"
   ]
  },
  {
   "cell_type": "markdown",
   "metadata": {},
   "source": [
    "### Merge dataframe gastos - ipca"
   ]
  },
  {
   "cell_type": "code",
   "execution_count": 14,
   "metadata": {},
   "outputs": [],
   "source": [
    "# Converte o campo mês para um valor de tipo mensal\n",
    "gastos.loc[:, 'MES'] = gastos['DATA PGTO'].dt.month\n",
    "\n",
    "gastos['MES-ANO'] = gastos['MES'].astype(str) + gastos['ANO'].astype(str)\n",
    "gastos['MES-ANO'] = gastos['MES-ANO'].astype(str)\n",
    "\n",
    "gastos['MES-ANO'] = pd.to_numeric(gastos['MES-ANO'], errors='coerce')\n",
    "ipca['MES-ANO'] = pd.to_numeric(ipca['MES-ANO'], errors='coerce')\n",
    "gastos = pd.merge(gastos, ipca, how='outer', on='MES-ANO')"
   ]
  },
  {
   "cell_type": "code",
   "execution_count": 15,
   "metadata": {},
   "outputs": [],
   "source": [
    "# Efetua a multiplicação dos campos de cada valor mensal pela inflação para corigir o valor gasto por mês\n",
    "gastos['VALOR_CORRIGIDO'] = gastos['VALOR_NUM']*gastos['AJUSTE INFLAÇÃO']"
   ]
  },
  {
   "cell_type": "code",
   "execution_count": 16,
   "metadata": {},
   "outputs": [
    {
     "data": {
      "text/html": [
       "<div>\n",
       "<style scoped>\n",
       "    .dataframe tbody tr th:only-of-type {\n",
       "        vertical-align: middle;\n",
       "    }\n",
       "\n",
       "    .dataframe tbody tr th {\n",
       "        vertical-align: top;\n",
       "    }\n",
       "\n",
       "    .dataframe thead th {\n",
       "        text-align: right;\n",
       "    }\n",
       "</style>\n",
       "<table border=\"1\" class=\"dataframe\">\n",
       "  <thead>\n",
       "    <tr style=\"text-align: right;\">\n",
       "      <th></th>\n",
       "      <th>DATA PGTO</th>\n",
       "      <th>CPF SERVIDOR</th>\n",
       "      <th>CPF/CNPJ FORNECEDOR</th>\n",
       "      <th>NOME FORNECEDOR</th>\n",
       "      <th>VALOR</th>\n",
       "      <th>TIPO</th>\n",
       "      <th>SUBELEMENTO DE DESPESA</th>\n",
       "      <th>CDIC</th>\n",
       "      <th>ANO</th>\n",
       "      <th>VALOR_NUM</th>\n",
       "      <th>PRES</th>\n",
       "      <th>MES</th>\n",
       "      <th>MES-ANO</th>\n",
       "      <th>DATA</th>\n",
       "      <th>INFLAÇÃO NO MÊS</th>\n",
       "      <th>AJUSTE INFLAÇÃO</th>\n",
       "      <th>VALOR_CORRIGIDO</th>\n",
       "    </tr>\n",
       "  </thead>\n",
       "  <tbody>\n",
       "    <tr>\n",
       "      <th>0</th>\n",
       "      <td>2003-01-02</td>\n",
       "      <td>***.010.008-**</td>\n",
       "      <td>3.134920e+13</td>\n",
       "      <td>JW TRANSPORTADORA TURÖSTICA</td>\n",
       "      <td>R$ 1.696,90</td>\n",
       "      <td>Débito</td>\n",
       "      <td>LOCACAO DE MEIOS DE TRANSPORTE</td>\n",
       "      <td>00200.220539/2003-63.R.08.18/12/2002.31/12/2014.N</td>\n",
       "      <td>2003.0</td>\n",
       "      <td>1696.90</td>\n",
       "      <td>LULA</td>\n",
       "      <td>1</td>\n",
       "      <td>12003.0</td>\n",
       "      <td>jan/03</td>\n",
       "      <td>0.0225</td>\n",
       "      <td>3.173955</td>\n",
       "      <td>5385.884824</td>\n",
       "    </tr>\n",
       "    <tr>\n",
       "      <th>1</th>\n",
       "      <td>2003-01-02</td>\n",
       "      <td>***.010.008-**</td>\n",
       "      <td>3.134920e+13</td>\n",
       "      <td>JW TRANSPORTADORA TURÖSTICA</td>\n",
       "      <td>R$ 1.336,60</td>\n",
       "      <td>Débito</td>\n",
       "      <td>LOCACAO DE MEIOS DE TRANSPORTE</td>\n",
       "      <td>00200.220539/2003-63.R.08.18/12/2002.31/12/2014.N</td>\n",
       "      <td>2003.0</td>\n",
       "      <td>1336.60</td>\n",
       "      <td>LULA</td>\n",
       "      <td>1</td>\n",
       "      <td>12003.0</td>\n",
       "      <td>jan/03</td>\n",
       "      <td>0.0225</td>\n",
       "      <td>3.173955</td>\n",
       "      <td>4242.308714</td>\n",
       "    </tr>\n",
       "    <tr>\n",
       "      <th>2</th>\n",
       "      <td>2003-01-02</td>\n",
       "      <td>***.868.251-**</td>\n",
       "      <td>3.134920e+13</td>\n",
       "      <td>JW TRANSPORTADORA TURÖSTICA</td>\n",
       "      <td>R$ 1.396,43</td>\n",
       "      <td>Débito</td>\n",
       "      <td>LOCACAO DE MEIOS DE TRANSPORTE</td>\n",
       "      <td>00200.600539/2003-63.R.08.18/12/2002.31/12/2014.N</td>\n",
       "      <td>2003.0</td>\n",
       "      <td>1396.43</td>\n",
       "      <td>LULA</td>\n",
       "      <td>1</td>\n",
       "      <td>12003.0</td>\n",
       "      <td>jan/03</td>\n",
       "      <td>0.0225</td>\n",
       "      <td>3.173955</td>\n",
       "      <td>4432.206462</td>\n",
       "    </tr>\n",
       "    <tr>\n",
       "      <th>3</th>\n",
       "      <td>2003-01-03</td>\n",
       "      <td>***.004.131-**</td>\n",
       "      <td>5.927170e+11</td>\n",
       "      <td>FLORES ALVORADA</td>\n",
       "      <td>R$ 8.585,00</td>\n",
       "      <td>Crédito</td>\n",
       "      <td>OUTROS SERVIOS DE TERCEIROS-PESSOA JURÖDICA</td>\n",
       "      <td>00200.800212/2003-91.R.08.07/12/2002.31/12/2014.N</td>\n",
       "      <td>2003.0</td>\n",
       "      <td>8585.00</td>\n",
       "      <td>LULA</td>\n",
       "      <td>1</td>\n",
       "      <td>12003.0</td>\n",
       "      <td>jan/03</td>\n",
       "      <td>0.0225</td>\n",
       "      <td>3.173955</td>\n",
       "      <td>27248.406634</td>\n",
       "    </tr>\n",
       "    <tr>\n",
       "      <th>4</th>\n",
       "      <td>2003-01-03</td>\n",
       "      <td>***.004.131-**</td>\n",
       "      <td>8.393080e+11</td>\n",
       "      <td>CRISTAL LIMPEZA - COMRCIO DE MATERIAIS PARA L...</td>\n",
       "      <td>R$ 251,50</td>\n",
       "      <td>Crédito</td>\n",
       "      <td>MATERIAL DE LIMPEZA E PROD. DE HIGIENIZAÇO</td>\n",
       "      <td>00200.800212/2003-91.R.08.07/12/2002.31/12/2014.N</td>\n",
       "      <td>2003.0</td>\n",
       "      <td>251.50</td>\n",
       "      <td>LULA</td>\n",
       "      <td>1</td>\n",
       "      <td>12003.0</td>\n",
       "      <td>jan/03</td>\n",
       "      <td>0.0225</td>\n",
       "      <td>3.173955</td>\n",
       "      <td>798.249769</td>\n",
       "    </tr>\n",
       "    <tr>\n",
       "      <th>...</th>\n",
       "      <td>...</td>\n",
       "      <td>...</td>\n",
       "      <td>...</td>\n",
       "      <td>...</td>\n",
       "      <td>...</td>\n",
       "      <td>...</td>\n",
       "      <td>...</td>\n",
       "      <td>...</td>\n",
       "      <td>...</td>\n",
       "      <td>...</td>\n",
       "      <td>...</td>\n",
       "      <td>...</td>\n",
       "      <td>...</td>\n",
       "      <td>...</td>\n",
       "      <td>...</td>\n",
       "      <td>...</td>\n",
       "      <td>...</td>\n",
       "    </tr>\n",
       "    <tr>\n",
       "      <th>113319</th>\n",
       "      <td>2022-12-03</td>\n",
       "      <td>***.136.591-**</td>\n",
       "      <td>1.726166e+13</td>\n",
       "      <td>OUTBACK STEAKHOUSE RESTAURANTES BRASIL S/A</td>\n",
       "      <td>179,5</td>\n",
       "      <td>Crédito</td>\n",
       "      <td>FORNECIMENTO DE ALIMENTAÇO</td>\n",
       "      <td>00264.000642/2022-21.R.08.25/11/2022.31/12/2022.N</td>\n",
       "      <td>2022.0</td>\n",
       "      <td>179.50</td>\n",
       "      <td>BOLSONARO</td>\n",
       "      <td>12</td>\n",
       "      <td>122022.0</td>\n",
       "      <td>dez/22</td>\n",
       "      <td>0.0062</td>\n",
       "      <td>1.006200</td>\n",
       "      <td>180.612900</td>\n",
       "    </tr>\n",
       "    <tr>\n",
       "      <th>113320</th>\n",
       "      <td>2022-12-03</td>\n",
       "      <td>***.136.591-**</td>\n",
       "      <td>3.987994e+13</td>\n",
       "      <td>BIOMUNDO 105 NORTE COMERCIO DE ALIMENTOS</td>\n",
       "      <td>54,95</td>\n",
       "      <td>Crédito</td>\n",
       "      <td>GENEROS DE ALIMENTAÇO</td>\n",
       "      <td>00264.000642/2022-21.R.08.25/11/2022.31/12/2022.N</td>\n",
       "      <td>2022.0</td>\n",
       "      <td>54.95</td>\n",
       "      <td>BOLSONARO</td>\n",
       "      <td>12</td>\n",
       "      <td>122022.0</td>\n",
       "      <td>dez/22</td>\n",
       "      <td>0.0062</td>\n",
       "      <td>1.006200</td>\n",
       "      <td>55.290690</td>\n",
       "    </tr>\n",
       "    <tr>\n",
       "      <th>113321</th>\n",
       "      <td>2022-12-04</td>\n",
       "      <td>***.136.591-**</td>\n",
       "      <td>4.750841e+13</td>\n",
       "      <td>COMPANHIA BRASILEIRA DE DISTRIBUIÇO</td>\n",
       "      <td>518,07</td>\n",
       "      <td>Crédito</td>\n",
       "      <td>GENEROS DE ALIMENTAÇO</td>\n",
       "      <td>00264.000642/2022-21.R.08.25/11/2022.31/12/2022.N</td>\n",
       "      <td>2022.0</td>\n",
       "      <td>518.07</td>\n",
       "      <td>BOLSONARO</td>\n",
       "      <td>12</td>\n",
       "      <td>122022.0</td>\n",
       "      <td>dez/22</td>\n",
       "      <td>0.0062</td>\n",
       "      <td>1.006200</td>\n",
       "      <td>521.282034</td>\n",
       "    </tr>\n",
       "    <tr>\n",
       "      <th>113322</th>\n",
       "      <td>2022-12-04</td>\n",
       "      <td>***.136.591-**</td>\n",
       "      <td>1.255044e+13</td>\n",
       "      <td>RESTAURANTE SOHO</td>\n",
       "      <td>330,52</td>\n",
       "      <td>Crédito</td>\n",
       "      <td>FORNECIMENTO DE ALIMENTAÇO</td>\n",
       "      <td>00264.000642/2022-21.R.08.25/11/2022.31/12/2022.N</td>\n",
       "      <td>2022.0</td>\n",
       "      <td>330.52</td>\n",
       "      <td>BOLSONARO</td>\n",
       "      <td>12</td>\n",
       "      <td>122022.0</td>\n",
       "      <td>dez/22</td>\n",
       "      <td>0.0062</td>\n",
       "      <td>1.006200</td>\n",
       "      <td>332.569224</td>\n",
       "    </tr>\n",
       "    <tr>\n",
       "      <th>113323</th>\n",
       "      <td>2022-12-04</td>\n",
       "      <td>***.136.591-**</td>\n",
       "      <td>3.696869e+12</td>\n",
       "      <td>BIG TRANS COMERCIAL DE ALIMENTOS LTDA</td>\n",
       "      <td>54,66</td>\n",
       "      <td>Crédito</td>\n",
       "      <td>GENEROS DE ALIMENTAÇO</td>\n",
       "      <td>00264.000642/2022-21.R.08.25/11/2022.31/12/2022.N</td>\n",
       "      <td>2022.0</td>\n",
       "      <td>54.66</td>\n",
       "      <td>BOLSONARO</td>\n",
       "      <td>12</td>\n",
       "      <td>122022.0</td>\n",
       "      <td>dez/22</td>\n",
       "      <td>0.0062</td>\n",
       "      <td>1.006200</td>\n",
       "      <td>54.998892</td>\n",
       "    </tr>\n",
       "  </tbody>\n",
       "</table>\n",
       "<p>113324 rows × 17 columns</p>\n",
       "</div>"
      ],
      "text/plain": [
       "        DATA PGTO    CPF SERVIDOR  CPF/CNPJ FORNECEDOR  \\\n",
       "0      2003-01-02  ***.010.008-**         3.134920e+13   \n",
       "1      2003-01-02  ***.010.008-**         3.134920e+13   \n",
       "2      2003-01-02  ***.868.251-**         3.134920e+13   \n",
       "3      2003-01-03  ***.004.131-**         5.927170e+11   \n",
       "4      2003-01-03  ***.004.131-**         8.393080e+11   \n",
       "...           ...             ...                  ...   \n",
       "113319 2022-12-03  ***.136.591-**         1.726166e+13   \n",
       "113320 2022-12-03  ***.136.591-**         3.987994e+13   \n",
       "113321 2022-12-04  ***.136.591-**         4.750841e+13   \n",
       "113322 2022-12-04  ***.136.591-**         1.255044e+13   \n",
       "113323 2022-12-04  ***.136.591-**         3.696869e+12   \n",
       "\n",
       "                                          NOME FORNECEDOR          VALOR  \\\n",
       "0                             JW TRANSPORTADORA TURÖSTICA   R$ 1.696,90    \n",
       "1                             JW TRANSPORTADORA TURÖSTICA   R$ 1.336,60    \n",
       "2                             JW TRANSPORTADORA TURÖSTICA   R$ 1.396,43    \n",
       "3                                         FLORES ALVORADA   R$ 8.585,00    \n",
       "4       CRISTAL LIMPEZA - COMRCIO DE MATERIAIS PARA L...     R$ 251,50    \n",
       "...                                                   ...            ...   \n",
       "113319         OUTBACK STEAKHOUSE RESTAURANTES BRASIL S/A          179,5   \n",
       "113320           BIOMUNDO 105 NORTE COMERCIO DE ALIMENTOS          54,95   \n",
       "113321               COMPANHIA BRASILEIRA DE DISTRIBUIÇO         518,07   \n",
       "113322                                   RESTAURANTE SOHO         330,52   \n",
       "113323              BIG TRANS COMERCIAL DE ALIMENTOS LTDA          54,66   \n",
       "\n",
       "           TIPO                        SUBELEMENTO DE DESPESA  \\\n",
       "0        Débito                LOCACAO DE MEIOS DE TRANSPORTE   \n",
       "1        Débito                LOCACAO DE MEIOS DE TRANSPORTE   \n",
       "2        Débito                LOCACAO DE MEIOS DE TRANSPORTE   \n",
       "3       Crédito  OUTROS SERVIOS DE TERCEIROS-PESSOA JURÖDICA   \n",
       "4       Crédito   MATERIAL DE LIMPEZA E PROD. DE HIGIENIZAÇO   \n",
       "...         ...                                           ...   \n",
       "113319  Crédito                   FORNECIMENTO DE ALIMENTAÇO   \n",
       "113320  Crédito                        GENEROS DE ALIMENTAÇO   \n",
       "113321  Crédito                        GENEROS DE ALIMENTAÇO   \n",
       "113322  Crédito                   FORNECIMENTO DE ALIMENTAÇO   \n",
       "113323  Crédito                        GENEROS DE ALIMENTAÇO   \n",
       "\n",
       "                                                     CDIC     ANO  VALOR_NUM  \\\n",
       "0       00200.220539/2003-63.R.08.18/12/2002.31/12/2014.N  2003.0    1696.90   \n",
       "1       00200.220539/2003-63.R.08.18/12/2002.31/12/2014.N  2003.0    1336.60   \n",
       "2       00200.600539/2003-63.R.08.18/12/2002.31/12/2014.N  2003.0    1396.43   \n",
       "3       00200.800212/2003-91.R.08.07/12/2002.31/12/2014.N  2003.0    8585.00   \n",
       "4       00200.800212/2003-91.R.08.07/12/2002.31/12/2014.N  2003.0     251.50   \n",
       "...                                                   ...     ...        ...   \n",
       "113319  00264.000642/2022-21.R.08.25/11/2022.31/12/2022.N  2022.0     179.50   \n",
       "113320  00264.000642/2022-21.R.08.25/11/2022.31/12/2022.N  2022.0      54.95   \n",
       "113321  00264.000642/2022-21.R.08.25/11/2022.31/12/2022.N  2022.0     518.07   \n",
       "113322  00264.000642/2022-21.R.08.25/11/2022.31/12/2022.N  2022.0     330.52   \n",
       "113323  00264.000642/2022-21.R.08.25/11/2022.31/12/2022.N  2022.0      54.66   \n",
       "\n",
       "             PRES  MES   MES-ANO    DATA  INFLAÇÃO NO MÊS  AJUSTE INFLAÇÃO  \\\n",
       "0            LULA    1   12003.0  jan/03           0.0225         3.173955   \n",
       "1            LULA    1   12003.0  jan/03           0.0225         3.173955   \n",
       "2            LULA    1   12003.0  jan/03           0.0225         3.173955   \n",
       "3            LULA    1   12003.0  jan/03           0.0225         3.173955   \n",
       "4            LULA    1   12003.0  jan/03           0.0225         3.173955   \n",
       "...           ...  ...       ...     ...              ...              ...   \n",
       "113319  BOLSONARO   12  122022.0  dez/22           0.0062         1.006200   \n",
       "113320  BOLSONARO   12  122022.0  dez/22           0.0062         1.006200   \n",
       "113321  BOLSONARO   12  122022.0  dez/22           0.0062         1.006200   \n",
       "113322  BOLSONARO   12  122022.0  dez/22           0.0062         1.006200   \n",
       "113323  BOLSONARO   12  122022.0  dez/22           0.0062         1.006200   \n",
       "\n",
       "        VALOR_CORRIGIDO  \n",
       "0           5385.884824  \n",
       "1           4242.308714  \n",
       "2           4432.206462  \n",
       "3          27248.406634  \n",
       "4            798.249769  \n",
       "...                 ...  \n",
       "113319       180.612900  \n",
       "113320        55.290690  \n",
       "113321       521.282034  \n",
       "113322       332.569224  \n",
       "113323        54.998892  \n",
       "\n",
       "[113324 rows x 17 columns]"
      ]
     },
     "execution_count": 16,
     "metadata": {},
     "output_type": "execute_result"
    }
   ],
   "source": [
    "gastos"
   ]
  },
  {
   "cell_type": "markdown",
   "metadata": {},
   "source": [
    "### Dataframe de gastos por presidente acumulado por ano"
   ]
  },
  {
   "cell_type": "code",
   "execution_count": 17,
   "metadata": {},
   "outputs": [
    {
     "data": {
      "text/html": [
       "<div>\n",
       "<style scoped>\n",
       "    .dataframe tbody tr th:only-of-type {\n",
       "        vertical-align: middle;\n",
       "    }\n",
       "\n",
       "    .dataframe tbody tr th {\n",
       "        vertical-align: top;\n",
       "    }\n",
       "\n",
       "    .dataframe thead th {\n",
       "        text-align: right;\n",
       "    }\n",
       "</style>\n",
       "<table border=\"1\" class=\"dataframe\">\n",
       "  <thead>\n",
       "    <tr style=\"text-align: right;\">\n",
       "      <th></th>\n",
       "      <th>ANO</th>\n",
       "      <th>PRES</th>\n",
       "      <th>VALOR_NUM</th>\n",
       "      <th>VALOR_CORRIGIDO</th>\n",
       "    </tr>\n",
       "  </thead>\n",
       "  <tbody>\n",
       "    <tr>\n",
       "      <th>0</th>\n",
       "      <td>2003.0</td>\n",
       "      <td>LULA</td>\n",
       "      <td>5327599.63</td>\n",
       "      <td>1.594562e+07</td>\n",
       "    </tr>\n",
       "    <tr>\n",
       "      <th>1</th>\n",
       "      <td>2004.0</td>\n",
       "      <td>LULA</td>\n",
       "      <td>6541238.37</td>\n",
       "      <td>1.839041e+07</td>\n",
       "    </tr>\n",
       "    <tr>\n",
       "      <th>2</th>\n",
       "      <td>2005.0</td>\n",
       "      <td>LULA</td>\n",
       "      <td>5204035.80</td>\n",
       "      <td>1.362267e+07</td>\n",
       "    </tr>\n",
       "    <tr>\n",
       "      <th>3</th>\n",
       "      <td>2006.0</td>\n",
       "      <td>LULA</td>\n",
       "      <td>4977941.73</td>\n",
       "      <td>1.251524e+07</td>\n",
       "    </tr>\n",
       "    <tr>\n",
       "      <th>4</th>\n",
       "      <td>2007.0</td>\n",
       "      <td>LULA</td>\n",
       "      <td>3857905.40</td>\n",
       "      <td>9.373571e+06</td>\n",
       "    </tr>\n",
       "    <tr>\n",
       "      <th>5</th>\n",
       "      <td>2008.0</td>\n",
       "      <td>LULA</td>\n",
       "      <td>6084616.50</td>\n",
       "      <td>1.391479e+07</td>\n",
       "    </tr>\n",
       "    <tr>\n",
       "      <th>6</th>\n",
       "      <td>2009.0</td>\n",
       "      <td>LULA</td>\n",
       "      <td>5438905.30</td>\n",
       "      <td>1.192018e+07</td>\n",
       "    </tr>\n",
       "    <tr>\n",
       "      <th>7</th>\n",
       "      <td>2010.0</td>\n",
       "      <td>LULA</td>\n",
       "      <td>6557394.19</td>\n",
       "      <td>1.366002e+07</td>\n",
       "    </tr>\n",
       "    <tr>\n",
       "      <th>8</th>\n",
       "      <td>2011.0</td>\n",
       "      <td>DILMA</td>\n",
       "      <td>4587842.43</td>\n",
       "      <td>8.976243e+06</td>\n",
       "    </tr>\n",
       "    <tr>\n",
       "      <th>9</th>\n",
       "      <td>2012.0</td>\n",
       "      <td>DILMA</td>\n",
       "      <td>4598570.59</td>\n",
       "      <td>8.542153e+06</td>\n",
       "    </tr>\n",
       "    <tr>\n",
       "      <th>10</th>\n",
       "      <td>2013.0</td>\n",
       "      <td>DILMA</td>\n",
       "      <td>6022006.62</td>\n",
       "      <td>1.053217e+07</td>\n",
       "    </tr>\n",
       "    <tr>\n",
       "      <th>11</th>\n",
       "      <td>2014.0</td>\n",
       "      <td>DILMA</td>\n",
       "      <td>9305096.62</td>\n",
       "      <td>1.529834e+07</td>\n",
       "    </tr>\n",
       "    <tr>\n",
       "      <th>12</th>\n",
       "      <td>2015.0</td>\n",
       "      <td>DILMA</td>\n",
       "      <td>5706943.28</td>\n",
       "      <td>8.635508e+06</td>\n",
       "    </tr>\n",
       "    <tr>\n",
       "      <th>13</th>\n",
       "      <td>2016.0</td>\n",
       "      <td>DILMA</td>\n",
       "      <td>4192262.08</td>\n",
       "      <td>5.814988e+06</td>\n",
       "    </tr>\n",
       "    <tr>\n",
       "      <th>14</th>\n",
       "      <td>2017.0</td>\n",
       "      <td>TEMER</td>\n",
       "      <td>4003637.84</td>\n",
       "      <td>5.357092e+06</td>\n",
       "    </tr>\n",
       "    <tr>\n",
       "      <th>15</th>\n",
       "      <td>2018.0</td>\n",
       "      <td>TEMER</td>\n",
       "      <td>4866043.60</td>\n",
       "      <td>6.293441e+06</td>\n",
       "    </tr>\n",
       "    <tr>\n",
       "      <th>16</th>\n",
       "      <td>2019.0</td>\n",
       "      <td>BOLSONARO</td>\n",
       "      <td>5382478.10</td>\n",
       "      <td>6.699439e+06</td>\n",
       "    </tr>\n",
       "    <tr>\n",
       "      <th>17</th>\n",
       "      <td>2020.0</td>\n",
       "      <td>BOLSONARO</td>\n",
       "      <td>7314318.09</td>\n",
       "      <td>8.793960e+06</td>\n",
       "    </tr>\n",
       "    <tr>\n",
       "      <th>18</th>\n",
       "      <td>2021.0</td>\n",
       "      <td>BOLSONARO</td>\n",
       "      <td>9927562.29</td>\n",
       "      <td>1.108182e+07</td>\n",
       "    </tr>\n",
       "    <tr>\n",
       "      <th>19</th>\n",
       "      <td>2022.0</td>\n",
       "      <td>BOLSONARO</td>\n",
       "      <td>4997298.75</td>\n",
       "      <td>5.180883e+06</td>\n",
       "    </tr>\n",
       "  </tbody>\n",
       "</table>\n",
       "</div>"
      ],
      "text/plain": [
       "       ANO       PRES   VALOR_NUM  VALOR_CORRIGIDO\n",
       "0   2003.0       LULA  5327599.63     1.594562e+07\n",
       "1   2004.0       LULA  6541238.37     1.839041e+07\n",
       "2   2005.0       LULA  5204035.80     1.362267e+07\n",
       "3   2006.0       LULA  4977941.73     1.251524e+07\n",
       "4   2007.0       LULA  3857905.40     9.373571e+06\n",
       "5   2008.0       LULA  6084616.50     1.391479e+07\n",
       "6   2009.0       LULA  5438905.30     1.192018e+07\n",
       "7   2010.0       LULA  6557394.19     1.366002e+07\n",
       "8   2011.0      DILMA  4587842.43     8.976243e+06\n",
       "9   2012.0      DILMA  4598570.59     8.542153e+06\n",
       "10  2013.0      DILMA  6022006.62     1.053217e+07\n",
       "11  2014.0      DILMA  9305096.62     1.529834e+07\n",
       "12  2015.0      DILMA  5706943.28     8.635508e+06\n",
       "13  2016.0      DILMA  4192262.08     5.814988e+06\n",
       "14  2017.0      TEMER  4003637.84     5.357092e+06\n",
       "15  2018.0      TEMER  4866043.60     6.293441e+06\n",
       "16  2019.0  BOLSONARO  5382478.10     6.699439e+06\n",
       "17  2020.0  BOLSONARO  7314318.09     8.793960e+06\n",
       "18  2021.0  BOLSONARO  9927562.29     1.108182e+07\n",
       "19  2022.0  BOLSONARO  4997298.75     5.180883e+06"
      ]
     },
     "execution_count": 17,
     "metadata": {},
     "output_type": "execute_result"
    }
   ],
   "source": [
    "# Gastos do presidente por ano\n",
    "gastos_presidente = gastos.groupby([\"ANO\", \"PRES\"]).agg({\"VALOR_NUM\": sum, \"VALOR_CORRIGIDO\": sum}).reset_index()\n",
    "gastos_presidente"
   ]
  },
  {
   "cell_type": "code",
   "execution_count": 18,
   "metadata": {
    "scrolled": false
   },
   "outputs": [
    {
     "data": {
      "application/vnd.plotly.v1+json": {
       "config": {
        "plotlyServerURL": "https://plot.ly"
       },
       "data": [
        {
         "alignmentgroup": "True",
         "hovertemplate": "PRESIDENTE=LULA<br>ANO=%{x}<br>Valor em milhões=%{y}<extra></extra>",
         "legendgroup": "LULA",
         "marker": {
          "color": "#636efa",
          "pattern": {
           "shape": ""
          }
         },
         "name": "LULA",
         "offsetgroup": "LULA",
         "orientation": "v",
         "showlegend": true,
         "textposition": "auto",
         "type": "bar",
         "x": [
          2003,
          2004,
          2005,
          2006,
          2007,
          2008,
          2009,
          2010
         ],
         "xaxis": "x",
         "y": [
          5327599.63,
          6541238.37,
          5204035.8,
          4977941.73,
          3857905.4,
          6084616.5,
          5438905.3,
          6557394.19
         ],
         "yaxis": "y"
        },
        {
         "alignmentgroup": "True",
         "hovertemplate": "PRESIDENTE=DILMA<br>ANO=%{x}<br>Valor em milhões=%{y}<extra></extra>",
         "legendgroup": "DILMA",
         "marker": {
          "color": "#EF553B",
          "pattern": {
           "shape": ""
          }
         },
         "name": "DILMA",
         "offsetgroup": "DILMA",
         "orientation": "v",
         "showlegend": true,
         "textposition": "auto",
         "type": "bar",
         "x": [
          2011,
          2012,
          2013,
          2014,
          2015,
          2016
         ],
         "xaxis": "x",
         "y": [
          4587842.43,
          4598570.59,
          6022006.62,
          9305096.62,
          5706943.28,
          4192262.08
         ],
         "yaxis": "y"
        },
        {
         "alignmentgroup": "True",
         "hovertemplate": "PRESIDENTE=TEMER<br>ANO=%{x}<br>Valor em milhões=%{y}<extra></extra>",
         "legendgroup": "TEMER",
         "marker": {
          "color": "#00cc96",
          "pattern": {
           "shape": ""
          }
         },
         "name": "TEMER",
         "offsetgroup": "TEMER",
         "orientation": "v",
         "showlegend": true,
         "textposition": "auto",
         "type": "bar",
         "x": [
          2017,
          2018
         ],
         "xaxis": "x",
         "y": [
          4003637.84,
          4866043.6
         ],
         "yaxis": "y"
        },
        {
         "alignmentgroup": "True",
         "hovertemplate": "PRESIDENTE=BOLSONARO<br>ANO=%{x}<br>Valor em milhões=%{y}<extra></extra>",
         "legendgroup": "BOLSONARO",
         "marker": {
          "color": "#ab63fa",
          "pattern": {
           "shape": ""
          }
         },
         "name": "BOLSONARO",
         "offsetgroup": "BOLSONARO",
         "orientation": "v",
         "showlegend": true,
         "textposition": "auto",
         "type": "bar",
         "x": [
          2019,
          2020,
          2021,
          2022
         ],
         "xaxis": "x",
         "y": [
          5382478.1,
          7314318.09,
          9927562.29,
          4997298.75
         ],
         "yaxis": "y"
        }
       ],
       "layout": {
        "barmode": "relative",
        "legend": {
         "title": {
          "text": "PRESIDENTE"
         },
         "tracegroupgap": 0
        },
        "template": {
         "data": {
          "bar": [
           {
            "error_x": {
             "color": "#2a3f5f"
            },
            "error_y": {
             "color": "#2a3f5f"
            },
            "marker": {
             "line": {
              "color": "#E5ECF6",
              "width": 0.5
             },
             "pattern": {
              "fillmode": "overlay",
              "size": 10,
              "solidity": 0.2
             }
            },
            "type": "bar"
           }
          ],
          "barpolar": [
           {
            "marker": {
             "line": {
              "color": "#E5ECF6",
              "width": 0.5
             },
             "pattern": {
              "fillmode": "overlay",
              "size": 10,
              "solidity": 0.2
             }
            },
            "type": "barpolar"
           }
          ],
          "carpet": [
           {
            "aaxis": {
             "endlinecolor": "#2a3f5f",
             "gridcolor": "white",
             "linecolor": "white",
             "minorgridcolor": "white",
             "startlinecolor": "#2a3f5f"
            },
            "baxis": {
             "endlinecolor": "#2a3f5f",
             "gridcolor": "white",
             "linecolor": "white",
             "minorgridcolor": "white",
             "startlinecolor": "#2a3f5f"
            },
            "type": "carpet"
           }
          ],
          "choropleth": [
           {
            "colorbar": {
             "outlinewidth": 0,
             "ticks": ""
            },
            "type": "choropleth"
           }
          ],
          "contour": [
           {
            "colorbar": {
             "outlinewidth": 0,
             "ticks": ""
            },
            "colorscale": [
             [
              0,
              "#0d0887"
             ],
             [
              0.1111111111111111,
              "#46039f"
             ],
             [
              0.2222222222222222,
              "#7201a8"
             ],
             [
              0.3333333333333333,
              "#9c179e"
             ],
             [
              0.4444444444444444,
              "#bd3786"
             ],
             [
              0.5555555555555556,
              "#d8576b"
             ],
             [
              0.6666666666666666,
              "#ed7953"
             ],
             [
              0.7777777777777778,
              "#fb9f3a"
             ],
             [
              0.8888888888888888,
              "#fdca26"
             ],
             [
              1,
              "#f0f921"
             ]
            ],
            "type": "contour"
           }
          ],
          "contourcarpet": [
           {
            "colorbar": {
             "outlinewidth": 0,
             "ticks": ""
            },
            "type": "contourcarpet"
           }
          ],
          "heatmap": [
           {
            "colorbar": {
             "outlinewidth": 0,
             "ticks": ""
            },
            "colorscale": [
             [
              0,
              "#0d0887"
             ],
             [
              0.1111111111111111,
              "#46039f"
             ],
             [
              0.2222222222222222,
              "#7201a8"
             ],
             [
              0.3333333333333333,
              "#9c179e"
             ],
             [
              0.4444444444444444,
              "#bd3786"
             ],
             [
              0.5555555555555556,
              "#d8576b"
             ],
             [
              0.6666666666666666,
              "#ed7953"
             ],
             [
              0.7777777777777778,
              "#fb9f3a"
             ],
             [
              0.8888888888888888,
              "#fdca26"
             ],
             [
              1,
              "#f0f921"
             ]
            ],
            "type": "heatmap"
           }
          ],
          "heatmapgl": [
           {
            "colorbar": {
             "outlinewidth": 0,
             "ticks": ""
            },
            "colorscale": [
             [
              0,
              "#0d0887"
             ],
             [
              0.1111111111111111,
              "#46039f"
             ],
             [
              0.2222222222222222,
              "#7201a8"
             ],
             [
              0.3333333333333333,
              "#9c179e"
             ],
             [
              0.4444444444444444,
              "#bd3786"
             ],
             [
              0.5555555555555556,
              "#d8576b"
             ],
             [
              0.6666666666666666,
              "#ed7953"
             ],
             [
              0.7777777777777778,
              "#fb9f3a"
             ],
             [
              0.8888888888888888,
              "#fdca26"
             ],
             [
              1,
              "#f0f921"
             ]
            ],
            "type": "heatmapgl"
           }
          ],
          "histogram": [
           {
            "marker": {
             "pattern": {
              "fillmode": "overlay",
              "size": 10,
              "solidity": 0.2
             }
            },
            "type": "histogram"
           }
          ],
          "histogram2d": [
           {
            "colorbar": {
             "outlinewidth": 0,
             "ticks": ""
            },
            "colorscale": [
             [
              0,
              "#0d0887"
             ],
             [
              0.1111111111111111,
              "#46039f"
             ],
             [
              0.2222222222222222,
              "#7201a8"
             ],
             [
              0.3333333333333333,
              "#9c179e"
             ],
             [
              0.4444444444444444,
              "#bd3786"
             ],
             [
              0.5555555555555556,
              "#d8576b"
             ],
             [
              0.6666666666666666,
              "#ed7953"
             ],
             [
              0.7777777777777778,
              "#fb9f3a"
             ],
             [
              0.8888888888888888,
              "#fdca26"
             ],
             [
              1,
              "#f0f921"
             ]
            ],
            "type": "histogram2d"
           }
          ],
          "histogram2dcontour": [
           {
            "colorbar": {
             "outlinewidth": 0,
             "ticks": ""
            },
            "colorscale": [
             [
              0,
              "#0d0887"
             ],
             [
              0.1111111111111111,
              "#46039f"
             ],
             [
              0.2222222222222222,
              "#7201a8"
             ],
             [
              0.3333333333333333,
              "#9c179e"
             ],
             [
              0.4444444444444444,
              "#bd3786"
             ],
             [
              0.5555555555555556,
              "#d8576b"
             ],
             [
              0.6666666666666666,
              "#ed7953"
             ],
             [
              0.7777777777777778,
              "#fb9f3a"
             ],
             [
              0.8888888888888888,
              "#fdca26"
             ],
             [
              1,
              "#f0f921"
             ]
            ],
            "type": "histogram2dcontour"
           }
          ],
          "mesh3d": [
           {
            "colorbar": {
             "outlinewidth": 0,
             "ticks": ""
            },
            "type": "mesh3d"
           }
          ],
          "parcoords": [
           {
            "line": {
             "colorbar": {
              "outlinewidth": 0,
              "ticks": ""
             }
            },
            "type": "parcoords"
           }
          ],
          "pie": [
           {
            "automargin": true,
            "type": "pie"
           }
          ],
          "scatter": [
           {
            "fillpattern": {
             "fillmode": "overlay",
             "size": 10,
             "solidity": 0.2
            },
            "type": "scatter"
           }
          ],
          "scatter3d": [
           {
            "line": {
             "colorbar": {
              "outlinewidth": 0,
              "ticks": ""
             }
            },
            "marker": {
             "colorbar": {
              "outlinewidth": 0,
              "ticks": ""
             }
            },
            "type": "scatter3d"
           }
          ],
          "scattercarpet": [
           {
            "marker": {
             "colorbar": {
              "outlinewidth": 0,
              "ticks": ""
             }
            },
            "type": "scattercarpet"
           }
          ],
          "scattergeo": [
           {
            "marker": {
             "colorbar": {
              "outlinewidth": 0,
              "ticks": ""
             }
            },
            "type": "scattergeo"
           }
          ],
          "scattergl": [
           {
            "marker": {
             "colorbar": {
              "outlinewidth": 0,
              "ticks": ""
             }
            },
            "type": "scattergl"
           }
          ],
          "scattermapbox": [
           {
            "marker": {
             "colorbar": {
              "outlinewidth": 0,
              "ticks": ""
             }
            },
            "type": "scattermapbox"
           }
          ],
          "scatterpolar": [
           {
            "marker": {
             "colorbar": {
              "outlinewidth": 0,
              "ticks": ""
             }
            },
            "type": "scatterpolar"
           }
          ],
          "scatterpolargl": [
           {
            "marker": {
             "colorbar": {
              "outlinewidth": 0,
              "ticks": ""
             }
            },
            "type": "scatterpolargl"
           }
          ],
          "scatterternary": [
           {
            "marker": {
             "colorbar": {
              "outlinewidth": 0,
              "ticks": ""
             }
            },
            "type": "scatterternary"
           }
          ],
          "surface": [
           {
            "colorbar": {
             "outlinewidth": 0,
             "ticks": ""
            },
            "colorscale": [
             [
              0,
              "#0d0887"
             ],
             [
              0.1111111111111111,
              "#46039f"
             ],
             [
              0.2222222222222222,
              "#7201a8"
             ],
             [
              0.3333333333333333,
              "#9c179e"
             ],
             [
              0.4444444444444444,
              "#bd3786"
             ],
             [
              0.5555555555555556,
              "#d8576b"
             ],
             [
              0.6666666666666666,
              "#ed7953"
             ],
             [
              0.7777777777777778,
              "#fb9f3a"
             ],
             [
              0.8888888888888888,
              "#fdca26"
             ],
             [
              1,
              "#f0f921"
             ]
            ],
            "type": "surface"
           }
          ],
          "table": [
           {
            "cells": {
             "fill": {
              "color": "#EBF0F8"
             },
             "line": {
              "color": "white"
             }
            },
            "header": {
             "fill": {
              "color": "#C8D4E3"
             },
             "line": {
              "color": "white"
             }
            },
            "type": "table"
           }
          ]
         },
         "layout": {
          "annotationdefaults": {
           "arrowcolor": "#2a3f5f",
           "arrowhead": 0,
           "arrowwidth": 1
          },
          "autotypenumbers": "strict",
          "coloraxis": {
           "colorbar": {
            "outlinewidth": 0,
            "ticks": ""
           }
          },
          "colorscale": {
           "diverging": [
            [
             0,
             "#8e0152"
            ],
            [
             0.1,
             "#c51b7d"
            ],
            [
             0.2,
             "#de77ae"
            ],
            [
             0.3,
             "#f1b6da"
            ],
            [
             0.4,
             "#fde0ef"
            ],
            [
             0.5,
             "#f7f7f7"
            ],
            [
             0.6,
             "#e6f5d0"
            ],
            [
             0.7,
             "#b8e186"
            ],
            [
             0.8,
             "#7fbc41"
            ],
            [
             0.9,
             "#4d9221"
            ],
            [
             1,
             "#276419"
            ]
           ],
           "sequential": [
            [
             0,
             "#0d0887"
            ],
            [
             0.1111111111111111,
             "#46039f"
            ],
            [
             0.2222222222222222,
             "#7201a8"
            ],
            [
             0.3333333333333333,
             "#9c179e"
            ],
            [
             0.4444444444444444,
             "#bd3786"
            ],
            [
             0.5555555555555556,
             "#d8576b"
            ],
            [
             0.6666666666666666,
             "#ed7953"
            ],
            [
             0.7777777777777778,
             "#fb9f3a"
            ],
            [
             0.8888888888888888,
             "#fdca26"
            ],
            [
             1,
             "#f0f921"
            ]
           ],
           "sequentialminus": [
            [
             0,
             "#0d0887"
            ],
            [
             0.1111111111111111,
             "#46039f"
            ],
            [
             0.2222222222222222,
             "#7201a8"
            ],
            [
             0.3333333333333333,
             "#9c179e"
            ],
            [
             0.4444444444444444,
             "#bd3786"
            ],
            [
             0.5555555555555556,
             "#d8576b"
            ],
            [
             0.6666666666666666,
             "#ed7953"
            ],
            [
             0.7777777777777778,
             "#fb9f3a"
            ],
            [
             0.8888888888888888,
             "#fdca26"
            ],
            [
             1,
             "#f0f921"
            ]
           ]
          },
          "colorway": [
           "#636efa",
           "#EF553B",
           "#00cc96",
           "#ab63fa",
           "#FFA15A",
           "#19d3f3",
           "#FF6692",
           "#B6E880",
           "#FF97FF",
           "#FECB52"
          ],
          "font": {
           "color": "#2a3f5f"
          },
          "geo": {
           "bgcolor": "white",
           "lakecolor": "white",
           "landcolor": "#E5ECF6",
           "showlakes": true,
           "showland": true,
           "subunitcolor": "white"
          },
          "hoverlabel": {
           "align": "left"
          },
          "hovermode": "closest",
          "mapbox": {
           "style": "light"
          },
          "paper_bgcolor": "white",
          "plot_bgcolor": "#E5ECF6",
          "polar": {
           "angularaxis": {
            "gridcolor": "white",
            "linecolor": "white",
            "ticks": ""
           },
           "bgcolor": "#E5ECF6",
           "radialaxis": {
            "gridcolor": "white",
            "linecolor": "white",
            "ticks": ""
           }
          },
          "scene": {
           "xaxis": {
            "backgroundcolor": "#E5ECF6",
            "gridcolor": "white",
            "gridwidth": 2,
            "linecolor": "white",
            "showbackground": true,
            "ticks": "",
            "zerolinecolor": "white"
           },
           "yaxis": {
            "backgroundcolor": "#E5ECF6",
            "gridcolor": "white",
            "gridwidth": 2,
            "linecolor": "white",
            "showbackground": true,
            "ticks": "",
            "zerolinecolor": "white"
           },
           "zaxis": {
            "backgroundcolor": "#E5ECF6",
            "gridcolor": "white",
            "gridwidth": 2,
            "linecolor": "white",
            "showbackground": true,
            "ticks": "",
            "zerolinecolor": "white"
           }
          },
          "shapedefaults": {
           "line": {
            "color": "#2a3f5f"
           }
          },
          "ternary": {
           "aaxis": {
            "gridcolor": "white",
            "linecolor": "white",
            "ticks": ""
           },
           "baxis": {
            "gridcolor": "white",
            "linecolor": "white",
            "ticks": ""
           },
           "bgcolor": "#E5ECF6",
           "caxis": {
            "gridcolor": "white",
            "linecolor": "white",
            "ticks": ""
           }
          },
          "title": {
           "x": 0.05
          },
          "xaxis": {
           "automargin": true,
           "gridcolor": "white",
           "linecolor": "white",
           "ticks": "",
           "title": {
            "standoff": 15
           },
           "zerolinecolor": "white",
           "zerolinewidth": 2
          },
          "yaxis": {
           "automargin": true,
           "gridcolor": "white",
           "linecolor": "white",
           "ticks": "",
           "title": {
            "standoff": 15
           },
           "zerolinecolor": "white",
           "zerolinewidth": 2
          }
         }
        },
        "title": {
         "text": "Gastos do cartão presidencial por presidente"
        },
        "xaxis": {
         "anchor": "y",
         "domain": [
          0,
          1
         ],
         "tickangle": 45,
         "tickvals": [
          2003,
          2004,
          2005,
          2006,
          2007,
          2008,
          2009,
          2010,
          2011,
          2012,
          2013,
          2014,
          2015,
          2016,
          2017,
          2018,
          2019,
          2020,
          2021,
          2022
         ],
         "title": {
          "text": "ANO"
         }
        },
        "yaxis": {
         "anchor": "x",
         "domain": [
          0,
          1
         ],
         "title": {
          "text": "Valor em milhões"
         }
        }
       }
      }
     },
     "metadata": {},
     "output_type": "display_data"
    }
   ],
   "source": [
    "fig = px.bar(gastos_presidente, x='ANO', y=\"VALOR_NUM\", color='PRES',\n",
    "             title=\"Gastos do cartão presidencial por presidente\",\n",
    "             labels={\"VALOR_NUM\": \"Valor em milhões\", 'PRES': \"PRESIDENTE\"})\n",
    "\n",
    "fig = fig.update_xaxes(tickangle=45, tickvals=gastos_presidente['ANO'][::])\n",
    "fig.show()"
   ]
  },
  {
   "cell_type": "markdown",
   "metadata": {},
   "source": [
    "### Gastos Corrigidos pelo IPCA"
   ]
  },
  {
   "cell_type": "code",
   "execution_count": 19,
   "metadata": {
    "scrolled": false
   },
   "outputs": [
    {
     "data": {
      "application/vnd.plotly.v1+json": {
       "config": {
        "plotlyServerURL": "https://plot.ly"
       },
       "data": [
        {
         "alignmentgroup": "True",
         "hovertemplate": "PRESIDENTE=LULA<br>ANO=%{x}<br>Valor em milhões (corrigido pelo IPCA)=%{y}<extra></extra>",
         "legendgroup": "LULA",
         "marker": {
          "color": "#636efa",
          "pattern": {
           "shape": ""
          }
         },
         "name": "LULA",
         "offsetgroup": "LULA",
         "orientation": "v",
         "showlegend": true,
         "textposition": "auto",
         "type": "bar",
         "x": [
          2003,
          2004,
          2005,
          2006,
          2007,
          2008,
          2009,
          2010
         ],
         "xaxis": "x",
         "y": [
          15945616.9200613,
          18390408.358809527,
          13622667.514873672,
          12515235.537812417,
          9373571.254786197,
          13914785.183299217,
          11920184.450496105,
          13660019.890741916
         ],
         "yaxis": "y"
        },
        {
         "alignmentgroup": "True",
         "hovertemplate": "PRESIDENTE=DILMA<br>ANO=%{x}<br>Valor em milhões (corrigido pelo IPCA)=%{y}<extra></extra>",
         "legendgroup": "DILMA",
         "marker": {
          "color": "#EF553B",
          "pattern": {
           "shape": ""
          }
         },
         "name": "DILMA",
         "offsetgroup": "DILMA",
         "orientation": "v",
         "showlegend": true,
         "textposition": "auto",
         "type": "bar",
         "x": [
          2011,
          2012,
          2013,
          2014,
          2015,
          2016
         ],
         "xaxis": "x",
         "y": [
          8976242.616556687,
          8542152.786967162,
          10532170.180349974,
          15298335.345517687,
          8635507.621954115,
          5814987.927387783
         ],
         "yaxis": "y"
        },
        {
         "alignmentgroup": "True",
         "hovertemplate": "PRESIDENTE=TEMER<br>ANO=%{x}<br>Valor em milhões (corrigido pelo IPCA)=%{y}<extra></extra>",
         "legendgroup": "TEMER",
         "marker": {
          "color": "#00cc96",
          "pattern": {
           "shape": ""
          }
         },
         "name": "TEMER",
         "offsetgroup": "TEMER",
         "orientation": "v",
         "showlegend": true,
         "textposition": "auto",
         "type": "bar",
         "x": [
          2017,
          2018
         ],
         "xaxis": "x",
         "y": [
          5357091.575148641,
          6293440.628085149
         ],
         "yaxis": "y"
        },
        {
         "alignmentgroup": "True",
         "hovertemplate": "PRESIDENTE=BOLSONARO<br>ANO=%{x}<br>Valor em milhões (corrigido pelo IPCA)=%{y}<extra></extra>",
         "legendgroup": "BOLSONARO",
         "marker": {
          "color": "#ab63fa",
          "pattern": {
           "shape": ""
          }
         },
         "name": "BOLSONARO",
         "offsetgroup": "BOLSONARO",
         "orientation": "v",
         "showlegend": true,
         "textposition": "auto",
         "type": "bar",
         "x": [
          2019,
          2020,
          2021,
          2022
         ],
         "xaxis": "x",
         "y": [
          6699438.942724073,
          8793959.681193719,
          11081817.459368674,
          5180882.986810172
         ],
         "yaxis": "y"
        }
       ],
       "layout": {
        "barmode": "relative",
        "legend": {
         "title": {
          "text": "PRESIDENTE"
         },
         "tracegroupgap": 0
        },
        "template": {
         "data": {
          "bar": [
           {
            "error_x": {
             "color": "#2a3f5f"
            },
            "error_y": {
             "color": "#2a3f5f"
            },
            "marker": {
             "line": {
              "color": "#E5ECF6",
              "width": 0.5
             },
             "pattern": {
              "fillmode": "overlay",
              "size": 10,
              "solidity": 0.2
             }
            },
            "type": "bar"
           }
          ],
          "barpolar": [
           {
            "marker": {
             "line": {
              "color": "#E5ECF6",
              "width": 0.5
             },
             "pattern": {
              "fillmode": "overlay",
              "size": 10,
              "solidity": 0.2
             }
            },
            "type": "barpolar"
           }
          ],
          "carpet": [
           {
            "aaxis": {
             "endlinecolor": "#2a3f5f",
             "gridcolor": "white",
             "linecolor": "white",
             "minorgridcolor": "white",
             "startlinecolor": "#2a3f5f"
            },
            "baxis": {
             "endlinecolor": "#2a3f5f",
             "gridcolor": "white",
             "linecolor": "white",
             "minorgridcolor": "white",
             "startlinecolor": "#2a3f5f"
            },
            "type": "carpet"
           }
          ],
          "choropleth": [
           {
            "colorbar": {
             "outlinewidth": 0,
             "ticks": ""
            },
            "type": "choropleth"
           }
          ],
          "contour": [
           {
            "colorbar": {
             "outlinewidth": 0,
             "ticks": ""
            },
            "colorscale": [
             [
              0,
              "#0d0887"
             ],
             [
              0.1111111111111111,
              "#46039f"
             ],
             [
              0.2222222222222222,
              "#7201a8"
             ],
             [
              0.3333333333333333,
              "#9c179e"
             ],
             [
              0.4444444444444444,
              "#bd3786"
             ],
             [
              0.5555555555555556,
              "#d8576b"
             ],
             [
              0.6666666666666666,
              "#ed7953"
             ],
             [
              0.7777777777777778,
              "#fb9f3a"
             ],
             [
              0.8888888888888888,
              "#fdca26"
             ],
             [
              1,
              "#f0f921"
             ]
            ],
            "type": "contour"
           }
          ],
          "contourcarpet": [
           {
            "colorbar": {
             "outlinewidth": 0,
             "ticks": ""
            },
            "type": "contourcarpet"
           }
          ],
          "heatmap": [
           {
            "colorbar": {
             "outlinewidth": 0,
             "ticks": ""
            },
            "colorscale": [
             [
              0,
              "#0d0887"
             ],
             [
              0.1111111111111111,
              "#46039f"
             ],
             [
              0.2222222222222222,
              "#7201a8"
             ],
             [
              0.3333333333333333,
              "#9c179e"
             ],
             [
              0.4444444444444444,
              "#bd3786"
             ],
             [
              0.5555555555555556,
              "#d8576b"
             ],
             [
              0.6666666666666666,
              "#ed7953"
             ],
             [
              0.7777777777777778,
              "#fb9f3a"
             ],
             [
              0.8888888888888888,
              "#fdca26"
             ],
             [
              1,
              "#f0f921"
             ]
            ],
            "type": "heatmap"
           }
          ],
          "heatmapgl": [
           {
            "colorbar": {
             "outlinewidth": 0,
             "ticks": ""
            },
            "colorscale": [
             [
              0,
              "#0d0887"
             ],
             [
              0.1111111111111111,
              "#46039f"
             ],
             [
              0.2222222222222222,
              "#7201a8"
             ],
             [
              0.3333333333333333,
              "#9c179e"
             ],
             [
              0.4444444444444444,
              "#bd3786"
             ],
             [
              0.5555555555555556,
              "#d8576b"
             ],
             [
              0.6666666666666666,
              "#ed7953"
             ],
             [
              0.7777777777777778,
              "#fb9f3a"
             ],
             [
              0.8888888888888888,
              "#fdca26"
             ],
             [
              1,
              "#f0f921"
             ]
            ],
            "type": "heatmapgl"
           }
          ],
          "histogram": [
           {
            "marker": {
             "pattern": {
              "fillmode": "overlay",
              "size": 10,
              "solidity": 0.2
             }
            },
            "type": "histogram"
           }
          ],
          "histogram2d": [
           {
            "colorbar": {
             "outlinewidth": 0,
             "ticks": ""
            },
            "colorscale": [
             [
              0,
              "#0d0887"
             ],
             [
              0.1111111111111111,
              "#46039f"
             ],
             [
              0.2222222222222222,
              "#7201a8"
             ],
             [
              0.3333333333333333,
              "#9c179e"
             ],
             [
              0.4444444444444444,
              "#bd3786"
             ],
             [
              0.5555555555555556,
              "#d8576b"
             ],
             [
              0.6666666666666666,
              "#ed7953"
             ],
             [
              0.7777777777777778,
              "#fb9f3a"
             ],
             [
              0.8888888888888888,
              "#fdca26"
             ],
             [
              1,
              "#f0f921"
             ]
            ],
            "type": "histogram2d"
           }
          ],
          "histogram2dcontour": [
           {
            "colorbar": {
             "outlinewidth": 0,
             "ticks": ""
            },
            "colorscale": [
             [
              0,
              "#0d0887"
             ],
             [
              0.1111111111111111,
              "#46039f"
             ],
             [
              0.2222222222222222,
              "#7201a8"
             ],
             [
              0.3333333333333333,
              "#9c179e"
             ],
             [
              0.4444444444444444,
              "#bd3786"
             ],
             [
              0.5555555555555556,
              "#d8576b"
             ],
             [
              0.6666666666666666,
              "#ed7953"
             ],
             [
              0.7777777777777778,
              "#fb9f3a"
             ],
             [
              0.8888888888888888,
              "#fdca26"
             ],
             [
              1,
              "#f0f921"
             ]
            ],
            "type": "histogram2dcontour"
           }
          ],
          "mesh3d": [
           {
            "colorbar": {
             "outlinewidth": 0,
             "ticks": ""
            },
            "type": "mesh3d"
           }
          ],
          "parcoords": [
           {
            "line": {
             "colorbar": {
              "outlinewidth": 0,
              "ticks": ""
             }
            },
            "type": "parcoords"
           }
          ],
          "pie": [
           {
            "automargin": true,
            "type": "pie"
           }
          ],
          "scatter": [
           {
            "fillpattern": {
             "fillmode": "overlay",
             "size": 10,
             "solidity": 0.2
            },
            "type": "scatter"
           }
          ],
          "scatter3d": [
           {
            "line": {
             "colorbar": {
              "outlinewidth": 0,
              "ticks": ""
             }
            },
            "marker": {
             "colorbar": {
              "outlinewidth": 0,
              "ticks": ""
             }
            },
            "type": "scatter3d"
           }
          ],
          "scattercarpet": [
           {
            "marker": {
             "colorbar": {
              "outlinewidth": 0,
              "ticks": ""
             }
            },
            "type": "scattercarpet"
           }
          ],
          "scattergeo": [
           {
            "marker": {
             "colorbar": {
              "outlinewidth": 0,
              "ticks": ""
             }
            },
            "type": "scattergeo"
           }
          ],
          "scattergl": [
           {
            "marker": {
             "colorbar": {
              "outlinewidth": 0,
              "ticks": ""
             }
            },
            "type": "scattergl"
           }
          ],
          "scattermapbox": [
           {
            "marker": {
             "colorbar": {
              "outlinewidth": 0,
              "ticks": ""
             }
            },
            "type": "scattermapbox"
           }
          ],
          "scatterpolar": [
           {
            "marker": {
             "colorbar": {
              "outlinewidth": 0,
              "ticks": ""
             }
            },
            "type": "scatterpolar"
           }
          ],
          "scatterpolargl": [
           {
            "marker": {
             "colorbar": {
              "outlinewidth": 0,
              "ticks": ""
             }
            },
            "type": "scatterpolargl"
           }
          ],
          "scatterternary": [
           {
            "marker": {
             "colorbar": {
              "outlinewidth": 0,
              "ticks": ""
             }
            },
            "type": "scatterternary"
           }
          ],
          "surface": [
           {
            "colorbar": {
             "outlinewidth": 0,
             "ticks": ""
            },
            "colorscale": [
             [
              0,
              "#0d0887"
             ],
             [
              0.1111111111111111,
              "#46039f"
             ],
             [
              0.2222222222222222,
              "#7201a8"
             ],
             [
              0.3333333333333333,
              "#9c179e"
             ],
             [
              0.4444444444444444,
              "#bd3786"
             ],
             [
              0.5555555555555556,
              "#d8576b"
             ],
             [
              0.6666666666666666,
              "#ed7953"
             ],
             [
              0.7777777777777778,
              "#fb9f3a"
             ],
             [
              0.8888888888888888,
              "#fdca26"
             ],
             [
              1,
              "#f0f921"
             ]
            ],
            "type": "surface"
           }
          ],
          "table": [
           {
            "cells": {
             "fill": {
              "color": "#EBF0F8"
             },
             "line": {
              "color": "white"
             }
            },
            "header": {
             "fill": {
              "color": "#C8D4E3"
             },
             "line": {
              "color": "white"
             }
            },
            "type": "table"
           }
          ]
         },
         "layout": {
          "annotationdefaults": {
           "arrowcolor": "#2a3f5f",
           "arrowhead": 0,
           "arrowwidth": 1
          },
          "autotypenumbers": "strict",
          "coloraxis": {
           "colorbar": {
            "outlinewidth": 0,
            "ticks": ""
           }
          },
          "colorscale": {
           "diverging": [
            [
             0,
             "#8e0152"
            ],
            [
             0.1,
             "#c51b7d"
            ],
            [
             0.2,
             "#de77ae"
            ],
            [
             0.3,
             "#f1b6da"
            ],
            [
             0.4,
             "#fde0ef"
            ],
            [
             0.5,
             "#f7f7f7"
            ],
            [
             0.6,
             "#e6f5d0"
            ],
            [
             0.7,
             "#b8e186"
            ],
            [
             0.8,
             "#7fbc41"
            ],
            [
             0.9,
             "#4d9221"
            ],
            [
             1,
             "#276419"
            ]
           ],
           "sequential": [
            [
             0,
             "#0d0887"
            ],
            [
             0.1111111111111111,
             "#46039f"
            ],
            [
             0.2222222222222222,
             "#7201a8"
            ],
            [
             0.3333333333333333,
             "#9c179e"
            ],
            [
             0.4444444444444444,
             "#bd3786"
            ],
            [
             0.5555555555555556,
             "#d8576b"
            ],
            [
             0.6666666666666666,
             "#ed7953"
            ],
            [
             0.7777777777777778,
             "#fb9f3a"
            ],
            [
             0.8888888888888888,
             "#fdca26"
            ],
            [
             1,
             "#f0f921"
            ]
           ],
           "sequentialminus": [
            [
             0,
             "#0d0887"
            ],
            [
             0.1111111111111111,
             "#46039f"
            ],
            [
             0.2222222222222222,
             "#7201a8"
            ],
            [
             0.3333333333333333,
             "#9c179e"
            ],
            [
             0.4444444444444444,
             "#bd3786"
            ],
            [
             0.5555555555555556,
             "#d8576b"
            ],
            [
             0.6666666666666666,
             "#ed7953"
            ],
            [
             0.7777777777777778,
             "#fb9f3a"
            ],
            [
             0.8888888888888888,
             "#fdca26"
            ],
            [
             1,
             "#f0f921"
            ]
           ]
          },
          "colorway": [
           "#636efa",
           "#EF553B",
           "#00cc96",
           "#ab63fa",
           "#FFA15A",
           "#19d3f3",
           "#FF6692",
           "#B6E880",
           "#FF97FF",
           "#FECB52"
          ],
          "font": {
           "color": "#2a3f5f"
          },
          "geo": {
           "bgcolor": "white",
           "lakecolor": "white",
           "landcolor": "#E5ECF6",
           "showlakes": true,
           "showland": true,
           "subunitcolor": "white"
          },
          "hoverlabel": {
           "align": "left"
          },
          "hovermode": "closest",
          "mapbox": {
           "style": "light"
          },
          "paper_bgcolor": "white",
          "plot_bgcolor": "#E5ECF6",
          "polar": {
           "angularaxis": {
            "gridcolor": "white",
            "linecolor": "white",
            "ticks": ""
           },
           "bgcolor": "#E5ECF6",
           "radialaxis": {
            "gridcolor": "white",
            "linecolor": "white",
            "ticks": ""
           }
          },
          "scene": {
           "xaxis": {
            "backgroundcolor": "#E5ECF6",
            "gridcolor": "white",
            "gridwidth": 2,
            "linecolor": "white",
            "showbackground": true,
            "ticks": "",
            "zerolinecolor": "white"
           },
           "yaxis": {
            "backgroundcolor": "#E5ECF6",
            "gridcolor": "white",
            "gridwidth": 2,
            "linecolor": "white",
            "showbackground": true,
            "ticks": "",
            "zerolinecolor": "white"
           },
           "zaxis": {
            "backgroundcolor": "#E5ECF6",
            "gridcolor": "white",
            "gridwidth": 2,
            "linecolor": "white",
            "showbackground": true,
            "ticks": "",
            "zerolinecolor": "white"
           }
          },
          "shapedefaults": {
           "line": {
            "color": "#2a3f5f"
           }
          },
          "ternary": {
           "aaxis": {
            "gridcolor": "white",
            "linecolor": "white",
            "ticks": ""
           },
           "baxis": {
            "gridcolor": "white",
            "linecolor": "white",
            "ticks": ""
           },
           "bgcolor": "#E5ECF6",
           "caxis": {
            "gridcolor": "white",
            "linecolor": "white",
            "ticks": ""
           }
          },
          "title": {
           "x": 0.05
          },
          "xaxis": {
           "automargin": true,
           "gridcolor": "white",
           "linecolor": "white",
           "ticks": "",
           "title": {
            "standoff": 15
           },
           "zerolinecolor": "white",
           "zerolinewidth": 2
          },
          "yaxis": {
           "automargin": true,
           "gridcolor": "white",
           "linecolor": "white",
           "ticks": "",
           "title": {
            "standoff": 15
           },
           "zerolinecolor": "white",
           "zerolinewidth": 2
          }
         }
        },
        "title": {
         "text": "Gastos do cartão presidencial por presidente"
        },
        "xaxis": {
         "anchor": "y",
         "domain": [
          0,
          1
         ],
         "tickangle": 45,
         "tickvals": [
          2003,
          2004,
          2005,
          2006,
          2007,
          2008,
          2009,
          2010,
          2011,
          2012,
          2013,
          2014,
          2015,
          2016,
          2017,
          2018,
          2019,
          2020,
          2021,
          2022
         ],
         "title": {
          "text": "ANO"
         }
        },
        "yaxis": {
         "anchor": "x",
         "domain": [
          0,
          1
         ],
         "title": {
          "text": "Valor em milhões (corrigido pelo IPCA)"
         }
        }
       }
      }
     },
     "metadata": {},
     "output_type": "display_data"
    }
   ],
   "source": [
    "fig = px.bar(gastos_presidente, x='ANO', y=\"VALOR_CORRIGIDO\", color='PRES',\n",
    "             title=\"Gastos do cartão presidencial por presidente\",\n",
    "             labels={\"VALOR_CORRIGIDO\": \"Valor em milhões (corrigido pelo IPCA)\", 'PRES': \"PRESIDENTE\"})\n",
    "\n",
    "fig = fig.update_xaxes(tickangle=45, tickvals=gastos_presidente['ANO'][::])\n",
    "fig.show()"
   ]
  },
  {
   "cell_type": "code",
   "execution_count": 20,
   "metadata": {},
   "outputs": [
    {
     "data": {
      "text/html": [
       "<div>\n",
       "<style scoped>\n",
       "    .dataframe tbody tr th:only-of-type {\n",
       "        vertical-align: middle;\n",
       "    }\n",
       "\n",
       "    .dataframe tbody tr th {\n",
       "        vertical-align: top;\n",
       "    }\n",
       "\n",
       "    .dataframe thead th {\n",
       "        text-align: right;\n",
       "    }\n",
       "</style>\n",
       "<table border=\"1\" class=\"dataframe\">\n",
       "  <thead>\n",
       "    <tr style=\"text-align: right;\">\n",
       "      <th></th>\n",
       "      <th>PRES</th>\n",
       "      <th>VALOR_NUM</th>\n",
       "    </tr>\n",
       "  </thead>\n",
       "  <tbody>\n",
       "    <tr>\n",
       "      <th>0</th>\n",
       "      <td>LULA_1</td>\n",
       "      <td>22050815.53</td>\n",
       "    </tr>\n",
       "    <tr>\n",
       "      <th>1</th>\n",
       "      <td>LULA_2</td>\n",
       "      <td>21938821.39</td>\n",
       "    </tr>\n",
       "    <tr>\n",
       "      <th>2</th>\n",
       "      <td>DILMA_1</td>\n",
       "      <td>24513516.26</td>\n",
       "    </tr>\n",
       "    <tr>\n",
       "      <th>3</th>\n",
       "      <td>DILMA_2</td>\n",
       "      <td>9899205.36</td>\n",
       "    </tr>\n",
       "    <tr>\n",
       "      <th>4</th>\n",
       "      <td>TEMER</td>\n",
       "      <td>8869681.44</td>\n",
       "    </tr>\n",
       "    <tr>\n",
       "      <th>5</th>\n",
       "      <td>BOLSONARO</td>\n",
       "      <td>27621657.23</td>\n",
       "    </tr>\n",
       "  </tbody>\n",
       "</table>\n",
       "</div>"
      ],
      "text/plain": [
       "        PRES    VALOR_NUM\n",
       "0     LULA_1  22050815.53\n",
       "1     LULA_2  21938821.39\n",
       "2    DILMA_1  24513516.26\n",
       "3    DILMA_2   9899205.36\n",
       "4      TEMER   8869681.44\n",
       "5  BOLSONARO  27621657.23"
      ]
     },
     "execution_count": 20,
     "metadata": {},
     "output_type": "execute_result"
    }
   ],
   "source": [
    "# Tabela por andato presidencial\n",
    "\n",
    "lula_mandato_1 = gastos_presidente.loc[0:3].groupby([\"PRES\"]).agg({\"VALOR_NUM\": sum}).reset_index()\n",
    "lula_mandato_1['PRES'] = 'LULA_1'\n",
    "\n",
    "lula_mandato_2 = gastos_presidente.loc[4:7].groupby([\"PRES\"]).agg({\"VALOR_NUM\": sum}).reset_index()\n",
    "lula_mandato_2['PRES'] = 'LULA_2'\n",
    "\n",
    "dilma_mandato_1 = gastos_presidente.loc[8:11].groupby([\"PRES\"]).agg({\"VALOR_NUM\": sum}).reset_index()\n",
    "dilma_mandato_1['PRES'] = 'DILMA_1'\n",
    "\n",
    "dilma_mandato_2 = gastos_presidente.loc[12:13].groupby([\"PRES\"]).agg({\"VALOR_NUM\": sum}).reset_index()\n",
    "dilma_mandato_2['PRES'] = 'DILMA_2'\n",
    "\n",
    "temer = gastos_presidente.loc[14:15].groupby([\"PRES\"]).agg({\"VALOR_NUM\": sum}).reset_index()\n",
    "bolsonaro = gastos_presidente.loc[16:].groupby([\"PRES\"]).agg({\"VALOR_NUM\": sum}).reset_index()\n",
    "bolsonaro\n",
    "\n",
    "gastos_acumulados = pd.concat([lula_mandato_1, lula_mandato_2, dilma_mandato_1, dilma_mandato_2, temer, bolsonaro], axis=0, ignore_index=True)\n",
    "gastos_acumulados"
   ]
  },
  {
   "cell_type": "code",
   "execution_count": 21,
   "metadata": {},
   "outputs": [
    {
     "data": {
      "application/vnd.plotly.v1+json": {
       "config": {
        "plotlyServerURL": "https://plot.ly"
       },
       "data": [
        {
         "alignmentgroup": "True",
         "hovertemplate": "Presidente=%{x}<br>Valor em milhões    *sem correção da inflação=%{y}<extra></extra>",
         "legendgroup": "LULA_1",
         "marker": {
          "color": "#636efa",
          "pattern": {
           "shape": ""
          }
         },
         "name": "LULA_1",
         "offsetgroup": "LULA_1",
         "orientation": "v",
         "showlegend": true,
         "textposition": "auto",
         "type": "bar",
         "x": [
          "LULA_1"
         ],
         "xaxis": "x",
         "y": [
          22050815.53
         ],
         "yaxis": "y"
        },
        {
         "alignmentgroup": "True",
         "hovertemplate": "Presidente=%{x}<br>Valor em milhões    *sem correção da inflação=%{y}<extra></extra>",
         "legendgroup": "LULA_2",
         "marker": {
          "color": "#EF553B",
          "pattern": {
           "shape": ""
          }
         },
         "name": "LULA_2",
         "offsetgroup": "LULA_2",
         "orientation": "v",
         "showlegend": true,
         "textposition": "auto",
         "type": "bar",
         "x": [
          "LULA_2"
         ],
         "xaxis": "x",
         "y": [
          21938821.39
         ],
         "yaxis": "y"
        },
        {
         "alignmentgroup": "True",
         "hovertemplate": "Presidente=%{x}<br>Valor em milhões    *sem correção da inflação=%{y}<extra></extra>",
         "legendgroup": "DILMA_1",
         "marker": {
          "color": "#00cc96",
          "pattern": {
           "shape": ""
          }
         },
         "name": "DILMA_1",
         "offsetgroup": "DILMA_1",
         "orientation": "v",
         "showlegend": true,
         "textposition": "auto",
         "type": "bar",
         "x": [
          "DILMA_1"
         ],
         "xaxis": "x",
         "y": [
          24513516.259999998
         ],
         "yaxis": "y"
        },
        {
         "alignmentgroup": "True",
         "hovertemplate": "Presidente=%{x}<br>Valor em milhões    *sem correção da inflação=%{y}<extra></extra>",
         "legendgroup": "DILMA_2",
         "marker": {
          "color": "#ab63fa",
          "pattern": {
           "shape": ""
          }
         },
         "name": "DILMA_2",
         "offsetgroup": "DILMA_2",
         "orientation": "v",
         "showlegend": true,
         "textposition": "auto",
         "type": "bar",
         "x": [
          "DILMA_2"
         ],
         "xaxis": "x",
         "y": [
          9899205.36
         ],
         "yaxis": "y"
        },
        {
         "alignmentgroup": "True",
         "hovertemplate": "Presidente=%{x}<br>Valor em milhões    *sem correção da inflação=%{y}<extra></extra>",
         "legendgroup": "TEMER",
         "marker": {
          "color": "#FFA15A",
          "pattern": {
           "shape": ""
          }
         },
         "name": "TEMER",
         "offsetgroup": "TEMER",
         "orientation": "v",
         "showlegend": true,
         "textposition": "auto",
         "type": "bar",
         "x": [
          "TEMER"
         ],
         "xaxis": "x",
         "y": [
          8869681.44
         ],
         "yaxis": "y"
        },
        {
         "alignmentgroup": "True",
         "hovertemplate": "Presidente=%{x}<br>Valor em milhões    *sem correção da inflação=%{y}<extra></extra>",
         "legendgroup": "BOLSONARO",
         "marker": {
          "color": "#19d3f3",
          "pattern": {
           "shape": ""
          }
         },
         "name": "BOLSONARO",
         "offsetgroup": "BOLSONARO",
         "orientation": "v",
         "showlegend": true,
         "textposition": "auto",
         "type": "bar",
         "x": [
          "BOLSONARO"
         ],
         "xaxis": "x",
         "y": [
          27621657.229999997
         ],
         "yaxis": "y"
        }
       ],
       "layout": {
        "barmode": "relative",
        "legend": {
         "title": {
          "text": "Presidente"
         },
         "tracegroupgap": 0
        },
        "template": {
         "data": {
          "bar": [
           {
            "error_x": {
             "color": "#2a3f5f"
            },
            "error_y": {
             "color": "#2a3f5f"
            },
            "marker": {
             "line": {
              "color": "#E5ECF6",
              "width": 0.5
             },
             "pattern": {
              "fillmode": "overlay",
              "size": 10,
              "solidity": 0.2
             }
            },
            "type": "bar"
           }
          ],
          "barpolar": [
           {
            "marker": {
             "line": {
              "color": "#E5ECF6",
              "width": 0.5
             },
             "pattern": {
              "fillmode": "overlay",
              "size": 10,
              "solidity": 0.2
             }
            },
            "type": "barpolar"
           }
          ],
          "carpet": [
           {
            "aaxis": {
             "endlinecolor": "#2a3f5f",
             "gridcolor": "white",
             "linecolor": "white",
             "minorgridcolor": "white",
             "startlinecolor": "#2a3f5f"
            },
            "baxis": {
             "endlinecolor": "#2a3f5f",
             "gridcolor": "white",
             "linecolor": "white",
             "minorgridcolor": "white",
             "startlinecolor": "#2a3f5f"
            },
            "type": "carpet"
           }
          ],
          "choropleth": [
           {
            "colorbar": {
             "outlinewidth": 0,
             "ticks": ""
            },
            "type": "choropleth"
           }
          ],
          "contour": [
           {
            "colorbar": {
             "outlinewidth": 0,
             "ticks": ""
            },
            "colorscale": [
             [
              0,
              "#0d0887"
             ],
             [
              0.1111111111111111,
              "#46039f"
             ],
             [
              0.2222222222222222,
              "#7201a8"
             ],
             [
              0.3333333333333333,
              "#9c179e"
             ],
             [
              0.4444444444444444,
              "#bd3786"
             ],
             [
              0.5555555555555556,
              "#d8576b"
             ],
             [
              0.6666666666666666,
              "#ed7953"
             ],
             [
              0.7777777777777778,
              "#fb9f3a"
             ],
             [
              0.8888888888888888,
              "#fdca26"
             ],
             [
              1,
              "#f0f921"
             ]
            ],
            "type": "contour"
           }
          ],
          "contourcarpet": [
           {
            "colorbar": {
             "outlinewidth": 0,
             "ticks": ""
            },
            "type": "contourcarpet"
           }
          ],
          "heatmap": [
           {
            "colorbar": {
             "outlinewidth": 0,
             "ticks": ""
            },
            "colorscale": [
             [
              0,
              "#0d0887"
             ],
             [
              0.1111111111111111,
              "#46039f"
             ],
             [
              0.2222222222222222,
              "#7201a8"
             ],
             [
              0.3333333333333333,
              "#9c179e"
             ],
             [
              0.4444444444444444,
              "#bd3786"
             ],
             [
              0.5555555555555556,
              "#d8576b"
             ],
             [
              0.6666666666666666,
              "#ed7953"
             ],
             [
              0.7777777777777778,
              "#fb9f3a"
             ],
             [
              0.8888888888888888,
              "#fdca26"
             ],
             [
              1,
              "#f0f921"
             ]
            ],
            "type": "heatmap"
           }
          ],
          "heatmapgl": [
           {
            "colorbar": {
             "outlinewidth": 0,
             "ticks": ""
            },
            "colorscale": [
             [
              0,
              "#0d0887"
             ],
             [
              0.1111111111111111,
              "#46039f"
             ],
             [
              0.2222222222222222,
              "#7201a8"
             ],
             [
              0.3333333333333333,
              "#9c179e"
             ],
             [
              0.4444444444444444,
              "#bd3786"
             ],
             [
              0.5555555555555556,
              "#d8576b"
             ],
             [
              0.6666666666666666,
              "#ed7953"
             ],
             [
              0.7777777777777778,
              "#fb9f3a"
             ],
             [
              0.8888888888888888,
              "#fdca26"
             ],
             [
              1,
              "#f0f921"
             ]
            ],
            "type": "heatmapgl"
           }
          ],
          "histogram": [
           {
            "marker": {
             "pattern": {
              "fillmode": "overlay",
              "size": 10,
              "solidity": 0.2
             }
            },
            "type": "histogram"
           }
          ],
          "histogram2d": [
           {
            "colorbar": {
             "outlinewidth": 0,
             "ticks": ""
            },
            "colorscale": [
             [
              0,
              "#0d0887"
             ],
             [
              0.1111111111111111,
              "#46039f"
             ],
             [
              0.2222222222222222,
              "#7201a8"
             ],
             [
              0.3333333333333333,
              "#9c179e"
             ],
             [
              0.4444444444444444,
              "#bd3786"
             ],
             [
              0.5555555555555556,
              "#d8576b"
             ],
             [
              0.6666666666666666,
              "#ed7953"
             ],
             [
              0.7777777777777778,
              "#fb9f3a"
             ],
             [
              0.8888888888888888,
              "#fdca26"
             ],
             [
              1,
              "#f0f921"
             ]
            ],
            "type": "histogram2d"
           }
          ],
          "histogram2dcontour": [
           {
            "colorbar": {
             "outlinewidth": 0,
             "ticks": ""
            },
            "colorscale": [
             [
              0,
              "#0d0887"
             ],
             [
              0.1111111111111111,
              "#46039f"
             ],
             [
              0.2222222222222222,
              "#7201a8"
             ],
             [
              0.3333333333333333,
              "#9c179e"
             ],
             [
              0.4444444444444444,
              "#bd3786"
             ],
             [
              0.5555555555555556,
              "#d8576b"
             ],
             [
              0.6666666666666666,
              "#ed7953"
             ],
             [
              0.7777777777777778,
              "#fb9f3a"
             ],
             [
              0.8888888888888888,
              "#fdca26"
             ],
             [
              1,
              "#f0f921"
             ]
            ],
            "type": "histogram2dcontour"
           }
          ],
          "mesh3d": [
           {
            "colorbar": {
             "outlinewidth": 0,
             "ticks": ""
            },
            "type": "mesh3d"
           }
          ],
          "parcoords": [
           {
            "line": {
             "colorbar": {
              "outlinewidth": 0,
              "ticks": ""
             }
            },
            "type": "parcoords"
           }
          ],
          "pie": [
           {
            "automargin": true,
            "type": "pie"
           }
          ],
          "scatter": [
           {
            "fillpattern": {
             "fillmode": "overlay",
             "size": 10,
             "solidity": 0.2
            },
            "type": "scatter"
           }
          ],
          "scatter3d": [
           {
            "line": {
             "colorbar": {
              "outlinewidth": 0,
              "ticks": ""
             }
            },
            "marker": {
             "colorbar": {
              "outlinewidth": 0,
              "ticks": ""
             }
            },
            "type": "scatter3d"
           }
          ],
          "scattercarpet": [
           {
            "marker": {
             "colorbar": {
              "outlinewidth": 0,
              "ticks": ""
             }
            },
            "type": "scattercarpet"
           }
          ],
          "scattergeo": [
           {
            "marker": {
             "colorbar": {
              "outlinewidth": 0,
              "ticks": ""
             }
            },
            "type": "scattergeo"
           }
          ],
          "scattergl": [
           {
            "marker": {
             "colorbar": {
              "outlinewidth": 0,
              "ticks": ""
             }
            },
            "type": "scattergl"
           }
          ],
          "scattermapbox": [
           {
            "marker": {
             "colorbar": {
              "outlinewidth": 0,
              "ticks": ""
             }
            },
            "type": "scattermapbox"
           }
          ],
          "scatterpolar": [
           {
            "marker": {
             "colorbar": {
              "outlinewidth": 0,
              "ticks": ""
             }
            },
            "type": "scatterpolar"
           }
          ],
          "scatterpolargl": [
           {
            "marker": {
             "colorbar": {
              "outlinewidth": 0,
              "ticks": ""
             }
            },
            "type": "scatterpolargl"
           }
          ],
          "scatterternary": [
           {
            "marker": {
             "colorbar": {
              "outlinewidth": 0,
              "ticks": ""
             }
            },
            "type": "scatterternary"
           }
          ],
          "surface": [
           {
            "colorbar": {
             "outlinewidth": 0,
             "ticks": ""
            },
            "colorscale": [
             [
              0,
              "#0d0887"
             ],
             [
              0.1111111111111111,
              "#46039f"
             ],
             [
              0.2222222222222222,
              "#7201a8"
             ],
             [
              0.3333333333333333,
              "#9c179e"
             ],
             [
              0.4444444444444444,
              "#bd3786"
             ],
             [
              0.5555555555555556,
              "#d8576b"
             ],
             [
              0.6666666666666666,
              "#ed7953"
             ],
             [
              0.7777777777777778,
              "#fb9f3a"
             ],
             [
              0.8888888888888888,
              "#fdca26"
             ],
             [
              1,
              "#f0f921"
             ]
            ],
            "type": "surface"
           }
          ],
          "table": [
           {
            "cells": {
             "fill": {
              "color": "#EBF0F8"
             },
             "line": {
              "color": "white"
             }
            },
            "header": {
             "fill": {
              "color": "#C8D4E3"
             },
             "line": {
              "color": "white"
             }
            },
            "type": "table"
           }
          ]
         },
         "layout": {
          "annotationdefaults": {
           "arrowcolor": "#2a3f5f",
           "arrowhead": 0,
           "arrowwidth": 1
          },
          "autotypenumbers": "strict",
          "coloraxis": {
           "colorbar": {
            "outlinewidth": 0,
            "ticks": ""
           }
          },
          "colorscale": {
           "diverging": [
            [
             0,
             "#8e0152"
            ],
            [
             0.1,
             "#c51b7d"
            ],
            [
             0.2,
             "#de77ae"
            ],
            [
             0.3,
             "#f1b6da"
            ],
            [
             0.4,
             "#fde0ef"
            ],
            [
             0.5,
             "#f7f7f7"
            ],
            [
             0.6,
             "#e6f5d0"
            ],
            [
             0.7,
             "#b8e186"
            ],
            [
             0.8,
             "#7fbc41"
            ],
            [
             0.9,
             "#4d9221"
            ],
            [
             1,
             "#276419"
            ]
           ],
           "sequential": [
            [
             0,
             "#0d0887"
            ],
            [
             0.1111111111111111,
             "#46039f"
            ],
            [
             0.2222222222222222,
             "#7201a8"
            ],
            [
             0.3333333333333333,
             "#9c179e"
            ],
            [
             0.4444444444444444,
             "#bd3786"
            ],
            [
             0.5555555555555556,
             "#d8576b"
            ],
            [
             0.6666666666666666,
             "#ed7953"
            ],
            [
             0.7777777777777778,
             "#fb9f3a"
            ],
            [
             0.8888888888888888,
             "#fdca26"
            ],
            [
             1,
             "#f0f921"
            ]
           ],
           "sequentialminus": [
            [
             0,
             "#0d0887"
            ],
            [
             0.1111111111111111,
             "#46039f"
            ],
            [
             0.2222222222222222,
             "#7201a8"
            ],
            [
             0.3333333333333333,
             "#9c179e"
            ],
            [
             0.4444444444444444,
             "#bd3786"
            ],
            [
             0.5555555555555556,
             "#d8576b"
            ],
            [
             0.6666666666666666,
             "#ed7953"
            ],
            [
             0.7777777777777778,
             "#fb9f3a"
            ],
            [
             0.8888888888888888,
             "#fdca26"
            ],
            [
             1,
             "#f0f921"
            ]
           ]
          },
          "colorway": [
           "#636efa",
           "#EF553B",
           "#00cc96",
           "#ab63fa",
           "#FFA15A",
           "#19d3f3",
           "#FF6692",
           "#B6E880",
           "#FF97FF",
           "#FECB52"
          ],
          "font": {
           "color": "#2a3f5f"
          },
          "geo": {
           "bgcolor": "white",
           "lakecolor": "white",
           "landcolor": "#E5ECF6",
           "showlakes": true,
           "showland": true,
           "subunitcolor": "white"
          },
          "hoverlabel": {
           "align": "left"
          },
          "hovermode": "closest",
          "mapbox": {
           "style": "light"
          },
          "paper_bgcolor": "white",
          "plot_bgcolor": "#E5ECF6",
          "polar": {
           "angularaxis": {
            "gridcolor": "white",
            "linecolor": "white",
            "ticks": ""
           },
           "bgcolor": "#E5ECF6",
           "radialaxis": {
            "gridcolor": "white",
            "linecolor": "white",
            "ticks": ""
           }
          },
          "scene": {
           "xaxis": {
            "backgroundcolor": "#E5ECF6",
            "gridcolor": "white",
            "gridwidth": 2,
            "linecolor": "white",
            "showbackground": true,
            "ticks": "",
            "zerolinecolor": "white"
           },
           "yaxis": {
            "backgroundcolor": "#E5ECF6",
            "gridcolor": "white",
            "gridwidth": 2,
            "linecolor": "white",
            "showbackground": true,
            "ticks": "",
            "zerolinecolor": "white"
           },
           "zaxis": {
            "backgroundcolor": "#E5ECF6",
            "gridcolor": "white",
            "gridwidth": 2,
            "linecolor": "white",
            "showbackground": true,
            "ticks": "",
            "zerolinecolor": "white"
           }
          },
          "shapedefaults": {
           "line": {
            "color": "#2a3f5f"
           }
          },
          "ternary": {
           "aaxis": {
            "gridcolor": "white",
            "linecolor": "white",
            "ticks": ""
           },
           "baxis": {
            "gridcolor": "white",
            "linecolor": "white",
            "ticks": ""
           },
           "bgcolor": "#E5ECF6",
           "caxis": {
            "gridcolor": "white",
            "linecolor": "white",
            "ticks": ""
           }
          },
          "title": {
           "x": 0.05
          },
          "xaxis": {
           "automargin": true,
           "gridcolor": "white",
           "linecolor": "white",
           "ticks": "",
           "title": {
            "standoff": 15
           },
           "zerolinecolor": "white",
           "zerolinewidth": 2
          },
          "yaxis": {
           "automargin": true,
           "gridcolor": "white",
           "linecolor": "white",
           "ticks": "",
           "title": {
            "standoff": 15
           },
           "zerolinecolor": "white",
           "zerolinewidth": 2
          }
         }
        },
        "title": {
         "text": "Gasto acumulado do cartão presidencial por mandato"
        },
        "xaxis": {
         "anchor": "y",
         "categoryarray": [
          "LULA_1",
          "LULA_2",
          "DILMA_1",
          "DILMA_2",
          "TEMER",
          "BOLSONARO"
         ],
         "categoryorder": "array",
         "domain": [
          0,
          1
         ],
         "title": {
          "text": "Presidente"
         }
        },
        "yaxis": {
         "anchor": "x",
         "domain": [
          0,
          1
         ],
         "title": {
          "text": "Valor em milhões    *sem correção da inflação"
         }
        }
       }
      }
     },
     "metadata": {},
     "output_type": "display_data"
    }
   ],
   "source": [
    "#Gráfico por mandato presidencial\n",
    "fig_acumulado = px.bar(gastos_acumulados, x='PRES', y='VALOR_NUM', color='PRES', title='Gasto acumulado do cartão presidencial por mandato',\n",
    "labels={\"VALOR_NUM\": \"Valor em milhões    *sem correção da inflação\", 'PRES': \"Presidente\"})\n",
    "\n",
    "fig_acumulado.show()"
   ]
  },
  {
   "cell_type": "code",
   "execution_count": 22,
   "metadata": {},
   "outputs": [
    {
     "data": {
      "text/html": [
       "<div>\n",
       "<style scoped>\n",
       "    .dataframe tbody tr th:only-of-type {\n",
       "        vertical-align: middle;\n",
       "    }\n",
       "\n",
       "    .dataframe tbody tr th {\n",
       "        vertical-align: top;\n",
       "    }\n",
       "\n",
       "    .dataframe thead th {\n",
       "        text-align: right;\n",
       "    }\n",
       "</style>\n",
       "<table border=\"1\" class=\"dataframe\">\n",
       "  <thead>\n",
       "    <tr style=\"text-align: right;\">\n",
       "      <th></th>\n",
       "      <th>PRES</th>\n",
       "      <th>VALOR_CORRIGIDO</th>\n",
       "    </tr>\n",
       "  </thead>\n",
       "  <tbody>\n",
       "    <tr>\n",
       "      <th>0</th>\n",
       "      <td>LULA_1</td>\n",
       "      <td>6.047393e+07</td>\n",
       "    </tr>\n",
       "    <tr>\n",
       "      <th>1</th>\n",
       "      <td>LULA_2</td>\n",
       "      <td>4.886856e+07</td>\n",
       "    </tr>\n",
       "    <tr>\n",
       "      <th>2</th>\n",
       "      <td>DILMA_1</td>\n",
       "      <td>4.334890e+07</td>\n",
       "    </tr>\n",
       "    <tr>\n",
       "      <th>3</th>\n",
       "      <td>DILMA_2</td>\n",
       "      <td>1.445050e+07</td>\n",
       "    </tr>\n",
       "    <tr>\n",
       "      <th>4</th>\n",
       "      <td>TEMER</td>\n",
       "      <td>1.165053e+07</td>\n",
       "    </tr>\n",
       "    <tr>\n",
       "      <th>5</th>\n",
       "      <td>BOLSONARO</td>\n",
       "      <td>3.175610e+07</td>\n",
       "    </tr>\n",
       "  </tbody>\n",
       "</table>\n",
       "</div>"
      ],
      "text/plain": [
       "        PRES  VALOR_CORRIGIDO\n",
       "0     LULA_1     6.047393e+07\n",
       "1     LULA_2     4.886856e+07\n",
       "2    DILMA_1     4.334890e+07\n",
       "3    DILMA_2     1.445050e+07\n",
       "4      TEMER     1.165053e+07\n",
       "5  BOLSONARO     3.175610e+07"
      ]
     },
     "execution_count": 22,
     "metadata": {},
     "output_type": "execute_result"
    }
   ],
   "source": [
    "#tabela por mandato presidencial com valor corrigido pela inflação\n",
    "lula_mandato_1 = gastos_presidente.loc[0:3].groupby([\"PRES\"]).agg({\"VALOR_CORRIGIDO\": sum}).reset_index()\n",
    "lula_mandato_1['PRES'] = 'LULA_1'\n",
    "\n",
    "lula_mandato_2 = gastos_presidente.loc[4:7].groupby([\"PRES\"]).agg({\"VALOR_CORRIGIDO\": sum}).reset_index()\n",
    "lula_mandato_2['PRES'] = 'LULA_2'\n",
    "\n",
    "dilma_mandato_1 = gastos_presidente.loc[8:11].groupby([\"PRES\"]).agg({\"VALOR_CORRIGIDO\": sum}).reset_index()\n",
    "dilma_mandato_1['PRES'] = 'DILMA_1'\n",
    "\n",
    "dilma_mandato_2 = gastos_presidente.loc[12:13].groupby([\"PRES\"]).agg({\"VALOR_CORRIGIDO\": sum}).reset_index()\n",
    "dilma_mandato_2['PRES'] = 'DILMA_2'\n",
    "\n",
    "temer = gastos_presidente.loc[14:15].groupby([\"PRES\"]).agg({\"VALOR_CORRIGIDO\": sum}).reset_index()\n",
    "bolsonaro = gastos_presidente.loc[16:].groupby([\"PRES\"]).agg({\"VALOR_CORRIGIDO\": sum}).reset_index()\n",
    "bolsonaro\n",
    "\n",
    "gastos_acumulados_corrigidos = pd.concat([lula_mandato_1, lula_mandato_2, dilma_mandato_1, dilma_mandato_2, temer, bolsonaro], axis=0, ignore_index=True)\n",
    "gastos_acumulados_corrigidos"
   ]
  },
  {
   "cell_type": "code",
   "execution_count": 23,
   "metadata": {},
   "outputs": [
    {
     "data": {
      "application/vnd.plotly.v1+json": {
       "config": {
        "plotlyServerURL": "https://plot.ly"
       },
       "data": [
        {
         "alignmentgroup": "True",
         "hovertemplate": "Presidente=%{x}<br>Valor em milhões *corrigido pelo IPCA=%{y}<extra></extra>",
         "legendgroup": "LULA_1",
         "marker": {
          "color": "#636efa",
          "pattern": {
           "shape": ""
          }
         },
         "name": "LULA_1",
         "offsetgroup": "LULA_1",
         "orientation": "v",
         "showlegend": true,
         "textposition": "auto",
         "type": "bar",
         "x": [
          "LULA_1"
         ],
         "xaxis": "x",
         "y": [
          60473928.331556916
         ],
         "yaxis": "y"
        },
        {
         "alignmentgroup": "True",
         "hovertemplate": "Presidente=%{x}<br>Valor em milhões *corrigido pelo IPCA=%{y}<extra></extra>",
         "legendgroup": "LULA_2",
         "marker": {
          "color": "#EF553B",
          "pattern": {
           "shape": ""
          }
         },
         "name": "LULA_2",
         "offsetgroup": "LULA_2",
         "orientation": "v",
         "showlegend": true,
         "textposition": "auto",
         "type": "bar",
         "x": [
          "LULA_2"
         ],
         "xaxis": "x",
         "y": [
          48868560.77932344
         ],
         "yaxis": "y"
        },
        {
         "alignmentgroup": "True",
         "hovertemplate": "Presidente=%{x}<br>Valor em milhões *corrigido pelo IPCA=%{y}<extra></extra>",
         "legendgroup": "DILMA_1",
         "marker": {
          "color": "#00cc96",
          "pattern": {
           "shape": ""
          }
         },
         "name": "DILMA_1",
         "offsetgroup": "DILMA_1",
         "orientation": "v",
         "showlegend": true,
         "textposition": "auto",
         "type": "bar",
         "x": [
          "DILMA_1"
         ],
         "xaxis": "x",
         "y": [
          43348900.92939151
         ],
         "yaxis": "y"
        },
        {
         "alignmentgroup": "True",
         "hovertemplate": "Presidente=%{x}<br>Valor em milhões *corrigido pelo IPCA=%{y}<extra></extra>",
         "legendgroup": "DILMA_2",
         "marker": {
          "color": "#ab63fa",
          "pattern": {
           "shape": ""
          }
         },
         "name": "DILMA_2",
         "offsetgroup": "DILMA_2",
         "orientation": "v",
         "showlegend": true,
         "textposition": "auto",
         "type": "bar",
         "x": [
          "DILMA_2"
         ],
         "xaxis": "x",
         "y": [
          14450495.549341898
         ],
         "yaxis": "y"
        },
        {
         "alignmentgroup": "True",
         "hovertemplate": "Presidente=%{x}<br>Valor em milhões *corrigido pelo IPCA=%{y}<extra></extra>",
         "legendgroup": "TEMER",
         "marker": {
          "color": "#FFA15A",
          "pattern": {
           "shape": ""
          }
         },
         "name": "TEMER",
         "offsetgroup": "TEMER",
         "orientation": "v",
         "showlegend": true,
         "textposition": "auto",
         "type": "bar",
         "x": [
          "TEMER"
         ],
         "xaxis": "x",
         "y": [
          11650532.20323379
         ],
         "yaxis": "y"
        },
        {
         "alignmentgroup": "True",
         "hovertemplate": "Presidente=%{x}<br>Valor em milhões *corrigido pelo IPCA=%{y}<extra></extra>",
         "legendgroup": "BOLSONARO",
         "marker": {
          "color": "#19d3f3",
          "pattern": {
           "shape": ""
          }
         },
         "name": "BOLSONARO",
         "offsetgroup": "BOLSONARO",
         "orientation": "v",
         "showlegend": true,
         "textposition": "auto",
         "type": "bar",
         "x": [
          "BOLSONARO"
         ],
         "xaxis": "x",
         "y": [
          31756099.070096638
         ],
         "yaxis": "y"
        }
       ],
       "layout": {
        "barmode": "relative",
        "legend": {
         "title": {
          "text": "Presidente"
         },
         "tracegroupgap": 0
        },
        "template": {
         "data": {
          "bar": [
           {
            "error_x": {
             "color": "#2a3f5f"
            },
            "error_y": {
             "color": "#2a3f5f"
            },
            "marker": {
             "line": {
              "color": "#E5ECF6",
              "width": 0.5
             },
             "pattern": {
              "fillmode": "overlay",
              "size": 10,
              "solidity": 0.2
             }
            },
            "type": "bar"
           }
          ],
          "barpolar": [
           {
            "marker": {
             "line": {
              "color": "#E5ECF6",
              "width": 0.5
             },
             "pattern": {
              "fillmode": "overlay",
              "size": 10,
              "solidity": 0.2
             }
            },
            "type": "barpolar"
           }
          ],
          "carpet": [
           {
            "aaxis": {
             "endlinecolor": "#2a3f5f",
             "gridcolor": "white",
             "linecolor": "white",
             "minorgridcolor": "white",
             "startlinecolor": "#2a3f5f"
            },
            "baxis": {
             "endlinecolor": "#2a3f5f",
             "gridcolor": "white",
             "linecolor": "white",
             "minorgridcolor": "white",
             "startlinecolor": "#2a3f5f"
            },
            "type": "carpet"
           }
          ],
          "choropleth": [
           {
            "colorbar": {
             "outlinewidth": 0,
             "ticks": ""
            },
            "type": "choropleth"
           }
          ],
          "contour": [
           {
            "colorbar": {
             "outlinewidth": 0,
             "ticks": ""
            },
            "colorscale": [
             [
              0,
              "#0d0887"
             ],
             [
              0.1111111111111111,
              "#46039f"
             ],
             [
              0.2222222222222222,
              "#7201a8"
             ],
             [
              0.3333333333333333,
              "#9c179e"
             ],
             [
              0.4444444444444444,
              "#bd3786"
             ],
             [
              0.5555555555555556,
              "#d8576b"
             ],
             [
              0.6666666666666666,
              "#ed7953"
             ],
             [
              0.7777777777777778,
              "#fb9f3a"
             ],
             [
              0.8888888888888888,
              "#fdca26"
             ],
             [
              1,
              "#f0f921"
             ]
            ],
            "type": "contour"
           }
          ],
          "contourcarpet": [
           {
            "colorbar": {
             "outlinewidth": 0,
             "ticks": ""
            },
            "type": "contourcarpet"
           }
          ],
          "heatmap": [
           {
            "colorbar": {
             "outlinewidth": 0,
             "ticks": ""
            },
            "colorscale": [
             [
              0,
              "#0d0887"
             ],
             [
              0.1111111111111111,
              "#46039f"
             ],
             [
              0.2222222222222222,
              "#7201a8"
             ],
             [
              0.3333333333333333,
              "#9c179e"
             ],
             [
              0.4444444444444444,
              "#bd3786"
             ],
             [
              0.5555555555555556,
              "#d8576b"
             ],
             [
              0.6666666666666666,
              "#ed7953"
             ],
             [
              0.7777777777777778,
              "#fb9f3a"
             ],
             [
              0.8888888888888888,
              "#fdca26"
             ],
             [
              1,
              "#f0f921"
             ]
            ],
            "type": "heatmap"
           }
          ],
          "heatmapgl": [
           {
            "colorbar": {
             "outlinewidth": 0,
             "ticks": ""
            },
            "colorscale": [
             [
              0,
              "#0d0887"
             ],
             [
              0.1111111111111111,
              "#46039f"
             ],
             [
              0.2222222222222222,
              "#7201a8"
             ],
             [
              0.3333333333333333,
              "#9c179e"
             ],
             [
              0.4444444444444444,
              "#bd3786"
             ],
             [
              0.5555555555555556,
              "#d8576b"
             ],
             [
              0.6666666666666666,
              "#ed7953"
             ],
             [
              0.7777777777777778,
              "#fb9f3a"
             ],
             [
              0.8888888888888888,
              "#fdca26"
             ],
             [
              1,
              "#f0f921"
             ]
            ],
            "type": "heatmapgl"
           }
          ],
          "histogram": [
           {
            "marker": {
             "pattern": {
              "fillmode": "overlay",
              "size": 10,
              "solidity": 0.2
             }
            },
            "type": "histogram"
           }
          ],
          "histogram2d": [
           {
            "colorbar": {
             "outlinewidth": 0,
             "ticks": ""
            },
            "colorscale": [
             [
              0,
              "#0d0887"
             ],
             [
              0.1111111111111111,
              "#46039f"
             ],
             [
              0.2222222222222222,
              "#7201a8"
             ],
             [
              0.3333333333333333,
              "#9c179e"
             ],
             [
              0.4444444444444444,
              "#bd3786"
             ],
             [
              0.5555555555555556,
              "#d8576b"
             ],
             [
              0.6666666666666666,
              "#ed7953"
             ],
             [
              0.7777777777777778,
              "#fb9f3a"
             ],
             [
              0.8888888888888888,
              "#fdca26"
             ],
             [
              1,
              "#f0f921"
             ]
            ],
            "type": "histogram2d"
           }
          ],
          "histogram2dcontour": [
           {
            "colorbar": {
             "outlinewidth": 0,
             "ticks": ""
            },
            "colorscale": [
             [
              0,
              "#0d0887"
             ],
             [
              0.1111111111111111,
              "#46039f"
             ],
             [
              0.2222222222222222,
              "#7201a8"
             ],
             [
              0.3333333333333333,
              "#9c179e"
             ],
             [
              0.4444444444444444,
              "#bd3786"
             ],
             [
              0.5555555555555556,
              "#d8576b"
             ],
             [
              0.6666666666666666,
              "#ed7953"
             ],
             [
              0.7777777777777778,
              "#fb9f3a"
             ],
             [
              0.8888888888888888,
              "#fdca26"
             ],
             [
              1,
              "#f0f921"
             ]
            ],
            "type": "histogram2dcontour"
           }
          ],
          "mesh3d": [
           {
            "colorbar": {
             "outlinewidth": 0,
             "ticks": ""
            },
            "type": "mesh3d"
           }
          ],
          "parcoords": [
           {
            "line": {
             "colorbar": {
              "outlinewidth": 0,
              "ticks": ""
             }
            },
            "type": "parcoords"
           }
          ],
          "pie": [
           {
            "automargin": true,
            "type": "pie"
           }
          ],
          "scatter": [
           {
            "fillpattern": {
             "fillmode": "overlay",
             "size": 10,
             "solidity": 0.2
            },
            "type": "scatter"
           }
          ],
          "scatter3d": [
           {
            "line": {
             "colorbar": {
              "outlinewidth": 0,
              "ticks": ""
             }
            },
            "marker": {
             "colorbar": {
              "outlinewidth": 0,
              "ticks": ""
             }
            },
            "type": "scatter3d"
           }
          ],
          "scattercarpet": [
           {
            "marker": {
             "colorbar": {
              "outlinewidth": 0,
              "ticks": ""
             }
            },
            "type": "scattercarpet"
           }
          ],
          "scattergeo": [
           {
            "marker": {
             "colorbar": {
              "outlinewidth": 0,
              "ticks": ""
             }
            },
            "type": "scattergeo"
           }
          ],
          "scattergl": [
           {
            "marker": {
             "colorbar": {
              "outlinewidth": 0,
              "ticks": ""
             }
            },
            "type": "scattergl"
           }
          ],
          "scattermapbox": [
           {
            "marker": {
             "colorbar": {
              "outlinewidth": 0,
              "ticks": ""
             }
            },
            "type": "scattermapbox"
           }
          ],
          "scatterpolar": [
           {
            "marker": {
             "colorbar": {
              "outlinewidth": 0,
              "ticks": ""
             }
            },
            "type": "scatterpolar"
           }
          ],
          "scatterpolargl": [
           {
            "marker": {
             "colorbar": {
              "outlinewidth": 0,
              "ticks": ""
             }
            },
            "type": "scatterpolargl"
           }
          ],
          "scatterternary": [
           {
            "marker": {
             "colorbar": {
              "outlinewidth": 0,
              "ticks": ""
             }
            },
            "type": "scatterternary"
           }
          ],
          "surface": [
           {
            "colorbar": {
             "outlinewidth": 0,
             "ticks": ""
            },
            "colorscale": [
             [
              0,
              "#0d0887"
             ],
             [
              0.1111111111111111,
              "#46039f"
             ],
             [
              0.2222222222222222,
              "#7201a8"
             ],
             [
              0.3333333333333333,
              "#9c179e"
             ],
             [
              0.4444444444444444,
              "#bd3786"
             ],
             [
              0.5555555555555556,
              "#d8576b"
             ],
             [
              0.6666666666666666,
              "#ed7953"
             ],
             [
              0.7777777777777778,
              "#fb9f3a"
             ],
             [
              0.8888888888888888,
              "#fdca26"
             ],
             [
              1,
              "#f0f921"
             ]
            ],
            "type": "surface"
           }
          ],
          "table": [
           {
            "cells": {
             "fill": {
              "color": "#EBF0F8"
             },
             "line": {
              "color": "white"
             }
            },
            "header": {
             "fill": {
              "color": "#C8D4E3"
             },
             "line": {
              "color": "white"
             }
            },
            "type": "table"
           }
          ]
         },
         "layout": {
          "annotationdefaults": {
           "arrowcolor": "#2a3f5f",
           "arrowhead": 0,
           "arrowwidth": 1
          },
          "autotypenumbers": "strict",
          "coloraxis": {
           "colorbar": {
            "outlinewidth": 0,
            "ticks": ""
           }
          },
          "colorscale": {
           "diverging": [
            [
             0,
             "#8e0152"
            ],
            [
             0.1,
             "#c51b7d"
            ],
            [
             0.2,
             "#de77ae"
            ],
            [
             0.3,
             "#f1b6da"
            ],
            [
             0.4,
             "#fde0ef"
            ],
            [
             0.5,
             "#f7f7f7"
            ],
            [
             0.6,
             "#e6f5d0"
            ],
            [
             0.7,
             "#b8e186"
            ],
            [
             0.8,
             "#7fbc41"
            ],
            [
             0.9,
             "#4d9221"
            ],
            [
             1,
             "#276419"
            ]
           ],
           "sequential": [
            [
             0,
             "#0d0887"
            ],
            [
             0.1111111111111111,
             "#46039f"
            ],
            [
             0.2222222222222222,
             "#7201a8"
            ],
            [
             0.3333333333333333,
             "#9c179e"
            ],
            [
             0.4444444444444444,
             "#bd3786"
            ],
            [
             0.5555555555555556,
             "#d8576b"
            ],
            [
             0.6666666666666666,
             "#ed7953"
            ],
            [
             0.7777777777777778,
             "#fb9f3a"
            ],
            [
             0.8888888888888888,
             "#fdca26"
            ],
            [
             1,
             "#f0f921"
            ]
           ],
           "sequentialminus": [
            [
             0,
             "#0d0887"
            ],
            [
             0.1111111111111111,
             "#46039f"
            ],
            [
             0.2222222222222222,
             "#7201a8"
            ],
            [
             0.3333333333333333,
             "#9c179e"
            ],
            [
             0.4444444444444444,
             "#bd3786"
            ],
            [
             0.5555555555555556,
             "#d8576b"
            ],
            [
             0.6666666666666666,
             "#ed7953"
            ],
            [
             0.7777777777777778,
             "#fb9f3a"
            ],
            [
             0.8888888888888888,
             "#fdca26"
            ],
            [
             1,
             "#f0f921"
            ]
           ]
          },
          "colorway": [
           "#636efa",
           "#EF553B",
           "#00cc96",
           "#ab63fa",
           "#FFA15A",
           "#19d3f3",
           "#FF6692",
           "#B6E880",
           "#FF97FF",
           "#FECB52"
          ],
          "font": {
           "color": "#2a3f5f"
          },
          "geo": {
           "bgcolor": "white",
           "lakecolor": "white",
           "landcolor": "#E5ECF6",
           "showlakes": true,
           "showland": true,
           "subunitcolor": "white"
          },
          "hoverlabel": {
           "align": "left"
          },
          "hovermode": "closest",
          "mapbox": {
           "style": "light"
          },
          "paper_bgcolor": "white",
          "plot_bgcolor": "#E5ECF6",
          "polar": {
           "angularaxis": {
            "gridcolor": "white",
            "linecolor": "white",
            "ticks": ""
           },
           "bgcolor": "#E5ECF6",
           "radialaxis": {
            "gridcolor": "white",
            "linecolor": "white",
            "ticks": ""
           }
          },
          "scene": {
           "xaxis": {
            "backgroundcolor": "#E5ECF6",
            "gridcolor": "white",
            "gridwidth": 2,
            "linecolor": "white",
            "showbackground": true,
            "ticks": "",
            "zerolinecolor": "white"
           },
           "yaxis": {
            "backgroundcolor": "#E5ECF6",
            "gridcolor": "white",
            "gridwidth": 2,
            "linecolor": "white",
            "showbackground": true,
            "ticks": "",
            "zerolinecolor": "white"
           },
           "zaxis": {
            "backgroundcolor": "#E5ECF6",
            "gridcolor": "white",
            "gridwidth": 2,
            "linecolor": "white",
            "showbackground": true,
            "ticks": "",
            "zerolinecolor": "white"
           }
          },
          "shapedefaults": {
           "line": {
            "color": "#2a3f5f"
           }
          },
          "ternary": {
           "aaxis": {
            "gridcolor": "white",
            "linecolor": "white",
            "ticks": ""
           },
           "baxis": {
            "gridcolor": "white",
            "linecolor": "white",
            "ticks": ""
           },
           "bgcolor": "#E5ECF6",
           "caxis": {
            "gridcolor": "white",
            "linecolor": "white",
            "ticks": ""
           }
          },
          "title": {
           "x": 0.05
          },
          "xaxis": {
           "automargin": true,
           "gridcolor": "white",
           "linecolor": "white",
           "ticks": "",
           "title": {
            "standoff": 15
           },
           "zerolinecolor": "white",
           "zerolinewidth": 2
          },
          "yaxis": {
           "automargin": true,
           "gridcolor": "white",
           "linecolor": "white",
           "ticks": "",
           "title": {
            "standoff": 15
           },
           "zerolinecolor": "white",
           "zerolinewidth": 2
          }
         }
        },
        "title": {
         "text": "Gasto acumulado do cartão presidencial por mandato"
        },
        "xaxis": {
         "anchor": "y",
         "categoryarray": [
          "LULA_1",
          "LULA_2",
          "DILMA_1",
          "DILMA_2",
          "TEMER",
          "BOLSONARO"
         ],
         "categoryorder": "array",
         "domain": [
          0,
          1
         ],
         "title": {
          "text": "Presidente"
         }
        },
        "yaxis": {
         "anchor": "x",
         "domain": [
          0,
          1
         ],
         "title": {
          "text": "Valor em milhões *corrigido pelo IPCA"
         }
        }
       }
      }
     },
     "metadata": {},
     "output_type": "display_data"
    }
   ],
   "source": [
    "fig_acumulado_corrigido = px.bar(gastos_acumulados_corrigidos, x='PRES', y='VALOR_CORRIGIDO', color='PRES', title='Gasto acumulado do cartão presidencial por mandato',\n",
    "labels={\"VALOR_CORRIGIDO\": \"Valor em milhões *corrigido pelo IPCA\", 'PRES': \"Presidente\"})\n",
    "\n",
    "fig_acumulado_corrigido.show()"
   ]
  },
  {
   "cell_type": "markdown",
   "metadata": {},
   "source": [
    "### Análise dos Gastos por setores (Subelementos de Despesa)"
   ]
  },
  {
   "cell_type": "code",
   "execution_count": 24,
   "metadata": {},
   "outputs": [
    {
     "data": {
      "text/html": [
       "<div>\n",
       "<style scoped>\n",
       "    .dataframe tbody tr th:only-of-type {\n",
       "        vertical-align: middle;\n",
       "    }\n",
       "\n",
       "    .dataframe tbody tr th {\n",
       "        vertical-align: top;\n",
       "    }\n",
       "\n",
       "    .dataframe thead th {\n",
       "        text-align: right;\n",
       "    }\n",
       "</style>\n",
       "<table border=\"1\" class=\"dataframe\">\n",
       "  <thead>\n",
       "    <tr style=\"text-align: right;\">\n",
       "      <th></th>\n",
       "      <th>index</th>\n",
       "      <th>SUBELEMENTO DE DESPESA</th>\n",
       "      <th>VALOR_CORRIGIDO</th>\n",
       "    </tr>\n",
       "  </thead>\n",
       "  <tbody>\n",
       "    <tr>\n",
       "      <th>0</th>\n",
       "      <td>32</td>\n",
       "      <td>HOSPEDAGENS</td>\n",
       "      <td>9.954654e+07</td>\n",
       "    </tr>\n",
       "    <tr>\n",
       "      <th>1</th>\n",
       "      <td>35</td>\n",
       "      <td>LOCACAO DE MEIOS DE TRANSPORTE</td>\n",
       "      <td>3.088881e+07</td>\n",
       "    </tr>\n",
       "    <tr>\n",
       "      <th>2</th>\n",
       "      <td>31</td>\n",
       "      <td>GENEROS DE ALIMENTAÇO</td>\n",
       "      <td>2.839001e+07</td>\n",
       "    </tr>\n",
       "    <tr>\n",
       "      <th>3</th>\n",
       "      <td>28</td>\n",
       "      <td>FORNECIMENTO DE ALIMENTAÇO</td>\n",
       "      <td>2.373515e+07</td>\n",
       "    </tr>\n",
       "    <tr>\n",
       "      <th>4</th>\n",
       "      <td>87</td>\n",
       "      <td>SERV.DE APOIO ADMIN.,TECNICO E OPERACIONAL</td>\n",
       "      <td>1.286672e+07</td>\n",
       "    </tr>\n",
       "    <tr>\n",
       "      <th>...</th>\n",
       "      <td>...</td>\n",
       "      <td>...</td>\n",
       "      <td>...</td>\n",
       "    </tr>\n",
       "    <tr>\n",
       "      <th>107</th>\n",
       "      <td>74</td>\n",
       "      <td>MATERIAL P/REABILITAÇO PROFISSIONAL</td>\n",
       "      <td>1.027113e+02</td>\n",
       "    </tr>\n",
       "    <tr>\n",
       "      <th>108</th>\n",
       "      <td>99</td>\n",
       "      <td>SERVIOS DE µGUA E ESGOTO</td>\n",
       "      <td>7.805811e+01</td>\n",
       "    </tr>\n",
       "    <tr>\n",
       "      <th>109</th>\n",
       "      <td>52</td>\n",
       "      <td>MATERIAL BIOLàGICO</td>\n",
       "      <td>3.779940e+01</td>\n",
       "    </tr>\n",
       "    <tr>\n",
       "      <th>110</th>\n",
       "      <td>80</td>\n",
       "      <td>OUTRAS DESPESAS COM LOCOMOÇO</td>\n",
       "      <td>2.335202e+01</td>\n",
       "    </tr>\n",
       "    <tr>\n",
       "      <th>111</th>\n",
       "      <td>102</td>\n",
       "      <td>SERVIOS JUDICIµRIOS</td>\n",
       "      <td>6.351184e+00</td>\n",
       "    </tr>\n",
       "  </tbody>\n",
       "</table>\n",
       "<p>112 rows × 3 columns</p>\n",
       "</div>"
      ],
      "text/plain": [
       "     index                      SUBELEMENTO DE DESPESA  VALOR_CORRIGIDO\n",
       "0       32                                 HOSPEDAGENS     9.954654e+07\n",
       "1       35              LOCACAO DE MEIOS DE TRANSPORTE     3.088881e+07\n",
       "2       31                      GENEROS DE ALIMENTAÇO     2.839001e+07\n",
       "3       28                 FORNECIMENTO DE ALIMENTAÇO     2.373515e+07\n",
       "4       87  SERV.DE APOIO ADMIN.,TECNICO E OPERACIONAL     1.286672e+07\n",
       "..     ...                                         ...              ...\n",
       "107     74        MATERIAL P/REABILITAÇO PROFISSIONAL     1.027113e+02\n",
       "108     99                   SERVIOS DE µGUA E ESGOTO     7.805811e+01\n",
       "109     52                          MATERIAL BIOLàGICO     3.779940e+01\n",
       "110     80               OUTRAS DESPESAS COM LOCOMOÇO     2.335202e+01\n",
       "111    102                        SERVIOS JUDICIµRIOS     6.351184e+00\n",
       "\n",
       "[112 rows x 3 columns]"
      ]
     },
     "execution_count": 24,
     "metadata": {},
     "output_type": "execute_result"
    }
   ],
   "source": [
    "gastos_gerais_setores = gastos.groupby([\"SUBELEMENTO DE DESPESA\"]).agg({\"VALOR_CORRIGIDO\": sum}).reset_index()\n",
    "gastos_gerais_setores = gastos_gerais_setores.sort_values('VALOR_CORRIGIDO', ascending=False).reset_index()\n",
    "gastos_gerais_setores"
   ]
  },
  {
   "cell_type": "markdown",
   "metadata": {},
   "source": [
    "#### Despesas com maiores gastos"
   ]
  },
  {
   "cell_type": "code",
   "execution_count": 25,
   "metadata": {},
   "outputs": [
    {
     "data": {
      "text/html": [
       "<div>\n",
       "<style scoped>\n",
       "    .dataframe tbody tr th:only-of-type {\n",
       "        vertical-align: middle;\n",
       "    }\n",
       "\n",
       "    .dataframe tbody tr th {\n",
       "        vertical-align: top;\n",
       "    }\n",
       "\n",
       "    .dataframe thead th {\n",
       "        text-align: right;\n",
       "    }\n",
       "</style>\n",
       "<table border=\"1\" class=\"dataframe\">\n",
       "  <thead>\n",
       "    <tr style=\"text-align: right;\">\n",
       "      <th></th>\n",
       "      <th>index</th>\n",
       "      <th>SUBELEMENTO DE DESPESA</th>\n",
       "      <th>VALOR_CORRIGIDO</th>\n",
       "    </tr>\n",
       "  </thead>\n",
       "  <tbody>\n",
       "    <tr>\n",
       "      <th>0</th>\n",
       "      <td>32</td>\n",
       "      <td>HOSPEDAGENS</td>\n",
       "      <td>9.954654e+07</td>\n",
       "    </tr>\n",
       "    <tr>\n",
       "      <th>1</th>\n",
       "      <td>35</td>\n",
       "      <td>LOCACAO DE MEIOS DE TRANSPORTE</td>\n",
       "      <td>3.088881e+07</td>\n",
       "    </tr>\n",
       "    <tr>\n",
       "      <th>2</th>\n",
       "      <td>31</td>\n",
       "      <td>GENEROS DE ALIMENTAÇO</td>\n",
       "      <td>2.839001e+07</td>\n",
       "    </tr>\n",
       "    <tr>\n",
       "      <th>3</th>\n",
       "      <td>28</td>\n",
       "      <td>FORNECIMENTO DE ALIMENTAÇO</td>\n",
       "      <td>2.373515e+07</td>\n",
       "    </tr>\n",
       "    <tr>\n",
       "      <th>4</th>\n",
       "      <td>87</td>\n",
       "      <td>SERV.DE APOIO ADMIN.,TECNICO E OPERACIONAL</td>\n",
       "      <td>1.286672e+07</td>\n",
       "    </tr>\n",
       "    <tr>\n",
       "      <th>5</th>\n",
       "      <td>98</td>\n",
       "      <td>SERVIOS DE TELECOMUNICAåES</td>\n",
       "      <td>2.391531e+06</td>\n",
       "    </tr>\n",
       "    <tr>\n",
       "      <th>6</th>\n",
       "      <td>11</td>\n",
       "      <td>COMBUSTIVEIS E LUBRIF. AUTOMOTIVOS</td>\n",
       "      <td>1.983723e+06</td>\n",
       "    </tr>\n",
       "    <tr>\n",
       "      <th>7</th>\n",
       "      <td>59</td>\n",
       "      <td>MATERIAL DE LIMPEZA E PROD. DE HIGIENIZAÇO</td>\n",
       "      <td>1.904220e+06</td>\n",
       "    </tr>\n",
       "    <tr>\n",
       "      <th>8</th>\n",
       "      <td>36</td>\n",
       "      <td>LOCAÇO BENS MOV. OUTR. NATUREZA E INTANGÖVEIS</td>\n",
       "      <td>1.607728e+06</td>\n",
       "    </tr>\n",
       "    <tr>\n",
       "      <th>9</th>\n",
       "      <td>56</td>\n",
       "      <td>MATERIAL DE COPA E COZINHA</td>\n",
       "      <td>7.213524e+05</td>\n",
       "    </tr>\n",
       "  </tbody>\n",
       "</table>\n",
       "</div>"
      ],
      "text/plain": [
       "   index                          SUBELEMENTO DE DESPESA  VALOR_CORRIGIDO\n",
       "0     32                                     HOSPEDAGENS     9.954654e+07\n",
       "1     35                  LOCACAO DE MEIOS DE TRANSPORTE     3.088881e+07\n",
       "2     31                          GENEROS DE ALIMENTAÇO     2.839001e+07\n",
       "3     28                     FORNECIMENTO DE ALIMENTAÇO     2.373515e+07\n",
       "4     87      SERV.DE APOIO ADMIN.,TECNICO E OPERACIONAL     1.286672e+07\n",
       "5     98                    SERVIOS DE TELECOMUNICAåES     2.391531e+06\n",
       "6     11              COMBUSTIVEIS E LUBRIF. AUTOMOTIVOS     1.983723e+06\n",
       "7     59     MATERIAL DE LIMPEZA E PROD. DE HIGIENIZAÇO     1.904220e+06\n",
       "8     36  LOCAÇO BENS MOV. OUTR. NATUREZA E INTANGÖVEIS     1.607728e+06\n",
       "9     56                      MATERIAL DE COPA E COZINHA     7.213524e+05"
      ]
     },
     "execution_count": 25,
     "metadata": {},
     "output_type": "execute_result"
    }
   ],
   "source": [
    "gastos_gerais_setores.head(10)"
   ]
  },
  {
   "cell_type": "markdown",
   "metadata": {},
   "source": [
    "#### Lula"
   ]
  },
  {
   "cell_type": "code",
   "execution_count": 26,
   "metadata": {
    "scrolled": true
   },
   "outputs": [],
   "source": [
    "gastos_lula = gastos[gastos['PRES'] == 'LULA']"
   ]
  },
  {
   "cell_type": "code",
   "execution_count": 27,
   "metadata": {},
   "outputs": [
    {
     "data": {
      "text/html": [
       "<div>\n",
       "<style scoped>\n",
       "    .dataframe tbody tr th:only-of-type {\n",
       "        vertical-align: middle;\n",
       "    }\n",
       "\n",
       "    .dataframe tbody tr th {\n",
       "        vertical-align: top;\n",
       "    }\n",
       "\n",
       "    .dataframe thead th {\n",
       "        text-align: right;\n",
       "    }\n",
       "</style>\n",
       "<table border=\"1\" class=\"dataframe\">\n",
       "  <thead>\n",
       "    <tr style=\"text-align: right;\">\n",
       "      <th></th>\n",
       "      <th>index</th>\n",
       "      <th>TIPO</th>\n",
       "      <th>SUBELEMENTO DE DESPESA</th>\n",
       "      <th>VALOR_CORRIGIDO</th>\n",
       "    </tr>\n",
       "  </thead>\n",
       "  <tbody>\n",
       "    <tr>\n",
       "      <th>0</th>\n",
       "      <td>18</td>\n",
       "      <td>Crédito</td>\n",
       "      <td>HOSPEDAGENS</td>\n",
       "      <td>4.457278e+07</td>\n",
       "    </tr>\n",
       "    <tr>\n",
       "      <th>1</th>\n",
       "      <td>20</td>\n",
       "      <td>Crédito</td>\n",
       "      <td>LOCACAO DE MEIOS DE TRANSPORTE</td>\n",
       "      <td>2.182620e+07</td>\n",
       "    </tr>\n",
       "    <tr>\n",
       "      <th>2</th>\n",
       "      <td>17</td>\n",
       "      <td>Crédito</td>\n",
       "      <td>GENEROS DE ALIMENTAÇO</td>\n",
       "      <td>9.706771e+06</td>\n",
       "    </tr>\n",
       "    <tr>\n",
       "      <th>3</th>\n",
       "      <td>100</td>\n",
       "      <td>Débito</td>\n",
       "      <td>LOCACAO DE MEIOS DE TRANSPORTE</td>\n",
       "      <td>8.832066e+06</td>\n",
       "    </tr>\n",
       "    <tr>\n",
       "      <th>4</th>\n",
       "      <td>14</td>\n",
       "      <td>Crédito</td>\n",
       "      <td>FORNECIMENTO DE ALIMENTAÇO</td>\n",
       "      <td>6.109631e+06</td>\n",
       "    </tr>\n",
       "    <tr>\n",
       "      <th>5</th>\n",
       "      <td>98</td>\n",
       "      <td>Débito</td>\n",
       "      <td>HOSPEDAGENS</td>\n",
       "      <td>4.501830e+06</td>\n",
       "    </tr>\n",
       "    <tr>\n",
       "      <th>6</th>\n",
       "      <td>94</td>\n",
       "      <td>Débito</td>\n",
       "      <td>FORNECIMENTO DE ALIMENTAÇO</td>\n",
       "      <td>2.618778e+06</td>\n",
       "    </tr>\n",
       "    <tr>\n",
       "      <th>7</th>\n",
       "      <td>63</td>\n",
       "      <td>Crédito</td>\n",
       "      <td>SERV.DE APOIO ADMIN.,TECNICO E OPERACIONAL</td>\n",
       "      <td>1.989016e+06</td>\n",
       "    </tr>\n",
       "    <tr>\n",
       "      <th>8</th>\n",
       "      <td>155</td>\n",
       "      <td>Débito</td>\n",
       "      <td>SERVIOS DE TELECOMUNICAåES</td>\n",
       "      <td>1.751158e+06</td>\n",
       "    </tr>\n",
       "    <tr>\n",
       "      <th>9</th>\n",
       "      <td>40</td>\n",
       "      <td>Crédito</td>\n",
       "      <td>MATERIAL DE LIMPEZA E PROD. DE HIGIENIZAÇO</td>\n",
       "      <td>8.174789e+05</td>\n",
       "    </tr>\n",
       "    <tr>\n",
       "      <th>10</th>\n",
       "      <td>97</td>\n",
       "      <td>Débito</td>\n",
       "      <td>GENEROS DE ALIMENTAÇO</td>\n",
       "      <td>6.579989e+05</td>\n",
       "    </tr>\n",
       "    <tr>\n",
       "      <th>11</th>\n",
       "      <td>5</td>\n",
       "      <td>Crédito</td>\n",
       "      <td>COMBUSTIVEIS E LUBRIF. AUTOMOTIVOS</td>\n",
       "      <td>5.285824e+05</td>\n",
       "    </tr>\n",
       "    <tr>\n",
       "      <th>12</th>\n",
       "      <td>147</td>\n",
       "      <td>Débito</td>\n",
       "      <td>SERV.DE APOIO ADMIN.,TECNICO E OPERACIONAL</td>\n",
       "      <td>4.577294e+05</td>\n",
       "    </tr>\n",
       "    <tr>\n",
       "      <th>13</th>\n",
       "      <td>21</td>\n",
       "      <td>Crédito</td>\n",
       "      <td>LOCAÇO BENS MOV. OUTR. NATUREZA E INTANGÖVEIS</td>\n",
       "      <td>4.050343e+05</td>\n",
       "    </tr>\n",
       "    <tr>\n",
       "      <th>14</th>\n",
       "      <td>37</td>\n",
       "      <td>Crédito</td>\n",
       "      <td>MATERIAL DE COPA E COZINHA</td>\n",
       "      <td>3.427007e+05</td>\n",
       "    </tr>\n",
       "    <tr>\n",
       "      <th>15</th>\n",
       "      <td>52</td>\n",
       "      <td>Crédito</td>\n",
       "      <td>MATERIAL P/MANUTENÇO DE BENS IMàVEIS</td>\n",
       "      <td>3.181649e+05</td>\n",
       "    </tr>\n",
       "    <tr>\n",
       "      <th>16</th>\n",
       "      <td>83</td>\n",
       "      <td>Débito</td>\n",
       "      <td>COMBUSTIVEIS E LUBRIF. AUTOMOTIVOS</td>\n",
       "      <td>2.479227e+05</td>\n",
       "    </tr>\n",
       "    <tr>\n",
       "      <th>17</th>\n",
       "      <td>142</td>\n",
       "      <td>Débito</td>\n",
       "      <td>OUTROS SERVIOS DE TERCEIROS-PESSOA JURÖDICA</td>\n",
       "      <td>2.183066e+05</td>\n",
       "    </tr>\n",
       "    <tr>\n",
       "      <th>18</th>\n",
       "      <td>74</td>\n",
       "      <td>Crédito</td>\n",
       "      <td>UNIFORMES, TECIDOS E AVIAMENTOS</td>\n",
       "      <td>2.025424e+05</td>\n",
       "    </tr>\n",
       "    <tr>\n",
       "      <th>19</th>\n",
       "      <td>101</td>\n",
       "      <td>Débito</td>\n",
       "      <td>LOCAÇO BENS MOV. OUTR. NATUREZA E INTANGÖVEIS</td>\n",
       "      <td>1.743352e+05</td>\n",
       "    </tr>\n",
       "  </tbody>\n",
       "</table>\n",
       "</div>"
      ],
      "text/plain": [
       "    index     TIPO                          SUBELEMENTO DE DESPESA  \\\n",
       "0      18  Crédito                                     HOSPEDAGENS   \n",
       "1      20  Crédito                  LOCACAO DE MEIOS DE TRANSPORTE   \n",
       "2      17  Crédito                          GENEROS DE ALIMENTAÇO   \n",
       "3     100   Débito                  LOCACAO DE MEIOS DE TRANSPORTE   \n",
       "4      14  Crédito                     FORNECIMENTO DE ALIMENTAÇO   \n",
       "5      98   Débito                                     HOSPEDAGENS   \n",
       "6      94   Débito                     FORNECIMENTO DE ALIMENTAÇO   \n",
       "7      63  Crédito      SERV.DE APOIO ADMIN.,TECNICO E OPERACIONAL   \n",
       "8     155   Débito                    SERVIOS DE TELECOMUNICAåES   \n",
       "9      40  Crédito     MATERIAL DE LIMPEZA E PROD. DE HIGIENIZAÇO   \n",
       "10     97   Débito                          GENEROS DE ALIMENTAÇO   \n",
       "11      5  Crédito              COMBUSTIVEIS E LUBRIF. AUTOMOTIVOS   \n",
       "12    147   Débito      SERV.DE APOIO ADMIN.,TECNICO E OPERACIONAL   \n",
       "13     21  Crédito  LOCAÇO BENS MOV. OUTR. NATUREZA E INTANGÖVEIS   \n",
       "14     37  Crédito                      MATERIAL DE COPA E COZINHA   \n",
       "15     52  Crédito           MATERIAL P/MANUTENÇO DE BENS IMàVEIS   \n",
       "16     83   Débito              COMBUSTIVEIS E LUBRIF. AUTOMOTIVOS   \n",
       "17    142   Débito    OUTROS SERVIOS DE TERCEIROS-PESSOA JURÖDICA   \n",
       "18     74  Crédito                 UNIFORMES, TECIDOS E AVIAMENTOS   \n",
       "19    101   Débito  LOCAÇO BENS MOV. OUTR. NATUREZA E INTANGÖVEIS   \n",
       "\n",
       "    VALOR_CORRIGIDO  \n",
       "0      4.457278e+07  \n",
       "1      2.182620e+07  \n",
       "2      9.706771e+06  \n",
       "3      8.832066e+06  \n",
       "4      6.109631e+06  \n",
       "5      4.501830e+06  \n",
       "6      2.618778e+06  \n",
       "7      1.989016e+06  \n",
       "8      1.751158e+06  \n",
       "9      8.174789e+05  \n",
       "10     6.579989e+05  \n",
       "11     5.285824e+05  \n",
       "12     4.577294e+05  \n",
       "13     4.050343e+05  \n",
       "14     3.427007e+05  \n",
       "15     3.181649e+05  \n",
       "16     2.479227e+05  \n",
       "17     2.183066e+05  \n",
       "18     2.025424e+05  \n",
       "19     1.743352e+05  "
      ]
     },
     "execution_count": 27,
     "metadata": {},
     "output_type": "execute_result"
    }
   ],
   "source": [
    "gastos_lula_setores = gastos_lula.groupby([\"TIPO\", \"SUBELEMENTO DE DESPESA\"]).agg({\"VALOR_CORRIGIDO\": sum}).reset_index()\n",
    "gastos_lula_setores = gastos_lula_setores.sort_values('VALOR_CORRIGIDO', ascending=False).reset_index()\n",
    "# Os 20 maiores gastos do presidente Lula\n",
    "gastos_lula_setores.head(20)"
   ]
  },
  {
   "cell_type": "code",
   "execution_count": 28,
   "metadata": {},
   "outputs": [
    {
     "data": {
      "application/vnd.plotly.v1+json": {
       "config": {
        "plotlyServerURL": "https://plot.ly"
       },
       "data": [
        {
         "domain": {
          "x": [
           0,
           1
          ],
          "y": [
           0,
           1
          ]
         },
         "hovertemplate": "TIPO=%{label}<br>VALOR_CORRIGIDO=%{value}<extra></extra>",
         "labels": [
          "Crédito",
          "Crédito",
          "Crédito",
          "Débito",
          "Crédito",
          "Débito",
          "Débito",
          "Crédito",
          "Débito",
          "Crédito",
          "Débito",
          "Crédito",
          "Débito",
          "Crédito",
          "Crédito",
          "Crédito",
          "Débito",
          "Débito",
          "Crédito",
          "Débito",
          "Crédito",
          "Crédito",
          "Crédito",
          "Crédito",
          "Crédito",
          "Crédito",
          "Crédito",
          "Crédito",
          "Crédito",
          "Débito",
          "Débito",
          "Débito",
          "Débito",
          "Crédito",
          "Crédito",
          "Débito",
          "Crédito",
          "Crédito",
          "Débito",
          "Crédito",
          "Crédito",
          "Crédito",
          "Débito",
          "Débito",
          "Débito",
          "Débito",
          "Crédito",
          "Débito",
          "Débito",
          "Crédito",
          "Débito",
          "Crédito",
          "Débito",
          "Débito",
          "Crédito",
          "Crédito",
          "Débito",
          "Crédito",
          "Débito",
          "Crédito",
          "Crédito",
          "Débito",
          "Débito",
          "Débito",
          "Crédito",
          "Débito",
          "Débito",
          "Crédito",
          "Débito",
          "Crédito",
          "Débito",
          "Débito",
          "Crédito",
          "Débito",
          "Débito",
          "Débito",
          "Débito",
          "Débito",
          "Crédito",
          "Débito",
          "Crédito",
          "Crédito",
          "Crédito",
          "Débito",
          "Débito",
          "Crédito",
          "Crédito",
          "Crédito",
          "Débito",
          "Crédito",
          "Crédito",
          "Crédito",
          "Crédito",
          "Débito",
          "Débito",
          "Débito",
          "Débito",
          "Crédito",
          "Crédito",
          "Crédito",
          "Crédito",
          "Débito",
          "Crédito",
          "Débito",
          "Débito",
          "Crédito",
          "Débito",
          "Crédito",
          "Crédito",
          "Débito",
          "Débito",
          "Débito",
          "Débito",
          "Débito",
          "Crédito",
          "Débito",
          "Crédito",
          "Crédito",
          "Crédito",
          "Débito",
          "Crédito",
          "Débito",
          "Crédito",
          "Débito",
          "Débito",
          "Débito",
          "Débito",
          "Débito",
          "Débito",
          "Crédito",
          "Débito",
          "Débito",
          "Débito",
          "Crédito",
          "Crédito",
          "Crédito",
          "Crédito",
          "Crédito",
          "Débito",
          "Débito",
          "Crédito",
          "Débito",
          "Crédito",
          "Débito",
          "Débito",
          "Débito",
          "Débito",
          "Débito",
          "Débito",
          "Crédito",
          "Débito",
          "Débito",
          "Crédito",
          "Débito",
          "Crédito",
          "Débito",
          "Débito",
          "Débito",
          "Crédito",
          "Débito",
          "Débito",
          "Débito",
          "Débito"
         ],
         "legendgroup": "",
         "name": "",
         "showlegend": true,
         "type": "pie",
         "values": [
          44572782.70734805,
          21826198.942832205,
          9706770.984793844,
          8832066.215054175,
          6109630.830916741,
          4501830.111022858,
          2618777.9771680166,
          1989015.9472285789,
          1751158.4039601097,
          817478.9437479251,
          657998.9479868641,
          528582.4180345915,
          457729.3732684983,
          405034.3199548208,
          342700.6722709395,
          318164.8698290279,
          247922.72553348527,
          218306.56265350909,
          202542.42893434636,
          174335.23583612355,
          169304.79363985013,
          159114.07923235823,
          140146.2483899442,
          129501.23532701575,
          126579.6586297709,
          116321.73562516044,
          96958.6177054642,
          95641.2331548175,
          88320.0357564172,
          85625.72260847338,
          80398.88306905846,
          75605.91151250075,
          73412.05091793282,
          67453.99194135434,
          67075.87601332938,
          61798.025265680844,
          58193.85248326011,
          57158.97376133526,
          55459.69414268491,
          48218.27575562215,
          42896.66726683424,
          42222.589131492095,
          39082.94275121704,
          38825.68565916616,
          38242.260386243855,
          37011.715518053395,
          35230.263097311625,
          33099.91089320457,
          31421.82841821163,
          31318.93987797457,
          30855.659080715825,
          27629.909286575163,
          27586.563613927286,
          26980.200972873776,
          26834.271924922687,
          26829.526662400353,
          26441.070149186253,
          25630.548255072532,
          23769.01778051295,
          23662.29217309949,
          22934.28260678167,
          22051.327827252426,
          21717.201707210177,
          20519.08902141992,
          19758.78942945412,
          19340.80497670615,
          19291.009791075652,
          18068.874458118335,
          17674.95766593151,
          17186.988007102656,
          16250.168471350606,
          15396.748551579753,
          15365.141033822178,
          15135.559379633829,
          13614.801093423457,
          13341.518715960196,
          13226.62584921187,
          13097.300378501242,
          12342.428038335293,
          12280.148085755955,
          12238.763779480822,
          11253.753832108572,
          11122.117965797614,
          8995.87459823566,
          8648.998863347902,
          8462.270303426687,
          8207.99635477048,
          7928.675653557382,
          7837.005783020704,
          7621.620049621116,
          7121.487632972021,
          6441.005456710838,
          5807.531440601168,
          5335.203497016906,
          5243.513012934839,
          5078.302662567928,
          4973.665031741039,
          4968.492088351612,
          4929.586984573718,
          4554.88588176788,
          4491.2821734098925,
          4247.670944263385,
          3694.2764098954594,
          3541.980743494954,
          3444.597443974362,
          3420.3163249635472,
          3375.5074243356253,
          3261.0155826955765,
          3221.1723143359577,
          2831.230618490244,
          2777.559793385234,
          2755.082762540756,
          2676.333891112432,
          2669.9546418752393,
          2560.9582170012927,
          2374.1332151126235,
          2348.7269550554633,
          2188.229715628901,
          2156.696186611881,
          2093.0662729315054,
          1984.936722746047,
          1961.6078705923314,
          1893.9110813871919,
          1884.0726397182025,
          1878.2456390949533,
          1826.7286964968332,
          1671.0755677599082,
          1667.1105536628506,
          1391.2919480147596,
          1351.1896669109028,
          1219.0423451379575,
          1073.9536565781402,
          1018.8781816386697,
          1008.2703943411743,
          976.7507447818043,
          888.5087803403226,
          780.8214376710725,
          753.8304888933199,
          604.805480283479,
          476.4620037862473,
          463.3940624229677,
          343.9360715406978,
          301.4450274444707,
          281.22013474326894,
          261.42978527601394,
          255.0273119441979,
          248.08920826118117,
          243.89161180156194,
          216.22241237303913,
          209.24905818679173,
          209.1819320710998,
          130.06895839874923,
          107.38198639511434,
          102.7177681022938,
          96.65231198395944,
          78.2468235928717,
          78.05811337869913,
          40.206714767889935,
          37.79940405003324,
          31.48572172248212,
          28.525559857016404,
          23.35202053628823,
          6.351183586254186
         ]
        }
       ],
       "layout": {
        "legend": {
         "tracegroupgap": 0
        },
        "piecolorway": [
         "rgb(103,0,31)",
         "rgb(178,24,43)",
         "rgb(214,96,77)",
         "rgb(244,165,130)",
         "rgb(253,219,199)",
         "rgb(247,247,247)",
         "rgb(209,229,240)",
         "rgb(146,197,222)",
         "rgb(67,147,195)",
         "rgb(33,102,172)",
         "rgb(5,48,97)"
        ],
        "template": {
         "data": {
          "bar": [
           {
            "error_x": {
             "color": "#2a3f5f"
            },
            "error_y": {
             "color": "#2a3f5f"
            },
            "marker": {
             "line": {
              "color": "#E5ECF6",
              "width": 0.5
             },
             "pattern": {
              "fillmode": "overlay",
              "size": 10,
              "solidity": 0.2
             }
            },
            "type": "bar"
           }
          ],
          "barpolar": [
           {
            "marker": {
             "line": {
              "color": "#E5ECF6",
              "width": 0.5
             },
             "pattern": {
              "fillmode": "overlay",
              "size": 10,
              "solidity": 0.2
             }
            },
            "type": "barpolar"
           }
          ],
          "carpet": [
           {
            "aaxis": {
             "endlinecolor": "#2a3f5f",
             "gridcolor": "white",
             "linecolor": "white",
             "minorgridcolor": "white",
             "startlinecolor": "#2a3f5f"
            },
            "baxis": {
             "endlinecolor": "#2a3f5f",
             "gridcolor": "white",
             "linecolor": "white",
             "minorgridcolor": "white",
             "startlinecolor": "#2a3f5f"
            },
            "type": "carpet"
           }
          ],
          "choropleth": [
           {
            "colorbar": {
             "outlinewidth": 0,
             "ticks": ""
            },
            "type": "choropleth"
           }
          ],
          "contour": [
           {
            "colorbar": {
             "outlinewidth": 0,
             "ticks": ""
            },
            "colorscale": [
             [
              0,
              "#0d0887"
             ],
             [
              0.1111111111111111,
              "#46039f"
             ],
             [
              0.2222222222222222,
              "#7201a8"
             ],
             [
              0.3333333333333333,
              "#9c179e"
             ],
             [
              0.4444444444444444,
              "#bd3786"
             ],
             [
              0.5555555555555556,
              "#d8576b"
             ],
             [
              0.6666666666666666,
              "#ed7953"
             ],
             [
              0.7777777777777778,
              "#fb9f3a"
             ],
             [
              0.8888888888888888,
              "#fdca26"
             ],
             [
              1,
              "#f0f921"
             ]
            ],
            "type": "contour"
           }
          ],
          "contourcarpet": [
           {
            "colorbar": {
             "outlinewidth": 0,
             "ticks": ""
            },
            "type": "contourcarpet"
           }
          ],
          "heatmap": [
           {
            "colorbar": {
             "outlinewidth": 0,
             "ticks": ""
            },
            "colorscale": [
             [
              0,
              "#0d0887"
             ],
             [
              0.1111111111111111,
              "#46039f"
             ],
             [
              0.2222222222222222,
              "#7201a8"
             ],
             [
              0.3333333333333333,
              "#9c179e"
             ],
             [
              0.4444444444444444,
              "#bd3786"
             ],
             [
              0.5555555555555556,
              "#d8576b"
             ],
             [
              0.6666666666666666,
              "#ed7953"
             ],
             [
              0.7777777777777778,
              "#fb9f3a"
             ],
             [
              0.8888888888888888,
              "#fdca26"
             ],
             [
              1,
              "#f0f921"
             ]
            ],
            "type": "heatmap"
           }
          ],
          "heatmapgl": [
           {
            "colorbar": {
             "outlinewidth": 0,
             "ticks": ""
            },
            "colorscale": [
             [
              0,
              "#0d0887"
             ],
             [
              0.1111111111111111,
              "#46039f"
             ],
             [
              0.2222222222222222,
              "#7201a8"
             ],
             [
              0.3333333333333333,
              "#9c179e"
             ],
             [
              0.4444444444444444,
              "#bd3786"
             ],
             [
              0.5555555555555556,
              "#d8576b"
             ],
             [
              0.6666666666666666,
              "#ed7953"
             ],
             [
              0.7777777777777778,
              "#fb9f3a"
             ],
             [
              0.8888888888888888,
              "#fdca26"
             ],
             [
              1,
              "#f0f921"
             ]
            ],
            "type": "heatmapgl"
           }
          ],
          "histogram": [
           {
            "marker": {
             "pattern": {
              "fillmode": "overlay",
              "size": 10,
              "solidity": 0.2
             }
            },
            "type": "histogram"
           }
          ],
          "histogram2d": [
           {
            "colorbar": {
             "outlinewidth": 0,
             "ticks": ""
            },
            "colorscale": [
             [
              0,
              "#0d0887"
             ],
             [
              0.1111111111111111,
              "#46039f"
             ],
             [
              0.2222222222222222,
              "#7201a8"
             ],
             [
              0.3333333333333333,
              "#9c179e"
             ],
             [
              0.4444444444444444,
              "#bd3786"
             ],
             [
              0.5555555555555556,
              "#d8576b"
             ],
             [
              0.6666666666666666,
              "#ed7953"
             ],
             [
              0.7777777777777778,
              "#fb9f3a"
             ],
             [
              0.8888888888888888,
              "#fdca26"
             ],
             [
              1,
              "#f0f921"
             ]
            ],
            "type": "histogram2d"
           }
          ],
          "histogram2dcontour": [
           {
            "colorbar": {
             "outlinewidth": 0,
             "ticks": ""
            },
            "colorscale": [
             [
              0,
              "#0d0887"
             ],
             [
              0.1111111111111111,
              "#46039f"
             ],
             [
              0.2222222222222222,
              "#7201a8"
             ],
             [
              0.3333333333333333,
              "#9c179e"
             ],
             [
              0.4444444444444444,
              "#bd3786"
             ],
             [
              0.5555555555555556,
              "#d8576b"
             ],
             [
              0.6666666666666666,
              "#ed7953"
             ],
             [
              0.7777777777777778,
              "#fb9f3a"
             ],
             [
              0.8888888888888888,
              "#fdca26"
             ],
             [
              1,
              "#f0f921"
             ]
            ],
            "type": "histogram2dcontour"
           }
          ],
          "mesh3d": [
           {
            "colorbar": {
             "outlinewidth": 0,
             "ticks": ""
            },
            "type": "mesh3d"
           }
          ],
          "parcoords": [
           {
            "line": {
             "colorbar": {
              "outlinewidth": 0,
              "ticks": ""
             }
            },
            "type": "parcoords"
           }
          ],
          "pie": [
           {
            "automargin": true,
            "type": "pie"
           }
          ],
          "scatter": [
           {
            "fillpattern": {
             "fillmode": "overlay",
             "size": 10,
             "solidity": 0.2
            },
            "type": "scatter"
           }
          ],
          "scatter3d": [
           {
            "line": {
             "colorbar": {
              "outlinewidth": 0,
              "ticks": ""
             }
            },
            "marker": {
             "colorbar": {
              "outlinewidth": 0,
              "ticks": ""
             }
            },
            "type": "scatter3d"
           }
          ],
          "scattercarpet": [
           {
            "marker": {
             "colorbar": {
              "outlinewidth": 0,
              "ticks": ""
             }
            },
            "type": "scattercarpet"
           }
          ],
          "scattergeo": [
           {
            "marker": {
             "colorbar": {
              "outlinewidth": 0,
              "ticks": ""
             }
            },
            "type": "scattergeo"
           }
          ],
          "scattergl": [
           {
            "marker": {
             "colorbar": {
              "outlinewidth": 0,
              "ticks": ""
             }
            },
            "type": "scattergl"
           }
          ],
          "scattermapbox": [
           {
            "marker": {
             "colorbar": {
              "outlinewidth": 0,
              "ticks": ""
             }
            },
            "type": "scattermapbox"
           }
          ],
          "scatterpolar": [
           {
            "marker": {
             "colorbar": {
              "outlinewidth": 0,
              "ticks": ""
             }
            },
            "type": "scatterpolar"
           }
          ],
          "scatterpolargl": [
           {
            "marker": {
             "colorbar": {
              "outlinewidth": 0,
              "ticks": ""
             }
            },
            "type": "scatterpolargl"
           }
          ],
          "scatterternary": [
           {
            "marker": {
             "colorbar": {
              "outlinewidth": 0,
              "ticks": ""
             }
            },
            "type": "scatterternary"
           }
          ],
          "surface": [
           {
            "colorbar": {
             "outlinewidth": 0,
             "ticks": ""
            },
            "colorscale": [
             [
              0,
              "#0d0887"
             ],
             [
              0.1111111111111111,
              "#46039f"
             ],
             [
              0.2222222222222222,
              "#7201a8"
             ],
             [
              0.3333333333333333,
              "#9c179e"
             ],
             [
              0.4444444444444444,
              "#bd3786"
             ],
             [
              0.5555555555555556,
              "#d8576b"
             ],
             [
              0.6666666666666666,
              "#ed7953"
             ],
             [
              0.7777777777777778,
              "#fb9f3a"
             ],
             [
              0.8888888888888888,
              "#fdca26"
             ],
             [
              1,
              "#f0f921"
             ]
            ],
            "type": "surface"
           }
          ],
          "table": [
           {
            "cells": {
             "fill": {
              "color": "#EBF0F8"
             },
             "line": {
              "color": "white"
             }
            },
            "header": {
             "fill": {
              "color": "#C8D4E3"
             },
             "line": {
              "color": "white"
             }
            },
            "type": "table"
           }
          ]
         },
         "layout": {
          "annotationdefaults": {
           "arrowcolor": "#2a3f5f",
           "arrowhead": 0,
           "arrowwidth": 1
          },
          "autotypenumbers": "strict",
          "coloraxis": {
           "colorbar": {
            "outlinewidth": 0,
            "ticks": ""
           }
          },
          "colorscale": {
           "diverging": [
            [
             0,
             "#8e0152"
            ],
            [
             0.1,
             "#c51b7d"
            ],
            [
             0.2,
             "#de77ae"
            ],
            [
             0.3,
             "#f1b6da"
            ],
            [
             0.4,
             "#fde0ef"
            ],
            [
             0.5,
             "#f7f7f7"
            ],
            [
             0.6,
             "#e6f5d0"
            ],
            [
             0.7,
             "#b8e186"
            ],
            [
             0.8,
             "#7fbc41"
            ],
            [
             0.9,
             "#4d9221"
            ],
            [
             1,
             "#276419"
            ]
           ],
           "sequential": [
            [
             0,
             "#0d0887"
            ],
            [
             0.1111111111111111,
             "#46039f"
            ],
            [
             0.2222222222222222,
             "#7201a8"
            ],
            [
             0.3333333333333333,
             "#9c179e"
            ],
            [
             0.4444444444444444,
             "#bd3786"
            ],
            [
             0.5555555555555556,
             "#d8576b"
            ],
            [
             0.6666666666666666,
             "#ed7953"
            ],
            [
             0.7777777777777778,
             "#fb9f3a"
            ],
            [
             0.8888888888888888,
             "#fdca26"
            ],
            [
             1,
             "#f0f921"
            ]
           ],
           "sequentialminus": [
            [
             0,
             "#0d0887"
            ],
            [
             0.1111111111111111,
             "#46039f"
            ],
            [
             0.2222222222222222,
             "#7201a8"
            ],
            [
             0.3333333333333333,
             "#9c179e"
            ],
            [
             0.4444444444444444,
             "#bd3786"
            ],
            [
             0.5555555555555556,
             "#d8576b"
            ],
            [
             0.6666666666666666,
             "#ed7953"
            ],
            [
             0.7777777777777778,
             "#fb9f3a"
            ],
            [
             0.8888888888888888,
             "#fdca26"
            ],
            [
             1,
             "#f0f921"
            ]
           ]
          },
          "colorway": [
           "#636efa",
           "#EF553B",
           "#00cc96",
           "#ab63fa",
           "#FFA15A",
           "#19d3f3",
           "#FF6692",
           "#B6E880",
           "#FF97FF",
           "#FECB52"
          ],
          "font": {
           "color": "#2a3f5f"
          },
          "geo": {
           "bgcolor": "white",
           "lakecolor": "white",
           "landcolor": "#E5ECF6",
           "showlakes": true,
           "showland": true,
           "subunitcolor": "white"
          },
          "hoverlabel": {
           "align": "left"
          },
          "hovermode": "closest",
          "mapbox": {
           "style": "light"
          },
          "paper_bgcolor": "white",
          "plot_bgcolor": "#E5ECF6",
          "polar": {
           "angularaxis": {
            "gridcolor": "white",
            "linecolor": "white",
            "ticks": ""
           },
           "bgcolor": "#E5ECF6",
           "radialaxis": {
            "gridcolor": "white",
            "linecolor": "white",
            "ticks": ""
           }
          },
          "scene": {
           "xaxis": {
            "backgroundcolor": "#E5ECF6",
            "gridcolor": "white",
            "gridwidth": 2,
            "linecolor": "white",
            "showbackground": true,
            "ticks": "",
            "zerolinecolor": "white"
           },
           "yaxis": {
            "backgroundcolor": "#E5ECF6",
            "gridcolor": "white",
            "gridwidth": 2,
            "linecolor": "white",
            "showbackground": true,
            "ticks": "",
            "zerolinecolor": "white"
           },
           "zaxis": {
            "backgroundcolor": "#E5ECF6",
            "gridcolor": "white",
            "gridwidth": 2,
            "linecolor": "white",
            "showbackground": true,
            "ticks": "",
            "zerolinecolor": "white"
           }
          },
          "shapedefaults": {
           "line": {
            "color": "#2a3f5f"
           }
          },
          "ternary": {
           "aaxis": {
            "gridcolor": "white",
            "linecolor": "white",
            "ticks": ""
           },
           "baxis": {
            "gridcolor": "white",
            "linecolor": "white",
            "ticks": ""
           },
           "bgcolor": "#E5ECF6",
           "caxis": {
            "gridcolor": "white",
            "linecolor": "white",
            "ticks": ""
           }
          },
          "title": {
           "x": 0.05
          },
          "xaxis": {
           "automargin": true,
           "gridcolor": "white",
           "linecolor": "white",
           "ticks": "",
           "title": {
            "standoff": 15
           },
           "zerolinecolor": "white",
           "zerolinewidth": 2
          },
          "yaxis": {
           "automargin": true,
           "gridcolor": "white",
           "linecolor": "white",
           "ticks": "",
           "title": {
            "standoff": 15
           },
           "zerolinecolor": "white",
           "zerolinewidth": 2
          }
         }
        },
        "title": {
         "text": "Gastos Lula por modalidade de pagamento"
        }
       }
      }
     },
     "metadata": {},
     "output_type": "display_data"
    }
   ],
   "source": [
    "fig_lula = px.pie(gastos_lula_setores, values='VALOR_CORRIGIDO', names='TIPO', title='Gastos Lula por modalidade de pagamento',\n",
    "color_discrete_sequence=px.colors.sequential.RdBu)\n",
    "fig_lula.show()"
   ]
  },
  {
   "cell_type": "code",
   "execution_count": 29,
   "metadata": {},
   "outputs": [
    {
     "data": {
      "application/vnd.plotly.v1+json": {
       "config": {
        "plotlyServerURL": "https://plot.ly"
       },
       "data": [
        {
         "domain": {
          "x": [
           0,
           1
          ],
          "y": [
           0,
           1
          ]
         },
         "hovertemplate": "SUBELEMENTO DE DESPESA=%{label}<br>VALOR_CORRIGIDO=%{value}<extra></extra>",
         "labels": [
          "HOSPEDAGENS",
          "LOCACAO DE MEIOS DE TRANSPORTE",
          "GENEROS DE ALIMENTAÇO",
          "LOCACAO DE MEIOS DE TRANSPORTE",
          "FORNECIMENTO DE ALIMENTAÇO",
          "HOSPEDAGENS",
          "FORNECIMENTO DE ALIMENTAÇO",
          "SERV.DE APOIO ADMIN.,TECNICO E OPERACIONAL",
          "SERVIOS DE TELECOMUNICAåES",
          "MATERIAL DE LIMPEZA E PROD. DE HIGIENIZAÇO",
          "GENEROS DE ALIMENTAÇO",
          "COMBUSTIVEIS E LUBRIF. AUTOMOTIVOS",
          "SERV.DE APOIO ADMIN.,TECNICO E OPERACIONAL",
          "LOCAÇO BENS MOV. OUTR. NATUREZA E INTANGÖVEIS",
          "MATERIAL DE COPA E COZINHA",
          "MATERIAL P/MANUTENÇO DE BENS IMàVEIS",
          "COMBUSTIVEIS E LUBRIF. AUTOMOTIVOS",
          "OUTROS SERVIOS DE TERCEIROS-PESSOA JURÖDICA",
          "UNIFORMES, TECIDOS E AVIAMENTOS",
          "LOCAÇO BENS MOV. OUTR. NATUREZA E INTANGÖVEIS"
         ],
         "legendgroup": "",
         "name": "",
         "showlegend": true,
         "type": "pie",
         "values": [
          44572782.70734805,
          21826198.942832205,
          9706770.984793844,
          8832066.215054175,
          6109630.830916741,
          4501830.111022858,
          2618777.9771680166,
          1989015.9472285789,
          1751158.4039601097,
          817478.9437479251,
          657998.9479868641,
          528582.4180345915,
          457729.3732684983,
          405034.3199548208,
          342700.6722709395,
          318164.8698290279,
          247922.72553348527,
          218306.56265350909,
          202542.42893434636,
          174335.23583612355
         ]
        }
       ],
       "layout": {
        "legend": {
         "tracegroupgap": 0
        },
        "piecolorway": [
         "rgb(103,0,31)",
         "rgb(178,24,43)",
         "rgb(214,96,77)",
         "rgb(244,165,130)",
         "rgb(253,219,199)",
         "rgb(247,247,247)",
         "rgb(209,229,240)",
         "rgb(146,197,222)",
         "rgb(67,147,195)",
         "rgb(33,102,172)",
         "rgb(5,48,97)"
        ],
        "template": {
         "data": {
          "bar": [
           {
            "error_x": {
             "color": "#2a3f5f"
            },
            "error_y": {
             "color": "#2a3f5f"
            },
            "marker": {
             "line": {
              "color": "#E5ECF6",
              "width": 0.5
             },
             "pattern": {
              "fillmode": "overlay",
              "size": 10,
              "solidity": 0.2
             }
            },
            "type": "bar"
           }
          ],
          "barpolar": [
           {
            "marker": {
             "line": {
              "color": "#E5ECF6",
              "width": 0.5
             },
             "pattern": {
              "fillmode": "overlay",
              "size": 10,
              "solidity": 0.2
             }
            },
            "type": "barpolar"
           }
          ],
          "carpet": [
           {
            "aaxis": {
             "endlinecolor": "#2a3f5f",
             "gridcolor": "white",
             "linecolor": "white",
             "minorgridcolor": "white",
             "startlinecolor": "#2a3f5f"
            },
            "baxis": {
             "endlinecolor": "#2a3f5f",
             "gridcolor": "white",
             "linecolor": "white",
             "minorgridcolor": "white",
             "startlinecolor": "#2a3f5f"
            },
            "type": "carpet"
           }
          ],
          "choropleth": [
           {
            "colorbar": {
             "outlinewidth": 0,
             "ticks": ""
            },
            "type": "choropleth"
           }
          ],
          "contour": [
           {
            "colorbar": {
             "outlinewidth": 0,
             "ticks": ""
            },
            "colorscale": [
             [
              0,
              "#0d0887"
             ],
             [
              0.1111111111111111,
              "#46039f"
             ],
             [
              0.2222222222222222,
              "#7201a8"
             ],
             [
              0.3333333333333333,
              "#9c179e"
             ],
             [
              0.4444444444444444,
              "#bd3786"
             ],
             [
              0.5555555555555556,
              "#d8576b"
             ],
             [
              0.6666666666666666,
              "#ed7953"
             ],
             [
              0.7777777777777778,
              "#fb9f3a"
             ],
             [
              0.8888888888888888,
              "#fdca26"
             ],
             [
              1,
              "#f0f921"
             ]
            ],
            "type": "contour"
           }
          ],
          "contourcarpet": [
           {
            "colorbar": {
             "outlinewidth": 0,
             "ticks": ""
            },
            "type": "contourcarpet"
           }
          ],
          "heatmap": [
           {
            "colorbar": {
             "outlinewidth": 0,
             "ticks": ""
            },
            "colorscale": [
             [
              0,
              "#0d0887"
             ],
             [
              0.1111111111111111,
              "#46039f"
             ],
             [
              0.2222222222222222,
              "#7201a8"
             ],
             [
              0.3333333333333333,
              "#9c179e"
             ],
             [
              0.4444444444444444,
              "#bd3786"
             ],
             [
              0.5555555555555556,
              "#d8576b"
             ],
             [
              0.6666666666666666,
              "#ed7953"
             ],
             [
              0.7777777777777778,
              "#fb9f3a"
             ],
             [
              0.8888888888888888,
              "#fdca26"
             ],
             [
              1,
              "#f0f921"
             ]
            ],
            "type": "heatmap"
           }
          ],
          "heatmapgl": [
           {
            "colorbar": {
             "outlinewidth": 0,
             "ticks": ""
            },
            "colorscale": [
             [
              0,
              "#0d0887"
             ],
             [
              0.1111111111111111,
              "#46039f"
             ],
             [
              0.2222222222222222,
              "#7201a8"
             ],
             [
              0.3333333333333333,
              "#9c179e"
             ],
             [
              0.4444444444444444,
              "#bd3786"
             ],
             [
              0.5555555555555556,
              "#d8576b"
             ],
             [
              0.6666666666666666,
              "#ed7953"
             ],
             [
              0.7777777777777778,
              "#fb9f3a"
             ],
             [
              0.8888888888888888,
              "#fdca26"
             ],
             [
              1,
              "#f0f921"
             ]
            ],
            "type": "heatmapgl"
           }
          ],
          "histogram": [
           {
            "marker": {
             "pattern": {
              "fillmode": "overlay",
              "size": 10,
              "solidity": 0.2
             }
            },
            "type": "histogram"
           }
          ],
          "histogram2d": [
           {
            "colorbar": {
             "outlinewidth": 0,
             "ticks": ""
            },
            "colorscale": [
             [
              0,
              "#0d0887"
             ],
             [
              0.1111111111111111,
              "#46039f"
             ],
             [
              0.2222222222222222,
              "#7201a8"
             ],
             [
              0.3333333333333333,
              "#9c179e"
             ],
             [
              0.4444444444444444,
              "#bd3786"
             ],
             [
              0.5555555555555556,
              "#d8576b"
             ],
             [
              0.6666666666666666,
              "#ed7953"
             ],
             [
              0.7777777777777778,
              "#fb9f3a"
             ],
             [
              0.8888888888888888,
              "#fdca26"
             ],
             [
              1,
              "#f0f921"
             ]
            ],
            "type": "histogram2d"
           }
          ],
          "histogram2dcontour": [
           {
            "colorbar": {
             "outlinewidth": 0,
             "ticks": ""
            },
            "colorscale": [
             [
              0,
              "#0d0887"
             ],
             [
              0.1111111111111111,
              "#46039f"
             ],
             [
              0.2222222222222222,
              "#7201a8"
             ],
             [
              0.3333333333333333,
              "#9c179e"
             ],
             [
              0.4444444444444444,
              "#bd3786"
             ],
             [
              0.5555555555555556,
              "#d8576b"
             ],
             [
              0.6666666666666666,
              "#ed7953"
             ],
             [
              0.7777777777777778,
              "#fb9f3a"
             ],
             [
              0.8888888888888888,
              "#fdca26"
             ],
             [
              1,
              "#f0f921"
             ]
            ],
            "type": "histogram2dcontour"
           }
          ],
          "mesh3d": [
           {
            "colorbar": {
             "outlinewidth": 0,
             "ticks": ""
            },
            "type": "mesh3d"
           }
          ],
          "parcoords": [
           {
            "line": {
             "colorbar": {
              "outlinewidth": 0,
              "ticks": ""
             }
            },
            "type": "parcoords"
           }
          ],
          "pie": [
           {
            "automargin": true,
            "type": "pie"
           }
          ],
          "scatter": [
           {
            "fillpattern": {
             "fillmode": "overlay",
             "size": 10,
             "solidity": 0.2
            },
            "type": "scatter"
           }
          ],
          "scatter3d": [
           {
            "line": {
             "colorbar": {
              "outlinewidth": 0,
              "ticks": ""
             }
            },
            "marker": {
             "colorbar": {
              "outlinewidth": 0,
              "ticks": ""
             }
            },
            "type": "scatter3d"
           }
          ],
          "scattercarpet": [
           {
            "marker": {
             "colorbar": {
              "outlinewidth": 0,
              "ticks": ""
             }
            },
            "type": "scattercarpet"
           }
          ],
          "scattergeo": [
           {
            "marker": {
             "colorbar": {
              "outlinewidth": 0,
              "ticks": ""
             }
            },
            "type": "scattergeo"
           }
          ],
          "scattergl": [
           {
            "marker": {
             "colorbar": {
              "outlinewidth": 0,
              "ticks": ""
             }
            },
            "type": "scattergl"
           }
          ],
          "scattermapbox": [
           {
            "marker": {
             "colorbar": {
              "outlinewidth": 0,
              "ticks": ""
             }
            },
            "type": "scattermapbox"
           }
          ],
          "scatterpolar": [
           {
            "marker": {
             "colorbar": {
              "outlinewidth": 0,
              "ticks": ""
             }
            },
            "type": "scatterpolar"
           }
          ],
          "scatterpolargl": [
           {
            "marker": {
             "colorbar": {
              "outlinewidth": 0,
              "ticks": ""
             }
            },
            "type": "scatterpolargl"
           }
          ],
          "scatterternary": [
           {
            "marker": {
             "colorbar": {
              "outlinewidth": 0,
              "ticks": ""
             }
            },
            "type": "scatterternary"
           }
          ],
          "surface": [
           {
            "colorbar": {
             "outlinewidth": 0,
             "ticks": ""
            },
            "colorscale": [
             [
              0,
              "#0d0887"
             ],
             [
              0.1111111111111111,
              "#46039f"
             ],
             [
              0.2222222222222222,
              "#7201a8"
             ],
             [
              0.3333333333333333,
              "#9c179e"
             ],
             [
              0.4444444444444444,
              "#bd3786"
             ],
             [
              0.5555555555555556,
              "#d8576b"
             ],
             [
              0.6666666666666666,
              "#ed7953"
             ],
             [
              0.7777777777777778,
              "#fb9f3a"
             ],
             [
              0.8888888888888888,
              "#fdca26"
             ],
             [
              1,
              "#f0f921"
             ]
            ],
            "type": "surface"
           }
          ],
          "table": [
           {
            "cells": {
             "fill": {
              "color": "#EBF0F8"
             },
             "line": {
              "color": "white"
             }
            },
            "header": {
             "fill": {
              "color": "#C8D4E3"
             },
             "line": {
              "color": "white"
             }
            },
            "type": "table"
           }
          ]
         },
         "layout": {
          "annotationdefaults": {
           "arrowcolor": "#2a3f5f",
           "arrowhead": 0,
           "arrowwidth": 1
          },
          "autotypenumbers": "strict",
          "coloraxis": {
           "colorbar": {
            "outlinewidth": 0,
            "ticks": ""
           }
          },
          "colorscale": {
           "diverging": [
            [
             0,
             "#8e0152"
            ],
            [
             0.1,
             "#c51b7d"
            ],
            [
             0.2,
             "#de77ae"
            ],
            [
             0.3,
             "#f1b6da"
            ],
            [
             0.4,
             "#fde0ef"
            ],
            [
             0.5,
             "#f7f7f7"
            ],
            [
             0.6,
             "#e6f5d0"
            ],
            [
             0.7,
             "#b8e186"
            ],
            [
             0.8,
             "#7fbc41"
            ],
            [
             0.9,
             "#4d9221"
            ],
            [
             1,
             "#276419"
            ]
           ],
           "sequential": [
            [
             0,
             "#0d0887"
            ],
            [
             0.1111111111111111,
             "#46039f"
            ],
            [
             0.2222222222222222,
             "#7201a8"
            ],
            [
             0.3333333333333333,
             "#9c179e"
            ],
            [
             0.4444444444444444,
             "#bd3786"
            ],
            [
             0.5555555555555556,
             "#d8576b"
            ],
            [
             0.6666666666666666,
             "#ed7953"
            ],
            [
             0.7777777777777778,
             "#fb9f3a"
            ],
            [
             0.8888888888888888,
             "#fdca26"
            ],
            [
             1,
             "#f0f921"
            ]
           ],
           "sequentialminus": [
            [
             0,
             "#0d0887"
            ],
            [
             0.1111111111111111,
             "#46039f"
            ],
            [
             0.2222222222222222,
             "#7201a8"
            ],
            [
             0.3333333333333333,
             "#9c179e"
            ],
            [
             0.4444444444444444,
             "#bd3786"
            ],
            [
             0.5555555555555556,
             "#d8576b"
            ],
            [
             0.6666666666666666,
             "#ed7953"
            ],
            [
             0.7777777777777778,
             "#fb9f3a"
            ],
            [
             0.8888888888888888,
             "#fdca26"
            ],
            [
             1,
             "#f0f921"
            ]
           ]
          },
          "colorway": [
           "#636efa",
           "#EF553B",
           "#00cc96",
           "#ab63fa",
           "#FFA15A",
           "#19d3f3",
           "#FF6692",
           "#B6E880",
           "#FF97FF",
           "#FECB52"
          ],
          "font": {
           "color": "#2a3f5f"
          },
          "geo": {
           "bgcolor": "white",
           "lakecolor": "white",
           "landcolor": "#E5ECF6",
           "showlakes": true,
           "showland": true,
           "subunitcolor": "white"
          },
          "hoverlabel": {
           "align": "left"
          },
          "hovermode": "closest",
          "mapbox": {
           "style": "light"
          },
          "paper_bgcolor": "white",
          "plot_bgcolor": "#E5ECF6",
          "polar": {
           "angularaxis": {
            "gridcolor": "white",
            "linecolor": "white",
            "ticks": ""
           },
           "bgcolor": "#E5ECF6",
           "radialaxis": {
            "gridcolor": "white",
            "linecolor": "white",
            "ticks": ""
           }
          },
          "scene": {
           "xaxis": {
            "backgroundcolor": "#E5ECF6",
            "gridcolor": "white",
            "gridwidth": 2,
            "linecolor": "white",
            "showbackground": true,
            "ticks": "",
            "zerolinecolor": "white"
           },
           "yaxis": {
            "backgroundcolor": "#E5ECF6",
            "gridcolor": "white",
            "gridwidth": 2,
            "linecolor": "white",
            "showbackground": true,
            "ticks": "",
            "zerolinecolor": "white"
           },
           "zaxis": {
            "backgroundcolor": "#E5ECF6",
            "gridcolor": "white",
            "gridwidth": 2,
            "linecolor": "white",
            "showbackground": true,
            "ticks": "",
            "zerolinecolor": "white"
           }
          },
          "shapedefaults": {
           "line": {
            "color": "#2a3f5f"
           }
          },
          "ternary": {
           "aaxis": {
            "gridcolor": "white",
            "linecolor": "white",
            "ticks": ""
           },
           "baxis": {
            "gridcolor": "white",
            "linecolor": "white",
            "ticks": ""
           },
           "bgcolor": "#E5ECF6",
           "caxis": {
            "gridcolor": "white",
            "linecolor": "white",
            "ticks": ""
           }
          },
          "title": {
           "x": 0.05
          },
          "xaxis": {
           "automargin": true,
           "gridcolor": "white",
           "linecolor": "white",
           "ticks": "",
           "title": {
            "standoff": 15
           },
           "zerolinecolor": "white",
           "zerolinewidth": 2
          },
          "yaxis": {
           "automargin": true,
           "gridcolor": "white",
           "linecolor": "white",
           "ticks": "",
           "title": {
            "standoff": 15
           },
           "zerolinecolor": "white",
           "zerolinewidth": 2
          }
         }
        },
        "title": {
         "text": "Principais Gastos de Lula por Setor"
        }
       }
      }
     },
     "metadata": {},
     "output_type": "display_data"
    }
   ],
   "source": [
    "fig_lula_setores = px.pie(gastos_lula_setores.head(20), values='VALOR_CORRIGIDO', names='SUBELEMENTO DE DESPESA', \n",
    "                          title='Principais Gastos de Lula por Setor',color_discrete_sequence=px.colors.sequential.RdBu)\n",
    "fig_lula_setores.show()"
   ]
  },
  {
   "cell_type": "markdown",
   "metadata": {},
   "source": [
    "#### Dilma"
   ]
  },
  {
   "cell_type": "code",
   "execution_count": 30,
   "metadata": {},
   "outputs": [
    {
     "data": {
      "text/html": [
       "<div>\n",
       "<style scoped>\n",
       "    .dataframe tbody tr th:only-of-type {\n",
       "        vertical-align: middle;\n",
       "    }\n",
       "\n",
       "    .dataframe tbody tr th {\n",
       "        vertical-align: top;\n",
       "    }\n",
       "\n",
       "    .dataframe thead th {\n",
       "        text-align: right;\n",
       "    }\n",
       "</style>\n",
       "<table border=\"1\" class=\"dataframe\">\n",
       "  <thead>\n",
       "    <tr style=\"text-align: right;\">\n",
       "      <th></th>\n",
       "      <th>index</th>\n",
       "      <th>TIPO</th>\n",
       "      <th>SUBELEMENTO DE DESPESA</th>\n",
       "      <th>VALOR_CORRIGIDO</th>\n",
       "    </tr>\n",
       "  </thead>\n",
       "  <tbody>\n",
       "    <tr>\n",
       "      <th>0</th>\n",
       "      <td>21</td>\n",
       "      <td>Crédito</td>\n",
       "      <td>HOSPEDAGENS</td>\n",
       "      <td>3.012915e+07</td>\n",
       "    </tr>\n",
       "    <tr>\n",
       "      <th>1</th>\n",
       "      <td>20</td>\n",
       "      <td>Crédito</td>\n",
       "      <td>GENEROS DE ALIMENTAÇO</td>\n",
       "      <td>9.100243e+06</td>\n",
       "    </tr>\n",
       "    <tr>\n",
       "      <th>2</th>\n",
       "      <td>17</td>\n",
       "      <td>Crédito</td>\n",
       "      <td>FORNECIMENTO DE ALIMENTAÇO</td>\n",
       "      <td>6.699946e+06</td>\n",
       "    </tr>\n",
       "    <tr>\n",
       "      <th>3</th>\n",
       "      <td>64</td>\n",
       "      <td>Crédito</td>\n",
       "      <td>SERV.DE APOIO ADMIN.,TECNICO E OPERACIONAL</td>\n",
       "      <td>5.576936e+06</td>\n",
       "    </tr>\n",
       "    <tr>\n",
       "      <th>4</th>\n",
       "      <td>127</td>\n",
       "      <td>Débito</td>\n",
       "      <td>SERV.DE APOIO ADMIN.,TECNICO E OPERACIONAL</td>\n",
       "      <td>9.324621e+05</td>\n",
       "    </tr>\n",
       "    <tr>\n",
       "      <th>5</th>\n",
       "      <td>41</td>\n",
       "      <td>Crédito</td>\n",
       "      <td>MATERIAL DE LIMPEZA E PROD. DE HIGIENIZAÇO</td>\n",
       "      <td>7.080077e+05</td>\n",
       "    </tr>\n",
       "    <tr>\n",
       "      <th>6</th>\n",
       "      <td>134</td>\n",
       "      <td>Débito</td>\n",
       "      <td>SERVIOS DE TELECOMUNICAåES</td>\n",
       "      <td>5.100512e+05</td>\n",
       "    </tr>\n",
       "    <tr>\n",
       "      <th>7</th>\n",
       "      <td>48</td>\n",
       "      <td>Crédito</td>\n",
       "      <td>MATERIAL FARMACOLOGICO</td>\n",
       "      <td>4.309409e+05</td>\n",
       "    </tr>\n",
       "    <tr>\n",
       "      <th>8</th>\n",
       "      <td>92</td>\n",
       "      <td>Débito</td>\n",
       "      <td>GENEROS DE ALIMENTAÇO</td>\n",
       "      <td>4.144035e+05</td>\n",
       "    </tr>\n",
       "    <tr>\n",
       "      <th>9</th>\n",
       "      <td>7</td>\n",
       "      <td>Crédito</td>\n",
       "      <td>COMBUSTIVEIS E LUBRIF. AUTOMOTIVOS</td>\n",
       "      <td>3.581242e+05</td>\n",
       "    </tr>\n",
       "    <tr>\n",
       "      <th>10</th>\n",
       "      <td>89</td>\n",
       "      <td>Débito</td>\n",
       "      <td>FORNECIMENTO DE ALIMENTAÇO</td>\n",
       "      <td>2.993104e+05</td>\n",
       "    </tr>\n",
       "    <tr>\n",
       "      <th>11</th>\n",
       "      <td>93</td>\n",
       "      <td>Débito</td>\n",
       "      <td>HOSPEDAGENS</td>\n",
       "      <td>2.456397e+05</td>\n",
       "    </tr>\n",
       "    <tr>\n",
       "      <th>12</th>\n",
       "      <td>97</td>\n",
       "      <td>Débito</td>\n",
       "      <td>LOCAÇO BENS MOV. OUTR. NATUREZA E INTANGÖVEIS</td>\n",
       "      <td>2.223238e+05</td>\n",
       "    </tr>\n",
       "    <tr>\n",
       "      <th>13</th>\n",
       "      <td>38</td>\n",
       "      <td>Crédito</td>\n",
       "      <td>MATERIAL DE COPA E COZINHA</td>\n",
       "      <td>2.182938e+05</td>\n",
       "    </tr>\n",
       "    <tr>\n",
       "      <th>14</th>\n",
       "      <td>23</td>\n",
       "      <td>Crédito</td>\n",
       "      <td>LOCACAO DE MEIOS DE TRANSPORTE</td>\n",
       "      <td>1.826757e+05</td>\n",
       "    </tr>\n",
       "    <tr>\n",
       "      <th>15</th>\n",
       "      <td>53</td>\n",
       "      <td>Crédito</td>\n",
       "      <td>MATERIAL P/MANUTENÇO DE BENS IMàVEIS</td>\n",
       "      <td>1.324564e+05</td>\n",
       "    </tr>\n",
       "    <tr>\n",
       "      <th>16</th>\n",
       "      <td>25</td>\n",
       "      <td>Crédito</td>\n",
       "      <td>LOCAÇO DE IMàVEIS</td>\n",
       "      <td>1.121070e+05</td>\n",
       "    </tr>\n",
       "    <tr>\n",
       "      <th>17</th>\n",
       "      <td>11</td>\n",
       "      <td>Crédito</td>\n",
       "      <td>DESPESAS COM EXCESSO DE BAGAGEM</td>\n",
       "      <td>1.121008e+05</td>\n",
       "    </tr>\n",
       "    <tr>\n",
       "      <th>18</th>\n",
       "      <td>22</td>\n",
       "      <td>Crédito</td>\n",
       "      <td>LIMPEZA E CONSERVAÇO</td>\n",
       "      <td>9.521468e+04</td>\n",
       "    </tr>\n",
       "    <tr>\n",
       "      <th>19</th>\n",
       "      <td>30</td>\n",
       "      <td>Crédito</td>\n",
       "      <td>MANUT. E CONS. DE VEÖCULOS</td>\n",
       "      <td>9.007423e+04</td>\n",
       "    </tr>\n",
       "  </tbody>\n",
       "</table>\n",
       "</div>"
      ],
      "text/plain": [
       "    index     TIPO                          SUBELEMENTO DE DESPESA  \\\n",
       "0      21  Crédito                                     HOSPEDAGENS   \n",
       "1      20  Crédito                          GENEROS DE ALIMENTAÇO   \n",
       "2      17  Crédito                     FORNECIMENTO DE ALIMENTAÇO   \n",
       "3      64  Crédito      SERV.DE APOIO ADMIN.,TECNICO E OPERACIONAL   \n",
       "4     127   Débito      SERV.DE APOIO ADMIN.,TECNICO E OPERACIONAL   \n",
       "5      41  Crédito     MATERIAL DE LIMPEZA E PROD. DE HIGIENIZAÇO   \n",
       "6     134   Débito                    SERVIOS DE TELECOMUNICAåES   \n",
       "7      48  Crédito                          MATERIAL FARMACOLOGICO   \n",
       "8      92   Débito                          GENEROS DE ALIMENTAÇO   \n",
       "9       7  Crédito              COMBUSTIVEIS E LUBRIF. AUTOMOTIVOS   \n",
       "10     89   Débito                     FORNECIMENTO DE ALIMENTAÇO   \n",
       "11     93   Débito                                     HOSPEDAGENS   \n",
       "12     97   Débito  LOCAÇO BENS MOV. OUTR. NATUREZA E INTANGÖVEIS   \n",
       "13     38  Crédito                      MATERIAL DE COPA E COZINHA   \n",
       "14     23  Crédito                  LOCACAO DE MEIOS DE TRANSPORTE   \n",
       "15     53  Crédito           MATERIAL P/MANUTENÇO DE BENS IMàVEIS   \n",
       "16     25  Crédito                              LOCAÇO DE IMàVEIS   \n",
       "17     11  Crédito                 DESPESAS COM EXCESSO DE BAGAGEM   \n",
       "18     22  Crédito                           LIMPEZA E CONSERVAÇO   \n",
       "19     30  Crédito                      MANUT. E CONS. DE VEÖCULOS   \n",
       "\n",
       "    VALOR_CORRIGIDO  \n",
       "0      3.012915e+07  \n",
       "1      9.100243e+06  \n",
       "2      6.699946e+06  \n",
       "3      5.576936e+06  \n",
       "4      9.324621e+05  \n",
       "5      7.080077e+05  \n",
       "6      5.100512e+05  \n",
       "7      4.309409e+05  \n",
       "8      4.144035e+05  \n",
       "9      3.581242e+05  \n",
       "10     2.993104e+05  \n",
       "11     2.456397e+05  \n",
       "12     2.223238e+05  \n",
       "13     2.182938e+05  \n",
       "14     1.826757e+05  \n",
       "15     1.324564e+05  \n",
       "16     1.121070e+05  \n",
       "17     1.121008e+05  \n",
       "18     9.521468e+04  \n",
       "19     9.007423e+04  "
      ]
     },
     "execution_count": 30,
     "metadata": {},
     "output_type": "execute_result"
    }
   ],
   "source": [
    "gastos_dilma = gastos[gastos['PRES'] == 'DILMA']\n",
    "\n",
    "gastos_dilma_setores = gastos_dilma.groupby([\"TIPO\", \"SUBELEMENTO DE DESPESA\"]).agg({\"VALOR_CORRIGIDO\": sum}).reset_index()\n",
    "gastos_dilma_setores = gastos_dilma_setores.sort_values('VALOR_CORRIGIDO', ascending=False).reset_index()\n",
    "gastos_dilma_setores.head(20)"
   ]
  },
  {
   "cell_type": "code",
   "execution_count": 31,
   "metadata": {},
   "outputs": [
    {
     "data": {
      "application/vnd.plotly.v1+json": {
       "config": {
        "plotlyServerURL": "https://plot.ly"
       },
       "data": [
        {
         "domain": {
          "x": [
           0,
           1
          ],
          "y": [
           0,
           1
          ]
         },
         "hovertemplate": "TIPO=%{label}<br>VALOR_CORRIGIDO=%{value}<extra></extra>",
         "labels": [
          "Crédito",
          "Crédito",
          "Crédito",
          "Crédito",
          "Débito",
          "Crédito",
          "Débito",
          "Crédito",
          "Débito",
          "Crédito",
          "Débito",
          "Débito",
          "Débito",
          "Crédito",
          "Crédito",
          "Crédito",
          "Crédito",
          "Crédito",
          "Crédito",
          "Crédito",
          "Débito",
          "Crédito",
          "Crédito",
          "Crédito",
          "Crédito",
          "Crédito",
          "Crédito",
          "Crédito",
          "Crédito",
          "Crédito",
          "Crédito",
          "Crédito",
          "Crédito",
          "Crédito",
          "Crédito",
          "Crédito",
          "Débito",
          "Crédito",
          "Crédito",
          "Débito",
          "Crédito",
          "Débito",
          "Crédito",
          "Crédito",
          "Débito",
          "Débito",
          "Crédito",
          "Débito",
          "Débito",
          "Crédito",
          "Débito",
          "Débito",
          "Débito",
          "Crédito",
          "Crédito",
          "Crédito",
          "Débito",
          "Débito",
          "Crédito",
          "Crédito",
          "Crédito",
          "Crédito",
          "Débito",
          "Crédito",
          "Crédito",
          "Débito",
          "Débito",
          "Débito",
          "Crédito",
          "Débito",
          "Crédito",
          "Crédito",
          "Débito",
          "Débito",
          "Crédito",
          "Crédito",
          "Crédito",
          "Débito",
          "Crédito",
          "Crédito",
          "Débito",
          "Crédito",
          "Débito",
          "Débito",
          "Crédito",
          "Débito",
          "Débito",
          "Débito",
          "Crédito",
          "Crédito",
          "Débito",
          "Débito",
          "Débito",
          "Crédito",
          "Crédito",
          "Crédito",
          "Crédito",
          "Débito",
          "Débito",
          "Crédito",
          "Débito",
          "Crédito",
          "Crédito",
          "Débito",
          "Débito",
          "Débito",
          "Débito",
          "Débito",
          "Débito",
          "Débito",
          "Crédito",
          "Débito",
          "Crédito",
          "Crédito",
          "Débito",
          "Crédito",
          "Débito",
          "Débito",
          "Débito",
          "Débito",
          "Crédito",
          "Débito",
          "Débito",
          "Débito",
          "Débito",
          "Crédito",
          "Débito",
          "Débito",
          "Débito",
          "Crédito",
          "Débito",
          "Crédito",
          "Débito",
          "Crédito",
          "Crédito",
          "Crédito",
          "Crédito",
          "Crédito",
          "Crédito",
          "Débito"
         ],
         "legendgroup": "",
         "name": "",
         "showlegend": true,
         "type": "pie",
         "values": [
          30129152.585356683,
          9100242.506670117,
          6699945.948822774,
          5576936.079875515,
          932462.0648450612,
          708007.7486516832,
          510051.1819609374,
          430940.85402984533,
          414403.51820110687,
          358124.1922655602,
          299310.36987277167,
          245639.65753935304,
          222323.7725064557,
          218293.7866131972,
          182675.70988402664,
          132456.4443936051,
          112106.97275755432,
          112100.75865350795,
          95214.68464298289,
          90074.23439896376,
          79945.15974833495,
          78476.81250125745,
          72274.5164627744,
          69180.4954801193,
          62452.38452859584,
          61808.14449553308,
          60251.68952030997,
          53989.94131298825,
          52767.732890278414,
          51252.71443755509,
          39879.637376203376,
          39770.72634897764,
          35451.93380904604,
          29273.08720555837,
          27250.680337742626,
          26386.836080611185,
          24315.80449021903,
          20549.37367671946,
          17824.606780677925,
          17085.12513142546,
          16822.74209643694,
          16505.848116414192,
          15667.026225643413,
          14801.168541167426,
          14740.380321996077,
          14731.17490569578,
          13958.939256844951,
          12594.727370169046,
          10280.07144933655,
          9889.880820687526,
          8969.100368106467,
          8783.47063810144,
          7733.35765072291,
          7453.3796636634215,
          7076.597512585469,
          5411.573649169056,
          5350.923001332795,
          5252.860500125986,
          5229.818074685025,
          5167.534207530809,
          4518.191216815543,
          4396.433962859658,
          4132.594634618069,
          4072.6099252521967,
          3874.272980404005,
          3656.211569301016,
          3492.4555362057185,
          3298.6068569538725,
          3084.4396075888017,
          3067.7096017111903,
          2985.5760573786365,
          2690.28390365193,
          2647.886744215091,
          2537.0229416884345,
          2528.5200924832184,
          2389.682263504954,
          2239.637909998759,
          2170.2102930046703,
          2128.143421979714,
          2061.429971963226,
          1981.8201918055647,
          1716.2618883605805,
          1641.7131732513303,
          1621.450323257021,
          1539.0970921442358,
          1462.1957573173836,
          1424.5252379936899,
          1364.882499450663,
          1350.7345759242062,
          1317.2146218783846,
          1205.7416009350277,
          1146.486805935754,
          1133.580536731479,
          1108.9367491398318,
          1101.0879588321861,
          1096.2034469899725,
          1067.135123623056,
          984.6851675958956,
          968.9643175483684,
          951.8931710039578,
          823.2866823816554,
          821.0366047844553,
          782.4631925787587,
          721.2544110069414,
          714.884152556578,
          633.9659224289983,
          620.9671211977916,
          587.9973927666836,
          586.4273618380621,
          584.1538581427691,
          569.1929754557865,
          528.7344865152947,
          510.6965019039507,
          485.02549107491217,
          453.3185405736253,
          428.1119515983221,
          408.4838299588029,
          405.25248136648037,
          400.006120649413,
          393.3644953366236,
          380.55765126499574,
          371.6392812448478,
          309.04911325017684,
          281.9602364525464,
          193.83794487530284,
          163.25153155563254,
          138.32318566221028,
          117.76905077287805,
          108.28780746712876,
          102.71128046292257,
          90.26165894264794,
          82.03591312234363,
          80.47156415705825,
          73.82985999487418,
          68.75300497535869,
          54.32302098825611,
          47.633403942556214,
          23.174015030413553,
          16.47444355613796,
          5.93253323286468
         ]
        }
       ],
       "layout": {
        "legend": {
         "tracegroupgap": 0
        },
        "piecolorway": [
         "rgb(214, 249, 207)",
         "rgb(186, 228, 174)",
         "rgb(156, 209, 143)",
         "rgb(124, 191, 115)",
         "rgb(85, 174, 91)",
         "rgb(37, 157, 81)",
         "rgb(7, 138, 78)",
         "rgb(13, 117, 71)",
         "rgb(23, 95, 61)",
         "rgb(25, 75, 49)",
         "rgb(23, 55, 35)",
         "rgb(17, 36, 20)"
        ],
        "template": {
         "data": {
          "bar": [
           {
            "error_x": {
             "color": "#2a3f5f"
            },
            "error_y": {
             "color": "#2a3f5f"
            },
            "marker": {
             "line": {
              "color": "#E5ECF6",
              "width": 0.5
             },
             "pattern": {
              "fillmode": "overlay",
              "size": 10,
              "solidity": 0.2
             }
            },
            "type": "bar"
           }
          ],
          "barpolar": [
           {
            "marker": {
             "line": {
              "color": "#E5ECF6",
              "width": 0.5
             },
             "pattern": {
              "fillmode": "overlay",
              "size": 10,
              "solidity": 0.2
             }
            },
            "type": "barpolar"
           }
          ],
          "carpet": [
           {
            "aaxis": {
             "endlinecolor": "#2a3f5f",
             "gridcolor": "white",
             "linecolor": "white",
             "minorgridcolor": "white",
             "startlinecolor": "#2a3f5f"
            },
            "baxis": {
             "endlinecolor": "#2a3f5f",
             "gridcolor": "white",
             "linecolor": "white",
             "minorgridcolor": "white",
             "startlinecolor": "#2a3f5f"
            },
            "type": "carpet"
           }
          ],
          "choropleth": [
           {
            "colorbar": {
             "outlinewidth": 0,
             "ticks": ""
            },
            "type": "choropleth"
           }
          ],
          "contour": [
           {
            "colorbar": {
             "outlinewidth": 0,
             "ticks": ""
            },
            "colorscale": [
             [
              0,
              "#0d0887"
             ],
             [
              0.1111111111111111,
              "#46039f"
             ],
             [
              0.2222222222222222,
              "#7201a8"
             ],
             [
              0.3333333333333333,
              "#9c179e"
             ],
             [
              0.4444444444444444,
              "#bd3786"
             ],
             [
              0.5555555555555556,
              "#d8576b"
             ],
             [
              0.6666666666666666,
              "#ed7953"
             ],
             [
              0.7777777777777778,
              "#fb9f3a"
             ],
             [
              0.8888888888888888,
              "#fdca26"
             ],
             [
              1,
              "#f0f921"
             ]
            ],
            "type": "contour"
           }
          ],
          "contourcarpet": [
           {
            "colorbar": {
             "outlinewidth": 0,
             "ticks": ""
            },
            "type": "contourcarpet"
           }
          ],
          "heatmap": [
           {
            "colorbar": {
             "outlinewidth": 0,
             "ticks": ""
            },
            "colorscale": [
             [
              0,
              "#0d0887"
             ],
             [
              0.1111111111111111,
              "#46039f"
             ],
             [
              0.2222222222222222,
              "#7201a8"
             ],
             [
              0.3333333333333333,
              "#9c179e"
             ],
             [
              0.4444444444444444,
              "#bd3786"
             ],
             [
              0.5555555555555556,
              "#d8576b"
             ],
             [
              0.6666666666666666,
              "#ed7953"
             ],
             [
              0.7777777777777778,
              "#fb9f3a"
             ],
             [
              0.8888888888888888,
              "#fdca26"
             ],
             [
              1,
              "#f0f921"
             ]
            ],
            "type": "heatmap"
           }
          ],
          "heatmapgl": [
           {
            "colorbar": {
             "outlinewidth": 0,
             "ticks": ""
            },
            "colorscale": [
             [
              0,
              "#0d0887"
             ],
             [
              0.1111111111111111,
              "#46039f"
             ],
             [
              0.2222222222222222,
              "#7201a8"
             ],
             [
              0.3333333333333333,
              "#9c179e"
             ],
             [
              0.4444444444444444,
              "#bd3786"
             ],
             [
              0.5555555555555556,
              "#d8576b"
             ],
             [
              0.6666666666666666,
              "#ed7953"
             ],
             [
              0.7777777777777778,
              "#fb9f3a"
             ],
             [
              0.8888888888888888,
              "#fdca26"
             ],
             [
              1,
              "#f0f921"
             ]
            ],
            "type": "heatmapgl"
           }
          ],
          "histogram": [
           {
            "marker": {
             "pattern": {
              "fillmode": "overlay",
              "size": 10,
              "solidity": 0.2
             }
            },
            "type": "histogram"
           }
          ],
          "histogram2d": [
           {
            "colorbar": {
             "outlinewidth": 0,
             "ticks": ""
            },
            "colorscale": [
             [
              0,
              "#0d0887"
             ],
             [
              0.1111111111111111,
              "#46039f"
             ],
             [
              0.2222222222222222,
              "#7201a8"
             ],
             [
              0.3333333333333333,
              "#9c179e"
             ],
             [
              0.4444444444444444,
              "#bd3786"
             ],
             [
              0.5555555555555556,
              "#d8576b"
             ],
             [
              0.6666666666666666,
              "#ed7953"
             ],
             [
              0.7777777777777778,
              "#fb9f3a"
             ],
             [
              0.8888888888888888,
              "#fdca26"
             ],
             [
              1,
              "#f0f921"
             ]
            ],
            "type": "histogram2d"
           }
          ],
          "histogram2dcontour": [
           {
            "colorbar": {
             "outlinewidth": 0,
             "ticks": ""
            },
            "colorscale": [
             [
              0,
              "#0d0887"
             ],
             [
              0.1111111111111111,
              "#46039f"
             ],
             [
              0.2222222222222222,
              "#7201a8"
             ],
             [
              0.3333333333333333,
              "#9c179e"
             ],
             [
              0.4444444444444444,
              "#bd3786"
             ],
             [
              0.5555555555555556,
              "#d8576b"
             ],
             [
              0.6666666666666666,
              "#ed7953"
             ],
             [
              0.7777777777777778,
              "#fb9f3a"
             ],
             [
              0.8888888888888888,
              "#fdca26"
             ],
             [
              1,
              "#f0f921"
             ]
            ],
            "type": "histogram2dcontour"
           }
          ],
          "mesh3d": [
           {
            "colorbar": {
             "outlinewidth": 0,
             "ticks": ""
            },
            "type": "mesh3d"
           }
          ],
          "parcoords": [
           {
            "line": {
             "colorbar": {
              "outlinewidth": 0,
              "ticks": ""
             }
            },
            "type": "parcoords"
           }
          ],
          "pie": [
           {
            "automargin": true,
            "type": "pie"
           }
          ],
          "scatter": [
           {
            "fillpattern": {
             "fillmode": "overlay",
             "size": 10,
             "solidity": 0.2
            },
            "type": "scatter"
           }
          ],
          "scatter3d": [
           {
            "line": {
             "colorbar": {
              "outlinewidth": 0,
              "ticks": ""
             }
            },
            "marker": {
             "colorbar": {
              "outlinewidth": 0,
              "ticks": ""
             }
            },
            "type": "scatter3d"
           }
          ],
          "scattercarpet": [
           {
            "marker": {
             "colorbar": {
              "outlinewidth": 0,
              "ticks": ""
             }
            },
            "type": "scattercarpet"
           }
          ],
          "scattergeo": [
           {
            "marker": {
             "colorbar": {
              "outlinewidth": 0,
              "ticks": ""
             }
            },
            "type": "scattergeo"
           }
          ],
          "scattergl": [
           {
            "marker": {
             "colorbar": {
              "outlinewidth": 0,
              "ticks": ""
             }
            },
            "type": "scattergl"
           }
          ],
          "scattermapbox": [
           {
            "marker": {
             "colorbar": {
              "outlinewidth": 0,
              "ticks": ""
             }
            },
            "type": "scattermapbox"
           }
          ],
          "scatterpolar": [
           {
            "marker": {
             "colorbar": {
              "outlinewidth": 0,
              "ticks": ""
             }
            },
            "type": "scatterpolar"
           }
          ],
          "scatterpolargl": [
           {
            "marker": {
             "colorbar": {
              "outlinewidth": 0,
              "ticks": ""
             }
            },
            "type": "scatterpolargl"
           }
          ],
          "scatterternary": [
           {
            "marker": {
             "colorbar": {
              "outlinewidth": 0,
              "ticks": ""
             }
            },
            "type": "scatterternary"
           }
          ],
          "surface": [
           {
            "colorbar": {
             "outlinewidth": 0,
             "ticks": ""
            },
            "colorscale": [
             [
              0,
              "#0d0887"
             ],
             [
              0.1111111111111111,
              "#46039f"
             ],
             [
              0.2222222222222222,
              "#7201a8"
             ],
             [
              0.3333333333333333,
              "#9c179e"
             ],
             [
              0.4444444444444444,
              "#bd3786"
             ],
             [
              0.5555555555555556,
              "#d8576b"
             ],
             [
              0.6666666666666666,
              "#ed7953"
             ],
             [
              0.7777777777777778,
              "#fb9f3a"
             ],
             [
              0.8888888888888888,
              "#fdca26"
             ],
             [
              1,
              "#f0f921"
             ]
            ],
            "type": "surface"
           }
          ],
          "table": [
           {
            "cells": {
             "fill": {
              "color": "#EBF0F8"
             },
             "line": {
              "color": "white"
             }
            },
            "header": {
             "fill": {
              "color": "#C8D4E3"
             },
             "line": {
              "color": "white"
             }
            },
            "type": "table"
           }
          ]
         },
         "layout": {
          "annotationdefaults": {
           "arrowcolor": "#2a3f5f",
           "arrowhead": 0,
           "arrowwidth": 1
          },
          "autotypenumbers": "strict",
          "coloraxis": {
           "colorbar": {
            "outlinewidth": 0,
            "ticks": ""
           }
          },
          "colorscale": {
           "diverging": [
            [
             0,
             "#8e0152"
            ],
            [
             0.1,
             "#c51b7d"
            ],
            [
             0.2,
             "#de77ae"
            ],
            [
             0.3,
             "#f1b6da"
            ],
            [
             0.4,
             "#fde0ef"
            ],
            [
             0.5,
             "#f7f7f7"
            ],
            [
             0.6,
             "#e6f5d0"
            ],
            [
             0.7,
             "#b8e186"
            ],
            [
             0.8,
             "#7fbc41"
            ],
            [
             0.9,
             "#4d9221"
            ],
            [
             1,
             "#276419"
            ]
           ],
           "sequential": [
            [
             0,
             "#0d0887"
            ],
            [
             0.1111111111111111,
             "#46039f"
            ],
            [
             0.2222222222222222,
             "#7201a8"
            ],
            [
             0.3333333333333333,
             "#9c179e"
            ],
            [
             0.4444444444444444,
             "#bd3786"
            ],
            [
             0.5555555555555556,
             "#d8576b"
            ],
            [
             0.6666666666666666,
             "#ed7953"
            ],
            [
             0.7777777777777778,
             "#fb9f3a"
            ],
            [
             0.8888888888888888,
             "#fdca26"
            ],
            [
             1,
             "#f0f921"
            ]
           ],
           "sequentialminus": [
            [
             0,
             "#0d0887"
            ],
            [
             0.1111111111111111,
             "#46039f"
            ],
            [
             0.2222222222222222,
             "#7201a8"
            ],
            [
             0.3333333333333333,
             "#9c179e"
            ],
            [
             0.4444444444444444,
             "#bd3786"
            ],
            [
             0.5555555555555556,
             "#d8576b"
            ],
            [
             0.6666666666666666,
             "#ed7953"
            ],
            [
             0.7777777777777778,
             "#fb9f3a"
            ],
            [
             0.8888888888888888,
             "#fdca26"
            ],
            [
             1,
             "#f0f921"
            ]
           ]
          },
          "colorway": [
           "#636efa",
           "#EF553B",
           "#00cc96",
           "#ab63fa",
           "#FFA15A",
           "#19d3f3",
           "#FF6692",
           "#B6E880",
           "#FF97FF",
           "#FECB52"
          ],
          "font": {
           "color": "#2a3f5f"
          },
          "geo": {
           "bgcolor": "white",
           "lakecolor": "white",
           "landcolor": "#E5ECF6",
           "showlakes": true,
           "showland": true,
           "subunitcolor": "white"
          },
          "hoverlabel": {
           "align": "left"
          },
          "hovermode": "closest",
          "mapbox": {
           "style": "light"
          },
          "paper_bgcolor": "white",
          "plot_bgcolor": "#E5ECF6",
          "polar": {
           "angularaxis": {
            "gridcolor": "white",
            "linecolor": "white",
            "ticks": ""
           },
           "bgcolor": "#E5ECF6",
           "radialaxis": {
            "gridcolor": "white",
            "linecolor": "white",
            "ticks": ""
           }
          },
          "scene": {
           "xaxis": {
            "backgroundcolor": "#E5ECF6",
            "gridcolor": "white",
            "gridwidth": 2,
            "linecolor": "white",
            "showbackground": true,
            "ticks": "",
            "zerolinecolor": "white"
           },
           "yaxis": {
            "backgroundcolor": "#E5ECF6",
            "gridcolor": "white",
            "gridwidth": 2,
            "linecolor": "white",
            "showbackground": true,
            "ticks": "",
            "zerolinecolor": "white"
           },
           "zaxis": {
            "backgroundcolor": "#E5ECF6",
            "gridcolor": "white",
            "gridwidth": 2,
            "linecolor": "white",
            "showbackground": true,
            "ticks": "",
            "zerolinecolor": "white"
           }
          },
          "shapedefaults": {
           "line": {
            "color": "#2a3f5f"
           }
          },
          "ternary": {
           "aaxis": {
            "gridcolor": "white",
            "linecolor": "white",
            "ticks": ""
           },
           "baxis": {
            "gridcolor": "white",
            "linecolor": "white",
            "ticks": ""
           },
           "bgcolor": "#E5ECF6",
           "caxis": {
            "gridcolor": "white",
            "linecolor": "white",
            "ticks": ""
           }
          },
          "title": {
           "x": 0.05
          },
          "xaxis": {
           "automargin": true,
           "gridcolor": "white",
           "linecolor": "white",
           "ticks": "",
           "title": {
            "standoff": 15
           },
           "zerolinecolor": "white",
           "zerolinewidth": 2
          },
          "yaxis": {
           "automargin": true,
           "gridcolor": "white",
           "linecolor": "white",
           "ticks": "",
           "title": {
            "standoff": 15
           },
           "zerolinecolor": "white",
           "zerolinewidth": 2
          }
         }
        },
        "title": {
         "text": "Gastos Dilma por modalidade de pagamento"
        }
       }
      }
     },
     "metadata": {},
     "output_type": "display_data"
    }
   ],
   "source": [
    "fig_dilma = px.pie(gastos_dilma_setores, values='VALOR_CORRIGIDO', names='TIPO', title='Gastos Dilma por modalidade de pagamento',\n",
    "color_discrete_sequence=px.colors.sequential.algae)\n",
    "fig_dilma.show()"
   ]
  },
  {
   "cell_type": "code",
   "execution_count": 32,
   "metadata": {},
   "outputs": [
    {
     "data": {
      "application/vnd.plotly.v1+json": {
       "config": {
        "plotlyServerURL": "https://plot.ly"
       },
       "data": [
        {
         "domain": {
          "x": [
           0,
           1
          ],
          "y": [
           0,
           1
          ]
         },
         "hovertemplate": "SUBELEMENTO DE DESPESA=%{label}<br>VALOR_CORRIGIDO=%{value}<extra></extra>",
         "labels": [
          "HOSPEDAGENS",
          "GENEROS DE ALIMENTAÇO",
          "FORNECIMENTO DE ALIMENTAÇO",
          "SERV.DE APOIO ADMIN.,TECNICO E OPERACIONAL",
          "SERV.DE APOIO ADMIN.,TECNICO E OPERACIONAL",
          "MATERIAL DE LIMPEZA E PROD. DE HIGIENIZAÇO",
          "SERVIOS DE TELECOMUNICAåES",
          "MATERIAL FARMACOLOGICO",
          "GENEROS DE ALIMENTAÇO",
          "COMBUSTIVEIS E LUBRIF. AUTOMOTIVOS",
          "FORNECIMENTO DE ALIMENTAÇO",
          "HOSPEDAGENS",
          "LOCAÇO BENS MOV. OUTR. NATUREZA E INTANGÖVEIS",
          "MATERIAL DE COPA E COZINHA",
          "LOCACAO DE MEIOS DE TRANSPORTE",
          "MATERIAL P/MANUTENÇO DE BENS IMàVEIS",
          "LOCAÇO DE IMàVEIS",
          "DESPESAS COM EXCESSO DE BAGAGEM",
          "LIMPEZA E CONSERVAÇO",
          "MANUT. E CONS. DE VEÖCULOS"
         ],
         "legendgroup": "",
         "name": "",
         "showlegend": true,
         "type": "pie",
         "values": [
          30129152.585356683,
          9100242.506670117,
          6699945.948822774,
          5576936.079875515,
          932462.0648450612,
          708007.7486516832,
          510051.1819609374,
          430940.85402984533,
          414403.51820110687,
          358124.1922655602,
          299310.36987277167,
          245639.65753935304,
          222323.7725064557,
          218293.7866131972,
          182675.70988402664,
          132456.4443936051,
          112106.97275755432,
          112100.75865350795,
          95214.68464298289,
          90074.23439896376
         ]
        }
       ],
       "layout": {
        "legend": {
         "tracegroupgap": 0
        },
        "piecolorway": [
         "rgb(214, 249, 207)",
         "rgb(186, 228, 174)",
         "rgb(156, 209, 143)",
         "rgb(124, 191, 115)",
         "rgb(85, 174, 91)",
         "rgb(37, 157, 81)",
         "rgb(7, 138, 78)",
         "rgb(13, 117, 71)",
         "rgb(23, 95, 61)",
         "rgb(25, 75, 49)",
         "rgb(23, 55, 35)",
         "rgb(17, 36, 20)"
        ],
        "template": {
         "data": {
          "bar": [
           {
            "error_x": {
             "color": "#2a3f5f"
            },
            "error_y": {
             "color": "#2a3f5f"
            },
            "marker": {
             "line": {
              "color": "#E5ECF6",
              "width": 0.5
             },
             "pattern": {
              "fillmode": "overlay",
              "size": 10,
              "solidity": 0.2
             }
            },
            "type": "bar"
           }
          ],
          "barpolar": [
           {
            "marker": {
             "line": {
              "color": "#E5ECF6",
              "width": 0.5
             },
             "pattern": {
              "fillmode": "overlay",
              "size": 10,
              "solidity": 0.2
             }
            },
            "type": "barpolar"
           }
          ],
          "carpet": [
           {
            "aaxis": {
             "endlinecolor": "#2a3f5f",
             "gridcolor": "white",
             "linecolor": "white",
             "minorgridcolor": "white",
             "startlinecolor": "#2a3f5f"
            },
            "baxis": {
             "endlinecolor": "#2a3f5f",
             "gridcolor": "white",
             "linecolor": "white",
             "minorgridcolor": "white",
             "startlinecolor": "#2a3f5f"
            },
            "type": "carpet"
           }
          ],
          "choropleth": [
           {
            "colorbar": {
             "outlinewidth": 0,
             "ticks": ""
            },
            "type": "choropleth"
           }
          ],
          "contour": [
           {
            "colorbar": {
             "outlinewidth": 0,
             "ticks": ""
            },
            "colorscale": [
             [
              0,
              "#0d0887"
             ],
             [
              0.1111111111111111,
              "#46039f"
             ],
             [
              0.2222222222222222,
              "#7201a8"
             ],
             [
              0.3333333333333333,
              "#9c179e"
             ],
             [
              0.4444444444444444,
              "#bd3786"
             ],
             [
              0.5555555555555556,
              "#d8576b"
             ],
             [
              0.6666666666666666,
              "#ed7953"
             ],
             [
              0.7777777777777778,
              "#fb9f3a"
             ],
             [
              0.8888888888888888,
              "#fdca26"
             ],
             [
              1,
              "#f0f921"
             ]
            ],
            "type": "contour"
           }
          ],
          "contourcarpet": [
           {
            "colorbar": {
             "outlinewidth": 0,
             "ticks": ""
            },
            "type": "contourcarpet"
           }
          ],
          "heatmap": [
           {
            "colorbar": {
             "outlinewidth": 0,
             "ticks": ""
            },
            "colorscale": [
             [
              0,
              "#0d0887"
             ],
             [
              0.1111111111111111,
              "#46039f"
             ],
             [
              0.2222222222222222,
              "#7201a8"
             ],
             [
              0.3333333333333333,
              "#9c179e"
             ],
             [
              0.4444444444444444,
              "#bd3786"
             ],
             [
              0.5555555555555556,
              "#d8576b"
             ],
             [
              0.6666666666666666,
              "#ed7953"
             ],
             [
              0.7777777777777778,
              "#fb9f3a"
             ],
             [
              0.8888888888888888,
              "#fdca26"
             ],
             [
              1,
              "#f0f921"
             ]
            ],
            "type": "heatmap"
           }
          ],
          "heatmapgl": [
           {
            "colorbar": {
             "outlinewidth": 0,
             "ticks": ""
            },
            "colorscale": [
             [
              0,
              "#0d0887"
             ],
             [
              0.1111111111111111,
              "#46039f"
             ],
             [
              0.2222222222222222,
              "#7201a8"
             ],
             [
              0.3333333333333333,
              "#9c179e"
             ],
             [
              0.4444444444444444,
              "#bd3786"
             ],
             [
              0.5555555555555556,
              "#d8576b"
             ],
             [
              0.6666666666666666,
              "#ed7953"
             ],
             [
              0.7777777777777778,
              "#fb9f3a"
             ],
             [
              0.8888888888888888,
              "#fdca26"
             ],
             [
              1,
              "#f0f921"
             ]
            ],
            "type": "heatmapgl"
           }
          ],
          "histogram": [
           {
            "marker": {
             "pattern": {
              "fillmode": "overlay",
              "size": 10,
              "solidity": 0.2
             }
            },
            "type": "histogram"
           }
          ],
          "histogram2d": [
           {
            "colorbar": {
             "outlinewidth": 0,
             "ticks": ""
            },
            "colorscale": [
             [
              0,
              "#0d0887"
             ],
             [
              0.1111111111111111,
              "#46039f"
             ],
             [
              0.2222222222222222,
              "#7201a8"
             ],
             [
              0.3333333333333333,
              "#9c179e"
             ],
             [
              0.4444444444444444,
              "#bd3786"
             ],
             [
              0.5555555555555556,
              "#d8576b"
             ],
             [
              0.6666666666666666,
              "#ed7953"
             ],
             [
              0.7777777777777778,
              "#fb9f3a"
             ],
             [
              0.8888888888888888,
              "#fdca26"
             ],
             [
              1,
              "#f0f921"
             ]
            ],
            "type": "histogram2d"
           }
          ],
          "histogram2dcontour": [
           {
            "colorbar": {
             "outlinewidth": 0,
             "ticks": ""
            },
            "colorscale": [
             [
              0,
              "#0d0887"
             ],
             [
              0.1111111111111111,
              "#46039f"
             ],
             [
              0.2222222222222222,
              "#7201a8"
             ],
             [
              0.3333333333333333,
              "#9c179e"
             ],
             [
              0.4444444444444444,
              "#bd3786"
             ],
             [
              0.5555555555555556,
              "#d8576b"
             ],
             [
              0.6666666666666666,
              "#ed7953"
             ],
             [
              0.7777777777777778,
              "#fb9f3a"
             ],
             [
              0.8888888888888888,
              "#fdca26"
             ],
             [
              1,
              "#f0f921"
             ]
            ],
            "type": "histogram2dcontour"
           }
          ],
          "mesh3d": [
           {
            "colorbar": {
             "outlinewidth": 0,
             "ticks": ""
            },
            "type": "mesh3d"
           }
          ],
          "parcoords": [
           {
            "line": {
             "colorbar": {
              "outlinewidth": 0,
              "ticks": ""
             }
            },
            "type": "parcoords"
           }
          ],
          "pie": [
           {
            "automargin": true,
            "type": "pie"
           }
          ],
          "scatter": [
           {
            "fillpattern": {
             "fillmode": "overlay",
             "size": 10,
             "solidity": 0.2
            },
            "type": "scatter"
           }
          ],
          "scatter3d": [
           {
            "line": {
             "colorbar": {
              "outlinewidth": 0,
              "ticks": ""
             }
            },
            "marker": {
             "colorbar": {
              "outlinewidth": 0,
              "ticks": ""
             }
            },
            "type": "scatter3d"
           }
          ],
          "scattercarpet": [
           {
            "marker": {
             "colorbar": {
              "outlinewidth": 0,
              "ticks": ""
             }
            },
            "type": "scattercarpet"
           }
          ],
          "scattergeo": [
           {
            "marker": {
             "colorbar": {
              "outlinewidth": 0,
              "ticks": ""
             }
            },
            "type": "scattergeo"
           }
          ],
          "scattergl": [
           {
            "marker": {
             "colorbar": {
              "outlinewidth": 0,
              "ticks": ""
             }
            },
            "type": "scattergl"
           }
          ],
          "scattermapbox": [
           {
            "marker": {
             "colorbar": {
              "outlinewidth": 0,
              "ticks": ""
             }
            },
            "type": "scattermapbox"
           }
          ],
          "scatterpolar": [
           {
            "marker": {
             "colorbar": {
              "outlinewidth": 0,
              "ticks": ""
             }
            },
            "type": "scatterpolar"
           }
          ],
          "scatterpolargl": [
           {
            "marker": {
             "colorbar": {
              "outlinewidth": 0,
              "ticks": ""
             }
            },
            "type": "scatterpolargl"
           }
          ],
          "scatterternary": [
           {
            "marker": {
             "colorbar": {
              "outlinewidth": 0,
              "ticks": ""
             }
            },
            "type": "scatterternary"
           }
          ],
          "surface": [
           {
            "colorbar": {
             "outlinewidth": 0,
             "ticks": ""
            },
            "colorscale": [
             [
              0,
              "#0d0887"
             ],
             [
              0.1111111111111111,
              "#46039f"
             ],
             [
              0.2222222222222222,
              "#7201a8"
             ],
             [
              0.3333333333333333,
              "#9c179e"
             ],
             [
              0.4444444444444444,
              "#bd3786"
             ],
             [
              0.5555555555555556,
              "#d8576b"
             ],
             [
              0.6666666666666666,
              "#ed7953"
             ],
             [
              0.7777777777777778,
              "#fb9f3a"
             ],
             [
              0.8888888888888888,
              "#fdca26"
             ],
             [
              1,
              "#f0f921"
             ]
            ],
            "type": "surface"
           }
          ],
          "table": [
           {
            "cells": {
             "fill": {
              "color": "#EBF0F8"
             },
             "line": {
              "color": "white"
             }
            },
            "header": {
             "fill": {
              "color": "#C8D4E3"
             },
             "line": {
              "color": "white"
             }
            },
            "type": "table"
           }
          ]
         },
         "layout": {
          "annotationdefaults": {
           "arrowcolor": "#2a3f5f",
           "arrowhead": 0,
           "arrowwidth": 1
          },
          "autotypenumbers": "strict",
          "coloraxis": {
           "colorbar": {
            "outlinewidth": 0,
            "ticks": ""
           }
          },
          "colorscale": {
           "diverging": [
            [
             0,
             "#8e0152"
            ],
            [
             0.1,
             "#c51b7d"
            ],
            [
             0.2,
             "#de77ae"
            ],
            [
             0.3,
             "#f1b6da"
            ],
            [
             0.4,
             "#fde0ef"
            ],
            [
             0.5,
             "#f7f7f7"
            ],
            [
             0.6,
             "#e6f5d0"
            ],
            [
             0.7,
             "#b8e186"
            ],
            [
             0.8,
             "#7fbc41"
            ],
            [
             0.9,
             "#4d9221"
            ],
            [
             1,
             "#276419"
            ]
           ],
           "sequential": [
            [
             0,
             "#0d0887"
            ],
            [
             0.1111111111111111,
             "#46039f"
            ],
            [
             0.2222222222222222,
             "#7201a8"
            ],
            [
             0.3333333333333333,
             "#9c179e"
            ],
            [
             0.4444444444444444,
             "#bd3786"
            ],
            [
             0.5555555555555556,
             "#d8576b"
            ],
            [
             0.6666666666666666,
             "#ed7953"
            ],
            [
             0.7777777777777778,
             "#fb9f3a"
            ],
            [
             0.8888888888888888,
             "#fdca26"
            ],
            [
             1,
             "#f0f921"
            ]
           ],
           "sequentialminus": [
            [
             0,
             "#0d0887"
            ],
            [
             0.1111111111111111,
             "#46039f"
            ],
            [
             0.2222222222222222,
             "#7201a8"
            ],
            [
             0.3333333333333333,
             "#9c179e"
            ],
            [
             0.4444444444444444,
             "#bd3786"
            ],
            [
             0.5555555555555556,
             "#d8576b"
            ],
            [
             0.6666666666666666,
             "#ed7953"
            ],
            [
             0.7777777777777778,
             "#fb9f3a"
            ],
            [
             0.8888888888888888,
             "#fdca26"
            ],
            [
             1,
             "#f0f921"
            ]
           ]
          },
          "colorway": [
           "#636efa",
           "#EF553B",
           "#00cc96",
           "#ab63fa",
           "#FFA15A",
           "#19d3f3",
           "#FF6692",
           "#B6E880",
           "#FF97FF",
           "#FECB52"
          ],
          "font": {
           "color": "#2a3f5f"
          },
          "geo": {
           "bgcolor": "white",
           "lakecolor": "white",
           "landcolor": "#E5ECF6",
           "showlakes": true,
           "showland": true,
           "subunitcolor": "white"
          },
          "hoverlabel": {
           "align": "left"
          },
          "hovermode": "closest",
          "mapbox": {
           "style": "light"
          },
          "paper_bgcolor": "white",
          "plot_bgcolor": "#E5ECF6",
          "polar": {
           "angularaxis": {
            "gridcolor": "white",
            "linecolor": "white",
            "ticks": ""
           },
           "bgcolor": "#E5ECF6",
           "radialaxis": {
            "gridcolor": "white",
            "linecolor": "white",
            "ticks": ""
           }
          },
          "scene": {
           "xaxis": {
            "backgroundcolor": "#E5ECF6",
            "gridcolor": "white",
            "gridwidth": 2,
            "linecolor": "white",
            "showbackground": true,
            "ticks": "",
            "zerolinecolor": "white"
           },
           "yaxis": {
            "backgroundcolor": "#E5ECF6",
            "gridcolor": "white",
            "gridwidth": 2,
            "linecolor": "white",
            "showbackground": true,
            "ticks": "",
            "zerolinecolor": "white"
           },
           "zaxis": {
            "backgroundcolor": "#E5ECF6",
            "gridcolor": "white",
            "gridwidth": 2,
            "linecolor": "white",
            "showbackground": true,
            "ticks": "",
            "zerolinecolor": "white"
           }
          },
          "shapedefaults": {
           "line": {
            "color": "#2a3f5f"
           }
          },
          "ternary": {
           "aaxis": {
            "gridcolor": "white",
            "linecolor": "white",
            "ticks": ""
           },
           "baxis": {
            "gridcolor": "white",
            "linecolor": "white",
            "ticks": ""
           },
           "bgcolor": "#E5ECF6",
           "caxis": {
            "gridcolor": "white",
            "linecolor": "white",
            "ticks": ""
           }
          },
          "title": {
           "x": 0.05
          },
          "xaxis": {
           "automargin": true,
           "gridcolor": "white",
           "linecolor": "white",
           "ticks": "",
           "title": {
            "standoff": 15
           },
           "zerolinecolor": "white",
           "zerolinewidth": 2
          },
          "yaxis": {
           "automargin": true,
           "gridcolor": "white",
           "linecolor": "white",
           "ticks": "",
           "title": {
            "standoff": 15
           },
           "zerolinecolor": "white",
           "zerolinewidth": 2
          }
         }
        },
        "title": {
         "text": "Principais Gastos de Dilma por Setor"
        }
       }
      }
     },
     "metadata": {},
     "output_type": "display_data"
    }
   ],
   "source": [
    "fig_dilma_setores = px.pie(gastos_dilma_setores.head(20), values='VALOR_CORRIGIDO', names='SUBELEMENTO DE DESPESA', title='Principais Gastos de Dilma por Setor',\n",
    "color_discrete_sequence=px.colors.sequential.algae)\n",
    "fig_dilma_setores.show()"
   ]
  },
  {
   "cell_type": "markdown",
   "metadata": {},
   "source": [
    "#### Temer"
   ]
  },
  {
   "cell_type": "code",
   "execution_count": 33,
   "metadata": {},
   "outputs": [
    {
     "data": {
      "text/html": [
       "<div>\n",
       "<style scoped>\n",
       "    .dataframe tbody tr th:only-of-type {\n",
       "        vertical-align: middle;\n",
       "    }\n",
       "\n",
       "    .dataframe tbody tr th {\n",
       "        vertical-align: top;\n",
       "    }\n",
       "\n",
       "    .dataframe thead th {\n",
       "        text-align: right;\n",
       "    }\n",
       "</style>\n",
       "<table border=\"1\" class=\"dataframe\">\n",
       "  <thead>\n",
       "    <tr style=\"text-align: right;\">\n",
       "      <th></th>\n",
       "      <th>index</th>\n",
       "      <th>TIPO</th>\n",
       "      <th>SUBELEMENTO DE DESPESA</th>\n",
       "      <th>VALOR_CORRIGIDO</th>\n",
       "    </tr>\n",
       "  </thead>\n",
       "  <tbody>\n",
       "    <tr>\n",
       "      <th>0</th>\n",
       "      <td>10</td>\n",
       "      <td>Crédito</td>\n",
       "      <td>HOSPEDAGENS</td>\n",
       "      <td>4.233646e+06</td>\n",
       "    </tr>\n",
       "    <tr>\n",
       "      <th>1</th>\n",
       "      <td>9</td>\n",
       "      <td>Crédito</td>\n",
       "      <td>GENEROS DE ALIMENTAÇO</td>\n",
       "      <td>3.048765e+06</td>\n",
       "    </tr>\n",
       "    <tr>\n",
       "      <th>2</th>\n",
       "      <td>37</td>\n",
       "      <td>Crédito</td>\n",
       "      <td>SERV.DE APOIO ADMIN.,TECNICO E OPERACIONAL</td>\n",
       "      <td>1.864819e+06</td>\n",
       "    </tr>\n",
       "    <tr>\n",
       "      <th>3</th>\n",
       "      <td>7</td>\n",
       "      <td>Crédito</td>\n",
       "      <td>FORNECIMENTO DE ALIMENTAÇO</td>\n",
       "      <td>1.623661e+06</td>\n",
       "    </tr>\n",
       "    <tr>\n",
       "      <th>4</th>\n",
       "      <td>57</td>\n",
       "      <td>Débito</td>\n",
       "      <td>SERV.DE APOIO ADMIN.,TECNICO E OPERACIONAL</td>\n",
       "      <td>2.568768e+05</td>\n",
       "    </tr>\n",
       "    <tr>\n",
       "      <th>5</th>\n",
       "      <td>23</td>\n",
       "      <td>Crédito</td>\n",
       "      <td>MATERIAL DE LIMPEZA E PROD. DE HIGIENIZAÇO</td>\n",
       "      <td>8.266688e+04</td>\n",
       "    </tr>\n",
       "    <tr>\n",
       "      <th>6</th>\n",
       "      <td>2</td>\n",
       "      <td>Crédito</td>\n",
       "      <td>COMBUSTIVEIS E LUBRIF. AUTOMOTIVOS</td>\n",
       "      <td>8.248911e+04</td>\n",
       "    </tr>\n",
       "    <tr>\n",
       "      <th>7</th>\n",
       "      <td>50</td>\n",
       "      <td>Débito</td>\n",
       "      <td>FORNECIMENTO DE ALIMENTAÇO</td>\n",
       "      <td>7.297746e+04</td>\n",
       "    </tr>\n",
       "    <tr>\n",
       "      <th>8</th>\n",
       "      <td>52</td>\n",
       "      <td>Débito</td>\n",
       "      <td>HOSPEDAGENS</td>\n",
       "      <td>5.897169e+04</td>\n",
       "    </tr>\n",
       "    <tr>\n",
       "      <th>9</th>\n",
       "      <td>58</td>\n",
       "      <td>Débito</td>\n",
       "      <td>SERVIOS DE COMUNICAÇO EM GERAL</td>\n",
       "      <td>5.435830e+04</td>\n",
       "    </tr>\n",
       "    <tr>\n",
       "      <th>10</th>\n",
       "      <td>21</td>\n",
       "      <td>Crédito</td>\n",
       "      <td>MATERIAL DE COPA E COZINHA</td>\n",
       "      <td>5.428294e+04</td>\n",
       "    </tr>\n",
       "    <tr>\n",
       "      <th>11</th>\n",
       "      <td>11</td>\n",
       "      <td>Crédito</td>\n",
       "      <td>LOCAÇO DE IMàVEIS</td>\n",
       "      <td>2.883402e+04</td>\n",
       "    </tr>\n",
       "    <tr>\n",
       "      <th>12</th>\n",
       "      <td>49</td>\n",
       "      <td>Débito</td>\n",
       "      <td>FESTIVIDADES E HOMENAGENS</td>\n",
       "      <td>2.116357e+04</td>\n",
       "    </tr>\n",
       "    <tr>\n",
       "      <th>13</th>\n",
       "      <td>38</td>\n",
       "      <td>Crédito</td>\n",
       "      <td>SERVIOS BANCµRIOS</td>\n",
       "      <td>1.786911e+04</td>\n",
       "    </tr>\n",
       "    <tr>\n",
       "      <th>14</th>\n",
       "      <td>18</td>\n",
       "      <td>Crédito</td>\n",
       "      <td>MATERIAL DE ACONDICIONAMENTO E EMBALAGEM</td>\n",
       "      <td>1.736321e+04</td>\n",
       "    </tr>\n",
       "    <tr>\n",
       "      <th>15</th>\n",
       "      <td>42</td>\n",
       "      <td>Crédito</td>\n",
       "      <td>SERVIOS DOMSTICOS</td>\n",
       "      <td>1.671963e+04</td>\n",
       "    </tr>\n",
       "    <tr>\n",
       "      <th>16</th>\n",
       "      <td>3</td>\n",
       "      <td>Crédito</td>\n",
       "      <td>COMUNICAÇO DE DADOS E REDES EM GERAL</td>\n",
       "      <td>1.456724e+04</td>\n",
       "    </tr>\n",
       "    <tr>\n",
       "      <th>17</th>\n",
       "      <td>60</td>\n",
       "      <td>Débito</td>\n",
       "      <td>SERVIOS DE TELECOMUNICAåES</td>\n",
       "      <td>1.162789e+04</td>\n",
       "    </tr>\n",
       "    <tr>\n",
       "      <th>18</th>\n",
       "      <td>30</td>\n",
       "      <td>Crédito</td>\n",
       "      <td>MATERIAL P/FESTIVIDADE E HOMENAGENS</td>\n",
       "      <td>9.242814e+03</td>\n",
       "    </tr>\n",
       "    <tr>\n",
       "      <th>19</th>\n",
       "      <td>45</td>\n",
       "      <td>Crédito</td>\n",
       "      <td>VARIAÇO CAMBIAL NEGATIVA</td>\n",
       "      <td>9.105836e+03</td>\n",
       "    </tr>\n",
       "  </tbody>\n",
       "</table>\n",
       "</div>"
      ],
      "text/plain": [
       "    index     TIPO                       SUBELEMENTO DE DESPESA  \\\n",
       "0      10  Crédito                                  HOSPEDAGENS   \n",
       "1       9  Crédito                       GENEROS DE ALIMENTAÇO   \n",
       "2      37  Crédito   SERV.DE APOIO ADMIN.,TECNICO E OPERACIONAL   \n",
       "3       7  Crédito                  FORNECIMENTO DE ALIMENTAÇO   \n",
       "4      57   Débito   SERV.DE APOIO ADMIN.,TECNICO E OPERACIONAL   \n",
       "5      23  Crédito  MATERIAL DE LIMPEZA E PROD. DE HIGIENIZAÇO   \n",
       "6       2  Crédito           COMBUSTIVEIS E LUBRIF. AUTOMOTIVOS   \n",
       "7      50   Débito                  FORNECIMENTO DE ALIMENTAÇO   \n",
       "8      52   Débito                                  HOSPEDAGENS   \n",
       "9      58   Débito             SERVIOS DE COMUNICAÇO EM GERAL   \n",
       "10     21  Crédito                   MATERIAL DE COPA E COZINHA   \n",
       "11     11  Crédito                           LOCAÇO DE IMàVEIS   \n",
       "12     49   Débito                    FESTIVIDADES E HOMENAGENS   \n",
       "13     38  Crédito                           SERVIOS BANCµRIOS   \n",
       "14     18  Crédito     MATERIAL DE ACONDICIONAMENTO E EMBALAGEM   \n",
       "15     42  Crédito                          SERVIOS DOMSTICOS   \n",
       "16      3  Crédito        COMUNICAÇO DE DADOS E REDES EM GERAL   \n",
       "17     60   Débito                 SERVIOS DE TELECOMUNICAåES   \n",
       "18     30  Crédito          MATERIAL P/FESTIVIDADE E HOMENAGENS   \n",
       "19     45  Crédito                    VARIAÇO CAMBIAL NEGATIVA   \n",
       "\n",
       "    VALOR_CORRIGIDO  \n",
       "0      4.233646e+06  \n",
       "1      3.048765e+06  \n",
       "2      1.864819e+06  \n",
       "3      1.623661e+06  \n",
       "4      2.568768e+05  \n",
       "5      8.266688e+04  \n",
       "6      8.248911e+04  \n",
       "7      7.297746e+04  \n",
       "8      5.897169e+04  \n",
       "9      5.435830e+04  \n",
       "10     5.428294e+04  \n",
       "11     2.883402e+04  \n",
       "12     2.116357e+04  \n",
       "13     1.786911e+04  \n",
       "14     1.736321e+04  \n",
       "15     1.671963e+04  \n",
       "16     1.456724e+04  \n",
       "17     1.162789e+04  \n",
       "18     9.242814e+03  \n",
       "19     9.105836e+03  "
      ]
     },
     "execution_count": 33,
     "metadata": {},
     "output_type": "execute_result"
    }
   ],
   "source": [
    "gastos_temer = gastos[gastos['PRES'] == 'TEMER']\n",
    "\n",
    "gastos_temer_setores = gastos_temer.groupby([\"TIPO\", \"SUBELEMENTO DE DESPESA\"]).agg({\"VALOR_CORRIGIDO\": sum}).reset_index()\n",
    "gastos_temer_setores = gastos_temer_setores.sort_values('VALOR_CORRIGIDO', ascending=False).reset_index()\n",
    "gastos_temer_setores.head(20)"
   ]
  },
  {
   "cell_type": "code",
   "execution_count": 34,
   "metadata": {},
   "outputs": [
    {
     "data": {
      "application/vnd.plotly.v1+json": {
       "config": {
        "plotlyServerURL": "https://plot.ly"
       },
       "data": [
        {
         "domain": {
          "x": [
           0,
           1
          ],
          "y": [
           0,
           1
          ]
         },
         "hovertemplate": "TIPO=%{label}<br>VALOR_CORRIGIDO=%{value}<extra></extra>",
         "labels": [
          "Crédito",
          "Crédito",
          "Crédito",
          "Crédito",
          "Débito",
          "Crédito",
          "Crédito",
          "Débito",
          "Débito",
          "Débito",
          "Crédito",
          "Crédito",
          "Débito",
          "Crédito",
          "Crédito",
          "Crédito",
          "Crédito",
          "Débito",
          "Crédito",
          "Crédito",
          "Crédito",
          "Débito",
          "Débito",
          "Crédito",
          "Débito",
          "Crédito",
          "Crédito",
          "Crédito",
          "Crédito",
          "Crédito",
          "Crédito",
          "Crédito",
          "Crédito",
          "Débito",
          "Crédito",
          "Crédito",
          "Crédito",
          "Crédito",
          "Crédito",
          "Crédito",
          "Crédito",
          "Crédito",
          "Crédito",
          "Crédito",
          "Débito",
          "Crédito",
          "Crédito",
          "Crédito",
          "Crédito",
          "Crédito",
          "Débito",
          "Crédito",
          "Débito",
          "Crédito",
          "Crédito",
          "Débito",
          "Crédito",
          "Crédito",
          "Crédito",
          "Crédito",
          "Crédito",
          "Débito"
         ],
         "legendgroup": "",
         "name": "",
         "showlegend": true,
         "type": "pie",
         "values": [
          4233645.846682396,
          3048765.1126189856,
          1864818.5990268255,
          1623661.1635767838,
          256876.84858781815,
          82666.87828408105,
          82489.11288695461,
          72977.46255704772,
          58971.685985074364,
          54358.30426137902,
          54282.94145894021,
          28834.023356901856,
          21163.572634663204,
          17869.1074712227,
          17363.209962083747,
          16719.63431846168,
          14567.238595039476,
          11627.890757384943,
          9242.813801579492,
          9105.83601135163,
          7700.110262751385,
          5305.24126034705,
          5303.549418909125,
          5203.21405495958,
          5078.81093930312,
          4664.600573028962,
          3198.843279982867,
          2919.65418679306,
          2908.659969678651,
          2836.57088999598,
          2257.4716087503625,
          1909.844530300444,
          1848.0817902765382,
          1817.7331080488218,
          1623.0718673179242,
          1596.2678203502749,
          1546.230952283696,
          1220.086434457062,
          1147.8433769025708,
          1132.4936230393462,
          1074.799176372229,
          1027.421429697626,
          900.691921868862,
          873.8724242036925,
          741.9722293095742,
          713.4066533932812,
          522.5041230523576,
          472.3146121594473,
          471.1176012974499,
          446.8886960878667,
          418.4448741396952,
          399.5642455230381,
          343.91112335368587,
          245.06138620570272,
          137.63969408939386,
          135.04922553763757,
          111.35569663107077,
          92.35096943205463,
          60.7721514919369,
          53.0524126034705,
          50.79356362983285,
          13.556241259468058
         ]
        }
       ],
       "layout": {
        "legend": {
         "tracegroupgap": 0
        },
        "piecolorway": [
         "rgb(8,48,107)",
         "rgb(8,81,156)",
         "rgb(33,113,181)",
         "rgb(66,146,198)",
         "rgb(107,174,214)",
         "rgb(158,202,225)",
         "rgb(198,219,239)",
         "rgb(222,235,247)",
         "rgb(247,251,255)"
        ],
        "template": {
         "data": {
          "bar": [
           {
            "error_x": {
             "color": "#2a3f5f"
            },
            "error_y": {
             "color": "#2a3f5f"
            },
            "marker": {
             "line": {
              "color": "#E5ECF6",
              "width": 0.5
             },
             "pattern": {
              "fillmode": "overlay",
              "size": 10,
              "solidity": 0.2
             }
            },
            "type": "bar"
           }
          ],
          "barpolar": [
           {
            "marker": {
             "line": {
              "color": "#E5ECF6",
              "width": 0.5
             },
             "pattern": {
              "fillmode": "overlay",
              "size": 10,
              "solidity": 0.2
             }
            },
            "type": "barpolar"
           }
          ],
          "carpet": [
           {
            "aaxis": {
             "endlinecolor": "#2a3f5f",
             "gridcolor": "white",
             "linecolor": "white",
             "minorgridcolor": "white",
             "startlinecolor": "#2a3f5f"
            },
            "baxis": {
             "endlinecolor": "#2a3f5f",
             "gridcolor": "white",
             "linecolor": "white",
             "minorgridcolor": "white",
             "startlinecolor": "#2a3f5f"
            },
            "type": "carpet"
           }
          ],
          "choropleth": [
           {
            "colorbar": {
             "outlinewidth": 0,
             "ticks": ""
            },
            "type": "choropleth"
           }
          ],
          "contour": [
           {
            "colorbar": {
             "outlinewidth": 0,
             "ticks": ""
            },
            "colorscale": [
             [
              0,
              "#0d0887"
             ],
             [
              0.1111111111111111,
              "#46039f"
             ],
             [
              0.2222222222222222,
              "#7201a8"
             ],
             [
              0.3333333333333333,
              "#9c179e"
             ],
             [
              0.4444444444444444,
              "#bd3786"
             ],
             [
              0.5555555555555556,
              "#d8576b"
             ],
             [
              0.6666666666666666,
              "#ed7953"
             ],
             [
              0.7777777777777778,
              "#fb9f3a"
             ],
             [
              0.8888888888888888,
              "#fdca26"
             ],
             [
              1,
              "#f0f921"
             ]
            ],
            "type": "contour"
           }
          ],
          "contourcarpet": [
           {
            "colorbar": {
             "outlinewidth": 0,
             "ticks": ""
            },
            "type": "contourcarpet"
           }
          ],
          "heatmap": [
           {
            "colorbar": {
             "outlinewidth": 0,
             "ticks": ""
            },
            "colorscale": [
             [
              0,
              "#0d0887"
             ],
             [
              0.1111111111111111,
              "#46039f"
             ],
             [
              0.2222222222222222,
              "#7201a8"
             ],
             [
              0.3333333333333333,
              "#9c179e"
             ],
             [
              0.4444444444444444,
              "#bd3786"
             ],
             [
              0.5555555555555556,
              "#d8576b"
             ],
             [
              0.6666666666666666,
              "#ed7953"
             ],
             [
              0.7777777777777778,
              "#fb9f3a"
             ],
             [
              0.8888888888888888,
              "#fdca26"
             ],
             [
              1,
              "#f0f921"
             ]
            ],
            "type": "heatmap"
           }
          ],
          "heatmapgl": [
           {
            "colorbar": {
             "outlinewidth": 0,
             "ticks": ""
            },
            "colorscale": [
             [
              0,
              "#0d0887"
             ],
             [
              0.1111111111111111,
              "#46039f"
             ],
             [
              0.2222222222222222,
              "#7201a8"
             ],
             [
              0.3333333333333333,
              "#9c179e"
             ],
             [
              0.4444444444444444,
              "#bd3786"
             ],
             [
              0.5555555555555556,
              "#d8576b"
             ],
             [
              0.6666666666666666,
              "#ed7953"
             ],
             [
              0.7777777777777778,
              "#fb9f3a"
             ],
             [
              0.8888888888888888,
              "#fdca26"
             ],
             [
              1,
              "#f0f921"
             ]
            ],
            "type": "heatmapgl"
           }
          ],
          "histogram": [
           {
            "marker": {
             "pattern": {
              "fillmode": "overlay",
              "size": 10,
              "solidity": 0.2
             }
            },
            "type": "histogram"
           }
          ],
          "histogram2d": [
           {
            "colorbar": {
             "outlinewidth": 0,
             "ticks": ""
            },
            "colorscale": [
             [
              0,
              "#0d0887"
             ],
             [
              0.1111111111111111,
              "#46039f"
             ],
             [
              0.2222222222222222,
              "#7201a8"
             ],
             [
              0.3333333333333333,
              "#9c179e"
             ],
             [
              0.4444444444444444,
              "#bd3786"
             ],
             [
              0.5555555555555556,
              "#d8576b"
             ],
             [
              0.6666666666666666,
              "#ed7953"
             ],
             [
              0.7777777777777778,
              "#fb9f3a"
             ],
             [
              0.8888888888888888,
              "#fdca26"
             ],
             [
              1,
              "#f0f921"
             ]
            ],
            "type": "histogram2d"
           }
          ],
          "histogram2dcontour": [
           {
            "colorbar": {
             "outlinewidth": 0,
             "ticks": ""
            },
            "colorscale": [
             [
              0,
              "#0d0887"
             ],
             [
              0.1111111111111111,
              "#46039f"
             ],
             [
              0.2222222222222222,
              "#7201a8"
             ],
             [
              0.3333333333333333,
              "#9c179e"
             ],
             [
              0.4444444444444444,
              "#bd3786"
             ],
             [
              0.5555555555555556,
              "#d8576b"
             ],
             [
              0.6666666666666666,
              "#ed7953"
             ],
             [
              0.7777777777777778,
              "#fb9f3a"
             ],
             [
              0.8888888888888888,
              "#fdca26"
             ],
             [
              1,
              "#f0f921"
             ]
            ],
            "type": "histogram2dcontour"
           }
          ],
          "mesh3d": [
           {
            "colorbar": {
             "outlinewidth": 0,
             "ticks": ""
            },
            "type": "mesh3d"
           }
          ],
          "parcoords": [
           {
            "line": {
             "colorbar": {
              "outlinewidth": 0,
              "ticks": ""
             }
            },
            "type": "parcoords"
           }
          ],
          "pie": [
           {
            "automargin": true,
            "type": "pie"
           }
          ],
          "scatter": [
           {
            "fillpattern": {
             "fillmode": "overlay",
             "size": 10,
             "solidity": 0.2
            },
            "type": "scatter"
           }
          ],
          "scatter3d": [
           {
            "line": {
             "colorbar": {
              "outlinewidth": 0,
              "ticks": ""
             }
            },
            "marker": {
             "colorbar": {
              "outlinewidth": 0,
              "ticks": ""
             }
            },
            "type": "scatter3d"
           }
          ],
          "scattercarpet": [
           {
            "marker": {
             "colorbar": {
              "outlinewidth": 0,
              "ticks": ""
             }
            },
            "type": "scattercarpet"
           }
          ],
          "scattergeo": [
           {
            "marker": {
             "colorbar": {
              "outlinewidth": 0,
              "ticks": ""
             }
            },
            "type": "scattergeo"
           }
          ],
          "scattergl": [
           {
            "marker": {
             "colorbar": {
              "outlinewidth": 0,
              "ticks": ""
             }
            },
            "type": "scattergl"
           }
          ],
          "scattermapbox": [
           {
            "marker": {
             "colorbar": {
              "outlinewidth": 0,
              "ticks": ""
             }
            },
            "type": "scattermapbox"
           }
          ],
          "scatterpolar": [
           {
            "marker": {
             "colorbar": {
              "outlinewidth": 0,
              "ticks": ""
             }
            },
            "type": "scatterpolar"
           }
          ],
          "scatterpolargl": [
           {
            "marker": {
             "colorbar": {
              "outlinewidth": 0,
              "ticks": ""
             }
            },
            "type": "scatterpolargl"
           }
          ],
          "scatterternary": [
           {
            "marker": {
             "colorbar": {
              "outlinewidth": 0,
              "ticks": ""
             }
            },
            "type": "scatterternary"
           }
          ],
          "surface": [
           {
            "colorbar": {
             "outlinewidth": 0,
             "ticks": ""
            },
            "colorscale": [
             [
              0,
              "#0d0887"
             ],
             [
              0.1111111111111111,
              "#46039f"
             ],
             [
              0.2222222222222222,
              "#7201a8"
             ],
             [
              0.3333333333333333,
              "#9c179e"
             ],
             [
              0.4444444444444444,
              "#bd3786"
             ],
             [
              0.5555555555555556,
              "#d8576b"
             ],
             [
              0.6666666666666666,
              "#ed7953"
             ],
             [
              0.7777777777777778,
              "#fb9f3a"
             ],
             [
              0.8888888888888888,
              "#fdca26"
             ],
             [
              1,
              "#f0f921"
             ]
            ],
            "type": "surface"
           }
          ],
          "table": [
           {
            "cells": {
             "fill": {
              "color": "#EBF0F8"
             },
             "line": {
              "color": "white"
             }
            },
            "header": {
             "fill": {
              "color": "#C8D4E3"
             },
             "line": {
              "color": "white"
             }
            },
            "type": "table"
           }
          ]
         },
         "layout": {
          "annotationdefaults": {
           "arrowcolor": "#2a3f5f",
           "arrowhead": 0,
           "arrowwidth": 1
          },
          "autotypenumbers": "strict",
          "coloraxis": {
           "colorbar": {
            "outlinewidth": 0,
            "ticks": ""
           }
          },
          "colorscale": {
           "diverging": [
            [
             0,
             "#8e0152"
            ],
            [
             0.1,
             "#c51b7d"
            ],
            [
             0.2,
             "#de77ae"
            ],
            [
             0.3,
             "#f1b6da"
            ],
            [
             0.4,
             "#fde0ef"
            ],
            [
             0.5,
             "#f7f7f7"
            ],
            [
             0.6,
             "#e6f5d0"
            ],
            [
             0.7,
             "#b8e186"
            ],
            [
             0.8,
             "#7fbc41"
            ],
            [
             0.9,
             "#4d9221"
            ],
            [
             1,
             "#276419"
            ]
           ],
           "sequential": [
            [
             0,
             "#0d0887"
            ],
            [
             0.1111111111111111,
             "#46039f"
            ],
            [
             0.2222222222222222,
             "#7201a8"
            ],
            [
             0.3333333333333333,
             "#9c179e"
            ],
            [
             0.4444444444444444,
             "#bd3786"
            ],
            [
             0.5555555555555556,
             "#d8576b"
            ],
            [
             0.6666666666666666,
             "#ed7953"
            ],
            [
             0.7777777777777778,
             "#fb9f3a"
            ],
            [
             0.8888888888888888,
             "#fdca26"
            ],
            [
             1,
             "#f0f921"
            ]
           ],
           "sequentialminus": [
            [
             0,
             "#0d0887"
            ],
            [
             0.1111111111111111,
             "#46039f"
            ],
            [
             0.2222222222222222,
             "#7201a8"
            ],
            [
             0.3333333333333333,
             "#9c179e"
            ],
            [
             0.4444444444444444,
             "#bd3786"
            ],
            [
             0.5555555555555556,
             "#d8576b"
            ],
            [
             0.6666666666666666,
             "#ed7953"
            ],
            [
             0.7777777777777778,
             "#fb9f3a"
            ],
            [
             0.8888888888888888,
             "#fdca26"
            ],
            [
             1,
             "#f0f921"
            ]
           ]
          },
          "colorway": [
           "#636efa",
           "#EF553B",
           "#00cc96",
           "#ab63fa",
           "#FFA15A",
           "#19d3f3",
           "#FF6692",
           "#B6E880",
           "#FF97FF",
           "#FECB52"
          ],
          "font": {
           "color": "#2a3f5f"
          },
          "geo": {
           "bgcolor": "white",
           "lakecolor": "white",
           "landcolor": "#E5ECF6",
           "showlakes": true,
           "showland": true,
           "subunitcolor": "white"
          },
          "hoverlabel": {
           "align": "left"
          },
          "hovermode": "closest",
          "mapbox": {
           "style": "light"
          },
          "paper_bgcolor": "white",
          "plot_bgcolor": "#E5ECF6",
          "polar": {
           "angularaxis": {
            "gridcolor": "white",
            "linecolor": "white",
            "ticks": ""
           },
           "bgcolor": "#E5ECF6",
           "radialaxis": {
            "gridcolor": "white",
            "linecolor": "white",
            "ticks": ""
           }
          },
          "scene": {
           "xaxis": {
            "backgroundcolor": "#E5ECF6",
            "gridcolor": "white",
            "gridwidth": 2,
            "linecolor": "white",
            "showbackground": true,
            "ticks": "",
            "zerolinecolor": "white"
           },
           "yaxis": {
            "backgroundcolor": "#E5ECF6",
            "gridcolor": "white",
            "gridwidth": 2,
            "linecolor": "white",
            "showbackground": true,
            "ticks": "",
            "zerolinecolor": "white"
           },
           "zaxis": {
            "backgroundcolor": "#E5ECF6",
            "gridcolor": "white",
            "gridwidth": 2,
            "linecolor": "white",
            "showbackground": true,
            "ticks": "",
            "zerolinecolor": "white"
           }
          },
          "shapedefaults": {
           "line": {
            "color": "#2a3f5f"
           }
          },
          "ternary": {
           "aaxis": {
            "gridcolor": "white",
            "linecolor": "white",
            "ticks": ""
           },
           "baxis": {
            "gridcolor": "white",
            "linecolor": "white",
            "ticks": ""
           },
           "bgcolor": "#E5ECF6",
           "caxis": {
            "gridcolor": "white",
            "linecolor": "white",
            "ticks": ""
           }
          },
          "title": {
           "x": 0.05
          },
          "xaxis": {
           "automargin": true,
           "gridcolor": "white",
           "linecolor": "white",
           "ticks": "",
           "title": {
            "standoff": 15
           },
           "zerolinecolor": "white",
           "zerolinewidth": 2
          },
          "yaxis": {
           "automargin": true,
           "gridcolor": "white",
           "linecolor": "white",
           "ticks": "",
           "title": {
            "standoff": 15
           },
           "zerolinecolor": "white",
           "zerolinewidth": 2
          }
         }
        },
        "title": {
         "text": "Gastos Temer por modalidade de pagamento"
        }
       }
      }
     },
     "metadata": {},
     "output_type": "display_data"
    }
   ],
   "source": [
    "fig_temer = px.pie(gastos_temer_setores, values='VALOR_CORRIGIDO', names='TIPO', title='Gastos Temer por modalidade de pagamento',\n",
    "color_discrete_sequence=px.colors.sequential.Blues_r)\n",
    "fig_temer.show()"
   ]
  },
  {
   "cell_type": "code",
   "execution_count": 35,
   "metadata": {},
   "outputs": [
    {
     "data": {
      "application/vnd.plotly.v1+json": {
       "config": {
        "plotlyServerURL": "https://plot.ly"
       },
       "data": [
        {
         "domain": {
          "x": [
           0,
           1
          ],
          "y": [
           0,
           1
          ]
         },
         "hovertemplate": "SUBELEMENTO DE DESPESA=%{label}<br>VALOR_CORRIGIDO=%{value}<extra></extra>",
         "labels": [
          "HOSPEDAGENS",
          "GENEROS DE ALIMENTAÇO",
          "SERV.DE APOIO ADMIN.,TECNICO E OPERACIONAL",
          "FORNECIMENTO DE ALIMENTAÇO",
          "SERV.DE APOIO ADMIN.,TECNICO E OPERACIONAL",
          "MATERIAL DE LIMPEZA E PROD. DE HIGIENIZAÇO",
          "COMBUSTIVEIS E LUBRIF. AUTOMOTIVOS",
          "FORNECIMENTO DE ALIMENTAÇO",
          "HOSPEDAGENS",
          "SERVIOS DE COMUNICAÇO EM GERAL",
          "MATERIAL DE COPA E COZINHA",
          "LOCAÇO DE IMàVEIS",
          "FESTIVIDADES E HOMENAGENS",
          "SERVIOS BANCµRIOS",
          "MATERIAL DE ACONDICIONAMENTO E EMBALAGEM",
          "SERVIOS DOMSTICOS",
          "COMUNICAÇO DE DADOS E REDES EM GERAL",
          "SERVIOS DE TELECOMUNICAåES",
          "MATERIAL P/FESTIVIDADE E HOMENAGENS",
          "VARIAÇO CAMBIAL NEGATIVA"
         ],
         "legendgroup": "",
         "name": "",
         "showlegend": true,
         "type": "pie",
         "values": [
          4233645.846682396,
          3048765.1126189856,
          1864818.5990268255,
          1623661.1635767838,
          256876.84858781815,
          82666.87828408105,
          82489.11288695461,
          72977.46255704772,
          58971.685985074364,
          54358.30426137902,
          54282.94145894021,
          28834.023356901856,
          21163.572634663204,
          17869.1074712227,
          17363.209962083747,
          16719.63431846168,
          14567.238595039476,
          11627.890757384943,
          9242.813801579492,
          9105.83601135163
         ]
        }
       ],
       "layout": {
        "legend": {
         "tracegroupgap": 0
        },
        "piecolorway": [
         "rgb(8,48,107)",
         "rgb(8,81,156)",
         "rgb(33,113,181)",
         "rgb(66,146,198)",
         "rgb(107,174,214)",
         "rgb(158,202,225)",
         "rgb(198,219,239)",
         "rgb(222,235,247)",
         "rgb(247,251,255)"
        ],
        "template": {
         "data": {
          "bar": [
           {
            "error_x": {
             "color": "#2a3f5f"
            },
            "error_y": {
             "color": "#2a3f5f"
            },
            "marker": {
             "line": {
              "color": "#E5ECF6",
              "width": 0.5
             },
             "pattern": {
              "fillmode": "overlay",
              "size": 10,
              "solidity": 0.2
             }
            },
            "type": "bar"
           }
          ],
          "barpolar": [
           {
            "marker": {
             "line": {
              "color": "#E5ECF6",
              "width": 0.5
             },
             "pattern": {
              "fillmode": "overlay",
              "size": 10,
              "solidity": 0.2
             }
            },
            "type": "barpolar"
           }
          ],
          "carpet": [
           {
            "aaxis": {
             "endlinecolor": "#2a3f5f",
             "gridcolor": "white",
             "linecolor": "white",
             "minorgridcolor": "white",
             "startlinecolor": "#2a3f5f"
            },
            "baxis": {
             "endlinecolor": "#2a3f5f",
             "gridcolor": "white",
             "linecolor": "white",
             "minorgridcolor": "white",
             "startlinecolor": "#2a3f5f"
            },
            "type": "carpet"
           }
          ],
          "choropleth": [
           {
            "colorbar": {
             "outlinewidth": 0,
             "ticks": ""
            },
            "type": "choropleth"
           }
          ],
          "contour": [
           {
            "colorbar": {
             "outlinewidth": 0,
             "ticks": ""
            },
            "colorscale": [
             [
              0,
              "#0d0887"
             ],
             [
              0.1111111111111111,
              "#46039f"
             ],
             [
              0.2222222222222222,
              "#7201a8"
             ],
             [
              0.3333333333333333,
              "#9c179e"
             ],
             [
              0.4444444444444444,
              "#bd3786"
             ],
             [
              0.5555555555555556,
              "#d8576b"
             ],
             [
              0.6666666666666666,
              "#ed7953"
             ],
             [
              0.7777777777777778,
              "#fb9f3a"
             ],
             [
              0.8888888888888888,
              "#fdca26"
             ],
             [
              1,
              "#f0f921"
             ]
            ],
            "type": "contour"
           }
          ],
          "contourcarpet": [
           {
            "colorbar": {
             "outlinewidth": 0,
             "ticks": ""
            },
            "type": "contourcarpet"
           }
          ],
          "heatmap": [
           {
            "colorbar": {
             "outlinewidth": 0,
             "ticks": ""
            },
            "colorscale": [
             [
              0,
              "#0d0887"
             ],
             [
              0.1111111111111111,
              "#46039f"
             ],
             [
              0.2222222222222222,
              "#7201a8"
             ],
             [
              0.3333333333333333,
              "#9c179e"
             ],
             [
              0.4444444444444444,
              "#bd3786"
             ],
             [
              0.5555555555555556,
              "#d8576b"
             ],
             [
              0.6666666666666666,
              "#ed7953"
             ],
             [
              0.7777777777777778,
              "#fb9f3a"
             ],
             [
              0.8888888888888888,
              "#fdca26"
             ],
             [
              1,
              "#f0f921"
             ]
            ],
            "type": "heatmap"
           }
          ],
          "heatmapgl": [
           {
            "colorbar": {
             "outlinewidth": 0,
             "ticks": ""
            },
            "colorscale": [
             [
              0,
              "#0d0887"
             ],
             [
              0.1111111111111111,
              "#46039f"
             ],
             [
              0.2222222222222222,
              "#7201a8"
             ],
             [
              0.3333333333333333,
              "#9c179e"
             ],
             [
              0.4444444444444444,
              "#bd3786"
             ],
             [
              0.5555555555555556,
              "#d8576b"
             ],
             [
              0.6666666666666666,
              "#ed7953"
             ],
             [
              0.7777777777777778,
              "#fb9f3a"
             ],
             [
              0.8888888888888888,
              "#fdca26"
             ],
             [
              1,
              "#f0f921"
             ]
            ],
            "type": "heatmapgl"
           }
          ],
          "histogram": [
           {
            "marker": {
             "pattern": {
              "fillmode": "overlay",
              "size": 10,
              "solidity": 0.2
             }
            },
            "type": "histogram"
           }
          ],
          "histogram2d": [
           {
            "colorbar": {
             "outlinewidth": 0,
             "ticks": ""
            },
            "colorscale": [
             [
              0,
              "#0d0887"
             ],
             [
              0.1111111111111111,
              "#46039f"
             ],
             [
              0.2222222222222222,
              "#7201a8"
             ],
             [
              0.3333333333333333,
              "#9c179e"
             ],
             [
              0.4444444444444444,
              "#bd3786"
             ],
             [
              0.5555555555555556,
              "#d8576b"
             ],
             [
              0.6666666666666666,
              "#ed7953"
             ],
             [
              0.7777777777777778,
              "#fb9f3a"
             ],
             [
              0.8888888888888888,
              "#fdca26"
             ],
             [
              1,
              "#f0f921"
             ]
            ],
            "type": "histogram2d"
           }
          ],
          "histogram2dcontour": [
           {
            "colorbar": {
             "outlinewidth": 0,
             "ticks": ""
            },
            "colorscale": [
             [
              0,
              "#0d0887"
             ],
             [
              0.1111111111111111,
              "#46039f"
             ],
             [
              0.2222222222222222,
              "#7201a8"
             ],
             [
              0.3333333333333333,
              "#9c179e"
             ],
             [
              0.4444444444444444,
              "#bd3786"
             ],
             [
              0.5555555555555556,
              "#d8576b"
             ],
             [
              0.6666666666666666,
              "#ed7953"
             ],
             [
              0.7777777777777778,
              "#fb9f3a"
             ],
             [
              0.8888888888888888,
              "#fdca26"
             ],
             [
              1,
              "#f0f921"
             ]
            ],
            "type": "histogram2dcontour"
           }
          ],
          "mesh3d": [
           {
            "colorbar": {
             "outlinewidth": 0,
             "ticks": ""
            },
            "type": "mesh3d"
           }
          ],
          "parcoords": [
           {
            "line": {
             "colorbar": {
              "outlinewidth": 0,
              "ticks": ""
             }
            },
            "type": "parcoords"
           }
          ],
          "pie": [
           {
            "automargin": true,
            "type": "pie"
           }
          ],
          "scatter": [
           {
            "fillpattern": {
             "fillmode": "overlay",
             "size": 10,
             "solidity": 0.2
            },
            "type": "scatter"
           }
          ],
          "scatter3d": [
           {
            "line": {
             "colorbar": {
              "outlinewidth": 0,
              "ticks": ""
             }
            },
            "marker": {
             "colorbar": {
              "outlinewidth": 0,
              "ticks": ""
             }
            },
            "type": "scatter3d"
           }
          ],
          "scattercarpet": [
           {
            "marker": {
             "colorbar": {
              "outlinewidth": 0,
              "ticks": ""
             }
            },
            "type": "scattercarpet"
           }
          ],
          "scattergeo": [
           {
            "marker": {
             "colorbar": {
              "outlinewidth": 0,
              "ticks": ""
             }
            },
            "type": "scattergeo"
           }
          ],
          "scattergl": [
           {
            "marker": {
             "colorbar": {
              "outlinewidth": 0,
              "ticks": ""
             }
            },
            "type": "scattergl"
           }
          ],
          "scattermapbox": [
           {
            "marker": {
             "colorbar": {
              "outlinewidth": 0,
              "ticks": ""
             }
            },
            "type": "scattermapbox"
           }
          ],
          "scatterpolar": [
           {
            "marker": {
             "colorbar": {
              "outlinewidth": 0,
              "ticks": ""
             }
            },
            "type": "scatterpolar"
           }
          ],
          "scatterpolargl": [
           {
            "marker": {
             "colorbar": {
              "outlinewidth": 0,
              "ticks": ""
             }
            },
            "type": "scatterpolargl"
           }
          ],
          "scatterternary": [
           {
            "marker": {
             "colorbar": {
              "outlinewidth": 0,
              "ticks": ""
             }
            },
            "type": "scatterternary"
           }
          ],
          "surface": [
           {
            "colorbar": {
             "outlinewidth": 0,
             "ticks": ""
            },
            "colorscale": [
             [
              0,
              "#0d0887"
             ],
             [
              0.1111111111111111,
              "#46039f"
             ],
             [
              0.2222222222222222,
              "#7201a8"
             ],
             [
              0.3333333333333333,
              "#9c179e"
             ],
             [
              0.4444444444444444,
              "#bd3786"
             ],
             [
              0.5555555555555556,
              "#d8576b"
             ],
             [
              0.6666666666666666,
              "#ed7953"
             ],
             [
              0.7777777777777778,
              "#fb9f3a"
             ],
             [
              0.8888888888888888,
              "#fdca26"
             ],
             [
              1,
              "#f0f921"
             ]
            ],
            "type": "surface"
           }
          ],
          "table": [
           {
            "cells": {
             "fill": {
              "color": "#EBF0F8"
             },
             "line": {
              "color": "white"
             }
            },
            "header": {
             "fill": {
              "color": "#C8D4E3"
             },
             "line": {
              "color": "white"
             }
            },
            "type": "table"
           }
          ]
         },
         "layout": {
          "annotationdefaults": {
           "arrowcolor": "#2a3f5f",
           "arrowhead": 0,
           "arrowwidth": 1
          },
          "autotypenumbers": "strict",
          "coloraxis": {
           "colorbar": {
            "outlinewidth": 0,
            "ticks": ""
           }
          },
          "colorscale": {
           "diverging": [
            [
             0,
             "#8e0152"
            ],
            [
             0.1,
             "#c51b7d"
            ],
            [
             0.2,
             "#de77ae"
            ],
            [
             0.3,
             "#f1b6da"
            ],
            [
             0.4,
             "#fde0ef"
            ],
            [
             0.5,
             "#f7f7f7"
            ],
            [
             0.6,
             "#e6f5d0"
            ],
            [
             0.7,
             "#b8e186"
            ],
            [
             0.8,
             "#7fbc41"
            ],
            [
             0.9,
             "#4d9221"
            ],
            [
             1,
             "#276419"
            ]
           ],
           "sequential": [
            [
             0,
             "#0d0887"
            ],
            [
             0.1111111111111111,
             "#46039f"
            ],
            [
             0.2222222222222222,
             "#7201a8"
            ],
            [
             0.3333333333333333,
             "#9c179e"
            ],
            [
             0.4444444444444444,
             "#bd3786"
            ],
            [
             0.5555555555555556,
             "#d8576b"
            ],
            [
             0.6666666666666666,
             "#ed7953"
            ],
            [
             0.7777777777777778,
             "#fb9f3a"
            ],
            [
             0.8888888888888888,
             "#fdca26"
            ],
            [
             1,
             "#f0f921"
            ]
           ],
           "sequentialminus": [
            [
             0,
             "#0d0887"
            ],
            [
             0.1111111111111111,
             "#46039f"
            ],
            [
             0.2222222222222222,
             "#7201a8"
            ],
            [
             0.3333333333333333,
             "#9c179e"
            ],
            [
             0.4444444444444444,
             "#bd3786"
            ],
            [
             0.5555555555555556,
             "#d8576b"
            ],
            [
             0.6666666666666666,
             "#ed7953"
            ],
            [
             0.7777777777777778,
             "#fb9f3a"
            ],
            [
             0.8888888888888888,
             "#fdca26"
            ],
            [
             1,
             "#f0f921"
            ]
           ]
          },
          "colorway": [
           "#636efa",
           "#EF553B",
           "#00cc96",
           "#ab63fa",
           "#FFA15A",
           "#19d3f3",
           "#FF6692",
           "#B6E880",
           "#FF97FF",
           "#FECB52"
          ],
          "font": {
           "color": "#2a3f5f"
          },
          "geo": {
           "bgcolor": "white",
           "lakecolor": "white",
           "landcolor": "#E5ECF6",
           "showlakes": true,
           "showland": true,
           "subunitcolor": "white"
          },
          "hoverlabel": {
           "align": "left"
          },
          "hovermode": "closest",
          "mapbox": {
           "style": "light"
          },
          "paper_bgcolor": "white",
          "plot_bgcolor": "#E5ECF6",
          "polar": {
           "angularaxis": {
            "gridcolor": "white",
            "linecolor": "white",
            "ticks": ""
           },
           "bgcolor": "#E5ECF6",
           "radialaxis": {
            "gridcolor": "white",
            "linecolor": "white",
            "ticks": ""
           }
          },
          "scene": {
           "xaxis": {
            "backgroundcolor": "#E5ECF6",
            "gridcolor": "white",
            "gridwidth": 2,
            "linecolor": "white",
            "showbackground": true,
            "ticks": "",
            "zerolinecolor": "white"
           },
           "yaxis": {
            "backgroundcolor": "#E5ECF6",
            "gridcolor": "white",
            "gridwidth": 2,
            "linecolor": "white",
            "showbackground": true,
            "ticks": "",
            "zerolinecolor": "white"
           },
           "zaxis": {
            "backgroundcolor": "#E5ECF6",
            "gridcolor": "white",
            "gridwidth": 2,
            "linecolor": "white",
            "showbackground": true,
            "ticks": "",
            "zerolinecolor": "white"
           }
          },
          "shapedefaults": {
           "line": {
            "color": "#2a3f5f"
           }
          },
          "ternary": {
           "aaxis": {
            "gridcolor": "white",
            "linecolor": "white",
            "ticks": ""
           },
           "baxis": {
            "gridcolor": "white",
            "linecolor": "white",
            "ticks": ""
           },
           "bgcolor": "#E5ECF6",
           "caxis": {
            "gridcolor": "white",
            "linecolor": "white",
            "ticks": ""
           }
          },
          "title": {
           "x": 0.05
          },
          "xaxis": {
           "automargin": true,
           "gridcolor": "white",
           "linecolor": "white",
           "ticks": "",
           "title": {
            "standoff": 15
           },
           "zerolinecolor": "white",
           "zerolinewidth": 2
          },
          "yaxis": {
           "automargin": true,
           "gridcolor": "white",
           "linecolor": "white",
           "ticks": "",
           "title": {
            "standoff": 15
           },
           "zerolinecolor": "white",
           "zerolinewidth": 2
          }
         }
        },
        "title": {
         "text": "Principais Gastos de Temer por Setor"
        }
       }
      }
     },
     "metadata": {},
     "output_type": "display_data"
    }
   ],
   "source": [
    "fig_temer_setores = px.pie(gastos_temer_setores.head(20), values='VALOR_CORRIGIDO', names='SUBELEMENTO DE DESPESA', title='Principais Gastos de Temer por Setor',\n",
    "color_discrete_sequence=px.colors.sequential.Blues_r)\n",
    "fig_temer_setores.show()"
   ]
  },
  {
   "cell_type": "markdown",
   "metadata": {},
   "source": [
    "#### Bolsonaro"
   ]
  },
  {
   "cell_type": "code",
   "execution_count": 36,
   "metadata": {},
   "outputs": [
    {
     "data": {
      "text/html": [
       "<div>\n",
       "<style scoped>\n",
       "    .dataframe tbody tr th:only-of-type {\n",
       "        vertical-align: middle;\n",
       "    }\n",
       "\n",
       "    .dataframe tbody tr th {\n",
       "        vertical-align: top;\n",
       "    }\n",
       "\n",
       "    .dataframe thead th {\n",
       "        text-align: right;\n",
       "    }\n",
       "</style>\n",
       "<table border=\"1\" class=\"dataframe\">\n",
       "  <thead>\n",
       "    <tr style=\"text-align: right;\">\n",
       "      <th></th>\n",
       "      <th>index</th>\n",
       "      <th>TIPO</th>\n",
       "      <th>SUBELEMENTO DE DESPESA</th>\n",
       "      <th>VALOR_CORRIGIDO</th>\n",
       "    </tr>\n",
       "  </thead>\n",
       "  <tbody>\n",
       "    <tr>\n",
       "      <th>0</th>\n",
       "      <td>14</td>\n",
       "      <td>Crédito</td>\n",
       "      <td>HOSPEDAGENS</td>\n",
       "      <td>1.552674e+07</td>\n",
       "    </tr>\n",
       "    <tr>\n",
       "      <th>1</th>\n",
       "      <td>11</td>\n",
       "      <td>Crédito</td>\n",
       "      <td>FORNECIMENTO DE ALIMENTAÇO</td>\n",
       "      <td>6.048891e+06</td>\n",
       "    </tr>\n",
       "    <tr>\n",
       "      <th>2</th>\n",
       "      <td>13</td>\n",
       "      <td>Crédito</td>\n",
       "      <td>GENEROS DE ALIMENTAÇO</td>\n",
       "      <td>5.460735e+06</td>\n",
       "    </tr>\n",
       "    <tr>\n",
       "      <th>3</th>\n",
       "      <td>73</td>\n",
       "      <td>Débito</td>\n",
       "      <td>SERV.DE APOIO ADMIN.,TECNICO E OPERACIONAL</td>\n",
       "      <td>9.705348e+05</td>\n",
       "    </tr>\n",
       "    <tr>\n",
       "      <th>4</th>\n",
       "      <td>45</td>\n",
       "      <td>Crédito</td>\n",
       "      <td>SERV.DE APOIO ADMIN.,TECNICO E OPERACIONAL</td>\n",
       "      <td>8.183413e+05</td>\n",
       "    </tr>\n",
       "    <tr>\n",
       "      <th>...</th>\n",
       "      <td>...</td>\n",
       "      <td>...</td>\n",
       "      <td>...</td>\n",
       "      <td>...</td>\n",
       "    </tr>\n",
       "    <tr>\n",
       "      <th>74</th>\n",
       "      <td>15</td>\n",
       "      <td>Crédito</td>\n",
       "      <td>LIMPEZA E CONSERVAÇO</td>\n",
       "      <td>1.198054e+02</td>\n",
       "    </tr>\n",
       "    <tr>\n",
       "      <th>75</th>\n",
       "      <td>51</td>\n",
       "      <td>Crédito</td>\n",
       "      <td>SERVIOS TECNICOS PROFISSIONAIS</td>\n",
       "      <td>8.727249e+01</td>\n",
       "    </tr>\n",
       "    <tr>\n",
       "      <th>76</th>\n",
       "      <td>67</td>\n",
       "      <td>Débito</td>\n",
       "      <td>MAN. E CONSERV. DE MµQUINAS E EQUIPAMENTOS</td>\n",
       "      <td>5.508869e+01</td>\n",
       "    </tr>\n",
       "    <tr>\n",
       "      <th>77</th>\n",
       "      <td>38</td>\n",
       "      <td>Crédito</td>\n",
       "      <td>MATERIAL LABORATORIAL</td>\n",
       "      <td>3.331855e+01</td>\n",
       "    </tr>\n",
       "    <tr>\n",
       "      <th>78</th>\n",
       "      <td>74</td>\n",
       "      <td>Débito</td>\n",
       "      <td>SERVIOS DE ESTACIONAMENTO DE VEÖCULOS</td>\n",
       "      <td>1.699897e+01</td>\n",
       "    </tr>\n",
       "  </tbody>\n",
       "</table>\n",
       "<p>79 rows × 4 columns</p>\n",
       "</div>"
      ],
      "text/plain": [
       "    index     TIPO                      SUBELEMENTO DE DESPESA  \\\n",
       "0      14  Crédito                                 HOSPEDAGENS   \n",
       "1      11  Crédito                 FORNECIMENTO DE ALIMENTAÇO   \n",
       "2      13  Crédito                      GENEROS DE ALIMENTAÇO   \n",
       "3      73   Débito  SERV.DE APOIO ADMIN.,TECNICO E OPERACIONAL   \n",
       "4      45  Crédito  SERV.DE APOIO ADMIN.,TECNICO E OPERACIONAL   \n",
       "..    ...      ...                                         ...   \n",
       "74     15  Crédito                       LIMPEZA E CONSERVAÇO   \n",
       "75     51  Crédito             SERVIOS TECNICOS PROFISSIONAIS   \n",
       "76     67   Débito  MAN. E CONSERV. DE MµQUINAS E EQUIPAMENTOS   \n",
       "77     38  Crédito                       MATERIAL LABORATORIAL   \n",
       "78     74   Débito      SERVIOS DE ESTACIONAMENTO DE VEÖCULOS   \n",
       "\n",
       "    VALOR_CORRIGIDO  \n",
       "0      1.552674e+07  \n",
       "1      6.048891e+06  \n",
       "2      5.460735e+06  \n",
       "3      9.705348e+05  \n",
       "4      8.183413e+05  \n",
       "..              ...  \n",
       "74     1.198054e+02  \n",
       "75     8.727249e+01  \n",
       "76     5.508869e+01  \n",
       "77     3.331855e+01  \n",
       "78     1.699897e+01  \n",
       "\n",
       "[79 rows x 4 columns]"
      ]
     },
     "execution_count": 36,
     "metadata": {},
     "output_type": "execute_result"
    }
   ],
   "source": [
    "gastos_bolsonaro = gastos[gastos['PRES'] == 'BOLSONARO']\n",
    "\n",
    "gastos_bolsonaro_setores = gastos_bolsonaro.groupby([\"TIPO\", \"SUBELEMENTO DE DESPESA\"]).agg({\"VALOR_CORRIGIDO\": sum}).reset_index()\n",
    "gastos_bolsonaro_setores = gastos_bolsonaro_setores.sort_values('VALOR_CORRIGIDO', ascending=False).reset_index()\n",
    "gastos_bolsonaro_setores"
   ]
  },
  {
   "cell_type": "code",
   "execution_count": 37,
   "metadata": {},
   "outputs": [
    {
     "data": {
      "application/vnd.plotly.v1+json": {
       "config": {
        "plotlyServerURL": "https://plot.ly"
       },
       "data": [
        {
         "domain": {
          "x": [
           0,
           1
          ],
          "y": [
           0,
           1
          ]
         },
         "hovertemplate": "TIPO=%{label}<br>VALOR_CORRIGIDO=%{value}<extra></extra>",
         "labels": [
          "Crédito",
          "Crédito",
          "Crédito",
          "Débito",
          "Crédito",
          "Crédito",
          "Crédito",
          "Débito",
          "Débito",
          "Crédito",
          "Débito",
          "Crédito",
          "Débito",
          "Crédito",
          "Crédito",
          "Crédito",
          "Crédito",
          "Crédito",
          "Crédito",
          "Débito",
          "Débito",
          "Crédito",
          "Crédito",
          "Crédito",
          "Crédito",
          "Crédito",
          "Crédito",
          "Débito",
          "Crédito",
          "Débito",
          "Débito",
          "Crédito",
          "Débito",
          "Débito",
          "Crédito",
          "Crédito",
          "Crédito",
          "Crédito",
          "Crédito",
          "Crédito",
          "Débito",
          "Crédito",
          "Débito",
          "Débito",
          "Crédito",
          "Crédito",
          "Crédito",
          "Crédito",
          "Débito",
          "Crédito",
          "Crédito",
          "Crédito",
          "Crédito",
          "Crédito",
          "Crédito",
          "Crédito",
          "Débito",
          "Débito",
          "Crédito",
          "Débito",
          "Crédito",
          "Crédito",
          "Crédito",
          "Débito",
          "Débito",
          "Crédito",
          "Crédito",
          "Crédito",
          "Crédito",
          "Débito",
          "Débito",
          "Crédito",
          "Crédito",
          "Crédito",
          "Crédito",
          "Crédito",
          "Débito",
          "Crédito",
          "Débito"
         ],
         "legendgroup": "",
         "name": "",
         "showlegend": true,
         "type": "pie",
         "values": [
          15526743.208532766,
          6048891.287069166,
          5460734.608176229,
          970534.8242899108,
          818341.3319976924,
          690850.037560478,
          595147.0829088836,
          277775.2950259798,
          261951.7774877469,
          233959.74775109848,
          183636.82791010087,
          79435.7331737141,
          60888.110381201426,
          57552.65822710399,
          55926.309842390845,
          51795.04962867677,
          48607.21224459351,
          48244.07792363454,
          36026.94027030366,
          24071.559510597777,
          23914.489312177793,
          20711.658248541728,
          14391.14812147844,
          13187.126914617726,
          10869.841594963436,
          10779.511992315032,
          10590.331851071629,
          10389.105689004744,
          9557.57620995857,
          9176.055827663826,
          7408.206464927188,
          6199.045314351666,
          5535.398310869586,
          5464.311960153642,
          5138.371370118132,
          4543.614128050367,
          4460.796443609858,
          3434.096817359901,
          3427.473744290467,
          3003.899044443374,
          2877.0409252596482,
          2873.560129068061,
          2861.3450686562874,
          2575.2622096887567,
          2509.294736620545,
          2119.291475405202,
          2014.367942412679,
          1883.724562128079,
          1816.3534717223629,
          1605.8488571424366,
          1596.6164106907945,
          1560.961127955972,
          1504.7442464174287,
          1205.139303362639,
          1168.668861104109,
          1097.7450377340856,
          1079.294498216184,
          1063.4112531132434,
          950.6225281946566,
          950.2298184061129,
          896.0549883659022,
          805.6418307807936,
          802.3388908162586,
          752.9855443832334,
          660.4054383900807,
          581.0150222131874,
          520.4044365228001,
          412.56088364247023,
          410.01617546340077,
          372.2317692150616,
          371.7745599339344,
          237.3302579058339,
          214.32810034622617,
          140.23637970233645,
          119.8053785795466,
          87.2724946166764,
          55.088691350486066,
          33.318550593955074,
          16.99896828289494
         ]
        }
       ],
       "layout": {
        "legend": {
         "tracegroupgap": 0
        },
        "piecolorway": [
         "rgb(255,255,204)",
         "rgb(255,237,160)",
         "rgb(254,217,118)",
         "rgb(254,178,76)",
         "rgb(253,141,60)",
         "rgb(252,78,42)",
         "rgb(227,26,28)",
         "rgb(189,0,38)",
         "rgb(128,0,38)"
        ],
        "template": {
         "data": {
          "bar": [
           {
            "error_x": {
             "color": "#2a3f5f"
            },
            "error_y": {
             "color": "#2a3f5f"
            },
            "marker": {
             "line": {
              "color": "#E5ECF6",
              "width": 0.5
             },
             "pattern": {
              "fillmode": "overlay",
              "size": 10,
              "solidity": 0.2
             }
            },
            "type": "bar"
           }
          ],
          "barpolar": [
           {
            "marker": {
             "line": {
              "color": "#E5ECF6",
              "width": 0.5
             },
             "pattern": {
              "fillmode": "overlay",
              "size": 10,
              "solidity": 0.2
             }
            },
            "type": "barpolar"
           }
          ],
          "carpet": [
           {
            "aaxis": {
             "endlinecolor": "#2a3f5f",
             "gridcolor": "white",
             "linecolor": "white",
             "minorgridcolor": "white",
             "startlinecolor": "#2a3f5f"
            },
            "baxis": {
             "endlinecolor": "#2a3f5f",
             "gridcolor": "white",
             "linecolor": "white",
             "minorgridcolor": "white",
             "startlinecolor": "#2a3f5f"
            },
            "type": "carpet"
           }
          ],
          "choropleth": [
           {
            "colorbar": {
             "outlinewidth": 0,
             "ticks": ""
            },
            "type": "choropleth"
           }
          ],
          "contour": [
           {
            "colorbar": {
             "outlinewidth": 0,
             "ticks": ""
            },
            "colorscale": [
             [
              0,
              "#0d0887"
             ],
             [
              0.1111111111111111,
              "#46039f"
             ],
             [
              0.2222222222222222,
              "#7201a8"
             ],
             [
              0.3333333333333333,
              "#9c179e"
             ],
             [
              0.4444444444444444,
              "#bd3786"
             ],
             [
              0.5555555555555556,
              "#d8576b"
             ],
             [
              0.6666666666666666,
              "#ed7953"
             ],
             [
              0.7777777777777778,
              "#fb9f3a"
             ],
             [
              0.8888888888888888,
              "#fdca26"
             ],
             [
              1,
              "#f0f921"
             ]
            ],
            "type": "contour"
           }
          ],
          "contourcarpet": [
           {
            "colorbar": {
             "outlinewidth": 0,
             "ticks": ""
            },
            "type": "contourcarpet"
           }
          ],
          "heatmap": [
           {
            "colorbar": {
             "outlinewidth": 0,
             "ticks": ""
            },
            "colorscale": [
             [
              0,
              "#0d0887"
             ],
             [
              0.1111111111111111,
              "#46039f"
             ],
             [
              0.2222222222222222,
              "#7201a8"
             ],
             [
              0.3333333333333333,
              "#9c179e"
             ],
             [
              0.4444444444444444,
              "#bd3786"
             ],
             [
              0.5555555555555556,
              "#d8576b"
             ],
             [
              0.6666666666666666,
              "#ed7953"
             ],
             [
              0.7777777777777778,
              "#fb9f3a"
             ],
             [
              0.8888888888888888,
              "#fdca26"
             ],
             [
              1,
              "#f0f921"
             ]
            ],
            "type": "heatmap"
           }
          ],
          "heatmapgl": [
           {
            "colorbar": {
             "outlinewidth": 0,
             "ticks": ""
            },
            "colorscale": [
             [
              0,
              "#0d0887"
             ],
             [
              0.1111111111111111,
              "#46039f"
             ],
             [
              0.2222222222222222,
              "#7201a8"
             ],
             [
              0.3333333333333333,
              "#9c179e"
             ],
             [
              0.4444444444444444,
              "#bd3786"
             ],
             [
              0.5555555555555556,
              "#d8576b"
             ],
             [
              0.6666666666666666,
              "#ed7953"
             ],
             [
              0.7777777777777778,
              "#fb9f3a"
             ],
             [
              0.8888888888888888,
              "#fdca26"
             ],
             [
              1,
              "#f0f921"
             ]
            ],
            "type": "heatmapgl"
           }
          ],
          "histogram": [
           {
            "marker": {
             "pattern": {
              "fillmode": "overlay",
              "size": 10,
              "solidity": 0.2
             }
            },
            "type": "histogram"
           }
          ],
          "histogram2d": [
           {
            "colorbar": {
             "outlinewidth": 0,
             "ticks": ""
            },
            "colorscale": [
             [
              0,
              "#0d0887"
             ],
             [
              0.1111111111111111,
              "#46039f"
             ],
             [
              0.2222222222222222,
              "#7201a8"
             ],
             [
              0.3333333333333333,
              "#9c179e"
             ],
             [
              0.4444444444444444,
              "#bd3786"
             ],
             [
              0.5555555555555556,
              "#d8576b"
             ],
             [
              0.6666666666666666,
              "#ed7953"
             ],
             [
              0.7777777777777778,
              "#fb9f3a"
             ],
             [
              0.8888888888888888,
              "#fdca26"
             ],
             [
              1,
              "#f0f921"
             ]
            ],
            "type": "histogram2d"
           }
          ],
          "histogram2dcontour": [
           {
            "colorbar": {
             "outlinewidth": 0,
             "ticks": ""
            },
            "colorscale": [
             [
              0,
              "#0d0887"
             ],
             [
              0.1111111111111111,
              "#46039f"
             ],
             [
              0.2222222222222222,
              "#7201a8"
             ],
             [
              0.3333333333333333,
              "#9c179e"
             ],
             [
              0.4444444444444444,
              "#bd3786"
             ],
             [
              0.5555555555555556,
              "#d8576b"
             ],
             [
              0.6666666666666666,
              "#ed7953"
             ],
             [
              0.7777777777777778,
              "#fb9f3a"
             ],
             [
              0.8888888888888888,
              "#fdca26"
             ],
             [
              1,
              "#f0f921"
             ]
            ],
            "type": "histogram2dcontour"
           }
          ],
          "mesh3d": [
           {
            "colorbar": {
             "outlinewidth": 0,
             "ticks": ""
            },
            "type": "mesh3d"
           }
          ],
          "parcoords": [
           {
            "line": {
             "colorbar": {
              "outlinewidth": 0,
              "ticks": ""
             }
            },
            "type": "parcoords"
           }
          ],
          "pie": [
           {
            "automargin": true,
            "type": "pie"
           }
          ],
          "scatter": [
           {
            "fillpattern": {
             "fillmode": "overlay",
             "size": 10,
             "solidity": 0.2
            },
            "type": "scatter"
           }
          ],
          "scatter3d": [
           {
            "line": {
             "colorbar": {
              "outlinewidth": 0,
              "ticks": ""
             }
            },
            "marker": {
             "colorbar": {
              "outlinewidth": 0,
              "ticks": ""
             }
            },
            "type": "scatter3d"
           }
          ],
          "scattercarpet": [
           {
            "marker": {
             "colorbar": {
              "outlinewidth": 0,
              "ticks": ""
             }
            },
            "type": "scattercarpet"
           }
          ],
          "scattergeo": [
           {
            "marker": {
             "colorbar": {
              "outlinewidth": 0,
              "ticks": ""
             }
            },
            "type": "scattergeo"
           }
          ],
          "scattergl": [
           {
            "marker": {
             "colorbar": {
              "outlinewidth": 0,
              "ticks": ""
             }
            },
            "type": "scattergl"
           }
          ],
          "scattermapbox": [
           {
            "marker": {
             "colorbar": {
              "outlinewidth": 0,
              "ticks": ""
             }
            },
            "type": "scattermapbox"
           }
          ],
          "scatterpolar": [
           {
            "marker": {
             "colorbar": {
              "outlinewidth": 0,
              "ticks": ""
             }
            },
            "type": "scatterpolar"
           }
          ],
          "scatterpolargl": [
           {
            "marker": {
             "colorbar": {
              "outlinewidth": 0,
              "ticks": ""
             }
            },
            "type": "scatterpolargl"
           }
          ],
          "scatterternary": [
           {
            "marker": {
             "colorbar": {
              "outlinewidth": 0,
              "ticks": ""
             }
            },
            "type": "scatterternary"
           }
          ],
          "surface": [
           {
            "colorbar": {
             "outlinewidth": 0,
             "ticks": ""
            },
            "colorscale": [
             [
              0,
              "#0d0887"
             ],
             [
              0.1111111111111111,
              "#46039f"
             ],
             [
              0.2222222222222222,
              "#7201a8"
             ],
             [
              0.3333333333333333,
              "#9c179e"
             ],
             [
              0.4444444444444444,
              "#bd3786"
             ],
             [
              0.5555555555555556,
              "#d8576b"
             ],
             [
              0.6666666666666666,
              "#ed7953"
             ],
             [
              0.7777777777777778,
              "#fb9f3a"
             ],
             [
              0.8888888888888888,
              "#fdca26"
             ],
             [
              1,
              "#f0f921"
             ]
            ],
            "type": "surface"
           }
          ],
          "table": [
           {
            "cells": {
             "fill": {
              "color": "#EBF0F8"
             },
             "line": {
              "color": "white"
             }
            },
            "header": {
             "fill": {
              "color": "#C8D4E3"
             },
             "line": {
              "color": "white"
             }
            },
            "type": "table"
           }
          ]
         },
         "layout": {
          "annotationdefaults": {
           "arrowcolor": "#2a3f5f",
           "arrowhead": 0,
           "arrowwidth": 1
          },
          "autotypenumbers": "strict",
          "coloraxis": {
           "colorbar": {
            "outlinewidth": 0,
            "ticks": ""
           }
          },
          "colorscale": {
           "diverging": [
            [
             0,
             "#8e0152"
            ],
            [
             0.1,
             "#c51b7d"
            ],
            [
             0.2,
             "#de77ae"
            ],
            [
             0.3,
             "#f1b6da"
            ],
            [
             0.4,
             "#fde0ef"
            ],
            [
             0.5,
             "#f7f7f7"
            ],
            [
             0.6,
             "#e6f5d0"
            ],
            [
             0.7,
             "#b8e186"
            ],
            [
             0.8,
             "#7fbc41"
            ],
            [
             0.9,
             "#4d9221"
            ],
            [
             1,
             "#276419"
            ]
           ],
           "sequential": [
            [
             0,
             "#0d0887"
            ],
            [
             0.1111111111111111,
             "#46039f"
            ],
            [
             0.2222222222222222,
             "#7201a8"
            ],
            [
             0.3333333333333333,
             "#9c179e"
            ],
            [
             0.4444444444444444,
             "#bd3786"
            ],
            [
             0.5555555555555556,
             "#d8576b"
            ],
            [
             0.6666666666666666,
             "#ed7953"
            ],
            [
             0.7777777777777778,
             "#fb9f3a"
            ],
            [
             0.8888888888888888,
             "#fdca26"
            ],
            [
             1,
             "#f0f921"
            ]
           ],
           "sequentialminus": [
            [
             0,
             "#0d0887"
            ],
            [
             0.1111111111111111,
             "#46039f"
            ],
            [
             0.2222222222222222,
             "#7201a8"
            ],
            [
             0.3333333333333333,
             "#9c179e"
            ],
            [
             0.4444444444444444,
             "#bd3786"
            ],
            [
             0.5555555555555556,
             "#d8576b"
            ],
            [
             0.6666666666666666,
             "#ed7953"
            ],
            [
             0.7777777777777778,
             "#fb9f3a"
            ],
            [
             0.8888888888888888,
             "#fdca26"
            ],
            [
             1,
             "#f0f921"
            ]
           ]
          },
          "colorway": [
           "#636efa",
           "#EF553B",
           "#00cc96",
           "#ab63fa",
           "#FFA15A",
           "#19d3f3",
           "#FF6692",
           "#B6E880",
           "#FF97FF",
           "#FECB52"
          ],
          "font": {
           "color": "#2a3f5f"
          },
          "geo": {
           "bgcolor": "white",
           "lakecolor": "white",
           "landcolor": "#E5ECF6",
           "showlakes": true,
           "showland": true,
           "subunitcolor": "white"
          },
          "hoverlabel": {
           "align": "left"
          },
          "hovermode": "closest",
          "mapbox": {
           "style": "light"
          },
          "paper_bgcolor": "white",
          "plot_bgcolor": "#E5ECF6",
          "polar": {
           "angularaxis": {
            "gridcolor": "white",
            "linecolor": "white",
            "ticks": ""
           },
           "bgcolor": "#E5ECF6",
           "radialaxis": {
            "gridcolor": "white",
            "linecolor": "white",
            "ticks": ""
           }
          },
          "scene": {
           "xaxis": {
            "backgroundcolor": "#E5ECF6",
            "gridcolor": "white",
            "gridwidth": 2,
            "linecolor": "white",
            "showbackground": true,
            "ticks": "",
            "zerolinecolor": "white"
           },
           "yaxis": {
            "backgroundcolor": "#E5ECF6",
            "gridcolor": "white",
            "gridwidth": 2,
            "linecolor": "white",
            "showbackground": true,
            "ticks": "",
            "zerolinecolor": "white"
           },
           "zaxis": {
            "backgroundcolor": "#E5ECF6",
            "gridcolor": "white",
            "gridwidth": 2,
            "linecolor": "white",
            "showbackground": true,
            "ticks": "",
            "zerolinecolor": "white"
           }
          },
          "shapedefaults": {
           "line": {
            "color": "#2a3f5f"
           }
          },
          "ternary": {
           "aaxis": {
            "gridcolor": "white",
            "linecolor": "white",
            "ticks": ""
           },
           "baxis": {
            "gridcolor": "white",
            "linecolor": "white",
            "ticks": ""
           },
           "bgcolor": "#E5ECF6",
           "caxis": {
            "gridcolor": "white",
            "linecolor": "white",
            "ticks": ""
           }
          },
          "title": {
           "x": 0.05
          },
          "xaxis": {
           "automargin": true,
           "gridcolor": "white",
           "linecolor": "white",
           "ticks": "",
           "title": {
            "standoff": 15
           },
           "zerolinecolor": "white",
           "zerolinewidth": 2
          },
          "yaxis": {
           "automargin": true,
           "gridcolor": "white",
           "linecolor": "white",
           "ticks": "",
           "title": {
            "standoff": 15
           },
           "zerolinecolor": "white",
           "zerolinewidth": 2
          }
         }
        },
        "title": {
         "text": "Gastos Bolsonaro por modalidade de pagamento"
        }
       }
      }
     },
     "metadata": {},
     "output_type": "display_data"
    }
   ],
   "source": [
    "fig_bolsonaro = px.pie(gastos_bolsonaro_setores, values='VALOR_CORRIGIDO', names='TIPO', title='Gastos Bolsonaro por modalidade de pagamento',\n",
    "color_discrete_sequence=px.colors.sequential.YlOrRd)\n",
    "fig_bolsonaro.show()"
   ]
  },
  {
   "cell_type": "code",
   "execution_count": 38,
   "metadata": {},
   "outputs": [
    {
     "data": {
      "application/vnd.plotly.v1+json": {
       "config": {
        "plotlyServerURL": "https://plot.ly"
       },
       "data": [
        {
         "domain": {
          "x": [
           0,
           1
          ],
          "y": [
           0,
           1
          ]
         },
         "hovertemplate": "SUBELEMENTO DE DESPESA=%{label}<br>VALOR_CORRIGIDO=%{value}<extra></extra>",
         "labels": [
          "HOSPEDAGENS",
          "FORNECIMENTO DE ALIMENTAÇO",
          "GENEROS DE ALIMENTAÇO",
          "SERV.DE APOIO ADMIN.,TECNICO E OPERACIONAL",
          "SERV.DE APOIO ADMIN.,TECNICO E OPERACIONAL",
          "COMBUSTIVEIS E LUBRIF. AUTOMOTIVOS",
          "LOCAÇO BENS MOV. OUTR. NATUREZA E INTANGÖVEIS",
          "HOSPEDAGENS",
          "FORNECIMENTO DE ALIMENTAÇO",
          "MATERIAL DE LIMPEZA E PROD. DE HIGIENIZAÇO",
          "LOCAÇO BENS MOV. OUTR. NATUREZA E INTANGÖVEIS",
          "LOCAÇO DE IMàVEIS",
          "COMBUSTIVEIS E LUBRIF. AUTOMOTIVOS",
          "MATERIAL DE COPA E COZINHA",
          "MATERIAL DE ACONDICIONAMENTO E EMBALAGEM",
          "LOCAÇO DE MµQUINAS E EQUIPAMENTOS",
          "MATERIAL FARMACOLOGICO",
          "COMBUSTIVEIS E LUBRF. P/ OUTRAS FINALIDADES",
          "LOCACAO DE MEIOS DE TRANSPORTE",
          "DESPESAS COM EXCESSO DE BAGAGEM"
         ],
         "legendgroup": "",
         "name": "",
         "showlegend": true,
         "type": "pie",
         "values": [
          15526743.208532766,
          6048891.287069166,
          5460734.608176229,
          970534.8242899108,
          818341.3319976924,
          690850.037560478,
          595147.0829088836,
          277775.2950259798,
          261951.7774877469,
          233959.74775109848,
          183636.82791010087,
          79435.7331737141,
          60888.110381201426,
          57552.65822710399,
          55926.309842390845,
          51795.04962867677,
          48607.21224459351,
          48244.07792363454,
          36026.94027030366,
          24071.559510597777
         ]
        }
       ],
       "layout": {
        "legend": {
         "tracegroupgap": 0
        },
        "piecolorway": [
         "rgb(255,255,204)",
         "rgb(255,237,160)",
         "rgb(254,217,118)",
         "rgb(254,178,76)",
         "rgb(253,141,60)",
         "rgb(252,78,42)",
         "rgb(227,26,28)",
         "rgb(189,0,38)",
         "rgb(128,0,38)"
        ],
        "template": {
         "data": {
          "bar": [
           {
            "error_x": {
             "color": "#2a3f5f"
            },
            "error_y": {
             "color": "#2a3f5f"
            },
            "marker": {
             "line": {
              "color": "#E5ECF6",
              "width": 0.5
             },
             "pattern": {
              "fillmode": "overlay",
              "size": 10,
              "solidity": 0.2
             }
            },
            "type": "bar"
           }
          ],
          "barpolar": [
           {
            "marker": {
             "line": {
              "color": "#E5ECF6",
              "width": 0.5
             },
             "pattern": {
              "fillmode": "overlay",
              "size": 10,
              "solidity": 0.2
             }
            },
            "type": "barpolar"
           }
          ],
          "carpet": [
           {
            "aaxis": {
             "endlinecolor": "#2a3f5f",
             "gridcolor": "white",
             "linecolor": "white",
             "minorgridcolor": "white",
             "startlinecolor": "#2a3f5f"
            },
            "baxis": {
             "endlinecolor": "#2a3f5f",
             "gridcolor": "white",
             "linecolor": "white",
             "minorgridcolor": "white",
             "startlinecolor": "#2a3f5f"
            },
            "type": "carpet"
           }
          ],
          "choropleth": [
           {
            "colorbar": {
             "outlinewidth": 0,
             "ticks": ""
            },
            "type": "choropleth"
           }
          ],
          "contour": [
           {
            "colorbar": {
             "outlinewidth": 0,
             "ticks": ""
            },
            "colorscale": [
             [
              0,
              "#0d0887"
             ],
             [
              0.1111111111111111,
              "#46039f"
             ],
             [
              0.2222222222222222,
              "#7201a8"
             ],
             [
              0.3333333333333333,
              "#9c179e"
             ],
             [
              0.4444444444444444,
              "#bd3786"
             ],
             [
              0.5555555555555556,
              "#d8576b"
             ],
             [
              0.6666666666666666,
              "#ed7953"
             ],
             [
              0.7777777777777778,
              "#fb9f3a"
             ],
             [
              0.8888888888888888,
              "#fdca26"
             ],
             [
              1,
              "#f0f921"
             ]
            ],
            "type": "contour"
           }
          ],
          "contourcarpet": [
           {
            "colorbar": {
             "outlinewidth": 0,
             "ticks": ""
            },
            "type": "contourcarpet"
           }
          ],
          "heatmap": [
           {
            "colorbar": {
             "outlinewidth": 0,
             "ticks": ""
            },
            "colorscale": [
             [
              0,
              "#0d0887"
             ],
             [
              0.1111111111111111,
              "#46039f"
             ],
             [
              0.2222222222222222,
              "#7201a8"
             ],
             [
              0.3333333333333333,
              "#9c179e"
             ],
             [
              0.4444444444444444,
              "#bd3786"
             ],
             [
              0.5555555555555556,
              "#d8576b"
             ],
             [
              0.6666666666666666,
              "#ed7953"
             ],
             [
              0.7777777777777778,
              "#fb9f3a"
             ],
             [
              0.8888888888888888,
              "#fdca26"
             ],
             [
              1,
              "#f0f921"
             ]
            ],
            "type": "heatmap"
           }
          ],
          "heatmapgl": [
           {
            "colorbar": {
             "outlinewidth": 0,
             "ticks": ""
            },
            "colorscale": [
             [
              0,
              "#0d0887"
             ],
             [
              0.1111111111111111,
              "#46039f"
             ],
             [
              0.2222222222222222,
              "#7201a8"
             ],
             [
              0.3333333333333333,
              "#9c179e"
             ],
             [
              0.4444444444444444,
              "#bd3786"
             ],
             [
              0.5555555555555556,
              "#d8576b"
             ],
             [
              0.6666666666666666,
              "#ed7953"
             ],
             [
              0.7777777777777778,
              "#fb9f3a"
             ],
             [
              0.8888888888888888,
              "#fdca26"
             ],
             [
              1,
              "#f0f921"
             ]
            ],
            "type": "heatmapgl"
           }
          ],
          "histogram": [
           {
            "marker": {
             "pattern": {
              "fillmode": "overlay",
              "size": 10,
              "solidity": 0.2
             }
            },
            "type": "histogram"
           }
          ],
          "histogram2d": [
           {
            "colorbar": {
             "outlinewidth": 0,
             "ticks": ""
            },
            "colorscale": [
             [
              0,
              "#0d0887"
             ],
             [
              0.1111111111111111,
              "#46039f"
             ],
             [
              0.2222222222222222,
              "#7201a8"
             ],
             [
              0.3333333333333333,
              "#9c179e"
             ],
             [
              0.4444444444444444,
              "#bd3786"
             ],
             [
              0.5555555555555556,
              "#d8576b"
             ],
             [
              0.6666666666666666,
              "#ed7953"
             ],
             [
              0.7777777777777778,
              "#fb9f3a"
             ],
             [
              0.8888888888888888,
              "#fdca26"
             ],
             [
              1,
              "#f0f921"
             ]
            ],
            "type": "histogram2d"
           }
          ],
          "histogram2dcontour": [
           {
            "colorbar": {
             "outlinewidth": 0,
             "ticks": ""
            },
            "colorscale": [
             [
              0,
              "#0d0887"
             ],
             [
              0.1111111111111111,
              "#46039f"
             ],
             [
              0.2222222222222222,
              "#7201a8"
             ],
             [
              0.3333333333333333,
              "#9c179e"
             ],
             [
              0.4444444444444444,
              "#bd3786"
             ],
             [
              0.5555555555555556,
              "#d8576b"
             ],
             [
              0.6666666666666666,
              "#ed7953"
             ],
             [
              0.7777777777777778,
              "#fb9f3a"
             ],
             [
              0.8888888888888888,
              "#fdca26"
             ],
             [
              1,
              "#f0f921"
             ]
            ],
            "type": "histogram2dcontour"
           }
          ],
          "mesh3d": [
           {
            "colorbar": {
             "outlinewidth": 0,
             "ticks": ""
            },
            "type": "mesh3d"
           }
          ],
          "parcoords": [
           {
            "line": {
             "colorbar": {
              "outlinewidth": 0,
              "ticks": ""
             }
            },
            "type": "parcoords"
           }
          ],
          "pie": [
           {
            "automargin": true,
            "type": "pie"
           }
          ],
          "scatter": [
           {
            "fillpattern": {
             "fillmode": "overlay",
             "size": 10,
             "solidity": 0.2
            },
            "type": "scatter"
           }
          ],
          "scatter3d": [
           {
            "line": {
             "colorbar": {
              "outlinewidth": 0,
              "ticks": ""
             }
            },
            "marker": {
             "colorbar": {
              "outlinewidth": 0,
              "ticks": ""
             }
            },
            "type": "scatter3d"
           }
          ],
          "scattercarpet": [
           {
            "marker": {
             "colorbar": {
              "outlinewidth": 0,
              "ticks": ""
             }
            },
            "type": "scattercarpet"
           }
          ],
          "scattergeo": [
           {
            "marker": {
             "colorbar": {
              "outlinewidth": 0,
              "ticks": ""
             }
            },
            "type": "scattergeo"
           }
          ],
          "scattergl": [
           {
            "marker": {
             "colorbar": {
              "outlinewidth": 0,
              "ticks": ""
             }
            },
            "type": "scattergl"
           }
          ],
          "scattermapbox": [
           {
            "marker": {
             "colorbar": {
              "outlinewidth": 0,
              "ticks": ""
             }
            },
            "type": "scattermapbox"
           }
          ],
          "scatterpolar": [
           {
            "marker": {
             "colorbar": {
              "outlinewidth": 0,
              "ticks": ""
             }
            },
            "type": "scatterpolar"
           }
          ],
          "scatterpolargl": [
           {
            "marker": {
             "colorbar": {
              "outlinewidth": 0,
              "ticks": ""
             }
            },
            "type": "scatterpolargl"
           }
          ],
          "scatterternary": [
           {
            "marker": {
             "colorbar": {
              "outlinewidth": 0,
              "ticks": ""
             }
            },
            "type": "scatterternary"
           }
          ],
          "surface": [
           {
            "colorbar": {
             "outlinewidth": 0,
             "ticks": ""
            },
            "colorscale": [
             [
              0,
              "#0d0887"
             ],
             [
              0.1111111111111111,
              "#46039f"
             ],
             [
              0.2222222222222222,
              "#7201a8"
             ],
             [
              0.3333333333333333,
              "#9c179e"
             ],
             [
              0.4444444444444444,
              "#bd3786"
             ],
             [
              0.5555555555555556,
              "#d8576b"
             ],
             [
              0.6666666666666666,
              "#ed7953"
             ],
             [
              0.7777777777777778,
              "#fb9f3a"
             ],
             [
              0.8888888888888888,
              "#fdca26"
             ],
             [
              1,
              "#f0f921"
             ]
            ],
            "type": "surface"
           }
          ],
          "table": [
           {
            "cells": {
             "fill": {
              "color": "#EBF0F8"
             },
             "line": {
              "color": "white"
             }
            },
            "header": {
             "fill": {
              "color": "#C8D4E3"
             },
             "line": {
              "color": "white"
             }
            },
            "type": "table"
           }
          ]
         },
         "layout": {
          "annotationdefaults": {
           "arrowcolor": "#2a3f5f",
           "arrowhead": 0,
           "arrowwidth": 1
          },
          "autotypenumbers": "strict",
          "coloraxis": {
           "colorbar": {
            "outlinewidth": 0,
            "ticks": ""
           }
          },
          "colorscale": {
           "diverging": [
            [
             0,
             "#8e0152"
            ],
            [
             0.1,
             "#c51b7d"
            ],
            [
             0.2,
             "#de77ae"
            ],
            [
             0.3,
             "#f1b6da"
            ],
            [
             0.4,
             "#fde0ef"
            ],
            [
             0.5,
             "#f7f7f7"
            ],
            [
             0.6,
             "#e6f5d0"
            ],
            [
             0.7,
             "#b8e186"
            ],
            [
             0.8,
             "#7fbc41"
            ],
            [
             0.9,
             "#4d9221"
            ],
            [
             1,
             "#276419"
            ]
           ],
           "sequential": [
            [
             0,
             "#0d0887"
            ],
            [
             0.1111111111111111,
             "#46039f"
            ],
            [
             0.2222222222222222,
             "#7201a8"
            ],
            [
             0.3333333333333333,
             "#9c179e"
            ],
            [
             0.4444444444444444,
             "#bd3786"
            ],
            [
             0.5555555555555556,
             "#d8576b"
            ],
            [
             0.6666666666666666,
             "#ed7953"
            ],
            [
             0.7777777777777778,
             "#fb9f3a"
            ],
            [
             0.8888888888888888,
             "#fdca26"
            ],
            [
             1,
             "#f0f921"
            ]
           ],
           "sequentialminus": [
            [
             0,
             "#0d0887"
            ],
            [
             0.1111111111111111,
             "#46039f"
            ],
            [
             0.2222222222222222,
             "#7201a8"
            ],
            [
             0.3333333333333333,
             "#9c179e"
            ],
            [
             0.4444444444444444,
             "#bd3786"
            ],
            [
             0.5555555555555556,
             "#d8576b"
            ],
            [
             0.6666666666666666,
             "#ed7953"
            ],
            [
             0.7777777777777778,
             "#fb9f3a"
            ],
            [
             0.8888888888888888,
             "#fdca26"
            ],
            [
             1,
             "#f0f921"
            ]
           ]
          },
          "colorway": [
           "#636efa",
           "#EF553B",
           "#00cc96",
           "#ab63fa",
           "#FFA15A",
           "#19d3f3",
           "#FF6692",
           "#B6E880",
           "#FF97FF",
           "#FECB52"
          ],
          "font": {
           "color": "#2a3f5f"
          },
          "geo": {
           "bgcolor": "white",
           "lakecolor": "white",
           "landcolor": "#E5ECF6",
           "showlakes": true,
           "showland": true,
           "subunitcolor": "white"
          },
          "hoverlabel": {
           "align": "left"
          },
          "hovermode": "closest",
          "mapbox": {
           "style": "light"
          },
          "paper_bgcolor": "white",
          "plot_bgcolor": "#E5ECF6",
          "polar": {
           "angularaxis": {
            "gridcolor": "white",
            "linecolor": "white",
            "ticks": ""
           },
           "bgcolor": "#E5ECF6",
           "radialaxis": {
            "gridcolor": "white",
            "linecolor": "white",
            "ticks": ""
           }
          },
          "scene": {
           "xaxis": {
            "backgroundcolor": "#E5ECF6",
            "gridcolor": "white",
            "gridwidth": 2,
            "linecolor": "white",
            "showbackground": true,
            "ticks": "",
            "zerolinecolor": "white"
           },
           "yaxis": {
            "backgroundcolor": "#E5ECF6",
            "gridcolor": "white",
            "gridwidth": 2,
            "linecolor": "white",
            "showbackground": true,
            "ticks": "",
            "zerolinecolor": "white"
           },
           "zaxis": {
            "backgroundcolor": "#E5ECF6",
            "gridcolor": "white",
            "gridwidth": 2,
            "linecolor": "white",
            "showbackground": true,
            "ticks": "",
            "zerolinecolor": "white"
           }
          },
          "shapedefaults": {
           "line": {
            "color": "#2a3f5f"
           }
          },
          "ternary": {
           "aaxis": {
            "gridcolor": "white",
            "linecolor": "white",
            "ticks": ""
           },
           "baxis": {
            "gridcolor": "white",
            "linecolor": "white",
            "ticks": ""
           },
           "bgcolor": "#E5ECF6",
           "caxis": {
            "gridcolor": "white",
            "linecolor": "white",
            "ticks": ""
           }
          },
          "title": {
           "x": 0.05
          },
          "xaxis": {
           "automargin": true,
           "gridcolor": "white",
           "linecolor": "white",
           "ticks": "",
           "title": {
            "standoff": 15
           },
           "zerolinecolor": "white",
           "zerolinewidth": 2
          },
          "yaxis": {
           "automargin": true,
           "gridcolor": "white",
           "linecolor": "white",
           "ticks": "",
           "title": {
            "standoff": 15
           },
           "zerolinecolor": "white",
           "zerolinewidth": 2
          }
         }
        },
        "title": {
         "text": "Principais Gastos Bolsonaro por Setor"
        }
       }
      }
     },
     "metadata": {},
     "output_type": "display_data"
    }
   ],
   "source": [
    "fig_Bolsonaro_setores = px.pie(gastos_bolsonaro_setores.head(20), values='VALOR_CORRIGIDO', names='SUBELEMENTO DE DESPESA', title='Principais Gastos Bolsonaro por Setor',\n",
    "color_discrete_sequence=px.colors.sequential.YlOrRd)\n",
    "fig_Bolsonaro_setores.show()"
   ]
  },
  {
   "cell_type": "markdown",
   "metadata": {},
   "source": []
  },
  {
   "cell_type": "markdown",
   "metadata": {},
   "source": [
    "# Análise de gasto por empresas"
   ]
  },
  {
   "cell_type": "markdown",
   "metadata": {},
   "source": [
    "### Governo Lula"
   ]
  },
  {
   "cell_type": "code",
   "execution_count": null,
   "metadata": {},
   "outputs": [
    {
     "data": {
      "text/html": [
       "<div>\n",
       "<style scoped>\n",
       "    .dataframe tbody tr th:only-of-type {\n",
       "        vertical-align: middle;\n",
       "    }\n",
       "\n",
       "    .dataframe tbody tr th {\n",
       "        vertical-align: top;\n",
       "    }\n",
       "\n",
       "    .dataframe thead th {\n",
       "        text-align: right;\n",
       "    }\n",
       "</style>\n",
       "<table border=\"1\" class=\"dataframe\">\n",
       "  <thead>\n",
       "    <tr style=\"text-align: right;\">\n",
       "      <th></th>\n",
       "      <th>index</th>\n",
       "      <th>PRES</th>\n",
       "      <th>NOME FORNECEDOR</th>\n",
       "      <th>VALOR_CORRIGIDO</th>\n",
       "    </tr>\n",
       "  </thead>\n",
       "  <tbody>\n",
       "    <tr>\n",
       "      <th>0</th>\n",
       "      <td>6551</td>\n",
       "      <td>LULA</td>\n",
       "      <td>FULL TIME LOCAÇO E SERVIOS S/C LTDA</td>\n",
       "      <td>5.721320e+06</td>\n",
       "    </tr>\n",
       "    <tr>\n",
       "      <th>1</th>\n",
       "      <td>7920</td>\n",
       "      <td>LULA</td>\n",
       "      <td>P.J.P. LOCAåES E SERVIOS LTDA - BRASÖLIA RENT A</td>\n",
       "      <td>3.273568e+06</td>\n",
       "    </tr>\n",
       "    <tr>\n",
       "      <th>2</th>\n",
       "      <td>7357</td>\n",
       "      <td>LULA</td>\n",
       "      <td>LOCALIZA RENT A CAR S/A</td>\n",
       "      <td>2.872042e+06</td>\n",
       "    </tr>\n",
       "    <tr>\n",
       "      <th>3</th>\n",
       "      <td>7654</td>\n",
       "      <td>LULA</td>\n",
       "      <td>MERCADINHO LA PALMA LTDA</td>\n",
       "      <td>2.740608e+06</td>\n",
       "    </tr>\n",
       "    <tr>\n",
       "      <th>4</th>\n",
       "      <td>5740</td>\n",
       "      <td>LULA</td>\n",
       "      <td>CIA. INDUSTRIAL DE GRANDES HOTIS - HOTEL GLàRIA</td>\n",
       "      <td>2.376868e+06</td>\n",
       "    </tr>\n",
       "    <tr>\n",
       "      <th>8</th>\n",
       "      <td>4947</td>\n",
       "      <td>LULA</td>\n",
       "      <td>ANNA RENT A CAR - MAIA LOCADORA DE VEÖCULOS LTDA</td>\n",
       "      <td>2.289427e+06</td>\n",
       "    </tr>\n",
       "    <tr>\n",
       "      <th>9</th>\n",
       "      <td>4787</td>\n",
       "      <td>LULA</td>\n",
       "      <td>ABACO SCP SAINT MORITZ</td>\n",
       "      <td>2.276856e+06</td>\n",
       "    </tr>\n",
       "    <tr>\n",
       "      <th>10</th>\n",
       "      <td>6359</td>\n",
       "      <td>LULA</td>\n",
       "      <td>ESTANPLAZA ADMINISTRADORA HOTELARIA E COMERCIA...</td>\n",
       "      <td>2.159770e+06</td>\n",
       "    </tr>\n",
       "    <tr>\n",
       "      <th>11</th>\n",
       "      <td>5848</td>\n",
       "      <td>LULA</td>\n",
       "      <td>COMPANHIA BRASILEIRA DE DISTRIBUIÇO</td>\n",
       "      <td>1.927585e+06</td>\n",
       "    </tr>\n",
       "    <tr>\n",
       "      <th>12</th>\n",
       "      <td>5377</td>\n",
       "      <td>LULA</td>\n",
       "      <td>BOURBON IBIRAPUERA HOTEL &amp; CONVENTION</td>\n",
       "      <td>1.853547e+06</td>\n",
       "    </tr>\n",
       "    <tr>\n",
       "      <th>13</th>\n",
       "      <td>5407</td>\n",
       "      <td>LULA</td>\n",
       "      <td>BRASÖLIA RENT A CAR - LOCAåES E SERVIOS LTDA</td>\n",
       "      <td>1.704220e+06</td>\n",
       "    </tr>\n",
       "    <tr>\n",
       "      <th>15</th>\n",
       "      <td>9184</td>\n",
       "      <td>LULA</td>\n",
       "      <td>VICTORY ALUGUEL DE VEÖCULOS E SERVIOS LTDA</td>\n",
       "      <td>1.598926e+06</td>\n",
       "    </tr>\n",
       "    <tr>\n",
       "      <th>16</th>\n",
       "      <td>8676</td>\n",
       "      <td>LULA</td>\n",
       "      <td>SAINT MORITZ HOT. ACCOR BRASIL S.A.</td>\n",
       "      <td>1.338631e+06</td>\n",
       "    </tr>\n",
       "    <tr>\n",
       "      <th>17</th>\n",
       "      <td>5014</td>\n",
       "      <td>LULA</td>\n",
       "      <td>ASA BRANCA LOCADORA DE VEÖCULOS LTDA</td>\n",
       "      <td>1.324284e+06</td>\n",
       "    </tr>\n",
       "    <tr>\n",
       "      <th>18</th>\n",
       "      <td>8746</td>\n",
       "      <td>LULA</td>\n",
       "      <td>SAUIPE S.A - SAUIPE PARK</td>\n",
       "      <td>1.321127e+06</td>\n",
       "    </tr>\n",
       "    <tr>\n",
       "      <th>20</th>\n",
       "      <td>7354</td>\n",
       "      <td>LULA</td>\n",
       "      <td>LOCALIZA CAR RENTAL S/A</td>\n",
       "      <td>1.291974e+06</td>\n",
       "    </tr>\n",
       "    <tr>\n",
       "      <th>21</th>\n",
       "      <td>8474</td>\n",
       "      <td>LULA</td>\n",
       "      <td>RENARO LOCAÇO DE VEÖCULOS E SERVIOS LTDA</td>\n",
       "      <td>1.282031e+06</td>\n",
       "    </tr>\n",
       "    <tr>\n",
       "      <th>24</th>\n",
       "      <td>6388</td>\n",
       "      <td>LULA</td>\n",
       "      <td>EVEREST RIO HOTEL S/A</td>\n",
       "      <td>1.162112e+06</td>\n",
       "    </tr>\n",
       "    <tr>\n",
       "      <th>25</th>\n",
       "      <td>8404</td>\n",
       "      <td>LULA</td>\n",
       "      <td>RA CATERING LTDA - THE COLLECTION-CUMBICA SP</td>\n",
       "      <td>1.101979e+06</td>\n",
       "    </tr>\n",
       "    <tr>\n",
       "      <th>27</th>\n",
       "      <td>7836</td>\n",
       "      <td>LULA</td>\n",
       "      <td>NOVA RIOTEL EMPREENDIMENTOS HOTELEIROS LTDA</td>\n",
       "      <td>1.062402e+06</td>\n",
       "    </tr>\n",
       "  </tbody>\n",
       "</table>\n",
       "</div>"
      ],
      "text/plain": [
       "    index  PRES                                    NOME FORNECEDOR  \\\n",
       "0    6551  LULA              FULL TIME LOCAÇO E SERVIOS S/C LTDA   \n",
       "1    7920  LULA  P.J.P. LOCAåES E SERVIOS LTDA - BRASÖLIA RENT A   \n",
       "2    7357  LULA                            LOCALIZA RENT A CAR S/A   \n",
       "3    7654  LULA                           MERCADINHO LA PALMA LTDA   \n",
       "4    5740  LULA   CIA. INDUSTRIAL DE GRANDES HOTIS - HOTEL GLàRIA   \n",
       "8    4947  LULA   ANNA RENT A CAR - MAIA LOCADORA DE VEÖCULOS LTDA   \n",
       "9    4787  LULA                             ABACO SCP SAINT MORITZ   \n",
       "10   6359  LULA  ESTANPLAZA ADMINISTRADORA HOTELARIA E COMERCIA...   \n",
       "11   5848  LULA               COMPANHIA BRASILEIRA DE DISTRIBUIÇO   \n",
       "12   5377  LULA              BOURBON IBIRAPUERA HOTEL & CONVENTION   \n",
       "13   5407  LULA     BRASÖLIA RENT A CAR - LOCAåES E SERVIOS LTDA   \n",
       "15   9184  LULA        VICTORY ALUGUEL DE VEÖCULOS E SERVIOS LTDA   \n",
       "16   8676  LULA                SAINT MORITZ HOT. ACCOR BRASIL S.A.   \n",
       "17   5014  LULA               ASA BRANCA LOCADORA DE VEÖCULOS LTDA   \n",
       "18   8746  LULA                           SAUIPE S.A - SAUIPE PARK   \n",
       "20   7354  LULA                            LOCALIZA CAR RENTAL S/A   \n",
       "21   8474  LULA         RENARO LOCAÇO DE VEÖCULOS E SERVIOS LTDA   \n",
       "24   6388  LULA                              EVEREST RIO HOTEL S/A   \n",
       "25   8404  LULA       RA CATERING LTDA - THE COLLECTION-CUMBICA SP   \n",
       "27   7836  LULA        NOVA RIOTEL EMPREENDIMENTOS HOTELEIROS LTDA   \n",
       "\n",
       "    VALOR_CORRIGIDO  \n",
       "0      5.721320e+06  \n",
       "1      3.273568e+06  \n",
       "2      2.872042e+06  \n",
       "3      2.740608e+06  \n",
       "4      2.376868e+06  \n",
       "8      2.289427e+06  \n",
       "9      2.276856e+06  \n",
       "10     2.159770e+06  \n",
       "11     1.927585e+06  \n",
       "12     1.853547e+06  \n",
       "13     1.704220e+06  \n",
       "15     1.598926e+06  \n",
       "16     1.338631e+06  \n",
       "17     1.324284e+06  \n",
       "18     1.321127e+06  \n",
       "20     1.291974e+06  \n",
       "21     1.282031e+06  \n",
       "24     1.162112e+06  \n",
       "25     1.101979e+06  \n",
       "27     1.062402e+06  "
      ]
     },
     "metadata": {},
     "output_type": "display_data"
    }
   ],
   "source": [
    "empresas_beneficiadas = gastos.groupby([\"PRES\",\"NOME FORNECEDOR\"]).agg({\"VALOR_CORRIGIDO\": sum}).reset_index()\n",
    "empresas_beneficiadas = empresas_beneficiadas.sort_values(\"VALOR_CORRIGIDO\", ascending=False).reset_index()\n",
    "empresas_beneficiadas_lula =  empresas_beneficiadas[empresas_beneficiadas['PRES'] == 'LULA']\n",
    "empresas_beneficiadas_lula.head(20)"
   ]
  },
  {
   "cell_type": "markdown",
   "metadata": {},
   "source": [
    "### Governo Dilma"
   ]
  },
  {
   "cell_type": "code",
   "execution_count": null,
   "metadata": {},
   "outputs": [
    {
     "data": {
      "text/html": [
       "<div>\n",
       "<style scoped>\n",
       "    .dataframe tbody tr th:only-of-type {\n",
       "        vertical-align: middle;\n",
       "    }\n",
       "\n",
       "    .dataframe tbody tr th {\n",
       "        vertical-align: top;\n",
       "    }\n",
       "\n",
       "    .dataframe thead th {\n",
       "        text-align: right;\n",
       "    }\n",
       "</style>\n",
       "<table border=\"1\" class=\"dataframe\">\n",
       "  <thead>\n",
       "    <tr style=\"text-align: right;\">\n",
       "      <th></th>\n",
       "      <th>index</th>\n",
       "      <th>PRES</th>\n",
       "      <th>NOME FORNECEDOR</th>\n",
       "      <th>VALOR_CORRIGIDO</th>\n",
       "    </tr>\n",
       "  </thead>\n",
       "  <tbody>\n",
       "    <tr>\n",
       "      <th>5</th>\n",
       "      <td>2992</td>\n",
       "      <td>DILMA</td>\n",
       "      <td>GOLDEN TOWER HOTEIS E TURISMO LTDA</td>\n",
       "      <td>2.366492e+06</td>\n",
       "    </tr>\n",
       "    <tr>\n",
       "      <th>6</th>\n",
       "      <td>2157</td>\n",
       "      <td>DILMA</td>\n",
       "      <td>BOURBON IBIRAPUERA HOTEL &amp; CONVENTION</td>\n",
       "      <td>2.334435e+06</td>\n",
       "    </tr>\n",
       "    <tr>\n",
       "      <th>7</th>\n",
       "      <td>3632</td>\n",
       "      <td>DILMA</td>\n",
       "      <td>MERCADINHO LA PALMA LTDA</td>\n",
       "      <td>2.318398e+06</td>\n",
       "    </tr>\n",
       "    <tr>\n",
       "      <th>22</th>\n",
       "      <td>4559</td>\n",
       "      <td>DILMA</td>\n",
       "      <td>TOLEDO JR LANCHES LTDA</td>\n",
       "      <td>1.253938e+06</td>\n",
       "    </tr>\n",
       "    <tr>\n",
       "      <th>23</th>\n",
       "      <td>3959</td>\n",
       "      <td>DILMA</td>\n",
       "      <td>PESTANA RIO ATLANTICA HOTEL</td>\n",
       "      <td>1.208080e+06</td>\n",
       "    </tr>\n",
       "    <tr>\n",
       "      <th>26</th>\n",
       "      <td>2121</td>\n",
       "      <td>DILMA</td>\n",
       "      <td>BLUE TREE HOTELS &amp; RESORTS DO BRASIL S/A-MILLE...</td>\n",
       "      <td>1.083513e+06</td>\n",
       "    </tr>\n",
       "    <tr>\n",
       "      <th>33</th>\n",
       "      <td>2438</td>\n",
       "      <td>DILMA</td>\n",
       "      <td>COMPANHIA BRASILEIRA DE DISTRIBUIÇO</td>\n",
       "      <td>8.426229e+05</td>\n",
       "    </tr>\n",
       "    <tr>\n",
       "      <th>34</th>\n",
       "      <td>2290</td>\n",
       "      <td>DILMA</td>\n",
       "      <td>CATUSSABA HOTEL LTDA</td>\n",
       "      <td>8.318674e+05</td>\n",
       "    </tr>\n",
       "    <tr>\n",
       "      <th>40</th>\n",
       "      <td>4717</td>\n",
       "      <td>DILMA</td>\n",
       "      <td>WINDSOR BARRA HOTEL LTDA</td>\n",
       "      <td>7.192165e+05</td>\n",
       "    </tr>\n",
       "    <tr>\n",
       "      <th>41</th>\n",
       "      <td>2291</td>\n",
       "      <td>DILMA</td>\n",
       "      <td>CATUSSABA RESORT HOTEL LTDA</td>\n",
       "      <td>7.093739e+05</td>\n",
       "    </tr>\n",
       "    <tr>\n",
       "      <th>43</th>\n",
       "      <td>2119</td>\n",
       "      <td>DILMA</td>\n",
       "      <td>BLUE TREE HOTEL</td>\n",
       "      <td>7.044211e+05</td>\n",
       "    </tr>\n",
       "    <tr>\n",
       "      <th>44</th>\n",
       "      <td>3942</td>\n",
       "      <td>DILMA</td>\n",
       "      <td>PEIXARIA GOLFINHO - EPP (PEIXARIA DA DONA NEGA)</td>\n",
       "      <td>6.841038e+05</td>\n",
       "    </tr>\n",
       "    <tr>\n",
       "      <th>46</th>\n",
       "      <td>4652</td>\n",
       "      <td>DILMA</td>\n",
       "      <td>VIANDE BOUTIQUE DE CARNES LTDA ME</td>\n",
       "      <td>6.678290e+05</td>\n",
       "    </tr>\n",
       "    <tr>\n",
       "      <th>48</th>\n",
       "      <td>3099</td>\n",
       "      <td>DILMA</td>\n",
       "      <td>HOTEL DELLA VOLPE LTDA - GOLDEN TULIP REGENTE</td>\n",
       "      <td>6.640166e+05</td>\n",
       "    </tr>\n",
       "    <tr>\n",
       "      <th>50</th>\n",
       "      <td>3172</td>\n",
       "      <td>DILMA</td>\n",
       "      <td>HOTIS OTHON S/A</td>\n",
       "      <td>6.533407e+05</td>\n",
       "    </tr>\n",
       "    <tr>\n",
       "      <th>53</th>\n",
       "      <td>3396</td>\n",
       "      <td>DILMA</td>\n",
       "      <td>LANCHONETE TONY E THAIS LTDA. ME</td>\n",
       "      <td>6.427811e+05</td>\n",
       "    </tr>\n",
       "    <tr>\n",
       "      <th>55</th>\n",
       "      <td>2881</td>\n",
       "      <td>DILMA</td>\n",
       "      <td>FIESTA BAHIA HOTEL LTDA</td>\n",
       "      <td>6.357421e+05</td>\n",
       "    </tr>\n",
       "    <tr>\n",
       "      <th>58</th>\n",
       "      <td>4163</td>\n",
       "      <td>DILMA</td>\n",
       "      <td>RENAISSANCE DO BRASIL HOTELARIA LTDA</td>\n",
       "      <td>5.838365e+05</td>\n",
       "    </tr>\n",
       "    <tr>\n",
       "      <th>59</th>\n",
       "      <td>4400</td>\n",
       "      <td>DILMA</td>\n",
       "      <td>SHELTAIR AVIATION JFK, LLC.</td>\n",
       "      <td>5.823319e+05</td>\n",
       "    </tr>\n",
       "    <tr>\n",
       "      <th>61</th>\n",
       "      <td>4063</td>\n",
       "      <td>DILMA</td>\n",
       "      <td>PREDIAL E ADMINISTRADORA  HOTEIS PLAZA S/A-SAN...</td>\n",
       "      <td>5.703680e+05</td>\n",
       "    </tr>\n",
       "  </tbody>\n",
       "</table>\n",
       "</div>"
      ],
      "text/plain": [
       "    index   PRES                                    NOME FORNECEDOR  \\\n",
       "5    2992  DILMA                 GOLDEN TOWER HOTEIS E TURISMO LTDA   \n",
       "6    2157  DILMA              BOURBON IBIRAPUERA HOTEL & CONVENTION   \n",
       "7    3632  DILMA                           MERCADINHO LA PALMA LTDA   \n",
       "22   4559  DILMA                             TOLEDO JR LANCHES LTDA   \n",
       "23   3959  DILMA                        PESTANA RIO ATLANTICA HOTEL   \n",
       "26   2121  DILMA  BLUE TREE HOTELS & RESORTS DO BRASIL S/A-MILLE...   \n",
       "33   2438  DILMA               COMPANHIA BRASILEIRA DE DISTRIBUIÇO   \n",
       "34   2290  DILMA                               CATUSSABA HOTEL LTDA   \n",
       "40   4717  DILMA                           WINDSOR BARRA HOTEL LTDA   \n",
       "41   2291  DILMA                        CATUSSABA RESORT HOTEL LTDA   \n",
       "43   2119  DILMA                                    BLUE TREE HOTEL   \n",
       "44   3942  DILMA    PEIXARIA GOLFINHO - EPP (PEIXARIA DA DONA NEGA)   \n",
       "46   4652  DILMA                  VIANDE BOUTIQUE DE CARNES LTDA ME   \n",
       "48   3099  DILMA      HOTEL DELLA VOLPE LTDA - GOLDEN TULIP REGENTE   \n",
       "50   3172  DILMA                                   HOTIS OTHON S/A   \n",
       "53   3396  DILMA                   LANCHONETE TONY E THAIS LTDA. ME   \n",
       "55   2881  DILMA                            FIESTA BAHIA HOTEL LTDA   \n",
       "58   4163  DILMA               RENAISSANCE DO BRASIL HOTELARIA LTDA   \n",
       "59   4400  DILMA                        SHELTAIR AVIATION JFK, LLC.   \n",
       "61   4063  DILMA  PREDIAL E ADMINISTRADORA  HOTEIS PLAZA S/A-SAN...   \n",
       "\n",
       "    VALOR_CORRIGIDO  \n",
       "5      2.366492e+06  \n",
       "6      2.334435e+06  \n",
       "7      2.318398e+06  \n",
       "22     1.253938e+06  \n",
       "23     1.208080e+06  \n",
       "26     1.083513e+06  \n",
       "33     8.426229e+05  \n",
       "34     8.318674e+05  \n",
       "40     7.192165e+05  \n",
       "41     7.093739e+05  \n",
       "43     7.044211e+05  \n",
       "44     6.841038e+05  \n",
       "46     6.678290e+05  \n",
       "48     6.640166e+05  \n",
       "50     6.533407e+05  \n",
       "53     6.427811e+05  \n",
       "55     6.357421e+05  \n",
       "58     5.838365e+05  \n",
       "59     5.823319e+05  \n",
       "61     5.703680e+05  "
      ]
     },
     "metadata": {},
     "output_type": "display_data"
    }
   ],
   "source": [
    "empresas_beneficiadas_dilma =  empresas_beneficiadas[empresas_beneficiadas['PRES'] == 'DILMA']\n",
    "empresas_beneficiadas_dilma.head(20)"
   ]
  },
  {
   "cell_type": "markdown",
   "metadata": {},
   "source": [
    "### Governo Temer"
   ]
  },
  {
   "cell_type": "code",
   "execution_count": null,
   "metadata": {},
   "outputs": [
    {
     "data": {
      "text/html": [
       "<div>\n",
       "<style scoped>\n",
       "    .dataframe tbody tr th:only-of-type {\n",
       "        vertical-align: middle;\n",
       "    }\n",
       "\n",
       "    .dataframe tbody tr th {\n",
       "        vertical-align: top;\n",
       "    }\n",
       "\n",
       "    .dataframe thead th {\n",
       "        text-align: right;\n",
       "    }\n",
       "</style>\n",
       "<table border=\"1\" class=\"dataframe\">\n",
       "  <thead>\n",
       "    <tr style=\"text-align: right;\">\n",
       "      <th></th>\n",
       "      <th>index</th>\n",
       "      <th>PRES</th>\n",
       "      <th>NOME FORNECEDOR</th>\n",
       "      <th>VALOR_CORRIGIDO</th>\n",
       "    </tr>\n",
       "  </thead>\n",
       "  <tbody>\n",
       "    <tr>\n",
       "      <th>70</th>\n",
       "      <td>9767</td>\n",
       "      <td>TEMER</td>\n",
       "      <td>MERCADINHO LA PALMA LTDA</td>\n",
       "      <td>525230.199860</td>\n",
       "    </tr>\n",
       "    <tr>\n",
       "      <th>73</th>\n",
       "      <td>9383</td>\n",
       "      <td>TEMER</td>\n",
       "      <td>BLUE TREE FARIA LIMA</td>\n",
       "      <td>511076.207493</td>\n",
       "    </tr>\n",
       "    <tr>\n",
       "      <th>74</th>\n",
       "      <td>9648</td>\n",
       "      <td>TEMER</td>\n",
       "      <td>INTERNATIONAL MEAL COMPANY ALIMENT</td>\n",
       "      <td>506633.776283</td>\n",
       "    </tr>\n",
       "    <tr>\n",
       "      <th>82</th>\n",
       "      <td>9477</td>\n",
       "      <td>TEMER</td>\n",
       "      <td>COMPANHIA BRASILEIRA DE DISTRIBUIÇO</td>\n",
       "      <td>469012.186558</td>\n",
       "    </tr>\n",
       "    <tr>\n",
       "      <th>83</th>\n",
       "      <td>9697</td>\n",
       "      <td>TEMER</td>\n",
       "      <td>LANCHONETE TONY E THAIS LTDA. ME</td>\n",
       "      <td>468218.025396</td>\n",
       "    </tr>\n",
       "    <tr>\n",
       "      <th>85</th>\n",
       "      <td>9371</td>\n",
       "      <td>TEMER</td>\n",
       "      <td>BIG TRANS COMERCIAL DE ALIMENTOS LTDA</td>\n",
       "      <td>454845.924038</td>\n",
       "    </tr>\n",
       "    <tr>\n",
       "      <th>97</th>\n",
       "      <td>9914</td>\n",
       "      <td>TEMER</td>\n",
       "      <td>RA CATERING LTDA - THE COLLECTION-CUMBICA SP</td>\n",
       "      <td>386088.067689</td>\n",
       "    </tr>\n",
       "    <tr>\n",
       "      <th>105</th>\n",
       "      <td>9583</td>\n",
       "      <td>TEMER</td>\n",
       "      <td>GOLDEN TOWER HOTEIS E TURISMO LTDA</td>\n",
       "      <td>358999.657301</td>\n",
       "    </tr>\n",
       "    <tr>\n",
       "      <th>122</th>\n",
       "      <td>9900</td>\n",
       "      <td>TEMER</td>\n",
       "      <td>PRIVATPORT SA</td>\n",
       "      <td>324046.329963</td>\n",
       "    </tr>\n",
       "    <tr>\n",
       "      <th>156</th>\n",
       "      <td>10016</td>\n",
       "      <td>TEMER</td>\n",
       "      <td>SUPERMERCADO VAREJAO OBA LTDA</td>\n",
       "      <td>246344.652577</td>\n",
       "    </tr>\n",
       "    <tr>\n",
       "      <th>183</th>\n",
       "      <td>10038</td>\n",
       "      <td>TEMER</td>\n",
       "      <td>TIMES SQUARE HOT. ACCOR BRASIL S.A</td>\n",
       "      <td>205973.231522</td>\n",
       "    </tr>\n",
       "    <tr>\n",
       "      <th>189</th>\n",
       "      <td>9390</td>\n",
       "      <td>TEMER</td>\n",
       "      <td>BOURBON IBIRAPUERA HOTEL &amp; CONVENTION</td>\n",
       "      <td>195173.962490</td>\n",
       "    </tr>\n",
       "    <tr>\n",
       "      <th>192</th>\n",
       "      <td>9478</td>\n",
       "      <td>TEMER</td>\n",
       "      <td>COMPANHIA BRASILEIRA DE DISTRIBUIÇO PÇO DE A...</td>\n",
       "      <td>187251.698970</td>\n",
       "    </tr>\n",
       "    <tr>\n",
       "      <th>197</th>\n",
       "      <td>9486</td>\n",
       "      <td>TEMER</td>\n",
       "      <td>CONFEITARIA SANTO AMARO LTDA</td>\n",
       "      <td>178827.492342</td>\n",
       "    </tr>\n",
       "    <tr>\n",
       "      <th>222</th>\n",
       "      <td>10009</td>\n",
       "      <td>TEMER</td>\n",
       "      <td>SUNDT AIR EXECUTIVE HANDLING</td>\n",
       "      <td>155041.231019</td>\n",
       "    </tr>\n",
       "    <tr>\n",
       "      <th>233</th>\n",
       "      <td>9494</td>\n",
       "      <td>TEMER</td>\n",
       "      <td>CZECH AIRLINES HANDLING</td>\n",
       "      <td>146209.313019</td>\n",
       "    </tr>\n",
       "    <tr>\n",
       "      <th>237</th>\n",
       "      <td>9858</td>\n",
       "      <td>TEMER</td>\n",
       "      <td>PEIXARIA GUARA LTDA</td>\n",
       "      <td>142902.395502</td>\n",
       "    </tr>\n",
       "    <tr>\n",
       "      <th>248</th>\n",
       "      <td>9456</td>\n",
       "      <td>TEMER</td>\n",
       "      <td>CIA TRANSAMRICA DE HOTIS - SÇO PAULO</td>\n",
       "      <td>133674.329676</td>\n",
       "    </tr>\n",
       "    <tr>\n",
       "      <th>268</th>\n",
       "      <td>9794</td>\n",
       "      <td>TEMER</td>\n",
       "      <td>NOBILE GESTÇO DE EMPREENDIMENTOS LTDA</td>\n",
       "      <td>122475.281823</td>\n",
       "    </tr>\n",
       "    <tr>\n",
       "      <th>359</th>\n",
       "      <td>9965</td>\n",
       "      <td>TEMER</td>\n",
       "      <td>SA ATACADISTA DE ALIMENTOS LTDA</td>\n",
       "      <td>89521.624054</td>\n",
       "    </tr>\n",
       "  </tbody>\n",
       "</table>\n",
       "</div>"
      ],
      "text/plain": [
       "     index   PRES                                    NOME FORNECEDOR  \\\n",
       "70    9767  TEMER                           MERCADINHO LA PALMA LTDA   \n",
       "73    9383  TEMER                               BLUE TREE FARIA LIMA   \n",
       "74    9648  TEMER                 INTERNATIONAL MEAL COMPANY ALIMENT   \n",
       "82    9477  TEMER               COMPANHIA BRASILEIRA DE DISTRIBUIÇO   \n",
       "83    9697  TEMER                   LANCHONETE TONY E THAIS LTDA. ME   \n",
       "85    9371  TEMER              BIG TRANS COMERCIAL DE ALIMENTOS LTDA   \n",
       "97    9914  TEMER       RA CATERING LTDA - THE COLLECTION-CUMBICA SP   \n",
       "105   9583  TEMER                 GOLDEN TOWER HOTEIS E TURISMO LTDA   \n",
       "122   9900  TEMER                                      PRIVATPORT SA   \n",
       "156  10016  TEMER                      SUPERMERCADO VAREJAO OBA LTDA   \n",
       "183  10038  TEMER                 TIMES SQUARE HOT. ACCOR BRASIL S.A   \n",
       "189   9390  TEMER              BOURBON IBIRAPUERA HOTEL & CONVENTION   \n",
       "192   9478  TEMER  COMPANHIA BRASILEIRA DE DISTRIBUIÇO PÇO DE A...   \n",
       "197   9486  TEMER                       CONFEITARIA SANTO AMARO LTDA   \n",
       "222  10009  TEMER                       SUNDT AIR EXECUTIVE HANDLING   \n",
       "233   9494  TEMER                            CZECH AIRLINES HANDLING   \n",
       "237   9858  TEMER                                PEIXARIA GUARA LTDA   \n",
       "248   9456  TEMER             CIA TRANSAMRICA DE HOTIS - SÇO PAULO   \n",
       "268   9794  TEMER              NOBILE GESTÇO DE EMPREENDIMENTOS LTDA   \n",
       "359   9965  TEMER                    SA ATACADISTA DE ALIMENTOS LTDA   \n",
       "\n",
       "     VALOR_CORRIGIDO  \n",
       "70     525230.199860  \n",
       "73     511076.207493  \n",
       "74     506633.776283  \n",
       "82     469012.186558  \n",
       "83     468218.025396  \n",
       "85     454845.924038  \n",
       "97     386088.067689  \n",
       "105    358999.657301  \n",
       "122    324046.329963  \n",
       "156    246344.652577  \n",
       "183    205973.231522  \n",
       "189    195173.962490  \n",
       "192    187251.698970  \n",
       "197    178827.492342  \n",
       "222    155041.231019  \n",
       "233    146209.313019  \n",
       "237    142902.395502  \n",
       "248    133674.329676  \n",
       "268    122475.281823  \n",
       "359     89521.624054  "
      ]
     },
     "metadata": {},
     "output_type": "display_data"
    }
   ],
   "source": [
    "empresas_beneficiadas_temer =  empresas_beneficiadas[empresas_beneficiadas['PRES'] == 'TEMER']\n",
    "empresas_beneficiadas_temer.head(20)"
   ]
  },
  {
   "cell_type": "markdown",
   "metadata": {},
   "source": [
    "### Governo Bolsonaro"
   ]
  },
  {
   "cell_type": "code",
   "execution_count": null,
   "metadata": {},
   "outputs": [
    {
     "data": {
      "text/html": [
       "<div>\n",
       "<style scoped>\n",
       "    .dataframe tbody tr th:only-of-type {\n",
       "        vertical-align: middle;\n",
       "    }\n",
       "\n",
       "    .dataframe tbody tr th {\n",
       "        vertical-align: top;\n",
       "    }\n",
       "\n",
       "    .dataframe thead th {\n",
       "        text-align: right;\n",
       "    }\n",
       "</style>\n",
       "<table border=\"1\" class=\"dataframe\">\n",
       "  <thead>\n",
       "    <tr style=\"text-align: right;\">\n",
       "      <th></th>\n",
       "      <th>index</th>\n",
       "      <th>PRES</th>\n",
       "      <th>NOME FORNECEDOR</th>\n",
       "      <th>VALOR_CORRIGIDO</th>\n",
       "    </tr>\n",
       "  </thead>\n",
       "  <tbody>\n",
       "    <tr>\n",
       "      <th>14</th>\n",
       "      <td>800</td>\n",
       "      <td>BOLSONARO</td>\n",
       "      <td>HOTUR S PAULO PART E EMPR LTDA</td>\n",
       "      <td>1.657281e+06</td>\n",
       "    </tr>\n",
       "    <tr>\n",
       "      <th>19</th>\n",
       "      <td>383</td>\n",
       "      <td>BOLSONARO</td>\n",
       "      <td>COMPANHIA BRASILEIRA DE DISTRIBUIÇO</td>\n",
       "      <td>1.319486e+06</td>\n",
       "    </tr>\n",
       "    <tr>\n",
       "      <th>29</th>\n",
       "      <td>203</td>\n",
       "      <td>BOLSONARO</td>\n",
       "      <td>BIG TRANS COMERCIAL DE ALIMENTOS LTDA</td>\n",
       "      <td>9.590983e+05</td>\n",
       "    </tr>\n",
       "    <tr>\n",
       "      <th>36</th>\n",
       "      <td>1113</td>\n",
       "      <td>BOLSONARO</td>\n",
       "      <td>MERCADINHO LA PALMA LTDA</td>\n",
       "      <td>7.675014e+05</td>\n",
       "    </tr>\n",
       "    <tr>\n",
       "      <th>38</th>\n",
       "      <td>960</td>\n",
       "      <td>BOLSONARO</td>\n",
       "      <td>LANCHONETE TONY E THAIS LTDA. ME</td>\n",
       "      <td>7.350531e+05</td>\n",
       "    </tr>\n",
       "    <tr>\n",
       "      <th>47</th>\n",
       "      <td>215</td>\n",
       "      <td>BOLSONARO</td>\n",
       "      <td>BLUE TREE FARIA LIMA</td>\n",
       "      <td>6.650655e+05</td>\n",
       "    </tr>\n",
       "    <tr>\n",
       "      <th>90</th>\n",
       "      <td>1221</td>\n",
       "      <td>BOLSONARO</td>\n",
       "      <td>PADARIA E CONF. BARÇO DO IPANEM LTDA</td>\n",
       "      <td>4.334602e+05</td>\n",
       "    </tr>\n",
       "    <tr>\n",
       "      <th>95</th>\n",
       "      <td>1119</td>\n",
       "      <td>BOLSONARO</td>\n",
       "      <td>MERCADÇO ATACADISTA COMERCIAL DE ALIMENTOS LTD...</td>\n",
       "      <td>3.923546e+05</td>\n",
       "    </tr>\n",
       "    <tr>\n",
       "      <th>100</th>\n",
       "      <td>889</td>\n",
       "      <td>BOLSONARO</td>\n",
       "      <td>JM GERENCIADORA DE HOTELARIA GUARATUBA LTDA</td>\n",
       "      <td>3.773629e+05</td>\n",
       "    </tr>\n",
       "    <tr>\n",
       "      <th>102</th>\n",
       "      <td>1278</td>\n",
       "      <td>BOLSONARO</td>\n",
       "      <td>PEIXARIA GUARA LTDA</td>\n",
       "      <td>3.726352e+05</td>\n",
       "    </tr>\n",
       "    <tr>\n",
       "      <th>108</th>\n",
       "      <td>1664</td>\n",
       "      <td>BOLSONARO</td>\n",
       "      <td>TIMES SQUARE HOT. ACCOR BRASIL S.A</td>\n",
       "      <td>3.479705e+05</td>\n",
       "    </tr>\n",
       "    <tr>\n",
       "      <th>109</th>\n",
       "      <td>774</td>\n",
       "      <td>BOLSONARO</td>\n",
       "      <td>HOTEL PRAIA DO TOMBO LTDA - EPP</td>\n",
       "      <td>3.439714e+05</td>\n",
       "    </tr>\n",
       "    <tr>\n",
       "      <th>112</th>\n",
       "      <td>627</td>\n",
       "      <td>BOLSONARO</td>\n",
       "      <td>GAMA EMPRENDIMENTOS HOTELEIROS LTDA</td>\n",
       "      <td>3.403922e+05</td>\n",
       "    </tr>\n",
       "    <tr>\n",
       "      <th>127</th>\n",
       "      <td>704</td>\n",
       "      <td>BOLSONARO</td>\n",
       "      <td>HILTON DO BRASIL LTDA</td>\n",
       "      <td>3.074379e+05</td>\n",
       "    </tr>\n",
       "    <tr>\n",
       "      <th>142</th>\n",
       "      <td>816</td>\n",
       "      <td>BOLSONARO</td>\n",
       "      <td>IHC SÇO PAULO HOTELARIA LTDA</td>\n",
       "      <td>2.804637e+05</td>\n",
       "    </tr>\n",
       "    <tr>\n",
       "      <th>152</th>\n",
       "      <td>983</td>\n",
       "      <td>BOLSONARO</td>\n",
       "      <td>LH BARRA RIO ADMINISTRAÇO HOTIS SPE LTDA</td>\n",
       "      <td>2.557022e+05</td>\n",
       "    </tr>\n",
       "    <tr>\n",
       "      <th>159</th>\n",
       "      <td>1402</td>\n",
       "      <td>BOLSONARO</td>\n",
       "      <td>RA CATERING LTDA - THE COLLECTION-CUMBICA SP</td>\n",
       "      <td>2.367265e+05</td>\n",
       "    </tr>\n",
       "    <tr>\n",
       "      <th>166</th>\n",
       "      <td>937</td>\n",
       "      <td>BOLSONARO</td>\n",
       "      <td>KOCH HIPERCADO S/A</td>\n",
       "      <td>2.260088e+05</td>\n",
       "    </tr>\n",
       "    <tr>\n",
       "      <th>169</th>\n",
       "      <td>672</td>\n",
       "      <td>BOLSONARO</td>\n",
       "      <td>GRUPO FARTURA DE HORTIFRUTI S.A</td>\n",
       "      <td>2.246252e+05</td>\n",
       "    </tr>\n",
       "    <tr>\n",
       "      <th>174</th>\n",
       "      <td>1644</td>\n",
       "      <td>BOLSONARO</td>\n",
       "      <td>TANSER COMERCIO DE COMBUSTIVEIS LTDA</td>\n",
       "      <td>2.179044e+05</td>\n",
       "    </tr>\n",
       "  </tbody>\n",
       "</table>\n",
       "</div>"
      ],
      "text/plain": [
       "     index       PRES                                    NOME FORNECEDOR  \\\n",
       "14     800  BOLSONARO                     HOTUR S PAULO PART E EMPR LTDA   \n",
       "19     383  BOLSONARO               COMPANHIA BRASILEIRA DE DISTRIBUIÇO   \n",
       "29     203  BOLSONARO              BIG TRANS COMERCIAL DE ALIMENTOS LTDA   \n",
       "36    1113  BOLSONARO                           MERCADINHO LA PALMA LTDA   \n",
       "38     960  BOLSONARO                   LANCHONETE TONY E THAIS LTDA. ME   \n",
       "47     215  BOLSONARO                               BLUE TREE FARIA LIMA   \n",
       "90    1221  BOLSONARO               PADARIA E CONF. BARÇO DO IPANEM LTDA   \n",
       "95    1119  BOLSONARO  MERCADÇO ATACADISTA COMERCIAL DE ALIMENTOS LTD...   \n",
       "100    889  BOLSONARO        JM GERENCIADORA DE HOTELARIA GUARATUBA LTDA   \n",
       "102   1278  BOLSONARO                                PEIXARIA GUARA LTDA   \n",
       "108   1664  BOLSONARO                 TIMES SQUARE HOT. ACCOR BRASIL S.A   \n",
       "109    774  BOLSONARO                    HOTEL PRAIA DO TOMBO LTDA - EPP   \n",
       "112    627  BOLSONARO                GAMA EMPRENDIMENTOS HOTELEIROS LTDA   \n",
       "127    704  BOLSONARO                              HILTON DO BRASIL LTDA   \n",
       "142    816  BOLSONARO                       IHC SÇO PAULO HOTELARIA LTDA   \n",
       "152    983  BOLSONARO         LH BARRA RIO ADMINISTRAÇO HOTIS SPE LTDA   \n",
       "159   1402  BOLSONARO       RA CATERING LTDA - THE COLLECTION-CUMBICA SP   \n",
       "166    937  BOLSONARO                                 KOCH HIPERCADO S/A   \n",
       "169    672  BOLSONARO                    GRUPO FARTURA DE HORTIFRUTI S.A   \n",
       "174   1644  BOLSONARO               TANSER COMERCIO DE COMBUSTIVEIS LTDA   \n",
       "\n",
       "     VALOR_CORRIGIDO  \n",
       "14      1.657281e+06  \n",
       "19      1.319486e+06  \n",
       "29      9.590983e+05  \n",
       "36      7.675014e+05  \n",
       "38      7.350531e+05  \n",
       "47      6.650655e+05  \n",
       "90      4.334602e+05  \n",
       "95      3.923546e+05  \n",
       "100     3.773629e+05  \n",
       "102     3.726352e+05  \n",
       "108     3.479705e+05  \n",
       "109     3.439714e+05  \n",
       "112     3.403922e+05  \n",
       "127     3.074379e+05  \n",
       "142     2.804637e+05  \n",
       "152     2.557022e+05  \n",
       "159     2.367265e+05  \n",
       "166     2.260088e+05  \n",
       "169     2.246252e+05  \n",
       "174     2.179044e+05  "
      ]
     },
     "metadata": {},
     "output_type": "display_data"
    }
   ],
   "source": [
    "empresas_beneficiadas_bolsonaro =  empresas_beneficiadas[empresas_beneficiadas['PRES'] == 'BOLSONARO']\n",
    "empresas_beneficiadas_bolsonaro.head(20)"
   ]
  },
  {
   "cell_type": "markdown",
   "metadata": {},
   "source": [
    "### Exemplos de Empresas ciatadas em reportagens nos últimos dias"
   ]
  },
  {
   "cell_type": "code",
   "execution_count": null,
   "metadata": {},
   "outputs": [
    {
     "data": {
      "text/html": [
       "<div>\n",
       "<style scoped>\n",
       "    .dataframe tbody tr th:only-of-type {\n",
       "        vertical-align: middle;\n",
       "    }\n",
       "\n",
       "    .dataframe tbody tr th {\n",
       "        vertical-align: top;\n",
       "    }\n",
       "\n",
       "    .dataframe thead th {\n",
       "        text-align: right;\n",
       "    }\n",
       "</style>\n",
       "<table border=\"1\" class=\"dataframe\">\n",
       "  <thead>\n",
       "    <tr style=\"text-align: right;\">\n",
       "      <th></th>\n",
       "      <th>index</th>\n",
       "      <th>PRES</th>\n",
       "      <th>NOME FORNECEDOR</th>\n",
       "      <th>VALOR_CORRIGIDO</th>\n",
       "    </tr>\n",
       "  </thead>\n",
       "  <tbody>\n",
       "    <tr>\n",
       "      <th>38</th>\n",
       "      <td>960</td>\n",
       "      <td>BOLSONARO</td>\n",
       "      <td>LANCHONETE TONY E THAIS LTDA. ME</td>\n",
       "      <td>735053.146243</td>\n",
       "    </tr>\n",
       "    <tr>\n",
       "      <th>53</th>\n",
       "      <td>3396</td>\n",
       "      <td>DILMA</td>\n",
       "      <td>LANCHONETE TONY E THAIS LTDA. ME</td>\n",
       "      <td>642781.074307</td>\n",
       "    </tr>\n",
       "    <tr>\n",
       "      <th>83</th>\n",
       "      <td>9697</td>\n",
       "      <td>TEMER</td>\n",
       "      <td>LANCHONETE TONY E THAIS LTDA. ME</td>\n",
       "      <td>468218.025396</td>\n",
       "    </tr>\n",
       "    <tr>\n",
       "      <th>173</th>\n",
       "      <td>7260</td>\n",
       "      <td>LULA</td>\n",
       "      <td>LANCHONETE TONY E THAIS LTDA. ME</td>\n",
       "      <td>218294.903699</td>\n",
       "    </tr>\n",
       "  </tbody>\n",
       "</table>\n",
       "</div>"
      ],
      "text/plain": [
       "     index       PRES                   NOME FORNECEDOR  VALOR_CORRIGIDO\n",
       "38     960  BOLSONARO  LANCHONETE TONY E THAIS LTDA. ME    735053.146243\n",
       "53    3396      DILMA  LANCHONETE TONY E THAIS LTDA. ME    642781.074307\n",
       "83    9697      TEMER  LANCHONETE TONY E THAIS LTDA. ME    468218.025396\n",
       "173   7260       LULA  LANCHONETE TONY E THAIS LTDA. ME    218294.903699"
      ]
     },
     "metadata": {},
     "output_type": "display_data"
    }
   ],
   "source": [
    "tony = empresas_beneficiadas[empresas_beneficiadas[\"NOME FORNECEDOR\"] == 'LANCHONETE TONY E THAIS LTDA. ME']\n",
    "tony"
   ]
  },
  {
   "cell_type": "code",
   "execution_count": null,
   "metadata": {},
   "outputs": [
    {
     "data": {
      "application/vnd.plotly.v1+json": {
       "config": {
        "plotlyServerURL": "https://plot.ly"
       },
       "data": [
        {
         "alignmentgroup": "True",
         "hovertemplate": "Presidente=%{x}<br>Valor em Reais   *corrigidos pelo IPCA=%{y}<extra></extra>",
         "legendgroup": "BOLSONARO",
         "marker": {
          "color": "#636efa",
          "pattern": {
           "shape": ""
          }
         },
         "name": "BOLSONARO",
         "offsetgroup": "BOLSONARO",
         "orientation": "v",
         "showlegend": true,
         "textposition": "auto",
         "type": "bar",
         "x": [
          "BOLSONARO"
         ],
         "xaxis": "x",
         "y": [
          735053.14624278
         ],
         "yaxis": "y"
        },
        {
         "alignmentgroup": "True",
         "hovertemplate": "Presidente=%{x}<br>Valor em Reais   *corrigidos pelo IPCA=%{y}<extra></extra>",
         "legendgroup": "DILMA",
         "marker": {
          "color": "#EF553B",
          "pattern": {
           "shape": ""
          }
         },
         "name": "DILMA",
         "offsetgroup": "DILMA",
         "orientation": "v",
         "showlegend": true,
         "textposition": "auto",
         "type": "bar",
         "x": [
          "DILMA"
         ],
         "xaxis": "x",
         "y": [
          642781.0743070241
         ],
         "yaxis": "y"
        },
        {
         "alignmentgroup": "True",
         "hovertemplate": "Presidente=%{x}<br>Valor em Reais   *corrigidos pelo IPCA=%{y}<extra></extra>",
         "legendgroup": "TEMER",
         "marker": {
          "color": "#00cc96",
          "pattern": {
           "shape": ""
          }
         },
         "name": "TEMER",
         "offsetgroup": "TEMER",
         "orientation": "v",
         "showlegend": true,
         "textposition": "auto",
         "type": "bar",
         "x": [
          "TEMER"
         ],
         "xaxis": "x",
         "y": [
          468218.0253958941
         ],
         "yaxis": "y"
        },
        {
         "alignmentgroup": "True",
         "hovertemplate": "Presidente=%{x}<br>Valor em Reais   *corrigidos pelo IPCA=%{y}<extra></extra>",
         "legendgroup": "LULA",
         "marker": {
          "color": "#ab63fa",
          "pattern": {
           "shape": ""
          }
         },
         "name": "LULA",
         "offsetgroup": "LULA",
         "orientation": "v",
         "showlegend": true,
         "textposition": "auto",
         "type": "bar",
         "x": [
          "LULA"
         ],
         "xaxis": "x",
         "y": [
          218294.90369871896
         ],
         "yaxis": "y"
        }
       ],
       "layout": {
        "barmode": "relative",
        "legend": {
         "title": {
          "text": "Presidente"
         },
         "tracegroupgap": 0
        },
        "template": {
         "data": {
          "bar": [
           {
            "error_x": {
             "color": "#2a3f5f"
            },
            "error_y": {
             "color": "#2a3f5f"
            },
            "marker": {
             "line": {
              "color": "#E5ECF6",
              "width": 0.5
             },
             "pattern": {
              "fillmode": "overlay",
              "size": 10,
              "solidity": 0.2
             }
            },
            "type": "bar"
           }
          ],
          "barpolar": [
           {
            "marker": {
             "line": {
              "color": "#E5ECF6",
              "width": 0.5
             },
             "pattern": {
              "fillmode": "overlay",
              "size": 10,
              "solidity": 0.2
             }
            },
            "type": "barpolar"
           }
          ],
          "carpet": [
           {
            "aaxis": {
             "endlinecolor": "#2a3f5f",
             "gridcolor": "white",
             "linecolor": "white",
             "minorgridcolor": "white",
             "startlinecolor": "#2a3f5f"
            },
            "baxis": {
             "endlinecolor": "#2a3f5f",
             "gridcolor": "white",
             "linecolor": "white",
             "minorgridcolor": "white",
             "startlinecolor": "#2a3f5f"
            },
            "type": "carpet"
           }
          ],
          "choropleth": [
           {
            "colorbar": {
             "outlinewidth": 0,
             "ticks": ""
            },
            "type": "choropleth"
           }
          ],
          "contour": [
           {
            "colorbar": {
             "outlinewidth": 0,
             "ticks": ""
            },
            "colorscale": [
             [
              0,
              "#0d0887"
             ],
             [
              0.1111111111111111,
              "#46039f"
             ],
             [
              0.2222222222222222,
              "#7201a8"
             ],
             [
              0.3333333333333333,
              "#9c179e"
             ],
             [
              0.4444444444444444,
              "#bd3786"
             ],
             [
              0.5555555555555556,
              "#d8576b"
             ],
             [
              0.6666666666666666,
              "#ed7953"
             ],
             [
              0.7777777777777778,
              "#fb9f3a"
             ],
             [
              0.8888888888888888,
              "#fdca26"
             ],
             [
              1,
              "#f0f921"
             ]
            ],
            "type": "contour"
           }
          ],
          "contourcarpet": [
           {
            "colorbar": {
             "outlinewidth": 0,
             "ticks": ""
            },
            "type": "contourcarpet"
           }
          ],
          "heatmap": [
           {
            "colorbar": {
             "outlinewidth": 0,
             "ticks": ""
            },
            "colorscale": [
             [
              0,
              "#0d0887"
             ],
             [
              0.1111111111111111,
              "#46039f"
             ],
             [
              0.2222222222222222,
              "#7201a8"
             ],
             [
              0.3333333333333333,
              "#9c179e"
             ],
             [
              0.4444444444444444,
              "#bd3786"
             ],
             [
              0.5555555555555556,
              "#d8576b"
             ],
             [
              0.6666666666666666,
              "#ed7953"
             ],
             [
              0.7777777777777778,
              "#fb9f3a"
             ],
             [
              0.8888888888888888,
              "#fdca26"
             ],
             [
              1,
              "#f0f921"
             ]
            ],
            "type": "heatmap"
           }
          ],
          "heatmapgl": [
           {
            "colorbar": {
             "outlinewidth": 0,
             "ticks": ""
            },
            "colorscale": [
             [
              0,
              "#0d0887"
             ],
             [
              0.1111111111111111,
              "#46039f"
             ],
             [
              0.2222222222222222,
              "#7201a8"
             ],
             [
              0.3333333333333333,
              "#9c179e"
             ],
             [
              0.4444444444444444,
              "#bd3786"
             ],
             [
              0.5555555555555556,
              "#d8576b"
             ],
             [
              0.6666666666666666,
              "#ed7953"
             ],
             [
              0.7777777777777778,
              "#fb9f3a"
             ],
             [
              0.8888888888888888,
              "#fdca26"
             ],
             [
              1,
              "#f0f921"
             ]
            ],
            "type": "heatmapgl"
           }
          ],
          "histogram": [
           {
            "marker": {
             "pattern": {
              "fillmode": "overlay",
              "size": 10,
              "solidity": 0.2
             }
            },
            "type": "histogram"
           }
          ],
          "histogram2d": [
           {
            "colorbar": {
             "outlinewidth": 0,
             "ticks": ""
            },
            "colorscale": [
             [
              0,
              "#0d0887"
             ],
             [
              0.1111111111111111,
              "#46039f"
             ],
             [
              0.2222222222222222,
              "#7201a8"
             ],
             [
              0.3333333333333333,
              "#9c179e"
             ],
             [
              0.4444444444444444,
              "#bd3786"
             ],
             [
              0.5555555555555556,
              "#d8576b"
             ],
             [
              0.6666666666666666,
              "#ed7953"
             ],
             [
              0.7777777777777778,
              "#fb9f3a"
             ],
             [
              0.8888888888888888,
              "#fdca26"
             ],
             [
              1,
              "#f0f921"
             ]
            ],
            "type": "histogram2d"
           }
          ],
          "histogram2dcontour": [
           {
            "colorbar": {
             "outlinewidth": 0,
             "ticks": ""
            },
            "colorscale": [
             [
              0,
              "#0d0887"
             ],
             [
              0.1111111111111111,
              "#46039f"
             ],
             [
              0.2222222222222222,
              "#7201a8"
             ],
             [
              0.3333333333333333,
              "#9c179e"
             ],
             [
              0.4444444444444444,
              "#bd3786"
             ],
             [
              0.5555555555555556,
              "#d8576b"
             ],
             [
              0.6666666666666666,
              "#ed7953"
             ],
             [
              0.7777777777777778,
              "#fb9f3a"
             ],
             [
              0.8888888888888888,
              "#fdca26"
             ],
             [
              1,
              "#f0f921"
             ]
            ],
            "type": "histogram2dcontour"
           }
          ],
          "mesh3d": [
           {
            "colorbar": {
             "outlinewidth": 0,
             "ticks": ""
            },
            "type": "mesh3d"
           }
          ],
          "parcoords": [
           {
            "line": {
             "colorbar": {
              "outlinewidth": 0,
              "ticks": ""
             }
            },
            "type": "parcoords"
           }
          ],
          "pie": [
           {
            "automargin": true,
            "type": "pie"
           }
          ],
          "scatter": [
           {
            "fillpattern": {
             "fillmode": "overlay",
             "size": 10,
             "solidity": 0.2
            },
            "type": "scatter"
           }
          ],
          "scatter3d": [
           {
            "line": {
             "colorbar": {
              "outlinewidth": 0,
              "ticks": ""
             }
            },
            "marker": {
             "colorbar": {
              "outlinewidth": 0,
              "ticks": ""
             }
            },
            "type": "scatter3d"
           }
          ],
          "scattercarpet": [
           {
            "marker": {
             "colorbar": {
              "outlinewidth": 0,
              "ticks": ""
             }
            },
            "type": "scattercarpet"
           }
          ],
          "scattergeo": [
           {
            "marker": {
             "colorbar": {
              "outlinewidth": 0,
              "ticks": ""
             }
            },
            "type": "scattergeo"
           }
          ],
          "scattergl": [
           {
            "marker": {
             "colorbar": {
              "outlinewidth": 0,
              "ticks": ""
             }
            },
            "type": "scattergl"
           }
          ],
          "scattermapbox": [
           {
            "marker": {
             "colorbar": {
              "outlinewidth": 0,
              "ticks": ""
             }
            },
            "type": "scattermapbox"
           }
          ],
          "scatterpolar": [
           {
            "marker": {
             "colorbar": {
              "outlinewidth": 0,
              "ticks": ""
             }
            },
            "type": "scatterpolar"
           }
          ],
          "scatterpolargl": [
           {
            "marker": {
             "colorbar": {
              "outlinewidth": 0,
              "ticks": ""
             }
            },
            "type": "scatterpolargl"
           }
          ],
          "scatterternary": [
           {
            "marker": {
             "colorbar": {
              "outlinewidth": 0,
              "ticks": ""
             }
            },
            "type": "scatterternary"
           }
          ],
          "surface": [
           {
            "colorbar": {
             "outlinewidth": 0,
             "ticks": ""
            },
            "colorscale": [
             [
              0,
              "#0d0887"
             ],
             [
              0.1111111111111111,
              "#46039f"
             ],
             [
              0.2222222222222222,
              "#7201a8"
             ],
             [
              0.3333333333333333,
              "#9c179e"
             ],
             [
              0.4444444444444444,
              "#bd3786"
             ],
             [
              0.5555555555555556,
              "#d8576b"
             ],
             [
              0.6666666666666666,
              "#ed7953"
             ],
             [
              0.7777777777777778,
              "#fb9f3a"
             ],
             [
              0.8888888888888888,
              "#fdca26"
             ],
             [
              1,
              "#f0f921"
             ]
            ],
            "type": "surface"
           }
          ],
          "table": [
           {
            "cells": {
             "fill": {
              "color": "#EBF0F8"
             },
             "line": {
              "color": "white"
             }
            },
            "header": {
             "fill": {
              "color": "#C8D4E3"
             },
             "line": {
              "color": "white"
             }
            },
            "type": "table"
           }
          ]
         },
         "layout": {
          "annotationdefaults": {
           "arrowcolor": "#2a3f5f",
           "arrowhead": 0,
           "arrowwidth": 1
          },
          "autotypenumbers": "strict",
          "coloraxis": {
           "colorbar": {
            "outlinewidth": 0,
            "ticks": ""
           }
          },
          "colorscale": {
           "diverging": [
            [
             0,
             "#8e0152"
            ],
            [
             0.1,
             "#c51b7d"
            ],
            [
             0.2,
             "#de77ae"
            ],
            [
             0.3,
             "#f1b6da"
            ],
            [
             0.4,
             "#fde0ef"
            ],
            [
             0.5,
             "#f7f7f7"
            ],
            [
             0.6,
             "#e6f5d0"
            ],
            [
             0.7,
             "#b8e186"
            ],
            [
             0.8,
             "#7fbc41"
            ],
            [
             0.9,
             "#4d9221"
            ],
            [
             1,
             "#276419"
            ]
           ],
           "sequential": [
            [
             0,
             "#0d0887"
            ],
            [
             0.1111111111111111,
             "#46039f"
            ],
            [
             0.2222222222222222,
             "#7201a8"
            ],
            [
             0.3333333333333333,
             "#9c179e"
            ],
            [
             0.4444444444444444,
             "#bd3786"
            ],
            [
             0.5555555555555556,
             "#d8576b"
            ],
            [
             0.6666666666666666,
             "#ed7953"
            ],
            [
             0.7777777777777778,
             "#fb9f3a"
            ],
            [
             0.8888888888888888,
             "#fdca26"
            ],
            [
             1,
             "#f0f921"
            ]
           ],
           "sequentialminus": [
            [
             0,
             "#0d0887"
            ],
            [
             0.1111111111111111,
             "#46039f"
            ],
            [
             0.2222222222222222,
             "#7201a8"
            ],
            [
             0.3333333333333333,
             "#9c179e"
            ],
            [
             0.4444444444444444,
             "#bd3786"
            ],
            [
             0.5555555555555556,
             "#d8576b"
            ],
            [
             0.6666666666666666,
             "#ed7953"
            ],
            [
             0.7777777777777778,
             "#fb9f3a"
            ],
            [
             0.8888888888888888,
             "#fdca26"
            ],
            [
             1,
             "#f0f921"
            ]
           ]
          },
          "colorway": [
           "#636efa",
           "#EF553B",
           "#00cc96",
           "#ab63fa",
           "#FFA15A",
           "#19d3f3",
           "#FF6692",
           "#B6E880",
           "#FF97FF",
           "#FECB52"
          ],
          "font": {
           "color": "#2a3f5f"
          },
          "geo": {
           "bgcolor": "white",
           "lakecolor": "white",
           "landcolor": "#E5ECF6",
           "showlakes": true,
           "showland": true,
           "subunitcolor": "white"
          },
          "hoverlabel": {
           "align": "left"
          },
          "hovermode": "closest",
          "mapbox": {
           "style": "light"
          },
          "paper_bgcolor": "white",
          "plot_bgcolor": "#E5ECF6",
          "polar": {
           "angularaxis": {
            "gridcolor": "white",
            "linecolor": "white",
            "ticks": ""
           },
           "bgcolor": "#E5ECF6",
           "radialaxis": {
            "gridcolor": "white",
            "linecolor": "white",
            "ticks": ""
           }
          },
          "scene": {
           "xaxis": {
            "backgroundcolor": "#E5ECF6",
            "gridcolor": "white",
            "gridwidth": 2,
            "linecolor": "white",
            "showbackground": true,
            "ticks": "",
            "zerolinecolor": "white"
           },
           "yaxis": {
            "backgroundcolor": "#E5ECF6",
            "gridcolor": "white",
            "gridwidth": 2,
            "linecolor": "white",
            "showbackground": true,
            "ticks": "",
            "zerolinecolor": "white"
           },
           "zaxis": {
            "backgroundcolor": "#E5ECF6",
            "gridcolor": "white",
            "gridwidth": 2,
            "linecolor": "white",
            "showbackground": true,
            "ticks": "",
            "zerolinecolor": "white"
           }
          },
          "shapedefaults": {
           "line": {
            "color": "#2a3f5f"
           }
          },
          "ternary": {
           "aaxis": {
            "gridcolor": "white",
            "linecolor": "white",
            "ticks": ""
           },
           "baxis": {
            "gridcolor": "white",
            "linecolor": "white",
            "ticks": ""
           },
           "bgcolor": "#E5ECF6",
           "caxis": {
            "gridcolor": "white",
            "linecolor": "white",
            "ticks": ""
           }
          },
          "title": {
           "x": 0.05
          },
          "xaxis": {
           "automargin": true,
           "gridcolor": "white",
           "linecolor": "white",
           "ticks": "",
           "title": {
            "standoff": 15
           },
           "zerolinecolor": "white",
           "zerolinewidth": 2
          },
          "yaxis": {
           "automargin": true,
           "gridcolor": "white",
           "linecolor": "white",
           "ticks": "",
           "title": {
            "standoff": 15
           },
           "zerolinecolor": "white",
           "zerolinewidth": 2
          }
         }
        },
        "title": {
         "text": "GASTOS COM LANCHONETE TONY E THAIS LTDA. ME"
        },
        "xaxis": {
         "anchor": "y",
         "categoryarray": [
          "BOLSONARO",
          "DILMA",
          "TEMER",
          "LULA"
         ],
         "categoryorder": "array",
         "domain": [
          0,
          1
         ],
         "title": {
          "text": "Presidente"
         }
        },
        "yaxis": {
         "anchor": "x",
         "domain": [
          0,
          1
         ],
         "title": {
          "text": "Valor em Reais   *corrigidos pelo IPCA"
         }
        }
       }
      },
      "text/html": [
       "<div>                            <div id=\"82f02e6c-f90c-4449-b01c-6e725db10824\" class=\"plotly-graph-div\" style=\"height:525px; width:100%;\"></div>            <script type=\"text/javascript\">                require([\"plotly\"], function(Plotly) {                    window.PLOTLYENV=window.PLOTLYENV || {};                                    if (document.getElementById(\"82f02e6c-f90c-4449-b01c-6e725db10824\")) {                    Plotly.newPlot(                        \"82f02e6c-f90c-4449-b01c-6e725db10824\",                        [{\"alignmentgroup\":\"True\",\"hovertemplate\":\"Presidente=%{x}<br>Valor em Reais   *corrigidos pelo IPCA=%{y}<extra></extra>\",\"legendgroup\":\"BOLSONARO\",\"marker\":{\"color\":\"#636efa\",\"pattern\":{\"shape\":\"\"}},\"name\":\"BOLSONARO\",\"offsetgroup\":\"BOLSONARO\",\"orientation\":\"v\",\"showlegend\":true,\"textposition\":\"auto\",\"x\":[\"BOLSONARO\"],\"xaxis\":\"x\",\"y\":[735053.14624278],\"yaxis\":\"y\",\"type\":\"bar\"},{\"alignmentgroup\":\"True\",\"hovertemplate\":\"Presidente=%{x}<br>Valor em Reais   *corrigidos pelo IPCA=%{y}<extra></extra>\",\"legendgroup\":\"DILMA\",\"marker\":{\"color\":\"#EF553B\",\"pattern\":{\"shape\":\"\"}},\"name\":\"DILMA\",\"offsetgroup\":\"DILMA\",\"orientation\":\"v\",\"showlegend\":true,\"textposition\":\"auto\",\"x\":[\"DILMA\"],\"xaxis\":\"x\",\"y\":[642781.0743070241],\"yaxis\":\"y\",\"type\":\"bar\"},{\"alignmentgroup\":\"True\",\"hovertemplate\":\"Presidente=%{x}<br>Valor em Reais   *corrigidos pelo IPCA=%{y}<extra></extra>\",\"legendgroup\":\"TEMER\",\"marker\":{\"color\":\"#00cc96\",\"pattern\":{\"shape\":\"\"}},\"name\":\"TEMER\",\"offsetgroup\":\"TEMER\",\"orientation\":\"v\",\"showlegend\":true,\"textposition\":\"auto\",\"x\":[\"TEMER\"],\"xaxis\":\"x\",\"y\":[468218.0253958941],\"yaxis\":\"y\",\"type\":\"bar\"},{\"alignmentgroup\":\"True\",\"hovertemplate\":\"Presidente=%{x}<br>Valor em Reais   *corrigidos pelo IPCA=%{y}<extra></extra>\",\"legendgroup\":\"LULA\",\"marker\":{\"color\":\"#ab63fa\",\"pattern\":{\"shape\":\"\"}},\"name\":\"LULA\",\"offsetgroup\":\"LULA\",\"orientation\":\"v\",\"showlegend\":true,\"textposition\":\"auto\",\"x\":[\"LULA\"],\"xaxis\":\"x\",\"y\":[218294.90369871896],\"yaxis\":\"y\",\"type\":\"bar\"}],                        {\"template\":{\"data\":{\"histogram2dcontour\":[{\"type\":\"histogram2dcontour\",\"colorbar\":{\"outlinewidth\":0,\"ticks\":\"\"},\"colorscale\":[[0.0,\"#0d0887\"],[0.1111111111111111,\"#46039f\"],[0.2222222222222222,\"#7201a8\"],[0.3333333333333333,\"#9c179e\"],[0.4444444444444444,\"#bd3786\"],[0.5555555555555556,\"#d8576b\"],[0.6666666666666666,\"#ed7953\"],[0.7777777777777778,\"#fb9f3a\"],[0.8888888888888888,\"#fdca26\"],[1.0,\"#f0f921\"]]}],\"choropleth\":[{\"type\":\"choropleth\",\"colorbar\":{\"outlinewidth\":0,\"ticks\":\"\"}}],\"histogram2d\":[{\"type\":\"histogram2d\",\"colorbar\":{\"outlinewidth\":0,\"ticks\":\"\"},\"colorscale\":[[0.0,\"#0d0887\"],[0.1111111111111111,\"#46039f\"],[0.2222222222222222,\"#7201a8\"],[0.3333333333333333,\"#9c179e\"],[0.4444444444444444,\"#bd3786\"],[0.5555555555555556,\"#d8576b\"],[0.6666666666666666,\"#ed7953\"],[0.7777777777777778,\"#fb9f3a\"],[0.8888888888888888,\"#fdca26\"],[1.0,\"#f0f921\"]]}],\"heatmap\":[{\"type\":\"heatmap\",\"colorbar\":{\"outlinewidth\":0,\"ticks\":\"\"},\"colorscale\":[[0.0,\"#0d0887\"],[0.1111111111111111,\"#46039f\"],[0.2222222222222222,\"#7201a8\"],[0.3333333333333333,\"#9c179e\"],[0.4444444444444444,\"#bd3786\"],[0.5555555555555556,\"#d8576b\"],[0.6666666666666666,\"#ed7953\"],[0.7777777777777778,\"#fb9f3a\"],[0.8888888888888888,\"#fdca26\"],[1.0,\"#f0f921\"]]}],\"heatmapgl\":[{\"type\":\"heatmapgl\",\"colorbar\":{\"outlinewidth\":0,\"ticks\":\"\"},\"colorscale\":[[0.0,\"#0d0887\"],[0.1111111111111111,\"#46039f\"],[0.2222222222222222,\"#7201a8\"],[0.3333333333333333,\"#9c179e\"],[0.4444444444444444,\"#bd3786\"],[0.5555555555555556,\"#d8576b\"],[0.6666666666666666,\"#ed7953\"],[0.7777777777777778,\"#fb9f3a\"],[0.8888888888888888,\"#fdca26\"],[1.0,\"#f0f921\"]]}],\"contourcarpet\":[{\"type\":\"contourcarpet\",\"colorbar\":{\"outlinewidth\":0,\"ticks\":\"\"}}],\"contour\":[{\"type\":\"contour\",\"colorbar\":{\"outlinewidth\":0,\"ticks\":\"\"},\"colorscale\":[[0.0,\"#0d0887\"],[0.1111111111111111,\"#46039f\"],[0.2222222222222222,\"#7201a8\"],[0.3333333333333333,\"#9c179e\"],[0.4444444444444444,\"#bd3786\"],[0.5555555555555556,\"#d8576b\"],[0.6666666666666666,\"#ed7953\"],[0.7777777777777778,\"#fb9f3a\"],[0.8888888888888888,\"#fdca26\"],[1.0,\"#f0f921\"]]}],\"surface\":[{\"type\":\"surface\",\"colorbar\":{\"outlinewidth\":0,\"ticks\":\"\"},\"colorscale\":[[0.0,\"#0d0887\"],[0.1111111111111111,\"#46039f\"],[0.2222222222222222,\"#7201a8\"],[0.3333333333333333,\"#9c179e\"],[0.4444444444444444,\"#bd3786\"],[0.5555555555555556,\"#d8576b\"],[0.6666666666666666,\"#ed7953\"],[0.7777777777777778,\"#fb9f3a\"],[0.8888888888888888,\"#fdca26\"],[1.0,\"#f0f921\"]]}],\"mesh3d\":[{\"type\":\"mesh3d\",\"colorbar\":{\"outlinewidth\":0,\"ticks\":\"\"}}],\"scatter\":[{\"fillpattern\":{\"fillmode\":\"overlay\",\"size\":10,\"solidity\":0.2},\"type\":\"scatter\"}],\"parcoords\":[{\"type\":\"parcoords\",\"line\":{\"colorbar\":{\"outlinewidth\":0,\"ticks\":\"\"}}}],\"scatterpolargl\":[{\"type\":\"scatterpolargl\",\"marker\":{\"colorbar\":{\"outlinewidth\":0,\"ticks\":\"\"}}}],\"bar\":[{\"error_x\":{\"color\":\"#2a3f5f\"},\"error_y\":{\"color\":\"#2a3f5f\"},\"marker\":{\"line\":{\"color\":\"#E5ECF6\",\"width\":0.5},\"pattern\":{\"fillmode\":\"overlay\",\"size\":10,\"solidity\":0.2}},\"type\":\"bar\"}],\"scattergeo\":[{\"type\":\"scattergeo\",\"marker\":{\"colorbar\":{\"outlinewidth\":0,\"ticks\":\"\"}}}],\"scatterpolar\":[{\"type\":\"scatterpolar\",\"marker\":{\"colorbar\":{\"outlinewidth\":0,\"ticks\":\"\"}}}],\"histogram\":[{\"marker\":{\"pattern\":{\"fillmode\":\"overlay\",\"size\":10,\"solidity\":0.2}},\"type\":\"histogram\"}],\"scattergl\":[{\"type\":\"scattergl\",\"marker\":{\"colorbar\":{\"outlinewidth\":0,\"ticks\":\"\"}}}],\"scatter3d\":[{\"type\":\"scatter3d\",\"line\":{\"colorbar\":{\"outlinewidth\":0,\"ticks\":\"\"}},\"marker\":{\"colorbar\":{\"outlinewidth\":0,\"ticks\":\"\"}}}],\"scattermapbox\":[{\"type\":\"scattermapbox\",\"marker\":{\"colorbar\":{\"outlinewidth\":0,\"ticks\":\"\"}}}],\"scatterternary\":[{\"type\":\"scatterternary\",\"marker\":{\"colorbar\":{\"outlinewidth\":0,\"ticks\":\"\"}}}],\"scattercarpet\":[{\"type\":\"scattercarpet\",\"marker\":{\"colorbar\":{\"outlinewidth\":0,\"ticks\":\"\"}}}],\"carpet\":[{\"aaxis\":{\"endlinecolor\":\"#2a3f5f\",\"gridcolor\":\"white\",\"linecolor\":\"white\",\"minorgridcolor\":\"white\",\"startlinecolor\":\"#2a3f5f\"},\"baxis\":{\"endlinecolor\":\"#2a3f5f\",\"gridcolor\":\"white\",\"linecolor\":\"white\",\"minorgridcolor\":\"white\",\"startlinecolor\":\"#2a3f5f\"},\"type\":\"carpet\"}],\"table\":[{\"cells\":{\"fill\":{\"color\":\"#EBF0F8\"},\"line\":{\"color\":\"white\"}},\"header\":{\"fill\":{\"color\":\"#C8D4E3\"},\"line\":{\"color\":\"white\"}},\"type\":\"table\"}],\"barpolar\":[{\"marker\":{\"line\":{\"color\":\"#E5ECF6\",\"width\":0.5},\"pattern\":{\"fillmode\":\"overlay\",\"size\":10,\"solidity\":0.2}},\"type\":\"barpolar\"}],\"pie\":[{\"automargin\":true,\"type\":\"pie\"}]},\"layout\":{\"autotypenumbers\":\"strict\",\"colorway\":[\"#636efa\",\"#EF553B\",\"#00cc96\",\"#ab63fa\",\"#FFA15A\",\"#19d3f3\",\"#FF6692\",\"#B6E880\",\"#FF97FF\",\"#FECB52\"],\"font\":{\"color\":\"#2a3f5f\"},\"hovermode\":\"closest\",\"hoverlabel\":{\"align\":\"left\"},\"paper_bgcolor\":\"white\",\"plot_bgcolor\":\"#E5ECF6\",\"polar\":{\"bgcolor\":\"#E5ECF6\",\"angularaxis\":{\"gridcolor\":\"white\",\"linecolor\":\"white\",\"ticks\":\"\"},\"radialaxis\":{\"gridcolor\":\"white\",\"linecolor\":\"white\",\"ticks\":\"\"}},\"ternary\":{\"bgcolor\":\"#E5ECF6\",\"aaxis\":{\"gridcolor\":\"white\",\"linecolor\":\"white\",\"ticks\":\"\"},\"baxis\":{\"gridcolor\":\"white\",\"linecolor\":\"white\",\"ticks\":\"\"},\"caxis\":{\"gridcolor\":\"white\",\"linecolor\":\"white\",\"ticks\":\"\"}},\"coloraxis\":{\"colorbar\":{\"outlinewidth\":0,\"ticks\":\"\"}},\"colorscale\":{\"sequential\":[[0.0,\"#0d0887\"],[0.1111111111111111,\"#46039f\"],[0.2222222222222222,\"#7201a8\"],[0.3333333333333333,\"#9c179e\"],[0.4444444444444444,\"#bd3786\"],[0.5555555555555556,\"#d8576b\"],[0.6666666666666666,\"#ed7953\"],[0.7777777777777778,\"#fb9f3a\"],[0.8888888888888888,\"#fdca26\"],[1.0,\"#f0f921\"]],\"sequentialminus\":[[0.0,\"#0d0887\"],[0.1111111111111111,\"#46039f\"],[0.2222222222222222,\"#7201a8\"],[0.3333333333333333,\"#9c179e\"],[0.4444444444444444,\"#bd3786\"],[0.5555555555555556,\"#d8576b\"],[0.6666666666666666,\"#ed7953\"],[0.7777777777777778,\"#fb9f3a\"],[0.8888888888888888,\"#fdca26\"],[1.0,\"#f0f921\"]],\"diverging\":[[0,\"#8e0152\"],[0.1,\"#c51b7d\"],[0.2,\"#de77ae\"],[0.3,\"#f1b6da\"],[0.4,\"#fde0ef\"],[0.5,\"#f7f7f7\"],[0.6,\"#e6f5d0\"],[0.7,\"#b8e186\"],[0.8,\"#7fbc41\"],[0.9,\"#4d9221\"],[1,\"#276419\"]]},\"xaxis\":{\"gridcolor\":\"white\",\"linecolor\":\"white\",\"ticks\":\"\",\"title\":{\"standoff\":15},\"zerolinecolor\":\"white\",\"automargin\":true,\"zerolinewidth\":2},\"yaxis\":{\"gridcolor\":\"white\",\"linecolor\":\"white\",\"ticks\":\"\",\"title\":{\"standoff\":15},\"zerolinecolor\":\"white\",\"automargin\":true,\"zerolinewidth\":2},\"scene\":{\"xaxis\":{\"backgroundcolor\":\"#E5ECF6\",\"gridcolor\":\"white\",\"linecolor\":\"white\",\"showbackground\":true,\"ticks\":\"\",\"zerolinecolor\":\"white\",\"gridwidth\":2},\"yaxis\":{\"backgroundcolor\":\"#E5ECF6\",\"gridcolor\":\"white\",\"linecolor\":\"white\",\"showbackground\":true,\"ticks\":\"\",\"zerolinecolor\":\"white\",\"gridwidth\":2},\"zaxis\":{\"backgroundcolor\":\"#E5ECF6\",\"gridcolor\":\"white\",\"linecolor\":\"white\",\"showbackground\":true,\"ticks\":\"\",\"zerolinecolor\":\"white\",\"gridwidth\":2}},\"shapedefaults\":{\"line\":{\"color\":\"#2a3f5f\"}},\"annotationdefaults\":{\"arrowcolor\":\"#2a3f5f\",\"arrowhead\":0,\"arrowwidth\":1},\"geo\":{\"bgcolor\":\"white\",\"landcolor\":\"#E5ECF6\",\"subunitcolor\":\"white\",\"showland\":true,\"showlakes\":true,\"lakecolor\":\"white\"},\"title\":{\"x\":0.05},\"mapbox\":{\"style\":\"light\"}}},\"xaxis\":{\"anchor\":\"y\",\"domain\":[0.0,1.0],\"title\":{\"text\":\"Presidente\"},\"categoryorder\":\"array\",\"categoryarray\":[\"BOLSONARO\",\"DILMA\",\"TEMER\",\"LULA\"]},\"yaxis\":{\"anchor\":\"x\",\"domain\":[0.0,1.0],\"title\":{\"text\":\"Valor em Reais   *corrigidos pelo IPCA\"}},\"legend\":{\"title\":{\"text\":\"Presidente\"},\"tracegroupgap\":0},\"title\":{\"text\":\"GASTOS COM LANCHONETE TONY E THAIS LTDA. ME\"},\"barmode\":\"relative\"},                        {\"responsive\": true}                    ).then(function(){\n",
       "                            \n",
       "var gd = document.getElementById('82f02e6c-f90c-4449-b01c-6e725db10824');\n",
       "var x = new MutationObserver(function (mutations, observer) {{\n",
       "        var display = window.getComputedStyle(gd).display;\n",
       "        if (!display || display === 'none') {{\n",
       "            console.log([gd, 'removed!']);\n",
       "            Plotly.purge(gd);\n",
       "            observer.disconnect();\n",
       "        }}\n",
       "}});\n",
       "\n",
       "// Listen for the removal of the full notebook cells\n",
       "var notebookContainer = gd.closest('#notebook-container');\n",
       "if (notebookContainer) {{\n",
       "    x.observe(notebookContainer, {childList: true});\n",
       "}}\n",
       "\n",
       "// Listen for the clearing of the current output cell\n",
       "var outputEl = gd.closest('.output');\n",
       "if (outputEl) {{\n",
       "    x.observe(outputEl, {childList: true});\n",
       "}}\n",
       "\n",
       "                        })                };                });            </script>        </div>"
      ]
     },
     "metadata": {},
     "output_type": "display_data"
    }
   ],
   "source": [
    "fig_gastos_tonythais = px.bar(tony, x='PRES', y='VALOR_CORRIGIDO', color='PRES', title='GASTOS COM LANCHONETE TONY E THAIS LTDA. ME',\n",
    "labels={\"VALOR_CORRIGIDO\": \"Valor em Reais   *corrigidos pelo IPCA\", 'PRES': \"Presidente\"})\n",
    "\n",
    "fig_gastos_tonythais.show()"
   ]
  },
  {
   "cell_type": "code",
   "execution_count": null,
   "metadata": {},
   "outputs": [
    {
     "data": {
      "text/plain": [
       "2064347.149644417"
      ]
     },
     "metadata": {},
     "output_type": "display_data"
    }
   ],
   "source": [
    " tony['VALOR_CORRIGIDO'].sum()"
   ]
  },
  {
   "cell_type": "code",
   "execution_count": null,
   "metadata": {},
   "outputs": [],
   "source": [
    "def mandato_mensal(pres):\n",
    "    \n",
    "    if pres == 'LULA':\n",
    "        return 96\n",
    "    elif pres =='DILMA':\n",
    "        return 72\n",
    "    elif pres == 'TEMER':\n",
    "        return 24\n",
    "    elif pres =='BOLSONARO':\n",
    "        return 48    "
   ]
  },
  {
   "cell_type": "code",
   "execution_count": null,
   "metadata": {},
   "outputs": [
    {
     "data": {
      "text/html": [
       "<div>\n",
       "<style scoped>\n",
       "    .dataframe tbody tr th:only-of-type {\n",
       "        vertical-align: middle;\n",
       "    }\n",
       "\n",
       "    .dataframe tbody tr th {\n",
       "        vertical-align: top;\n",
       "    }\n",
       "\n",
       "    .dataframe thead th {\n",
       "        text-align: right;\n",
       "    }\n",
       "</style>\n",
       "<table border=\"1\" class=\"dataframe\">\n",
       "  <thead>\n",
       "    <tr style=\"text-align: right;\">\n",
       "      <th></th>\n",
       "      <th>index</th>\n",
       "      <th>PRES</th>\n",
       "      <th>NOME FORNECEDOR</th>\n",
       "      <th>VALOR_CORRIGIDO</th>\n",
       "      <th>GASTO MED MENSAL</th>\n",
       "    </tr>\n",
       "  </thead>\n",
       "  <tbody>\n",
       "    <tr>\n",
       "      <th>38</th>\n",
       "      <td>960</td>\n",
       "      <td>BOLSONARO</td>\n",
       "      <td>LANCHONETE TONY E THAIS LTDA. ME</td>\n",
       "      <td>735053.146243</td>\n",
       "      <td>15313.607213</td>\n",
       "    </tr>\n",
       "    <tr>\n",
       "      <th>53</th>\n",
       "      <td>3396</td>\n",
       "      <td>DILMA</td>\n",
       "      <td>LANCHONETE TONY E THAIS LTDA. ME</td>\n",
       "      <td>642781.074307</td>\n",
       "      <td>8927.514921</td>\n",
       "    </tr>\n",
       "    <tr>\n",
       "      <th>83</th>\n",
       "      <td>9697</td>\n",
       "      <td>TEMER</td>\n",
       "      <td>LANCHONETE TONY E THAIS LTDA. ME</td>\n",
       "      <td>468218.025396</td>\n",
       "      <td>19509.084391</td>\n",
       "    </tr>\n",
       "    <tr>\n",
       "      <th>173</th>\n",
       "      <td>7260</td>\n",
       "      <td>LULA</td>\n",
       "      <td>LANCHONETE TONY E THAIS LTDA. ME</td>\n",
       "      <td>218294.903699</td>\n",
       "      <td>2273.905247</td>\n",
       "    </tr>\n",
       "  </tbody>\n",
       "</table>\n",
       "</div>"
      ],
      "text/plain": [
       "     index       PRES                   NOME FORNECEDOR  VALOR_CORRIGIDO  \\\n",
       "38     960  BOLSONARO  LANCHONETE TONY E THAIS LTDA. ME    735053.146243   \n",
       "53    3396      DILMA  LANCHONETE TONY E THAIS LTDA. ME    642781.074307   \n",
       "83    9697      TEMER  LANCHONETE TONY E THAIS LTDA. ME    468218.025396   \n",
       "173   7260       LULA  LANCHONETE TONY E THAIS LTDA. ME    218294.903699   \n",
       "\n",
       "     GASTO MED MENSAL  \n",
       "38       15313.607213  \n",
       "53        8927.514921  \n",
       "83       19509.084391  \n",
       "173       2273.905247  "
      ]
     },
     "metadata": {},
     "output_type": "display_data"
    }
   ],
   "source": [
    "tony['GASTO MED MENSAL'] = tony['VALOR_CORRIGIDO']/(tony['PRES'].apply(mandato_mensal))\n",
    "tony"
   ]
  },
  {
   "cell_type": "code",
   "execution_count": null,
   "metadata": {},
   "outputs": [
    {
     "data": {
      "application/vnd.plotly.v1+json": {
       "config": {
        "plotlyServerURL": "https://plot.ly"
       },
       "data": [
        {
         "alignmentgroup": "True",
         "hovertemplate": "Presidente=%{x}<br>Valor em Reais   *corrigidos pelo IPCA=%{y}<extra></extra>",
         "legendgroup": "BOLSONARO",
         "marker": {
          "color": "#636efa",
          "pattern": {
           "shape": ""
          }
         },
         "name": "BOLSONARO",
         "offsetgroup": "BOLSONARO",
         "orientation": "v",
         "showlegend": true,
         "textposition": "auto",
         "type": "bar",
         "x": [
          "BOLSONARO"
         ],
         "xaxis": "x",
         "y": [
          15313.607213391251
         ],
         "yaxis": "y"
        },
        {
         "alignmentgroup": "True",
         "hovertemplate": "Presidente=%{x}<br>Valor em Reais   *corrigidos pelo IPCA=%{y}<extra></extra>",
         "legendgroup": "DILMA",
         "marker": {
          "color": "#EF553B",
          "pattern": {
           "shape": ""
          }
         },
         "name": "DILMA",
         "offsetgroup": "DILMA",
         "orientation": "v",
         "showlegend": true,
         "textposition": "auto",
         "type": "bar",
         "x": [
          "DILMA"
         ],
         "xaxis": "x",
         "y": [
          8927.514920930891
         ],
         "yaxis": "y"
        },
        {
         "alignmentgroup": "True",
         "hovertemplate": "Presidente=%{x}<br>Valor em Reais   *corrigidos pelo IPCA=%{y}<extra></extra>",
         "legendgroup": "TEMER",
         "marker": {
          "color": "#00cc96",
          "pattern": {
           "shape": ""
          }
         },
         "name": "TEMER",
         "offsetgroup": "TEMER",
         "orientation": "v",
         "showlegend": true,
         "textposition": "auto",
         "type": "bar",
         "x": [
          "TEMER"
         ],
         "xaxis": "x",
         "y": [
          19509.084391495588
         ],
         "yaxis": "y"
        },
        {
         "alignmentgroup": "True",
         "hovertemplate": "Presidente=%{x}<br>Valor em Reais   *corrigidos pelo IPCA=%{y}<extra></extra>",
         "legendgroup": "LULA",
         "marker": {
          "color": "#ab63fa",
          "pattern": {
           "shape": ""
          }
         },
         "name": "LULA",
         "offsetgroup": "LULA",
         "orientation": "v",
         "showlegend": true,
         "textposition": "auto",
         "type": "bar",
         "x": [
          "LULA"
         ],
         "xaxis": "x",
         "y": [
          2273.905246861656
         ],
         "yaxis": "y"
        }
       ],
       "layout": {
        "barmode": "relative",
        "legend": {
         "title": {
          "text": "Presidente"
         },
         "tracegroupgap": 0
        },
        "template": {
         "data": {
          "bar": [
           {
            "error_x": {
             "color": "#2a3f5f"
            },
            "error_y": {
             "color": "#2a3f5f"
            },
            "marker": {
             "line": {
              "color": "#E5ECF6",
              "width": 0.5
             },
             "pattern": {
              "fillmode": "overlay",
              "size": 10,
              "solidity": 0.2
             }
            },
            "type": "bar"
           }
          ],
          "barpolar": [
           {
            "marker": {
             "line": {
              "color": "#E5ECF6",
              "width": 0.5
             },
             "pattern": {
              "fillmode": "overlay",
              "size": 10,
              "solidity": 0.2
             }
            },
            "type": "barpolar"
           }
          ],
          "carpet": [
           {
            "aaxis": {
             "endlinecolor": "#2a3f5f",
             "gridcolor": "white",
             "linecolor": "white",
             "minorgridcolor": "white",
             "startlinecolor": "#2a3f5f"
            },
            "baxis": {
             "endlinecolor": "#2a3f5f",
             "gridcolor": "white",
             "linecolor": "white",
             "minorgridcolor": "white",
             "startlinecolor": "#2a3f5f"
            },
            "type": "carpet"
           }
          ],
          "choropleth": [
           {
            "colorbar": {
             "outlinewidth": 0,
             "ticks": ""
            },
            "type": "choropleth"
           }
          ],
          "contour": [
           {
            "colorbar": {
             "outlinewidth": 0,
             "ticks": ""
            },
            "colorscale": [
             [
              0,
              "#0d0887"
             ],
             [
              0.1111111111111111,
              "#46039f"
             ],
             [
              0.2222222222222222,
              "#7201a8"
             ],
             [
              0.3333333333333333,
              "#9c179e"
             ],
             [
              0.4444444444444444,
              "#bd3786"
             ],
             [
              0.5555555555555556,
              "#d8576b"
             ],
             [
              0.6666666666666666,
              "#ed7953"
             ],
             [
              0.7777777777777778,
              "#fb9f3a"
             ],
             [
              0.8888888888888888,
              "#fdca26"
             ],
             [
              1,
              "#f0f921"
             ]
            ],
            "type": "contour"
           }
          ],
          "contourcarpet": [
           {
            "colorbar": {
             "outlinewidth": 0,
             "ticks": ""
            },
            "type": "contourcarpet"
           }
          ],
          "heatmap": [
           {
            "colorbar": {
             "outlinewidth": 0,
             "ticks": ""
            },
            "colorscale": [
             [
              0,
              "#0d0887"
             ],
             [
              0.1111111111111111,
              "#46039f"
             ],
             [
              0.2222222222222222,
              "#7201a8"
             ],
             [
              0.3333333333333333,
              "#9c179e"
             ],
             [
              0.4444444444444444,
              "#bd3786"
             ],
             [
              0.5555555555555556,
              "#d8576b"
             ],
             [
              0.6666666666666666,
              "#ed7953"
             ],
             [
              0.7777777777777778,
              "#fb9f3a"
             ],
             [
              0.8888888888888888,
              "#fdca26"
             ],
             [
              1,
              "#f0f921"
             ]
            ],
            "type": "heatmap"
           }
          ],
          "heatmapgl": [
           {
            "colorbar": {
             "outlinewidth": 0,
             "ticks": ""
            },
            "colorscale": [
             [
              0,
              "#0d0887"
             ],
             [
              0.1111111111111111,
              "#46039f"
             ],
             [
              0.2222222222222222,
              "#7201a8"
             ],
             [
              0.3333333333333333,
              "#9c179e"
             ],
             [
              0.4444444444444444,
              "#bd3786"
             ],
             [
              0.5555555555555556,
              "#d8576b"
             ],
             [
              0.6666666666666666,
              "#ed7953"
             ],
             [
              0.7777777777777778,
              "#fb9f3a"
             ],
             [
              0.8888888888888888,
              "#fdca26"
             ],
             [
              1,
              "#f0f921"
             ]
            ],
            "type": "heatmapgl"
           }
          ],
          "histogram": [
           {
            "marker": {
             "pattern": {
              "fillmode": "overlay",
              "size": 10,
              "solidity": 0.2
             }
            },
            "type": "histogram"
           }
          ],
          "histogram2d": [
           {
            "colorbar": {
             "outlinewidth": 0,
             "ticks": ""
            },
            "colorscale": [
             [
              0,
              "#0d0887"
             ],
             [
              0.1111111111111111,
              "#46039f"
             ],
             [
              0.2222222222222222,
              "#7201a8"
             ],
             [
              0.3333333333333333,
              "#9c179e"
             ],
             [
              0.4444444444444444,
              "#bd3786"
             ],
             [
              0.5555555555555556,
              "#d8576b"
             ],
             [
              0.6666666666666666,
              "#ed7953"
             ],
             [
              0.7777777777777778,
              "#fb9f3a"
             ],
             [
              0.8888888888888888,
              "#fdca26"
             ],
             [
              1,
              "#f0f921"
             ]
            ],
            "type": "histogram2d"
           }
          ],
          "histogram2dcontour": [
           {
            "colorbar": {
             "outlinewidth": 0,
             "ticks": ""
            },
            "colorscale": [
             [
              0,
              "#0d0887"
             ],
             [
              0.1111111111111111,
              "#46039f"
             ],
             [
              0.2222222222222222,
              "#7201a8"
             ],
             [
              0.3333333333333333,
              "#9c179e"
             ],
             [
              0.4444444444444444,
              "#bd3786"
             ],
             [
              0.5555555555555556,
              "#d8576b"
             ],
             [
              0.6666666666666666,
              "#ed7953"
             ],
             [
              0.7777777777777778,
              "#fb9f3a"
             ],
             [
              0.8888888888888888,
              "#fdca26"
             ],
             [
              1,
              "#f0f921"
             ]
            ],
            "type": "histogram2dcontour"
           }
          ],
          "mesh3d": [
           {
            "colorbar": {
             "outlinewidth": 0,
             "ticks": ""
            },
            "type": "mesh3d"
           }
          ],
          "parcoords": [
           {
            "line": {
             "colorbar": {
              "outlinewidth": 0,
              "ticks": ""
             }
            },
            "type": "parcoords"
           }
          ],
          "pie": [
           {
            "automargin": true,
            "type": "pie"
           }
          ],
          "scatter": [
           {
            "fillpattern": {
             "fillmode": "overlay",
             "size": 10,
             "solidity": 0.2
            },
            "type": "scatter"
           }
          ],
          "scatter3d": [
           {
            "line": {
             "colorbar": {
              "outlinewidth": 0,
              "ticks": ""
             }
            },
            "marker": {
             "colorbar": {
              "outlinewidth": 0,
              "ticks": ""
             }
            },
            "type": "scatter3d"
           }
          ],
          "scattercarpet": [
           {
            "marker": {
             "colorbar": {
              "outlinewidth": 0,
              "ticks": ""
             }
            },
            "type": "scattercarpet"
           }
          ],
          "scattergeo": [
           {
            "marker": {
             "colorbar": {
              "outlinewidth": 0,
              "ticks": ""
             }
            },
            "type": "scattergeo"
           }
          ],
          "scattergl": [
           {
            "marker": {
             "colorbar": {
              "outlinewidth": 0,
              "ticks": ""
             }
            },
            "type": "scattergl"
           }
          ],
          "scattermapbox": [
           {
            "marker": {
             "colorbar": {
              "outlinewidth": 0,
              "ticks": ""
             }
            },
            "type": "scattermapbox"
           }
          ],
          "scatterpolar": [
           {
            "marker": {
             "colorbar": {
              "outlinewidth": 0,
              "ticks": ""
             }
            },
            "type": "scatterpolar"
           }
          ],
          "scatterpolargl": [
           {
            "marker": {
             "colorbar": {
              "outlinewidth": 0,
              "ticks": ""
             }
            },
            "type": "scatterpolargl"
           }
          ],
          "scatterternary": [
           {
            "marker": {
             "colorbar": {
              "outlinewidth": 0,
              "ticks": ""
             }
            },
            "type": "scatterternary"
           }
          ],
          "surface": [
           {
            "colorbar": {
             "outlinewidth": 0,
             "ticks": ""
            },
            "colorscale": [
             [
              0,
              "#0d0887"
             ],
             [
              0.1111111111111111,
              "#46039f"
             ],
             [
              0.2222222222222222,
              "#7201a8"
             ],
             [
              0.3333333333333333,
              "#9c179e"
             ],
             [
              0.4444444444444444,
              "#bd3786"
             ],
             [
              0.5555555555555556,
              "#d8576b"
             ],
             [
              0.6666666666666666,
              "#ed7953"
             ],
             [
              0.7777777777777778,
              "#fb9f3a"
             ],
             [
              0.8888888888888888,
              "#fdca26"
             ],
             [
              1,
              "#f0f921"
             ]
            ],
            "type": "surface"
           }
          ],
          "table": [
           {
            "cells": {
             "fill": {
              "color": "#EBF0F8"
             },
             "line": {
              "color": "white"
             }
            },
            "header": {
             "fill": {
              "color": "#C8D4E3"
             },
             "line": {
              "color": "white"
             }
            },
            "type": "table"
           }
          ]
         },
         "layout": {
          "annotationdefaults": {
           "arrowcolor": "#2a3f5f",
           "arrowhead": 0,
           "arrowwidth": 1
          },
          "autotypenumbers": "strict",
          "coloraxis": {
           "colorbar": {
            "outlinewidth": 0,
            "ticks": ""
           }
          },
          "colorscale": {
           "diverging": [
            [
             0,
             "#8e0152"
            ],
            [
             0.1,
             "#c51b7d"
            ],
            [
             0.2,
             "#de77ae"
            ],
            [
             0.3,
             "#f1b6da"
            ],
            [
             0.4,
             "#fde0ef"
            ],
            [
             0.5,
             "#f7f7f7"
            ],
            [
             0.6,
             "#e6f5d0"
            ],
            [
             0.7,
             "#b8e186"
            ],
            [
             0.8,
             "#7fbc41"
            ],
            [
             0.9,
             "#4d9221"
            ],
            [
             1,
             "#276419"
            ]
           ],
           "sequential": [
            [
             0,
             "#0d0887"
            ],
            [
             0.1111111111111111,
             "#46039f"
            ],
            [
             0.2222222222222222,
             "#7201a8"
            ],
            [
             0.3333333333333333,
             "#9c179e"
            ],
            [
             0.4444444444444444,
             "#bd3786"
            ],
            [
             0.5555555555555556,
             "#d8576b"
            ],
            [
             0.6666666666666666,
             "#ed7953"
            ],
            [
             0.7777777777777778,
             "#fb9f3a"
            ],
            [
             0.8888888888888888,
             "#fdca26"
            ],
            [
             1,
             "#f0f921"
            ]
           ],
           "sequentialminus": [
            [
             0,
             "#0d0887"
            ],
            [
             0.1111111111111111,
             "#46039f"
            ],
            [
             0.2222222222222222,
             "#7201a8"
            ],
            [
             0.3333333333333333,
             "#9c179e"
            ],
            [
             0.4444444444444444,
             "#bd3786"
            ],
            [
             0.5555555555555556,
             "#d8576b"
            ],
            [
             0.6666666666666666,
             "#ed7953"
            ],
            [
             0.7777777777777778,
             "#fb9f3a"
            ],
            [
             0.8888888888888888,
             "#fdca26"
            ],
            [
             1,
             "#f0f921"
            ]
           ]
          },
          "colorway": [
           "#636efa",
           "#EF553B",
           "#00cc96",
           "#ab63fa",
           "#FFA15A",
           "#19d3f3",
           "#FF6692",
           "#B6E880",
           "#FF97FF",
           "#FECB52"
          ],
          "font": {
           "color": "#2a3f5f"
          },
          "geo": {
           "bgcolor": "white",
           "lakecolor": "white",
           "landcolor": "#E5ECF6",
           "showlakes": true,
           "showland": true,
           "subunitcolor": "white"
          },
          "hoverlabel": {
           "align": "left"
          },
          "hovermode": "closest",
          "mapbox": {
           "style": "light"
          },
          "paper_bgcolor": "white",
          "plot_bgcolor": "#E5ECF6",
          "polar": {
           "angularaxis": {
            "gridcolor": "white",
            "linecolor": "white",
            "ticks": ""
           },
           "bgcolor": "#E5ECF6",
           "radialaxis": {
            "gridcolor": "white",
            "linecolor": "white",
            "ticks": ""
           }
          },
          "scene": {
           "xaxis": {
            "backgroundcolor": "#E5ECF6",
            "gridcolor": "white",
            "gridwidth": 2,
            "linecolor": "white",
            "showbackground": true,
            "ticks": "",
            "zerolinecolor": "white"
           },
           "yaxis": {
            "backgroundcolor": "#E5ECF6",
            "gridcolor": "white",
            "gridwidth": 2,
            "linecolor": "white",
            "showbackground": true,
            "ticks": "",
            "zerolinecolor": "white"
           },
           "zaxis": {
            "backgroundcolor": "#E5ECF6",
            "gridcolor": "white",
            "gridwidth": 2,
            "linecolor": "white",
            "showbackground": true,
            "ticks": "",
            "zerolinecolor": "white"
           }
          },
          "shapedefaults": {
           "line": {
            "color": "#2a3f5f"
           }
          },
          "ternary": {
           "aaxis": {
            "gridcolor": "white",
            "linecolor": "white",
            "ticks": ""
           },
           "baxis": {
            "gridcolor": "white",
            "linecolor": "white",
            "ticks": ""
           },
           "bgcolor": "#E5ECF6",
           "caxis": {
            "gridcolor": "white",
            "linecolor": "white",
            "ticks": ""
           }
          },
          "title": {
           "x": 0.05
          },
          "xaxis": {
           "automargin": true,
           "gridcolor": "white",
           "linecolor": "white",
           "ticks": "",
           "title": {
            "standoff": 15
           },
           "zerolinecolor": "white",
           "zerolinewidth": 2
          },
          "yaxis": {
           "automargin": true,
           "gridcolor": "white",
           "linecolor": "white",
           "ticks": "",
           "title": {
            "standoff": 15
           },
           "zerolinecolor": "white",
           "zerolinewidth": 2
          }
         }
        },
        "title": {
         "text": "GASTOS MED MENSAL POR GOVERNO - LANCHONETE TONY E THAIS"
        },
        "xaxis": {
         "anchor": "y",
         "categoryarray": [
          "BOLSONARO",
          "DILMA",
          "TEMER",
          "LULA"
         ],
         "categoryorder": "array",
         "domain": [
          0,
          1
         ],
         "title": {
          "text": "Presidente"
         }
        },
        "yaxis": {
         "anchor": "x",
         "domain": [
          0,
          1
         ],
         "title": {
          "text": "Valor em Reais   *corrigidos pelo IPCA"
         }
        }
       }
      },
      "text/html": [
       "<div>                            <div id=\"59e9f0f7-f7b1-469d-b1ef-efddf789a36e\" class=\"plotly-graph-div\" style=\"height:525px; width:100%;\"></div>            <script type=\"text/javascript\">                require([\"plotly\"], function(Plotly) {                    window.PLOTLYENV=window.PLOTLYENV || {};                                    if (document.getElementById(\"59e9f0f7-f7b1-469d-b1ef-efddf789a36e\")) {                    Plotly.newPlot(                        \"59e9f0f7-f7b1-469d-b1ef-efddf789a36e\",                        [{\"alignmentgroup\":\"True\",\"hovertemplate\":\"Presidente=%{x}<br>Valor em Reais   *corrigidos pelo IPCA=%{y}<extra></extra>\",\"legendgroup\":\"BOLSONARO\",\"marker\":{\"color\":\"#636efa\",\"pattern\":{\"shape\":\"\"}},\"name\":\"BOLSONARO\",\"offsetgroup\":\"BOLSONARO\",\"orientation\":\"v\",\"showlegend\":true,\"textposition\":\"auto\",\"x\":[\"BOLSONARO\"],\"xaxis\":\"x\",\"y\":[15313.607213391251],\"yaxis\":\"y\",\"type\":\"bar\"},{\"alignmentgroup\":\"True\",\"hovertemplate\":\"Presidente=%{x}<br>Valor em Reais   *corrigidos pelo IPCA=%{y}<extra></extra>\",\"legendgroup\":\"DILMA\",\"marker\":{\"color\":\"#EF553B\",\"pattern\":{\"shape\":\"\"}},\"name\":\"DILMA\",\"offsetgroup\":\"DILMA\",\"orientation\":\"v\",\"showlegend\":true,\"textposition\":\"auto\",\"x\":[\"DILMA\"],\"xaxis\":\"x\",\"y\":[8927.514920930891],\"yaxis\":\"y\",\"type\":\"bar\"},{\"alignmentgroup\":\"True\",\"hovertemplate\":\"Presidente=%{x}<br>Valor em Reais   *corrigidos pelo IPCA=%{y}<extra></extra>\",\"legendgroup\":\"TEMER\",\"marker\":{\"color\":\"#00cc96\",\"pattern\":{\"shape\":\"\"}},\"name\":\"TEMER\",\"offsetgroup\":\"TEMER\",\"orientation\":\"v\",\"showlegend\":true,\"textposition\":\"auto\",\"x\":[\"TEMER\"],\"xaxis\":\"x\",\"y\":[19509.084391495588],\"yaxis\":\"y\",\"type\":\"bar\"},{\"alignmentgroup\":\"True\",\"hovertemplate\":\"Presidente=%{x}<br>Valor em Reais   *corrigidos pelo IPCA=%{y}<extra></extra>\",\"legendgroup\":\"LULA\",\"marker\":{\"color\":\"#ab63fa\",\"pattern\":{\"shape\":\"\"}},\"name\":\"LULA\",\"offsetgroup\":\"LULA\",\"orientation\":\"v\",\"showlegend\":true,\"textposition\":\"auto\",\"x\":[\"LULA\"],\"xaxis\":\"x\",\"y\":[2273.905246861656],\"yaxis\":\"y\",\"type\":\"bar\"}],                        {\"template\":{\"data\":{\"histogram2dcontour\":[{\"type\":\"histogram2dcontour\",\"colorbar\":{\"outlinewidth\":0,\"ticks\":\"\"},\"colorscale\":[[0.0,\"#0d0887\"],[0.1111111111111111,\"#46039f\"],[0.2222222222222222,\"#7201a8\"],[0.3333333333333333,\"#9c179e\"],[0.4444444444444444,\"#bd3786\"],[0.5555555555555556,\"#d8576b\"],[0.6666666666666666,\"#ed7953\"],[0.7777777777777778,\"#fb9f3a\"],[0.8888888888888888,\"#fdca26\"],[1.0,\"#f0f921\"]]}],\"choropleth\":[{\"type\":\"choropleth\",\"colorbar\":{\"outlinewidth\":0,\"ticks\":\"\"}}],\"histogram2d\":[{\"type\":\"histogram2d\",\"colorbar\":{\"outlinewidth\":0,\"ticks\":\"\"},\"colorscale\":[[0.0,\"#0d0887\"],[0.1111111111111111,\"#46039f\"],[0.2222222222222222,\"#7201a8\"],[0.3333333333333333,\"#9c179e\"],[0.4444444444444444,\"#bd3786\"],[0.5555555555555556,\"#d8576b\"],[0.6666666666666666,\"#ed7953\"],[0.7777777777777778,\"#fb9f3a\"],[0.8888888888888888,\"#fdca26\"],[1.0,\"#f0f921\"]]}],\"heatmap\":[{\"type\":\"heatmap\",\"colorbar\":{\"outlinewidth\":0,\"ticks\":\"\"},\"colorscale\":[[0.0,\"#0d0887\"],[0.1111111111111111,\"#46039f\"],[0.2222222222222222,\"#7201a8\"],[0.3333333333333333,\"#9c179e\"],[0.4444444444444444,\"#bd3786\"],[0.5555555555555556,\"#d8576b\"],[0.6666666666666666,\"#ed7953\"],[0.7777777777777778,\"#fb9f3a\"],[0.8888888888888888,\"#fdca26\"],[1.0,\"#f0f921\"]]}],\"heatmapgl\":[{\"type\":\"heatmapgl\",\"colorbar\":{\"outlinewidth\":0,\"ticks\":\"\"},\"colorscale\":[[0.0,\"#0d0887\"],[0.1111111111111111,\"#46039f\"],[0.2222222222222222,\"#7201a8\"],[0.3333333333333333,\"#9c179e\"],[0.4444444444444444,\"#bd3786\"],[0.5555555555555556,\"#d8576b\"],[0.6666666666666666,\"#ed7953\"],[0.7777777777777778,\"#fb9f3a\"],[0.8888888888888888,\"#fdca26\"],[1.0,\"#f0f921\"]]}],\"contourcarpet\":[{\"type\":\"contourcarpet\",\"colorbar\":{\"outlinewidth\":0,\"ticks\":\"\"}}],\"contour\":[{\"type\":\"contour\",\"colorbar\":{\"outlinewidth\":0,\"ticks\":\"\"},\"colorscale\":[[0.0,\"#0d0887\"],[0.1111111111111111,\"#46039f\"],[0.2222222222222222,\"#7201a8\"],[0.3333333333333333,\"#9c179e\"],[0.4444444444444444,\"#bd3786\"],[0.5555555555555556,\"#d8576b\"],[0.6666666666666666,\"#ed7953\"],[0.7777777777777778,\"#fb9f3a\"],[0.8888888888888888,\"#fdca26\"],[1.0,\"#f0f921\"]]}],\"surface\":[{\"type\":\"surface\",\"colorbar\":{\"outlinewidth\":0,\"ticks\":\"\"},\"colorscale\":[[0.0,\"#0d0887\"],[0.1111111111111111,\"#46039f\"],[0.2222222222222222,\"#7201a8\"],[0.3333333333333333,\"#9c179e\"],[0.4444444444444444,\"#bd3786\"],[0.5555555555555556,\"#d8576b\"],[0.6666666666666666,\"#ed7953\"],[0.7777777777777778,\"#fb9f3a\"],[0.8888888888888888,\"#fdca26\"],[1.0,\"#f0f921\"]]}],\"mesh3d\":[{\"type\":\"mesh3d\",\"colorbar\":{\"outlinewidth\":0,\"ticks\":\"\"}}],\"scatter\":[{\"fillpattern\":{\"fillmode\":\"overlay\",\"size\":10,\"solidity\":0.2},\"type\":\"scatter\"}],\"parcoords\":[{\"type\":\"parcoords\",\"line\":{\"colorbar\":{\"outlinewidth\":0,\"ticks\":\"\"}}}],\"scatterpolargl\":[{\"type\":\"scatterpolargl\",\"marker\":{\"colorbar\":{\"outlinewidth\":0,\"ticks\":\"\"}}}],\"bar\":[{\"error_x\":{\"color\":\"#2a3f5f\"},\"error_y\":{\"color\":\"#2a3f5f\"},\"marker\":{\"line\":{\"color\":\"#E5ECF6\",\"width\":0.5},\"pattern\":{\"fillmode\":\"overlay\",\"size\":10,\"solidity\":0.2}},\"type\":\"bar\"}],\"scattergeo\":[{\"type\":\"scattergeo\",\"marker\":{\"colorbar\":{\"outlinewidth\":0,\"ticks\":\"\"}}}],\"scatterpolar\":[{\"type\":\"scatterpolar\",\"marker\":{\"colorbar\":{\"outlinewidth\":0,\"ticks\":\"\"}}}],\"histogram\":[{\"marker\":{\"pattern\":{\"fillmode\":\"overlay\",\"size\":10,\"solidity\":0.2}},\"type\":\"histogram\"}],\"scattergl\":[{\"type\":\"scattergl\",\"marker\":{\"colorbar\":{\"outlinewidth\":0,\"ticks\":\"\"}}}],\"scatter3d\":[{\"type\":\"scatter3d\",\"line\":{\"colorbar\":{\"outlinewidth\":0,\"ticks\":\"\"}},\"marker\":{\"colorbar\":{\"outlinewidth\":0,\"ticks\":\"\"}}}],\"scattermapbox\":[{\"type\":\"scattermapbox\",\"marker\":{\"colorbar\":{\"outlinewidth\":0,\"ticks\":\"\"}}}],\"scatterternary\":[{\"type\":\"scatterternary\",\"marker\":{\"colorbar\":{\"outlinewidth\":0,\"ticks\":\"\"}}}],\"scattercarpet\":[{\"type\":\"scattercarpet\",\"marker\":{\"colorbar\":{\"outlinewidth\":0,\"ticks\":\"\"}}}],\"carpet\":[{\"aaxis\":{\"endlinecolor\":\"#2a3f5f\",\"gridcolor\":\"white\",\"linecolor\":\"white\",\"minorgridcolor\":\"white\",\"startlinecolor\":\"#2a3f5f\"},\"baxis\":{\"endlinecolor\":\"#2a3f5f\",\"gridcolor\":\"white\",\"linecolor\":\"white\",\"minorgridcolor\":\"white\",\"startlinecolor\":\"#2a3f5f\"},\"type\":\"carpet\"}],\"table\":[{\"cells\":{\"fill\":{\"color\":\"#EBF0F8\"},\"line\":{\"color\":\"white\"}},\"header\":{\"fill\":{\"color\":\"#C8D4E3\"},\"line\":{\"color\":\"white\"}},\"type\":\"table\"}],\"barpolar\":[{\"marker\":{\"line\":{\"color\":\"#E5ECF6\",\"width\":0.5},\"pattern\":{\"fillmode\":\"overlay\",\"size\":10,\"solidity\":0.2}},\"type\":\"barpolar\"}],\"pie\":[{\"automargin\":true,\"type\":\"pie\"}]},\"layout\":{\"autotypenumbers\":\"strict\",\"colorway\":[\"#636efa\",\"#EF553B\",\"#00cc96\",\"#ab63fa\",\"#FFA15A\",\"#19d3f3\",\"#FF6692\",\"#B6E880\",\"#FF97FF\",\"#FECB52\"],\"font\":{\"color\":\"#2a3f5f\"},\"hovermode\":\"closest\",\"hoverlabel\":{\"align\":\"left\"},\"paper_bgcolor\":\"white\",\"plot_bgcolor\":\"#E5ECF6\",\"polar\":{\"bgcolor\":\"#E5ECF6\",\"angularaxis\":{\"gridcolor\":\"white\",\"linecolor\":\"white\",\"ticks\":\"\"},\"radialaxis\":{\"gridcolor\":\"white\",\"linecolor\":\"white\",\"ticks\":\"\"}},\"ternary\":{\"bgcolor\":\"#E5ECF6\",\"aaxis\":{\"gridcolor\":\"white\",\"linecolor\":\"white\",\"ticks\":\"\"},\"baxis\":{\"gridcolor\":\"white\",\"linecolor\":\"white\",\"ticks\":\"\"},\"caxis\":{\"gridcolor\":\"white\",\"linecolor\":\"white\",\"ticks\":\"\"}},\"coloraxis\":{\"colorbar\":{\"outlinewidth\":0,\"ticks\":\"\"}},\"colorscale\":{\"sequential\":[[0.0,\"#0d0887\"],[0.1111111111111111,\"#46039f\"],[0.2222222222222222,\"#7201a8\"],[0.3333333333333333,\"#9c179e\"],[0.4444444444444444,\"#bd3786\"],[0.5555555555555556,\"#d8576b\"],[0.6666666666666666,\"#ed7953\"],[0.7777777777777778,\"#fb9f3a\"],[0.8888888888888888,\"#fdca26\"],[1.0,\"#f0f921\"]],\"sequentialminus\":[[0.0,\"#0d0887\"],[0.1111111111111111,\"#46039f\"],[0.2222222222222222,\"#7201a8\"],[0.3333333333333333,\"#9c179e\"],[0.4444444444444444,\"#bd3786\"],[0.5555555555555556,\"#d8576b\"],[0.6666666666666666,\"#ed7953\"],[0.7777777777777778,\"#fb9f3a\"],[0.8888888888888888,\"#fdca26\"],[1.0,\"#f0f921\"]],\"diverging\":[[0,\"#8e0152\"],[0.1,\"#c51b7d\"],[0.2,\"#de77ae\"],[0.3,\"#f1b6da\"],[0.4,\"#fde0ef\"],[0.5,\"#f7f7f7\"],[0.6,\"#e6f5d0\"],[0.7,\"#b8e186\"],[0.8,\"#7fbc41\"],[0.9,\"#4d9221\"],[1,\"#276419\"]]},\"xaxis\":{\"gridcolor\":\"white\",\"linecolor\":\"white\",\"ticks\":\"\",\"title\":{\"standoff\":15},\"zerolinecolor\":\"white\",\"automargin\":true,\"zerolinewidth\":2},\"yaxis\":{\"gridcolor\":\"white\",\"linecolor\":\"white\",\"ticks\":\"\",\"title\":{\"standoff\":15},\"zerolinecolor\":\"white\",\"automargin\":true,\"zerolinewidth\":2},\"scene\":{\"xaxis\":{\"backgroundcolor\":\"#E5ECF6\",\"gridcolor\":\"white\",\"linecolor\":\"white\",\"showbackground\":true,\"ticks\":\"\",\"zerolinecolor\":\"white\",\"gridwidth\":2},\"yaxis\":{\"backgroundcolor\":\"#E5ECF6\",\"gridcolor\":\"white\",\"linecolor\":\"white\",\"showbackground\":true,\"ticks\":\"\",\"zerolinecolor\":\"white\",\"gridwidth\":2},\"zaxis\":{\"backgroundcolor\":\"#E5ECF6\",\"gridcolor\":\"white\",\"linecolor\":\"white\",\"showbackground\":true,\"ticks\":\"\",\"zerolinecolor\":\"white\",\"gridwidth\":2}},\"shapedefaults\":{\"line\":{\"color\":\"#2a3f5f\"}},\"annotationdefaults\":{\"arrowcolor\":\"#2a3f5f\",\"arrowhead\":0,\"arrowwidth\":1},\"geo\":{\"bgcolor\":\"white\",\"landcolor\":\"#E5ECF6\",\"subunitcolor\":\"white\",\"showland\":true,\"showlakes\":true,\"lakecolor\":\"white\"},\"title\":{\"x\":0.05},\"mapbox\":{\"style\":\"light\"}}},\"xaxis\":{\"anchor\":\"y\",\"domain\":[0.0,1.0],\"title\":{\"text\":\"Presidente\"},\"categoryorder\":\"array\",\"categoryarray\":[\"BOLSONARO\",\"DILMA\",\"TEMER\",\"LULA\"]},\"yaxis\":{\"anchor\":\"x\",\"domain\":[0.0,1.0],\"title\":{\"text\":\"Valor em Reais   *corrigidos pelo IPCA\"}},\"legend\":{\"title\":{\"text\":\"Presidente\"},\"tracegroupgap\":0},\"title\":{\"text\":\"GASTOS MED MENSAL POR GOVERNO - LANCHONETE TONY E THAIS\"},\"barmode\":\"relative\"},                        {\"responsive\": true}                    ).then(function(){\n",
       "                            \n",
       "var gd = document.getElementById('59e9f0f7-f7b1-469d-b1ef-efddf789a36e');\n",
       "var x = new MutationObserver(function (mutations, observer) {{\n",
       "        var display = window.getComputedStyle(gd).display;\n",
       "        if (!display || display === 'none') {{\n",
       "            console.log([gd, 'removed!']);\n",
       "            Plotly.purge(gd);\n",
       "            observer.disconnect();\n",
       "        }}\n",
       "}});\n",
       "\n",
       "// Listen for the removal of the full notebook cells\n",
       "var notebookContainer = gd.closest('#notebook-container');\n",
       "if (notebookContainer) {{\n",
       "    x.observe(notebookContainer, {childList: true});\n",
       "}}\n",
       "\n",
       "// Listen for the clearing of the current output cell\n",
       "var outputEl = gd.closest('.output');\n",
       "if (outputEl) {{\n",
       "    x.observe(outputEl, {childList: true});\n",
       "}}\n",
       "\n",
       "                        })                };                });            </script>        </div>"
      ]
     },
     "metadata": {},
     "output_type": "display_data"
    }
   ],
   "source": [
    "fig_gastos_medio_tonythais = px.bar(tony, x='PRES', y='GASTO MED MENSAL', color='PRES', title='GASTOS MED MENSAL POR GOVERNO - LANCHONETE TONY E THAIS',\n",
    "labels={\"GASTO MED MENSAL\": \"Valor em Reais   *corrigidos pelo IPCA\", 'PRES': \"Presidente\"})\n",
    "\n",
    "fig_gastos_medio_tonythais.show()"
   ]
  }
 ],
 "metadata": {
  "kernelspec": {
   "display_name": "base",
   "language": "python",
   "name": "python3"
  },
  "language_info": {
   "codemirror_mode": {
    "name": "ipython",
    "version": 3
   },
   "file_extension": ".py",
   "mimetype": "text/x-python",
   "name": "python",
   "nbconvert_exporter": "python",
   "pygments_lexer": "ipython3",
   "version": "3.9.7 (default, Sep 16 2021, 16:59:28) [MSC v.1916 64 bit (AMD64)]"
  },
  "vscode": {
   "interpreter": {
    "hash": "88279d2366fe020547cde40dd65aa0e3aa662a6ec1f3ca12d88834876c85e1a6"
   }
  }
 },
 "nbformat": 4,
 "nbformat_minor": 2
}
