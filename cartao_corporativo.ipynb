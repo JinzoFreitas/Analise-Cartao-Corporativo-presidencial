{
 "cells": [
  {
   "cell_type": "code",
   "execution_count": 57,
   "metadata": {},
   "outputs": [],
   "source": [
    "import pandas as pd\n",
    "\n",
    "import plotly.express as px\n",
    "\n",
    "import warnings\n",
    "\n",
    "warnings.simplefilter('ignore')"
   ]
  },
  {
   "cell_type": "code",
   "execution_count": 3,
   "metadata": {},
   "outputs": [],
   "source": [
    "gastos = pd.read_csv(\n",
    "    'https://www.gov.br/secretariageral/pt-br/acesso-a-informacao/informacoes-classificadas-e-desclassificadas/Planilha12003a2022.csv',\n",
    "    encoding='latin1', delimiter=';')"
   ]
  },
  {
   "cell_type": "code",
   "execution_count": 4,
   "metadata": {},
   "outputs": [
    {
     "data": {
      "text/html": [
       "<div>\n",
       "<style scoped>\n",
       "    .dataframe tbody tr th:only-of-type {\n",
       "        vertical-align: middle;\n",
       "    }\n",
       "\n",
       "    .dataframe tbody tr th {\n",
       "        vertical-align: top;\n",
       "    }\n",
       "\n",
       "    .dataframe thead th {\n",
       "        text-align: right;\n",
       "    }\n",
       "</style>\n",
       "<table border=\"1\" class=\"dataframe\">\n",
       "  <thead>\n",
       "    <tr style=\"text-align: right;\">\n",
       "      <th></th>\n",
       "      <th>DATA PGTO</th>\n",
       "      <th>CPF SERVIDOR</th>\n",
       "      <th>CPF/CNPJ FORNECEDOR</th>\n",
       "      <th>NOME FORNECEDOR</th>\n",
       "      <th>VALOR</th>\n",
       "      <th>TIPO</th>\n",
       "      <th>SUBELEMENTO DE DESPESA</th>\n",
       "      <th>CDIC</th>\n",
       "    </tr>\n",
       "  </thead>\n",
       "  <tbody>\n",
       "    <tr>\n",
       "      <th>0</th>\n",
       "      <td>02/01/2003</td>\n",
       "      <td>***.010.008-**</td>\n",
       "      <td>3.134920e+13</td>\n",
       "      <td>JW TRANSPORTADORA TURÖSTICA</td>\n",
       "      <td>R$ 1.696,90</td>\n",
       "      <td>D</td>\n",
       "      <td>LOCACAO DE MEIOS DE TRANSPORTE</td>\n",
       "      <td>00200.220539/2003-63.R.08.18/12/2002.31/12/2014.N</td>\n",
       "    </tr>\n",
       "    <tr>\n",
       "      <th>1</th>\n",
       "      <td>02/01/2003</td>\n",
       "      <td>***.010.008-**</td>\n",
       "      <td>3.134920e+13</td>\n",
       "      <td>JW TRANSPORTADORA TURÖSTICA</td>\n",
       "      <td>R$ 1.336,60</td>\n",
       "      <td>D</td>\n",
       "      <td>LOCACAO DE MEIOS DE TRANSPORTE</td>\n",
       "      <td>00200.220539/2003-63.R.08.18/12/2002.31/12/2014.N</td>\n",
       "    </tr>\n",
       "    <tr>\n",
       "      <th>2</th>\n",
       "      <td>02/01/2003</td>\n",
       "      <td>***.868.251-**</td>\n",
       "      <td>3.134920e+13</td>\n",
       "      <td>JW TRANSPORTADORA TURÖSTICA</td>\n",
       "      <td>R$ 1.396,43</td>\n",
       "      <td>D</td>\n",
       "      <td>LOCACAO DE MEIOS DE TRANSPORTE</td>\n",
       "      <td>00200.600539/2003-63.R.08.18/12/2002.31/12/2014.N</td>\n",
       "    </tr>\n",
       "    <tr>\n",
       "      <th>3</th>\n",
       "      <td>03/01/2003</td>\n",
       "      <td>***.004.131-**</td>\n",
       "      <td>5.927170e+11</td>\n",
       "      <td>FLORES ALVORADA</td>\n",
       "      <td>R$ 8.585,00</td>\n",
       "      <td>C</td>\n",
       "      <td>OUTROS SERVIOS DE TERCEIROS-PESSOA JURÖDICA</td>\n",
       "      <td>00200.800212/2003-91.R.08.07/12/2002.31/12/2014.N</td>\n",
       "    </tr>\n",
       "    <tr>\n",
       "      <th>4</th>\n",
       "      <td>03/01/2003</td>\n",
       "      <td>***.004.131-**</td>\n",
       "      <td>8.393080e+11</td>\n",
       "      <td>CRISTAL LIMPEZA - COMRCIO DE MATERIAIS PARA L...</td>\n",
       "      <td>R$ 251,50</td>\n",
       "      <td>C</td>\n",
       "      <td>MATERIAL DE LIMPEZA E PROD. DE HIGIENIZAÇO</td>\n",
       "      <td>00200.800212/2003-91.R.08.07/12/2002.31/12/2014.N</td>\n",
       "    </tr>\n",
       "    <tr>\n",
       "      <th>...</th>\n",
       "      <td>...</td>\n",
       "      <td>...</td>\n",
       "      <td>...</td>\n",
       "      <td>...</td>\n",
       "      <td>...</td>\n",
       "      <td>...</td>\n",
       "      <td>...</td>\n",
       "      <td>...</td>\n",
       "    </tr>\n",
       "    <tr>\n",
       "      <th>113337</th>\n",
       "      <td>04/12/2022</td>\n",
       "      <td>***.136.591-**</td>\n",
       "      <td>4.750841e+13</td>\n",
       "      <td>COMPANHIA BRASILEIRA DE DISTRIBUIÇO</td>\n",
       "      <td>518,07</td>\n",
       "      <td>C</td>\n",
       "      <td>GENEROS DE ALIMENTAÇO</td>\n",
       "      <td>00264.000642/2022-21.R.08.25/11/2022.31/12/2022.N</td>\n",
       "    </tr>\n",
       "    <tr>\n",
       "      <th>113338</th>\n",
       "      <td>04/12/2022</td>\n",
       "      <td>***.136.591-**</td>\n",
       "      <td>1.255044e+13</td>\n",
       "      <td>RESTAURANTE SOHO</td>\n",
       "      <td>330,52</td>\n",
       "      <td>C</td>\n",
       "      <td>FORNECIMENTO DE ALIMENTAÇO</td>\n",
       "      <td>00264.000642/2022-21.R.08.25/11/2022.31/12/2022.N</td>\n",
       "    </tr>\n",
       "    <tr>\n",
       "      <th>113339</th>\n",
       "      <td>04/12/2022</td>\n",
       "      <td>***.136.591-**</td>\n",
       "      <td>3.696869e+12</td>\n",
       "      <td>BIG TRANS COMERCIAL DE ALIMENTOS LTDA</td>\n",
       "      <td>54,66</td>\n",
       "      <td>C</td>\n",
       "      <td>GENEROS DE ALIMENTAÇO</td>\n",
       "      <td>00264.000642/2022-21.R.08.25/11/2022.31/12/2022.N</td>\n",
       "    </tr>\n",
       "    <tr>\n",
       "      <th>113340</th>\n",
       "      <td>Fonte: SUPRIM</td>\n",
       "      <td>NaN</td>\n",
       "      <td>NaN</td>\n",
       "      <td>NaN</td>\n",
       "      <td>NaN</td>\n",
       "      <td>NaN</td>\n",
       "      <td>NaN</td>\n",
       "      <td>NaN</td>\n",
       "    </tr>\n",
       "    <tr>\n",
       "      <th>113341</th>\n",
       "      <td>At 19/12/2022</td>\n",
       "      <td>NaN</td>\n",
       "      <td>NaN</td>\n",
       "      <td>NaN</td>\n",
       "      <td>NaN</td>\n",
       "      <td>NaN</td>\n",
       "      <td>NaN</td>\n",
       "      <td>NaN</td>\n",
       "    </tr>\n",
       "  </tbody>\n",
       "</table>\n",
       "<p>113342 rows × 8 columns</p>\n",
       "</div>"
      ],
      "text/plain": [
       "             DATA PGTO    CPF SERVIDOR  CPF/CNPJ FORNECEDOR  \\\n",
       "0           02/01/2003  ***.010.008-**         3.134920e+13   \n",
       "1           02/01/2003  ***.010.008-**         3.134920e+13   \n",
       "2           02/01/2003  ***.868.251-**         3.134920e+13   \n",
       "3           03/01/2003  ***.004.131-**         5.927170e+11   \n",
       "4           03/01/2003  ***.004.131-**         8.393080e+11   \n",
       "...                ...             ...                  ...   \n",
       "113337      04/12/2022  ***.136.591-**         4.750841e+13   \n",
       "113338      04/12/2022  ***.136.591-**         1.255044e+13   \n",
       "113339      04/12/2022  ***.136.591-**         3.696869e+12   \n",
       "113340   Fonte: SUPRIM             NaN                  NaN   \n",
       "113341  At 19/12/2022             NaN                  NaN   \n",
       "\n",
       "                                          NOME FORNECEDOR          VALOR TIPO  \\\n",
       "0                             JW TRANSPORTADORA TURÖSTICA   R$ 1.696,90     D   \n",
       "1                             JW TRANSPORTADORA TURÖSTICA   R$ 1.336,60     D   \n",
       "2                             JW TRANSPORTADORA TURÖSTICA   R$ 1.396,43     D   \n",
       "3                                         FLORES ALVORADA   R$ 8.585,00     C   \n",
       "4       CRISTAL LIMPEZA - COMRCIO DE MATERIAIS PARA L...     R$ 251,50     C   \n",
       "...                                                   ...            ...  ...   \n",
       "113337               COMPANHIA BRASILEIRA DE DISTRIBUIÇO         518,07    C   \n",
       "113338                                   RESTAURANTE SOHO         330,52    C   \n",
       "113339              BIG TRANS COMERCIAL DE ALIMENTOS LTDA          54,66    C   \n",
       "113340                                                NaN            NaN  NaN   \n",
       "113341                                                NaN            NaN  NaN   \n",
       "\n",
       "                              SUBELEMENTO DE DESPESA  \\\n",
       "0                     LOCACAO DE MEIOS DE TRANSPORTE   \n",
       "1                     LOCACAO DE MEIOS DE TRANSPORTE   \n",
       "2                     LOCACAO DE MEIOS DE TRANSPORTE   \n",
       "3       OUTROS SERVIOS DE TERCEIROS-PESSOA JURÖDICA   \n",
       "4        MATERIAL DE LIMPEZA E PROD. DE HIGIENIZAÇO   \n",
       "...                                              ...   \n",
       "113337                        GENEROS DE ALIMENTAÇO   \n",
       "113338                   FORNECIMENTO DE ALIMENTAÇO   \n",
       "113339                        GENEROS DE ALIMENTAÇO   \n",
       "113340                                           NaN   \n",
       "113341                                           NaN   \n",
       "\n",
       "                                                     CDIC  \n",
       "0       00200.220539/2003-63.R.08.18/12/2002.31/12/2014.N  \n",
       "1       00200.220539/2003-63.R.08.18/12/2002.31/12/2014.N  \n",
       "2       00200.600539/2003-63.R.08.18/12/2002.31/12/2014.N  \n",
       "3       00200.800212/2003-91.R.08.07/12/2002.31/12/2014.N  \n",
       "4       00200.800212/2003-91.R.08.07/12/2002.31/12/2014.N  \n",
       "...                                                   ...  \n",
       "113337  00264.000642/2022-21.R.08.25/11/2022.31/12/2022.N  \n",
       "113338  00264.000642/2022-21.R.08.25/11/2022.31/12/2022.N  \n",
       "113339  00264.000642/2022-21.R.08.25/11/2022.31/12/2022.N  \n",
       "113340                                                NaN  \n",
       "113341                                                NaN  \n",
       "\n",
       "[113342 rows x 8 columns]"
      ]
     },
     "execution_count": 4,
     "metadata": {},
     "output_type": "execute_result"
    }
   ],
   "source": [
    "gastos_processed = gastos.copy()\n",
    "gastos_processed"
   ]
  },
  {
   "cell_type": "code",
   "execution_count": 5,
   "metadata": {},
   "outputs": [
    {
     "name": "stderr",
     "output_type": "stream",
     "text": [
      "/tmp/ipykernel_8535/4023865649.py:1: FutureWarning: In a future version, `df.iloc[:, i] = newvals` will attempt to set the values inplace instead of always setting a new array. To retain the old behavior, use either `df[df.columns[i]] = newvals` or, if columns are non-unique, `df.isetitem(i, newvals)`\n",
      "  gastos_processed.loc[:, 'DATA PGTO'] = pd.to_datetime(gastos_processed['DATA PGTO'], errors='coerce', format=\"%d/%m/%Y\")\n",
      "/tmp/ipykernel_8535/4023865649.py:8: FutureWarning: The default value of regex will change from True to False in a future version.\n",
      "  gastos_processed.loc[:, 'VALOR_NUM'] = pd.to_numeric(gastos_processed['VALOR'].str.replace(\n",
      "/tmp/ipykernel_8535/4023865649.py:8: FutureWarning: The default value of regex will change from True to False in a future version. In addition, single character regular expressions will *not* be treated as literal strings when regex=True.\n",
      "  gastos_processed.loc[:, 'VALOR_NUM'] = pd.to_numeric(gastos_processed['VALOR'].str.replace(\n",
      "/tmp/ipykernel_8535/4023865649.py:8: SettingWithCopyWarning: \n",
      "A value is trying to be set on a copy of a slice from a DataFrame.\n",
      "Try using .loc[row_indexer,col_indexer] = value instead\n",
      "\n",
      "See the caveats in the documentation: https://pandas.pydata.org/pandas-docs/stable/user_guide/indexing.html#returning-a-view-versus-a-copy\n",
      "  gastos_processed.loc[:, 'VALOR_NUM'] = pd.to_numeric(gastos_processed['VALOR'].str.replace(\n"
     ]
    },
    {
     "data": {
      "text/html": [
       "<div>\n",
       "<style scoped>\n",
       "    .dataframe tbody tr th:only-of-type {\n",
       "        vertical-align: middle;\n",
       "    }\n",
       "\n",
       "    .dataframe tbody tr th {\n",
       "        vertical-align: top;\n",
       "    }\n",
       "\n",
       "    .dataframe thead th {\n",
       "        text-align: right;\n",
       "    }\n",
       "</style>\n",
       "<table border=\"1\" class=\"dataframe\">\n",
       "  <thead>\n",
       "    <tr style=\"text-align: right;\">\n",
       "      <th></th>\n",
       "      <th>DATA PGTO</th>\n",
       "      <th>CPF SERVIDOR</th>\n",
       "      <th>CPF/CNPJ FORNECEDOR</th>\n",
       "      <th>NOME FORNECEDOR</th>\n",
       "      <th>VALOR</th>\n",
       "      <th>TIPO</th>\n",
       "      <th>SUBELEMENTO DE DESPESA</th>\n",
       "      <th>CDIC</th>\n",
       "      <th>ANO</th>\n",
       "      <th>VALOR_NUM</th>\n",
       "    </tr>\n",
       "  </thead>\n",
       "  <tbody>\n",
       "    <tr>\n",
       "      <th>0</th>\n",
       "      <td>2003-01-02</td>\n",
       "      <td>***.010.008-**</td>\n",
       "      <td>3.134920e+13</td>\n",
       "      <td>JW TRANSPORTADORA TURÖSTICA</td>\n",
       "      <td>R$ 1.696,90</td>\n",
       "      <td>D</td>\n",
       "      <td>LOCACAO DE MEIOS DE TRANSPORTE</td>\n",
       "      <td>00200.220539/2003-63.R.08.18/12/2002.31/12/2014.N</td>\n",
       "      <td>2003.0</td>\n",
       "      <td>1696.90</td>\n",
       "    </tr>\n",
       "    <tr>\n",
       "      <th>1</th>\n",
       "      <td>2003-01-02</td>\n",
       "      <td>***.010.008-**</td>\n",
       "      <td>3.134920e+13</td>\n",
       "      <td>JW TRANSPORTADORA TURÖSTICA</td>\n",
       "      <td>R$ 1.336,60</td>\n",
       "      <td>D</td>\n",
       "      <td>LOCACAO DE MEIOS DE TRANSPORTE</td>\n",
       "      <td>00200.220539/2003-63.R.08.18/12/2002.31/12/2014.N</td>\n",
       "      <td>2003.0</td>\n",
       "      <td>1336.60</td>\n",
       "    </tr>\n",
       "    <tr>\n",
       "      <th>2</th>\n",
       "      <td>2003-01-02</td>\n",
       "      <td>***.868.251-**</td>\n",
       "      <td>3.134920e+13</td>\n",
       "      <td>JW TRANSPORTADORA TURÖSTICA</td>\n",
       "      <td>R$ 1.396,43</td>\n",
       "      <td>D</td>\n",
       "      <td>LOCACAO DE MEIOS DE TRANSPORTE</td>\n",
       "      <td>00200.600539/2003-63.R.08.18/12/2002.31/12/2014.N</td>\n",
       "      <td>2003.0</td>\n",
       "      <td>1396.43</td>\n",
       "    </tr>\n",
       "    <tr>\n",
       "      <th>3</th>\n",
       "      <td>2003-01-03</td>\n",
       "      <td>***.004.131-**</td>\n",
       "      <td>5.927170e+11</td>\n",
       "      <td>FLORES ALVORADA</td>\n",
       "      <td>R$ 8.585,00</td>\n",
       "      <td>C</td>\n",
       "      <td>OUTROS SERVIOS DE TERCEIROS-PESSOA JURÖDICA</td>\n",
       "      <td>00200.800212/2003-91.R.08.07/12/2002.31/12/2014.N</td>\n",
       "      <td>2003.0</td>\n",
       "      <td>8585.00</td>\n",
       "    </tr>\n",
       "    <tr>\n",
       "      <th>4</th>\n",
       "      <td>2003-01-03</td>\n",
       "      <td>***.004.131-**</td>\n",
       "      <td>8.393080e+11</td>\n",
       "      <td>CRISTAL LIMPEZA - COMRCIO DE MATERIAIS PARA L...</td>\n",
       "      <td>R$ 251,50</td>\n",
       "      <td>C</td>\n",
       "      <td>MATERIAL DE LIMPEZA E PROD. DE HIGIENIZAÇO</td>\n",
       "      <td>00200.800212/2003-91.R.08.07/12/2002.31/12/2014.N</td>\n",
       "      <td>2003.0</td>\n",
       "      <td>251.50</td>\n",
       "    </tr>\n",
       "    <tr>\n",
       "      <th>...</th>\n",
       "      <td>...</td>\n",
       "      <td>...</td>\n",
       "      <td>...</td>\n",
       "      <td>...</td>\n",
       "      <td>...</td>\n",
       "      <td>...</td>\n",
       "      <td>...</td>\n",
       "      <td>...</td>\n",
       "      <td>...</td>\n",
       "      <td>...</td>\n",
       "    </tr>\n",
       "    <tr>\n",
       "      <th>113335</th>\n",
       "      <td>2022-12-03</td>\n",
       "      <td>***.136.591-**</td>\n",
       "      <td>1.726166e+13</td>\n",
       "      <td>OUTBACK STEAKHOUSE RESTAURANTES BRASIL S/A</td>\n",
       "      <td>179,5</td>\n",
       "      <td>C</td>\n",
       "      <td>FORNECIMENTO DE ALIMENTAÇO</td>\n",
       "      <td>00264.000642/2022-21.R.08.25/11/2022.31/12/2022.N</td>\n",
       "      <td>2022.0</td>\n",
       "      <td>179.50</td>\n",
       "    </tr>\n",
       "    <tr>\n",
       "      <th>113336</th>\n",
       "      <td>2022-12-03</td>\n",
       "      <td>***.136.591-**</td>\n",
       "      <td>3.987994e+13</td>\n",
       "      <td>BIOMUNDO 105 NORTE COMERCIO DE ALIMENTOS</td>\n",
       "      <td>54,95</td>\n",
       "      <td>C</td>\n",
       "      <td>GENEROS DE ALIMENTAÇO</td>\n",
       "      <td>00264.000642/2022-21.R.08.25/11/2022.31/12/2022.N</td>\n",
       "      <td>2022.0</td>\n",
       "      <td>54.95</td>\n",
       "    </tr>\n",
       "    <tr>\n",
       "      <th>113337</th>\n",
       "      <td>2022-12-04</td>\n",
       "      <td>***.136.591-**</td>\n",
       "      <td>4.750841e+13</td>\n",
       "      <td>COMPANHIA BRASILEIRA DE DISTRIBUIÇO</td>\n",
       "      <td>518,07</td>\n",
       "      <td>C</td>\n",
       "      <td>GENEROS DE ALIMENTAÇO</td>\n",
       "      <td>00264.000642/2022-21.R.08.25/11/2022.31/12/2022.N</td>\n",
       "      <td>2022.0</td>\n",
       "      <td>518.07</td>\n",
       "    </tr>\n",
       "    <tr>\n",
       "      <th>113338</th>\n",
       "      <td>2022-12-04</td>\n",
       "      <td>***.136.591-**</td>\n",
       "      <td>1.255044e+13</td>\n",
       "      <td>RESTAURANTE SOHO</td>\n",
       "      <td>330,52</td>\n",
       "      <td>C</td>\n",
       "      <td>FORNECIMENTO DE ALIMENTAÇO</td>\n",
       "      <td>00264.000642/2022-21.R.08.25/11/2022.31/12/2022.N</td>\n",
       "      <td>2022.0</td>\n",
       "      <td>330.52</td>\n",
       "    </tr>\n",
       "    <tr>\n",
       "      <th>113339</th>\n",
       "      <td>2022-12-04</td>\n",
       "      <td>***.136.591-**</td>\n",
       "      <td>3.696869e+12</td>\n",
       "      <td>BIG TRANS COMERCIAL DE ALIMENTOS LTDA</td>\n",
       "      <td>54,66</td>\n",
       "      <td>C</td>\n",
       "      <td>GENEROS DE ALIMENTAÇO</td>\n",
       "      <td>00264.000642/2022-21.R.08.25/11/2022.31/12/2022.N</td>\n",
       "      <td>2022.0</td>\n",
       "      <td>54.66</td>\n",
       "    </tr>\n",
       "  </tbody>\n",
       "</table>\n",
       "<p>113324 rows × 10 columns</p>\n",
       "</div>"
      ],
      "text/plain": [
       "        DATA PGTO    CPF SERVIDOR  CPF/CNPJ FORNECEDOR  \\\n",
       "0      2003-01-02  ***.010.008-**         3.134920e+13   \n",
       "1      2003-01-02  ***.010.008-**         3.134920e+13   \n",
       "2      2003-01-02  ***.868.251-**         3.134920e+13   \n",
       "3      2003-01-03  ***.004.131-**         5.927170e+11   \n",
       "4      2003-01-03  ***.004.131-**         8.393080e+11   \n",
       "...           ...             ...                  ...   \n",
       "113335 2022-12-03  ***.136.591-**         1.726166e+13   \n",
       "113336 2022-12-03  ***.136.591-**         3.987994e+13   \n",
       "113337 2022-12-04  ***.136.591-**         4.750841e+13   \n",
       "113338 2022-12-04  ***.136.591-**         1.255044e+13   \n",
       "113339 2022-12-04  ***.136.591-**         3.696869e+12   \n",
       "\n",
       "                                          NOME FORNECEDOR          VALOR TIPO  \\\n",
       "0                             JW TRANSPORTADORA TURÖSTICA   R$ 1.696,90     D   \n",
       "1                             JW TRANSPORTADORA TURÖSTICA   R$ 1.336,60     D   \n",
       "2                             JW TRANSPORTADORA TURÖSTICA   R$ 1.396,43     D   \n",
       "3                                         FLORES ALVORADA   R$ 8.585,00     C   \n",
       "4       CRISTAL LIMPEZA - COMRCIO DE MATERIAIS PARA L...     R$ 251,50     C   \n",
       "...                                                   ...            ...  ...   \n",
       "113335         OUTBACK STEAKHOUSE RESTAURANTES BRASIL S/A          179,5    C   \n",
       "113336           BIOMUNDO 105 NORTE COMERCIO DE ALIMENTOS          54,95    C   \n",
       "113337               COMPANHIA BRASILEIRA DE DISTRIBUIÇO         518,07    C   \n",
       "113338                                   RESTAURANTE SOHO         330,52    C   \n",
       "113339              BIG TRANS COMERCIAL DE ALIMENTOS LTDA          54,66    C   \n",
       "\n",
       "                              SUBELEMENTO DE DESPESA  \\\n",
       "0                     LOCACAO DE MEIOS DE TRANSPORTE   \n",
       "1                     LOCACAO DE MEIOS DE TRANSPORTE   \n",
       "2                     LOCACAO DE MEIOS DE TRANSPORTE   \n",
       "3       OUTROS SERVIOS DE TERCEIROS-PESSOA JURÖDICA   \n",
       "4        MATERIAL DE LIMPEZA E PROD. DE HIGIENIZAÇO   \n",
       "...                                              ...   \n",
       "113335                   FORNECIMENTO DE ALIMENTAÇO   \n",
       "113336                        GENEROS DE ALIMENTAÇO   \n",
       "113337                        GENEROS DE ALIMENTAÇO   \n",
       "113338                   FORNECIMENTO DE ALIMENTAÇO   \n",
       "113339                        GENEROS DE ALIMENTAÇO   \n",
       "\n",
       "                                                     CDIC     ANO  VALOR_NUM  \n",
       "0       00200.220539/2003-63.R.08.18/12/2002.31/12/2014.N  2003.0    1696.90  \n",
       "1       00200.220539/2003-63.R.08.18/12/2002.31/12/2014.N  2003.0    1336.60  \n",
       "2       00200.600539/2003-63.R.08.18/12/2002.31/12/2014.N  2003.0    1396.43  \n",
       "3       00200.800212/2003-91.R.08.07/12/2002.31/12/2014.N  2003.0    8585.00  \n",
       "4       00200.800212/2003-91.R.08.07/12/2002.31/12/2014.N  2003.0     251.50  \n",
       "...                                                   ...     ...        ...  \n",
       "113335  00264.000642/2022-21.R.08.25/11/2022.31/12/2022.N  2022.0     179.50  \n",
       "113336  00264.000642/2022-21.R.08.25/11/2022.31/12/2022.N  2022.0      54.95  \n",
       "113337  00264.000642/2022-21.R.08.25/11/2022.31/12/2022.N  2022.0     518.07  \n",
       "113338  00264.000642/2022-21.R.08.25/11/2022.31/12/2022.N  2022.0     330.52  \n",
       "113339  00264.000642/2022-21.R.08.25/11/2022.31/12/2022.N  2022.0      54.66  \n",
       "\n",
       "[113324 rows x 10 columns]"
      ]
     },
     "execution_count": 5,
     "metadata": {},
     "output_type": "execute_result"
    }
   ],
   "source": [
    "gastos_processed.loc[:, 'DATA PGTO'] = pd.to_datetime(gastos_processed['DATA PGTO'], errors='coerce', format=\"%d/%m/%Y\")\n",
    "\n",
    "gastos_processed.loc[:, 'ANO'] = gastos_processed['DATA PGTO'].dt.year\n",
    "\n",
    "\n",
    "gastos_processed = gastos_processed.dropna(axis=0, subset=['CPF SERVIDOR'])\n",
    "\n",
    "gastos_processed.loc[:, 'VALOR_NUM'] = pd.to_numeric(gastos_processed['VALOR'].str.replace(\n",
    "    r'R\\$', '').str.replace(\".\", '').str.replace(',', '.').str.strip(), errors='coerce')\n",
    "\n",
    "gastos_processed = gastos_processed.dropna(subset=['VALOR_NUM'])\n",
    "\n",
    "gastos_processed"
   ]
  },
  {
   "cell_type": "code",
   "execution_count": 6,
   "metadata": {},
   "outputs": [
    {
     "data": {
      "text/html": [
       "<div>\n",
       "<style scoped>\n",
       "    .dataframe tbody tr th:only-of-type {\n",
       "        vertical-align: middle;\n",
       "    }\n",
       "\n",
       "    .dataframe tbody tr th {\n",
       "        vertical-align: top;\n",
       "    }\n",
       "\n",
       "    .dataframe thead th {\n",
       "        text-align: right;\n",
       "    }\n",
       "</style>\n",
       "<table border=\"1\" class=\"dataframe\">\n",
       "  <thead>\n",
       "    <tr style=\"text-align: right;\">\n",
       "      <th></th>\n",
       "      <th>DATA PGTO</th>\n",
       "      <th>CPF SERVIDOR</th>\n",
       "      <th>CPF/CNPJ FORNECEDOR</th>\n",
       "      <th>NOME FORNECEDOR</th>\n",
       "      <th>VALOR</th>\n",
       "      <th>TIPO</th>\n",
       "      <th>SUBELEMENTO DE DESPESA</th>\n",
       "      <th>CDIC</th>\n",
       "      <th>ANO</th>\n",
       "      <th>VALOR_NUM</th>\n",
       "      <th>PRES</th>\n",
       "    </tr>\n",
       "  </thead>\n",
       "  <tbody>\n",
       "    <tr>\n",
       "      <th>0</th>\n",
       "      <td>2003-01-02</td>\n",
       "      <td>***.010.008-**</td>\n",
       "      <td>3.134920e+13</td>\n",
       "      <td>JW TRANSPORTADORA TURÖSTICA</td>\n",
       "      <td>R$ 1.696,90</td>\n",
       "      <td>D</td>\n",
       "      <td>LOCACAO DE MEIOS DE TRANSPORTE</td>\n",
       "      <td>00200.220539/2003-63.R.08.18/12/2002.31/12/2014.N</td>\n",
       "      <td>2003.0</td>\n",
       "      <td>1696.90</td>\n",
       "      <td>LULA</td>\n",
       "    </tr>\n",
       "    <tr>\n",
       "      <th>1</th>\n",
       "      <td>2003-01-02</td>\n",
       "      <td>***.010.008-**</td>\n",
       "      <td>3.134920e+13</td>\n",
       "      <td>JW TRANSPORTADORA TURÖSTICA</td>\n",
       "      <td>R$ 1.336,60</td>\n",
       "      <td>D</td>\n",
       "      <td>LOCACAO DE MEIOS DE TRANSPORTE</td>\n",
       "      <td>00200.220539/2003-63.R.08.18/12/2002.31/12/2014.N</td>\n",
       "      <td>2003.0</td>\n",
       "      <td>1336.60</td>\n",
       "      <td>LULA</td>\n",
       "    </tr>\n",
       "    <tr>\n",
       "      <th>2</th>\n",
       "      <td>2003-01-02</td>\n",
       "      <td>***.868.251-**</td>\n",
       "      <td>3.134920e+13</td>\n",
       "      <td>JW TRANSPORTADORA TURÖSTICA</td>\n",
       "      <td>R$ 1.396,43</td>\n",
       "      <td>D</td>\n",
       "      <td>LOCACAO DE MEIOS DE TRANSPORTE</td>\n",
       "      <td>00200.600539/2003-63.R.08.18/12/2002.31/12/2014.N</td>\n",
       "      <td>2003.0</td>\n",
       "      <td>1396.43</td>\n",
       "      <td>LULA</td>\n",
       "    </tr>\n",
       "    <tr>\n",
       "      <th>3</th>\n",
       "      <td>2003-01-03</td>\n",
       "      <td>***.004.131-**</td>\n",
       "      <td>5.927170e+11</td>\n",
       "      <td>FLORES ALVORADA</td>\n",
       "      <td>R$ 8.585,00</td>\n",
       "      <td>C</td>\n",
       "      <td>OUTROS SERVIOS DE TERCEIROS-PESSOA JURÖDICA</td>\n",
       "      <td>00200.800212/2003-91.R.08.07/12/2002.31/12/2014.N</td>\n",
       "      <td>2003.0</td>\n",
       "      <td>8585.00</td>\n",
       "      <td>LULA</td>\n",
       "    </tr>\n",
       "    <tr>\n",
       "      <th>4</th>\n",
       "      <td>2003-01-03</td>\n",
       "      <td>***.004.131-**</td>\n",
       "      <td>8.393080e+11</td>\n",
       "      <td>CRISTAL LIMPEZA - COMRCIO DE MATERIAIS PARA L...</td>\n",
       "      <td>R$ 251,50</td>\n",
       "      <td>C</td>\n",
       "      <td>MATERIAL DE LIMPEZA E PROD. DE HIGIENIZAÇO</td>\n",
       "      <td>00200.800212/2003-91.R.08.07/12/2002.31/12/2014.N</td>\n",
       "      <td>2003.0</td>\n",
       "      <td>251.50</td>\n",
       "      <td>LULA</td>\n",
       "    </tr>\n",
       "    <tr>\n",
       "      <th>...</th>\n",
       "      <td>...</td>\n",
       "      <td>...</td>\n",
       "      <td>...</td>\n",
       "      <td>...</td>\n",
       "      <td>...</td>\n",
       "      <td>...</td>\n",
       "      <td>...</td>\n",
       "      <td>...</td>\n",
       "      <td>...</td>\n",
       "      <td>...</td>\n",
       "      <td>...</td>\n",
       "    </tr>\n",
       "    <tr>\n",
       "      <th>113335</th>\n",
       "      <td>2022-12-03</td>\n",
       "      <td>***.136.591-**</td>\n",
       "      <td>1.726166e+13</td>\n",
       "      <td>OUTBACK STEAKHOUSE RESTAURANTES BRASIL S/A</td>\n",
       "      <td>179,5</td>\n",
       "      <td>C</td>\n",
       "      <td>FORNECIMENTO DE ALIMENTAÇO</td>\n",
       "      <td>00264.000642/2022-21.R.08.25/11/2022.31/12/2022.N</td>\n",
       "      <td>2022.0</td>\n",
       "      <td>179.50</td>\n",
       "      <td>BOLSONARO</td>\n",
       "    </tr>\n",
       "    <tr>\n",
       "      <th>113336</th>\n",
       "      <td>2022-12-03</td>\n",
       "      <td>***.136.591-**</td>\n",
       "      <td>3.987994e+13</td>\n",
       "      <td>BIOMUNDO 105 NORTE COMERCIO DE ALIMENTOS</td>\n",
       "      <td>54,95</td>\n",
       "      <td>C</td>\n",
       "      <td>GENEROS DE ALIMENTAÇO</td>\n",
       "      <td>00264.000642/2022-21.R.08.25/11/2022.31/12/2022.N</td>\n",
       "      <td>2022.0</td>\n",
       "      <td>54.95</td>\n",
       "      <td>BOLSONARO</td>\n",
       "    </tr>\n",
       "    <tr>\n",
       "      <th>113337</th>\n",
       "      <td>2022-12-04</td>\n",
       "      <td>***.136.591-**</td>\n",
       "      <td>4.750841e+13</td>\n",
       "      <td>COMPANHIA BRASILEIRA DE DISTRIBUIÇO</td>\n",
       "      <td>518,07</td>\n",
       "      <td>C</td>\n",
       "      <td>GENEROS DE ALIMENTAÇO</td>\n",
       "      <td>00264.000642/2022-21.R.08.25/11/2022.31/12/2022.N</td>\n",
       "      <td>2022.0</td>\n",
       "      <td>518.07</td>\n",
       "      <td>BOLSONARO</td>\n",
       "    </tr>\n",
       "    <tr>\n",
       "      <th>113338</th>\n",
       "      <td>2022-12-04</td>\n",
       "      <td>***.136.591-**</td>\n",
       "      <td>1.255044e+13</td>\n",
       "      <td>RESTAURANTE SOHO</td>\n",
       "      <td>330,52</td>\n",
       "      <td>C</td>\n",
       "      <td>FORNECIMENTO DE ALIMENTAÇO</td>\n",
       "      <td>00264.000642/2022-21.R.08.25/11/2022.31/12/2022.N</td>\n",
       "      <td>2022.0</td>\n",
       "      <td>330.52</td>\n",
       "      <td>BOLSONARO</td>\n",
       "    </tr>\n",
       "    <tr>\n",
       "      <th>113339</th>\n",
       "      <td>2022-12-04</td>\n",
       "      <td>***.136.591-**</td>\n",
       "      <td>3.696869e+12</td>\n",
       "      <td>BIG TRANS COMERCIAL DE ALIMENTOS LTDA</td>\n",
       "      <td>54,66</td>\n",
       "      <td>C</td>\n",
       "      <td>GENEROS DE ALIMENTAÇO</td>\n",
       "      <td>00264.000642/2022-21.R.08.25/11/2022.31/12/2022.N</td>\n",
       "      <td>2022.0</td>\n",
       "      <td>54.66</td>\n",
       "      <td>BOLSONARO</td>\n",
       "    </tr>\n",
       "  </tbody>\n",
       "</table>\n",
       "<p>113324 rows × 11 columns</p>\n",
       "</div>"
      ],
      "text/plain": [
       "        DATA PGTO    CPF SERVIDOR  CPF/CNPJ FORNECEDOR  \\\n",
       "0      2003-01-02  ***.010.008-**         3.134920e+13   \n",
       "1      2003-01-02  ***.010.008-**         3.134920e+13   \n",
       "2      2003-01-02  ***.868.251-**         3.134920e+13   \n",
       "3      2003-01-03  ***.004.131-**         5.927170e+11   \n",
       "4      2003-01-03  ***.004.131-**         8.393080e+11   \n",
       "...           ...             ...                  ...   \n",
       "113335 2022-12-03  ***.136.591-**         1.726166e+13   \n",
       "113336 2022-12-03  ***.136.591-**         3.987994e+13   \n",
       "113337 2022-12-04  ***.136.591-**         4.750841e+13   \n",
       "113338 2022-12-04  ***.136.591-**         1.255044e+13   \n",
       "113339 2022-12-04  ***.136.591-**         3.696869e+12   \n",
       "\n",
       "                                          NOME FORNECEDOR          VALOR TIPO  \\\n",
       "0                             JW TRANSPORTADORA TURÖSTICA   R$ 1.696,90     D   \n",
       "1                             JW TRANSPORTADORA TURÖSTICA   R$ 1.336,60     D   \n",
       "2                             JW TRANSPORTADORA TURÖSTICA   R$ 1.396,43     D   \n",
       "3                                         FLORES ALVORADA   R$ 8.585,00     C   \n",
       "4       CRISTAL LIMPEZA - COMRCIO DE MATERIAIS PARA L...     R$ 251,50     C   \n",
       "...                                                   ...            ...  ...   \n",
       "113335         OUTBACK STEAKHOUSE RESTAURANTES BRASIL S/A          179,5    C   \n",
       "113336           BIOMUNDO 105 NORTE COMERCIO DE ALIMENTOS          54,95    C   \n",
       "113337               COMPANHIA BRASILEIRA DE DISTRIBUIÇO         518,07    C   \n",
       "113338                                   RESTAURANTE SOHO         330,52    C   \n",
       "113339              BIG TRANS COMERCIAL DE ALIMENTOS LTDA          54,66    C   \n",
       "\n",
       "                              SUBELEMENTO DE DESPESA  \\\n",
       "0                     LOCACAO DE MEIOS DE TRANSPORTE   \n",
       "1                     LOCACAO DE MEIOS DE TRANSPORTE   \n",
       "2                     LOCACAO DE MEIOS DE TRANSPORTE   \n",
       "3       OUTROS SERVIOS DE TERCEIROS-PESSOA JURÖDICA   \n",
       "4        MATERIAL DE LIMPEZA E PROD. DE HIGIENIZAÇO   \n",
       "...                                              ...   \n",
       "113335                   FORNECIMENTO DE ALIMENTAÇO   \n",
       "113336                        GENEROS DE ALIMENTAÇO   \n",
       "113337                        GENEROS DE ALIMENTAÇO   \n",
       "113338                   FORNECIMENTO DE ALIMENTAÇO   \n",
       "113339                        GENEROS DE ALIMENTAÇO   \n",
       "\n",
       "                                                     CDIC     ANO  VALOR_NUM  \\\n",
       "0       00200.220539/2003-63.R.08.18/12/2002.31/12/2014.N  2003.0    1696.90   \n",
       "1       00200.220539/2003-63.R.08.18/12/2002.31/12/2014.N  2003.0    1336.60   \n",
       "2       00200.600539/2003-63.R.08.18/12/2002.31/12/2014.N  2003.0    1396.43   \n",
       "3       00200.800212/2003-91.R.08.07/12/2002.31/12/2014.N  2003.0    8585.00   \n",
       "4       00200.800212/2003-91.R.08.07/12/2002.31/12/2014.N  2003.0     251.50   \n",
       "...                                                   ...     ...        ...   \n",
       "113335  00264.000642/2022-21.R.08.25/11/2022.31/12/2022.N  2022.0     179.50   \n",
       "113336  00264.000642/2022-21.R.08.25/11/2022.31/12/2022.N  2022.0      54.95   \n",
       "113337  00264.000642/2022-21.R.08.25/11/2022.31/12/2022.N  2022.0     518.07   \n",
       "113338  00264.000642/2022-21.R.08.25/11/2022.31/12/2022.N  2022.0     330.52   \n",
       "113339  00264.000642/2022-21.R.08.25/11/2022.31/12/2022.N  2022.0      54.66   \n",
       "\n",
       "             PRES  \n",
       "0            LULA  \n",
       "1            LULA  \n",
       "2            LULA  \n",
       "3            LULA  \n",
       "4            LULA  \n",
       "...           ...  \n",
       "113335  BOLSONARO  \n",
       "113336  BOLSONARO  \n",
       "113337  BOLSONARO  \n",
       "113338  BOLSONARO  \n",
       "113339  BOLSONARO  \n",
       "\n",
       "[113324 rows x 11 columns]"
      ]
     },
     "execution_count": 6,
     "metadata": {},
     "output_type": "execute_result"
    }
   ],
   "source": [
    "def presidente(ano):\n",
    "\n",
    "    if ano <= 2010:\n",
    "        return 'LULA'\n",
    "    elif ano <= 2016:\n",
    "        return 'DILMA'\n",
    "    elif ano <= 2018:\n",
    "        return \"TEMER\"\n",
    "    elif ano <= 2022:\n",
    "        return \"BOLSONARO\"\n",
    "\n",
    "\n",
    "gastos_processed['PRES'] = gastos_processed['ANO'].apply(presidente)\n",
    "gastos_processed"
   ]
  },
  {
   "cell_type": "code",
   "execution_count": 9,
   "metadata": {},
   "outputs": [
    {
     "data": {
      "text/html": [
       "<div>\n",
       "<style scoped>\n",
       "    .dataframe tbody tr th:only-of-type {\n",
       "        vertical-align: middle;\n",
       "    }\n",
       "\n",
       "    .dataframe tbody tr th {\n",
       "        vertical-align: top;\n",
       "    }\n",
       "\n",
       "    .dataframe thead th {\n",
       "        text-align: right;\n",
       "    }\n",
       "</style>\n",
       "<table border=\"1\" class=\"dataframe\">\n",
       "  <thead>\n",
       "    <tr style=\"text-align: right;\">\n",
       "      <th></th>\n",
       "      <th>DATA PGTO</th>\n",
       "      <th>CPF SERVIDOR</th>\n",
       "      <th>CPF/CNPJ FORNECEDOR</th>\n",
       "      <th>NOME FORNECEDOR</th>\n",
       "      <th>VALOR</th>\n",
       "      <th>TIPO</th>\n",
       "      <th>SUBELEMENTO DE DESPESA</th>\n",
       "      <th>CDIC</th>\n",
       "      <th>ANO</th>\n",
       "      <th>VALOR_NUM</th>\n",
       "      <th>PRES</th>\n",
       "    </tr>\n",
       "  </thead>\n",
       "  <tbody>\n",
       "    <tr>\n",
       "      <th>0</th>\n",
       "      <td>2003-01-02</td>\n",
       "      <td>***.010.008-**</td>\n",
       "      <td>3.134920e+13</td>\n",
       "      <td>JW TRANSPORTADORA TURÖSTICA</td>\n",
       "      <td>R$ 1.696,90</td>\n",
       "      <td>D</td>\n",
       "      <td>LOCACAO DE MEIOS DE TRANSPORTE</td>\n",
       "      <td>00200.220539/2003-63.R.08.18/12/2002.31/12/2014.N</td>\n",
       "      <td>2003.0</td>\n",
       "      <td>1696.90</td>\n",
       "      <td>LULA</td>\n",
       "    </tr>\n",
       "    <tr>\n",
       "      <th>3250</th>\n",
       "      <td>2003-08-22</td>\n",
       "      <td>***.004.131-**</td>\n",
       "      <td>4.750841e+13</td>\n",
       "      <td>COMPANHIA BRASILEIRA DE DISTRIBUÖÇO - EXTRA</td>\n",
       "      <td>R$ 29,54</td>\n",
       "      <td>C</td>\n",
       "      <td>MATERIAL ELETRICO E ELETRONICO</td>\n",
       "      <td>00200.803806/2003-54.R.08.20/08/2003.31/12/2014.N</td>\n",
       "      <td>2003.0</td>\n",
       "      <td>29.54</td>\n",
       "      <td>LULA</td>\n",
       "    </tr>\n",
       "    <tr>\n",
       "      <th>3249</th>\n",
       "      <td>2003-08-22</td>\n",
       "      <td>***.004.131-**</td>\n",
       "      <td>4.750841e+13</td>\n",
       "      <td>COMPANHIA BRASILEIRA DE DISTRIBUÖÇO - EXTRA</td>\n",
       "      <td>R$ 120,00</td>\n",
       "      <td>C</td>\n",
       "      <td>GENEROS DE ALIMENTAÇO</td>\n",
       "      <td>00200.803806/2003-54.R.08.20/08/2003.31/12/2014.N</td>\n",
       "      <td>2003.0</td>\n",
       "      <td>120.00</td>\n",
       "      <td>LULA</td>\n",
       "    </tr>\n",
       "    <tr>\n",
       "      <th>3248</th>\n",
       "      <td>2003-08-22</td>\n",
       "      <td>***.765.178-**</td>\n",
       "      <td>4.328381e+13</td>\n",
       "      <td>KALUNGA COM E IND. GRµFICA LTDA.</td>\n",
       "      <td>R$ 25,99</td>\n",
       "      <td>C</td>\n",
       "      <td>MATERIAL DE EXPEDIENTE</td>\n",
       "      <td>00200.003808/2003-43.R.08.20/08/2003.31/12/2014.N</td>\n",
       "      <td>2003.0</td>\n",
       "      <td>25.99</td>\n",
       "      <td>LULA</td>\n",
       "    </tr>\n",
       "    <tr>\n",
       "      <th>3247</th>\n",
       "      <td>2003-08-22</td>\n",
       "      <td>***.570.341-**</td>\n",
       "      <td>6.241388e+13</td>\n",
       "      <td>MELIµ BRASIL ADM. HOTELEIRA COMERCIAL LTDA</td>\n",
       "      <td>R$ 583,25</td>\n",
       "      <td>D</td>\n",
       "      <td>HOSPEDAGENS</td>\n",
       "      <td>00200.203803/2003-11.R.08.18/08/2003.31/12/2014.N</td>\n",
       "      <td>2003.0</td>\n",
       "      <td>583.25</td>\n",
       "      <td>LULA</td>\n",
       "    </tr>\n",
       "    <tr>\n",
       "      <th>...</th>\n",
       "      <td>...</td>\n",
       "      <td>...</td>\n",
       "      <td>...</td>\n",
       "      <td>...</td>\n",
       "      <td>...</td>\n",
       "      <td>...</td>\n",
       "      <td>...</td>\n",
       "      <td>...</td>\n",
       "      <td>...</td>\n",
       "      <td>...</td>\n",
       "      <td>...</td>\n",
       "    </tr>\n",
       "    <tr>\n",
       "      <th>111315</th>\n",
       "      <td>2022-04-21</td>\n",
       "      <td>***.357.911-**</td>\n",
       "      <td>4.453855e+13</td>\n",
       "      <td>BEIRA MAR COMERCIO DE COMBUSTIVEIS E LUBRIFICA...</td>\n",
       "      <td>86,63</td>\n",
       "      <td>C</td>\n",
       "      <td>COMBUSTIVEIS E LUBRIF. AUTOMOTIVOS</td>\n",
       "      <td>00150.000221/2022-88.R.08.23/03/2022.31/12/2022.N</td>\n",
       "      <td>2022.0</td>\n",
       "      <td>86.63</td>\n",
       "      <td>BOLSONARO</td>\n",
       "    </tr>\n",
       "    <tr>\n",
       "      <th>111316</th>\n",
       "      <td>2022-04-21</td>\n",
       "      <td>***.357.911-**</td>\n",
       "      <td>4.453855e+13</td>\n",
       "      <td>BEIRA MAR COMERCIO DE COMBUSTIVEIS E LUBRIFICA...</td>\n",
       "      <td>150,09</td>\n",
       "      <td>C</td>\n",
       "      <td>COMBUSTIVEIS E LUBRIF. AUTOMOTIVOS</td>\n",
       "      <td>00150.000221/2022-88.R.08.23/03/2022.31/12/2022.N</td>\n",
       "      <td>2022.0</td>\n",
       "      <td>150.09</td>\n",
       "      <td>BOLSONARO</td>\n",
       "    </tr>\n",
       "    <tr>\n",
       "      <th>111317</th>\n",
       "      <td>2022-04-21</td>\n",
       "      <td>***.357.911-**</td>\n",
       "      <td>4.453855e+13</td>\n",
       "      <td>BEIRA MAR COMERCIO DE COMBUSTIVEIS E LUBRIFICA...</td>\n",
       "      <td>81</td>\n",
       "      <td>C</td>\n",
       "      <td>COMBUSTIVEIS E LUBRIF. AUTOMOTIVOS</td>\n",
       "      <td>00150.000221/2022-88.R.08.23/03/2022.31/12/2022.N</td>\n",
       "      <td>2022.0</td>\n",
       "      <td>81.00</td>\n",
       "      <td>BOLSONARO</td>\n",
       "    </tr>\n",
       "    <tr>\n",
       "      <th>111308</th>\n",
       "      <td>2022-04-22</td>\n",
       "      <td>***.357.911-**</td>\n",
       "      <td>5.846287e+12</td>\n",
       "      <td>CAMBU¨ SUPERMERCADOS LTDA</td>\n",
       "      <td>375,48</td>\n",
       "      <td>C</td>\n",
       "      <td>GENEROS DE ALIMENTAÇO</td>\n",
       "      <td>00150.000221/2022-88.R.08.23/03/2022.31/12/2022.N</td>\n",
       "      <td>2022.0</td>\n",
       "      <td>375.48</td>\n",
       "      <td>BOLSONARO</td>\n",
       "    </tr>\n",
       "    <tr>\n",
       "      <th>113339</th>\n",
       "      <td>2022-12-04</td>\n",
       "      <td>***.136.591-**</td>\n",
       "      <td>3.696869e+12</td>\n",
       "      <td>BIG TRANS COMERCIAL DE ALIMENTOS LTDA</td>\n",
       "      <td>54,66</td>\n",
       "      <td>C</td>\n",
       "      <td>GENEROS DE ALIMENTAÇO</td>\n",
       "      <td>00264.000642/2022-21.R.08.25/11/2022.31/12/2022.N</td>\n",
       "      <td>2022.0</td>\n",
       "      <td>54.66</td>\n",
       "      <td>BOLSONARO</td>\n",
       "    </tr>\n",
       "  </tbody>\n",
       "</table>\n",
       "<p>113324 rows × 11 columns</p>\n",
       "</div>"
      ],
      "text/plain": [
       "        DATA PGTO    CPF SERVIDOR  CPF/CNPJ FORNECEDOR  \\\n",
       "0      2003-01-02  ***.010.008-**         3.134920e+13   \n",
       "3250   2003-08-22  ***.004.131-**         4.750841e+13   \n",
       "3249   2003-08-22  ***.004.131-**         4.750841e+13   \n",
       "3248   2003-08-22  ***.765.178-**         4.328381e+13   \n",
       "3247   2003-08-22  ***.570.341-**         6.241388e+13   \n",
       "...           ...             ...                  ...   \n",
       "111315 2022-04-21  ***.357.911-**         4.453855e+13   \n",
       "111316 2022-04-21  ***.357.911-**         4.453855e+13   \n",
       "111317 2022-04-21  ***.357.911-**         4.453855e+13   \n",
       "111308 2022-04-22  ***.357.911-**         5.846287e+12   \n",
       "113339 2022-12-04  ***.136.591-**         3.696869e+12   \n",
       "\n",
       "                                          NOME FORNECEDOR          VALOR TIPO  \\\n",
       "0                             JW TRANSPORTADORA TURÖSTICA   R$ 1.696,90     D   \n",
       "3250         COMPANHIA BRASILEIRA DE DISTRIBUÖÇO - EXTRA      R$ 29,54     C   \n",
       "3249         COMPANHIA BRASILEIRA DE DISTRIBUÖÇO - EXTRA     R$ 120,00     C   \n",
       "3248                     KALUNGA COM E IND. GRµFICA LTDA.      R$ 25,99     C   \n",
       "3247           MELIµ BRASIL ADM. HOTELEIRA COMERCIAL LTDA     R$ 583,25     D   \n",
       "...                                                   ...            ...  ...   \n",
       "111315  BEIRA MAR COMERCIO DE COMBUSTIVEIS E LUBRIFICA...          86,63    C   \n",
       "111316  BEIRA MAR COMERCIO DE COMBUSTIVEIS E LUBRIFICA...         150,09    C   \n",
       "111317  BEIRA MAR COMERCIO DE COMBUSTIVEIS E LUBRIFICA...             81    C   \n",
       "111308                          CAMBU¨ SUPERMERCADOS LTDA         375,48    C   \n",
       "113339              BIG TRANS COMERCIAL DE ALIMENTOS LTDA          54,66    C   \n",
       "\n",
       "                    SUBELEMENTO DE DESPESA  \\\n",
       "0           LOCACAO DE MEIOS DE TRANSPORTE   \n",
       "3250        MATERIAL ELETRICO E ELETRONICO   \n",
       "3249                GENEROS DE ALIMENTAÇO   \n",
       "3248                MATERIAL DE EXPEDIENTE   \n",
       "3247                           HOSPEDAGENS   \n",
       "...                                    ...   \n",
       "111315  COMBUSTIVEIS E LUBRIF. AUTOMOTIVOS   \n",
       "111316  COMBUSTIVEIS E LUBRIF. AUTOMOTIVOS   \n",
       "111317  COMBUSTIVEIS E LUBRIF. AUTOMOTIVOS   \n",
       "111308              GENEROS DE ALIMENTAÇO   \n",
       "113339              GENEROS DE ALIMENTAÇO   \n",
       "\n",
       "                                                     CDIC     ANO  VALOR_NUM  \\\n",
       "0       00200.220539/2003-63.R.08.18/12/2002.31/12/2014.N  2003.0    1696.90   \n",
       "3250    00200.803806/2003-54.R.08.20/08/2003.31/12/2014.N  2003.0      29.54   \n",
       "3249    00200.803806/2003-54.R.08.20/08/2003.31/12/2014.N  2003.0     120.00   \n",
       "3248    00200.003808/2003-43.R.08.20/08/2003.31/12/2014.N  2003.0      25.99   \n",
       "3247    00200.203803/2003-11.R.08.18/08/2003.31/12/2014.N  2003.0     583.25   \n",
       "...                                                   ...     ...        ...   \n",
       "111315  00150.000221/2022-88.R.08.23/03/2022.31/12/2022.N  2022.0      86.63   \n",
       "111316  00150.000221/2022-88.R.08.23/03/2022.31/12/2022.N  2022.0     150.09   \n",
       "111317  00150.000221/2022-88.R.08.23/03/2022.31/12/2022.N  2022.0      81.00   \n",
       "111308  00150.000221/2022-88.R.08.23/03/2022.31/12/2022.N  2022.0     375.48   \n",
       "113339  00264.000642/2022-21.R.08.25/11/2022.31/12/2022.N  2022.0      54.66   \n",
       "\n",
       "             PRES  \n",
       "0            LULA  \n",
       "3250         LULA  \n",
       "3249         LULA  \n",
       "3248         LULA  \n",
       "3247         LULA  \n",
       "...           ...  \n",
       "111315  BOLSONARO  \n",
       "111316  BOLSONARO  \n",
       "111317  BOLSONARO  \n",
       "111308  BOLSONARO  \n",
       "113339  BOLSONARO  \n",
       "\n",
       "[113324 rows x 11 columns]"
      ]
     },
     "execution_count": 9,
     "metadata": {},
     "output_type": "execute_result"
    }
   ],
   "source": [
    "#gastos_processed = gastos_processed.sort_values(\"ANO\")\n",
    "#gastos_processed"
   ]
  },
  {
   "cell_type": "code",
   "execution_count": 7,
   "metadata": {},
   "outputs": [
    {
     "data": {
      "text/html": [
       "<div>\n",
       "<style scoped>\n",
       "    .dataframe tbody tr th:only-of-type {\n",
       "        vertical-align: middle;\n",
       "    }\n",
       "\n",
       "    .dataframe tbody tr th {\n",
       "        vertical-align: top;\n",
       "    }\n",
       "\n",
       "    .dataframe thead th {\n",
       "        text-align: right;\n",
       "    }\n",
       "</style>\n",
       "<table border=\"1\" class=\"dataframe\">\n",
       "  <thead>\n",
       "    <tr style=\"text-align: right;\">\n",
       "      <th></th>\n",
       "      <th>ANO</th>\n",
       "      <th>PRES</th>\n",
       "      <th>VALOR_NUM</th>\n",
       "    </tr>\n",
       "  </thead>\n",
       "  <tbody>\n",
       "    <tr>\n",
       "      <th>0</th>\n",
       "      <td>2003.0</td>\n",
       "      <td>LULA</td>\n",
       "      <td>5327599.63</td>\n",
       "    </tr>\n",
       "    <tr>\n",
       "      <th>1</th>\n",
       "      <td>2004.0</td>\n",
       "      <td>LULA</td>\n",
       "      <td>6541238.37</td>\n",
       "    </tr>\n",
       "    <tr>\n",
       "      <th>2</th>\n",
       "      <td>2005.0</td>\n",
       "      <td>LULA</td>\n",
       "      <td>5204035.80</td>\n",
       "    </tr>\n",
       "    <tr>\n",
       "      <th>3</th>\n",
       "      <td>2006.0</td>\n",
       "      <td>LULA</td>\n",
       "      <td>4977941.73</td>\n",
       "    </tr>\n",
       "    <tr>\n",
       "      <th>4</th>\n",
       "      <td>2007.0</td>\n",
       "      <td>LULA</td>\n",
       "      <td>3857905.40</td>\n",
       "    </tr>\n",
       "    <tr>\n",
       "      <th>5</th>\n",
       "      <td>2008.0</td>\n",
       "      <td>LULA</td>\n",
       "      <td>6084616.50</td>\n",
       "    </tr>\n",
       "    <tr>\n",
       "      <th>6</th>\n",
       "      <td>2009.0</td>\n",
       "      <td>LULA</td>\n",
       "      <td>5438905.30</td>\n",
       "    </tr>\n",
       "    <tr>\n",
       "      <th>7</th>\n",
       "      <td>2010.0</td>\n",
       "      <td>LULA</td>\n",
       "      <td>6557394.19</td>\n",
       "    </tr>\n",
       "    <tr>\n",
       "      <th>8</th>\n",
       "      <td>2011.0</td>\n",
       "      <td>DILMA</td>\n",
       "      <td>4587842.43</td>\n",
       "    </tr>\n",
       "    <tr>\n",
       "      <th>9</th>\n",
       "      <td>2012.0</td>\n",
       "      <td>DILMA</td>\n",
       "      <td>4598570.59</td>\n",
       "    </tr>\n",
       "    <tr>\n",
       "      <th>10</th>\n",
       "      <td>2013.0</td>\n",
       "      <td>DILMA</td>\n",
       "      <td>6022006.62</td>\n",
       "    </tr>\n",
       "    <tr>\n",
       "      <th>11</th>\n",
       "      <td>2014.0</td>\n",
       "      <td>DILMA</td>\n",
       "      <td>9305096.62</td>\n",
       "    </tr>\n",
       "    <tr>\n",
       "      <th>12</th>\n",
       "      <td>2015.0</td>\n",
       "      <td>DILMA</td>\n",
       "      <td>5706943.28</td>\n",
       "    </tr>\n",
       "    <tr>\n",
       "      <th>13</th>\n",
       "      <td>2016.0</td>\n",
       "      <td>DILMA</td>\n",
       "      <td>4192262.08</td>\n",
       "    </tr>\n",
       "    <tr>\n",
       "      <th>14</th>\n",
       "      <td>2017.0</td>\n",
       "      <td>TEMER</td>\n",
       "      <td>4003637.84</td>\n",
       "    </tr>\n",
       "    <tr>\n",
       "      <th>15</th>\n",
       "      <td>2018.0</td>\n",
       "      <td>TEMER</td>\n",
       "      <td>4866043.60</td>\n",
       "    </tr>\n",
       "    <tr>\n",
       "      <th>16</th>\n",
       "      <td>2019.0</td>\n",
       "      <td>BOLSONARO</td>\n",
       "      <td>5382478.10</td>\n",
       "    </tr>\n",
       "    <tr>\n",
       "      <th>17</th>\n",
       "      <td>2020.0</td>\n",
       "      <td>BOLSONARO</td>\n",
       "      <td>7314318.09</td>\n",
       "    </tr>\n",
       "    <tr>\n",
       "      <th>18</th>\n",
       "      <td>2021.0</td>\n",
       "      <td>BOLSONARO</td>\n",
       "      <td>9927562.29</td>\n",
       "    </tr>\n",
       "    <tr>\n",
       "      <th>19</th>\n",
       "      <td>2022.0</td>\n",
       "      <td>BOLSONARO</td>\n",
       "      <td>4997298.75</td>\n",
       "    </tr>\n",
       "  </tbody>\n",
       "</table>\n",
       "</div>"
      ],
      "text/plain": [
       "       ANO       PRES   VALOR_NUM\n",
       "0   2003.0       LULA  5327599.63\n",
       "1   2004.0       LULA  6541238.37\n",
       "2   2005.0       LULA  5204035.80\n",
       "3   2006.0       LULA  4977941.73\n",
       "4   2007.0       LULA  3857905.40\n",
       "5   2008.0       LULA  6084616.50\n",
       "6   2009.0       LULA  5438905.30\n",
       "7   2010.0       LULA  6557394.19\n",
       "8   2011.0      DILMA  4587842.43\n",
       "9   2012.0      DILMA  4598570.59\n",
       "10  2013.0      DILMA  6022006.62\n",
       "11  2014.0      DILMA  9305096.62\n",
       "12  2015.0      DILMA  5706943.28\n",
       "13  2016.0      DILMA  4192262.08\n",
       "14  2017.0      TEMER  4003637.84\n",
       "15  2018.0      TEMER  4866043.60\n",
       "16  2019.0  BOLSONARO  5382478.10\n",
       "17  2020.0  BOLSONARO  7314318.09\n",
       "18  2021.0  BOLSONARO  9927562.29\n",
       "19  2022.0  BOLSONARO  4997298.75"
      ]
     },
     "execution_count": 7,
     "metadata": {},
     "output_type": "execute_result"
    }
   ],
   "source": [
    "gastos_presidente = gastos_processed.groupby([\"ANO\", \"PRES\"]).agg({\"VALOR_NUM\": sum}).reset_index()\n",
    "gastos_presidente"
   ]
  },
  {
   "cell_type": "code",
   "execution_count": 8,
   "metadata": {},
   "outputs": [],
   "source": [
    "fig = px.bar(gastos_presidente, x='ANO', y=\"VALOR_NUM\", color='PRES',\n",
    "             title=\"Gastos do cartão presidencial por presidente\",\n",
    "             labels={\"VALOR_NUM\": \"Valor em milhões\", 'PRES': \"PRESIDENTE\"})\n",
    "\n",
    "fig = fig.update_xaxes(tickangle=45, tickvals=gastos_presidente['ANO'][::])"
   ]
  },
  {
   "cell_type": "code",
   "execution_count": 9,
   "metadata": {},
   "outputs": [
    {
     "data": {
      "application/vnd.plotly.v1+json": {
       "config": {
        "plotlyServerURL": "https://plot.ly"
       },
       "data": [
        {
         "alignmentgroup": "True",
         "hovertemplate": "PRESIDENTE=LULA<br>ANO=%{x}<br>Valor em milhões=%{y}<extra></extra>",
         "legendgroup": "LULA",
         "marker": {
          "color": "#636efa",
          "pattern": {
           "shape": ""
          }
         },
         "name": "LULA",
         "offsetgroup": "LULA",
         "orientation": "v",
         "showlegend": true,
         "textposition": "auto",
         "type": "bar",
         "x": [
          2003,
          2004,
          2005,
          2006,
          2007,
          2008,
          2009,
          2010
         ],
         "xaxis": "x",
         "y": [
          5327599.63,
          6541238.37,
          5204035.8,
          4977941.73,
          3857905.4,
          6084616.5,
          5438905.3,
          6557394.19
         ],
         "yaxis": "y"
        },
        {
         "alignmentgroup": "True",
         "hovertemplate": "PRESIDENTE=DILMA<br>ANO=%{x}<br>Valor em milhões=%{y}<extra></extra>",
         "legendgroup": "DILMA",
         "marker": {
          "color": "#EF553B",
          "pattern": {
           "shape": ""
          }
         },
         "name": "DILMA",
         "offsetgroup": "DILMA",
         "orientation": "v",
         "showlegend": true,
         "textposition": "auto",
         "type": "bar",
         "x": [
          2011,
          2012,
          2013,
          2014,
          2015,
          2016
         ],
         "xaxis": "x",
         "y": [
          4587842.43,
          4598570.59,
          6022006.62,
          9305096.62,
          5706943.28,
          4192262.08
         ],
         "yaxis": "y"
        },
        {
         "alignmentgroup": "True",
         "hovertemplate": "PRESIDENTE=TEMER<br>ANO=%{x}<br>Valor em milhões=%{y}<extra></extra>",
         "legendgroup": "TEMER",
         "marker": {
          "color": "#00cc96",
          "pattern": {
           "shape": ""
          }
         },
         "name": "TEMER",
         "offsetgroup": "TEMER",
         "orientation": "v",
         "showlegend": true,
         "textposition": "auto",
         "type": "bar",
         "x": [
          2017,
          2018
         ],
         "xaxis": "x",
         "y": [
          4003637.84,
          4866043.6
         ],
         "yaxis": "y"
        },
        {
         "alignmentgroup": "True",
         "hovertemplate": "PRESIDENTE=BOLSONARO<br>ANO=%{x}<br>Valor em milhões=%{y}<extra></extra>",
         "legendgroup": "BOLSONARO",
         "marker": {
          "color": "#ab63fa",
          "pattern": {
           "shape": ""
          }
         },
         "name": "BOLSONARO",
         "offsetgroup": "BOLSONARO",
         "orientation": "v",
         "showlegend": true,
         "textposition": "auto",
         "type": "bar",
         "x": [
          2019,
          2020,
          2021,
          2022
         ],
         "xaxis": "x",
         "y": [
          5382478.1,
          7314318.09,
          9927562.29,
          4997298.75
         ],
         "yaxis": "y"
        }
       ],
       "layout": {
        "barmode": "relative",
        "legend": {
         "title": {
          "text": "PRESIDENTE"
         },
         "tracegroupgap": 0
        },
        "template": {
         "data": {
          "bar": [
           {
            "error_x": {
             "color": "#2a3f5f"
            },
            "error_y": {
             "color": "#2a3f5f"
            },
            "marker": {
             "line": {
              "color": "#E5ECF6",
              "width": 0.5
             },
             "pattern": {
              "fillmode": "overlay",
              "size": 10,
              "solidity": 0.2
             }
            },
            "type": "bar"
           }
          ],
          "barpolar": [
           {
            "marker": {
             "line": {
              "color": "#E5ECF6",
              "width": 0.5
             },
             "pattern": {
              "fillmode": "overlay",
              "size": 10,
              "solidity": 0.2
             }
            },
            "type": "barpolar"
           }
          ],
          "carpet": [
           {
            "aaxis": {
             "endlinecolor": "#2a3f5f",
             "gridcolor": "white",
             "linecolor": "white",
             "minorgridcolor": "white",
             "startlinecolor": "#2a3f5f"
            },
            "baxis": {
             "endlinecolor": "#2a3f5f",
             "gridcolor": "white",
             "linecolor": "white",
             "minorgridcolor": "white",
             "startlinecolor": "#2a3f5f"
            },
            "type": "carpet"
           }
          ],
          "choropleth": [
           {
            "colorbar": {
             "outlinewidth": 0,
             "ticks": ""
            },
            "type": "choropleth"
           }
          ],
          "contour": [
           {
            "colorbar": {
             "outlinewidth": 0,
             "ticks": ""
            },
            "colorscale": [
             [
              0,
              "#0d0887"
             ],
             [
              0.1111111111111111,
              "#46039f"
             ],
             [
              0.2222222222222222,
              "#7201a8"
             ],
             [
              0.3333333333333333,
              "#9c179e"
             ],
             [
              0.4444444444444444,
              "#bd3786"
             ],
             [
              0.5555555555555556,
              "#d8576b"
             ],
             [
              0.6666666666666666,
              "#ed7953"
             ],
             [
              0.7777777777777778,
              "#fb9f3a"
             ],
             [
              0.8888888888888888,
              "#fdca26"
             ],
             [
              1,
              "#f0f921"
             ]
            ],
            "type": "contour"
           }
          ],
          "contourcarpet": [
           {
            "colorbar": {
             "outlinewidth": 0,
             "ticks": ""
            },
            "type": "contourcarpet"
           }
          ],
          "heatmap": [
           {
            "colorbar": {
             "outlinewidth": 0,
             "ticks": ""
            },
            "colorscale": [
             [
              0,
              "#0d0887"
             ],
             [
              0.1111111111111111,
              "#46039f"
             ],
             [
              0.2222222222222222,
              "#7201a8"
             ],
             [
              0.3333333333333333,
              "#9c179e"
             ],
             [
              0.4444444444444444,
              "#bd3786"
             ],
             [
              0.5555555555555556,
              "#d8576b"
             ],
             [
              0.6666666666666666,
              "#ed7953"
             ],
             [
              0.7777777777777778,
              "#fb9f3a"
             ],
             [
              0.8888888888888888,
              "#fdca26"
             ],
             [
              1,
              "#f0f921"
             ]
            ],
            "type": "heatmap"
           }
          ],
          "heatmapgl": [
           {
            "colorbar": {
             "outlinewidth": 0,
             "ticks": ""
            },
            "colorscale": [
             [
              0,
              "#0d0887"
             ],
             [
              0.1111111111111111,
              "#46039f"
             ],
             [
              0.2222222222222222,
              "#7201a8"
             ],
             [
              0.3333333333333333,
              "#9c179e"
             ],
             [
              0.4444444444444444,
              "#bd3786"
             ],
             [
              0.5555555555555556,
              "#d8576b"
             ],
             [
              0.6666666666666666,
              "#ed7953"
             ],
             [
              0.7777777777777778,
              "#fb9f3a"
             ],
             [
              0.8888888888888888,
              "#fdca26"
             ],
             [
              1,
              "#f0f921"
             ]
            ],
            "type": "heatmapgl"
           }
          ],
          "histogram": [
           {
            "marker": {
             "pattern": {
              "fillmode": "overlay",
              "size": 10,
              "solidity": 0.2
             }
            },
            "type": "histogram"
           }
          ],
          "histogram2d": [
           {
            "colorbar": {
             "outlinewidth": 0,
             "ticks": ""
            },
            "colorscale": [
             [
              0,
              "#0d0887"
             ],
             [
              0.1111111111111111,
              "#46039f"
             ],
             [
              0.2222222222222222,
              "#7201a8"
             ],
             [
              0.3333333333333333,
              "#9c179e"
             ],
             [
              0.4444444444444444,
              "#bd3786"
             ],
             [
              0.5555555555555556,
              "#d8576b"
             ],
             [
              0.6666666666666666,
              "#ed7953"
             ],
             [
              0.7777777777777778,
              "#fb9f3a"
             ],
             [
              0.8888888888888888,
              "#fdca26"
             ],
             [
              1,
              "#f0f921"
             ]
            ],
            "type": "histogram2d"
           }
          ],
          "histogram2dcontour": [
           {
            "colorbar": {
             "outlinewidth": 0,
             "ticks": ""
            },
            "colorscale": [
             [
              0,
              "#0d0887"
             ],
             [
              0.1111111111111111,
              "#46039f"
             ],
             [
              0.2222222222222222,
              "#7201a8"
             ],
             [
              0.3333333333333333,
              "#9c179e"
             ],
             [
              0.4444444444444444,
              "#bd3786"
             ],
             [
              0.5555555555555556,
              "#d8576b"
             ],
             [
              0.6666666666666666,
              "#ed7953"
             ],
             [
              0.7777777777777778,
              "#fb9f3a"
             ],
             [
              0.8888888888888888,
              "#fdca26"
             ],
             [
              1,
              "#f0f921"
             ]
            ],
            "type": "histogram2dcontour"
           }
          ],
          "mesh3d": [
           {
            "colorbar": {
             "outlinewidth": 0,
             "ticks": ""
            },
            "type": "mesh3d"
           }
          ],
          "parcoords": [
           {
            "line": {
             "colorbar": {
              "outlinewidth": 0,
              "ticks": ""
             }
            },
            "type": "parcoords"
           }
          ],
          "pie": [
           {
            "automargin": true,
            "type": "pie"
           }
          ],
          "scatter": [
           {
            "fillpattern": {
             "fillmode": "overlay",
             "size": 10,
             "solidity": 0.2
            },
            "type": "scatter"
           }
          ],
          "scatter3d": [
           {
            "line": {
             "colorbar": {
              "outlinewidth": 0,
              "ticks": ""
             }
            },
            "marker": {
             "colorbar": {
              "outlinewidth": 0,
              "ticks": ""
             }
            },
            "type": "scatter3d"
           }
          ],
          "scattercarpet": [
           {
            "marker": {
             "colorbar": {
              "outlinewidth": 0,
              "ticks": ""
             }
            },
            "type": "scattercarpet"
           }
          ],
          "scattergeo": [
           {
            "marker": {
             "colorbar": {
              "outlinewidth": 0,
              "ticks": ""
             }
            },
            "type": "scattergeo"
           }
          ],
          "scattergl": [
           {
            "marker": {
             "colorbar": {
              "outlinewidth": 0,
              "ticks": ""
             }
            },
            "type": "scattergl"
           }
          ],
          "scattermapbox": [
           {
            "marker": {
             "colorbar": {
              "outlinewidth": 0,
              "ticks": ""
             }
            },
            "type": "scattermapbox"
           }
          ],
          "scatterpolar": [
           {
            "marker": {
             "colorbar": {
              "outlinewidth": 0,
              "ticks": ""
             }
            },
            "type": "scatterpolar"
           }
          ],
          "scatterpolargl": [
           {
            "marker": {
             "colorbar": {
              "outlinewidth": 0,
              "ticks": ""
             }
            },
            "type": "scatterpolargl"
           }
          ],
          "scatterternary": [
           {
            "marker": {
             "colorbar": {
              "outlinewidth": 0,
              "ticks": ""
             }
            },
            "type": "scatterternary"
           }
          ],
          "surface": [
           {
            "colorbar": {
             "outlinewidth": 0,
             "ticks": ""
            },
            "colorscale": [
             [
              0,
              "#0d0887"
             ],
             [
              0.1111111111111111,
              "#46039f"
             ],
             [
              0.2222222222222222,
              "#7201a8"
             ],
             [
              0.3333333333333333,
              "#9c179e"
             ],
             [
              0.4444444444444444,
              "#bd3786"
             ],
             [
              0.5555555555555556,
              "#d8576b"
             ],
             [
              0.6666666666666666,
              "#ed7953"
             ],
             [
              0.7777777777777778,
              "#fb9f3a"
             ],
             [
              0.8888888888888888,
              "#fdca26"
             ],
             [
              1,
              "#f0f921"
             ]
            ],
            "type": "surface"
           }
          ],
          "table": [
           {
            "cells": {
             "fill": {
              "color": "#EBF0F8"
             },
             "line": {
              "color": "white"
             }
            },
            "header": {
             "fill": {
              "color": "#C8D4E3"
             },
             "line": {
              "color": "white"
             }
            },
            "type": "table"
           }
          ]
         },
         "layout": {
          "annotationdefaults": {
           "arrowcolor": "#2a3f5f",
           "arrowhead": 0,
           "arrowwidth": 1
          },
          "autotypenumbers": "strict",
          "coloraxis": {
           "colorbar": {
            "outlinewidth": 0,
            "ticks": ""
           }
          },
          "colorscale": {
           "diverging": [
            [
             0,
             "#8e0152"
            ],
            [
             0.1,
             "#c51b7d"
            ],
            [
             0.2,
             "#de77ae"
            ],
            [
             0.3,
             "#f1b6da"
            ],
            [
             0.4,
             "#fde0ef"
            ],
            [
             0.5,
             "#f7f7f7"
            ],
            [
             0.6,
             "#e6f5d0"
            ],
            [
             0.7,
             "#b8e186"
            ],
            [
             0.8,
             "#7fbc41"
            ],
            [
             0.9,
             "#4d9221"
            ],
            [
             1,
             "#276419"
            ]
           ],
           "sequential": [
            [
             0,
             "#0d0887"
            ],
            [
             0.1111111111111111,
             "#46039f"
            ],
            [
             0.2222222222222222,
             "#7201a8"
            ],
            [
             0.3333333333333333,
             "#9c179e"
            ],
            [
             0.4444444444444444,
             "#bd3786"
            ],
            [
             0.5555555555555556,
             "#d8576b"
            ],
            [
             0.6666666666666666,
             "#ed7953"
            ],
            [
             0.7777777777777778,
             "#fb9f3a"
            ],
            [
             0.8888888888888888,
             "#fdca26"
            ],
            [
             1,
             "#f0f921"
            ]
           ],
           "sequentialminus": [
            [
             0,
             "#0d0887"
            ],
            [
             0.1111111111111111,
             "#46039f"
            ],
            [
             0.2222222222222222,
             "#7201a8"
            ],
            [
             0.3333333333333333,
             "#9c179e"
            ],
            [
             0.4444444444444444,
             "#bd3786"
            ],
            [
             0.5555555555555556,
             "#d8576b"
            ],
            [
             0.6666666666666666,
             "#ed7953"
            ],
            [
             0.7777777777777778,
             "#fb9f3a"
            ],
            [
             0.8888888888888888,
             "#fdca26"
            ],
            [
             1,
             "#f0f921"
            ]
           ]
          },
          "colorway": [
           "#636efa",
           "#EF553B",
           "#00cc96",
           "#ab63fa",
           "#FFA15A",
           "#19d3f3",
           "#FF6692",
           "#B6E880",
           "#FF97FF",
           "#FECB52"
          ],
          "font": {
           "color": "#2a3f5f"
          },
          "geo": {
           "bgcolor": "white",
           "lakecolor": "white",
           "landcolor": "#E5ECF6",
           "showlakes": true,
           "showland": true,
           "subunitcolor": "white"
          },
          "hoverlabel": {
           "align": "left"
          },
          "hovermode": "closest",
          "mapbox": {
           "style": "light"
          },
          "paper_bgcolor": "white",
          "plot_bgcolor": "#E5ECF6",
          "polar": {
           "angularaxis": {
            "gridcolor": "white",
            "linecolor": "white",
            "ticks": ""
           },
           "bgcolor": "#E5ECF6",
           "radialaxis": {
            "gridcolor": "white",
            "linecolor": "white",
            "ticks": ""
           }
          },
          "scene": {
           "xaxis": {
            "backgroundcolor": "#E5ECF6",
            "gridcolor": "white",
            "gridwidth": 2,
            "linecolor": "white",
            "showbackground": true,
            "ticks": "",
            "zerolinecolor": "white"
           },
           "yaxis": {
            "backgroundcolor": "#E5ECF6",
            "gridcolor": "white",
            "gridwidth": 2,
            "linecolor": "white",
            "showbackground": true,
            "ticks": "",
            "zerolinecolor": "white"
           },
           "zaxis": {
            "backgroundcolor": "#E5ECF6",
            "gridcolor": "white",
            "gridwidth": 2,
            "linecolor": "white",
            "showbackground": true,
            "ticks": "",
            "zerolinecolor": "white"
           }
          },
          "shapedefaults": {
           "line": {
            "color": "#2a3f5f"
           }
          },
          "ternary": {
           "aaxis": {
            "gridcolor": "white",
            "linecolor": "white",
            "ticks": ""
           },
           "baxis": {
            "gridcolor": "white",
            "linecolor": "white",
            "ticks": ""
           },
           "bgcolor": "#E5ECF6",
           "caxis": {
            "gridcolor": "white",
            "linecolor": "white",
            "ticks": ""
           }
          },
          "title": {
           "x": 0.05
          },
          "xaxis": {
           "automargin": true,
           "gridcolor": "white",
           "linecolor": "white",
           "ticks": "",
           "title": {
            "standoff": 15
           },
           "zerolinecolor": "white",
           "zerolinewidth": 2
          },
          "yaxis": {
           "automargin": true,
           "gridcolor": "white",
           "linecolor": "white",
           "ticks": "",
           "title": {
            "standoff": 15
           },
           "zerolinecolor": "white",
           "zerolinewidth": 2
          }
         }
        },
        "title": {
         "text": "Gastos do cartão presidencial por presidente"
        },
        "xaxis": {
         "anchor": "y",
         "domain": [
          0,
          1
         ],
         "tickangle": 45,
         "tickvals": [
          2003,
          2004,
          2005,
          2006,
          2007,
          2008,
          2009,
          2010,
          2011,
          2012,
          2013,
          2014,
          2015,
          2016,
          2017,
          2018,
          2019,
          2020,
          2021,
          2022
         ],
         "title": {
          "text": "ANO"
         }
        },
        "yaxis": {
         "anchor": "x",
         "domain": [
          0,
          1
         ],
         "title": {
          "text": "Valor em milhões"
         }
        }
       }
      }
     },
     "metadata": {},
     "output_type": "display_data"
    }
   ],
   "source": [
    "fig.show()"
   ]
  },
  {
   "cell_type": "code",
   "execution_count": 47,
   "metadata": {},
   "outputs": [
    {
     "data": {
      "text/html": [
       "<div>\n",
       "<style scoped>\n",
       "    .dataframe tbody tr th:only-of-type {\n",
       "        vertical-align: middle;\n",
       "    }\n",
       "\n",
       "    .dataframe tbody tr th {\n",
       "        vertical-align: top;\n",
       "    }\n",
       "\n",
       "    .dataframe thead th {\n",
       "        text-align: right;\n",
       "    }\n",
       "</style>\n",
       "<table border=\"1\" class=\"dataframe\">\n",
       "  <thead>\n",
       "    <tr style=\"text-align: right;\">\n",
       "      <th></th>\n",
       "      <th>PRES</th>\n",
       "      <th>VALOR_NUM</th>\n",
       "    </tr>\n",
       "  </thead>\n",
       "  <tbody>\n",
       "    <tr>\n",
       "      <th>0</th>\n",
       "      <td>LULA_1</td>\n",
       "      <td>22050815.53</td>\n",
       "    </tr>\n",
       "    <tr>\n",
       "      <th>1</th>\n",
       "      <td>LULA_2</td>\n",
       "      <td>21938821.39</td>\n",
       "    </tr>\n",
       "    <tr>\n",
       "      <th>2</th>\n",
       "      <td>DILMA_1</td>\n",
       "      <td>24513516.26</td>\n",
       "    </tr>\n",
       "    <tr>\n",
       "      <th>3</th>\n",
       "      <td>DILMA_2</td>\n",
       "      <td>9899205.36</td>\n",
       "    </tr>\n",
       "    <tr>\n",
       "      <th>4</th>\n",
       "      <td>TEMER</td>\n",
       "      <td>8869681.44</td>\n",
       "    </tr>\n",
       "    <tr>\n",
       "      <th>5</th>\n",
       "      <td>BOLSONARO</td>\n",
       "      <td>27621657.23</td>\n",
       "    </tr>\n",
       "  </tbody>\n",
       "</table>\n",
       "</div>"
      ],
      "text/plain": [
       "        PRES    VALOR_NUM\n",
       "0     LULA_1  22050815.53\n",
       "1     LULA_2  21938821.39\n",
       "2    DILMA_1  24513516.26\n",
       "3    DILMA_2   9899205.36\n",
       "4      TEMER   8869681.44\n",
       "5  BOLSONARO  27621657.23"
      ]
     },
     "execution_count": 47,
     "metadata": {},
     "output_type": "execute_result"
    }
   ],
   "source": [
    "lula_mandato_1 = gastos_presidente.loc[0:3].groupby([\"PRES\"]).agg({\"VALOR_NUM\": sum}).reset_index()\n",
    "lula_mandato_1['PRES'] = 'LULA_1'\n",
    "\n",
    "lula_mandato_2 = gastos_presidente.loc[4:7].groupby([\"PRES\"]).agg({\"VALOR_NUM\": sum}).reset_index()\n",
    "lula_mandato_2['PRES'] = 'LULA_2'\n",
    "\n",
    "dilma_mandato_1 = gastos_presidente.loc[8:11].groupby([\"PRES\"]).agg({\"VALOR_NUM\": sum}).reset_index()\n",
    "dilma_mandato_1['PRES'] = 'DILMA_1'\n",
    "\n",
    "dilma_mandato_2 = gastos_presidente.loc[12:13].groupby([\"PRES\"]).agg({\"VALOR_NUM\": sum}).reset_index()\n",
    "dilma_mandato_2['PRES'] = 'DILMA_2'\n",
    "\n",
    "temer = gastos_presidente.loc[14:15].groupby([\"PRES\"]).agg({\"VALOR_NUM\": sum}).reset_index()\n",
    "bolsonaro = gastos_presidente.loc[16:].groupby([\"PRES\"]).agg({\"VALOR_NUM\": sum}).reset_index()\n",
    "bolsonaro\n",
    "\n",
    "gastos_acumulados = pd.concat([lula_mandato_1, lula_mandato_2, dilma_mandato_1, dilma_mandato_2, temer, bolsonaro], axis=0, ignore_index=True)\n",
    "gastos_acumulados\n"
   ]
  },
  {
   "cell_type": "code",
   "execution_count": 51,
   "metadata": {},
   "outputs": [
    {
     "data": {
      "application/vnd.plotly.v1+json": {
       "config": {
        "plotlyServerURL": "https://plot.ly"
       },
       "data": [
        {
         "alignmentgroup": "True",
         "hovertemplate": "Presidente=%{x}<br>Valor em milhões=%{y}<extra></extra>",
         "legendgroup": "LULA_1",
         "marker": {
          "color": "#636efa",
          "pattern": {
           "shape": ""
          }
         },
         "name": "LULA_1",
         "offsetgroup": "LULA_1",
         "orientation": "v",
         "showlegend": true,
         "textposition": "auto",
         "type": "bar",
         "x": [
          "LULA_1"
         ],
         "xaxis": "x",
         "y": [
          22050815.53
         ],
         "yaxis": "y"
        },
        {
         "alignmentgroup": "True",
         "hovertemplate": "Presidente=%{x}<br>Valor em milhões=%{y}<extra></extra>",
         "legendgroup": "LULA_2",
         "marker": {
          "color": "#EF553B",
          "pattern": {
           "shape": ""
          }
         },
         "name": "LULA_2",
         "offsetgroup": "LULA_2",
         "orientation": "v",
         "showlegend": true,
         "textposition": "auto",
         "type": "bar",
         "x": [
          "LULA_2"
         ],
         "xaxis": "x",
         "y": [
          21938821.39
         ],
         "yaxis": "y"
        },
        {
         "alignmentgroup": "True",
         "hovertemplate": "Presidente=%{x}<br>Valor em milhões=%{y}<extra></extra>",
         "legendgroup": "DILMA_1",
         "marker": {
          "color": "#00cc96",
          "pattern": {
           "shape": ""
          }
         },
         "name": "DILMA_1",
         "offsetgroup": "DILMA_1",
         "orientation": "v",
         "showlegend": true,
         "textposition": "auto",
         "type": "bar",
         "x": [
          "DILMA_1"
         ],
         "xaxis": "x",
         "y": [
          24513516.259999998
         ],
         "yaxis": "y"
        },
        {
         "alignmentgroup": "True",
         "hovertemplate": "Presidente=%{x}<br>Valor em milhões=%{y}<extra></extra>",
         "legendgroup": "DILMA_2",
         "marker": {
          "color": "#ab63fa",
          "pattern": {
           "shape": ""
          }
         },
         "name": "DILMA_2",
         "offsetgroup": "DILMA_2",
         "orientation": "v",
         "showlegend": true,
         "textposition": "auto",
         "type": "bar",
         "x": [
          "DILMA_2"
         ],
         "xaxis": "x",
         "y": [
          9899205.36
         ],
         "yaxis": "y"
        },
        {
         "alignmentgroup": "True",
         "hovertemplate": "Presidente=%{x}<br>Valor em milhões=%{y}<extra></extra>",
         "legendgroup": "TEMER",
         "marker": {
          "color": "#FFA15A",
          "pattern": {
           "shape": ""
          }
         },
         "name": "TEMER",
         "offsetgroup": "TEMER",
         "orientation": "v",
         "showlegend": true,
         "textposition": "auto",
         "type": "bar",
         "x": [
          "TEMER"
         ],
         "xaxis": "x",
         "y": [
          8869681.44
         ],
         "yaxis": "y"
        },
        {
         "alignmentgroup": "True",
         "hovertemplate": "Presidente=%{x}<br>Valor em milhões=%{y}<extra></extra>",
         "legendgroup": "BOLSONARO",
         "marker": {
          "color": "#19d3f3",
          "pattern": {
           "shape": ""
          }
         },
         "name": "BOLSONARO",
         "offsetgroup": "BOLSONARO",
         "orientation": "v",
         "showlegend": true,
         "textposition": "auto",
         "type": "bar",
         "x": [
          "BOLSONARO"
         ],
         "xaxis": "x",
         "y": [
          27621657.229999997
         ],
         "yaxis": "y"
        }
       ],
       "layout": {
        "barmode": "relative",
        "legend": {
         "title": {
          "text": "Presidente"
         },
         "tracegroupgap": 0
        },
        "template": {
         "data": {
          "bar": [
           {
            "error_x": {
             "color": "#2a3f5f"
            },
            "error_y": {
             "color": "#2a3f5f"
            },
            "marker": {
             "line": {
              "color": "#E5ECF6",
              "width": 0.5
             },
             "pattern": {
              "fillmode": "overlay",
              "size": 10,
              "solidity": 0.2
             }
            },
            "type": "bar"
           }
          ],
          "barpolar": [
           {
            "marker": {
             "line": {
              "color": "#E5ECF6",
              "width": 0.5
             },
             "pattern": {
              "fillmode": "overlay",
              "size": 10,
              "solidity": 0.2
             }
            },
            "type": "barpolar"
           }
          ],
          "carpet": [
           {
            "aaxis": {
             "endlinecolor": "#2a3f5f",
             "gridcolor": "white",
             "linecolor": "white",
             "minorgridcolor": "white",
             "startlinecolor": "#2a3f5f"
            },
            "baxis": {
             "endlinecolor": "#2a3f5f",
             "gridcolor": "white",
             "linecolor": "white",
             "minorgridcolor": "white",
             "startlinecolor": "#2a3f5f"
            },
            "type": "carpet"
           }
          ],
          "choropleth": [
           {
            "colorbar": {
             "outlinewidth": 0,
             "ticks": ""
            },
            "type": "choropleth"
           }
          ],
          "contour": [
           {
            "colorbar": {
             "outlinewidth": 0,
             "ticks": ""
            },
            "colorscale": [
             [
              0,
              "#0d0887"
             ],
             [
              0.1111111111111111,
              "#46039f"
             ],
             [
              0.2222222222222222,
              "#7201a8"
             ],
             [
              0.3333333333333333,
              "#9c179e"
             ],
             [
              0.4444444444444444,
              "#bd3786"
             ],
             [
              0.5555555555555556,
              "#d8576b"
             ],
             [
              0.6666666666666666,
              "#ed7953"
             ],
             [
              0.7777777777777778,
              "#fb9f3a"
             ],
             [
              0.8888888888888888,
              "#fdca26"
             ],
             [
              1,
              "#f0f921"
             ]
            ],
            "type": "contour"
           }
          ],
          "contourcarpet": [
           {
            "colorbar": {
             "outlinewidth": 0,
             "ticks": ""
            },
            "type": "contourcarpet"
           }
          ],
          "heatmap": [
           {
            "colorbar": {
             "outlinewidth": 0,
             "ticks": ""
            },
            "colorscale": [
             [
              0,
              "#0d0887"
             ],
             [
              0.1111111111111111,
              "#46039f"
             ],
             [
              0.2222222222222222,
              "#7201a8"
             ],
             [
              0.3333333333333333,
              "#9c179e"
             ],
             [
              0.4444444444444444,
              "#bd3786"
             ],
             [
              0.5555555555555556,
              "#d8576b"
             ],
             [
              0.6666666666666666,
              "#ed7953"
             ],
             [
              0.7777777777777778,
              "#fb9f3a"
             ],
             [
              0.8888888888888888,
              "#fdca26"
             ],
             [
              1,
              "#f0f921"
             ]
            ],
            "type": "heatmap"
           }
          ],
          "heatmapgl": [
           {
            "colorbar": {
             "outlinewidth": 0,
             "ticks": ""
            },
            "colorscale": [
             [
              0,
              "#0d0887"
             ],
             [
              0.1111111111111111,
              "#46039f"
             ],
             [
              0.2222222222222222,
              "#7201a8"
             ],
             [
              0.3333333333333333,
              "#9c179e"
             ],
             [
              0.4444444444444444,
              "#bd3786"
             ],
             [
              0.5555555555555556,
              "#d8576b"
             ],
             [
              0.6666666666666666,
              "#ed7953"
             ],
             [
              0.7777777777777778,
              "#fb9f3a"
             ],
             [
              0.8888888888888888,
              "#fdca26"
             ],
             [
              1,
              "#f0f921"
             ]
            ],
            "type": "heatmapgl"
           }
          ],
          "histogram": [
           {
            "marker": {
             "pattern": {
              "fillmode": "overlay",
              "size": 10,
              "solidity": 0.2
             }
            },
            "type": "histogram"
           }
          ],
          "histogram2d": [
           {
            "colorbar": {
             "outlinewidth": 0,
             "ticks": ""
            },
            "colorscale": [
             [
              0,
              "#0d0887"
             ],
             [
              0.1111111111111111,
              "#46039f"
             ],
             [
              0.2222222222222222,
              "#7201a8"
             ],
             [
              0.3333333333333333,
              "#9c179e"
             ],
             [
              0.4444444444444444,
              "#bd3786"
             ],
             [
              0.5555555555555556,
              "#d8576b"
             ],
             [
              0.6666666666666666,
              "#ed7953"
             ],
             [
              0.7777777777777778,
              "#fb9f3a"
             ],
             [
              0.8888888888888888,
              "#fdca26"
             ],
             [
              1,
              "#f0f921"
             ]
            ],
            "type": "histogram2d"
           }
          ],
          "histogram2dcontour": [
           {
            "colorbar": {
             "outlinewidth": 0,
             "ticks": ""
            },
            "colorscale": [
             [
              0,
              "#0d0887"
             ],
             [
              0.1111111111111111,
              "#46039f"
             ],
             [
              0.2222222222222222,
              "#7201a8"
             ],
             [
              0.3333333333333333,
              "#9c179e"
             ],
             [
              0.4444444444444444,
              "#bd3786"
             ],
             [
              0.5555555555555556,
              "#d8576b"
             ],
             [
              0.6666666666666666,
              "#ed7953"
             ],
             [
              0.7777777777777778,
              "#fb9f3a"
             ],
             [
              0.8888888888888888,
              "#fdca26"
             ],
             [
              1,
              "#f0f921"
             ]
            ],
            "type": "histogram2dcontour"
           }
          ],
          "mesh3d": [
           {
            "colorbar": {
             "outlinewidth": 0,
             "ticks": ""
            },
            "type": "mesh3d"
           }
          ],
          "parcoords": [
           {
            "line": {
             "colorbar": {
              "outlinewidth": 0,
              "ticks": ""
             }
            },
            "type": "parcoords"
           }
          ],
          "pie": [
           {
            "automargin": true,
            "type": "pie"
           }
          ],
          "scatter": [
           {
            "fillpattern": {
             "fillmode": "overlay",
             "size": 10,
             "solidity": 0.2
            },
            "type": "scatter"
           }
          ],
          "scatter3d": [
           {
            "line": {
             "colorbar": {
              "outlinewidth": 0,
              "ticks": ""
             }
            },
            "marker": {
             "colorbar": {
              "outlinewidth": 0,
              "ticks": ""
             }
            },
            "type": "scatter3d"
           }
          ],
          "scattercarpet": [
           {
            "marker": {
             "colorbar": {
              "outlinewidth": 0,
              "ticks": ""
             }
            },
            "type": "scattercarpet"
           }
          ],
          "scattergeo": [
           {
            "marker": {
             "colorbar": {
              "outlinewidth": 0,
              "ticks": ""
             }
            },
            "type": "scattergeo"
           }
          ],
          "scattergl": [
           {
            "marker": {
             "colorbar": {
              "outlinewidth": 0,
              "ticks": ""
             }
            },
            "type": "scattergl"
           }
          ],
          "scattermapbox": [
           {
            "marker": {
             "colorbar": {
              "outlinewidth": 0,
              "ticks": ""
             }
            },
            "type": "scattermapbox"
           }
          ],
          "scatterpolar": [
           {
            "marker": {
             "colorbar": {
              "outlinewidth": 0,
              "ticks": ""
             }
            },
            "type": "scatterpolar"
           }
          ],
          "scatterpolargl": [
           {
            "marker": {
             "colorbar": {
              "outlinewidth": 0,
              "ticks": ""
             }
            },
            "type": "scatterpolargl"
           }
          ],
          "scatterternary": [
           {
            "marker": {
             "colorbar": {
              "outlinewidth": 0,
              "ticks": ""
             }
            },
            "type": "scatterternary"
           }
          ],
          "surface": [
           {
            "colorbar": {
             "outlinewidth": 0,
             "ticks": ""
            },
            "colorscale": [
             [
              0,
              "#0d0887"
             ],
             [
              0.1111111111111111,
              "#46039f"
             ],
             [
              0.2222222222222222,
              "#7201a8"
             ],
             [
              0.3333333333333333,
              "#9c179e"
             ],
             [
              0.4444444444444444,
              "#bd3786"
             ],
             [
              0.5555555555555556,
              "#d8576b"
             ],
             [
              0.6666666666666666,
              "#ed7953"
             ],
             [
              0.7777777777777778,
              "#fb9f3a"
             ],
             [
              0.8888888888888888,
              "#fdca26"
             ],
             [
              1,
              "#f0f921"
             ]
            ],
            "type": "surface"
           }
          ],
          "table": [
           {
            "cells": {
             "fill": {
              "color": "#EBF0F8"
             },
             "line": {
              "color": "white"
             }
            },
            "header": {
             "fill": {
              "color": "#C8D4E3"
             },
             "line": {
              "color": "white"
             }
            },
            "type": "table"
           }
          ]
         },
         "layout": {
          "annotationdefaults": {
           "arrowcolor": "#2a3f5f",
           "arrowhead": 0,
           "arrowwidth": 1
          },
          "autotypenumbers": "strict",
          "coloraxis": {
           "colorbar": {
            "outlinewidth": 0,
            "ticks": ""
           }
          },
          "colorscale": {
           "diverging": [
            [
             0,
             "#8e0152"
            ],
            [
             0.1,
             "#c51b7d"
            ],
            [
             0.2,
             "#de77ae"
            ],
            [
             0.3,
             "#f1b6da"
            ],
            [
             0.4,
             "#fde0ef"
            ],
            [
             0.5,
             "#f7f7f7"
            ],
            [
             0.6,
             "#e6f5d0"
            ],
            [
             0.7,
             "#b8e186"
            ],
            [
             0.8,
             "#7fbc41"
            ],
            [
             0.9,
             "#4d9221"
            ],
            [
             1,
             "#276419"
            ]
           ],
           "sequential": [
            [
             0,
             "#0d0887"
            ],
            [
             0.1111111111111111,
             "#46039f"
            ],
            [
             0.2222222222222222,
             "#7201a8"
            ],
            [
             0.3333333333333333,
             "#9c179e"
            ],
            [
             0.4444444444444444,
             "#bd3786"
            ],
            [
             0.5555555555555556,
             "#d8576b"
            ],
            [
             0.6666666666666666,
             "#ed7953"
            ],
            [
             0.7777777777777778,
             "#fb9f3a"
            ],
            [
             0.8888888888888888,
             "#fdca26"
            ],
            [
             1,
             "#f0f921"
            ]
           ],
           "sequentialminus": [
            [
             0,
             "#0d0887"
            ],
            [
             0.1111111111111111,
             "#46039f"
            ],
            [
             0.2222222222222222,
             "#7201a8"
            ],
            [
             0.3333333333333333,
             "#9c179e"
            ],
            [
             0.4444444444444444,
             "#bd3786"
            ],
            [
             0.5555555555555556,
             "#d8576b"
            ],
            [
             0.6666666666666666,
             "#ed7953"
            ],
            [
             0.7777777777777778,
             "#fb9f3a"
            ],
            [
             0.8888888888888888,
             "#fdca26"
            ],
            [
             1,
             "#f0f921"
            ]
           ]
          },
          "colorway": [
           "#636efa",
           "#EF553B",
           "#00cc96",
           "#ab63fa",
           "#FFA15A",
           "#19d3f3",
           "#FF6692",
           "#B6E880",
           "#FF97FF",
           "#FECB52"
          ],
          "font": {
           "color": "#2a3f5f"
          },
          "geo": {
           "bgcolor": "white",
           "lakecolor": "white",
           "landcolor": "#E5ECF6",
           "showlakes": true,
           "showland": true,
           "subunitcolor": "white"
          },
          "hoverlabel": {
           "align": "left"
          },
          "hovermode": "closest",
          "mapbox": {
           "style": "light"
          },
          "paper_bgcolor": "white",
          "plot_bgcolor": "#E5ECF6",
          "polar": {
           "angularaxis": {
            "gridcolor": "white",
            "linecolor": "white",
            "ticks": ""
           },
           "bgcolor": "#E5ECF6",
           "radialaxis": {
            "gridcolor": "white",
            "linecolor": "white",
            "ticks": ""
           }
          },
          "scene": {
           "xaxis": {
            "backgroundcolor": "#E5ECF6",
            "gridcolor": "white",
            "gridwidth": 2,
            "linecolor": "white",
            "showbackground": true,
            "ticks": "",
            "zerolinecolor": "white"
           },
           "yaxis": {
            "backgroundcolor": "#E5ECF6",
            "gridcolor": "white",
            "gridwidth": 2,
            "linecolor": "white",
            "showbackground": true,
            "ticks": "",
            "zerolinecolor": "white"
           },
           "zaxis": {
            "backgroundcolor": "#E5ECF6",
            "gridcolor": "white",
            "gridwidth": 2,
            "linecolor": "white",
            "showbackground": true,
            "ticks": "",
            "zerolinecolor": "white"
           }
          },
          "shapedefaults": {
           "line": {
            "color": "#2a3f5f"
           }
          },
          "ternary": {
           "aaxis": {
            "gridcolor": "white",
            "linecolor": "white",
            "ticks": ""
           },
           "baxis": {
            "gridcolor": "white",
            "linecolor": "white",
            "ticks": ""
           },
           "bgcolor": "#E5ECF6",
           "caxis": {
            "gridcolor": "white",
            "linecolor": "white",
            "ticks": ""
           }
          },
          "title": {
           "x": 0.05
          },
          "xaxis": {
           "automargin": true,
           "gridcolor": "white",
           "linecolor": "white",
           "ticks": "",
           "title": {
            "standoff": 15
           },
           "zerolinecolor": "white",
           "zerolinewidth": 2
          },
          "yaxis": {
           "automargin": true,
           "gridcolor": "white",
           "linecolor": "white",
           "ticks": "",
           "title": {
            "standoff": 15
           },
           "zerolinecolor": "white",
           "zerolinewidth": 2
          }
         }
        },
        "title": {
         "text": "Gastos do cartão presidencial por tipo"
        },
        "xaxis": {
         "anchor": "y",
         "categoryarray": [
          "LULA_1",
          "LULA_2",
          "DILMA_1",
          "DILMA_2",
          "TEMER",
          "BOLSONARO"
         ],
         "categoryorder": "array",
         "domain": [
          0,
          1
         ],
         "title": {
          "text": "Presidente"
         }
        },
        "yaxis": {
         "anchor": "x",
         "domain": [
          0,
          1
         ],
         "title": {
          "text": "Valor em milhões"
         }
        }
       }
      }
     },
     "metadata": {},
     "output_type": "display_data"
    }
   ],
   "source": [
    "fig_acumulado = px.bar(gastos_acumulados, x='PRES', y='VALOR_NUM', color='PRES', title='Gastos do cartão presidencial por tipo',\n",
    "labels={\"VALOR_NUM\": \"Valor em milhões\", 'PRES': \"Presidente\"})\n",
    "\n",
    "fig_acumulado.show()"
   ]
  },
  {
   "cell_type": "code",
   "execution_count": 10,
   "metadata": {},
   "outputs": [
    {
     "data": {
      "text/html": [
       "<div>\n",
       "<style scoped>\n",
       "    .dataframe tbody tr th:only-of-type {\n",
       "        vertical-align: middle;\n",
       "    }\n",
       "\n",
       "    .dataframe tbody tr th {\n",
       "        vertical-align: top;\n",
       "    }\n",
       "\n",
       "    .dataframe thead th {\n",
       "        text-align: right;\n",
       "    }\n",
       "</style>\n",
       "<table border=\"1\" class=\"dataframe\">\n",
       "  <thead>\n",
       "    <tr style=\"text-align: right;\">\n",
       "      <th></th>\n",
       "      <th>DATA PGTO</th>\n",
       "      <th>CPF SERVIDOR</th>\n",
       "      <th>CPF/CNPJ FORNECEDOR</th>\n",
       "      <th>NOME FORNECEDOR</th>\n",
       "      <th>VALOR</th>\n",
       "      <th>TIPO</th>\n",
       "      <th>SUBELEMENTO DE DESPESA</th>\n",
       "      <th>CDIC</th>\n",
       "      <th>ANO</th>\n",
       "      <th>VALOR_NUM</th>\n",
       "      <th>PRES</th>\n",
       "    </tr>\n",
       "  </thead>\n",
       "  <tbody>\n",
       "    <tr>\n",
       "      <th>0</th>\n",
       "      <td>2003-01-02</td>\n",
       "      <td>***.010.008-**</td>\n",
       "      <td>3.134920e+13</td>\n",
       "      <td>JW TRANSPORTADORA TURÖSTICA</td>\n",
       "      <td>R$ 1.696,90</td>\n",
       "      <td>D</td>\n",
       "      <td>LOCACAO DE MEIOS DE TRANSPORTE</td>\n",
       "      <td>00200.220539/2003-63.R.08.18/12/2002.31/12/2014.N</td>\n",
       "      <td>2003.0</td>\n",
       "      <td>1696.90</td>\n",
       "      <td>LULA</td>\n",
       "    </tr>\n",
       "    <tr>\n",
       "      <th>1</th>\n",
       "      <td>2003-01-02</td>\n",
       "      <td>***.010.008-**</td>\n",
       "      <td>3.134920e+13</td>\n",
       "      <td>JW TRANSPORTADORA TURÖSTICA</td>\n",
       "      <td>R$ 1.336,60</td>\n",
       "      <td>D</td>\n",
       "      <td>LOCACAO DE MEIOS DE TRANSPORTE</td>\n",
       "      <td>00200.220539/2003-63.R.08.18/12/2002.31/12/2014.N</td>\n",
       "      <td>2003.0</td>\n",
       "      <td>1336.60</td>\n",
       "      <td>LULA</td>\n",
       "    </tr>\n",
       "    <tr>\n",
       "      <th>2</th>\n",
       "      <td>2003-01-02</td>\n",
       "      <td>***.868.251-**</td>\n",
       "      <td>3.134920e+13</td>\n",
       "      <td>JW TRANSPORTADORA TURÖSTICA</td>\n",
       "      <td>R$ 1.396,43</td>\n",
       "      <td>D</td>\n",
       "      <td>LOCACAO DE MEIOS DE TRANSPORTE</td>\n",
       "      <td>00200.600539/2003-63.R.08.18/12/2002.31/12/2014.N</td>\n",
       "      <td>2003.0</td>\n",
       "      <td>1396.43</td>\n",
       "      <td>LULA</td>\n",
       "    </tr>\n",
       "    <tr>\n",
       "      <th>3</th>\n",
       "      <td>2003-01-03</td>\n",
       "      <td>***.004.131-**</td>\n",
       "      <td>5.927170e+11</td>\n",
       "      <td>FLORES ALVORADA</td>\n",
       "      <td>R$ 8.585,00</td>\n",
       "      <td>C</td>\n",
       "      <td>OUTROS SERVIOS DE TERCEIROS-PESSOA JURÖDICA</td>\n",
       "      <td>00200.800212/2003-91.R.08.07/12/2002.31/12/2014.N</td>\n",
       "      <td>2003.0</td>\n",
       "      <td>8585.00</td>\n",
       "      <td>LULA</td>\n",
       "    </tr>\n",
       "    <tr>\n",
       "      <th>4</th>\n",
       "      <td>2003-01-03</td>\n",
       "      <td>***.004.131-**</td>\n",
       "      <td>8.393080e+11</td>\n",
       "      <td>CRISTAL LIMPEZA - COMRCIO DE MATERIAIS PARA L...</td>\n",
       "      <td>R$ 251,50</td>\n",
       "      <td>C</td>\n",
       "      <td>MATERIAL DE LIMPEZA E PROD. DE HIGIENIZAÇO</td>\n",
       "      <td>00200.800212/2003-91.R.08.07/12/2002.31/12/2014.N</td>\n",
       "      <td>2003.0</td>\n",
       "      <td>251.50</td>\n",
       "      <td>LULA</td>\n",
       "    </tr>\n",
       "    <tr>\n",
       "      <th>...</th>\n",
       "      <td>...</td>\n",
       "      <td>...</td>\n",
       "      <td>...</td>\n",
       "      <td>...</td>\n",
       "      <td>...</td>\n",
       "      <td>...</td>\n",
       "      <td>...</td>\n",
       "      <td>...</td>\n",
       "      <td>...</td>\n",
       "      <td>...</td>\n",
       "      <td>...</td>\n",
       "    </tr>\n",
       "    <tr>\n",
       "      <th>65865</th>\n",
       "      <td>2010-12-30</td>\n",
       "      <td>***.570.341-**</td>\n",
       "      <td>7.653576e+13</td>\n",
       "      <td>BRASIL TELECOM S/A - FILIAL CRT</td>\n",
       "      <td>R$ 455,73</td>\n",
       "      <td>D</td>\n",
       "      <td>SERVIOS DE TELECOMUNICAåES</td>\n",
       "      <td>00150.001812/2010-39.R.08.27/11/2010.31/12/2014.N</td>\n",
       "      <td>2010.0</td>\n",
       "      <td>455.73</td>\n",
       "      <td>LULA</td>\n",
       "    </tr>\n",
       "    <tr>\n",
       "      <th>65866</th>\n",
       "      <td>2010-12-31</td>\n",
       "      <td>***.262.471-**</td>\n",
       "      <td>1.121094e+13</td>\n",
       "      <td>VIANDE BOUTIQUE DE CARNES LTDA ME</td>\n",
       "      <td>R$ 224,54</td>\n",
       "      <td>C</td>\n",
       "      <td>GENEROS DE ALIMENTAÇO</td>\n",
       "      <td>00150.001802/2010-01.R.08.27/11/2010.31/12/2014.N</td>\n",
       "      <td>2010.0</td>\n",
       "      <td>224.54</td>\n",
       "      <td>LULA</td>\n",
       "    </tr>\n",
       "    <tr>\n",
       "      <th>65867</th>\n",
       "      <td>2010-12-31</td>\n",
       "      <td>***.262.471-**</td>\n",
       "      <td>3.841910e+12</td>\n",
       "      <td>NAZAR TECIDOS E PLµSTICOS</td>\n",
       "      <td>R$ 1.550,00</td>\n",
       "      <td>C</td>\n",
       "      <td>MATERIAL DE COPA E COZINHA</td>\n",
       "      <td>00150.001802/2010-01.R.08.27/11/2010.31/12/2014.N</td>\n",
       "      <td>2010.0</td>\n",
       "      <td>1550.00</td>\n",
       "      <td>LULA</td>\n",
       "    </tr>\n",
       "    <tr>\n",
       "      <th>65868</th>\n",
       "      <td>2010-12-31</td>\n",
       "      <td>***.262.471-**</td>\n",
       "      <td>1.610583e+12</td>\n",
       "      <td>DISTRIBUIDORA DE CARNE MORRO BRANCO LTDA - ME</td>\n",
       "      <td>R$ 313,56</td>\n",
       "      <td>C</td>\n",
       "      <td>GENEROS DE ALIMENTAÇO</td>\n",
       "      <td>00150.001802/2010-01.R.08.27/11/2010.31/12/2014.N</td>\n",
       "      <td>2010.0</td>\n",
       "      <td>313.56</td>\n",
       "      <td>LULA</td>\n",
       "    </tr>\n",
       "    <tr>\n",
       "      <th>65869</th>\n",
       "      <td>2010-12-31</td>\n",
       "      <td>***.262.471-**</td>\n",
       "      <td>6.726000e+11</td>\n",
       "      <td>MERCADINHO LA PALMA LTDA</td>\n",
       "      <td>R$ 11.152,46</td>\n",
       "      <td>C</td>\n",
       "      <td>GENEROS DE ALIMENTAÇO</td>\n",
       "      <td>00150.001802/2010-01.R.08.27/11/2010.31/12/2014.N</td>\n",
       "      <td>2010.0</td>\n",
       "      <td>11152.46</td>\n",
       "      <td>LULA</td>\n",
       "    </tr>\n",
       "  </tbody>\n",
       "</table>\n",
       "<p>65859 rows × 11 columns</p>\n",
       "</div>"
      ],
      "text/plain": [
       "       DATA PGTO    CPF SERVIDOR  CPF/CNPJ FORNECEDOR  \\\n",
       "0     2003-01-02  ***.010.008-**         3.134920e+13   \n",
       "1     2003-01-02  ***.010.008-**         3.134920e+13   \n",
       "2     2003-01-02  ***.868.251-**         3.134920e+13   \n",
       "3     2003-01-03  ***.004.131-**         5.927170e+11   \n",
       "4     2003-01-03  ***.004.131-**         8.393080e+11   \n",
       "...          ...             ...                  ...   \n",
       "65865 2010-12-30  ***.570.341-**         7.653576e+13   \n",
       "65866 2010-12-31  ***.262.471-**         1.121094e+13   \n",
       "65867 2010-12-31  ***.262.471-**         3.841910e+12   \n",
       "65868 2010-12-31  ***.262.471-**         1.610583e+12   \n",
       "65869 2010-12-31  ***.262.471-**         6.726000e+11   \n",
       "\n",
       "                                         NOME FORNECEDOR           VALOR TIPO  \\\n",
       "0                            JW TRANSPORTADORA TURÖSTICA    R$ 1.696,90     D   \n",
       "1                            JW TRANSPORTADORA TURÖSTICA    R$ 1.336,60     D   \n",
       "2                            JW TRANSPORTADORA TURÖSTICA    R$ 1.396,43     D   \n",
       "3                                        FLORES ALVORADA    R$ 8.585,00     C   \n",
       "4      CRISTAL LIMPEZA - COMRCIO DE MATERIAIS PARA L...      R$ 251,50     C   \n",
       "...                                                  ...             ...  ...   \n",
       "65865                    BRASIL TELECOM S/A - FILIAL CRT      R$ 455,73     D   \n",
       "65866                  VIANDE BOUTIQUE DE CARNES LTDA ME      R$ 224,54     C   \n",
       "65867                         NAZAR TECIDOS E PLµSTICOS    R$ 1.550,00     C   \n",
       "65868      DISTRIBUIDORA DE CARNE MORRO BRANCO LTDA - ME      R$ 313,56     C   \n",
       "65869                           MERCADINHO LA PALMA LTDA   R$ 11.152,46     C   \n",
       "\n",
       "                             SUBELEMENTO DE DESPESA  \\\n",
       "0                    LOCACAO DE MEIOS DE TRANSPORTE   \n",
       "1                    LOCACAO DE MEIOS DE TRANSPORTE   \n",
       "2                    LOCACAO DE MEIOS DE TRANSPORTE   \n",
       "3      OUTROS SERVIOS DE TERCEIROS-PESSOA JURÖDICA   \n",
       "4       MATERIAL DE LIMPEZA E PROD. DE HIGIENIZAÇO   \n",
       "...                                             ...   \n",
       "65865                  SERVIOS DE TELECOMUNICAåES   \n",
       "65866                        GENEROS DE ALIMENTAÇO   \n",
       "65867                    MATERIAL DE COPA E COZINHA   \n",
       "65868                        GENEROS DE ALIMENTAÇO   \n",
       "65869                        GENEROS DE ALIMENTAÇO   \n",
       "\n",
       "                                                    CDIC     ANO  VALOR_NUM  \\\n",
       "0      00200.220539/2003-63.R.08.18/12/2002.31/12/2014.N  2003.0    1696.90   \n",
       "1      00200.220539/2003-63.R.08.18/12/2002.31/12/2014.N  2003.0    1336.60   \n",
       "2      00200.600539/2003-63.R.08.18/12/2002.31/12/2014.N  2003.0    1396.43   \n",
       "3      00200.800212/2003-91.R.08.07/12/2002.31/12/2014.N  2003.0    8585.00   \n",
       "4      00200.800212/2003-91.R.08.07/12/2002.31/12/2014.N  2003.0     251.50   \n",
       "...                                                  ...     ...        ...   \n",
       "65865  00150.001812/2010-39.R.08.27/11/2010.31/12/2014.N  2010.0     455.73   \n",
       "65866  00150.001802/2010-01.R.08.27/11/2010.31/12/2014.N  2010.0     224.54   \n",
       "65867  00150.001802/2010-01.R.08.27/11/2010.31/12/2014.N  2010.0    1550.00   \n",
       "65868  00150.001802/2010-01.R.08.27/11/2010.31/12/2014.N  2010.0     313.56   \n",
       "65869  00150.001802/2010-01.R.08.27/11/2010.31/12/2014.N  2010.0   11152.46   \n",
       "\n",
       "       PRES  \n",
       "0      LULA  \n",
       "1      LULA  \n",
       "2      LULA  \n",
       "3      LULA  \n",
       "4      LULA  \n",
       "...     ...  \n",
       "65865  LULA  \n",
       "65866  LULA  \n",
       "65867  LULA  \n",
       "65868  LULA  \n",
       "65869  LULA  \n",
       "\n",
       "[65859 rows x 11 columns]"
      ]
     },
     "execution_count": 10,
     "metadata": {},
     "output_type": "execute_result"
    }
   ],
   "source": [
    "gastos_lula = gastos_processed[gastos_processed['PRES'] == 'LULA']\n",
    "gastos_lula"
   ]
  },
  {
   "cell_type": "code",
   "execution_count": 12,
   "metadata": {},
   "outputs": [
    {
     "data": {
      "text/html": [
       "<div>\n",
       "<style scoped>\n",
       "    .dataframe tbody tr th:only-of-type {\n",
       "        vertical-align: middle;\n",
       "    }\n",
       "\n",
       "    .dataframe tbody tr th {\n",
       "        vertical-align: top;\n",
       "    }\n",
       "\n",
       "    .dataframe thead th {\n",
       "        text-align: right;\n",
       "    }\n",
       "</style>\n",
       "<table border=\"1\" class=\"dataframe\">\n",
       "  <thead>\n",
       "    <tr style=\"text-align: right;\">\n",
       "      <th></th>\n",
       "      <th>TIPO</th>\n",
       "      <th>SUBELEMENTO DE DESPESA</th>\n",
       "      <th>VALOR_NUM</th>\n",
       "    </tr>\n",
       "  </thead>\n",
       "  <tbody>\n",
       "    <tr>\n",
       "      <th>0</th>\n",
       "      <td>C</td>\n",
       "      <td>ALIMENTOS PARA ANIMAIS</td>\n",
       "      <td>50659.31</td>\n",
       "    </tr>\n",
       "    <tr>\n",
       "      <th>1</th>\n",
       "      <td>C</td>\n",
       "      <td>APARELHOS E UTENSÖLIOS DOMSTICOS</td>\n",
       "      <td>288.00</td>\n",
       "    </tr>\n",
       "    <tr>\n",
       "      <th>2</th>\n",
       "      <td>C</td>\n",
       "      <td>ASSINATURAS DE PERIàDICOS E ANUIDADES</td>\n",
       "      <td>37.10</td>\n",
       "    </tr>\n",
       "    <tr>\n",
       "      <th>3</th>\n",
       "      <td>C</td>\n",
       "      <td>BANDEIRAS FLAMULAS E INSIGNAS</td>\n",
       "      <td>80.00</td>\n",
       "    </tr>\n",
       "    <tr>\n",
       "      <th>4</th>\n",
       "      <td>C</td>\n",
       "      <td>COMBUSTIVEIS E LUBRF. P/ OUTRAS FINALIDADES</td>\n",
       "      <td>4707.06</td>\n",
       "    </tr>\n",
       "    <tr>\n",
       "      <th>...</th>\n",
       "      <td>...</td>\n",
       "      <td>...</td>\n",
       "      <td>...</td>\n",
       "    </tr>\n",
       "    <tr>\n",
       "      <th>158</th>\n",
       "      <td>D</td>\n",
       "      <td>SERVIOS GRµFICOS</td>\n",
       "      <td>5743.20</td>\n",
       "    </tr>\n",
       "    <tr>\n",
       "      <th>159</th>\n",
       "      <td>D</td>\n",
       "      <td>SERVIOS JUDICIµRIOS</td>\n",
       "      <td>2.65</td>\n",
       "    </tr>\n",
       "    <tr>\n",
       "      <th>160</th>\n",
       "      <td>D</td>\n",
       "      <td>SOBRESSALENTES DE ARMAMENTO</td>\n",
       "      <td>4756.19</td>\n",
       "    </tr>\n",
       "    <tr>\n",
       "      <th>161</th>\n",
       "      <td>D</td>\n",
       "      <td>UNIFORMES, TECIDOS E AVIAMENTOS</td>\n",
       "      <td>4835.65</td>\n",
       "    </tr>\n",
       "    <tr>\n",
       "      <th>162</th>\n",
       "      <td>D</td>\n",
       "      <td>VALE-TRANSPORTE</td>\n",
       "      <td>917.70</td>\n",
       "    </tr>\n",
       "  </tbody>\n",
       "</table>\n",
       "<p>163 rows × 3 columns</p>\n",
       "</div>"
      ],
      "text/plain": [
       "    TIPO                       SUBELEMENTO DE DESPESA  VALOR_NUM\n",
       "0      C                       ALIMENTOS PARA ANIMAIS   50659.31\n",
       "1      C            APARELHOS E UTENSÖLIOS DOMSTICOS     288.00\n",
       "2      C        ASSINATURAS DE PERIàDICOS E ANUIDADES      37.10\n",
       "3      C                BANDEIRAS FLAMULAS E INSIGNAS      80.00\n",
       "4      C  COMBUSTIVEIS E LUBRF. P/ OUTRAS FINALIDADES    4707.06\n",
       "..   ...                                          ...        ...\n",
       "158    D                            SERVIOS GRµFICOS    5743.20\n",
       "159    D                         SERVIOS JUDICIµRIOS       2.65\n",
       "160    D                  SOBRESSALENTES DE ARMAMENTO    4756.19\n",
       "161    D              UNIFORMES, TECIDOS E AVIAMENTOS    4835.65\n",
       "162    D                              VALE-TRANSPORTE     917.70\n",
       "\n",
       "[163 rows x 3 columns]"
      ]
     },
     "execution_count": 12,
     "metadata": {},
     "output_type": "execute_result"
    }
   ],
   "source": [
    "gastos_lula_setores = gastos_lula.groupby([\"TIPO\", \"SUBELEMENTO DE DESPESA\"]).agg({\"VALOR_NUM\": sum}).reset_index()\n",
    "gastos_lula_setores"
   ]
  },
  {
   "cell_type": "code",
   "execution_count": 13,
   "metadata": {},
   "outputs": [
    {
     "data": {
      "text/html": [
       "<div>\n",
       "<style scoped>\n",
       "    .dataframe tbody tr th:only-of-type {\n",
       "        vertical-align: middle;\n",
       "    }\n",
       "\n",
       "    .dataframe tbody tr th {\n",
       "        vertical-align: top;\n",
       "    }\n",
       "\n",
       "    .dataframe thead th {\n",
       "        text-align: right;\n",
       "    }\n",
       "</style>\n",
       "<table border=\"1\" class=\"dataframe\">\n",
       "  <thead>\n",
       "    <tr style=\"text-align: right;\">\n",
       "      <th></th>\n",
       "      <th>TIPO</th>\n",
       "      <th>VALOR_NUM</th>\n",
       "    </tr>\n",
       "  </thead>\n",
       "  <tbody>\n",
       "    <tr>\n",
       "      <th>0</th>\n",
       "      <td>C</td>\n",
       "      <td>1.036233e+08</td>\n",
       "    </tr>\n",
       "    <tr>\n",
       "      <th>1</th>\n",
       "      <td>D</td>\n",
       "      <td>1.127038e+07</td>\n",
       "    </tr>\n",
       "  </tbody>\n",
       "</table>\n",
       "</div>"
      ],
      "text/plain": [
       "  TIPO     VALOR_NUM\n",
       "0    C  1.036233e+08\n",
       "1    D  1.127038e+07"
      ]
     },
     "execution_count": 13,
     "metadata": {},
     "output_type": "execute_result"
    }
   ],
   "source": [
    "gastos_lula_setores = gastos_processed.groupby([\"TIPO\"]).agg({\"VALOR_NUM\": sum}).reset_index()\n",
    "gastos_lula_setores"
   ]
  },
  {
   "cell_type": "code",
   "execution_count": 60,
   "metadata": {},
   "outputs": [],
   "source": [
    "fig_lula = px.bar(gastos_lula_setores, x='TIPO', y=\"VALOR_NUM\", color='TIPO',\n",
    "             title=\"Gastos do cartão presidencial por tipo\",\n",
    "             labels={\"VALOR_NUM\": \"Valor em milhões\", 'TIPO': \"Tipo do gasto\"},\n",
    "             color_discrete_sequence=px.colors.sequential.Greens_r)"
   ]
  },
  {
   "cell_type": "code",
   "execution_count": 61,
   "metadata": {},
   "outputs": [
    {
     "data": {
      "application/vnd.plotly.v1+json": {
       "config": {
        "plotlyServerURL": "https://plot.ly"
       },
       "data": [
        {
         "alignmentgroup": "True",
         "hovertemplate": "Tipo do gasto=%{x}<br>Valor em milhões=%{y}<extra></extra>",
         "legendgroup": "C",
         "marker": {
          "color": "rgb(0,68,27)",
          "pattern": {
           "shape": ""
          }
         },
         "name": "C",
         "offsetgroup": "C",
         "orientation": "v",
         "showlegend": true,
         "textposition": "auto",
         "type": "bar",
         "x": [
          "C"
         ],
         "xaxis": "x",
         "y": [
          103623317.73
         ],
         "yaxis": "y"
        },
        {
         "alignmentgroup": "True",
         "hovertemplate": "Tipo do gasto=%{x}<br>Valor em milhões=%{y}<extra></extra>",
         "legendgroup": "D",
         "marker": {
          "color": "rgb(0,109,44)",
          "pattern": {
           "shape": ""
          }
         },
         "name": "D",
         "offsetgroup": "D",
         "orientation": "v",
         "showlegend": true,
         "textposition": "auto",
         "type": "bar",
         "x": [
          "D"
         ],
         "xaxis": "x",
         "y": [
          11270379.48
         ],
         "yaxis": "y"
        }
       ],
       "layout": {
        "barmode": "relative",
        "legend": {
         "title": {
          "text": "Tipo do gasto"
         },
         "tracegroupgap": 0
        },
        "template": {
         "data": {
          "bar": [
           {
            "error_x": {
             "color": "#2a3f5f"
            },
            "error_y": {
             "color": "#2a3f5f"
            },
            "marker": {
             "line": {
              "color": "#E5ECF6",
              "width": 0.5
             },
             "pattern": {
              "fillmode": "overlay",
              "size": 10,
              "solidity": 0.2
             }
            },
            "type": "bar"
           }
          ],
          "barpolar": [
           {
            "marker": {
             "line": {
              "color": "#E5ECF6",
              "width": 0.5
             },
             "pattern": {
              "fillmode": "overlay",
              "size": 10,
              "solidity": 0.2
             }
            },
            "type": "barpolar"
           }
          ],
          "carpet": [
           {
            "aaxis": {
             "endlinecolor": "#2a3f5f",
             "gridcolor": "white",
             "linecolor": "white",
             "minorgridcolor": "white",
             "startlinecolor": "#2a3f5f"
            },
            "baxis": {
             "endlinecolor": "#2a3f5f",
             "gridcolor": "white",
             "linecolor": "white",
             "minorgridcolor": "white",
             "startlinecolor": "#2a3f5f"
            },
            "type": "carpet"
           }
          ],
          "choropleth": [
           {
            "colorbar": {
             "outlinewidth": 0,
             "ticks": ""
            },
            "type": "choropleth"
           }
          ],
          "contour": [
           {
            "colorbar": {
             "outlinewidth": 0,
             "ticks": ""
            },
            "colorscale": [
             [
              0,
              "#0d0887"
             ],
             [
              0.1111111111111111,
              "#46039f"
             ],
             [
              0.2222222222222222,
              "#7201a8"
             ],
             [
              0.3333333333333333,
              "#9c179e"
             ],
             [
              0.4444444444444444,
              "#bd3786"
             ],
             [
              0.5555555555555556,
              "#d8576b"
             ],
             [
              0.6666666666666666,
              "#ed7953"
             ],
             [
              0.7777777777777778,
              "#fb9f3a"
             ],
             [
              0.8888888888888888,
              "#fdca26"
             ],
             [
              1,
              "#f0f921"
             ]
            ],
            "type": "contour"
           }
          ],
          "contourcarpet": [
           {
            "colorbar": {
             "outlinewidth": 0,
             "ticks": ""
            },
            "type": "contourcarpet"
           }
          ],
          "heatmap": [
           {
            "colorbar": {
             "outlinewidth": 0,
             "ticks": ""
            },
            "colorscale": [
             [
              0,
              "#0d0887"
             ],
             [
              0.1111111111111111,
              "#46039f"
             ],
             [
              0.2222222222222222,
              "#7201a8"
             ],
             [
              0.3333333333333333,
              "#9c179e"
             ],
             [
              0.4444444444444444,
              "#bd3786"
             ],
             [
              0.5555555555555556,
              "#d8576b"
             ],
             [
              0.6666666666666666,
              "#ed7953"
             ],
             [
              0.7777777777777778,
              "#fb9f3a"
             ],
             [
              0.8888888888888888,
              "#fdca26"
             ],
             [
              1,
              "#f0f921"
             ]
            ],
            "type": "heatmap"
           }
          ],
          "heatmapgl": [
           {
            "colorbar": {
             "outlinewidth": 0,
             "ticks": ""
            },
            "colorscale": [
             [
              0,
              "#0d0887"
             ],
             [
              0.1111111111111111,
              "#46039f"
             ],
             [
              0.2222222222222222,
              "#7201a8"
             ],
             [
              0.3333333333333333,
              "#9c179e"
             ],
             [
              0.4444444444444444,
              "#bd3786"
             ],
             [
              0.5555555555555556,
              "#d8576b"
             ],
             [
              0.6666666666666666,
              "#ed7953"
             ],
             [
              0.7777777777777778,
              "#fb9f3a"
             ],
             [
              0.8888888888888888,
              "#fdca26"
             ],
             [
              1,
              "#f0f921"
             ]
            ],
            "type": "heatmapgl"
           }
          ],
          "histogram": [
           {
            "marker": {
             "pattern": {
              "fillmode": "overlay",
              "size": 10,
              "solidity": 0.2
             }
            },
            "type": "histogram"
           }
          ],
          "histogram2d": [
           {
            "colorbar": {
             "outlinewidth": 0,
             "ticks": ""
            },
            "colorscale": [
             [
              0,
              "#0d0887"
             ],
             [
              0.1111111111111111,
              "#46039f"
             ],
             [
              0.2222222222222222,
              "#7201a8"
             ],
             [
              0.3333333333333333,
              "#9c179e"
             ],
             [
              0.4444444444444444,
              "#bd3786"
             ],
             [
              0.5555555555555556,
              "#d8576b"
             ],
             [
              0.6666666666666666,
              "#ed7953"
             ],
             [
              0.7777777777777778,
              "#fb9f3a"
             ],
             [
              0.8888888888888888,
              "#fdca26"
             ],
             [
              1,
              "#f0f921"
             ]
            ],
            "type": "histogram2d"
           }
          ],
          "histogram2dcontour": [
           {
            "colorbar": {
             "outlinewidth": 0,
             "ticks": ""
            },
            "colorscale": [
             [
              0,
              "#0d0887"
             ],
             [
              0.1111111111111111,
              "#46039f"
             ],
             [
              0.2222222222222222,
              "#7201a8"
             ],
             [
              0.3333333333333333,
              "#9c179e"
             ],
             [
              0.4444444444444444,
              "#bd3786"
             ],
             [
              0.5555555555555556,
              "#d8576b"
             ],
             [
              0.6666666666666666,
              "#ed7953"
             ],
             [
              0.7777777777777778,
              "#fb9f3a"
             ],
             [
              0.8888888888888888,
              "#fdca26"
             ],
             [
              1,
              "#f0f921"
             ]
            ],
            "type": "histogram2dcontour"
           }
          ],
          "mesh3d": [
           {
            "colorbar": {
             "outlinewidth": 0,
             "ticks": ""
            },
            "type": "mesh3d"
           }
          ],
          "parcoords": [
           {
            "line": {
             "colorbar": {
              "outlinewidth": 0,
              "ticks": ""
             }
            },
            "type": "parcoords"
           }
          ],
          "pie": [
           {
            "automargin": true,
            "type": "pie"
           }
          ],
          "scatter": [
           {
            "fillpattern": {
             "fillmode": "overlay",
             "size": 10,
             "solidity": 0.2
            },
            "type": "scatter"
           }
          ],
          "scatter3d": [
           {
            "line": {
             "colorbar": {
              "outlinewidth": 0,
              "ticks": ""
             }
            },
            "marker": {
             "colorbar": {
              "outlinewidth": 0,
              "ticks": ""
             }
            },
            "type": "scatter3d"
           }
          ],
          "scattercarpet": [
           {
            "marker": {
             "colorbar": {
              "outlinewidth": 0,
              "ticks": ""
             }
            },
            "type": "scattercarpet"
           }
          ],
          "scattergeo": [
           {
            "marker": {
             "colorbar": {
              "outlinewidth": 0,
              "ticks": ""
             }
            },
            "type": "scattergeo"
           }
          ],
          "scattergl": [
           {
            "marker": {
             "colorbar": {
              "outlinewidth": 0,
              "ticks": ""
             }
            },
            "type": "scattergl"
           }
          ],
          "scattermapbox": [
           {
            "marker": {
             "colorbar": {
              "outlinewidth": 0,
              "ticks": ""
             }
            },
            "type": "scattermapbox"
           }
          ],
          "scatterpolar": [
           {
            "marker": {
             "colorbar": {
              "outlinewidth": 0,
              "ticks": ""
             }
            },
            "type": "scatterpolar"
           }
          ],
          "scatterpolargl": [
           {
            "marker": {
             "colorbar": {
              "outlinewidth": 0,
              "ticks": ""
             }
            },
            "type": "scatterpolargl"
           }
          ],
          "scatterternary": [
           {
            "marker": {
             "colorbar": {
              "outlinewidth": 0,
              "ticks": ""
             }
            },
            "type": "scatterternary"
           }
          ],
          "surface": [
           {
            "colorbar": {
             "outlinewidth": 0,
             "ticks": ""
            },
            "colorscale": [
             [
              0,
              "#0d0887"
             ],
             [
              0.1111111111111111,
              "#46039f"
             ],
             [
              0.2222222222222222,
              "#7201a8"
             ],
             [
              0.3333333333333333,
              "#9c179e"
             ],
             [
              0.4444444444444444,
              "#bd3786"
             ],
             [
              0.5555555555555556,
              "#d8576b"
             ],
             [
              0.6666666666666666,
              "#ed7953"
             ],
             [
              0.7777777777777778,
              "#fb9f3a"
             ],
             [
              0.8888888888888888,
              "#fdca26"
             ],
             [
              1,
              "#f0f921"
             ]
            ],
            "type": "surface"
           }
          ],
          "table": [
           {
            "cells": {
             "fill": {
              "color": "#EBF0F8"
             },
             "line": {
              "color": "white"
             }
            },
            "header": {
             "fill": {
              "color": "#C8D4E3"
             },
             "line": {
              "color": "white"
             }
            },
            "type": "table"
           }
          ]
         },
         "layout": {
          "annotationdefaults": {
           "arrowcolor": "#2a3f5f",
           "arrowhead": 0,
           "arrowwidth": 1
          },
          "autotypenumbers": "strict",
          "coloraxis": {
           "colorbar": {
            "outlinewidth": 0,
            "ticks": ""
           }
          },
          "colorscale": {
           "diverging": [
            [
             0,
             "#8e0152"
            ],
            [
             0.1,
             "#c51b7d"
            ],
            [
             0.2,
             "#de77ae"
            ],
            [
             0.3,
             "#f1b6da"
            ],
            [
             0.4,
             "#fde0ef"
            ],
            [
             0.5,
             "#f7f7f7"
            ],
            [
             0.6,
             "#e6f5d0"
            ],
            [
             0.7,
             "#b8e186"
            ],
            [
             0.8,
             "#7fbc41"
            ],
            [
             0.9,
             "#4d9221"
            ],
            [
             1,
             "#276419"
            ]
           ],
           "sequential": [
            [
             0,
             "#0d0887"
            ],
            [
             0.1111111111111111,
             "#46039f"
            ],
            [
             0.2222222222222222,
             "#7201a8"
            ],
            [
             0.3333333333333333,
             "#9c179e"
            ],
            [
             0.4444444444444444,
             "#bd3786"
            ],
            [
             0.5555555555555556,
             "#d8576b"
            ],
            [
             0.6666666666666666,
             "#ed7953"
            ],
            [
             0.7777777777777778,
             "#fb9f3a"
            ],
            [
             0.8888888888888888,
             "#fdca26"
            ],
            [
             1,
             "#f0f921"
            ]
           ],
           "sequentialminus": [
            [
             0,
             "#0d0887"
            ],
            [
             0.1111111111111111,
             "#46039f"
            ],
            [
             0.2222222222222222,
             "#7201a8"
            ],
            [
             0.3333333333333333,
             "#9c179e"
            ],
            [
             0.4444444444444444,
             "#bd3786"
            ],
            [
             0.5555555555555556,
             "#d8576b"
            ],
            [
             0.6666666666666666,
             "#ed7953"
            ],
            [
             0.7777777777777778,
             "#fb9f3a"
            ],
            [
             0.8888888888888888,
             "#fdca26"
            ],
            [
             1,
             "#f0f921"
            ]
           ]
          },
          "colorway": [
           "#636efa",
           "#EF553B",
           "#00cc96",
           "#ab63fa",
           "#FFA15A",
           "#19d3f3",
           "#FF6692",
           "#B6E880",
           "#FF97FF",
           "#FECB52"
          ],
          "font": {
           "color": "#2a3f5f"
          },
          "geo": {
           "bgcolor": "white",
           "lakecolor": "white",
           "landcolor": "#E5ECF6",
           "showlakes": true,
           "showland": true,
           "subunitcolor": "white"
          },
          "hoverlabel": {
           "align": "left"
          },
          "hovermode": "closest",
          "mapbox": {
           "style": "light"
          },
          "paper_bgcolor": "white",
          "plot_bgcolor": "#E5ECF6",
          "polar": {
           "angularaxis": {
            "gridcolor": "white",
            "linecolor": "white",
            "ticks": ""
           },
           "bgcolor": "#E5ECF6",
           "radialaxis": {
            "gridcolor": "white",
            "linecolor": "white",
            "ticks": ""
           }
          },
          "scene": {
           "xaxis": {
            "backgroundcolor": "#E5ECF6",
            "gridcolor": "white",
            "gridwidth": 2,
            "linecolor": "white",
            "showbackground": true,
            "ticks": "",
            "zerolinecolor": "white"
           },
           "yaxis": {
            "backgroundcolor": "#E5ECF6",
            "gridcolor": "white",
            "gridwidth": 2,
            "linecolor": "white",
            "showbackground": true,
            "ticks": "",
            "zerolinecolor": "white"
           },
           "zaxis": {
            "backgroundcolor": "#E5ECF6",
            "gridcolor": "white",
            "gridwidth": 2,
            "linecolor": "white",
            "showbackground": true,
            "ticks": "",
            "zerolinecolor": "white"
           }
          },
          "shapedefaults": {
           "line": {
            "color": "#2a3f5f"
           }
          },
          "ternary": {
           "aaxis": {
            "gridcolor": "white",
            "linecolor": "white",
            "ticks": ""
           },
           "baxis": {
            "gridcolor": "white",
            "linecolor": "white",
            "ticks": ""
           },
           "bgcolor": "#E5ECF6",
           "caxis": {
            "gridcolor": "white",
            "linecolor": "white",
            "ticks": ""
           }
          },
          "title": {
           "x": 0.05
          },
          "xaxis": {
           "automargin": true,
           "gridcolor": "white",
           "linecolor": "white",
           "ticks": "",
           "title": {
            "standoff": 15
           },
           "zerolinecolor": "white",
           "zerolinewidth": 2
          },
          "yaxis": {
           "automargin": true,
           "gridcolor": "white",
           "linecolor": "white",
           "ticks": "",
           "title": {
            "standoff": 15
           },
           "zerolinecolor": "white",
           "zerolinewidth": 2
          }
         }
        },
        "title": {
         "text": "Gastos do cartão presidencial por tipo"
        },
        "xaxis": {
         "anchor": "y",
         "categoryarray": [
          "C",
          "D"
         ],
         "categoryorder": "array",
         "domain": [
          0,
          1
         ],
         "title": {
          "text": "Tipo do gasto"
         }
        },
        "yaxis": {
         "anchor": "x",
         "domain": [
          0,
          1
         ],
         "title": {
          "text": "Valor em milhões"
         }
        }
       }
      }
     },
     "metadata": {},
     "output_type": "display_data"
    }
   ],
   "source": [
    "fig_lula.show()"
   ]
  },
  {
   "cell_type": "code",
   "execution_count": 64,
   "metadata": {},
   "outputs": [
    {
     "data": {
      "application/vnd.plotly.v1+json": {
       "config": {
        "plotlyServerURL": "https://plot.ly"
       },
       "data": [
        {
         "domain": {
          "x": [
           0,
           1
          ],
          "y": [
           0,
           1
          ]
         },
         "hovertemplate": "TIPO=%{label}<br>VALOR_NUM=%{value}<extra></extra>",
         "labels": [
          "C",
          "D"
         ],
         "legendgroup": "",
         "name": "",
         "showlegend": true,
         "type": "pie",
         "values": [
          103623317.73,
          11270379.48
         ]
        }
       ],
       "layout": {
        "legend": {
         "tracegroupgap": 0
        },
        "piecolorway": [
         "rgb(103,0,31)",
         "rgb(178,24,43)",
         "rgb(214,96,77)",
         "rgb(244,165,130)",
         "rgb(253,219,199)",
         "rgb(247,247,247)",
         "rgb(209,229,240)",
         "rgb(146,197,222)",
         "rgb(67,147,195)",
         "rgb(33,102,172)",
         "rgb(5,48,97)"
        ],
        "template": {
         "data": {
          "bar": [
           {
            "error_x": {
             "color": "#2a3f5f"
            },
            "error_y": {
             "color": "#2a3f5f"
            },
            "marker": {
             "line": {
              "color": "#E5ECF6",
              "width": 0.5
             },
             "pattern": {
              "fillmode": "overlay",
              "size": 10,
              "solidity": 0.2
             }
            },
            "type": "bar"
           }
          ],
          "barpolar": [
           {
            "marker": {
             "line": {
              "color": "#E5ECF6",
              "width": 0.5
             },
             "pattern": {
              "fillmode": "overlay",
              "size": 10,
              "solidity": 0.2
             }
            },
            "type": "barpolar"
           }
          ],
          "carpet": [
           {
            "aaxis": {
             "endlinecolor": "#2a3f5f",
             "gridcolor": "white",
             "linecolor": "white",
             "minorgridcolor": "white",
             "startlinecolor": "#2a3f5f"
            },
            "baxis": {
             "endlinecolor": "#2a3f5f",
             "gridcolor": "white",
             "linecolor": "white",
             "minorgridcolor": "white",
             "startlinecolor": "#2a3f5f"
            },
            "type": "carpet"
           }
          ],
          "choropleth": [
           {
            "colorbar": {
             "outlinewidth": 0,
             "ticks": ""
            },
            "type": "choropleth"
           }
          ],
          "contour": [
           {
            "colorbar": {
             "outlinewidth": 0,
             "ticks": ""
            },
            "colorscale": [
             [
              0,
              "#0d0887"
             ],
             [
              0.1111111111111111,
              "#46039f"
             ],
             [
              0.2222222222222222,
              "#7201a8"
             ],
             [
              0.3333333333333333,
              "#9c179e"
             ],
             [
              0.4444444444444444,
              "#bd3786"
             ],
             [
              0.5555555555555556,
              "#d8576b"
             ],
             [
              0.6666666666666666,
              "#ed7953"
             ],
             [
              0.7777777777777778,
              "#fb9f3a"
             ],
             [
              0.8888888888888888,
              "#fdca26"
             ],
             [
              1,
              "#f0f921"
             ]
            ],
            "type": "contour"
           }
          ],
          "contourcarpet": [
           {
            "colorbar": {
             "outlinewidth": 0,
             "ticks": ""
            },
            "type": "contourcarpet"
           }
          ],
          "heatmap": [
           {
            "colorbar": {
             "outlinewidth": 0,
             "ticks": ""
            },
            "colorscale": [
             [
              0,
              "#0d0887"
             ],
             [
              0.1111111111111111,
              "#46039f"
             ],
             [
              0.2222222222222222,
              "#7201a8"
             ],
             [
              0.3333333333333333,
              "#9c179e"
             ],
             [
              0.4444444444444444,
              "#bd3786"
             ],
             [
              0.5555555555555556,
              "#d8576b"
             ],
             [
              0.6666666666666666,
              "#ed7953"
             ],
             [
              0.7777777777777778,
              "#fb9f3a"
             ],
             [
              0.8888888888888888,
              "#fdca26"
             ],
             [
              1,
              "#f0f921"
             ]
            ],
            "type": "heatmap"
           }
          ],
          "heatmapgl": [
           {
            "colorbar": {
             "outlinewidth": 0,
             "ticks": ""
            },
            "colorscale": [
             [
              0,
              "#0d0887"
             ],
             [
              0.1111111111111111,
              "#46039f"
             ],
             [
              0.2222222222222222,
              "#7201a8"
             ],
             [
              0.3333333333333333,
              "#9c179e"
             ],
             [
              0.4444444444444444,
              "#bd3786"
             ],
             [
              0.5555555555555556,
              "#d8576b"
             ],
             [
              0.6666666666666666,
              "#ed7953"
             ],
             [
              0.7777777777777778,
              "#fb9f3a"
             ],
             [
              0.8888888888888888,
              "#fdca26"
             ],
             [
              1,
              "#f0f921"
             ]
            ],
            "type": "heatmapgl"
           }
          ],
          "histogram": [
           {
            "marker": {
             "pattern": {
              "fillmode": "overlay",
              "size": 10,
              "solidity": 0.2
             }
            },
            "type": "histogram"
           }
          ],
          "histogram2d": [
           {
            "colorbar": {
             "outlinewidth": 0,
             "ticks": ""
            },
            "colorscale": [
             [
              0,
              "#0d0887"
             ],
             [
              0.1111111111111111,
              "#46039f"
             ],
             [
              0.2222222222222222,
              "#7201a8"
             ],
             [
              0.3333333333333333,
              "#9c179e"
             ],
             [
              0.4444444444444444,
              "#bd3786"
             ],
             [
              0.5555555555555556,
              "#d8576b"
             ],
             [
              0.6666666666666666,
              "#ed7953"
             ],
             [
              0.7777777777777778,
              "#fb9f3a"
             ],
             [
              0.8888888888888888,
              "#fdca26"
             ],
             [
              1,
              "#f0f921"
             ]
            ],
            "type": "histogram2d"
           }
          ],
          "histogram2dcontour": [
           {
            "colorbar": {
             "outlinewidth": 0,
             "ticks": ""
            },
            "colorscale": [
             [
              0,
              "#0d0887"
             ],
             [
              0.1111111111111111,
              "#46039f"
             ],
             [
              0.2222222222222222,
              "#7201a8"
             ],
             [
              0.3333333333333333,
              "#9c179e"
             ],
             [
              0.4444444444444444,
              "#bd3786"
             ],
             [
              0.5555555555555556,
              "#d8576b"
             ],
             [
              0.6666666666666666,
              "#ed7953"
             ],
             [
              0.7777777777777778,
              "#fb9f3a"
             ],
             [
              0.8888888888888888,
              "#fdca26"
             ],
             [
              1,
              "#f0f921"
             ]
            ],
            "type": "histogram2dcontour"
           }
          ],
          "mesh3d": [
           {
            "colorbar": {
             "outlinewidth": 0,
             "ticks": ""
            },
            "type": "mesh3d"
           }
          ],
          "parcoords": [
           {
            "line": {
             "colorbar": {
              "outlinewidth": 0,
              "ticks": ""
             }
            },
            "type": "parcoords"
           }
          ],
          "pie": [
           {
            "automargin": true,
            "type": "pie"
           }
          ],
          "scatter": [
           {
            "fillpattern": {
             "fillmode": "overlay",
             "size": 10,
             "solidity": 0.2
            },
            "type": "scatter"
           }
          ],
          "scatter3d": [
           {
            "line": {
             "colorbar": {
              "outlinewidth": 0,
              "ticks": ""
             }
            },
            "marker": {
             "colorbar": {
              "outlinewidth": 0,
              "ticks": ""
             }
            },
            "type": "scatter3d"
           }
          ],
          "scattercarpet": [
           {
            "marker": {
             "colorbar": {
              "outlinewidth": 0,
              "ticks": ""
             }
            },
            "type": "scattercarpet"
           }
          ],
          "scattergeo": [
           {
            "marker": {
             "colorbar": {
              "outlinewidth": 0,
              "ticks": ""
             }
            },
            "type": "scattergeo"
           }
          ],
          "scattergl": [
           {
            "marker": {
             "colorbar": {
              "outlinewidth": 0,
              "ticks": ""
             }
            },
            "type": "scattergl"
           }
          ],
          "scattermapbox": [
           {
            "marker": {
             "colorbar": {
              "outlinewidth": 0,
              "ticks": ""
             }
            },
            "type": "scattermapbox"
           }
          ],
          "scatterpolar": [
           {
            "marker": {
             "colorbar": {
              "outlinewidth": 0,
              "ticks": ""
             }
            },
            "type": "scatterpolar"
           }
          ],
          "scatterpolargl": [
           {
            "marker": {
             "colorbar": {
              "outlinewidth": 0,
              "ticks": ""
             }
            },
            "type": "scatterpolargl"
           }
          ],
          "scatterternary": [
           {
            "marker": {
             "colorbar": {
              "outlinewidth": 0,
              "ticks": ""
             }
            },
            "type": "scatterternary"
           }
          ],
          "surface": [
           {
            "colorbar": {
             "outlinewidth": 0,
             "ticks": ""
            },
            "colorscale": [
             [
              0,
              "#0d0887"
             ],
             [
              0.1111111111111111,
              "#46039f"
             ],
             [
              0.2222222222222222,
              "#7201a8"
             ],
             [
              0.3333333333333333,
              "#9c179e"
             ],
             [
              0.4444444444444444,
              "#bd3786"
             ],
             [
              0.5555555555555556,
              "#d8576b"
             ],
             [
              0.6666666666666666,
              "#ed7953"
             ],
             [
              0.7777777777777778,
              "#fb9f3a"
             ],
             [
              0.8888888888888888,
              "#fdca26"
             ],
             [
              1,
              "#f0f921"
             ]
            ],
            "type": "surface"
           }
          ],
          "table": [
           {
            "cells": {
             "fill": {
              "color": "#EBF0F8"
             },
             "line": {
              "color": "white"
             }
            },
            "header": {
             "fill": {
              "color": "#C8D4E3"
             },
             "line": {
              "color": "white"
             }
            },
            "type": "table"
           }
          ]
         },
         "layout": {
          "annotationdefaults": {
           "arrowcolor": "#2a3f5f",
           "arrowhead": 0,
           "arrowwidth": 1
          },
          "autotypenumbers": "strict",
          "coloraxis": {
           "colorbar": {
            "outlinewidth": 0,
            "ticks": ""
           }
          },
          "colorscale": {
           "diverging": [
            [
             0,
             "#8e0152"
            ],
            [
             0.1,
             "#c51b7d"
            ],
            [
             0.2,
             "#de77ae"
            ],
            [
             0.3,
             "#f1b6da"
            ],
            [
             0.4,
             "#fde0ef"
            ],
            [
             0.5,
             "#f7f7f7"
            ],
            [
             0.6,
             "#e6f5d0"
            ],
            [
             0.7,
             "#b8e186"
            ],
            [
             0.8,
             "#7fbc41"
            ],
            [
             0.9,
             "#4d9221"
            ],
            [
             1,
             "#276419"
            ]
           ],
           "sequential": [
            [
             0,
             "#0d0887"
            ],
            [
             0.1111111111111111,
             "#46039f"
            ],
            [
             0.2222222222222222,
             "#7201a8"
            ],
            [
             0.3333333333333333,
             "#9c179e"
            ],
            [
             0.4444444444444444,
             "#bd3786"
            ],
            [
             0.5555555555555556,
             "#d8576b"
            ],
            [
             0.6666666666666666,
             "#ed7953"
            ],
            [
             0.7777777777777778,
             "#fb9f3a"
            ],
            [
             0.8888888888888888,
             "#fdca26"
            ],
            [
             1,
             "#f0f921"
            ]
           ],
           "sequentialminus": [
            [
             0,
             "#0d0887"
            ],
            [
             0.1111111111111111,
             "#46039f"
            ],
            [
             0.2222222222222222,
             "#7201a8"
            ],
            [
             0.3333333333333333,
             "#9c179e"
            ],
            [
             0.4444444444444444,
             "#bd3786"
            ],
            [
             0.5555555555555556,
             "#d8576b"
            ],
            [
             0.6666666666666666,
             "#ed7953"
            ],
            [
             0.7777777777777778,
             "#fb9f3a"
            ],
            [
             0.8888888888888888,
             "#fdca26"
            ],
            [
             1,
             "#f0f921"
            ]
           ]
          },
          "colorway": [
           "#636efa",
           "#EF553B",
           "#00cc96",
           "#ab63fa",
           "#FFA15A",
           "#19d3f3",
           "#FF6692",
           "#B6E880",
           "#FF97FF",
           "#FECB52"
          ],
          "font": {
           "color": "#2a3f5f"
          },
          "geo": {
           "bgcolor": "white",
           "lakecolor": "white",
           "landcolor": "#E5ECF6",
           "showlakes": true,
           "showland": true,
           "subunitcolor": "white"
          },
          "hoverlabel": {
           "align": "left"
          },
          "hovermode": "closest",
          "mapbox": {
           "style": "light"
          },
          "paper_bgcolor": "white",
          "plot_bgcolor": "#E5ECF6",
          "polar": {
           "angularaxis": {
            "gridcolor": "white",
            "linecolor": "white",
            "ticks": ""
           },
           "bgcolor": "#E5ECF6",
           "radialaxis": {
            "gridcolor": "white",
            "linecolor": "white",
            "ticks": ""
           }
          },
          "scene": {
           "xaxis": {
            "backgroundcolor": "#E5ECF6",
            "gridcolor": "white",
            "gridwidth": 2,
            "linecolor": "white",
            "showbackground": true,
            "ticks": "",
            "zerolinecolor": "white"
           },
           "yaxis": {
            "backgroundcolor": "#E5ECF6",
            "gridcolor": "white",
            "gridwidth": 2,
            "linecolor": "white",
            "showbackground": true,
            "ticks": "",
            "zerolinecolor": "white"
           },
           "zaxis": {
            "backgroundcolor": "#E5ECF6",
            "gridcolor": "white",
            "gridwidth": 2,
            "linecolor": "white",
            "showbackground": true,
            "ticks": "",
            "zerolinecolor": "white"
           }
          },
          "shapedefaults": {
           "line": {
            "color": "#2a3f5f"
           }
          },
          "ternary": {
           "aaxis": {
            "gridcolor": "white",
            "linecolor": "white",
            "ticks": ""
           },
           "baxis": {
            "gridcolor": "white",
            "linecolor": "white",
            "ticks": ""
           },
           "bgcolor": "#E5ECF6",
           "caxis": {
            "gridcolor": "white",
            "linecolor": "white",
            "ticks": ""
           }
          },
          "title": {
           "x": 0.05
          },
          "xaxis": {
           "automargin": true,
           "gridcolor": "white",
           "linecolor": "white",
           "ticks": "",
           "title": {
            "standoff": 15
           },
           "zerolinecolor": "white",
           "zerolinewidth": 2
          },
          "yaxis": {
           "automargin": true,
           "gridcolor": "white",
           "linecolor": "white",
           "ticks": "",
           "title": {
            "standoff": 15
           },
           "zerolinecolor": "white",
           "zerolinewidth": 2
          }
         }
        },
        "title": {
         "text": "Gastos do cartão presidencial por tipo"
        }
       }
      }
     },
     "metadata": {},
     "output_type": "display_data"
    }
   ],
   "source": [
    "\n",
    "fig_lula = px.pie(gastos_lula_setores, values='VALOR_NUM', names='TIPO', title='Gastos do cartão presidencial por tipo',\n",
    "color_discrete_sequence=px.colors.sequential.RdBu)\n",
    "fig_lula.show()"
   ]
  },
  {
   "cell_type": "code",
   "execution_count": 74,
   "metadata": {},
   "outputs": [
    {
     "data": {
      "text/html": [
       "<div>\n",
       "<style scoped>\n",
       "    .dataframe tbody tr th:only-of-type {\n",
       "        vertical-align: middle;\n",
       "    }\n",
       "\n",
       "    .dataframe tbody tr th {\n",
       "        vertical-align: top;\n",
       "    }\n",
       "\n",
       "    .dataframe thead th {\n",
       "        text-align: right;\n",
       "    }\n",
       "</style>\n",
       "<table border=\"1\" class=\"dataframe\">\n",
       "  <thead>\n",
       "    <tr style=\"text-align: right;\">\n",
       "      <th></th>\n",
       "      <th>TIPO</th>\n",
       "      <th>SUBELEMENTO DE DESPESA</th>\n",
       "      <th>VALOR_NUM</th>\n",
       "    </tr>\n",
       "  </thead>\n",
       "  <tbody>\n",
       "    <tr>\n",
       "      <th>0</th>\n",
       "      <td>C</td>\n",
       "      <td>ALIMENTOS PARA ANIMAIS</td>\n",
       "      <td>1288.78</td>\n",
       "    </tr>\n",
       "    <tr>\n",
       "      <th>1</th>\n",
       "      <td>C</td>\n",
       "      <td>ANIMAIS PARA PESQUISA E ABATE</td>\n",
       "      <td>673.51</td>\n",
       "    </tr>\n",
       "    <tr>\n",
       "      <th>2</th>\n",
       "      <td>C</td>\n",
       "      <td>APAR.EQUIP.UTENS.MED.,ODONT,LABOR.HOSPIT.</td>\n",
       "      <td>2448.78</td>\n",
       "    </tr>\n",
       "    <tr>\n",
       "      <th>3</th>\n",
       "      <td>C</td>\n",
       "      <td>APARELHOS E UTENSÖLIOS DOMSTICOS</td>\n",
       "      <td>4294.30</td>\n",
       "    </tr>\n",
       "    <tr>\n",
       "      <th>4</th>\n",
       "      <td>C</td>\n",
       "      <td>ASSINATURAS DE PERIàDICOS E ANUIDADES</td>\n",
       "      <td>923.26</td>\n",
       "    </tr>\n",
       "    <tr>\n",
       "      <th>...</th>\n",
       "      <td>...</td>\n",
       "      <td>...</td>\n",
       "      <td>...</td>\n",
       "    </tr>\n",
       "    <tr>\n",
       "      <th>135</th>\n",
       "      <td>D</td>\n",
       "      <td>SERVIOS DOMSTICOS</td>\n",
       "      <td>11111.50</td>\n",
       "    </tr>\n",
       "    <tr>\n",
       "      <th>136</th>\n",
       "      <td>D</td>\n",
       "      <td>SERVIOS GRµFICOS</td>\n",
       "      <td>1129.40</td>\n",
       "    </tr>\n",
       "    <tr>\n",
       "      <th>137</th>\n",
       "      <td>D</td>\n",
       "      <td>SOBRESSAL. MAQ. E MOTORES NAVIOS E EMBARCAåES</td>\n",
       "      <td>2900.00</td>\n",
       "    </tr>\n",
       "    <tr>\n",
       "      <th>138</th>\n",
       "      <td>D</td>\n",
       "      <td>TAXAS</td>\n",
       "      <td>736.75</td>\n",
       "    </tr>\n",
       "    <tr>\n",
       "      <th>139</th>\n",
       "      <td>D</td>\n",
       "      <td>UNIFORMES, TECIDOS E AVIAMENTOS</td>\n",
       "      <td>292.04</td>\n",
       "    </tr>\n",
       "  </tbody>\n",
       "</table>\n",
       "<p>140 rows × 3 columns</p>\n",
       "</div>"
      ],
      "text/plain": [
       "    TIPO                          SUBELEMENTO DE DESPESA  VALOR_NUM\n",
       "0      C                          ALIMENTOS PARA ANIMAIS    1288.78\n",
       "1      C                   ANIMAIS PARA PESQUISA E ABATE     673.51\n",
       "2      C       APAR.EQUIP.UTENS.MED.,ODONT,LABOR.HOSPIT.    2448.78\n",
       "3      C               APARELHOS E UTENSÖLIOS DOMSTICOS    4294.30\n",
       "4      C           ASSINATURAS DE PERIàDICOS E ANUIDADES     923.26\n",
       "..   ...                                             ...        ...\n",
       "135    D                             SERVIOS DOMSTICOS   11111.50\n",
       "136    D                               SERVIOS GRµFICOS    1129.40\n",
       "137    D  SOBRESSAL. MAQ. E MOTORES NAVIOS E EMBARCAåES    2900.00\n",
       "138    D                                           TAXAS     736.75\n",
       "139    D                 UNIFORMES, TECIDOS E AVIAMENTOS     292.04\n",
       "\n",
       "[140 rows x 3 columns]"
      ]
     },
     "execution_count": 74,
     "metadata": {},
     "output_type": "execute_result"
    }
   ],
   "source": [
    "gastos_dilma = gastos_processed[gastos_processed['PRES'] == 'DILMA']\n",
    "\n",
    "gastos_dilma_setores = gastos_dilma.groupby([\"TIPO\", \"SUBELEMENTO DE DESPESA\"]).agg({\"VALOR_NUM\": sum}).reset_index()\n",
    "gastos_dilma_setores"
   ]
  },
  {
   "cell_type": "code",
   "execution_count": 65,
   "metadata": {},
   "outputs": [
    {
     "data": {
      "application/vnd.plotly.v1+json": {
       "config": {
        "plotlyServerURL": "https://plot.ly"
       },
       "data": [
        {
         "domain": {
          "x": [
           0,
           1
          ],
          "y": [
           0,
           1
          ]
         },
         "hovertemplate": "TIPO=%{label}<br>VALOR_NUM=%{value}<extra></extra>",
         "labels": [
          "C",
          "C",
          "C",
          "C",
          "C",
          "C",
          "C",
          "C",
          "C",
          "C",
          "C",
          "C",
          "C",
          "C",
          "C",
          "C",
          "C",
          "C",
          "C",
          "C",
          "C",
          "C",
          "C",
          "C",
          "C",
          "C",
          "C",
          "C",
          "C",
          "C",
          "C",
          "C",
          "C",
          "C",
          "C",
          "C",
          "C",
          "C",
          "C",
          "C",
          "C",
          "C",
          "C",
          "C",
          "C",
          "C",
          "C",
          "C",
          "C",
          "C",
          "C",
          "C",
          "C",
          "C",
          "C",
          "C",
          "C",
          "C",
          "C",
          "C",
          "C",
          "C",
          "C",
          "C",
          "C",
          "C",
          "C",
          "C",
          "C",
          "C",
          "C",
          "C",
          "C",
          "C",
          "C",
          "C",
          "C",
          "C",
          "D",
          "D",
          "D",
          "D",
          "D",
          "D",
          "D",
          "D",
          "D",
          "D",
          "D",
          "D",
          "D",
          "D",
          "D",
          "D",
          "D",
          "D",
          "D",
          "D",
          "D",
          "D",
          "D",
          "D",
          "D",
          "D",
          "D",
          "D",
          "D",
          "D",
          "D",
          "D",
          "D",
          "D",
          "D",
          "D",
          "D",
          "D",
          "D",
          "D",
          "D",
          "D",
          "D",
          "D",
          "D",
          "D",
          "D",
          "D",
          "D",
          "D",
          "D",
          "D",
          "D",
          "D",
          "D",
          "D",
          "D",
          "D",
          "D",
          "D",
          "D",
          "D"
         ],
         "legendgroup": "",
         "name": "",
         "showlegend": true,
         "type": "pie",
         "values": [
          1288.78,
          673.51,
          2448.78,
          4294.3,
          923.26,
          40.76,
          83.84,
          206504.21,
          25.84,
          2134.6,
          13.46,
          73051.17,
          499.99,
          549.99,
          519.25,
          2947.34,
          1300,
          4089643.23,
          713.26,
          384.49,
          5374455.75,
          17816295.56,
          58236.8,
          98270.06999999999,
          15090.15,
          70911.41,
          10610.04,
          9937,
          19266.4,
          2966.9,
          56754.96,
          258.99,
          15248.25,
          939,
          4400.09,
          32946.6,
          33576.88,
          270,
          126056.53,
          255,
          40538.840000000004,
          419057,
          2117.34,
          8990.28,
          22008.14,
          707.0699999999999,
          3095.2200000000003,
          37034.13,
          252791.62,
          6064.53,
          47.1,
          1417.44,
          28861.8,
          75249.11,
          8148.56,
          42309.92,
          54,
          39,
          33.3,
          250,
          7758.21,
          1597.35,
          828,
          15376.710000000001,
          3442374.77,
          455,
          8.2,
          1387.5,
          585,
          2465.5,
          51852.32,
          22167.9,
          2148,
          12000,
          1404.3,
          1130,
          34056.72,
          34309.88,
          329,
          248.9,
          444.78999999999996,
          9062.96,
          3200.1,
          1450,
          15037.75,
          66.04,
          330,
          41.7,
          3880,
          172323.24,
          1628.64,
          139.98,
          253692.6,
          138240.2,
          2235.8,
          720,
          4500,
          119782.01,
          46821,
          706.1,
          855,
          9344,
          1890,
          804,
          350,
          210,
          1951.9,
          70.57,
          1349.31,
          6671.11,
          874.4200000000001,
          161.82999999999998,
          240,
          207.51,
          2216.64,
          5428.43,
          78.2,
          501,
          370,
          609.88,
          512,
          203.36,
          1400.6399999999999,
          319.05,
          1100.8,
          9314.05,
          238.7,
          555923.34,
          96,
          363,
          3,
          8130.4,
          338.68,
          300,
          293738.1,
          11111.5,
          1129.4,
          2900,
          736.75,
          292.04
         ]
        }
       ],
       "layout": {
        "legend": {
         "tracegroupgap": 0
        },
        "piecolorway": [
         "rgb(214, 249, 207)",
         "rgb(186, 228, 174)",
         "rgb(156, 209, 143)",
         "rgb(124, 191, 115)",
         "rgb(85, 174, 91)",
         "rgb(37, 157, 81)",
         "rgb(7, 138, 78)",
         "rgb(13, 117, 71)",
         "rgb(23, 95, 61)",
         "rgb(25, 75, 49)",
         "rgb(23, 55, 35)",
         "rgb(17, 36, 20)"
        ],
        "template": {
         "data": {
          "bar": [
           {
            "error_x": {
             "color": "#2a3f5f"
            },
            "error_y": {
             "color": "#2a3f5f"
            },
            "marker": {
             "line": {
              "color": "#E5ECF6",
              "width": 0.5
             },
             "pattern": {
              "fillmode": "overlay",
              "size": 10,
              "solidity": 0.2
             }
            },
            "type": "bar"
           }
          ],
          "barpolar": [
           {
            "marker": {
             "line": {
              "color": "#E5ECF6",
              "width": 0.5
             },
             "pattern": {
              "fillmode": "overlay",
              "size": 10,
              "solidity": 0.2
             }
            },
            "type": "barpolar"
           }
          ],
          "carpet": [
           {
            "aaxis": {
             "endlinecolor": "#2a3f5f",
             "gridcolor": "white",
             "linecolor": "white",
             "minorgridcolor": "white",
             "startlinecolor": "#2a3f5f"
            },
            "baxis": {
             "endlinecolor": "#2a3f5f",
             "gridcolor": "white",
             "linecolor": "white",
             "minorgridcolor": "white",
             "startlinecolor": "#2a3f5f"
            },
            "type": "carpet"
           }
          ],
          "choropleth": [
           {
            "colorbar": {
             "outlinewidth": 0,
             "ticks": ""
            },
            "type": "choropleth"
           }
          ],
          "contour": [
           {
            "colorbar": {
             "outlinewidth": 0,
             "ticks": ""
            },
            "colorscale": [
             [
              0,
              "#0d0887"
             ],
             [
              0.1111111111111111,
              "#46039f"
             ],
             [
              0.2222222222222222,
              "#7201a8"
             ],
             [
              0.3333333333333333,
              "#9c179e"
             ],
             [
              0.4444444444444444,
              "#bd3786"
             ],
             [
              0.5555555555555556,
              "#d8576b"
             ],
             [
              0.6666666666666666,
              "#ed7953"
             ],
             [
              0.7777777777777778,
              "#fb9f3a"
             ],
             [
              0.8888888888888888,
              "#fdca26"
             ],
             [
              1,
              "#f0f921"
             ]
            ],
            "type": "contour"
           }
          ],
          "contourcarpet": [
           {
            "colorbar": {
             "outlinewidth": 0,
             "ticks": ""
            },
            "type": "contourcarpet"
           }
          ],
          "heatmap": [
           {
            "colorbar": {
             "outlinewidth": 0,
             "ticks": ""
            },
            "colorscale": [
             [
              0,
              "#0d0887"
             ],
             [
              0.1111111111111111,
              "#46039f"
             ],
             [
              0.2222222222222222,
              "#7201a8"
             ],
             [
              0.3333333333333333,
              "#9c179e"
             ],
             [
              0.4444444444444444,
              "#bd3786"
             ],
             [
              0.5555555555555556,
              "#d8576b"
             ],
             [
              0.6666666666666666,
              "#ed7953"
             ],
             [
              0.7777777777777778,
              "#fb9f3a"
             ],
             [
              0.8888888888888888,
              "#fdca26"
             ],
             [
              1,
              "#f0f921"
             ]
            ],
            "type": "heatmap"
           }
          ],
          "heatmapgl": [
           {
            "colorbar": {
             "outlinewidth": 0,
             "ticks": ""
            },
            "colorscale": [
             [
              0,
              "#0d0887"
             ],
             [
              0.1111111111111111,
              "#46039f"
             ],
             [
              0.2222222222222222,
              "#7201a8"
             ],
             [
              0.3333333333333333,
              "#9c179e"
             ],
             [
              0.4444444444444444,
              "#bd3786"
             ],
             [
              0.5555555555555556,
              "#d8576b"
             ],
             [
              0.6666666666666666,
              "#ed7953"
             ],
             [
              0.7777777777777778,
              "#fb9f3a"
             ],
             [
              0.8888888888888888,
              "#fdca26"
             ],
             [
              1,
              "#f0f921"
             ]
            ],
            "type": "heatmapgl"
           }
          ],
          "histogram": [
           {
            "marker": {
             "pattern": {
              "fillmode": "overlay",
              "size": 10,
              "solidity": 0.2
             }
            },
            "type": "histogram"
           }
          ],
          "histogram2d": [
           {
            "colorbar": {
             "outlinewidth": 0,
             "ticks": ""
            },
            "colorscale": [
             [
              0,
              "#0d0887"
             ],
             [
              0.1111111111111111,
              "#46039f"
             ],
             [
              0.2222222222222222,
              "#7201a8"
             ],
             [
              0.3333333333333333,
              "#9c179e"
             ],
             [
              0.4444444444444444,
              "#bd3786"
             ],
             [
              0.5555555555555556,
              "#d8576b"
             ],
             [
              0.6666666666666666,
              "#ed7953"
             ],
             [
              0.7777777777777778,
              "#fb9f3a"
             ],
             [
              0.8888888888888888,
              "#fdca26"
             ],
             [
              1,
              "#f0f921"
             ]
            ],
            "type": "histogram2d"
           }
          ],
          "histogram2dcontour": [
           {
            "colorbar": {
             "outlinewidth": 0,
             "ticks": ""
            },
            "colorscale": [
             [
              0,
              "#0d0887"
             ],
             [
              0.1111111111111111,
              "#46039f"
             ],
             [
              0.2222222222222222,
              "#7201a8"
             ],
             [
              0.3333333333333333,
              "#9c179e"
             ],
             [
              0.4444444444444444,
              "#bd3786"
             ],
             [
              0.5555555555555556,
              "#d8576b"
             ],
             [
              0.6666666666666666,
              "#ed7953"
             ],
             [
              0.7777777777777778,
              "#fb9f3a"
             ],
             [
              0.8888888888888888,
              "#fdca26"
             ],
             [
              1,
              "#f0f921"
             ]
            ],
            "type": "histogram2dcontour"
           }
          ],
          "mesh3d": [
           {
            "colorbar": {
             "outlinewidth": 0,
             "ticks": ""
            },
            "type": "mesh3d"
           }
          ],
          "parcoords": [
           {
            "line": {
             "colorbar": {
              "outlinewidth": 0,
              "ticks": ""
             }
            },
            "type": "parcoords"
           }
          ],
          "pie": [
           {
            "automargin": true,
            "type": "pie"
           }
          ],
          "scatter": [
           {
            "fillpattern": {
             "fillmode": "overlay",
             "size": 10,
             "solidity": 0.2
            },
            "type": "scatter"
           }
          ],
          "scatter3d": [
           {
            "line": {
             "colorbar": {
              "outlinewidth": 0,
              "ticks": ""
             }
            },
            "marker": {
             "colorbar": {
              "outlinewidth": 0,
              "ticks": ""
             }
            },
            "type": "scatter3d"
           }
          ],
          "scattercarpet": [
           {
            "marker": {
             "colorbar": {
              "outlinewidth": 0,
              "ticks": ""
             }
            },
            "type": "scattercarpet"
           }
          ],
          "scattergeo": [
           {
            "marker": {
             "colorbar": {
              "outlinewidth": 0,
              "ticks": ""
             }
            },
            "type": "scattergeo"
           }
          ],
          "scattergl": [
           {
            "marker": {
             "colorbar": {
              "outlinewidth": 0,
              "ticks": ""
             }
            },
            "type": "scattergl"
           }
          ],
          "scattermapbox": [
           {
            "marker": {
             "colorbar": {
              "outlinewidth": 0,
              "ticks": ""
             }
            },
            "type": "scattermapbox"
           }
          ],
          "scatterpolar": [
           {
            "marker": {
             "colorbar": {
              "outlinewidth": 0,
              "ticks": ""
             }
            },
            "type": "scatterpolar"
           }
          ],
          "scatterpolargl": [
           {
            "marker": {
             "colorbar": {
              "outlinewidth": 0,
              "ticks": ""
             }
            },
            "type": "scatterpolargl"
           }
          ],
          "scatterternary": [
           {
            "marker": {
             "colorbar": {
              "outlinewidth": 0,
              "ticks": ""
             }
            },
            "type": "scatterternary"
           }
          ],
          "surface": [
           {
            "colorbar": {
             "outlinewidth": 0,
             "ticks": ""
            },
            "colorscale": [
             [
              0,
              "#0d0887"
             ],
             [
              0.1111111111111111,
              "#46039f"
             ],
             [
              0.2222222222222222,
              "#7201a8"
             ],
             [
              0.3333333333333333,
              "#9c179e"
             ],
             [
              0.4444444444444444,
              "#bd3786"
             ],
             [
              0.5555555555555556,
              "#d8576b"
             ],
             [
              0.6666666666666666,
              "#ed7953"
             ],
             [
              0.7777777777777778,
              "#fb9f3a"
             ],
             [
              0.8888888888888888,
              "#fdca26"
             ],
             [
              1,
              "#f0f921"
             ]
            ],
            "type": "surface"
           }
          ],
          "table": [
           {
            "cells": {
             "fill": {
              "color": "#EBF0F8"
             },
             "line": {
              "color": "white"
             }
            },
            "header": {
             "fill": {
              "color": "#C8D4E3"
             },
             "line": {
              "color": "white"
             }
            },
            "type": "table"
           }
          ]
         },
         "layout": {
          "annotationdefaults": {
           "arrowcolor": "#2a3f5f",
           "arrowhead": 0,
           "arrowwidth": 1
          },
          "autotypenumbers": "strict",
          "coloraxis": {
           "colorbar": {
            "outlinewidth": 0,
            "ticks": ""
           }
          },
          "colorscale": {
           "diverging": [
            [
             0,
             "#8e0152"
            ],
            [
             0.1,
             "#c51b7d"
            ],
            [
             0.2,
             "#de77ae"
            ],
            [
             0.3,
             "#f1b6da"
            ],
            [
             0.4,
             "#fde0ef"
            ],
            [
             0.5,
             "#f7f7f7"
            ],
            [
             0.6,
             "#e6f5d0"
            ],
            [
             0.7,
             "#b8e186"
            ],
            [
             0.8,
             "#7fbc41"
            ],
            [
             0.9,
             "#4d9221"
            ],
            [
             1,
             "#276419"
            ]
           ],
           "sequential": [
            [
             0,
             "#0d0887"
            ],
            [
             0.1111111111111111,
             "#46039f"
            ],
            [
             0.2222222222222222,
             "#7201a8"
            ],
            [
             0.3333333333333333,
             "#9c179e"
            ],
            [
             0.4444444444444444,
             "#bd3786"
            ],
            [
             0.5555555555555556,
             "#d8576b"
            ],
            [
             0.6666666666666666,
             "#ed7953"
            ],
            [
             0.7777777777777778,
             "#fb9f3a"
            ],
            [
             0.8888888888888888,
             "#fdca26"
            ],
            [
             1,
             "#f0f921"
            ]
           ],
           "sequentialminus": [
            [
             0,
             "#0d0887"
            ],
            [
             0.1111111111111111,
             "#46039f"
            ],
            [
             0.2222222222222222,
             "#7201a8"
            ],
            [
             0.3333333333333333,
             "#9c179e"
            ],
            [
             0.4444444444444444,
             "#bd3786"
            ],
            [
             0.5555555555555556,
             "#d8576b"
            ],
            [
             0.6666666666666666,
             "#ed7953"
            ],
            [
             0.7777777777777778,
             "#fb9f3a"
            ],
            [
             0.8888888888888888,
             "#fdca26"
            ],
            [
             1,
             "#f0f921"
            ]
           ]
          },
          "colorway": [
           "#636efa",
           "#EF553B",
           "#00cc96",
           "#ab63fa",
           "#FFA15A",
           "#19d3f3",
           "#FF6692",
           "#B6E880",
           "#FF97FF",
           "#FECB52"
          ],
          "font": {
           "color": "#2a3f5f"
          },
          "geo": {
           "bgcolor": "white",
           "lakecolor": "white",
           "landcolor": "#E5ECF6",
           "showlakes": true,
           "showland": true,
           "subunitcolor": "white"
          },
          "hoverlabel": {
           "align": "left"
          },
          "hovermode": "closest",
          "mapbox": {
           "style": "light"
          },
          "paper_bgcolor": "white",
          "plot_bgcolor": "#E5ECF6",
          "polar": {
           "angularaxis": {
            "gridcolor": "white",
            "linecolor": "white",
            "ticks": ""
           },
           "bgcolor": "#E5ECF6",
           "radialaxis": {
            "gridcolor": "white",
            "linecolor": "white",
            "ticks": ""
           }
          },
          "scene": {
           "xaxis": {
            "backgroundcolor": "#E5ECF6",
            "gridcolor": "white",
            "gridwidth": 2,
            "linecolor": "white",
            "showbackground": true,
            "ticks": "",
            "zerolinecolor": "white"
           },
           "yaxis": {
            "backgroundcolor": "#E5ECF6",
            "gridcolor": "white",
            "gridwidth": 2,
            "linecolor": "white",
            "showbackground": true,
            "ticks": "",
            "zerolinecolor": "white"
           },
           "zaxis": {
            "backgroundcolor": "#E5ECF6",
            "gridcolor": "white",
            "gridwidth": 2,
            "linecolor": "white",
            "showbackground": true,
            "ticks": "",
            "zerolinecolor": "white"
           }
          },
          "shapedefaults": {
           "line": {
            "color": "#2a3f5f"
           }
          },
          "ternary": {
           "aaxis": {
            "gridcolor": "white",
            "linecolor": "white",
            "ticks": ""
           },
           "baxis": {
            "gridcolor": "white",
            "linecolor": "white",
            "ticks": ""
           },
           "bgcolor": "#E5ECF6",
           "caxis": {
            "gridcolor": "white",
            "linecolor": "white",
            "ticks": ""
           }
          },
          "title": {
           "x": 0.05
          },
          "xaxis": {
           "automargin": true,
           "gridcolor": "white",
           "linecolor": "white",
           "ticks": "",
           "title": {
            "standoff": 15
           },
           "zerolinecolor": "white",
           "zerolinewidth": 2
          },
          "yaxis": {
           "automargin": true,
           "gridcolor": "white",
           "linecolor": "white",
           "ticks": "",
           "title": {
            "standoff": 15
           },
           "zerolinecolor": "white",
           "zerolinewidth": 2
          }
         }
        },
        "title": {
         "text": "Gastos do cartão presidencial por tipo"
        }
       }
      }
     },
     "metadata": {},
     "output_type": "display_data"
    }
   ],
   "source": [
    "fig_dilma = px.pie(gastos_dilma_setores, values='VALOR_NUM', names='TIPO', title='Gastos do cartão presidencial por tipo',\n",
    "color_discrete_sequence=px.colors.sequential.algae)\n",
    "fig_dilma.show()"
   ]
  },
  {
   "cell_type": "code",
   "execution_count": 73,
   "metadata": {},
   "outputs": [
    {
     "data": {
      "text/html": [
       "<div>\n",
       "<style scoped>\n",
       "    .dataframe tbody tr th:only-of-type {\n",
       "        vertical-align: middle;\n",
       "    }\n",
       "\n",
       "    .dataframe tbody tr th {\n",
       "        vertical-align: top;\n",
       "    }\n",
       "\n",
       "    .dataframe thead th {\n",
       "        text-align: right;\n",
       "    }\n",
       "</style>\n",
       "<table border=\"1\" class=\"dataframe\">\n",
       "  <thead>\n",
       "    <tr style=\"text-align: right;\">\n",
       "      <th></th>\n",
       "      <th>TIPO</th>\n",
       "      <th>SUBELEMENTO DE DESPESA</th>\n",
       "      <th>VALOR_NUM</th>\n",
       "    </tr>\n",
       "  </thead>\n",
       "  <tbody>\n",
       "    <tr>\n",
       "      <th>0</th>\n",
       "      <td>C</td>\n",
       "      <td>ALIMENTOS PARA ANIMAIS</td>\n",
       "      <td>1213.67</td>\n",
       "    </tr>\n",
       "    <tr>\n",
       "      <th>1</th>\n",
       "      <td>C</td>\n",
       "      <td>APARELHOS E UTENSÖLIOS DOMSTICOS</td>\n",
       "      <td>332.00</td>\n",
       "    </tr>\n",
       "    <tr>\n",
       "      <th>2</th>\n",
       "      <td>C</td>\n",
       "      <td>COMBUSTIVEIS E LUBRIF. AUTOMOTIVOS</td>\n",
       "      <td>61618.01</td>\n",
       "    </tr>\n",
       "    <tr>\n",
       "      <th>3</th>\n",
       "      <td>C</td>\n",
       "      <td>COMUNICAÇO DE DADOS E REDES EM GERAL</td>\n",
       "      <td>11144.20</td>\n",
       "    </tr>\n",
       "    <tr>\n",
       "      <th>4</th>\n",
       "      <td>C</td>\n",
       "      <td>DESPESAS COM EXCESSO DE BAGAGEM</td>\n",
       "      <td>1444.00</td>\n",
       "    </tr>\n",
       "    <tr>\n",
       "      <th>...</th>\n",
       "      <td>...</td>\n",
       "      <td>...</td>\n",
       "      <td>...</td>\n",
       "    </tr>\n",
       "    <tr>\n",
       "      <th>57</th>\n",
       "      <td>D</td>\n",
       "      <td>SERV.DE APOIO ADMIN.,TECNICO E OPERACIONAL</td>\n",
       "      <td>195912.37</td>\n",
       "    </tr>\n",
       "    <tr>\n",
       "      <th>58</th>\n",
       "      <td>D</td>\n",
       "      <td>SERVIOS DE COMUNICAÇO EM GERAL</td>\n",
       "      <td>41250.00</td>\n",
       "    </tr>\n",
       "    <tr>\n",
       "      <th>59</th>\n",
       "      <td>D</td>\n",
       "      <td>SERVIOS DE ESTACIONAMENTO DE VEÖCULOS</td>\n",
       "      <td>554.00</td>\n",
       "    </tr>\n",
       "    <tr>\n",
       "      <th>60</th>\n",
       "      <td>D</td>\n",
       "      <td>SERVIOS DE TELECOMUNICAåES</td>\n",
       "      <td>8743.14</td>\n",
       "    </tr>\n",
       "    <tr>\n",
       "      <th>61</th>\n",
       "      <td>D</td>\n",
       "      <td>SERVIOS DOMSTICOS</td>\n",
       "      <td>320.00</td>\n",
       "    </tr>\n",
       "  </tbody>\n",
       "</table>\n",
       "<p>62 rows × 3 columns</p>\n",
       "</div>"
      ],
      "text/plain": [
       "   TIPO                      SUBELEMENTO DE DESPESA  VALOR_NUM\n",
       "0     C                      ALIMENTOS PARA ANIMAIS    1213.67\n",
       "1     C           APARELHOS E UTENSÖLIOS DOMSTICOS     332.00\n",
       "2     C          COMBUSTIVEIS E LUBRIF. AUTOMOTIVOS   61618.01\n",
       "3     C       COMUNICAÇO DE DADOS E REDES EM GERAL   11144.20\n",
       "4     C             DESPESAS COM EXCESSO DE BAGAGEM    1444.00\n",
       "..  ...                                         ...        ...\n",
       "57    D  SERV.DE APOIO ADMIN.,TECNICO E OPERACIONAL  195912.37\n",
       "58    D            SERVIOS DE COMUNICAÇO EM GERAL   41250.00\n",
       "59    D      SERVIOS DE ESTACIONAMENTO DE VEÖCULOS     554.00\n",
       "60    D                SERVIOS DE TELECOMUNICAåES    8743.14\n",
       "61    D                         SERVIOS DOMSTICOS     320.00\n",
       "\n",
       "[62 rows x 3 columns]"
      ]
     },
     "execution_count": 73,
     "metadata": {},
     "output_type": "execute_result"
    }
   ],
   "source": [
    "gastos_temer = gastos_processed[gastos_processed['PRES'] == 'TEMER']\n",
    "\n",
    "gastos_temer_setores = gastos_temer.groupby([\"TIPO\", \"SUBELEMENTO DE DESPESA\"]).agg({\"VALOR_NUM\": sum}).reset_index()\n",
    "gastos_temer_setores"
   ]
  },
  {
   "cell_type": "code",
   "execution_count": 69,
   "metadata": {},
   "outputs": [
    {
     "data": {
      "application/vnd.plotly.v1+json": {
       "config": {
        "plotlyServerURL": "https://plot.ly"
       },
       "data": [
        {
         "domain": {
          "x": [
           0,
           1
          ],
          "y": [
           0,
           1
          ]
         },
         "hovertemplate": "TIPO=%{label}<br>VALOR_NUM=%{value}<extra></extra>",
         "labels": [
          "C",
          "C",
          "C",
          "C",
          "C",
          "C",
          "C",
          "C",
          "C",
          "C",
          "C",
          "C",
          "C",
          "C",
          "C",
          "C",
          "C",
          "C",
          "C",
          "C",
          "C",
          "C",
          "C",
          "C",
          "C",
          "C",
          "C",
          "C",
          "C",
          "C",
          "C",
          "C",
          "C",
          "C",
          "C",
          "C",
          "C",
          "C",
          "C",
          "C",
          "C",
          "C",
          "C",
          "C",
          "C",
          "C",
          "C",
          "D",
          "D",
          "D",
          "D",
          "D",
          "D",
          "D",
          "D",
          "D",
          "D",
          "D",
          "D",
          "D",
          "D",
          "D"
         ],
         "legendgroup": "",
         "name": "",
         "showlegend": true,
         "type": "pie",
         "values": [
          1213.67,
          332,
          61618.01,
          11144.2,
          1444,
          390,
          5879,
          1239752.26,
          300,
          2325718.62,
          3230414.67,
          22312.010000000002,
          38,
          184,
          70,
          954.46,
          820.2,
          3973.9,
          13402.41,
          674.52,
          45,
          41420.99,
          1378.9,
          63179.52,
          1220,
          2218.94,
          680,
          1172.03,
          2225.92,
          901.76,
          7068.95,
          2399.98,
          862.7,
          85,
          107.6,
          40,
          2146.8,
          1404524.45,
          13750,
          356.11,
          3490.04,
          785,
          12380.4,
          350,
          1706.66,
          6931.38,
          530,
          100,
          4000,
          16170,
          55925.12,
          10,
          44669,
          3840,
          254.75,
          3982,
          1357,
          195912.37,
          41250,
          554,
          8743.14,
          320
         ]
        }
       ],
       "layout": {
        "legend": {
         "tracegroupgap": 0
        },
        "piecolorway": [
         "rgb(8,48,107)",
         "rgb(8,81,156)",
         "rgb(33,113,181)",
         "rgb(66,146,198)",
         "rgb(107,174,214)",
         "rgb(158,202,225)",
         "rgb(198,219,239)",
         "rgb(222,235,247)",
         "rgb(247,251,255)"
        ],
        "template": {
         "data": {
          "bar": [
           {
            "error_x": {
             "color": "#2a3f5f"
            },
            "error_y": {
             "color": "#2a3f5f"
            },
            "marker": {
             "line": {
              "color": "#E5ECF6",
              "width": 0.5
             },
             "pattern": {
              "fillmode": "overlay",
              "size": 10,
              "solidity": 0.2
             }
            },
            "type": "bar"
           }
          ],
          "barpolar": [
           {
            "marker": {
             "line": {
              "color": "#E5ECF6",
              "width": 0.5
             },
             "pattern": {
              "fillmode": "overlay",
              "size": 10,
              "solidity": 0.2
             }
            },
            "type": "barpolar"
           }
          ],
          "carpet": [
           {
            "aaxis": {
             "endlinecolor": "#2a3f5f",
             "gridcolor": "white",
             "linecolor": "white",
             "minorgridcolor": "white",
             "startlinecolor": "#2a3f5f"
            },
            "baxis": {
             "endlinecolor": "#2a3f5f",
             "gridcolor": "white",
             "linecolor": "white",
             "minorgridcolor": "white",
             "startlinecolor": "#2a3f5f"
            },
            "type": "carpet"
           }
          ],
          "choropleth": [
           {
            "colorbar": {
             "outlinewidth": 0,
             "ticks": ""
            },
            "type": "choropleth"
           }
          ],
          "contour": [
           {
            "colorbar": {
             "outlinewidth": 0,
             "ticks": ""
            },
            "colorscale": [
             [
              0,
              "#0d0887"
             ],
             [
              0.1111111111111111,
              "#46039f"
             ],
             [
              0.2222222222222222,
              "#7201a8"
             ],
             [
              0.3333333333333333,
              "#9c179e"
             ],
             [
              0.4444444444444444,
              "#bd3786"
             ],
             [
              0.5555555555555556,
              "#d8576b"
             ],
             [
              0.6666666666666666,
              "#ed7953"
             ],
             [
              0.7777777777777778,
              "#fb9f3a"
             ],
             [
              0.8888888888888888,
              "#fdca26"
             ],
             [
              1,
              "#f0f921"
             ]
            ],
            "type": "contour"
           }
          ],
          "contourcarpet": [
           {
            "colorbar": {
             "outlinewidth": 0,
             "ticks": ""
            },
            "type": "contourcarpet"
           }
          ],
          "heatmap": [
           {
            "colorbar": {
             "outlinewidth": 0,
             "ticks": ""
            },
            "colorscale": [
             [
              0,
              "#0d0887"
             ],
             [
              0.1111111111111111,
              "#46039f"
             ],
             [
              0.2222222222222222,
              "#7201a8"
             ],
             [
              0.3333333333333333,
              "#9c179e"
             ],
             [
              0.4444444444444444,
              "#bd3786"
             ],
             [
              0.5555555555555556,
              "#d8576b"
             ],
             [
              0.6666666666666666,
              "#ed7953"
             ],
             [
              0.7777777777777778,
              "#fb9f3a"
             ],
             [
              0.8888888888888888,
              "#fdca26"
             ],
             [
              1,
              "#f0f921"
             ]
            ],
            "type": "heatmap"
           }
          ],
          "heatmapgl": [
           {
            "colorbar": {
             "outlinewidth": 0,
             "ticks": ""
            },
            "colorscale": [
             [
              0,
              "#0d0887"
             ],
             [
              0.1111111111111111,
              "#46039f"
             ],
             [
              0.2222222222222222,
              "#7201a8"
             ],
             [
              0.3333333333333333,
              "#9c179e"
             ],
             [
              0.4444444444444444,
              "#bd3786"
             ],
             [
              0.5555555555555556,
              "#d8576b"
             ],
             [
              0.6666666666666666,
              "#ed7953"
             ],
             [
              0.7777777777777778,
              "#fb9f3a"
             ],
             [
              0.8888888888888888,
              "#fdca26"
             ],
             [
              1,
              "#f0f921"
             ]
            ],
            "type": "heatmapgl"
           }
          ],
          "histogram": [
           {
            "marker": {
             "pattern": {
              "fillmode": "overlay",
              "size": 10,
              "solidity": 0.2
             }
            },
            "type": "histogram"
           }
          ],
          "histogram2d": [
           {
            "colorbar": {
             "outlinewidth": 0,
             "ticks": ""
            },
            "colorscale": [
             [
              0,
              "#0d0887"
             ],
             [
              0.1111111111111111,
              "#46039f"
             ],
             [
              0.2222222222222222,
              "#7201a8"
             ],
             [
              0.3333333333333333,
              "#9c179e"
             ],
             [
              0.4444444444444444,
              "#bd3786"
             ],
             [
              0.5555555555555556,
              "#d8576b"
             ],
             [
              0.6666666666666666,
              "#ed7953"
             ],
             [
              0.7777777777777778,
              "#fb9f3a"
             ],
             [
              0.8888888888888888,
              "#fdca26"
             ],
             [
              1,
              "#f0f921"
             ]
            ],
            "type": "histogram2d"
           }
          ],
          "histogram2dcontour": [
           {
            "colorbar": {
             "outlinewidth": 0,
             "ticks": ""
            },
            "colorscale": [
             [
              0,
              "#0d0887"
             ],
             [
              0.1111111111111111,
              "#46039f"
             ],
             [
              0.2222222222222222,
              "#7201a8"
             ],
             [
              0.3333333333333333,
              "#9c179e"
             ],
             [
              0.4444444444444444,
              "#bd3786"
             ],
             [
              0.5555555555555556,
              "#d8576b"
             ],
             [
              0.6666666666666666,
              "#ed7953"
             ],
             [
              0.7777777777777778,
              "#fb9f3a"
             ],
             [
              0.8888888888888888,
              "#fdca26"
             ],
             [
              1,
              "#f0f921"
             ]
            ],
            "type": "histogram2dcontour"
           }
          ],
          "mesh3d": [
           {
            "colorbar": {
             "outlinewidth": 0,
             "ticks": ""
            },
            "type": "mesh3d"
           }
          ],
          "parcoords": [
           {
            "line": {
             "colorbar": {
              "outlinewidth": 0,
              "ticks": ""
             }
            },
            "type": "parcoords"
           }
          ],
          "pie": [
           {
            "automargin": true,
            "type": "pie"
           }
          ],
          "scatter": [
           {
            "fillpattern": {
             "fillmode": "overlay",
             "size": 10,
             "solidity": 0.2
            },
            "type": "scatter"
           }
          ],
          "scatter3d": [
           {
            "line": {
             "colorbar": {
              "outlinewidth": 0,
              "ticks": ""
             }
            },
            "marker": {
             "colorbar": {
              "outlinewidth": 0,
              "ticks": ""
             }
            },
            "type": "scatter3d"
           }
          ],
          "scattercarpet": [
           {
            "marker": {
             "colorbar": {
              "outlinewidth": 0,
              "ticks": ""
             }
            },
            "type": "scattercarpet"
           }
          ],
          "scattergeo": [
           {
            "marker": {
             "colorbar": {
              "outlinewidth": 0,
              "ticks": ""
             }
            },
            "type": "scattergeo"
           }
          ],
          "scattergl": [
           {
            "marker": {
             "colorbar": {
              "outlinewidth": 0,
              "ticks": ""
             }
            },
            "type": "scattergl"
           }
          ],
          "scattermapbox": [
           {
            "marker": {
             "colorbar": {
              "outlinewidth": 0,
              "ticks": ""
             }
            },
            "type": "scattermapbox"
           }
          ],
          "scatterpolar": [
           {
            "marker": {
             "colorbar": {
              "outlinewidth": 0,
              "ticks": ""
             }
            },
            "type": "scatterpolar"
           }
          ],
          "scatterpolargl": [
           {
            "marker": {
             "colorbar": {
              "outlinewidth": 0,
              "ticks": ""
             }
            },
            "type": "scatterpolargl"
           }
          ],
          "scatterternary": [
           {
            "marker": {
             "colorbar": {
              "outlinewidth": 0,
              "ticks": ""
             }
            },
            "type": "scatterternary"
           }
          ],
          "surface": [
           {
            "colorbar": {
             "outlinewidth": 0,
             "ticks": ""
            },
            "colorscale": [
             [
              0,
              "#0d0887"
             ],
             [
              0.1111111111111111,
              "#46039f"
             ],
             [
              0.2222222222222222,
              "#7201a8"
             ],
             [
              0.3333333333333333,
              "#9c179e"
             ],
             [
              0.4444444444444444,
              "#bd3786"
             ],
             [
              0.5555555555555556,
              "#d8576b"
             ],
             [
              0.6666666666666666,
              "#ed7953"
             ],
             [
              0.7777777777777778,
              "#fb9f3a"
             ],
             [
              0.8888888888888888,
              "#fdca26"
             ],
             [
              1,
              "#f0f921"
             ]
            ],
            "type": "surface"
           }
          ],
          "table": [
           {
            "cells": {
             "fill": {
              "color": "#EBF0F8"
             },
             "line": {
              "color": "white"
             }
            },
            "header": {
             "fill": {
              "color": "#C8D4E3"
             },
             "line": {
              "color": "white"
             }
            },
            "type": "table"
           }
          ]
         },
         "layout": {
          "annotationdefaults": {
           "arrowcolor": "#2a3f5f",
           "arrowhead": 0,
           "arrowwidth": 1
          },
          "autotypenumbers": "strict",
          "coloraxis": {
           "colorbar": {
            "outlinewidth": 0,
            "ticks": ""
           }
          },
          "colorscale": {
           "diverging": [
            [
             0,
             "#8e0152"
            ],
            [
             0.1,
             "#c51b7d"
            ],
            [
             0.2,
             "#de77ae"
            ],
            [
             0.3,
             "#f1b6da"
            ],
            [
             0.4,
             "#fde0ef"
            ],
            [
             0.5,
             "#f7f7f7"
            ],
            [
             0.6,
             "#e6f5d0"
            ],
            [
             0.7,
             "#b8e186"
            ],
            [
             0.8,
             "#7fbc41"
            ],
            [
             0.9,
             "#4d9221"
            ],
            [
             1,
             "#276419"
            ]
           ],
           "sequential": [
            [
             0,
             "#0d0887"
            ],
            [
             0.1111111111111111,
             "#46039f"
            ],
            [
             0.2222222222222222,
             "#7201a8"
            ],
            [
             0.3333333333333333,
             "#9c179e"
            ],
            [
             0.4444444444444444,
             "#bd3786"
            ],
            [
             0.5555555555555556,
             "#d8576b"
            ],
            [
             0.6666666666666666,
             "#ed7953"
            ],
            [
             0.7777777777777778,
             "#fb9f3a"
            ],
            [
             0.8888888888888888,
             "#fdca26"
            ],
            [
             1,
             "#f0f921"
            ]
           ],
           "sequentialminus": [
            [
             0,
             "#0d0887"
            ],
            [
             0.1111111111111111,
             "#46039f"
            ],
            [
             0.2222222222222222,
             "#7201a8"
            ],
            [
             0.3333333333333333,
             "#9c179e"
            ],
            [
             0.4444444444444444,
             "#bd3786"
            ],
            [
             0.5555555555555556,
             "#d8576b"
            ],
            [
             0.6666666666666666,
             "#ed7953"
            ],
            [
             0.7777777777777778,
             "#fb9f3a"
            ],
            [
             0.8888888888888888,
             "#fdca26"
            ],
            [
             1,
             "#f0f921"
            ]
           ]
          },
          "colorway": [
           "#636efa",
           "#EF553B",
           "#00cc96",
           "#ab63fa",
           "#FFA15A",
           "#19d3f3",
           "#FF6692",
           "#B6E880",
           "#FF97FF",
           "#FECB52"
          ],
          "font": {
           "color": "#2a3f5f"
          },
          "geo": {
           "bgcolor": "white",
           "lakecolor": "white",
           "landcolor": "#E5ECF6",
           "showlakes": true,
           "showland": true,
           "subunitcolor": "white"
          },
          "hoverlabel": {
           "align": "left"
          },
          "hovermode": "closest",
          "mapbox": {
           "style": "light"
          },
          "paper_bgcolor": "white",
          "plot_bgcolor": "#E5ECF6",
          "polar": {
           "angularaxis": {
            "gridcolor": "white",
            "linecolor": "white",
            "ticks": ""
           },
           "bgcolor": "#E5ECF6",
           "radialaxis": {
            "gridcolor": "white",
            "linecolor": "white",
            "ticks": ""
           }
          },
          "scene": {
           "xaxis": {
            "backgroundcolor": "#E5ECF6",
            "gridcolor": "white",
            "gridwidth": 2,
            "linecolor": "white",
            "showbackground": true,
            "ticks": "",
            "zerolinecolor": "white"
           },
           "yaxis": {
            "backgroundcolor": "#E5ECF6",
            "gridcolor": "white",
            "gridwidth": 2,
            "linecolor": "white",
            "showbackground": true,
            "ticks": "",
            "zerolinecolor": "white"
           },
           "zaxis": {
            "backgroundcolor": "#E5ECF6",
            "gridcolor": "white",
            "gridwidth": 2,
            "linecolor": "white",
            "showbackground": true,
            "ticks": "",
            "zerolinecolor": "white"
           }
          },
          "shapedefaults": {
           "line": {
            "color": "#2a3f5f"
           }
          },
          "ternary": {
           "aaxis": {
            "gridcolor": "white",
            "linecolor": "white",
            "ticks": ""
           },
           "baxis": {
            "gridcolor": "white",
            "linecolor": "white",
            "ticks": ""
           },
           "bgcolor": "#E5ECF6",
           "caxis": {
            "gridcolor": "white",
            "linecolor": "white",
            "ticks": ""
           }
          },
          "title": {
           "x": 0.05
          },
          "xaxis": {
           "automargin": true,
           "gridcolor": "white",
           "linecolor": "white",
           "ticks": "",
           "title": {
            "standoff": 15
           },
           "zerolinecolor": "white",
           "zerolinewidth": 2
          },
          "yaxis": {
           "automargin": true,
           "gridcolor": "white",
           "linecolor": "white",
           "ticks": "",
           "title": {
            "standoff": 15
           },
           "zerolinecolor": "white",
           "zerolinewidth": 2
          }
         }
        },
        "title": {
         "text": "Gastos do cartão presidencial por tipo"
        }
       }
      }
     },
     "metadata": {},
     "output_type": "display_data"
    }
   ],
   "source": [
    "fig_temer = px.pie(gastos_temer_setores, values='VALOR_NUM', names='TIPO', title='Gastos do cartão presidencial por tipo',\n",
    "color_discrete_sequence=px.colors.sequential.Blues_r)\n",
    "fig_temer.show()"
   ]
  },
  {
   "cell_type": "code",
   "execution_count": 71,
   "metadata": {},
   "outputs": [
    {
     "data": {
      "text/html": [
       "<div>\n",
       "<style scoped>\n",
       "    .dataframe tbody tr th:only-of-type {\n",
       "        vertical-align: middle;\n",
       "    }\n",
       "\n",
       "    .dataframe tbody tr th {\n",
       "        vertical-align: top;\n",
       "    }\n",
       "\n",
       "    .dataframe thead th {\n",
       "        text-align: right;\n",
       "    }\n",
       "</style>\n",
       "<table border=\"1\" class=\"dataframe\">\n",
       "  <thead>\n",
       "    <tr style=\"text-align: right;\">\n",
       "      <th></th>\n",
       "      <th>TIPO</th>\n",
       "      <th>SUBELEMENTO DE DESPESA</th>\n",
       "      <th>VALOR_NUM</th>\n",
       "    </tr>\n",
       "  </thead>\n",
       "  <tbody>\n",
       "    <tr>\n",
       "      <th>0</th>\n",
       "      <td>C</td>\n",
       "      <td>ALIMENTOS PARA ANIMAIS</td>\n",
       "      <td>1809.94</td>\n",
       "    </tr>\n",
       "    <tr>\n",
       "      <th>1</th>\n",
       "      <td>C</td>\n",
       "      <td>APARELHOS E UTENSÖLIOS DOMSTICOS</td>\n",
       "      <td>3052.40</td>\n",
       "    </tr>\n",
       "    <tr>\n",
       "      <th>2</th>\n",
       "      <td>C</td>\n",
       "      <td>ASSINATURAS DE PERIàDICOS E ANUIDADES</td>\n",
       "      <td>1475.60</td>\n",
       "    </tr>\n",
       "    <tr>\n",
       "      <th>3</th>\n",
       "      <td>C</td>\n",
       "      <td>COMBUSTIVEIS E LUBRF. P/ OUTRAS FINALIDADES</td>\n",
       "      <td>45423.85</td>\n",
       "    </tr>\n",
       "    <tr>\n",
       "      <th>4</th>\n",
       "      <td>C</td>\n",
       "      <td>COMBUSTIVEIS E LUBRIF. AUTOMOTIVOS</td>\n",
       "      <td>613839.35</td>\n",
       "    </tr>\n",
       "    <tr>\n",
       "      <th>...</th>\n",
       "      <td>...</td>\n",
       "      <td>...</td>\n",
       "      <td>...</td>\n",
       "    </tr>\n",
       "    <tr>\n",
       "      <th>74</th>\n",
       "      <td>D</td>\n",
       "      <td>SERVIOS DE ESTACIONAMENTO DE VEÖCULOS</td>\n",
       "      <td>14.00</td>\n",
       "    </tr>\n",
       "    <tr>\n",
       "      <th>75</th>\n",
       "      <td>D</td>\n",
       "      <td>SERVIOS DE TELECOMUNICAåES</td>\n",
       "      <td>8656.72</td>\n",
       "    </tr>\n",
       "    <tr>\n",
       "      <th>76</th>\n",
       "      <td>D</td>\n",
       "      <td>SOBRESSAL. MAQ. E MOTORES NAVIOS E EMBARCAåES</td>\n",
       "      <td>6479.46</td>\n",
       "    </tr>\n",
       "    <tr>\n",
       "      <th>77</th>\n",
       "      <td>D</td>\n",
       "      <td>TAXAS</td>\n",
       "      <td>2126.04</td>\n",
       "    </tr>\n",
       "    <tr>\n",
       "      <th>78</th>\n",
       "      <td>D</td>\n",
       "      <td>TELEFONIA FIXA E MOVEL - PACOTE DE COMUN. DE D...</td>\n",
       "      <td>7592.00</td>\n",
       "    </tr>\n",
       "  </tbody>\n",
       "</table>\n",
       "<p>79 rows × 3 columns</p>\n",
       "</div>"
      ],
      "text/plain": [
       "   TIPO                             SUBELEMENTO DE DESPESA  VALOR_NUM\n",
       "0     C                             ALIMENTOS PARA ANIMAIS    1809.94\n",
       "1     C                  APARELHOS E UTENSÖLIOS DOMSTICOS    3052.40\n",
       "2     C              ASSINATURAS DE PERIàDICOS E ANUIDADES    1475.60\n",
       "3     C        COMBUSTIVEIS E LUBRF. P/ OUTRAS FINALIDADES   45423.85\n",
       "4     C                 COMBUSTIVEIS E LUBRIF. AUTOMOTIVOS  613839.35\n",
       "..  ...                                                ...        ...\n",
       "74    D             SERVIOS DE ESTACIONAMENTO DE VEÖCULOS      14.00\n",
       "75    D                       SERVIOS DE TELECOMUNICAåES    8656.72\n",
       "76    D     SOBRESSAL. MAQ. E MOTORES NAVIOS E EMBARCAåES    6479.46\n",
       "77    D                                              TAXAS    2126.04\n",
       "78    D  TELEFONIA FIXA E MOVEL - PACOTE DE COMUN. DE D...    7592.00\n",
       "\n",
       "[79 rows x 3 columns]"
      ]
     },
     "execution_count": 71,
     "metadata": {},
     "output_type": "execute_result"
    }
   ],
   "source": [
    "gastos_bolsonaro = gastos_processed[gastos_processed['PRES'] == 'BOLSONARO']\n",
    "\n",
    "gastos_bolsonaro_setores = gastos_bolsonaro.groupby([\"TIPO\", \"SUBELEMENTO DE DESPESA\"]).agg({\"VALOR_NUM\": sum}).reset_index()\n",
    "gastos_bolsonaro_setores"
   ]
  },
  {
   "cell_type": "code",
   "execution_count": 72,
   "metadata": {},
   "outputs": [
    {
     "data": {
      "application/vnd.plotly.v1+json": {
       "config": {
        "plotlyServerURL": "https://plot.ly"
       },
       "data": [
        {
         "domain": {
          "x": [
           0,
           1
          ],
          "y": [
           0,
           1
          ]
         },
         "hovertemplate": "TIPO=%{label}<br>VALOR_NUM=%{value}<extra></extra>",
         "labels": [
          "C",
          "C",
          "C",
          "C",
          "C",
          "C",
          "C",
          "C",
          "C",
          "C",
          "C",
          "C",
          "C",
          "C",
          "C",
          "C",
          "C",
          "C",
          "C",
          "C",
          "C",
          "C",
          "C",
          "C",
          "C",
          "C",
          "C",
          "C",
          "C",
          "C",
          "C",
          "C",
          "C",
          "C",
          "C",
          "C",
          "C",
          "C",
          "C",
          "C",
          "C",
          "C",
          "C",
          "C",
          "C",
          "C",
          "C",
          "C",
          "C",
          "C",
          "C",
          "C",
          "C",
          "C",
          "D",
          "D",
          "D",
          "D",
          "D",
          "D",
          "D",
          "D",
          "D",
          "D",
          "D",
          "D",
          "D",
          "D",
          "D",
          "D",
          "D",
          "D",
          "D",
          "D",
          "D",
          "D",
          "D",
          "D",
          "D"
         ],
         "legendgroup": "",
         "name": "",
         "showlegend": true,
         "type": "pie",
         "values": [
          1809.94,
          3052.4,
          1475.6,
          45423.85,
          613839.35,
          969,
          480,
          9650,
          11226.58,
          1055.48,
          8028.5,
          5286094.41,
          2526.2999999999997,
          4782613.42,
          13425957.71,
          110,
          28823,
          533970.01,
          68797.25,
          43908.5,
          390,
          490,
          1799.6499999999999,
          201.8,
          111,
          49008.87,
          17822.94,
          176.5,
          50394.26,
          3968.71,
          207975.15,
          2117.3,
          9484.98,
          686.7,
          1286.48,
          3072.23,
          42250.51,
          3570.08,
          29.98,
          952,
          12244.81,
          1752.68,
          1310.27,
          8910.19,
          800,
          707935.85,
          679.95,
          400,
          4425.88,
          709.46,
          5450.49,
          82.5,
          1340,
          2477.3,
          54985.21,
          4500,
          21790,
          772,
          225696.12,
          880,
          967.8,
          243191.37,
          550,
          2700,
          165805,
          300,
          20150,
          50,
          330,
          700,
          2660,
          4610,
          1586.3899999999999,
          830445.3,
          14,
          8656.720000000001,
          6479.46,
          2126.04,
          7592
         ]
        }
       ],
       "layout": {
        "legend": {
         "tracegroupgap": 0
        },
        "piecolorway": [
         "rgb(255,255,204)",
         "rgb(255,237,160)",
         "rgb(254,217,118)",
         "rgb(254,178,76)",
         "rgb(253,141,60)",
         "rgb(252,78,42)",
         "rgb(227,26,28)",
         "rgb(189,0,38)",
         "rgb(128,0,38)"
        ],
        "template": {
         "data": {
          "bar": [
           {
            "error_x": {
             "color": "#2a3f5f"
            },
            "error_y": {
             "color": "#2a3f5f"
            },
            "marker": {
             "line": {
              "color": "#E5ECF6",
              "width": 0.5
             },
             "pattern": {
              "fillmode": "overlay",
              "size": 10,
              "solidity": 0.2
             }
            },
            "type": "bar"
           }
          ],
          "barpolar": [
           {
            "marker": {
             "line": {
              "color": "#E5ECF6",
              "width": 0.5
             },
             "pattern": {
              "fillmode": "overlay",
              "size": 10,
              "solidity": 0.2
             }
            },
            "type": "barpolar"
           }
          ],
          "carpet": [
           {
            "aaxis": {
             "endlinecolor": "#2a3f5f",
             "gridcolor": "white",
             "linecolor": "white",
             "minorgridcolor": "white",
             "startlinecolor": "#2a3f5f"
            },
            "baxis": {
             "endlinecolor": "#2a3f5f",
             "gridcolor": "white",
             "linecolor": "white",
             "minorgridcolor": "white",
             "startlinecolor": "#2a3f5f"
            },
            "type": "carpet"
           }
          ],
          "choropleth": [
           {
            "colorbar": {
             "outlinewidth": 0,
             "ticks": ""
            },
            "type": "choropleth"
           }
          ],
          "contour": [
           {
            "colorbar": {
             "outlinewidth": 0,
             "ticks": ""
            },
            "colorscale": [
             [
              0,
              "#0d0887"
             ],
             [
              0.1111111111111111,
              "#46039f"
             ],
             [
              0.2222222222222222,
              "#7201a8"
             ],
             [
              0.3333333333333333,
              "#9c179e"
             ],
             [
              0.4444444444444444,
              "#bd3786"
             ],
             [
              0.5555555555555556,
              "#d8576b"
             ],
             [
              0.6666666666666666,
              "#ed7953"
             ],
             [
              0.7777777777777778,
              "#fb9f3a"
             ],
             [
              0.8888888888888888,
              "#fdca26"
             ],
             [
              1,
              "#f0f921"
             ]
            ],
            "type": "contour"
           }
          ],
          "contourcarpet": [
           {
            "colorbar": {
             "outlinewidth": 0,
             "ticks": ""
            },
            "type": "contourcarpet"
           }
          ],
          "heatmap": [
           {
            "colorbar": {
             "outlinewidth": 0,
             "ticks": ""
            },
            "colorscale": [
             [
              0,
              "#0d0887"
             ],
             [
              0.1111111111111111,
              "#46039f"
             ],
             [
              0.2222222222222222,
              "#7201a8"
             ],
             [
              0.3333333333333333,
              "#9c179e"
             ],
             [
              0.4444444444444444,
              "#bd3786"
             ],
             [
              0.5555555555555556,
              "#d8576b"
             ],
             [
              0.6666666666666666,
              "#ed7953"
             ],
             [
              0.7777777777777778,
              "#fb9f3a"
             ],
             [
              0.8888888888888888,
              "#fdca26"
             ],
             [
              1,
              "#f0f921"
             ]
            ],
            "type": "heatmap"
           }
          ],
          "heatmapgl": [
           {
            "colorbar": {
             "outlinewidth": 0,
             "ticks": ""
            },
            "colorscale": [
             [
              0,
              "#0d0887"
             ],
             [
              0.1111111111111111,
              "#46039f"
             ],
             [
              0.2222222222222222,
              "#7201a8"
             ],
             [
              0.3333333333333333,
              "#9c179e"
             ],
             [
              0.4444444444444444,
              "#bd3786"
             ],
             [
              0.5555555555555556,
              "#d8576b"
             ],
             [
              0.6666666666666666,
              "#ed7953"
             ],
             [
              0.7777777777777778,
              "#fb9f3a"
             ],
             [
              0.8888888888888888,
              "#fdca26"
             ],
             [
              1,
              "#f0f921"
             ]
            ],
            "type": "heatmapgl"
           }
          ],
          "histogram": [
           {
            "marker": {
             "pattern": {
              "fillmode": "overlay",
              "size": 10,
              "solidity": 0.2
             }
            },
            "type": "histogram"
           }
          ],
          "histogram2d": [
           {
            "colorbar": {
             "outlinewidth": 0,
             "ticks": ""
            },
            "colorscale": [
             [
              0,
              "#0d0887"
             ],
             [
              0.1111111111111111,
              "#46039f"
             ],
             [
              0.2222222222222222,
              "#7201a8"
             ],
             [
              0.3333333333333333,
              "#9c179e"
             ],
             [
              0.4444444444444444,
              "#bd3786"
             ],
             [
              0.5555555555555556,
              "#d8576b"
             ],
             [
              0.6666666666666666,
              "#ed7953"
             ],
             [
              0.7777777777777778,
              "#fb9f3a"
             ],
             [
              0.8888888888888888,
              "#fdca26"
             ],
             [
              1,
              "#f0f921"
             ]
            ],
            "type": "histogram2d"
           }
          ],
          "histogram2dcontour": [
           {
            "colorbar": {
             "outlinewidth": 0,
             "ticks": ""
            },
            "colorscale": [
             [
              0,
              "#0d0887"
             ],
             [
              0.1111111111111111,
              "#46039f"
             ],
             [
              0.2222222222222222,
              "#7201a8"
             ],
             [
              0.3333333333333333,
              "#9c179e"
             ],
             [
              0.4444444444444444,
              "#bd3786"
             ],
             [
              0.5555555555555556,
              "#d8576b"
             ],
             [
              0.6666666666666666,
              "#ed7953"
             ],
             [
              0.7777777777777778,
              "#fb9f3a"
             ],
             [
              0.8888888888888888,
              "#fdca26"
             ],
             [
              1,
              "#f0f921"
             ]
            ],
            "type": "histogram2dcontour"
           }
          ],
          "mesh3d": [
           {
            "colorbar": {
             "outlinewidth": 0,
             "ticks": ""
            },
            "type": "mesh3d"
           }
          ],
          "parcoords": [
           {
            "line": {
             "colorbar": {
              "outlinewidth": 0,
              "ticks": ""
             }
            },
            "type": "parcoords"
           }
          ],
          "pie": [
           {
            "automargin": true,
            "type": "pie"
           }
          ],
          "scatter": [
           {
            "fillpattern": {
             "fillmode": "overlay",
             "size": 10,
             "solidity": 0.2
            },
            "type": "scatter"
           }
          ],
          "scatter3d": [
           {
            "line": {
             "colorbar": {
              "outlinewidth": 0,
              "ticks": ""
             }
            },
            "marker": {
             "colorbar": {
              "outlinewidth": 0,
              "ticks": ""
             }
            },
            "type": "scatter3d"
           }
          ],
          "scattercarpet": [
           {
            "marker": {
             "colorbar": {
              "outlinewidth": 0,
              "ticks": ""
             }
            },
            "type": "scattercarpet"
           }
          ],
          "scattergeo": [
           {
            "marker": {
             "colorbar": {
              "outlinewidth": 0,
              "ticks": ""
             }
            },
            "type": "scattergeo"
           }
          ],
          "scattergl": [
           {
            "marker": {
             "colorbar": {
              "outlinewidth": 0,
              "ticks": ""
             }
            },
            "type": "scattergl"
           }
          ],
          "scattermapbox": [
           {
            "marker": {
             "colorbar": {
              "outlinewidth": 0,
              "ticks": ""
             }
            },
            "type": "scattermapbox"
           }
          ],
          "scatterpolar": [
           {
            "marker": {
             "colorbar": {
              "outlinewidth": 0,
              "ticks": ""
             }
            },
            "type": "scatterpolar"
           }
          ],
          "scatterpolargl": [
           {
            "marker": {
             "colorbar": {
              "outlinewidth": 0,
              "ticks": ""
             }
            },
            "type": "scatterpolargl"
           }
          ],
          "scatterternary": [
           {
            "marker": {
             "colorbar": {
              "outlinewidth": 0,
              "ticks": ""
             }
            },
            "type": "scatterternary"
           }
          ],
          "surface": [
           {
            "colorbar": {
             "outlinewidth": 0,
             "ticks": ""
            },
            "colorscale": [
             [
              0,
              "#0d0887"
             ],
             [
              0.1111111111111111,
              "#46039f"
             ],
             [
              0.2222222222222222,
              "#7201a8"
             ],
             [
              0.3333333333333333,
              "#9c179e"
             ],
             [
              0.4444444444444444,
              "#bd3786"
             ],
             [
              0.5555555555555556,
              "#d8576b"
             ],
             [
              0.6666666666666666,
              "#ed7953"
             ],
             [
              0.7777777777777778,
              "#fb9f3a"
             ],
             [
              0.8888888888888888,
              "#fdca26"
             ],
             [
              1,
              "#f0f921"
             ]
            ],
            "type": "surface"
           }
          ],
          "table": [
           {
            "cells": {
             "fill": {
              "color": "#EBF0F8"
             },
             "line": {
              "color": "white"
             }
            },
            "header": {
             "fill": {
              "color": "#C8D4E3"
             },
             "line": {
              "color": "white"
             }
            },
            "type": "table"
           }
          ]
         },
         "layout": {
          "annotationdefaults": {
           "arrowcolor": "#2a3f5f",
           "arrowhead": 0,
           "arrowwidth": 1
          },
          "autotypenumbers": "strict",
          "coloraxis": {
           "colorbar": {
            "outlinewidth": 0,
            "ticks": ""
           }
          },
          "colorscale": {
           "diverging": [
            [
             0,
             "#8e0152"
            ],
            [
             0.1,
             "#c51b7d"
            ],
            [
             0.2,
             "#de77ae"
            ],
            [
             0.3,
             "#f1b6da"
            ],
            [
             0.4,
             "#fde0ef"
            ],
            [
             0.5,
             "#f7f7f7"
            ],
            [
             0.6,
             "#e6f5d0"
            ],
            [
             0.7,
             "#b8e186"
            ],
            [
             0.8,
             "#7fbc41"
            ],
            [
             0.9,
             "#4d9221"
            ],
            [
             1,
             "#276419"
            ]
           ],
           "sequential": [
            [
             0,
             "#0d0887"
            ],
            [
             0.1111111111111111,
             "#46039f"
            ],
            [
             0.2222222222222222,
             "#7201a8"
            ],
            [
             0.3333333333333333,
             "#9c179e"
            ],
            [
             0.4444444444444444,
             "#bd3786"
            ],
            [
             0.5555555555555556,
             "#d8576b"
            ],
            [
             0.6666666666666666,
             "#ed7953"
            ],
            [
             0.7777777777777778,
             "#fb9f3a"
            ],
            [
             0.8888888888888888,
             "#fdca26"
            ],
            [
             1,
             "#f0f921"
            ]
           ],
           "sequentialminus": [
            [
             0,
             "#0d0887"
            ],
            [
             0.1111111111111111,
             "#46039f"
            ],
            [
             0.2222222222222222,
             "#7201a8"
            ],
            [
             0.3333333333333333,
             "#9c179e"
            ],
            [
             0.4444444444444444,
             "#bd3786"
            ],
            [
             0.5555555555555556,
             "#d8576b"
            ],
            [
             0.6666666666666666,
             "#ed7953"
            ],
            [
             0.7777777777777778,
             "#fb9f3a"
            ],
            [
             0.8888888888888888,
             "#fdca26"
            ],
            [
             1,
             "#f0f921"
            ]
           ]
          },
          "colorway": [
           "#636efa",
           "#EF553B",
           "#00cc96",
           "#ab63fa",
           "#FFA15A",
           "#19d3f3",
           "#FF6692",
           "#B6E880",
           "#FF97FF",
           "#FECB52"
          ],
          "font": {
           "color": "#2a3f5f"
          },
          "geo": {
           "bgcolor": "white",
           "lakecolor": "white",
           "landcolor": "#E5ECF6",
           "showlakes": true,
           "showland": true,
           "subunitcolor": "white"
          },
          "hoverlabel": {
           "align": "left"
          },
          "hovermode": "closest",
          "mapbox": {
           "style": "light"
          },
          "paper_bgcolor": "white",
          "plot_bgcolor": "#E5ECF6",
          "polar": {
           "angularaxis": {
            "gridcolor": "white",
            "linecolor": "white",
            "ticks": ""
           },
           "bgcolor": "#E5ECF6",
           "radialaxis": {
            "gridcolor": "white",
            "linecolor": "white",
            "ticks": ""
           }
          },
          "scene": {
           "xaxis": {
            "backgroundcolor": "#E5ECF6",
            "gridcolor": "white",
            "gridwidth": 2,
            "linecolor": "white",
            "showbackground": true,
            "ticks": "",
            "zerolinecolor": "white"
           },
           "yaxis": {
            "backgroundcolor": "#E5ECF6",
            "gridcolor": "white",
            "gridwidth": 2,
            "linecolor": "white",
            "showbackground": true,
            "ticks": "",
            "zerolinecolor": "white"
           },
           "zaxis": {
            "backgroundcolor": "#E5ECF6",
            "gridcolor": "white",
            "gridwidth": 2,
            "linecolor": "white",
            "showbackground": true,
            "ticks": "",
            "zerolinecolor": "white"
           }
          },
          "shapedefaults": {
           "line": {
            "color": "#2a3f5f"
           }
          },
          "ternary": {
           "aaxis": {
            "gridcolor": "white",
            "linecolor": "white",
            "ticks": ""
           },
           "baxis": {
            "gridcolor": "white",
            "linecolor": "white",
            "ticks": ""
           },
           "bgcolor": "#E5ECF6",
           "caxis": {
            "gridcolor": "white",
            "linecolor": "white",
            "ticks": ""
           }
          },
          "title": {
           "x": 0.05
          },
          "xaxis": {
           "automargin": true,
           "gridcolor": "white",
           "linecolor": "white",
           "ticks": "",
           "title": {
            "standoff": 15
           },
           "zerolinecolor": "white",
           "zerolinewidth": 2
          },
          "yaxis": {
           "automargin": true,
           "gridcolor": "white",
           "linecolor": "white",
           "ticks": "",
           "title": {
            "standoff": 15
           },
           "zerolinecolor": "white",
           "zerolinewidth": 2
          }
         }
        },
        "title": {
         "text": "Gastos do cartão presidencial por tipo"
        }
       }
      }
     },
     "metadata": {},
     "output_type": "display_data"
    }
   ],
   "source": [
    "fig_bolsonaro = px.pie(gastos_bolsonaro_setores, values='VALOR_NUM', names='TIPO', title='Gastos do cartão presidencial por tipo',\n",
    "color_discrete_sequence=px.colors.sequential.YlOrRd)\n",
    "fig_bolsonaro.show()"
   ]
  },
  {
   "cell_type": "code",
   "execution_count": null,
   "metadata": {},
   "outputs": [],
   "source": [
    "ipca = pd.read_csv('IPCA mensal 1994-2022.csv',\n",
    "    encoding='utf-8', delimiter=';')\n",
    "\n",
    "ipca"
   ]
  },
  {
   "cell_type": "code",
   "execution_count": null,
   "metadata": {},
   "outputs": [],
   "source": [
    "ipca = ipca.T\n",
    "ipca.reset_index(inplace=True)\n",
    "ipca.columns = ['DATA', 'INFLAÇÃO NO MÊS']\n",
    "ipca"
   ]
  },
  {
   "cell_type": "code",
   "execution_count": null,
   "metadata": {},
   "outputs": [],
   "source": [
    "ipca['DATA'] = ipca['DATA'].str.replace('março ' ,'mar/')\n",
    "ipca['DATA'] = ipca['DATA'].str.replace('/199' ,'/9')\n",
    "ipca['DATA'] = ipca['DATA'].str.replace('/200' ,'/0')\n",
    "ipca['DATA'] = ipca['DATA'].str.replace('/201' ,'/1')\n",
    "ipca['DATA'] = ipca['DATA'].str.replace('/202' ,'/2')\n",
    "\n",
    "ipca[['MES','ANO']] = ipca['DATA'].str.split('/',expand=True)\n",
    "\n",
    "mes_para_numero = {'jan':1, 'fev':2, 'mar':3, 'abr':4, 'mai':5, 'jun':6, 'jul':7, 'ago':8, 'set':9, 'out':10, 'nov':11, 'dez':12}\n",
    "ipca['MES_NUM'] = ipca['MES'].map(mes_para_numero)"
   ]
  },
  {
   "cell_type": "code",
   "execution_count": null,
   "metadata": {},
   "outputs": [],
   "source": [
    "ipca['ANO'] = pd.to_numeric(ipca['ANO'], errors='coerce')\n",
    "\n",
    "def formata_ano(ano):\n",
    "    if ano <23:\n",
    "        return ano + 2000\n",
    "    if ano >23:\n",
    "        return ano + 1900\n",
    "    \n",
    "ipca['ANO_FORMATADO'] = ipca['ANO'].apply(formata_ano)\n",
    "ipca['MES-ANO'] = ipca['MES_NUM'].astype(str) + ipca['ANO_FORMATADO'].astype(str)\n",
    "ipca = ipca.drop(['MES', 'ANO', 'MES_NUM', 'ANO_FORMATADO'], axis=1)"
   ]
  },
  {
   "cell_type": "code",
   "execution_count": null,
   "metadata": {},
   "outputs": [],
   "source": [
    "indice_corte = ipca.loc[ipca['MES-ANO'] == '122002'].index[0]\n",
    "ipca = ipca[indice_corte+1:]\n",
    "ipca['INFLAÇÃO NO MÊS'] = ipca['INFLAÇÃO NO MÊS']/100"
   ]
  },
  {
   "cell_type": "code",
   "execution_count": null,
   "metadata": {},
   "outputs": [],
   "source": [
    "ipca = ipca.iloc[::-1]\n",
    "ipca"
   ]
  },
  {
   "cell_type": "code",
   "execution_count": null,
   "metadata": {},
   "outputs": [],
   "source": [
    "ipca['AJUSTE INFLAÇÃO'] = (ipca['INFLAÇÃO NO MÊS']+1).cumprod()\n",
    "ipca\n",
    "\n"
   ]
  }
 ],
 "metadata": {
  "kernelspec": {
   "display_name": "Python 3 (ipykernel)",
   "language": "python",
   "name": "python3"
  },
  "language_info": {
   "codemirror_mode": {
    "name": "ipython",
    "version": 3
   },
   "file_extension": ".py",
   "mimetype": "text/x-python",
   "name": "python",
   "nbconvert_exporter": "python",
   "pygments_lexer": "ipython3",
   "version": "3.10.6"
  },
  "vscode": {
   "interpreter": {
    "hash": "31f2aee4e71d21fbe5cf8b01ff0e069b9275f58929596ceb00d14d90e3e16cd6"
   }
  }
 },
 "nbformat": 4,
 "nbformat_minor": 2
}
