{
 "cells": [
  {
   "cell_type": "code",
   "execution_count": 3,
   "metadata": {},
   "outputs": [],
   "source": [
    "import pandas as pd\n",
    "\n",
    "import plotly.express as px\n"
   ]
  },
  {
   "cell_type": "code",
   "execution_count": 4,
   "metadata": {},
   "outputs": [
    {
     "data": {
      "text/html": [
       "<div>\n",
       "<style scoped>\n",
       "    .dataframe tbody tr th:only-of-type {\n",
       "        vertical-align: middle;\n",
       "    }\n",
       "\n",
       "    .dataframe tbody tr th {\n",
       "        vertical-align: top;\n",
       "    }\n",
       "\n",
       "    .dataframe thead th {\n",
       "        text-align: right;\n",
       "    }\n",
       "</style>\n",
       "<table border=\"1\" class=\"dataframe\">\n",
       "  <thead>\n",
       "    <tr style=\"text-align: right;\">\n",
       "      <th></th>\n",
       "      <th>CÓDIGO ÓRGÃO SUPERIOR</th>\n",
       "      <th>NOME ÓRGÃO SUPERIOR</th>\n",
       "      <th>CÓDIGO ÓRGÃO</th>\n",
       "      <th>NOME ÓRGÃO</th>\n",
       "      <th>CÓDIGO UNIDADE GESTORA</th>\n",
       "      <th>NOME UNIDADE GESTORA</th>\n",
       "      <th>ANO EXTRATO</th>\n",
       "      <th>MÊS EXTRATO</th>\n",
       "      <th>CPF PORTADOR</th>\n",
       "      <th>NOME PORTADOR</th>\n",
       "      <th>CNPJ OU CPF FAVORECIDO</th>\n",
       "      <th>NOME FAVORECIDO</th>\n",
       "      <th>TRANSAÇÃO</th>\n",
       "      <th>DATA TRANSAÇÃO</th>\n",
       "      <th>VALOR TRANSAÇÃO</th>\n",
       "    </tr>\n",
       "  </thead>\n",
       "  <tbody>\n",
       "    <tr>\n",
       "      <th>0</th>\n",
       "      <td>63000</td>\n",
       "      <td>Advocacia-Geral da União</td>\n",
       "      <td>63000</td>\n",
       "      <td>Advocacia-Geral da União - Unidades com víncul...</td>\n",
       "      <td>110096</td>\n",
       "      <td>SUPERINTENDENCIA ADMINISTRACAO EM PERNAMBUCO</td>\n",
       "      <td>2022</td>\n",
       "      <td>1</td>\n",
       "      <td>***.706.414-**</td>\n",
       "      <td>HENRIQUE SERGIO PINHEIRO DE ARAUJO</td>\n",
       "      <td>18727053000174</td>\n",
       "      <td>PAGAR.ME INSTITUICAO DE PAGAMENTO S.A</td>\n",
       "      <td>COMPRA A/V - R$ - APRES</td>\n",
       "      <td>02/12/2021</td>\n",
       "      <td>532,00</td>\n",
       "    </tr>\n",
       "    <tr>\n",
       "      <th>1</th>\n",
       "      <td>63000</td>\n",
       "      <td>Advocacia-Geral da União</td>\n",
       "      <td>63000</td>\n",
       "      <td>Advocacia-Geral da União - Unidades com víncul...</td>\n",
       "      <td>110096</td>\n",
       "      <td>SUPERINTENDENCIA ADMINISTRACAO EM PERNAMBUCO</td>\n",
       "      <td>2022</td>\n",
       "      <td>1</td>\n",
       "      <td>***.177.215-**</td>\n",
       "      <td>MARIA DAS GRACAS FERREIRA BARATA</td>\n",
       "      <td>13436092000280</td>\n",
       "      <td>ITAO SUPERMERCADOS IMPORTACOES E EXPORTACOES S/A</td>\n",
       "      <td>COMPRA A/V - R$ - APRES</td>\n",
       "      <td>07/12/2021</td>\n",
       "      <td>499,86</td>\n",
       "    </tr>\n",
       "    <tr>\n",
       "      <th>2</th>\n",
       "      <td>63000</td>\n",
       "      <td>Advocacia-Geral da União</td>\n",
       "      <td>63000</td>\n",
       "      <td>Advocacia-Geral da União - Unidades com víncul...</td>\n",
       "      <td>110096</td>\n",
       "      <td>SUPERINTENDENCIA ADMINISTRACAO EM PERNAMBUCO</td>\n",
       "      <td>2022</td>\n",
       "      <td>1</td>\n",
       "      <td>***.959.904-**</td>\n",
       "      <td>ERICK MARTINS NORAT</td>\n",
       "      <td>965241000175</td>\n",
       "      <td>JOSINETE DE VASCONCELOS CAMPELO</td>\n",
       "      <td>COMPRA A/V - R$ - APRES</td>\n",
       "      <td>07/12/2021</td>\n",
       "      <td>527,25</td>\n",
       "    </tr>\n",
       "    <tr>\n",
       "      <th>3</th>\n",
       "      <td>63000</td>\n",
       "      <td>Advocacia-Geral da União</td>\n",
       "      <td>63000</td>\n",
       "      <td>Advocacia-Geral da União - Unidades com víncul...</td>\n",
       "      <td>110096</td>\n",
       "      <td>SUPERINTENDENCIA ADMINISTRACAO EM PERNAMBUCO</td>\n",
       "      <td>2022</td>\n",
       "      <td>1</td>\n",
       "      <td>***.693.773-**</td>\n",
       "      <td>SANDRO DE BRITO CUNHA</td>\n",
       "      <td>69434637000192</td>\n",
       "      <td>TRANSPORTADORA E DISTRIBUIDORA DE BEBIDAS GUER...</td>\n",
       "      <td>COMPRA A/V - R$ - APRES</td>\n",
       "      <td>03/12/2021</td>\n",
       "      <td>504,00</td>\n",
       "    </tr>\n",
       "    <tr>\n",
       "      <th>4</th>\n",
       "      <td>63000</td>\n",
       "      <td>Advocacia-Geral da União</td>\n",
       "      <td>63000</td>\n",
       "      <td>Advocacia-Geral da União - Unidades com víncul...</td>\n",
       "      <td>110096</td>\n",
       "      <td>SUPERINTENDENCIA ADMINISTRACAO EM PERNAMBUCO</td>\n",
       "      <td>2022</td>\n",
       "      <td>1</td>\n",
       "      <td>***.706.414-**</td>\n",
       "      <td>HENRIQUE SERGIO PINHEIRO DE ARAUJO</td>\n",
       "      <td>35562471000178</td>\n",
       "      <td>ANA L C MENDES</td>\n",
       "      <td>COMPRA A/V - R$ - APRES</td>\n",
       "      <td>02/12/2021</td>\n",
       "      <td>209,00</td>\n",
       "    </tr>\n",
       "    <tr>\n",
       "      <th>...</th>\n",
       "      <td>...</td>\n",
       "      <td>...</td>\n",
       "      <td>...</td>\n",
       "      <td>...</td>\n",
       "      <td>...</td>\n",
       "      <td>...</td>\n",
       "      <td>...</td>\n",
       "      <td>...</td>\n",
       "      <td>...</td>\n",
       "      <td>...</td>\n",
       "      <td>...</td>\n",
       "      <td>...</td>\n",
       "      <td>...</td>\n",
       "      <td>...</td>\n",
       "      <td>...</td>\n",
       "    </tr>\n",
       "    <tr>\n",
       "      <th>8623</th>\n",
       "      <td>20000</td>\n",
       "      <td>Presidência da República</td>\n",
       "      <td>20101</td>\n",
       "      <td>Presidência da República</td>\n",
       "      <td>110001</td>\n",
       "      <td>SECRETARIA ESPECIAL DE ADMINISTRACAO/PR</td>\n",
       "      <td>2022</td>\n",
       "      <td>1</td>\n",
       "      <td>***.919.570-**</td>\n",
       "      <td>LUIS CARLOS MACHADO DA SILVA</td>\n",
       "      <td>1226797000102</td>\n",
       "      <td>POSTO MARINA 52 LTDA</td>\n",
       "      <td>COMPRA A/V - R$ - APRES</td>\n",
       "      <td>26/12/2021</td>\n",
       "      <td>324,22</td>\n",
       "    </tr>\n",
       "    <tr>\n",
       "      <th>8624</th>\n",
       "      <td>20000</td>\n",
       "      <td>Presidência da República</td>\n",
       "      <td>20101</td>\n",
       "      <td>Presidência da República</td>\n",
       "      <td>110001</td>\n",
       "      <td>SECRETARIA ESPECIAL DE ADMINISTRACAO/PR</td>\n",
       "      <td>2022</td>\n",
       "      <td>1</td>\n",
       "      <td>***.109.141-**</td>\n",
       "      <td>VALMIR MORAES DA SILVA</td>\n",
       "      <td>45948676000140</td>\n",
       "      <td>AUTO POSTO NOVA PETROPOLIS LTDA</td>\n",
       "      <td>COMPRA A/V - R$ - APRES</td>\n",
       "      <td>03/12/2021</td>\n",
       "      <td>222,45</td>\n",
       "    </tr>\n",
       "    <tr>\n",
       "      <th>8625</th>\n",
       "      <td>20000</td>\n",
       "      <td>Presidência da República</td>\n",
       "      <td>20101</td>\n",
       "      <td>Presidência da República</td>\n",
       "      <td>110001</td>\n",
       "      <td>SECRETARIA ESPECIAL DE ADMINISTRACAO/PR</td>\n",
       "      <td>2022</td>\n",
       "      <td>1</td>\n",
       "      <td>***.109.141-**</td>\n",
       "      <td>VALMIR MORAES DA SILVA</td>\n",
       "      <td>45948676000140</td>\n",
       "      <td>AUTO POSTO NOVA PETROPOLIS LTDA</td>\n",
       "      <td>COMPRA A/V - R$ - APRES</td>\n",
       "      <td>03/12/2021</td>\n",
       "      <td>315,13</td>\n",
       "    </tr>\n",
       "    <tr>\n",
       "      <th>8626</th>\n",
       "      <td>20000</td>\n",
       "      <td>Presidência da República</td>\n",
       "      <td>20101</td>\n",
       "      <td>Presidência da República</td>\n",
       "      <td>110001</td>\n",
       "      <td>SECRETARIA ESPECIAL DE ADMINISTRACAO/PR</td>\n",
       "      <td>2022</td>\n",
       "      <td>1</td>\n",
       "      <td>***.919.570-**</td>\n",
       "      <td>LUIS CARLOS MACHADO DA SILVA</td>\n",
       "      <td>5834063000167</td>\n",
       "      <td>POSTO BOGO LTDA</td>\n",
       "      <td>COMPRA A/V - R$ - APRES</td>\n",
       "      <td>25/12/2021</td>\n",
       "      <td>297,46</td>\n",
       "    </tr>\n",
       "    <tr>\n",
       "      <th>8627</th>\n",
       "      <td>20000</td>\n",
       "      <td>Presidência da República</td>\n",
       "      <td>20101</td>\n",
       "      <td>Presidência da República</td>\n",
       "      <td>110001</td>\n",
       "      <td>SECRETARIA ESPECIAL DE ADMINISTRACAO/PR</td>\n",
       "      <td>2022</td>\n",
       "      <td>1</td>\n",
       "      <td>***.919.570-**</td>\n",
       "      <td>LUIS CARLOS MACHADO DA SILVA</td>\n",
       "      <td>48675623000190</td>\n",
       "      <td>MORADA DO SOL AUTO POSTO LTDA</td>\n",
       "      <td>COMPRA A/V - R$ - APRES</td>\n",
       "      <td>25/12/2021</td>\n",
       "      <td>184,25</td>\n",
       "    </tr>\n",
       "  </tbody>\n",
       "</table>\n",
       "<p>8628 rows × 15 columns</p>\n",
       "</div>"
      ],
      "text/plain": [
       "      CÓDIGO ÓRGÃO SUPERIOR       NOME ÓRGÃO SUPERIOR  CÓDIGO ÓRGÃO  \\\n",
       "0                     63000  Advocacia-Geral da União         63000   \n",
       "1                     63000  Advocacia-Geral da União         63000   \n",
       "2                     63000  Advocacia-Geral da União         63000   \n",
       "3                     63000  Advocacia-Geral da União         63000   \n",
       "4                     63000  Advocacia-Geral da União         63000   \n",
       "...                     ...                       ...           ...   \n",
       "8623                  20000  Presidência da República         20101   \n",
       "8624                  20000  Presidência da República         20101   \n",
       "8625                  20000  Presidência da República         20101   \n",
       "8626                  20000  Presidência da República         20101   \n",
       "8627                  20000  Presidência da República         20101   \n",
       "\n",
       "                                             NOME ÓRGÃO  \\\n",
       "0     Advocacia-Geral da União - Unidades com víncul...   \n",
       "1     Advocacia-Geral da União - Unidades com víncul...   \n",
       "2     Advocacia-Geral da União - Unidades com víncul...   \n",
       "3     Advocacia-Geral da União - Unidades com víncul...   \n",
       "4     Advocacia-Geral da União - Unidades com víncul...   \n",
       "...                                                 ...   \n",
       "8623                           Presidência da República   \n",
       "8624                           Presidência da República   \n",
       "8625                           Presidência da República   \n",
       "8626                           Presidência da República   \n",
       "8627                           Presidência da República   \n",
       "\n",
       "      CÓDIGO UNIDADE GESTORA                          NOME UNIDADE GESTORA  \\\n",
       "0                     110096  SUPERINTENDENCIA ADMINISTRACAO EM PERNAMBUCO   \n",
       "1                     110096  SUPERINTENDENCIA ADMINISTRACAO EM PERNAMBUCO   \n",
       "2                     110096  SUPERINTENDENCIA ADMINISTRACAO EM PERNAMBUCO   \n",
       "3                     110096  SUPERINTENDENCIA ADMINISTRACAO EM PERNAMBUCO   \n",
       "4                     110096  SUPERINTENDENCIA ADMINISTRACAO EM PERNAMBUCO   \n",
       "...                      ...                                           ...   \n",
       "8623                  110001       SECRETARIA ESPECIAL DE ADMINISTRACAO/PR   \n",
       "8624                  110001       SECRETARIA ESPECIAL DE ADMINISTRACAO/PR   \n",
       "8625                  110001       SECRETARIA ESPECIAL DE ADMINISTRACAO/PR   \n",
       "8626                  110001       SECRETARIA ESPECIAL DE ADMINISTRACAO/PR   \n",
       "8627                  110001       SECRETARIA ESPECIAL DE ADMINISTRACAO/PR   \n",
       "\n",
       "      ANO EXTRATO  MÊS EXTRATO    CPF PORTADOR  \\\n",
       "0            2022            1  ***.706.414-**   \n",
       "1            2022            1  ***.177.215-**   \n",
       "2            2022            1  ***.959.904-**   \n",
       "3            2022            1  ***.693.773-**   \n",
       "4            2022            1  ***.706.414-**   \n",
       "...           ...          ...             ...   \n",
       "8623         2022            1  ***.919.570-**   \n",
       "8624         2022            1  ***.109.141-**   \n",
       "8625         2022            1  ***.109.141-**   \n",
       "8626         2022            1  ***.919.570-**   \n",
       "8627         2022            1  ***.919.570-**   \n",
       "\n",
       "                           NOME PORTADOR  CNPJ OU CPF FAVORECIDO  \\\n",
       "0     HENRIQUE SERGIO PINHEIRO DE ARAUJO          18727053000174   \n",
       "1       MARIA DAS GRACAS FERREIRA BARATA          13436092000280   \n",
       "2                    ERICK MARTINS NORAT            965241000175   \n",
       "3                  SANDRO DE BRITO CUNHA          69434637000192   \n",
       "4     HENRIQUE SERGIO PINHEIRO DE ARAUJO          35562471000178   \n",
       "...                                  ...                     ...   \n",
       "8623        LUIS CARLOS MACHADO DA SILVA           1226797000102   \n",
       "8624              VALMIR MORAES DA SILVA          45948676000140   \n",
       "8625              VALMIR MORAES DA SILVA          45948676000140   \n",
       "8626        LUIS CARLOS MACHADO DA SILVA           5834063000167   \n",
       "8627        LUIS CARLOS MACHADO DA SILVA          48675623000190   \n",
       "\n",
       "                                        NOME FAVORECIDO  \\\n",
       "0                 PAGAR.ME INSTITUICAO DE PAGAMENTO S.A   \n",
       "1      ITAO SUPERMERCADOS IMPORTACOES E EXPORTACOES S/A   \n",
       "2                       JOSINETE DE VASCONCELOS CAMPELO   \n",
       "3     TRANSPORTADORA E DISTRIBUIDORA DE BEBIDAS GUER...   \n",
       "4                                        ANA L C MENDES   \n",
       "...                                                 ...   \n",
       "8623                               POSTO MARINA 52 LTDA   \n",
       "8624                    AUTO POSTO NOVA PETROPOLIS LTDA   \n",
       "8625                    AUTO POSTO NOVA PETROPOLIS LTDA   \n",
       "8626                                    POSTO BOGO LTDA   \n",
       "8627                      MORADA DO SOL AUTO POSTO LTDA   \n",
       "\n",
       "                    TRANSAÇÃO DATA TRANSAÇÃO VALOR TRANSAÇÃO  \n",
       "0     COMPRA A/V - R$ - APRES     02/12/2021          532,00  \n",
       "1     COMPRA A/V - R$ - APRES     07/12/2021          499,86  \n",
       "2     COMPRA A/V - R$ - APRES     07/12/2021          527,25  \n",
       "3     COMPRA A/V - R$ - APRES     03/12/2021          504,00  \n",
       "4     COMPRA A/V - R$ - APRES     02/12/2021          209,00  \n",
       "...                       ...            ...             ...  \n",
       "8623  COMPRA A/V - R$ - APRES     26/12/2021          324,22  \n",
       "8624  COMPRA A/V - R$ - APRES     03/12/2021          222,45  \n",
       "8625  COMPRA A/V - R$ - APRES     03/12/2021          315,13  \n",
       "8626  COMPRA A/V - R$ - APRES     25/12/2021          297,46  \n",
       "8627  COMPRA A/V - R$ - APRES     25/12/2021          184,25  \n",
       "\n",
       "[8628 rows x 15 columns]"
      ]
     },
     "execution_count": 4,
     "metadata": {},
     "output_type": "execute_result"
    }
   ],
   "source": [
    "gastos_jan = pd.read_csv('cartao_pagamento_2022_orgaos/202201_CPGF.csv', encoding='latin1', delimiter=';')\n",
    "gastos_jan"
   ]
  },
  {
   "cell_type": "code",
   "execution_count": 5,
   "metadata": {},
   "outputs": [
    {
     "name": "stderr",
     "output_type": "stream",
     "text": [
      "/tmp/ipykernel_11609/3368951345.py:1: FutureWarning: In a future version, `df.iloc[:, i] = newvals` will attempt to set the values inplace instead of always setting a new array. To retain the old behavior, use either `df[df.columns[i]] = newvals` or, if columns are non-unique, `df.isetitem(i, newvals)`\n",
      "  gastos_jan.loc[:, 'VALOR TRANSAÇÃO'] = pd.to_numeric(gastos_jan['VALOR TRANSAÇÃO'].str.replace(\",\", '.'), errors='coerce')\n"
     ]
    },
    {
     "data": {
      "text/html": [
       "<div>\n",
       "<style scoped>\n",
       "    .dataframe tbody tr th:only-of-type {\n",
       "        vertical-align: middle;\n",
       "    }\n",
       "\n",
       "    .dataframe tbody tr th {\n",
       "        vertical-align: top;\n",
       "    }\n",
       "\n",
       "    .dataframe thead th {\n",
       "        text-align: right;\n",
       "    }\n",
       "</style>\n",
       "<table border=\"1\" class=\"dataframe\">\n",
       "  <thead>\n",
       "    <tr style=\"text-align: right;\">\n",
       "      <th></th>\n",
       "      <th>CÓDIGO ÓRGÃO SUPERIOR</th>\n",
       "      <th>NOME ÓRGÃO SUPERIOR</th>\n",
       "      <th>CÓDIGO ÓRGÃO</th>\n",
       "      <th>NOME ÓRGÃO</th>\n",
       "      <th>CÓDIGO UNIDADE GESTORA</th>\n",
       "      <th>NOME UNIDADE GESTORA</th>\n",
       "      <th>ANO EXTRATO</th>\n",
       "      <th>MÊS EXTRATO</th>\n",
       "      <th>CPF PORTADOR</th>\n",
       "      <th>NOME PORTADOR</th>\n",
       "      <th>CNPJ OU CPF FAVORECIDO</th>\n",
       "      <th>NOME FAVORECIDO</th>\n",
       "      <th>TRANSAÇÃO</th>\n",
       "      <th>DATA TRANSAÇÃO</th>\n",
       "      <th>VALOR TRANSAÇÃO</th>\n",
       "    </tr>\n",
       "  </thead>\n",
       "  <tbody>\n",
       "    <tr>\n",
       "      <th>0</th>\n",
       "      <td>63000</td>\n",
       "      <td>Advocacia-Geral da União</td>\n",
       "      <td>63000</td>\n",
       "      <td>Advocacia-Geral da União - Unidades com víncul...</td>\n",
       "      <td>110096</td>\n",
       "      <td>SUPERINTENDENCIA ADMINISTRACAO EM PERNAMBUCO</td>\n",
       "      <td>2022</td>\n",
       "      <td>1</td>\n",
       "      <td>***.706.414-**</td>\n",
       "      <td>HENRIQUE SERGIO PINHEIRO DE ARAUJO</td>\n",
       "      <td>18727053000174</td>\n",
       "      <td>PAGAR.ME INSTITUICAO DE PAGAMENTO S.A</td>\n",
       "      <td>COMPRA A/V - R$ - APRES</td>\n",
       "      <td>02/12/2021</td>\n",
       "      <td>532.00</td>\n",
       "    </tr>\n",
       "    <tr>\n",
       "      <th>1</th>\n",
       "      <td>63000</td>\n",
       "      <td>Advocacia-Geral da União</td>\n",
       "      <td>63000</td>\n",
       "      <td>Advocacia-Geral da União - Unidades com víncul...</td>\n",
       "      <td>110096</td>\n",
       "      <td>SUPERINTENDENCIA ADMINISTRACAO EM PERNAMBUCO</td>\n",
       "      <td>2022</td>\n",
       "      <td>1</td>\n",
       "      <td>***.177.215-**</td>\n",
       "      <td>MARIA DAS GRACAS FERREIRA BARATA</td>\n",
       "      <td>13436092000280</td>\n",
       "      <td>ITAO SUPERMERCADOS IMPORTACOES E EXPORTACOES S/A</td>\n",
       "      <td>COMPRA A/V - R$ - APRES</td>\n",
       "      <td>07/12/2021</td>\n",
       "      <td>499.86</td>\n",
       "    </tr>\n",
       "    <tr>\n",
       "      <th>2</th>\n",
       "      <td>63000</td>\n",
       "      <td>Advocacia-Geral da União</td>\n",
       "      <td>63000</td>\n",
       "      <td>Advocacia-Geral da União - Unidades com víncul...</td>\n",
       "      <td>110096</td>\n",
       "      <td>SUPERINTENDENCIA ADMINISTRACAO EM PERNAMBUCO</td>\n",
       "      <td>2022</td>\n",
       "      <td>1</td>\n",
       "      <td>***.959.904-**</td>\n",
       "      <td>ERICK MARTINS NORAT</td>\n",
       "      <td>965241000175</td>\n",
       "      <td>JOSINETE DE VASCONCELOS CAMPELO</td>\n",
       "      <td>COMPRA A/V - R$ - APRES</td>\n",
       "      <td>07/12/2021</td>\n",
       "      <td>527.25</td>\n",
       "    </tr>\n",
       "    <tr>\n",
       "      <th>3</th>\n",
       "      <td>63000</td>\n",
       "      <td>Advocacia-Geral da União</td>\n",
       "      <td>63000</td>\n",
       "      <td>Advocacia-Geral da União - Unidades com víncul...</td>\n",
       "      <td>110096</td>\n",
       "      <td>SUPERINTENDENCIA ADMINISTRACAO EM PERNAMBUCO</td>\n",
       "      <td>2022</td>\n",
       "      <td>1</td>\n",
       "      <td>***.693.773-**</td>\n",
       "      <td>SANDRO DE BRITO CUNHA</td>\n",
       "      <td>69434637000192</td>\n",
       "      <td>TRANSPORTADORA E DISTRIBUIDORA DE BEBIDAS GUER...</td>\n",
       "      <td>COMPRA A/V - R$ - APRES</td>\n",
       "      <td>03/12/2021</td>\n",
       "      <td>504.00</td>\n",
       "    </tr>\n",
       "    <tr>\n",
       "      <th>4</th>\n",
       "      <td>63000</td>\n",
       "      <td>Advocacia-Geral da União</td>\n",
       "      <td>63000</td>\n",
       "      <td>Advocacia-Geral da União - Unidades com víncul...</td>\n",
       "      <td>110096</td>\n",
       "      <td>SUPERINTENDENCIA ADMINISTRACAO EM PERNAMBUCO</td>\n",
       "      <td>2022</td>\n",
       "      <td>1</td>\n",
       "      <td>***.706.414-**</td>\n",
       "      <td>HENRIQUE SERGIO PINHEIRO DE ARAUJO</td>\n",
       "      <td>35562471000178</td>\n",
       "      <td>ANA L C MENDES</td>\n",
       "      <td>COMPRA A/V - R$ - APRES</td>\n",
       "      <td>02/12/2021</td>\n",
       "      <td>209.00</td>\n",
       "    </tr>\n",
       "    <tr>\n",
       "      <th>...</th>\n",
       "      <td>...</td>\n",
       "      <td>...</td>\n",
       "      <td>...</td>\n",
       "      <td>...</td>\n",
       "      <td>...</td>\n",
       "      <td>...</td>\n",
       "      <td>...</td>\n",
       "      <td>...</td>\n",
       "      <td>...</td>\n",
       "      <td>...</td>\n",
       "      <td>...</td>\n",
       "      <td>...</td>\n",
       "      <td>...</td>\n",
       "      <td>...</td>\n",
       "      <td>...</td>\n",
       "    </tr>\n",
       "    <tr>\n",
       "      <th>8623</th>\n",
       "      <td>20000</td>\n",
       "      <td>Presidência da República</td>\n",
       "      <td>20101</td>\n",
       "      <td>Presidência da República</td>\n",
       "      <td>110001</td>\n",
       "      <td>SECRETARIA ESPECIAL DE ADMINISTRACAO/PR</td>\n",
       "      <td>2022</td>\n",
       "      <td>1</td>\n",
       "      <td>***.919.570-**</td>\n",
       "      <td>LUIS CARLOS MACHADO DA SILVA</td>\n",
       "      <td>1226797000102</td>\n",
       "      <td>POSTO MARINA 52 LTDA</td>\n",
       "      <td>COMPRA A/V - R$ - APRES</td>\n",
       "      <td>26/12/2021</td>\n",
       "      <td>324.22</td>\n",
       "    </tr>\n",
       "    <tr>\n",
       "      <th>8624</th>\n",
       "      <td>20000</td>\n",
       "      <td>Presidência da República</td>\n",
       "      <td>20101</td>\n",
       "      <td>Presidência da República</td>\n",
       "      <td>110001</td>\n",
       "      <td>SECRETARIA ESPECIAL DE ADMINISTRACAO/PR</td>\n",
       "      <td>2022</td>\n",
       "      <td>1</td>\n",
       "      <td>***.109.141-**</td>\n",
       "      <td>VALMIR MORAES DA SILVA</td>\n",
       "      <td>45948676000140</td>\n",
       "      <td>AUTO POSTO NOVA PETROPOLIS LTDA</td>\n",
       "      <td>COMPRA A/V - R$ - APRES</td>\n",
       "      <td>03/12/2021</td>\n",
       "      <td>222.45</td>\n",
       "    </tr>\n",
       "    <tr>\n",
       "      <th>8625</th>\n",
       "      <td>20000</td>\n",
       "      <td>Presidência da República</td>\n",
       "      <td>20101</td>\n",
       "      <td>Presidência da República</td>\n",
       "      <td>110001</td>\n",
       "      <td>SECRETARIA ESPECIAL DE ADMINISTRACAO/PR</td>\n",
       "      <td>2022</td>\n",
       "      <td>1</td>\n",
       "      <td>***.109.141-**</td>\n",
       "      <td>VALMIR MORAES DA SILVA</td>\n",
       "      <td>45948676000140</td>\n",
       "      <td>AUTO POSTO NOVA PETROPOLIS LTDA</td>\n",
       "      <td>COMPRA A/V - R$ - APRES</td>\n",
       "      <td>03/12/2021</td>\n",
       "      <td>315.13</td>\n",
       "    </tr>\n",
       "    <tr>\n",
       "      <th>8626</th>\n",
       "      <td>20000</td>\n",
       "      <td>Presidência da República</td>\n",
       "      <td>20101</td>\n",
       "      <td>Presidência da República</td>\n",
       "      <td>110001</td>\n",
       "      <td>SECRETARIA ESPECIAL DE ADMINISTRACAO/PR</td>\n",
       "      <td>2022</td>\n",
       "      <td>1</td>\n",
       "      <td>***.919.570-**</td>\n",
       "      <td>LUIS CARLOS MACHADO DA SILVA</td>\n",
       "      <td>5834063000167</td>\n",
       "      <td>POSTO BOGO LTDA</td>\n",
       "      <td>COMPRA A/V - R$ - APRES</td>\n",
       "      <td>25/12/2021</td>\n",
       "      <td>297.46</td>\n",
       "    </tr>\n",
       "    <tr>\n",
       "      <th>8627</th>\n",
       "      <td>20000</td>\n",
       "      <td>Presidência da República</td>\n",
       "      <td>20101</td>\n",
       "      <td>Presidência da República</td>\n",
       "      <td>110001</td>\n",
       "      <td>SECRETARIA ESPECIAL DE ADMINISTRACAO/PR</td>\n",
       "      <td>2022</td>\n",
       "      <td>1</td>\n",
       "      <td>***.919.570-**</td>\n",
       "      <td>LUIS CARLOS MACHADO DA SILVA</td>\n",
       "      <td>48675623000190</td>\n",
       "      <td>MORADA DO SOL AUTO POSTO LTDA</td>\n",
       "      <td>COMPRA A/V - R$ - APRES</td>\n",
       "      <td>25/12/2021</td>\n",
       "      <td>184.25</td>\n",
       "    </tr>\n",
       "  </tbody>\n",
       "</table>\n",
       "<p>8628 rows × 15 columns</p>\n",
       "</div>"
      ],
      "text/plain": [
       "      CÓDIGO ÓRGÃO SUPERIOR       NOME ÓRGÃO SUPERIOR  CÓDIGO ÓRGÃO  \\\n",
       "0                     63000  Advocacia-Geral da União         63000   \n",
       "1                     63000  Advocacia-Geral da União         63000   \n",
       "2                     63000  Advocacia-Geral da União         63000   \n",
       "3                     63000  Advocacia-Geral da União         63000   \n",
       "4                     63000  Advocacia-Geral da União         63000   \n",
       "...                     ...                       ...           ...   \n",
       "8623                  20000  Presidência da República         20101   \n",
       "8624                  20000  Presidência da República         20101   \n",
       "8625                  20000  Presidência da República         20101   \n",
       "8626                  20000  Presidência da República         20101   \n",
       "8627                  20000  Presidência da República         20101   \n",
       "\n",
       "                                             NOME ÓRGÃO  \\\n",
       "0     Advocacia-Geral da União - Unidades com víncul...   \n",
       "1     Advocacia-Geral da União - Unidades com víncul...   \n",
       "2     Advocacia-Geral da União - Unidades com víncul...   \n",
       "3     Advocacia-Geral da União - Unidades com víncul...   \n",
       "4     Advocacia-Geral da União - Unidades com víncul...   \n",
       "...                                                 ...   \n",
       "8623                           Presidência da República   \n",
       "8624                           Presidência da República   \n",
       "8625                           Presidência da República   \n",
       "8626                           Presidência da República   \n",
       "8627                           Presidência da República   \n",
       "\n",
       "      CÓDIGO UNIDADE GESTORA                          NOME UNIDADE GESTORA  \\\n",
       "0                     110096  SUPERINTENDENCIA ADMINISTRACAO EM PERNAMBUCO   \n",
       "1                     110096  SUPERINTENDENCIA ADMINISTRACAO EM PERNAMBUCO   \n",
       "2                     110096  SUPERINTENDENCIA ADMINISTRACAO EM PERNAMBUCO   \n",
       "3                     110096  SUPERINTENDENCIA ADMINISTRACAO EM PERNAMBUCO   \n",
       "4                     110096  SUPERINTENDENCIA ADMINISTRACAO EM PERNAMBUCO   \n",
       "...                      ...                                           ...   \n",
       "8623                  110001       SECRETARIA ESPECIAL DE ADMINISTRACAO/PR   \n",
       "8624                  110001       SECRETARIA ESPECIAL DE ADMINISTRACAO/PR   \n",
       "8625                  110001       SECRETARIA ESPECIAL DE ADMINISTRACAO/PR   \n",
       "8626                  110001       SECRETARIA ESPECIAL DE ADMINISTRACAO/PR   \n",
       "8627                  110001       SECRETARIA ESPECIAL DE ADMINISTRACAO/PR   \n",
       "\n",
       "      ANO EXTRATO  MÊS EXTRATO    CPF PORTADOR  \\\n",
       "0            2022            1  ***.706.414-**   \n",
       "1            2022            1  ***.177.215-**   \n",
       "2            2022            1  ***.959.904-**   \n",
       "3            2022            1  ***.693.773-**   \n",
       "4            2022            1  ***.706.414-**   \n",
       "...           ...          ...             ...   \n",
       "8623         2022            1  ***.919.570-**   \n",
       "8624         2022            1  ***.109.141-**   \n",
       "8625         2022            1  ***.109.141-**   \n",
       "8626         2022            1  ***.919.570-**   \n",
       "8627         2022            1  ***.919.570-**   \n",
       "\n",
       "                           NOME PORTADOR  CNPJ OU CPF FAVORECIDO  \\\n",
       "0     HENRIQUE SERGIO PINHEIRO DE ARAUJO          18727053000174   \n",
       "1       MARIA DAS GRACAS FERREIRA BARATA          13436092000280   \n",
       "2                    ERICK MARTINS NORAT            965241000175   \n",
       "3                  SANDRO DE BRITO CUNHA          69434637000192   \n",
       "4     HENRIQUE SERGIO PINHEIRO DE ARAUJO          35562471000178   \n",
       "...                                  ...                     ...   \n",
       "8623        LUIS CARLOS MACHADO DA SILVA           1226797000102   \n",
       "8624              VALMIR MORAES DA SILVA          45948676000140   \n",
       "8625              VALMIR MORAES DA SILVA          45948676000140   \n",
       "8626        LUIS CARLOS MACHADO DA SILVA           5834063000167   \n",
       "8627        LUIS CARLOS MACHADO DA SILVA          48675623000190   \n",
       "\n",
       "                                        NOME FAVORECIDO  \\\n",
       "0                 PAGAR.ME INSTITUICAO DE PAGAMENTO S.A   \n",
       "1      ITAO SUPERMERCADOS IMPORTACOES E EXPORTACOES S/A   \n",
       "2                       JOSINETE DE VASCONCELOS CAMPELO   \n",
       "3     TRANSPORTADORA E DISTRIBUIDORA DE BEBIDAS GUER...   \n",
       "4                                        ANA L C MENDES   \n",
       "...                                                 ...   \n",
       "8623                               POSTO MARINA 52 LTDA   \n",
       "8624                    AUTO POSTO NOVA PETROPOLIS LTDA   \n",
       "8625                    AUTO POSTO NOVA PETROPOLIS LTDA   \n",
       "8626                                    POSTO BOGO LTDA   \n",
       "8627                      MORADA DO SOL AUTO POSTO LTDA   \n",
       "\n",
       "                    TRANSAÇÃO DATA TRANSAÇÃO  VALOR TRANSAÇÃO  \n",
       "0     COMPRA A/V - R$ - APRES     02/12/2021           532.00  \n",
       "1     COMPRA A/V - R$ - APRES     07/12/2021           499.86  \n",
       "2     COMPRA A/V - R$ - APRES     07/12/2021           527.25  \n",
       "3     COMPRA A/V - R$ - APRES     03/12/2021           504.00  \n",
       "4     COMPRA A/V - R$ - APRES     02/12/2021           209.00  \n",
       "...                       ...            ...              ...  \n",
       "8623  COMPRA A/V - R$ - APRES     26/12/2021           324.22  \n",
       "8624  COMPRA A/V - R$ - APRES     03/12/2021           222.45  \n",
       "8625  COMPRA A/V - R$ - APRES     03/12/2021           315.13  \n",
       "8626  COMPRA A/V - R$ - APRES     25/12/2021           297.46  \n",
       "8627  COMPRA A/V - R$ - APRES     25/12/2021           184.25  \n",
       "\n",
       "[8628 rows x 15 columns]"
      ]
     },
     "execution_count": 5,
     "metadata": {},
     "output_type": "execute_result"
    }
   ],
   "source": [
    "gastos_jan.loc[:, 'VALOR TRANSAÇÃO'] = pd.to_numeric(gastos_jan['VALOR TRANSAÇÃO'].str.replace(\",\", '.'), errors='coerce')\n",
    "gastos_jan"
   ]
  },
  {
   "cell_type": "code",
   "execution_count": 6,
   "metadata": {},
   "outputs": [
    {
     "data": {
      "text/html": [
       "<div>\n",
       "<style scoped>\n",
       "    .dataframe tbody tr th:only-of-type {\n",
       "        vertical-align: middle;\n",
       "    }\n",
       "\n",
       "    .dataframe tbody tr th {\n",
       "        vertical-align: top;\n",
       "    }\n",
       "\n",
       "    .dataframe thead th {\n",
       "        text-align: right;\n",
       "    }\n",
       "</style>\n",
       "<table border=\"1\" class=\"dataframe\">\n",
       "  <thead>\n",
       "    <tr style=\"text-align: right;\">\n",
       "      <th></th>\n",
       "      <th>index</th>\n",
       "      <th>NOME ÓRGÃO SUPERIOR</th>\n",
       "      <th>VALOR TRANSAÇÃO</th>\n",
       "    </tr>\n",
       "  </thead>\n",
       "  <tbody>\n",
       "    <tr>\n",
       "      <th>0</th>\n",
       "      <td>20</td>\n",
       "      <td>Presidência da República</td>\n",
       "      <td>2004150.51</td>\n",
       "    </tr>\n",
       "    <tr>\n",
       "      <th>1</th>\n",
       "      <td>9</td>\n",
       "      <td>Ministério da Justiça e Segurança Pública</td>\n",
       "      <td>1269188.17</td>\n",
       "    </tr>\n",
       "    <tr>\n",
       "      <th>2</th>\n",
       "      <td>6</td>\n",
       "      <td>Ministério da Economia</td>\n",
       "      <td>900885.74</td>\n",
       "    </tr>\n",
       "    <tr>\n",
       "      <th>3</th>\n",
       "      <td>7</td>\n",
       "      <td>Ministério da Educação</td>\n",
       "      <td>458152.23</td>\n",
       "    </tr>\n",
       "    <tr>\n",
       "      <th>4</th>\n",
       "      <td>3</td>\n",
       "      <td>Ministério da Agricultura, Pecuária e Abastec</td>\n",
       "      <td>407282.86</td>\n",
       "    </tr>\n",
       "    <tr>\n",
       "      <th>5</th>\n",
       "      <td>5</td>\n",
       "      <td>Ministério da Defesa</td>\n",
       "      <td>378740.95</td>\n",
       "    </tr>\n",
       "    <tr>\n",
       "      <th>6</th>\n",
       "      <td>16</td>\n",
       "      <td>Ministério do Meio Ambiente</td>\n",
       "      <td>255454.78</td>\n",
       "    </tr>\n",
       "    <tr>\n",
       "      <th>7</th>\n",
       "      <td>11</td>\n",
       "      <td>Ministério da Saúde</td>\n",
       "      <td>140872.62</td>\n",
       "    </tr>\n",
       "    <tr>\n",
       "      <th>8</th>\n",
       "      <td>15</td>\n",
       "      <td>Ministério do Desenvolvimento Regional</td>\n",
       "      <td>78503.23</td>\n",
       "    </tr>\n",
       "    <tr>\n",
       "      <th>9</th>\n",
       "      <td>17</td>\n",
       "      <td>Ministério do Trabalho</td>\n",
       "      <td>75589.72</td>\n",
       "    </tr>\n",
       "    <tr>\n",
       "      <th>10</th>\n",
       "      <td>14</td>\n",
       "      <td>Ministério de Minas e Energia</td>\n",
       "      <td>66644.65</td>\n",
       "    </tr>\n",
       "    <tr>\n",
       "      <th>11</th>\n",
       "      <td>4</td>\n",
       "      <td>Ministério da Ciência, Tecnologia, Inovações</td>\n",
       "      <td>51821.98</td>\n",
       "    </tr>\n",
       "    <tr>\n",
       "      <th>12</th>\n",
       "      <td>1</td>\n",
       "      <td>Banco Central do Brasil - Orçamento Fiscal e</td>\n",
       "      <td>23201.85</td>\n",
       "    </tr>\n",
       "    <tr>\n",
       "      <th>13</th>\n",
       "      <td>0</td>\n",
       "      <td>Advocacia-Geral da União</td>\n",
       "      <td>20717.01</td>\n",
       "    </tr>\n",
       "    <tr>\n",
       "      <th>14</th>\n",
       "      <td>18</td>\n",
       "      <td>Ministério do Trabalho e Emprego</td>\n",
       "      <td>11693.64</td>\n",
       "    </tr>\n",
       "    <tr>\n",
       "      <th>15</th>\n",
       "      <td>12</td>\n",
       "      <td>Ministério das Comunicações</td>\n",
       "      <td>10403.20</td>\n",
       "    </tr>\n",
       "    <tr>\n",
       "      <th>16</th>\n",
       "      <td>8</td>\n",
       "      <td>Ministério da Infraestrutura</td>\n",
       "      <td>8369.62</td>\n",
       "    </tr>\n",
       "    <tr>\n",
       "      <th>17</th>\n",
       "      <td>19</td>\n",
       "      <td>Ministério do Turismo</td>\n",
       "      <td>8269.24</td>\n",
       "    </tr>\n",
       "    <tr>\n",
       "      <th>18</th>\n",
       "      <td>2</td>\n",
       "      <td>Controladoria-Geral da União</td>\n",
       "      <td>2733.00</td>\n",
       "    </tr>\n",
       "    <tr>\n",
       "      <th>19</th>\n",
       "      <td>13</td>\n",
       "      <td>Ministério das Relações Exteriores</td>\n",
       "      <td>2484.83</td>\n",
       "    </tr>\n",
       "    <tr>\n",
       "      <th>20</th>\n",
       "      <td>10</td>\n",
       "      <td>Ministério da Mulher, Família e Direitos Huma</td>\n",
       "      <td>360.00</td>\n",
       "    </tr>\n",
       "  </tbody>\n",
       "</table>\n",
       "</div>"
      ],
      "text/plain": [
       "    index                            NOME ÓRGÃO SUPERIOR  VALOR TRANSAÇÃO\n",
       "0      20                       Presidência da República       2004150.51\n",
       "1       9      Ministério da Justiça e Segurança Pública       1269188.17\n",
       "2       6                         Ministério da Economia        900885.74\n",
       "3       7                         Ministério da Educação        458152.23\n",
       "4       3  Ministério da Agricultura, Pecuária e Abastec        407282.86\n",
       "5       5                           Ministério da Defesa        378740.95\n",
       "6      16                    Ministério do Meio Ambiente        255454.78\n",
       "7      11                            Ministério da Saúde        140872.62\n",
       "8      15         Ministério do Desenvolvimento Regional         78503.23\n",
       "9      17                         Ministério do Trabalho         75589.72\n",
       "10     14                  Ministério de Minas e Energia         66644.65\n",
       "11      4  Ministério da Ciência, Tecnologia, Inovações          51821.98\n",
       "12      1  Banco Central do Brasil - Orçamento Fiscal e          23201.85\n",
       "13      0                       Advocacia-Geral da União         20717.01\n",
       "14     18               Ministério do Trabalho e Emprego         11693.64\n",
       "15     12                    Ministério das Comunicações         10403.20\n",
       "16      8                   Ministério da Infraestrutura          8369.62\n",
       "17     19                          Ministério do Turismo          8269.24\n",
       "18      2                   Controladoria-Geral da União          2733.00\n",
       "19     13             Ministério das Relações Exteriores          2484.83\n",
       "20     10  Ministério da Mulher, Família e Direitos Huma           360.00"
      ]
     },
     "execution_count": 6,
     "metadata": {},
     "output_type": "execute_result"
    }
   ],
   "source": [
    "gastos_por_orgao = gastos_jan.groupby('NOME ÓRGÃO SUPERIOR').agg({'VALOR TRANSAÇÃO': sum}).reset_index()\n",
    "gastos_por_orgao = gastos_por_orgao.sort_values('VALOR TRANSAÇÃO', ascending=False).reset_index()\n",
    "gastos_por_orgao"
   ]
  },
  {
   "cell_type": "code",
   "execution_count": 13,
   "metadata": {},
   "outputs": [
    {
     "data": {
      "text/html": [
       "<div>\n",
       "<style scoped>\n",
       "    .dataframe tbody tr th:only-of-type {\n",
       "        vertical-align: middle;\n",
       "    }\n",
       "\n",
       "    .dataframe tbody tr th {\n",
       "        vertical-align: top;\n",
       "    }\n",
       "\n",
       "    .dataframe thead th {\n",
       "        text-align: right;\n",
       "    }\n",
       "</style>\n",
       "<table border=\"1\" class=\"dataframe\">\n",
       "  <thead>\n",
       "    <tr style=\"text-align: right;\">\n",
       "      <th></th>\n",
       "      <th>index</th>\n",
       "      <th>NOME ÓRGÃO SUPERIOR</th>\n",
       "      <th>VALOR TRANSAÇÃO</th>\n",
       "    </tr>\n",
       "  </thead>\n",
       "  <tbody>\n",
       "    <tr>\n",
       "      <th>0</th>\n",
       "      <td>20</td>\n",
       "      <td>Presidência da República</td>\n",
       "      <td>2004150.51</td>\n",
       "    </tr>\n",
       "    <tr>\n",
       "      <th>1</th>\n",
       "      <td>9</td>\n",
       "      <td>Ministério da Justiça e Segurança Pública</td>\n",
       "      <td>1269188.17</td>\n",
       "    </tr>\n",
       "    <tr>\n",
       "      <th>2</th>\n",
       "      <td>6</td>\n",
       "      <td>Ministério da Economia</td>\n",
       "      <td>900885.74</td>\n",
       "    </tr>\n",
       "    <tr>\n",
       "      <th>3</th>\n",
       "      <td>7</td>\n",
       "      <td>Ministério da Educação</td>\n",
       "      <td>458152.23</td>\n",
       "    </tr>\n",
       "    <tr>\n",
       "      <th>4</th>\n",
       "      <td>3</td>\n",
       "      <td>Ministério da Agricultura, Pecuária e Abastec</td>\n",
       "      <td>407282.86</td>\n",
       "    </tr>\n",
       "    <tr>\n",
       "      <th>5</th>\n",
       "      <td>5</td>\n",
       "      <td>Ministério da Defesa</td>\n",
       "      <td>378740.95</td>\n",
       "    </tr>\n",
       "    <tr>\n",
       "      <th>6</th>\n",
       "      <td>16</td>\n",
       "      <td>Ministério do Meio Ambiente</td>\n",
       "      <td>255454.78</td>\n",
       "    </tr>\n",
       "    <tr>\n",
       "      <th>7</th>\n",
       "      <td>11</td>\n",
       "      <td>Ministério da Saúde</td>\n",
       "      <td>140872.62</td>\n",
       "    </tr>\n",
       "    <tr>\n",
       "      <th>8</th>\n",
       "      <td>15</td>\n",
       "      <td>Ministério do Desenvolvimento Regional</td>\n",
       "      <td>78503.23</td>\n",
       "    </tr>\n",
       "    <tr>\n",
       "      <th>9</th>\n",
       "      <td>17</td>\n",
       "      <td>Ministério do Trabalho</td>\n",
       "      <td>75589.72</td>\n",
       "    </tr>\n",
       "  </tbody>\n",
       "</table>\n",
       "</div>"
      ],
      "text/plain": [
       "   index                            NOME ÓRGÃO SUPERIOR  VALOR TRANSAÇÃO\n",
       "0     20                       Presidência da República       2004150.51\n",
       "1      9      Ministério da Justiça e Segurança Pública       1269188.17\n",
       "2      6                         Ministério da Economia        900885.74\n",
       "3      7                         Ministério da Educação        458152.23\n",
       "4      3  Ministério da Agricultura, Pecuária e Abastec        407282.86\n",
       "5      5                           Ministério da Defesa        378740.95\n",
       "6     16                    Ministério do Meio Ambiente        255454.78\n",
       "7     11                            Ministério da Saúde        140872.62\n",
       "8     15         Ministério do Desenvolvimento Regional         78503.23\n",
       "9     17                         Ministério do Trabalho         75589.72"
      ]
     },
     "execution_count": 13,
     "metadata": {},
     "output_type": "execute_result"
    }
   ],
   "source": [
    "gastos_10_maiores = gastos_por_orgao.loc[:9,:]\n",
    "gastos_10_maiores"
   ]
  },
  {
   "cell_type": "code",
   "execution_count": 14,
   "metadata": {},
   "outputs": [
    {
     "data": {
      "application/vnd.plotly.v1+json": {
       "config": {
        "plotlyServerURL": "https://plot.ly"
       },
       "data": [
        {
         "branchvalues": "total",
         "customdata": [
          [
           "Ministério da Justiça e Segurança Pública"
          ],
          [
           "Ministério da Saúde"
          ],
          [
           "Ministério da Economia"
          ],
          [
           "Ministério da Educação"
          ],
          [
           "Ministério da Defesa"
          ],
          [
           "Ministério do Meio Ambiente"
          ],
          [
           "Ministério do Trabalho"
          ],
          [
           "Ministério do Desenvolvimento Regional"
          ],
          [
           "Presidência da República"
          ],
          [
           "Ministério da Agricultura, Pecuária e Abastec"
          ],
          [
           "(?)"
          ]
         ],
         "domain": {
          "x": [
           0,
           1
          ],
          "y": [
           0,
           1
          ]
         },
         "hovertemplate": "labels=%{label}<br>VALOR TRANSAÇÃO=%{value}<br>parent=%{parent}<br>id=%{id}<br>NOME ÓRGÃO SUPERIOR=%{customdata[0]}<extra></extra>",
         "ids": [
          "Governo Federal/Ministério da Justiça e Segurança Pública",
          "Governo Federal/Ministério da Saúde",
          "Governo Federal/Ministério da Economia",
          "Governo Federal/Ministério da Educação",
          "Governo Federal/Ministério da Defesa",
          "Governo Federal/Ministério do Meio Ambiente",
          "Governo Federal/Ministério do Trabalho",
          "Governo Federal/Ministério do Desenvolvimento Regional",
          "Governo Federal/Presidência da República",
          "Governo Federal/Ministério da Agricultura, Pecuária e Abastec",
          "Governo Federal"
         ],
         "labels": [
          "Ministério da Justiça e Segurança Pública",
          "Ministério da Saúde",
          "Ministério da Economia",
          "Ministério da Educação",
          "Ministério da Defesa",
          "Ministério do Meio Ambiente",
          "Ministério do Trabalho",
          "Ministério do Desenvolvimento Regional",
          "Presidência da República",
          "Ministério da Agricultura, Pecuária e Abastec",
          "Governo Federal"
         ],
         "marker": {
          "colors": [
           "#636efa",
           "#EF553B",
           "#00cc96",
           "#ab63fa",
           "#FFA15A",
           "#19d3f3",
           "#FF6692",
           "#B6E880",
           "#FF97FF",
           "#FECB52",
           "#636efa"
          ]
         },
         "name": "",
         "parents": [
          "Governo Federal",
          "Governo Federal",
          "Governo Federal",
          "Governo Federal",
          "Governo Federal",
          "Governo Federal",
          "Governo Federal",
          "Governo Federal",
          "Governo Federal",
          "Governo Federal",
          ""
         ],
         "type": "treemap",
         "values": [
          1269188.17,
          140872.62,
          900885.74,
          458152.23,
          378740.95,
          255454.78,
          75589.72,
          78503.23,
          2004150.51,
          407282.86,
          5968820.81
         ]
        }
       ],
       "layout": {
        "legend": {
         "tracegroupgap": 0
        },
        "margin": {
         "t": 60
        },
        "template": {
         "data": {
          "bar": [
           {
            "error_x": {
             "color": "#2a3f5f"
            },
            "error_y": {
             "color": "#2a3f5f"
            },
            "marker": {
             "line": {
              "color": "#E5ECF6",
              "width": 0.5
             },
             "pattern": {
              "fillmode": "overlay",
              "size": 10,
              "solidity": 0.2
             }
            },
            "type": "bar"
           }
          ],
          "barpolar": [
           {
            "marker": {
             "line": {
              "color": "#E5ECF6",
              "width": 0.5
             },
             "pattern": {
              "fillmode": "overlay",
              "size": 10,
              "solidity": 0.2
             }
            },
            "type": "barpolar"
           }
          ],
          "carpet": [
           {
            "aaxis": {
             "endlinecolor": "#2a3f5f",
             "gridcolor": "white",
             "linecolor": "white",
             "minorgridcolor": "white",
             "startlinecolor": "#2a3f5f"
            },
            "baxis": {
             "endlinecolor": "#2a3f5f",
             "gridcolor": "white",
             "linecolor": "white",
             "minorgridcolor": "white",
             "startlinecolor": "#2a3f5f"
            },
            "type": "carpet"
           }
          ],
          "choropleth": [
           {
            "colorbar": {
             "outlinewidth": 0,
             "ticks": ""
            },
            "type": "choropleth"
           }
          ],
          "contour": [
           {
            "colorbar": {
             "outlinewidth": 0,
             "ticks": ""
            },
            "colorscale": [
             [
              0,
              "#0d0887"
             ],
             [
              0.1111111111111111,
              "#46039f"
             ],
             [
              0.2222222222222222,
              "#7201a8"
             ],
             [
              0.3333333333333333,
              "#9c179e"
             ],
             [
              0.4444444444444444,
              "#bd3786"
             ],
             [
              0.5555555555555556,
              "#d8576b"
             ],
             [
              0.6666666666666666,
              "#ed7953"
             ],
             [
              0.7777777777777778,
              "#fb9f3a"
             ],
             [
              0.8888888888888888,
              "#fdca26"
             ],
             [
              1,
              "#f0f921"
             ]
            ],
            "type": "contour"
           }
          ],
          "contourcarpet": [
           {
            "colorbar": {
             "outlinewidth": 0,
             "ticks": ""
            },
            "type": "contourcarpet"
           }
          ],
          "heatmap": [
           {
            "colorbar": {
             "outlinewidth": 0,
             "ticks": ""
            },
            "colorscale": [
             [
              0,
              "#0d0887"
             ],
             [
              0.1111111111111111,
              "#46039f"
             ],
             [
              0.2222222222222222,
              "#7201a8"
             ],
             [
              0.3333333333333333,
              "#9c179e"
             ],
             [
              0.4444444444444444,
              "#bd3786"
             ],
             [
              0.5555555555555556,
              "#d8576b"
             ],
             [
              0.6666666666666666,
              "#ed7953"
             ],
             [
              0.7777777777777778,
              "#fb9f3a"
             ],
             [
              0.8888888888888888,
              "#fdca26"
             ],
             [
              1,
              "#f0f921"
             ]
            ],
            "type": "heatmap"
           }
          ],
          "heatmapgl": [
           {
            "colorbar": {
             "outlinewidth": 0,
             "ticks": ""
            },
            "colorscale": [
             [
              0,
              "#0d0887"
             ],
             [
              0.1111111111111111,
              "#46039f"
             ],
             [
              0.2222222222222222,
              "#7201a8"
             ],
             [
              0.3333333333333333,
              "#9c179e"
             ],
             [
              0.4444444444444444,
              "#bd3786"
             ],
             [
              0.5555555555555556,
              "#d8576b"
             ],
             [
              0.6666666666666666,
              "#ed7953"
             ],
             [
              0.7777777777777778,
              "#fb9f3a"
             ],
             [
              0.8888888888888888,
              "#fdca26"
             ],
             [
              1,
              "#f0f921"
             ]
            ],
            "type": "heatmapgl"
           }
          ],
          "histogram": [
           {
            "marker": {
             "pattern": {
              "fillmode": "overlay",
              "size": 10,
              "solidity": 0.2
             }
            },
            "type": "histogram"
           }
          ],
          "histogram2d": [
           {
            "colorbar": {
             "outlinewidth": 0,
             "ticks": ""
            },
            "colorscale": [
             [
              0,
              "#0d0887"
             ],
             [
              0.1111111111111111,
              "#46039f"
             ],
             [
              0.2222222222222222,
              "#7201a8"
             ],
             [
              0.3333333333333333,
              "#9c179e"
             ],
             [
              0.4444444444444444,
              "#bd3786"
             ],
             [
              0.5555555555555556,
              "#d8576b"
             ],
             [
              0.6666666666666666,
              "#ed7953"
             ],
             [
              0.7777777777777778,
              "#fb9f3a"
             ],
             [
              0.8888888888888888,
              "#fdca26"
             ],
             [
              1,
              "#f0f921"
             ]
            ],
            "type": "histogram2d"
           }
          ],
          "histogram2dcontour": [
           {
            "colorbar": {
             "outlinewidth": 0,
             "ticks": ""
            },
            "colorscale": [
             [
              0,
              "#0d0887"
             ],
             [
              0.1111111111111111,
              "#46039f"
             ],
             [
              0.2222222222222222,
              "#7201a8"
             ],
             [
              0.3333333333333333,
              "#9c179e"
             ],
             [
              0.4444444444444444,
              "#bd3786"
             ],
             [
              0.5555555555555556,
              "#d8576b"
             ],
             [
              0.6666666666666666,
              "#ed7953"
             ],
             [
              0.7777777777777778,
              "#fb9f3a"
             ],
             [
              0.8888888888888888,
              "#fdca26"
             ],
             [
              1,
              "#f0f921"
             ]
            ],
            "type": "histogram2dcontour"
           }
          ],
          "mesh3d": [
           {
            "colorbar": {
             "outlinewidth": 0,
             "ticks": ""
            },
            "type": "mesh3d"
           }
          ],
          "parcoords": [
           {
            "line": {
             "colorbar": {
              "outlinewidth": 0,
              "ticks": ""
             }
            },
            "type": "parcoords"
           }
          ],
          "pie": [
           {
            "automargin": true,
            "type": "pie"
           }
          ],
          "scatter": [
           {
            "fillpattern": {
             "fillmode": "overlay",
             "size": 10,
             "solidity": 0.2
            },
            "type": "scatter"
           }
          ],
          "scatter3d": [
           {
            "line": {
             "colorbar": {
              "outlinewidth": 0,
              "ticks": ""
             }
            },
            "marker": {
             "colorbar": {
              "outlinewidth": 0,
              "ticks": ""
             }
            },
            "type": "scatter3d"
           }
          ],
          "scattercarpet": [
           {
            "marker": {
             "colorbar": {
              "outlinewidth": 0,
              "ticks": ""
             }
            },
            "type": "scattercarpet"
           }
          ],
          "scattergeo": [
           {
            "marker": {
             "colorbar": {
              "outlinewidth": 0,
              "ticks": ""
             }
            },
            "type": "scattergeo"
           }
          ],
          "scattergl": [
           {
            "marker": {
             "colorbar": {
              "outlinewidth": 0,
              "ticks": ""
             }
            },
            "type": "scattergl"
           }
          ],
          "scattermapbox": [
           {
            "marker": {
             "colorbar": {
              "outlinewidth": 0,
              "ticks": ""
             }
            },
            "type": "scattermapbox"
           }
          ],
          "scatterpolar": [
           {
            "marker": {
             "colorbar": {
              "outlinewidth": 0,
              "ticks": ""
             }
            },
            "type": "scatterpolar"
           }
          ],
          "scatterpolargl": [
           {
            "marker": {
             "colorbar": {
              "outlinewidth": 0,
              "ticks": ""
             }
            },
            "type": "scatterpolargl"
           }
          ],
          "scatterternary": [
           {
            "marker": {
             "colorbar": {
              "outlinewidth": 0,
              "ticks": ""
             }
            },
            "type": "scatterternary"
           }
          ],
          "surface": [
           {
            "colorbar": {
             "outlinewidth": 0,
             "ticks": ""
            },
            "colorscale": [
             [
              0,
              "#0d0887"
             ],
             [
              0.1111111111111111,
              "#46039f"
             ],
             [
              0.2222222222222222,
              "#7201a8"
             ],
             [
              0.3333333333333333,
              "#9c179e"
             ],
             [
              0.4444444444444444,
              "#bd3786"
             ],
             [
              0.5555555555555556,
              "#d8576b"
             ],
             [
              0.6666666666666666,
              "#ed7953"
             ],
             [
              0.7777777777777778,
              "#fb9f3a"
             ],
             [
              0.8888888888888888,
              "#fdca26"
             ],
             [
              1,
              "#f0f921"
             ]
            ],
            "type": "surface"
           }
          ],
          "table": [
           {
            "cells": {
             "fill": {
              "color": "#EBF0F8"
             },
             "line": {
              "color": "white"
             }
            },
            "header": {
             "fill": {
              "color": "#C8D4E3"
             },
             "line": {
              "color": "white"
             }
            },
            "type": "table"
           }
          ]
         },
         "layout": {
          "annotationdefaults": {
           "arrowcolor": "#2a3f5f",
           "arrowhead": 0,
           "arrowwidth": 1
          },
          "autotypenumbers": "strict",
          "coloraxis": {
           "colorbar": {
            "outlinewidth": 0,
            "ticks": ""
           }
          },
          "colorscale": {
           "diverging": [
            [
             0,
             "#8e0152"
            ],
            [
             0.1,
             "#c51b7d"
            ],
            [
             0.2,
             "#de77ae"
            ],
            [
             0.3,
             "#f1b6da"
            ],
            [
             0.4,
             "#fde0ef"
            ],
            [
             0.5,
             "#f7f7f7"
            ],
            [
             0.6,
             "#e6f5d0"
            ],
            [
             0.7,
             "#b8e186"
            ],
            [
             0.8,
             "#7fbc41"
            ],
            [
             0.9,
             "#4d9221"
            ],
            [
             1,
             "#276419"
            ]
           ],
           "sequential": [
            [
             0,
             "#0d0887"
            ],
            [
             0.1111111111111111,
             "#46039f"
            ],
            [
             0.2222222222222222,
             "#7201a8"
            ],
            [
             0.3333333333333333,
             "#9c179e"
            ],
            [
             0.4444444444444444,
             "#bd3786"
            ],
            [
             0.5555555555555556,
             "#d8576b"
            ],
            [
             0.6666666666666666,
             "#ed7953"
            ],
            [
             0.7777777777777778,
             "#fb9f3a"
            ],
            [
             0.8888888888888888,
             "#fdca26"
            ],
            [
             1,
             "#f0f921"
            ]
           ],
           "sequentialminus": [
            [
             0,
             "#0d0887"
            ],
            [
             0.1111111111111111,
             "#46039f"
            ],
            [
             0.2222222222222222,
             "#7201a8"
            ],
            [
             0.3333333333333333,
             "#9c179e"
            ],
            [
             0.4444444444444444,
             "#bd3786"
            ],
            [
             0.5555555555555556,
             "#d8576b"
            ],
            [
             0.6666666666666666,
             "#ed7953"
            ],
            [
             0.7777777777777778,
             "#fb9f3a"
            ],
            [
             0.8888888888888888,
             "#fdca26"
            ],
            [
             1,
             "#f0f921"
            ]
           ]
          },
          "colorway": [
           "#636efa",
           "#EF553B",
           "#00cc96",
           "#ab63fa",
           "#FFA15A",
           "#19d3f3",
           "#FF6692",
           "#B6E880",
           "#FF97FF",
           "#FECB52"
          ],
          "font": {
           "color": "#2a3f5f"
          },
          "geo": {
           "bgcolor": "white",
           "lakecolor": "white",
           "landcolor": "#E5ECF6",
           "showlakes": true,
           "showland": true,
           "subunitcolor": "white"
          },
          "hoverlabel": {
           "align": "left"
          },
          "hovermode": "closest",
          "mapbox": {
           "style": "light"
          },
          "paper_bgcolor": "white",
          "plot_bgcolor": "#E5ECF6",
          "polar": {
           "angularaxis": {
            "gridcolor": "white",
            "linecolor": "white",
            "ticks": ""
           },
           "bgcolor": "#E5ECF6",
           "radialaxis": {
            "gridcolor": "white",
            "linecolor": "white",
            "ticks": ""
           }
          },
          "scene": {
           "xaxis": {
            "backgroundcolor": "#E5ECF6",
            "gridcolor": "white",
            "gridwidth": 2,
            "linecolor": "white",
            "showbackground": true,
            "ticks": "",
            "zerolinecolor": "white"
           },
           "yaxis": {
            "backgroundcolor": "#E5ECF6",
            "gridcolor": "white",
            "gridwidth": 2,
            "linecolor": "white",
            "showbackground": true,
            "ticks": "",
            "zerolinecolor": "white"
           },
           "zaxis": {
            "backgroundcolor": "#E5ECF6",
            "gridcolor": "white",
            "gridwidth": 2,
            "linecolor": "white",
            "showbackground": true,
            "ticks": "",
            "zerolinecolor": "white"
           }
          },
          "shapedefaults": {
           "line": {
            "color": "#2a3f5f"
           }
          },
          "ternary": {
           "aaxis": {
            "gridcolor": "white",
            "linecolor": "white",
            "ticks": ""
           },
           "baxis": {
            "gridcolor": "white",
            "linecolor": "white",
            "ticks": ""
           },
           "bgcolor": "#E5ECF6",
           "caxis": {
            "gridcolor": "white",
            "linecolor": "white",
            "ticks": ""
           }
          },
          "title": {
           "x": 0.05
          },
          "xaxis": {
           "automargin": true,
           "gridcolor": "white",
           "linecolor": "white",
           "ticks": "",
           "title": {
            "standoff": 15
           },
           "zerolinecolor": "white",
           "zerolinewidth": 2
          },
          "yaxis": {
           "automargin": true,
           "gridcolor": "white",
           "linecolor": "white",
           "ticks": "",
           "title": {
            "standoff": 15
           },
           "zerolinecolor": "white",
           "zerolinewidth": 2
          }
         }
        }
       }
      }
     },
     "metadata": {},
     "output_type": "display_data"
    }
   ],
   "source": [
    "fig_jan = px.treemap(gastos_10_maiores, path=[px.Constant('Governo Federal'), 'NOME ÓRGÃO SUPERIOR'], values='VALOR TRANSAÇÃO',\n",
    "                  color='NOME ÓRGÃO SUPERIOR')\n",
    "fig_jan.show()"
   ]
  }
 ],
 "metadata": {
  "kernelspec": {
   "display_name": "Python 3.8.10 64-bit",
   "language": "python",
   "name": "python3"
  },
  "language_info": {
   "codemirror_mode": {
    "name": "ipython",
    "version": 3
   },
   "file_extension": ".py",
   "mimetype": "text/x-python",
   "name": "python",
   "nbconvert_exporter": "python",
   "pygments_lexer": "ipython3",
   "version": "3.8.10"
  },
  "orig_nbformat": 4,
  "vscode": {
   "interpreter": {
    "hash": "31f2aee4e71d21fbe5cf8b01ff0e069b9275f58929596ceb00d14d90e3e16cd6"
   }
  }
 },
 "nbformat": 4,
 "nbformat_minor": 2
}
