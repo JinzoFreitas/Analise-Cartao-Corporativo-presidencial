{
 "cells": [
  {
   "cell_type": "code",
   "execution_count": 16,
   "metadata": {},
   "outputs": [],
   "source": [
    "import pandas as pd\n",
    "\n",
    "import plotly.express as px\n",
    "\n",
    "import csv\n",
    "\n",
    "import os\n",
    "\n",
    "if not os.path.exists(\"images\"):\n",
    "    os.mkdir(\"images\")\n",
    "\n",
    "if not os.path.exists(\"CPGF_2022_tables_tratadas\"):\n",
    "    os.mkdir(\"CPGF_2022_tables_tratadas\")"
   ]
  },
  {
   "cell_type": "code",
   "execution_count": 2,
   "metadata": {},
   "outputs": [
    {
     "data": {
      "text/html": [
       "<div>\n",
       "<style scoped>\n",
       "    .dataframe tbody tr th:only-of-type {\n",
       "        vertical-align: middle;\n",
       "    }\n",
       "\n",
       "    .dataframe tbody tr th {\n",
       "        vertical-align: top;\n",
       "    }\n",
       "\n",
       "    .dataframe thead th {\n",
       "        text-align: right;\n",
       "    }\n",
       "</style>\n",
       "<table border=\"1\" class=\"dataframe\">\n",
       "  <thead>\n",
       "    <tr style=\"text-align: right;\">\n",
       "      <th></th>\n",
       "      <th>CÓDIGO ÓRGÃO SUPERIOR</th>\n",
       "      <th>NOME ÓRGÃO SUPERIOR</th>\n",
       "      <th>CÓDIGO ÓRGÃO</th>\n",
       "      <th>NOME ÓRGÃO</th>\n",
       "      <th>CÓDIGO UNIDADE GESTORA</th>\n",
       "      <th>NOME UNIDADE GESTORA</th>\n",
       "      <th>ANO EXTRATO</th>\n",
       "      <th>MÊS EXTRATO</th>\n",
       "      <th>CPF PORTADOR</th>\n",
       "      <th>NOME PORTADOR</th>\n",
       "      <th>CNPJ OU CPF FAVORECIDO</th>\n",
       "      <th>NOME FAVORECIDO</th>\n",
       "      <th>TRANSAÇÃO</th>\n",
       "      <th>DATA TRANSAÇÃO</th>\n",
       "      <th>VALOR TRANSAÇÃO</th>\n",
       "    </tr>\n",
       "  </thead>\n",
       "  <tbody>\n",
       "    <tr>\n",
       "      <th>0</th>\n",
       "      <td>63000</td>\n",
       "      <td>Advocacia-Geral da União</td>\n",
       "      <td>63000</td>\n",
       "      <td>Advocacia-Geral da União - Unidades com víncul...</td>\n",
       "      <td>110096</td>\n",
       "      <td>SUPERINTENDENCIA ADMINISTRACAO EM PERNAMBUCO</td>\n",
       "      <td>2022</td>\n",
       "      <td>1</td>\n",
       "      <td>***.706.414-**</td>\n",
       "      <td>HENRIQUE SERGIO PINHEIRO DE ARAUJO</td>\n",
       "      <td>18727053000174</td>\n",
       "      <td>PAGAR.ME INSTITUICAO DE PAGAMENTO S.A</td>\n",
       "      <td>COMPRA A/V - R$ - APRES</td>\n",
       "      <td>02/12/2021</td>\n",
       "      <td>532,00</td>\n",
       "    </tr>\n",
       "    <tr>\n",
       "      <th>1</th>\n",
       "      <td>63000</td>\n",
       "      <td>Advocacia-Geral da União</td>\n",
       "      <td>63000</td>\n",
       "      <td>Advocacia-Geral da União - Unidades com víncul...</td>\n",
       "      <td>110096</td>\n",
       "      <td>SUPERINTENDENCIA ADMINISTRACAO EM PERNAMBUCO</td>\n",
       "      <td>2022</td>\n",
       "      <td>1</td>\n",
       "      <td>***.177.215-**</td>\n",
       "      <td>MARIA DAS GRACAS FERREIRA BARATA</td>\n",
       "      <td>13436092000280</td>\n",
       "      <td>ITAO SUPERMERCADOS IMPORTACOES E EXPORTACOES S/A</td>\n",
       "      <td>COMPRA A/V - R$ - APRES</td>\n",
       "      <td>07/12/2021</td>\n",
       "      <td>499,86</td>\n",
       "    </tr>\n",
       "    <tr>\n",
       "      <th>2</th>\n",
       "      <td>63000</td>\n",
       "      <td>Advocacia-Geral da União</td>\n",
       "      <td>63000</td>\n",
       "      <td>Advocacia-Geral da União - Unidades com víncul...</td>\n",
       "      <td>110096</td>\n",
       "      <td>SUPERINTENDENCIA ADMINISTRACAO EM PERNAMBUCO</td>\n",
       "      <td>2022</td>\n",
       "      <td>1</td>\n",
       "      <td>***.959.904-**</td>\n",
       "      <td>ERICK MARTINS NORAT</td>\n",
       "      <td>965241000175</td>\n",
       "      <td>JOSINETE DE VASCONCELOS CAMPELO</td>\n",
       "      <td>COMPRA A/V - R$ - APRES</td>\n",
       "      <td>07/12/2021</td>\n",
       "      <td>527,25</td>\n",
       "    </tr>\n",
       "    <tr>\n",
       "      <th>3</th>\n",
       "      <td>63000</td>\n",
       "      <td>Advocacia-Geral da União</td>\n",
       "      <td>63000</td>\n",
       "      <td>Advocacia-Geral da União - Unidades com víncul...</td>\n",
       "      <td>110096</td>\n",
       "      <td>SUPERINTENDENCIA ADMINISTRACAO EM PERNAMBUCO</td>\n",
       "      <td>2022</td>\n",
       "      <td>1</td>\n",
       "      <td>***.693.773-**</td>\n",
       "      <td>SANDRO DE BRITO CUNHA</td>\n",
       "      <td>69434637000192</td>\n",
       "      <td>TRANSPORTADORA E DISTRIBUIDORA DE BEBIDAS GUER...</td>\n",
       "      <td>COMPRA A/V - R$ - APRES</td>\n",
       "      <td>03/12/2021</td>\n",
       "      <td>504,00</td>\n",
       "    </tr>\n",
       "    <tr>\n",
       "      <th>4</th>\n",
       "      <td>63000</td>\n",
       "      <td>Advocacia-Geral da União</td>\n",
       "      <td>63000</td>\n",
       "      <td>Advocacia-Geral da União - Unidades com víncul...</td>\n",
       "      <td>110096</td>\n",
       "      <td>SUPERINTENDENCIA ADMINISTRACAO EM PERNAMBUCO</td>\n",
       "      <td>2022</td>\n",
       "      <td>1</td>\n",
       "      <td>***.706.414-**</td>\n",
       "      <td>HENRIQUE SERGIO PINHEIRO DE ARAUJO</td>\n",
       "      <td>35562471000178</td>\n",
       "      <td>ANA L C MENDES</td>\n",
       "      <td>COMPRA A/V - R$ - APRES</td>\n",
       "      <td>02/12/2021</td>\n",
       "      <td>209,00</td>\n",
       "    </tr>\n",
       "    <tr>\n",
       "      <th>...</th>\n",
       "      <td>...</td>\n",
       "      <td>...</td>\n",
       "      <td>...</td>\n",
       "      <td>...</td>\n",
       "      <td>...</td>\n",
       "      <td>...</td>\n",
       "      <td>...</td>\n",
       "      <td>...</td>\n",
       "      <td>...</td>\n",
       "      <td>...</td>\n",
       "      <td>...</td>\n",
       "      <td>...</td>\n",
       "      <td>...</td>\n",
       "      <td>...</td>\n",
       "      <td>...</td>\n",
       "    </tr>\n",
       "    <tr>\n",
       "      <th>8623</th>\n",
       "      <td>20000</td>\n",
       "      <td>Presidência da República</td>\n",
       "      <td>20101</td>\n",
       "      <td>Presidência da República</td>\n",
       "      <td>110001</td>\n",
       "      <td>SECRETARIA ESPECIAL DE ADMINISTRACAO/PR</td>\n",
       "      <td>2022</td>\n",
       "      <td>1</td>\n",
       "      <td>***.919.570-**</td>\n",
       "      <td>LUIS CARLOS MACHADO DA SILVA</td>\n",
       "      <td>1226797000102</td>\n",
       "      <td>POSTO MARINA 52 LTDA</td>\n",
       "      <td>COMPRA A/V - R$ - APRES</td>\n",
       "      <td>26/12/2021</td>\n",
       "      <td>324,22</td>\n",
       "    </tr>\n",
       "    <tr>\n",
       "      <th>8624</th>\n",
       "      <td>20000</td>\n",
       "      <td>Presidência da República</td>\n",
       "      <td>20101</td>\n",
       "      <td>Presidência da República</td>\n",
       "      <td>110001</td>\n",
       "      <td>SECRETARIA ESPECIAL DE ADMINISTRACAO/PR</td>\n",
       "      <td>2022</td>\n",
       "      <td>1</td>\n",
       "      <td>***.109.141-**</td>\n",
       "      <td>VALMIR MORAES DA SILVA</td>\n",
       "      <td>45948676000140</td>\n",
       "      <td>AUTO POSTO NOVA PETROPOLIS LTDA</td>\n",
       "      <td>COMPRA A/V - R$ - APRES</td>\n",
       "      <td>03/12/2021</td>\n",
       "      <td>222,45</td>\n",
       "    </tr>\n",
       "    <tr>\n",
       "      <th>8625</th>\n",
       "      <td>20000</td>\n",
       "      <td>Presidência da República</td>\n",
       "      <td>20101</td>\n",
       "      <td>Presidência da República</td>\n",
       "      <td>110001</td>\n",
       "      <td>SECRETARIA ESPECIAL DE ADMINISTRACAO/PR</td>\n",
       "      <td>2022</td>\n",
       "      <td>1</td>\n",
       "      <td>***.109.141-**</td>\n",
       "      <td>VALMIR MORAES DA SILVA</td>\n",
       "      <td>45948676000140</td>\n",
       "      <td>AUTO POSTO NOVA PETROPOLIS LTDA</td>\n",
       "      <td>COMPRA A/V - R$ - APRES</td>\n",
       "      <td>03/12/2021</td>\n",
       "      <td>315,13</td>\n",
       "    </tr>\n",
       "    <tr>\n",
       "      <th>8626</th>\n",
       "      <td>20000</td>\n",
       "      <td>Presidência da República</td>\n",
       "      <td>20101</td>\n",
       "      <td>Presidência da República</td>\n",
       "      <td>110001</td>\n",
       "      <td>SECRETARIA ESPECIAL DE ADMINISTRACAO/PR</td>\n",
       "      <td>2022</td>\n",
       "      <td>1</td>\n",
       "      <td>***.919.570-**</td>\n",
       "      <td>LUIS CARLOS MACHADO DA SILVA</td>\n",
       "      <td>5834063000167</td>\n",
       "      <td>POSTO BOGO LTDA</td>\n",
       "      <td>COMPRA A/V - R$ - APRES</td>\n",
       "      <td>25/12/2021</td>\n",
       "      <td>297,46</td>\n",
       "    </tr>\n",
       "    <tr>\n",
       "      <th>8627</th>\n",
       "      <td>20000</td>\n",
       "      <td>Presidência da República</td>\n",
       "      <td>20101</td>\n",
       "      <td>Presidência da República</td>\n",
       "      <td>110001</td>\n",
       "      <td>SECRETARIA ESPECIAL DE ADMINISTRACAO/PR</td>\n",
       "      <td>2022</td>\n",
       "      <td>1</td>\n",
       "      <td>***.919.570-**</td>\n",
       "      <td>LUIS CARLOS MACHADO DA SILVA</td>\n",
       "      <td>48675623000190</td>\n",
       "      <td>MORADA DO SOL AUTO POSTO LTDA</td>\n",
       "      <td>COMPRA A/V - R$ - APRES</td>\n",
       "      <td>25/12/2021</td>\n",
       "      <td>184,25</td>\n",
       "    </tr>\n",
       "  </tbody>\n",
       "</table>\n",
       "<p>8628 rows × 15 columns</p>\n",
       "</div>"
      ],
      "text/plain": [
       "      CÓDIGO ÓRGÃO SUPERIOR       NOME ÓRGÃO SUPERIOR  CÓDIGO ÓRGÃO  \\\n",
       "0                     63000  Advocacia-Geral da União         63000   \n",
       "1                     63000  Advocacia-Geral da União         63000   \n",
       "2                     63000  Advocacia-Geral da União         63000   \n",
       "3                     63000  Advocacia-Geral da União         63000   \n",
       "4                     63000  Advocacia-Geral da União         63000   \n",
       "...                     ...                       ...           ...   \n",
       "8623                  20000  Presidência da República         20101   \n",
       "8624                  20000  Presidência da República         20101   \n",
       "8625                  20000  Presidência da República         20101   \n",
       "8626                  20000  Presidência da República         20101   \n",
       "8627                  20000  Presidência da República         20101   \n",
       "\n",
       "                                             NOME ÓRGÃO  \\\n",
       "0     Advocacia-Geral da União - Unidades com víncul...   \n",
       "1     Advocacia-Geral da União - Unidades com víncul...   \n",
       "2     Advocacia-Geral da União - Unidades com víncul...   \n",
       "3     Advocacia-Geral da União - Unidades com víncul...   \n",
       "4     Advocacia-Geral da União - Unidades com víncul...   \n",
       "...                                                 ...   \n",
       "8623                           Presidência da República   \n",
       "8624                           Presidência da República   \n",
       "8625                           Presidência da República   \n",
       "8626                           Presidência da República   \n",
       "8627                           Presidência da República   \n",
       "\n",
       "      CÓDIGO UNIDADE GESTORA                          NOME UNIDADE GESTORA  \\\n",
       "0                     110096  SUPERINTENDENCIA ADMINISTRACAO EM PERNAMBUCO   \n",
       "1                     110096  SUPERINTENDENCIA ADMINISTRACAO EM PERNAMBUCO   \n",
       "2                     110096  SUPERINTENDENCIA ADMINISTRACAO EM PERNAMBUCO   \n",
       "3                     110096  SUPERINTENDENCIA ADMINISTRACAO EM PERNAMBUCO   \n",
       "4                     110096  SUPERINTENDENCIA ADMINISTRACAO EM PERNAMBUCO   \n",
       "...                      ...                                           ...   \n",
       "8623                  110001       SECRETARIA ESPECIAL DE ADMINISTRACAO/PR   \n",
       "8624                  110001       SECRETARIA ESPECIAL DE ADMINISTRACAO/PR   \n",
       "8625                  110001       SECRETARIA ESPECIAL DE ADMINISTRACAO/PR   \n",
       "8626                  110001       SECRETARIA ESPECIAL DE ADMINISTRACAO/PR   \n",
       "8627                  110001       SECRETARIA ESPECIAL DE ADMINISTRACAO/PR   \n",
       "\n",
       "      ANO EXTRATO  MÊS EXTRATO    CPF PORTADOR  \\\n",
       "0            2022            1  ***.706.414-**   \n",
       "1            2022            1  ***.177.215-**   \n",
       "2            2022            1  ***.959.904-**   \n",
       "3            2022            1  ***.693.773-**   \n",
       "4            2022            1  ***.706.414-**   \n",
       "...           ...          ...             ...   \n",
       "8623         2022            1  ***.919.570-**   \n",
       "8624         2022            1  ***.109.141-**   \n",
       "8625         2022            1  ***.109.141-**   \n",
       "8626         2022            1  ***.919.570-**   \n",
       "8627         2022            1  ***.919.570-**   \n",
       "\n",
       "                           NOME PORTADOR  CNPJ OU CPF FAVORECIDO  \\\n",
       "0     HENRIQUE SERGIO PINHEIRO DE ARAUJO          18727053000174   \n",
       "1       MARIA DAS GRACAS FERREIRA BARATA          13436092000280   \n",
       "2                    ERICK MARTINS NORAT            965241000175   \n",
       "3                  SANDRO DE BRITO CUNHA          69434637000192   \n",
       "4     HENRIQUE SERGIO PINHEIRO DE ARAUJO          35562471000178   \n",
       "...                                  ...                     ...   \n",
       "8623        LUIS CARLOS MACHADO DA SILVA           1226797000102   \n",
       "8624              VALMIR MORAES DA SILVA          45948676000140   \n",
       "8625              VALMIR MORAES DA SILVA          45948676000140   \n",
       "8626        LUIS CARLOS MACHADO DA SILVA           5834063000167   \n",
       "8627        LUIS CARLOS MACHADO DA SILVA          48675623000190   \n",
       "\n",
       "                                        NOME FAVORECIDO  \\\n",
       "0                 PAGAR.ME INSTITUICAO DE PAGAMENTO S.A   \n",
       "1      ITAO SUPERMERCADOS IMPORTACOES E EXPORTACOES S/A   \n",
       "2                       JOSINETE DE VASCONCELOS CAMPELO   \n",
       "3     TRANSPORTADORA E DISTRIBUIDORA DE BEBIDAS GUER...   \n",
       "4                                        ANA L C MENDES   \n",
       "...                                                 ...   \n",
       "8623                               POSTO MARINA 52 LTDA   \n",
       "8624                    AUTO POSTO NOVA PETROPOLIS LTDA   \n",
       "8625                    AUTO POSTO NOVA PETROPOLIS LTDA   \n",
       "8626                                    POSTO BOGO LTDA   \n",
       "8627                      MORADA DO SOL AUTO POSTO LTDA   \n",
       "\n",
       "                    TRANSAÇÃO DATA TRANSAÇÃO VALOR TRANSAÇÃO  \n",
       "0     COMPRA A/V - R$ - APRES     02/12/2021          532,00  \n",
       "1     COMPRA A/V - R$ - APRES     07/12/2021          499,86  \n",
       "2     COMPRA A/V - R$ - APRES     07/12/2021          527,25  \n",
       "3     COMPRA A/V - R$ - APRES     03/12/2021          504,00  \n",
       "4     COMPRA A/V - R$ - APRES     02/12/2021          209,00  \n",
       "...                       ...            ...             ...  \n",
       "8623  COMPRA A/V - R$ - APRES     26/12/2021          324,22  \n",
       "8624  COMPRA A/V - R$ - APRES     03/12/2021          222,45  \n",
       "8625  COMPRA A/V - R$ - APRES     03/12/2021          315,13  \n",
       "8626  COMPRA A/V - R$ - APRES     25/12/2021          297,46  \n",
       "8627  COMPRA A/V - R$ - APRES     25/12/2021          184,25  \n",
       "\n",
       "[8628 rows x 15 columns]"
      ]
     },
     "execution_count": 2,
     "metadata": {},
     "output_type": "execute_result"
    }
   ],
   "source": [
    "gastos_jan = pd.read_csv('cartao_pagamento_2022_orgaos/202201_CPGF.csv', encoding='latin1', delimiter=';')\n",
    "gastos_jan"
   ]
  },
  {
   "cell_type": "code",
   "execution_count": 3,
   "metadata": {},
   "outputs": [
    {
     "name": "stderr",
     "output_type": "stream",
     "text": [
      "/tmp/ipykernel_23205/3368951345.py:1: FutureWarning: In a future version, `df.iloc[:, i] = newvals` will attempt to set the values inplace instead of always setting a new array. To retain the old behavior, use either `df[df.columns[i]] = newvals` or, if columns are non-unique, `df.isetitem(i, newvals)`\n",
      "  gastos_jan.loc[:, 'VALOR TRANSAÇÃO'] = pd.to_numeric(gastos_jan['VALOR TRANSAÇÃO'].str.replace(\",\", '.'), errors='coerce')\n"
     ]
    },
    {
     "data": {
      "text/html": [
       "<div>\n",
       "<style scoped>\n",
       "    .dataframe tbody tr th:only-of-type {\n",
       "        vertical-align: middle;\n",
       "    }\n",
       "\n",
       "    .dataframe tbody tr th {\n",
       "        vertical-align: top;\n",
       "    }\n",
       "\n",
       "    .dataframe thead th {\n",
       "        text-align: right;\n",
       "    }\n",
       "</style>\n",
       "<table border=\"1\" class=\"dataframe\">\n",
       "  <thead>\n",
       "    <tr style=\"text-align: right;\">\n",
       "      <th></th>\n",
       "      <th>CÓDIGO ÓRGÃO SUPERIOR</th>\n",
       "      <th>NOME ÓRGÃO SUPERIOR</th>\n",
       "      <th>CÓDIGO ÓRGÃO</th>\n",
       "      <th>NOME ÓRGÃO</th>\n",
       "      <th>CÓDIGO UNIDADE GESTORA</th>\n",
       "      <th>NOME UNIDADE GESTORA</th>\n",
       "      <th>ANO EXTRATO</th>\n",
       "      <th>MÊS EXTRATO</th>\n",
       "      <th>CPF PORTADOR</th>\n",
       "      <th>NOME PORTADOR</th>\n",
       "      <th>CNPJ OU CPF FAVORECIDO</th>\n",
       "      <th>NOME FAVORECIDO</th>\n",
       "      <th>TRANSAÇÃO</th>\n",
       "      <th>DATA TRANSAÇÃO</th>\n",
       "      <th>VALOR TRANSAÇÃO</th>\n",
       "    </tr>\n",
       "  </thead>\n",
       "  <tbody>\n",
       "    <tr>\n",
       "      <th>0</th>\n",
       "      <td>63000</td>\n",
       "      <td>Advocacia-Geral da União</td>\n",
       "      <td>63000</td>\n",
       "      <td>Advocacia-Geral da União - Unidades com víncul...</td>\n",
       "      <td>110096</td>\n",
       "      <td>SUPERINTENDENCIA ADMINISTRACAO EM PERNAMBUCO</td>\n",
       "      <td>2022</td>\n",
       "      <td>1</td>\n",
       "      <td>***.706.414-**</td>\n",
       "      <td>HENRIQUE SERGIO PINHEIRO DE ARAUJO</td>\n",
       "      <td>18727053000174</td>\n",
       "      <td>PAGAR.ME INSTITUICAO DE PAGAMENTO S.A</td>\n",
       "      <td>COMPRA A/V - R$ - APRES</td>\n",
       "      <td>02/12/2021</td>\n",
       "      <td>532.00</td>\n",
       "    </tr>\n",
       "    <tr>\n",
       "      <th>1</th>\n",
       "      <td>63000</td>\n",
       "      <td>Advocacia-Geral da União</td>\n",
       "      <td>63000</td>\n",
       "      <td>Advocacia-Geral da União - Unidades com víncul...</td>\n",
       "      <td>110096</td>\n",
       "      <td>SUPERINTENDENCIA ADMINISTRACAO EM PERNAMBUCO</td>\n",
       "      <td>2022</td>\n",
       "      <td>1</td>\n",
       "      <td>***.177.215-**</td>\n",
       "      <td>MARIA DAS GRACAS FERREIRA BARATA</td>\n",
       "      <td>13436092000280</td>\n",
       "      <td>ITAO SUPERMERCADOS IMPORTACOES E EXPORTACOES S/A</td>\n",
       "      <td>COMPRA A/V - R$ - APRES</td>\n",
       "      <td>07/12/2021</td>\n",
       "      <td>499.86</td>\n",
       "    </tr>\n",
       "    <tr>\n",
       "      <th>2</th>\n",
       "      <td>63000</td>\n",
       "      <td>Advocacia-Geral da União</td>\n",
       "      <td>63000</td>\n",
       "      <td>Advocacia-Geral da União - Unidades com víncul...</td>\n",
       "      <td>110096</td>\n",
       "      <td>SUPERINTENDENCIA ADMINISTRACAO EM PERNAMBUCO</td>\n",
       "      <td>2022</td>\n",
       "      <td>1</td>\n",
       "      <td>***.959.904-**</td>\n",
       "      <td>ERICK MARTINS NORAT</td>\n",
       "      <td>965241000175</td>\n",
       "      <td>JOSINETE DE VASCONCELOS CAMPELO</td>\n",
       "      <td>COMPRA A/V - R$ - APRES</td>\n",
       "      <td>07/12/2021</td>\n",
       "      <td>527.25</td>\n",
       "    </tr>\n",
       "    <tr>\n",
       "      <th>3</th>\n",
       "      <td>63000</td>\n",
       "      <td>Advocacia-Geral da União</td>\n",
       "      <td>63000</td>\n",
       "      <td>Advocacia-Geral da União - Unidades com víncul...</td>\n",
       "      <td>110096</td>\n",
       "      <td>SUPERINTENDENCIA ADMINISTRACAO EM PERNAMBUCO</td>\n",
       "      <td>2022</td>\n",
       "      <td>1</td>\n",
       "      <td>***.693.773-**</td>\n",
       "      <td>SANDRO DE BRITO CUNHA</td>\n",
       "      <td>69434637000192</td>\n",
       "      <td>TRANSPORTADORA E DISTRIBUIDORA DE BEBIDAS GUER...</td>\n",
       "      <td>COMPRA A/V - R$ - APRES</td>\n",
       "      <td>03/12/2021</td>\n",
       "      <td>504.00</td>\n",
       "    </tr>\n",
       "    <tr>\n",
       "      <th>4</th>\n",
       "      <td>63000</td>\n",
       "      <td>Advocacia-Geral da União</td>\n",
       "      <td>63000</td>\n",
       "      <td>Advocacia-Geral da União - Unidades com víncul...</td>\n",
       "      <td>110096</td>\n",
       "      <td>SUPERINTENDENCIA ADMINISTRACAO EM PERNAMBUCO</td>\n",
       "      <td>2022</td>\n",
       "      <td>1</td>\n",
       "      <td>***.706.414-**</td>\n",
       "      <td>HENRIQUE SERGIO PINHEIRO DE ARAUJO</td>\n",
       "      <td>35562471000178</td>\n",
       "      <td>ANA L C MENDES</td>\n",
       "      <td>COMPRA A/V - R$ - APRES</td>\n",
       "      <td>02/12/2021</td>\n",
       "      <td>209.00</td>\n",
       "    </tr>\n",
       "    <tr>\n",
       "      <th>...</th>\n",
       "      <td>...</td>\n",
       "      <td>...</td>\n",
       "      <td>...</td>\n",
       "      <td>...</td>\n",
       "      <td>...</td>\n",
       "      <td>...</td>\n",
       "      <td>...</td>\n",
       "      <td>...</td>\n",
       "      <td>...</td>\n",
       "      <td>...</td>\n",
       "      <td>...</td>\n",
       "      <td>...</td>\n",
       "      <td>...</td>\n",
       "      <td>...</td>\n",
       "      <td>...</td>\n",
       "    </tr>\n",
       "    <tr>\n",
       "      <th>8623</th>\n",
       "      <td>20000</td>\n",
       "      <td>Presidência da República</td>\n",
       "      <td>20101</td>\n",
       "      <td>Presidência da República</td>\n",
       "      <td>110001</td>\n",
       "      <td>SECRETARIA ESPECIAL DE ADMINISTRACAO/PR</td>\n",
       "      <td>2022</td>\n",
       "      <td>1</td>\n",
       "      <td>***.919.570-**</td>\n",
       "      <td>LUIS CARLOS MACHADO DA SILVA</td>\n",
       "      <td>1226797000102</td>\n",
       "      <td>POSTO MARINA 52 LTDA</td>\n",
       "      <td>COMPRA A/V - R$ - APRES</td>\n",
       "      <td>26/12/2021</td>\n",
       "      <td>324.22</td>\n",
       "    </tr>\n",
       "    <tr>\n",
       "      <th>8624</th>\n",
       "      <td>20000</td>\n",
       "      <td>Presidência da República</td>\n",
       "      <td>20101</td>\n",
       "      <td>Presidência da República</td>\n",
       "      <td>110001</td>\n",
       "      <td>SECRETARIA ESPECIAL DE ADMINISTRACAO/PR</td>\n",
       "      <td>2022</td>\n",
       "      <td>1</td>\n",
       "      <td>***.109.141-**</td>\n",
       "      <td>VALMIR MORAES DA SILVA</td>\n",
       "      <td>45948676000140</td>\n",
       "      <td>AUTO POSTO NOVA PETROPOLIS LTDA</td>\n",
       "      <td>COMPRA A/V - R$ - APRES</td>\n",
       "      <td>03/12/2021</td>\n",
       "      <td>222.45</td>\n",
       "    </tr>\n",
       "    <tr>\n",
       "      <th>8625</th>\n",
       "      <td>20000</td>\n",
       "      <td>Presidência da República</td>\n",
       "      <td>20101</td>\n",
       "      <td>Presidência da República</td>\n",
       "      <td>110001</td>\n",
       "      <td>SECRETARIA ESPECIAL DE ADMINISTRACAO/PR</td>\n",
       "      <td>2022</td>\n",
       "      <td>1</td>\n",
       "      <td>***.109.141-**</td>\n",
       "      <td>VALMIR MORAES DA SILVA</td>\n",
       "      <td>45948676000140</td>\n",
       "      <td>AUTO POSTO NOVA PETROPOLIS LTDA</td>\n",
       "      <td>COMPRA A/V - R$ - APRES</td>\n",
       "      <td>03/12/2021</td>\n",
       "      <td>315.13</td>\n",
       "    </tr>\n",
       "    <tr>\n",
       "      <th>8626</th>\n",
       "      <td>20000</td>\n",
       "      <td>Presidência da República</td>\n",
       "      <td>20101</td>\n",
       "      <td>Presidência da República</td>\n",
       "      <td>110001</td>\n",
       "      <td>SECRETARIA ESPECIAL DE ADMINISTRACAO/PR</td>\n",
       "      <td>2022</td>\n",
       "      <td>1</td>\n",
       "      <td>***.919.570-**</td>\n",
       "      <td>LUIS CARLOS MACHADO DA SILVA</td>\n",
       "      <td>5834063000167</td>\n",
       "      <td>POSTO BOGO LTDA</td>\n",
       "      <td>COMPRA A/V - R$ - APRES</td>\n",
       "      <td>25/12/2021</td>\n",
       "      <td>297.46</td>\n",
       "    </tr>\n",
       "    <tr>\n",
       "      <th>8627</th>\n",
       "      <td>20000</td>\n",
       "      <td>Presidência da República</td>\n",
       "      <td>20101</td>\n",
       "      <td>Presidência da República</td>\n",
       "      <td>110001</td>\n",
       "      <td>SECRETARIA ESPECIAL DE ADMINISTRACAO/PR</td>\n",
       "      <td>2022</td>\n",
       "      <td>1</td>\n",
       "      <td>***.919.570-**</td>\n",
       "      <td>LUIS CARLOS MACHADO DA SILVA</td>\n",
       "      <td>48675623000190</td>\n",
       "      <td>MORADA DO SOL AUTO POSTO LTDA</td>\n",
       "      <td>COMPRA A/V - R$ - APRES</td>\n",
       "      <td>25/12/2021</td>\n",
       "      <td>184.25</td>\n",
       "    </tr>\n",
       "  </tbody>\n",
       "</table>\n",
       "<p>8628 rows × 15 columns</p>\n",
       "</div>"
      ],
      "text/plain": [
       "      CÓDIGO ÓRGÃO SUPERIOR       NOME ÓRGÃO SUPERIOR  CÓDIGO ÓRGÃO  \\\n",
       "0                     63000  Advocacia-Geral da União         63000   \n",
       "1                     63000  Advocacia-Geral da União         63000   \n",
       "2                     63000  Advocacia-Geral da União         63000   \n",
       "3                     63000  Advocacia-Geral da União         63000   \n",
       "4                     63000  Advocacia-Geral da União         63000   \n",
       "...                     ...                       ...           ...   \n",
       "8623                  20000  Presidência da República         20101   \n",
       "8624                  20000  Presidência da República         20101   \n",
       "8625                  20000  Presidência da República         20101   \n",
       "8626                  20000  Presidência da República         20101   \n",
       "8627                  20000  Presidência da República         20101   \n",
       "\n",
       "                                             NOME ÓRGÃO  \\\n",
       "0     Advocacia-Geral da União - Unidades com víncul...   \n",
       "1     Advocacia-Geral da União - Unidades com víncul...   \n",
       "2     Advocacia-Geral da União - Unidades com víncul...   \n",
       "3     Advocacia-Geral da União - Unidades com víncul...   \n",
       "4     Advocacia-Geral da União - Unidades com víncul...   \n",
       "...                                                 ...   \n",
       "8623                           Presidência da República   \n",
       "8624                           Presidência da República   \n",
       "8625                           Presidência da República   \n",
       "8626                           Presidência da República   \n",
       "8627                           Presidência da República   \n",
       "\n",
       "      CÓDIGO UNIDADE GESTORA                          NOME UNIDADE GESTORA  \\\n",
       "0                     110096  SUPERINTENDENCIA ADMINISTRACAO EM PERNAMBUCO   \n",
       "1                     110096  SUPERINTENDENCIA ADMINISTRACAO EM PERNAMBUCO   \n",
       "2                     110096  SUPERINTENDENCIA ADMINISTRACAO EM PERNAMBUCO   \n",
       "3                     110096  SUPERINTENDENCIA ADMINISTRACAO EM PERNAMBUCO   \n",
       "4                     110096  SUPERINTENDENCIA ADMINISTRACAO EM PERNAMBUCO   \n",
       "...                      ...                                           ...   \n",
       "8623                  110001       SECRETARIA ESPECIAL DE ADMINISTRACAO/PR   \n",
       "8624                  110001       SECRETARIA ESPECIAL DE ADMINISTRACAO/PR   \n",
       "8625                  110001       SECRETARIA ESPECIAL DE ADMINISTRACAO/PR   \n",
       "8626                  110001       SECRETARIA ESPECIAL DE ADMINISTRACAO/PR   \n",
       "8627                  110001       SECRETARIA ESPECIAL DE ADMINISTRACAO/PR   \n",
       "\n",
       "      ANO EXTRATO  MÊS EXTRATO    CPF PORTADOR  \\\n",
       "0            2022            1  ***.706.414-**   \n",
       "1            2022            1  ***.177.215-**   \n",
       "2            2022            1  ***.959.904-**   \n",
       "3            2022            1  ***.693.773-**   \n",
       "4            2022            1  ***.706.414-**   \n",
       "...           ...          ...             ...   \n",
       "8623         2022            1  ***.919.570-**   \n",
       "8624         2022            1  ***.109.141-**   \n",
       "8625         2022            1  ***.109.141-**   \n",
       "8626         2022            1  ***.919.570-**   \n",
       "8627         2022            1  ***.919.570-**   \n",
       "\n",
       "                           NOME PORTADOR  CNPJ OU CPF FAVORECIDO  \\\n",
       "0     HENRIQUE SERGIO PINHEIRO DE ARAUJO          18727053000174   \n",
       "1       MARIA DAS GRACAS FERREIRA BARATA          13436092000280   \n",
       "2                    ERICK MARTINS NORAT            965241000175   \n",
       "3                  SANDRO DE BRITO CUNHA          69434637000192   \n",
       "4     HENRIQUE SERGIO PINHEIRO DE ARAUJO          35562471000178   \n",
       "...                                  ...                     ...   \n",
       "8623        LUIS CARLOS MACHADO DA SILVA           1226797000102   \n",
       "8624              VALMIR MORAES DA SILVA          45948676000140   \n",
       "8625              VALMIR MORAES DA SILVA          45948676000140   \n",
       "8626        LUIS CARLOS MACHADO DA SILVA           5834063000167   \n",
       "8627        LUIS CARLOS MACHADO DA SILVA          48675623000190   \n",
       "\n",
       "                                        NOME FAVORECIDO  \\\n",
       "0                 PAGAR.ME INSTITUICAO DE PAGAMENTO S.A   \n",
       "1      ITAO SUPERMERCADOS IMPORTACOES E EXPORTACOES S/A   \n",
       "2                       JOSINETE DE VASCONCELOS CAMPELO   \n",
       "3     TRANSPORTADORA E DISTRIBUIDORA DE BEBIDAS GUER...   \n",
       "4                                        ANA L C MENDES   \n",
       "...                                                 ...   \n",
       "8623                               POSTO MARINA 52 LTDA   \n",
       "8624                    AUTO POSTO NOVA PETROPOLIS LTDA   \n",
       "8625                    AUTO POSTO NOVA PETROPOLIS LTDA   \n",
       "8626                                    POSTO BOGO LTDA   \n",
       "8627                      MORADA DO SOL AUTO POSTO LTDA   \n",
       "\n",
       "                    TRANSAÇÃO DATA TRANSAÇÃO  VALOR TRANSAÇÃO  \n",
       "0     COMPRA A/V - R$ - APRES     02/12/2021           532.00  \n",
       "1     COMPRA A/V - R$ - APRES     07/12/2021           499.86  \n",
       "2     COMPRA A/V - R$ - APRES     07/12/2021           527.25  \n",
       "3     COMPRA A/V - R$ - APRES     03/12/2021           504.00  \n",
       "4     COMPRA A/V - R$ - APRES     02/12/2021           209.00  \n",
       "...                       ...            ...              ...  \n",
       "8623  COMPRA A/V - R$ - APRES     26/12/2021           324.22  \n",
       "8624  COMPRA A/V - R$ - APRES     03/12/2021           222.45  \n",
       "8625  COMPRA A/V - R$ - APRES     03/12/2021           315.13  \n",
       "8626  COMPRA A/V - R$ - APRES     25/12/2021           297.46  \n",
       "8627  COMPRA A/V - R$ - APRES     25/12/2021           184.25  \n",
       "\n",
       "[8628 rows x 15 columns]"
      ]
     },
     "execution_count": 3,
     "metadata": {},
     "output_type": "execute_result"
    }
   ],
   "source": [
    "gastos_jan.loc[:, 'VALOR TRANSAÇÃO'] = pd.to_numeric(gastos_jan['VALOR TRANSAÇÃO'].str.replace(\",\", '.'), errors='coerce')\n",
    "gastos_jan"
   ]
  },
  {
   "cell_type": "code",
   "execution_count": 20,
   "metadata": {},
   "outputs": [
    {
     "data": {
      "text/html": [
       "<div>\n",
       "<style scoped>\n",
       "    .dataframe tbody tr th:only-of-type {\n",
       "        vertical-align: middle;\n",
       "    }\n",
       "\n",
       "    .dataframe tbody tr th {\n",
       "        vertical-align: top;\n",
       "    }\n",
       "\n",
       "    .dataframe thead th {\n",
       "        text-align: right;\n",
       "    }\n",
       "</style>\n",
       "<table border=\"1\" class=\"dataframe\">\n",
       "  <thead>\n",
       "    <tr style=\"text-align: right;\">\n",
       "      <th></th>\n",
       "      <th>index</th>\n",
       "      <th>NOME ÓRGÃO SUPERIOR</th>\n",
       "      <th>VALOR TRANSAÇÃO</th>\n",
       "    </tr>\n",
       "  </thead>\n",
       "  <tbody>\n",
       "    <tr>\n",
       "      <th>0</th>\n",
       "      <td>20</td>\n",
       "      <td>Presidência da República</td>\n",
       "      <td>2004150.51</td>\n",
       "    </tr>\n",
       "    <tr>\n",
       "      <th>1</th>\n",
       "      <td>9</td>\n",
       "      <td>Ministério da Justiça e Segurança Pública</td>\n",
       "      <td>1269188.17</td>\n",
       "    </tr>\n",
       "    <tr>\n",
       "      <th>2</th>\n",
       "      <td>6</td>\n",
       "      <td>Ministério da Economia</td>\n",
       "      <td>900885.74</td>\n",
       "    </tr>\n",
       "    <tr>\n",
       "      <th>3</th>\n",
       "      <td>7</td>\n",
       "      <td>Ministério da Educação</td>\n",
       "      <td>458152.23</td>\n",
       "    </tr>\n",
       "    <tr>\n",
       "      <th>4</th>\n",
       "      <td>3</td>\n",
       "      <td>Ministério da Agricultura, Pecuária e Abastec</td>\n",
       "      <td>407282.86</td>\n",
       "    </tr>\n",
       "    <tr>\n",
       "      <th>5</th>\n",
       "      <td>5</td>\n",
       "      <td>Ministério da Defesa</td>\n",
       "      <td>378740.95</td>\n",
       "    </tr>\n",
       "    <tr>\n",
       "      <th>6</th>\n",
       "      <td>16</td>\n",
       "      <td>Ministério do Meio Ambiente</td>\n",
       "      <td>255454.78</td>\n",
       "    </tr>\n",
       "    <tr>\n",
       "      <th>7</th>\n",
       "      <td>11</td>\n",
       "      <td>Ministério da Saúde</td>\n",
       "      <td>140872.62</td>\n",
       "    </tr>\n",
       "    <tr>\n",
       "      <th>8</th>\n",
       "      <td>15</td>\n",
       "      <td>Ministério do Desenvolvimento Regional</td>\n",
       "      <td>78503.23</td>\n",
       "    </tr>\n",
       "    <tr>\n",
       "      <th>9</th>\n",
       "      <td>17</td>\n",
       "      <td>Ministério do Trabalho</td>\n",
       "      <td>75589.72</td>\n",
       "    </tr>\n",
       "    <tr>\n",
       "      <th>10</th>\n",
       "      <td>14</td>\n",
       "      <td>Ministério de Minas e Energia</td>\n",
       "      <td>66644.65</td>\n",
       "    </tr>\n",
       "    <tr>\n",
       "      <th>11</th>\n",
       "      <td>4</td>\n",
       "      <td>Ministério da Ciência, Tecnologia, Inovações</td>\n",
       "      <td>51821.98</td>\n",
       "    </tr>\n",
       "    <tr>\n",
       "      <th>12</th>\n",
       "      <td>1</td>\n",
       "      <td>Banco Central do Brasil - Orçamento Fiscal e</td>\n",
       "      <td>23201.85</td>\n",
       "    </tr>\n",
       "    <tr>\n",
       "      <th>13</th>\n",
       "      <td>0</td>\n",
       "      <td>Advocacia-Geral da União</td>\n",
       "      <td>20717.01</td>\n",
       "    </tr>\n",
       "    <tr>\n",
       "      <th>14</th>\n",
       "      <td>18</td>\n",
       "      <td>Ministério do Trabalho e Emprego</td>\n",
       "      <td>11693.64</td>\n",
       "    </tr>\n",
       "    <tr>\n",
       "      <th>15</th>\n",
       "      <td>12</td>\n",
       "      <td>Ministério das Comunicações</td>\n",
       "      <td>10403.20</td>\n",
       "    </tr>\n",
       "    <tr>\n",
       "      <th>16</th>\n",
       "      <td>8</td>\n",
       "      <td>Ministério da Infraestrutura</td>\n",
       "      <td>8369.62</td>\n",
       "    </tr>\n",
       "    <tr>\n",
       "      <th>17</th>\n",
       "      <td>19</td>\n",
       "      <td>Ministério do Turismo</td>\n",
       "      <td>8269.24</td>\n",
       "    </tr>\n",
       "    <tr>\n",
       "      <th>18</th>\n",
       "      <td>2</td>\n",
       "      <td>Controladoria-Geral da União</td>\n",
       "      <td>2733.00</td>\n",
       "    </tr>\n",
       "    <tr>\n",
       "      <th>19</th>\n",
       "      <td>13</td>\n",
       "      <td>Ministério das Relações Exteriores</td>\n",
       "      <td>2484.83</td>\n",
       "    </tr>\n",
       "    <tr>\n",
       "      <th>20</th>\n",
       "      <td>10</td>\n",
       "      <td>Ministério da Mulher, Família e Direitos Huma</td>\n",
       "      <td>360.00</td>\n",
       "    </tr>\n",
       "  </tbody>\n",
       "</table>\n",
       "</div>"
      ],
      "text/plain": [
       "    index                            NOME ÓRGÃO SUPERIOR  VALOR TRANSAÇÃO\n",
       "0      20                       Presidência da República       2004150.51\n",
       "1       9      Ministério da Justiça e Segurança Pública       1269188.17\n",
       "2       6                         Ministério da Economia        900885.74\n",
       "3       7                         Ministério da Educação        458152.23\n",
       "4       3  Ministério da Agricultura, Pecuária e Abastec        407282.86\n",
       "5       5                           Ministério da Defesa        378740.95\n",
       "6      16                    Ministério do Meio Ambiente        255454.78\n",
       "7      11                            Ministério da Saúde        140872.62\n",
       "8      15         Ministério do Desenvolvimento Regional         78503.23\n",
       "9      17                         Ministério do Trabalho         75589.72\n",
       "10     14                  Ministério de Minas e Energia         66644.65\n",
       "11      4  Ministério da Ciência, Tecnologia, Inovações          51821.98\n",
       "12      1  Banco Central do Brasil - Orçamento Fiscal e          23201.85\n",
       "13      0                       Advocacia-Geral da União         20717.01\n",
       "14     18               Ministério do Trabalho e Emprego         11693.64\n",
       "15     12                    Ministério das Comunicações         10403.20\n",
       "16      8                   Ministério da Infraestrutura          8369.62\n",
       "17     19                          Ministério do Turismo          8269.24\n",
       "18      2                   Controladoria-Geral da União          2733.00\n",
       "19     13             Ministério das Relações Exteriores          2484.83\n",
       "20     10  Ministério da Mulher, Família e Direitos Huma           360.00"
      ]
     },
     "execution_count": 20,
     "metadata": {},
     "output_type": "execute_result"
    }
   ],
   "source": [
    "gastos_por_orgao_jan = gastos_jan.groupby('NOME ÓRGÃO SUPERIOR').agg({'VALOR TRANSAÇÃO': sum}).reset_index()\n",
    "gastos_por_orgao_jan = gastos_por_orgao_jan.sort_values('VALOR TRANSAÇÃO', ascending=False).reset_index()\n",
    "\n",
    "df = pd.DataFrame(gastos_por_orgao_jan)\n",
    "df.to_csv(sep=',', index=False, header=True, path_or_buf='CPGF_2022_tables_tratadas/jan_2022.csv')\n",
    "\n",
    "gastos_por_orgao_jan"
   ]
  },
  {
   "cell_type": "code",
   "execution_count": 13,
   "metadata": {},
   "outputs": [
    {
     "data": {
      "text/html": [
       "<div>\n",
       "<style scoped>\n",
       "    .dataframe tbody tr th:only-of-type {\n",
       "        vertical-align: middle;\n",
       "    }\n",
       "\n",
       "    .dataframe tbody tr th {\n",
       "        vertical-align: top;\n",
       "    }\n",
       "\n",
       "    .dataframe thead th {\n",
       "        text-align: right;\n",
       "    }\n",
       "</style>\n",
       "<table border=\"1\" class=\"dataframe\">\n",
       "  <thead>\n",
       "    <tr style=\"text-align: right;\">\n",
       "      <th></th>\n",
       "      <th>index</th>\n",
       "      <th>NOME ÓRGÃO SUPERIOR</th>\n",
       "      <th>VALOR TRANSAÇÃO</th>\n",
       "    </tr>\n",
       "  </thead>\n",
       "  <tbody>\n",
       "    <tr>\n",
       "      <th>0</th>\n",
       "      <td>20</td>\n",
       "      <td>Presidência da República</td>\n",
       "      <td>2004150.51</td>\n",
       "    </tr>\n",
       "    <tr>\n",
       "      <th>1</th>\n",
       "      <td>9</td>\n",
       "      <td>Ministério da Justiça e Segurança Pública</td>\n",
       "      <td>1269188.17</td>\n",
       "    </tr>\n",
       "    <tr>\n",
       "      <th>2</th>\n",
       "      <td>6</td>\n",
       "      <td>Ministério da Economia</td>\n",
       "      <td>900885.74</td>\n",
       "    </tr>\n",
       "    <tr>\n",
       "      <th>3</th>\n",
       "      <td>7</td>\n",
       "      <td>Ministério da Educação</td>\n",
       "      <td>458152.23</td>\n",
       "    </tr>\n",
       "    <tr>\n",
       "      <th>4</th>\n",
       "      <td>3</td>\n",
       "      <td>Ministério da Agricultura, Pecuária e Abastec</td>\n",
       "      <td>407282.86</td>\n",
       "    </tr>\n",
       "    <tr>\n",
       "      <th>5</th>\n",
       "      <td>5</td>\n",
       "      <td>Ministério da Defesa</td>\n",
       "      <td>378740.95</td>\n",
       "    </tr>\n",
       "    <tr>\n",
       "      <th>6</th>\n",
       "      <td>16</td>\n",
       "      <td>Ministério do Meio Ambiente</td>\n",
       "      <td>255454.78</td>\n",
       "    </tr>\n",
       "    <tr>\n",
       "      <th>7</th>\n",
       "      <td>11</td>\n",
       "      <td>Ministério da Saúde</td>\n",
       "      <td>140872.62</td>\n",
       "    </tr>\n",
       "    <tr>\n",
       "      <th>8</th>\n",
       "      <td>15</td>\n",
       "      <td>Ministério do Desenvolvimento Regional</td>\n",
       "      <td>78503.23</td>\n",
       "    </tr>\n",
       "    <tr>\n",
       "      <th>9</th>\n",
       "      <td>17</td>\n",
       "      <td>Ministério do Trabalho</td>\n",
       "      <td>75589.72</td>\n",
       "    </tr>\n",
       "  </tbody>\n",
       "</table>\n",
       "</div>"
      ],
      "text/plain": [
       "   index                            NOME ÓRGÃO SUPERIOR  VALOR TRANSAÇÃO\n",
       "0     20                       Presidência da República       2004150.51\n",
       "1      9      Ministério da Justiça e Segurança Pública       1269188.17\n",
       "2      6                         Ministério da Economia        900885.74\n",
       "3      7                         Ministério da Educação        458152.23\n",
       "4      3  Ministério da Agricultura, Pecuária e Abastec        407282.86\n",
       "5      5                           Ministério da Defesa        378740.95\n",
       "6     16                    Ministério do Meio Ambiente        255454.78\n",
       "7     11                            Ministério da Saúde        140872.62\n",
       "8     15         Ministério do Desenvolvimento Regional         78503.23\n",
       "9     17                         Ministério do Trabalho         75589.72"
      ]
     },
     "execution_count": 13,
     "metadata": {},
     "output_type": "execute_result"
    }
   ],
   "source": [
    "# gastos_10_maiores = gastos_por_orgao.loc[:9,:]\n",
    "# gastos_10_maiores"
   ]
  },
  {
   "cell_type": "code",
   "execution_count": 5,
   "metadata": {},
   "outputs": [
    {
     "data": {
      "application/vnd.plotly.v1+json": {
       "config": {
        "plotlyServerURL": "https://plot.ly"
       },
       "data": [
        {
         "branchvalues": "total",
         "customdata": [
          [
           "Ministério das Relações Exteriores"
          ],
          [
           "Ministério das Comunicações"
          ],
          [
           "Ministério do Trabalho e Emprego"
          ],
          [
           "Ministério da Ciência, Tecnologia, Inovações "
          ],
          [
           "Ministério da Saúde"
          ],
          [
           "Ministério da Defesa"
          ],
          [
           "Controladoria-Geral da União"
          ],
          [
           "Ministério da Agricultura, Pecuária e Abastec"
          ],
          [
           "Ministério do Meio Ambiente"
          ],
          [
           "Banco Central do Brasil - Orçamento Fiscal e "
          ],
          [
           "Presidência da República"
          ],
          [
           "Ministério da Educação"
          ],
          [
           "Ministério do Desenvolvimento Regional"
          ],
          [
           "Ministério do Turismo"
          ],
          [
           "Ministério da Mulher, Família e Direitos Huma"
          ],
          [
           "Ministério da Infraestrutura"
          ],
          [
           "Ministério da Economia"
          ],
          [
           "Ministério da Justiça e Segurança Pública"
          ],
          [
           "Ministério de Minas e Energia"
          ],
          [
           "Ministério do Trabalho"
          ],
          [
           "Advocacia-Geral da União"
          ],
          [
           "(?)"
          ]
         ],
         "domain": {
          "x": [
           0,
           1
          ],
          "y": [
           0,
           1
          ]
         },
         "hovertemplate": "labels=%{label}<br>VALOR TRANSAÇÃO=%{value}<br>parent=%{parent}<br>id=%{id}<br>NOME ÓRGÃO SUPERIOR=%{customdata[0]}<extra></extra>",
         "ids": [
          "Cartão de Pagamento do Governo Federal (CPGF)/Ministério das Relações Exteriores",
          "Cartão de Pagamento do Governo Federal (CPGF)/Ministério das Comunicações",
          "Cartão de Pagamento do Governo Federal (CPGF)/Ministério do Trabalho e Emprego",
          "Cartão de Pagamento do Governo Federal (CPGF)/Ministério da Ciência, Tecnologia, Inovações ",
          "Cartão de Pagamento do Governo Federal (CPGF)/Ministério da Saúde",
          "Cartão de Pagamento do Governo Federal (CPGF)/Ministério da Defesa",
          "Cartão de Pagamento do Governo Federal (CPGF)/Controladoria-Geral da União",
          "Cartão de Pagamento do Governo Federal (CPGF)/Ministério da Agricultura, Pecuária e Abastec",
          "Cartão de Pagamento do Governo Federal (CPGF)/Ministério do Meio Ambiente",
          "Cartão de Pagamento do Governo Federal (CPGF)/Banco Central do Brasil - Orçamento Fiscal e ",
          "Cartão de Pagamento do Governo Federal (CPGF)/Presidência da República",
          "Cartão de Pagamento do Governo Federal (CPGF)/Ministério da Educação",
          "Cartão de Pagamento do Governo Federal (CPGF)/Ministério do Desenvolvimento Regional",
          "Cartão de Pagamento do Governo Federal (CPGF)/Ministério do Turismo",
          "Cartão de Pagamento do Governo Federal (CPGF)/Ministério da Mulher, Família e Direitos Huma",
          "Cartão de Pagamento do Governo Federal (CPGF)/Ministério da Infraestrutura",
          "Cartão de Pagamento do Governo Federal (CPGF)/Ministério da Economia",
          "Cartão de Pagamento do Governo Federal (CPGF)/Ministério da Justiça e Segurança Pública",
          "Cartão de Pagamento do Governo Federal (CPGF)/Ministério de Minas e Energia",
          "Cartão de Pagamento do Governo Federal (CPGF)/Ministério do Trabalho",
          "Cartão de Pagamento do Governo Federal (CPGF)/Advocacia-Geral da União",
          "Cartão de Pagamento do Governo Federal (CPGF)"
         ],
         "labels": [
          "Ministério das Relações Exteriores",
          "Ministério das Comunicações",
          "Ministério do Trabalho e Emprego",
          "Ministério da Ciência, Tecnologia, Inovações ",
          "Ministério da Saúde",
          "Ministério da Defesa",
          "Controladoria-Geral da União",
          "Ministério da Agricultura, Pecuária e Abastec",
          "Ministério do Meio Ambiente",
          "Banco Central do Brasil - Orçamento Fiscal e ",
          "Presidência da República",
          "Ministério da Educação",
          "Ministério do Desenvolvimento Regional",
          "Ministério do Turismo",
          "Ministério da Mulher, Família e Direitos Huma",
          "Ministério da Infraestrutura",
          "Ministério da Economia",
          "Ministério da Justiça e Segurança Pública",
          "Ministério de Minas e Energia",
          "Ministério do Trabalho",
          "Advocacia-Geral da União",
          "Cartão de Pagamento do Governo Federal (CPGF)"
         ],
         "marker": {
          "colors": [
           "#636efa",
           "#EF553B",
           "#00cc96",
           "#ab63fa",
           "#FFA15A",
           "#19d3f3",
           "#FF6692",
           "#B6E880",
           "#FF97FF",
           "#FECB52",
           "#636efa",
           "#EF553B",
           "#00cc96",
           "#ab63fa",
           "#FFA15A",
           "#19d3f3",
           "#FF6692",
           "#B6E880",
           "#FF97FF",
           "#FECB52",
           "#636efa",
           "#EF553B"
          ]
         },
         "name": "",
         "parents": [
          "Cartão de Pagamento do Governo Federal (CPGF)",
          "Cartão de Pagamento do Governo Federal (CPGF)",
          "Cartão de Pagamento do Governo Federal (CPGF)",
          "Cartão de Pagamento do Governo Federal (CPGF)",
          "Cartão de Pagamento do Governo Federal (CPGF)",
          "Cartão de Pagamento do Governo Federal (CPGF)",
          "Cartão de Pagamento do Governo Federal (CPGF)",
          "Cartão de Pagamento do Governo Federal (CPGF)",
          "Cartão de Pagamento do Governo Federal (CPGF)",
          "Cartão de Pagamento do Governo Federal (CPGF)",
          "Cartão de Pagamento do Governo Federal (CPGF)",
          "Cartão de Pagamento do Governo Federal (CPGF)",
          "Cartão de Pagamento do Governo Federal (CPGF)",
          "Cartão de Pagamento do Governo Federal (CPGF)",
          "Cartão de Pagamento do Governo Federal (CPGF)",
          "Cartão de Pagamento do Governo Federal (CPGF)",
          "Cartão de Pagamento do Governo Federal (CPGF)",
          "Cartão de Pagamento do Governo Federal (CPGF)",
          "Cartão de Pagamento do Governo Federal (CPGF)",
          "Cartão de Pagamento do Governo Federal (CPGF)",
          "Cartão de Pagamento do Governo Federal (CPGF)",
          ""
         ],
         "type": "treemap",
         "values": [
          2484.83,
          10403.2,
          11693.64,
          51821.98,
          140872.62,
          378740.95,
          2733,
          407282.86,
          255454.78,
          23201.85,
          2004150.51,
          458152.23,
          78503.23,
          8269.24,
          360,
          8369.62,
          900885.74,
          1269188.17,
          66644.65,
          75589.72,
          20717.010000000002,
          6175519.83
         ]
        }
       ],
       "layout": {
        "legend": {
         "tracegroupgap": 0
        },
        "margin": {
         "t": 60
        },
        "template": {
         "data": {
          "bar": [
           {
            "error_x": {
             "color": "#2a3f5f"
            },
            "error_y": {
             "color": "#2a3f5f"
            },
            "marker": {
             "line": {
              "color": "#E5ECF6",
              "width": 0.5
             },
             "pattern": {
              "fillmode": "overlay",
              "size": 10,
              "solidity": 0.2
             }
            },
            "type": "bar"
           }
          ],
          "barpolar": [
           {
            "marker": {
             "line": {
              "color": "#E5ECF6",
              "width": 0.5
             },
             "pattern": {
              "fillmode": "overlay",
              "size": 10,
              "solidity": 0.2
             }
            },
            "type": "barpolar"
           }
          ],
          "carpet": [
           {
            "aaxis": {
             "endlinecolor": "#2a3f5f",
             "gridcolor": "white",
             "linecolor": "white",
             "minorgridcolor": "white",
             "startlinecolor": "#2a3f5f"
            },
            "baxis": {
             "endlinecolor": "#2a3f5f",
             "gridcolor": "white",
             "linecolor": "white",
             "minorgridcolor": "white",
             "startlinecolor": "#2a3f5f"
            },
            "type": "carpet"
           }
          ],
          "choropleth": [
           {
            "colorbar": {
             "outlinewidth": 0,
             "ticks": ""
            },
            "type": "choropleth"
           }
          ],
          "contour": [
           {
            "colorbar": {
             "outlinewidth": 0,
             "ticks": ""
            },
            "colorscale": [
             [
              0,
              "#0d0887"
             ],
             [
              0.1111111111111111,
              "#46039f"
             ],
             [
              0.2222222222222222,
              "#7201a8"
             ],
             [
              0.3333333333333333,
              "#9c179e"
             ],
             [
              0.4444444444444444,
              "#bd3786"
             ],
             [
              0.5555555555555556,
              "#d8576b"
             ],
             [
              0.6666666666666666,
              "#ed7953"
             ],
             [
              0.7777777777777778,
              "#fb9f3a"
             ],
             [
              0.8888888888888888,
              "#fdca26"
             ],
             [
              1,
              "#f0f921"
             ]
            ],
            "type": "contour"
           }
          ],
          "contourcarpet": [
           {
            "colorbar": {
             "outlinewidth": 0,
             "ticks": ""
            },
            "type": "contourcarpet"
           }
          ],
          "heatmap": [
           {
            "colorbar": {
             "outlinewidth": 0,
             "ticks": ""
            },
            "colorscale": [
             [
              0,
              "#0d0887"
             ],
             [
              0.1111111111111111,
              "#46039f"
             ],
             [
              0.2222222222222222,
              "#7201a8"
             ],
             [
              0.3333333333333333,
              "#9c179e"
             ],
             [
              0.4444444444444444,
              "#bd3786"
             ],
             [
              0.5555555555555556,
              "#d8576b"
             ],
             [
              0.6666666666666666,
              "#ed7953"
             ],
             [
              0.7777777777777778,
              "#fb9f3a"
             ],
             [
              0.8888888888888888,
              "#fdca26"
             ],
             [
              1,
              "#f0f921"
             ]
            ],
            "type": "heatmap"
           }
          ],
          "heatmapgl": [
           {
            "colorbar": {
             "outlinewidth": 0,
             "ticks": ""
            },
            "colorscale": [
             [
              0,
              "#0d0887"
             ],
             [
              0.1111111111111111,
              "#46039f"
             ],
             [
              0.2222222222222222,
              "#7201a8"
             ],
             [
              0.3333333333333333,
              "#9c179e"
             ],
             [
              0.4444444444444444,
              "#bd3786"
             ],
             [
              0.5555555555555556,
              "#d8576b"
             ],
             [
              0.6666666666666666,
              "#ed7953"
             ],
             [
              0.7777777777777778,
              "#fb9f3a"
             ],
             [
              0.8888888888888888,
              "#fdca26"
             ],
             [
              1,
              "#f0f921"
             ]
            ],
            "type": "heatmapgl"
           }
          ],
          "histogram": [
           {
            "marker": {
             "pattern": {
              "fillmode": "overlay",
              "size": 10,
              "solidity": 0.2
             }
            },
            "type": "histogram"
           }
          ],
          "histogram2d": [
           {
            "colorbar": {
             "outlinewidth": 0,
             "ticks": ""
            },
            "colorscale": [
             [
              0,
              "#0d0887"
             ],
             [
              0.1111111111111111,
              "#46039f"
             ],
             [
              0.2222222222222222,
              "#7201a8"
             ],
             [
              0.3333333333333333,
              "#9c179e"
             ],
             [
              0.4444444444444444,
              "#bd3786"
             ],
             [
              0.5555555555555556,
              "#d8576b"
             ],
             [
              0.6666666666666666,
              "#ed7953"
             ],
             [
              0.7777777777777778,
              "#fb9f3a"
             ],
             [
              0.8888888888888888,
              "#fdca26"
             ],
             [
              1,
              "#f0f921"
             ]
            ],
            "type": "histogram2d"
           }
          ],
          "histogram2dcontour": [
           {
            "colorbar": {
             "outlinewidth": 0,
             "ticks": ""
            },
            "colorscale": [
             [
              0,
              "#0d0887"
             ],
             [
              0.1111111111111111,
              "#46039f"
             ],
             [
              0.2222222222222222,
              "#7201a8"
             ],
             [
              0.3333333333333333,
              "#9c179e"
             ],
             [
              0.4444444444444444,
              "#bd3786"
             ],
             [
              0.5555555555555556,
              "#d8576b"
             ],
             [
              0.6666666666666666,
              "#ed7953"
             ],
             [
              0.7777777777777778,
              "#fb9f3a"
             ],
             [
              0.8888888888888888,
              "#fdca26"
             ],
             [
              1,
              "#f0f921"
             ]
            ],
            "type": "histogram2dcontour"
           }
          ],
          "mesh3d": [
           {
            "colorbar": {
             "outlinewidth": 0,
             "ticks": ""
            },
            "type": "mesh3d"
           }
          ],
          "parcoords": [
           {
            "line": {
             "colorbar": {
              "outlinewidth": 0,
              "ticks": ""
             }
            },
            "type": "parcoords"
           }
          ],
          "pie": [
           {
            "automargin": true,
            "type": "pie"
           }
          ],
          "scatter": [
           {
            "fillpattern": {
             "fillmode": "overlay",
             "size": 10,
             "solidity": 0.2
            },
            "type": "scatter"
           }
          ],
          "scatter3d": [
           {
            "line": {
             "colorbar": {
              "outlinewidth": 0,
              "ticks": ""
             }
            },
            "marker": {
             "colorbar": {
              "outlinewidth": 0,
              "ticks": ""
             }
            },
            "type": "scatter3d"
           }
          ],
          "scattercarpet": [
           {
            "marker": {
             "colorbar": {
              "outlinewidth": 0,
              "ticks": ""
             }
            },
            "type": "scattercarpet"
           }
          ],
          "scattergeo": [
           {
            "marker": {
             "colorbar": {
              "outlinewidth": 0,
              "ticks": ""
             }
            },
            "type": "scattergeo"
           }
          ],
          "scattergl": [
           {
            "marker": {
             "colorbar": {
              "outlinewidth": 0,
              "ticks": ""
             }
            },
            "type": "scattergl"
           }
          ],
          "scattermapbox": [
           {
            "marker": {
             "colorbar": {
              "outlinewidth": 0,
              "ticks": ""
             }
            },
            "type": "scattermapbox"
           }
          ],
          "scatterpolar": [
           {
            "marker": {
             "colorbar": {
              "outlinewidth": 0,
              "ticks": ""
             }
            },
            "type": "scatterpolar"
           }
          ],
          "scatterpolargl": [
           {
            "marker": {
             "colorbar": {
              "outlinewidth": 0,
              "ticks": ""
             }
            },
            "type": "scatterpolargl"
           }
          ],
          "scatterternary": [
           {
            "marker": {
             "colorbar": {
              "outlinewidth": 0,
              "ticks": ""
             }
            },
            "type": "scatterternary"
           }
          ],
          "surface": [
           {
            "colorbar": {
             "outlinewidth": 0,
             "ticks": ""
            },
            "colorscale": [
             [
              0,
              "#0d0887"
             ],
             [
              0.1111111111111111,
              "#46039f"
             ],
             [
              0.2222222222222222,
              "#7201a8"
             ],
             [
              0.3333333333333333,
              "#9c179e"
             ],
             [
              0.4444444444444444,
              "#bd3786"
             ],
             [
              0.5555555555555556,
              "#d8576b"
             ],
             [
              0.6666666666666666,
              "#ed7953"
             ],
             [
              0.7777777777777778,
              "#fb9f3a"
             ],
             [
              0.8888888888888888,
              "#fdca26"
             ],
             [
              1,
              "#f0f921"
             ]
            ],
            "type": "surface"
           }
          ],
          "table": [
           {
            "cells": {
             "fill": {
              "color": "#EBF0F8"
             },
             "line": {
              "color": "white"
             }
            },
            "header": {
             "fill": {
              "color": "#C8D4E3"
             },
             "line": {
              "color": "white"
             }
            },
            "type": "table"
           }
          ]
         },
         "layout": {
          "annotationdefaults": {
           "arrowcolor": "#2a3f5f",
           "arrowhead": 0,
           "arrowwidth": 1
          },
          "autotypenumbers": "strict",
          "coloraxis": {
           "colorbar": {
            "outlinewidth": 0,
            "ticks": ""
           }
          },
          "colorscale": {
           "diverging": [
            [
             0,
             "#8e0152"
            ],
            [
             0.1,
             "#c51b7d"
            ],
            [
             0.2,
             "#de77ae"
            ],
            [
             0.3,
             "#f1b6da"
            ],
            [
             0.4,
             "#fde0ef"
            ],
            [
             0.5,
             "#f7f7f7"
            ],
            [
             0.6,
             "#e6f5d0"
            ],
            [
             0.7,
             "#b8e186"
            ],
            [
             0.8,
             "#7fbc41"
            ],
            [
             0.9,
             "#4d9221"
            ],
            [
             1,
             "#276419"
            ]
           ],
           "sequential": [
            [
             0,
             "#0d0887"
            ],
            [
             0.1111111111111111,
             "#46039f"
            ],
            [
             0.2222222222222222,
             "#7201a8"
            ],
            [
             0.3333333333333333,
             "#9c179e"
            ],
            [
             0.4444444444444444,
             "#bd3786"
            ],
            [
             0.5555555555555556,
             "#d8576b"
            ],
            [
             0.6666666666666666,
             "#ed7953"
            ],
            [
             0.7777777777777778,
             "#fb9f3a"
            ],
            [
             0.8888888888888888,
             "#fdca26"
            ],
            [
             1,
             "#f0f921"
            ]
           ],
           "sequentialminus": [
            [
             0,
             "#0d0887"
            ],
            [
             0.1111111111111111,
             "#46039f"
            ],
            [
             0.2222222222222222,
             "#7201a8"
            ],
            [
             0.3333333333333333,
             "#9c179e"
            ],
            [
             0.4444444444444444,
             "#bd3786"
            ],
            [
             0.5555555555555556,
             "#d8576b"
            ],
            [
             0.6666666666666666,
             "#ed7953"
            ],
            [
             0.7777777777777778,
             "#fb9f3a"
            ],
            [
             0.8888888888888888,
             "#fdca26"
            ],
            [
             1,
             "#f0f921"
            ]
           ]
          },
          "colorway": [
           "#636efa",
           "#EF553B",
           "#00cc96",
           "#ab63fa",
           "#FFA15A",
           "#19d3f3",
           "#FF6692",
           "#B6E880",
           "#FF97FF",
           "#FECB52"
          ],
          "font": {
           "color": "#2a3f5f"
          },
          "geo": {
           "bgcolor": "white",
           "lakecolor": "white",
           "landcolor": "#E5ECF6",
           "showlakes": true,
           "showland": true,
           "subunitcolor": "white"
          },
          "hoverlabel": {
           "align": "left"
          },
          "hovermode": "closest",
          "mapbox": {
           "style": "light"
          },
          "paper_bgcolor": "white",
          "plot_bgcolor": "#E5ECF6",
          "polar": {
           "angularaxis": {
            "gridcolor": "white",
            "linecolor": "white",
            "ticks": ""
           },
           "bgcolor": "#E5ECF6",
           "radialaxis": {
            "gridcolor": "white",
            "linecolor": "white",
            "ticks": ""
           }
          },
          "scene": {
           "xaxis": {
            "backgroundcolor": "#E5ECF6",
            "gridcolor": "white",
            "gridwidth": 2,
            "linecolor": "white",
            "showbackground": true,
            "ticks": "",
            "zerolinecolor": "white"
           },
           "yaxis": {
            "backgroundcolor": "#E5ECF6",
            "gridcolor": "white",
            "gridwidth": 2,
            "linecolor": "white",
            "showbackground": true,
            "ticks": "",
            "zerolinecolor": "white"
           },
           "zaxis": {
            "backgroundcolor": "#E5ECF6",
            "gridcolor": "white",
            "gridwidth": 2,
            "linecolor": "white",
            "showbackground": true,
            "ticks": "",
            "zerolinecolor": "white"
           }
          },
          "shapedefaults": {
           "line": {
            "color": "#2a3f5f"
           }
          },
          "ternary": {
           "aaxis": {
            "gridcolor": "white",
            "linecolor": "white",
            "ticks": ""
           },
           "baxis": {
            "gridcolor": "white",
            "linecolor": "white",
            "ticks": ""
           },
           "bgcolor": "#E5ECF6",
           "caxis": {
            "gridcolor": "white",
            "linecolor": "white",
            "ticks": ""
           }
          },
          "title": {
           "x": 0.05
          },
          "xaxis": {
           "automargin": true,
           "gridcolor": "white",
           "linecolor": "white",
           "ticks": "",
           "title": {
            "standoff": 15
           },
           "zerolinecolor": "white",
           "zerolinewidth": 2
          },
          "yaxis": {
           "automargin": true,
           "gridcolor": "white",
           "linecolor": "white",
           "ticks": "",
           "title": {
            "standoff": 15
           },
           "zerolinecolor": "white",
           "zerolinewidth": 2
          }
         }
        }
       }
      }
     },
     "metadata": {},
     "output_type": "display_data"
    }
   ],
   "source": [
    "fig_jan = px.treemap(gastos_por_orgao_jan, path=[px.Constant('Cartão de Pagamento do Governo Federal (CPGF)'), 'NOME ÓRGÃO SUPERIOR'], values='VALOR TRANSAÇÃO',\n",
    "                  color='NOME ÓRGÃO SUPERIOR')\n",
    "fig_jan.show()\n",
    "#img = pio.to_image(fig_jan, format='png')\n",
    "#pio.write_image(img, file='images/orgaos_dados_2022.png')"
   ]
  },
  {
   "cell_type": "code",
   "execution_count": 21,
   "metadata": {},
   "outputs": [
    {
     "name": "stderr",
     "output_type": "stream",
     "text": [
      "/tmp/ipykernel_23205/2236687728.py:3: FutureWarning:\n",
      "\n",
      "In a future version, `df.iloc[:, i] = newvals` will attempt to set the values inplace instead of always setting a new array. To retain the old behavior, use either `df[df.columns[i]] = newvals` or, if columns are non-unique, `df.isetitem(i, newvals)`\n",
      "\n"
     ]
    },
    {
     "data": {
      "application/vnd.plotly.v1+json": {
       "config": {
        "plotlyServerURL": "https://plot.ly"
       },
       "data": [
        {
         "branchvalues": "total",
         "customdata": [
          [
           "Ministério do Meio Ambiente"
          ],
          [
           "Ministério de Minas e Energia"
          ],
          [
           "Ministério da Justiça e Segurança Pública"
          ],
          [
           "Ministério do Trabalho"
          ],
          [
           "Ministério da Economia"
          ],
          [
           "Banco Central do Brasil - Orçamento Fiscal e "
          ],
          [
           "Ministério da Ciência, Tecnologia, Inovações "
          ],
          [
           "Ministério do Turismo"
          ],
          [
           "Ministério da Defesa"
          ],
          [
           "Ministério da Agricultura, Pecuária e Abastec"
          ],
          [
           "Ministério da Infraestrutura"
          ],
          [
           "Ministério da Saúde"
          ],
          [
           "Ministério das Comunicações"
          ],
          [
           "Ministério do Desenvolvimento Regional"
          ],
          [
           "Ministério da Educação"
          ],
          [
           "Presidência da República"
          ],
          [
           "Advocacia-Geral da União"
          ],
          [
           "(?)"
          ]
         ],
         "domain": {
          "x": [
           0,
           1
          ],
          "y": [
           0,
           1
          ]
         },
         "hovertemplate": "labels=%{label}<br>VALOR TRANSAÇÃO=%{value}<br>parent=%{parent}<br>id=%{id}<br>NOME ÓRGÃO SUPERIOR=%{customdata[0]}<extra></extra>",
         "ids": [
          "Cartão de Pagamento do Governo Federal (CPGF)/Ministério do Meio Ambiente",
          "Cartão de Pagamento do Governo Federal (CPGF)/Ministério de Minas e Energia",
          "Cartão de Pagamento do Governo Federal (CPGF)/Ministério da Justiça e Segurança Pública",
          "Cartão de Pagamento do Governo Federal (CPGF)/Ministério do Trabalho",
          "Cartão de Pagamento do Governo Federal (CPGF)/Ministério da Economia",
          "Cartão de Pagamento do Governo Federal (CPGF)/Banco Central do Brasil - Orçamento Fiscal e ",
          "Cartão de Pagamento do Governo Federal (CPGF)/Ministério da Ciência, Tecnologia, Inovações ",
          "Cartão de Pagamento do Governo Federal (CPGF)/Ministério do Turismo",
          "Cartão de Pagamento do Governo Federal (CPGF)/Ministério da Defesa",
          "Cartão de Pagamento do Governo Federal (CPGF)/Ministério da Agricultura, Pecuária e Abastec",
          "Cartão de Pagamento do Governo Federal (CPGF)/Ministério da Infraestrutura",
          "Cartão de Pagamento do Governo Federal (CPGF)/Ministério da Saúde",
          "Cartão de Pagamento do Governo Federal (CPGF)/Ministério das Comunicações",
          "Cartão de Pagamento do Governo Federal (CPGF)/Ministério do Desenvolvimento Regional",
          "Cartão de Pagamento do Governo Federal (CPGF)/Ministério da Educação",
          "Cartão de Pagamento do Governo Federal (CPGF)/Presidência da República",
          "Cartão de Pagamento do Governo Federal (CPGF)/Advocacia-Geral da União",
          "Cartão de Pagamento do Governo Federal (CPGF)"
         ],
         "labels": [
          "Ministério do Meio Ambiente",
          "Ministério de Minas e Energia",
          "Ministério da Justiça e Segurança Pública",
          "Ministério do Trabalho",
          "Ministério da Economia",
          "Banco Central do Brasil - Orçamento Fiscal e ",
          "Ministério da Ciência, Tecnologia, Inovações ",
          "Ministério do Turismo",
          "Ministério da Defesa",
          "Ministério da Agricultura, Pecuária e Abastec",
          "Ministério da Infraestrutura",
          "Ministério da Saúde",
          "Ministério das Comunicações",
          "Ministério do Desenvolvimento Regional",
          "Ministério da Educação",
          "Presidência da República",
          "Advocacia-Geral da União",
          "Cartão de Pagamento do Governo Federal (CPGF)"
         ],
         "marker": {
          "colors": [
           "#636efa",
           "#EF553B",
           "#00cc96",
           "#ab63fa",
           "#FFA15A",
           "#19d3f3",
           "#FF6692",
           "#B6E880",
           "#FF97FF",
           "#FECB52",
           "#636efa",
           "#EF553B",
           "#00cc96",
           "#ab63fa",
           "#FFA15A",
           "#19d3f3",
           "#FF6692",
           "#B6E880"
          ]
         },
         "name": "",
         "parents": [
          "Cartão de Pagamento do Governo Federal (CPGF)",
          "Cartão de Pagamento do Governo Federal (CPGF)",
          "Cartão de Pagamento do Governo Federal (CPGF)",
          "Cartão de Pagamento do Governo Federal (CPGF)",
          "Cartão de Pagamento do Governo Federal (CPGF)",
          "Cartão de Pagamento do Governo Federal (CPGF)",
          "Cartão de Pagamento do Governo Federal (CPGF)",
          "Cartão de Pagamento do Governo Federal (CPGF)",
          "Cartão de Pagamento do Governo Federal (CPGF)",
          "Cartão de Pagamento do Governo Federal (CPGF)",
          "Cartão de Pagamento do Governo Federal (CPGF)",
          "Cartão de Pagamento do Governo Federal (CPGF)",
          "Cartão de Pagamento do Governo Federal (CPGF)",
          "Cartão de Pagamento do Governo Federal (CPGF)",
          "Cartão de Pagamento do Governo Federal (CPGF)",
          "Cartão de Pagamento do Governo Federal (CPGF)",
          "Cartão de Pagamento do Governo Federal (CPGF)",
          ""
         ],
         "type": "treemap",
         "values": [
          3248,
          5992.83,
          72220.36,
          13243.17,
          289343.27,
          3836.17,
          2464.21,
          1174,
          28726.079999999998,
          6956.92,
          1920.99,
          107878.47,
          12474.43,
          5773.39,
          82460.85,
          1148869.54,
          3205.4,
          1789788.08
         ]
        }
       ],
       "layout": {
        "legend": {
         "tracegroupgap": 0
        },
        "margin": {
         "t": 60
        },
        "template": {
         "data": {
          "bar": [
           {
            "error_x": {
             "color": "#2a3f5f"
            },
            "error_y": {
             "color": "#2a3f5f"
            },
            "marker": {
             "line": {
              "color": "#E5ECF6",
              "width": 0.5
             },
             "pattern": {
              "fillmode": "overlay",
              "size": 10,
              "solidity": 0.2
             }
            },
            "type": "bar"
           }
          ],
          "barpolar": [
           {
            "marker": {
             "line": {
              "color": "#E5ECF6",
              "width": 0.5
             },
             "pattern": {
              "fillmode": "overlay",
              "size": 10,
              "solidity": 0.2
             }
            },
            "type": "barpolar"
           }
          ],
          "carpet": [
           {
            "aaxis": {
             "endlinecolor": "#2a3f5f",
             "gridcolor": "white",
             "linecolor": "white",
             "minorgridcolor": "white",
             "startlinecolor": "#2a3f5f"
            },
            "baxis": {
             "endlinecolor": "#2a3f5f",
             "gridcolor": "white",
             "linecolor": "white",
             "minorgridcolor": "white",
             "startlinecolor": "#2a3f5f"
            },
            "type": "carpet"
           }
          ],
          "choropleth": [
           {
            "colorbar": {
             "outlinewidth": 0,
             "ticks": ""
            },
            "type": "choropleth"
           }
          ],
          "contour": [
           {
            "colorbar": {
             "outlinewidth": 0,
             "ticks": ""
            },
            "colorscale": [
             [
              0,
              "#0d0887"
             ],
             [
              0.1111111111111111,
              "#46039f"
             ],
             [
              0.2222222222222222,
              "#7201a8"
             ],
             [
              0.3333333333333333,
              "#9c179e"
             ],
             [
              0.4444444444444444,
              "#bd3786"
             ],
             [
              0.5555555555555556,
              "#d8576b"
             ],
             [
              0.6666666666666666,
              "#ed7953"
             ],
             [
              0.7777777777777778,
              "#fb9f3a"
             ],
             [
              0.8888888888888888,
              "#fdca26"
             ],
             [
              1,
              "#f0f921"
             ]
            ],
            "type": "contour"
           }
          ],
          "contourcarpet": [
           {
            "colorbar": {
             "outlinewidth": 0,
             "ticks": ""
            },
            "type": "contourcarpet"
           }
          ],
          "heatmap": [
           {
            "colorbar": {
             "outlinewidth": 0,
             "ticks": ""
            },
            "colorscale": [
             [
              0,
              "#0d0887"
             ],
             [
              0.1111111111111111,
              "#46039f"
             ],
             [
              0.2222222222222222,
              "#7201a8"
             ],
             [
              0.3333333333333333,
              "#9c179e"
             ],
             [
              0.4444444444444444,
              "#bd3786"
             ],
             [
              0.5555555555555556,
              "#d8576b"
             ],
             [
              0.6666666666666666,
              "#ed7953"
             ],
             [
              0.7777777777777778,
              "#fb9f3a"
             ],
             [
              0.8888888888888888,
              "#fdca26"
             ],
             [
              1,
              "#f0f921"
             ]
            ],
            "type": "heatmap"
           }
          ],
          "heatmapgl": [
           {
            "colorbar": {
             "outlinewidth": 0,
             "ticks": ""
            },
            "colorscale": [
             [
              0,
              "#0d0887"
             ],
             [
              0.1111111111111111,
              "#46039f"
             ],
             [
              0.2222222222222222,
              "#7201a8"
             ],
             [
              0.3333333333333333,
              "#9c179e"
             ],
             [
              0.4444444444444444,
              "#bd3786"
             ],
             [
              0.5555555555555556,
              "#d8576b"
             ],
             [
              0.6666666666666666,
              "#ed7953"
             ],
             [
              0.7777777777777778,
              "#fb9f3a"
             ],
             [
              0.8888888888888888,
              "#fdca26"
             ],
             [
              1,
              "#f0f921"
             ]
            ],
            "type": "heatmapgl"
           }
          ],
          "histogram": [
           {
            "marker": {
             "pattern": {
              "fillmode": "overlay",
              "size": 10,
              "solidity": 0.2
             }
            },
            "type": "histogram"
           }
          ],
          "histogram2d": [
           {
            "colorbar": {
             "outlinewidth": 0,
             "ticks": ""
            },
            "colorscale": [
             [
              0,
              "#0d0887"
             ],
             [
              0.1111111111111111,
              "#46039f"
             ],
             [
              0.2222222222222222,
              "#7201a8"
             ],
             [
              0.3333333333333333,
              "#9c179e"
             ],
             [
              0.4444444444444444,
              "#bd3786"
             ],
             [
              0.5555555555555556,
              "#d8576b"
             ],
             [
              0.6666666666666666,
              "#ed7953"
             ],
             [
              0.7777777777777778,
              "#fb9f3a"
             ],
             [
              0.8888888888888888,
              "#fdca26"
             ],
             [
              1,
              "#f0f921"
             ]
            ],
            "type": "histogram2d"
           }
          ],
          "histogram2dcontour": [
           {
            "colorbar": {
             "outlinewidth": 0,
             "ticks": ""
            },
            "colorscale": [
             [
              0,
              "#0d0887"
             ],
             [
              0.1111111111111111,
              "#46039f"
             ],
             [
              0.2222222222222222,
              "#7201a8"
             ],
             [
              0.3333333333333333,
              "#9c179e"
             ],
             [
              0.4444444444444444,
              "#bd3786"
             ],
             [
              0.5555555555555556,
              "#d8576b"
             ],
             [
              0.6666666666666666,
              "#ed7953"
             ],
             [
              0.7777777777777778,
              "#fb9f3a"
             ],
             [
              0.8888888888888888,
              "#fdca26"
             ],
             [
              1,
              "#f0f921"
             ]
            ],
            "type": "histogram2dcontour"
           }
          ],
          "mesh3d": [
           {
            "colorbar": {
             "outlinewidth": 0,
             "ticks": ""
            },
            "type": "mesh3d"
           }
          ],
          "parcoords": [
           {
            "line": {
             "colorbar": {
              "outlinewidth": 0,
              "ticks": ""
             }
            },
            "type": "parcoords"
           }
          ],
          "pie": [
           {
            "automargin": true,
            "type": "pie"
           }
          ],
          "scatter": [
           {
            "fillpattern": {
             "fillmode": "overlay",
             "size": 10,
             "solidity": 0.2
            },
            "type": "scatter"
           }
          ],
          "scatter3d": [
           {
            "line": {
             "colorbar": {
              "outlinewidth": 0,
              "ticks": ""
             }
            },
            "marker": {
             "colorbar": {
              "outlinewidth": 0,
              "ticks": ""
             }
            },
            "type": "scatter3d"
           }
          ],
          "scattercarpet": [
           {
            "marker": {
             "colorbar": {
              "outlinewidth": 0,
              "ticks": ""
             }
            },
            "type": "scattercarpet"
           }
          ],
          "scattergeo": [
           {
            "marker": {
             "colorbar": {
              "outlinewidth": 0,
              "ticks": ""
             }
            },
            "type": "scattergeo"
           }
          ],
          "scattergl": [
           {
            "marker": {
             "colorbar": {
              "outlinewidth": 0,
              "ticks": ""
             }
            },
            "type": "scattergl"
           }
          ],
          "scattermapbox": [
           {
            "marker": {
             "colorbar": {
              "outlinewidth": 0,
              "ticks": ""
             }
            },
            "type": "scattermapbox"
           }
          ],
          "scatterpolar": [
           {
            "marker": {
             "colorbar": {
              "outlinewidth": 0,
              "ticks": ""
             }
            },
            "type": "scatterpolar"
           }
          ],
          "scatterpolargl": [
           {
            "marker": {
             "colorbar": {
              "outlinewidth": 0,
              "ticks": ""
             }
            },
            "type": "scatterpolargl"
           }
          ],
          "scatterternary": [
           {
            "marker": {
             "colorbar": {
              "outlinewidth": 0,
              "ticks": ""
             }
            },
            "type": "scatterternary"
           }
          ],
          "surface": [
           {
            "colorbar": {
             "outlinewidth": 0,
             "ticks": ""
            },
            "colorscale": [
             [
              0,
              "#0d0887"
             ],
             [
              0.1111111111111111,
              "#46039f"
             ],
             [
              0.2222222222222222,
              "#7201a8"
             ],
             [
              0.3333333333333333,
              "#9c179e"
             ],
             [
              0.4444444444444444,
              "#bd3786"
             ],
             [
              0.5555555555555556,
              "#d8576b"
             ],
             [
              0.6666666666666666,
              "#ed7953"
             ],
             [
              0.7777777777777778,
              "#fb9f3a"
             ],
             [
              0.8888888888888888,
              "#fdca26"
             ],
             [
              1,
              "#f0f921"
             ]
            ],
            "type": "surface"
           }
          ],
          "table": [
           {
            "cells": {
             "fill": {
              "color": "#EBF0F8"
             },
             "line": {
              "color": "white"
             }
            },
            "header": {
             "fill": {
              "color": "#C8D4E3"
             },
             "line": {
              "color": "white"
             }
            },
            "type": "table"
           }
          ]
         },
         "layout": {
          "annotationdefaults": {
           "arrowcolor": "#2a3f5f",
           "arrowhead": 0,
           "arrowwidth": 1
          },
          "autotypenumbers": "strict",
          "coloraxis": {
           "colorbar": {
            "outlinewidth": 0,
            "ticks": ""
           }
          },
          "colorscale": {
           "diverging": [
            [
             0,
             "#8e0152"
            ],
            [
             0.1,
             "#c51b7d"
            ],
            [
             0.2,
             "#de77ae"
            ],
            [
             0.3,
             "#f1b6da"
            ],
            [
             0.4,
             "#fde0ef"
            ],
            [
             0.5,
             "#f7f7f7"
            ],
            [
             0.6,
             "#e6f5d0"
            ],
            [
             0.7,
             "#b8e186"
            ],
            [
             0.8,
             "#7fbc41"
            ],
            [
             0.9,
             "#4d9221"
            ],
            [
             1,
             "#276419"
            ]
           ],
           "sequential": [
            [
             0,
             "#0d0887"
            ],
            [
             0.1111111111111111,
             "#46039f"
            ],
            [
             0.2222222222222222,
             "#7201a8"
            ],
            [
             0.3333333333333333,
             "#9c179e"
            ],
            [
             0.4444444444444444,
             "#bd3786"
            ],
            [
             0.5555555555555556,
             "#d8576b"
            ],
            [
             0.6666666666666666,
             "#ed7953"
            ],
            [
             0.7777777777777778,
             "#fb9f3a"
            ],
            [
             0.8888888888888888,
             "#fdca26"
            ],
            [
             1,
             "#f0f921"
            ]
           ],
           "sequentialminus": [
            [
             0,
             "#0d0887"
            ],
            [
             0.1111111111111111,
             "#46039f"
            ],
            [
             0.2222222222222222,
             "#7201a8"
            ],
            [
             0.3333333333333333,
             "#9c179e"
            ],
            [
             0.4444444444444444,
             "#bd3786"
            ],
            [
             0.5555555555555556,
             "#d8576b"
            ],
            [
             0.6666666666666666,
             "#ed7953"
            ],
            [
             0.7777777777777778,
             "#fb9f3a"
            ],
            [
             0.8888888888888888,
             "#fdca26"
            ],
            [
             1,
             "#f0f921"
            ]
           ]
          },
          "colorway": [
           "#636efa",
           "#EF553B",
           "#00cc96",
           "#ab63fa",
           "#FFA15A",
           "#19d3f3",
           "#FF6692",
           "#B6E880",
           "#FF97FF",
           "#FECB52"
          ],
          "font": {
           "color": "#2a3f5f"
          },
          "geo": {
           "bgcolor": "white",
           "lakecolor": "white",
           "landcolor": "#E5ECF6",
           "showlakes": true,
           "showland": true,
           "subunitcolor": "white"
          },
          "hoverlabel": {
           "align": "left"
          },
          "hovermode": "closest",
          "mapbox": {
           "style": "light"
          },
          "paper_bgcolor": "white",
          "plot_bgcolor": "#E5ECF6",
          "polar": {
           "angularaxis": {
            "gridcolor": "white",
            "linecolor": "white",
            "ticks": ""
           },
           "bgcolor": "#E5ECF6",
           "radialaxis": {
            "gridcolor": "white",
            "linecolor": "white",
            "ticks": ""
           }
          },
          "scene": {
           "xaxis": {
            "backgroundcolor": "#E5ECF6",
            "gridcolor": "white",
            "gridwidth": 2,
            "linecolor": "white",
            "showbackground": true,
            "ticks": "",
            "zerolinecolor": "white"
           },
           "yaxis": {
            "backgroundcolor": "#E5ECF6",
            "gridcolor": "white",
            "gridwidth": 2,
            "linecolor": "white",
            "showbackground": true,
            "ticks": "",
            "zerolinecolor": "white"
           },
           "zaxis": {
            "backgroundcolor": "#E5ECF6",
            "gridcolor": "white",
            "gridwidth": 2,
            "linecolor": "white",
            "showbackground": true,
            "ticks": "",
            "zerolinecolor": "white"
           }
          },
          "shapedefaults": {
           "line": {
            "color": "#2a3f5f"
           }
          },
          "ternary": {
           "aaxis": {
            "gridcolor": "white",
            "linecolor": "white",
            "ticks": ""
           },
           "baxis": {
            "gridcolor": "white",
            "linecolor": "white",
            "ticks": ""
           },
           "bgcolor": "#E5ECF6",
           "caxis": {
            "gridcolor": "white",
            "linecolor": "white",
            "ticks": ""
           }
          },
          "title": {
           "x": 0.05
          },
          "xaxis": {
           "automargin": true,
           "gridcolor": "white",
           "linecolor": "white",
           "ticks": "",
           "title": {
            "standoff": 15
           },
           "zerolinecolor": "white",
           "zerolinewidth": 2
          },
          "yaxis": {
           "automargin": true,
           "gridcolor": "white",
           "linecolor": "white",
           "ticks": "",
           "title": {
            "standoff": 15
           },
           "zerolinecolor": "white",
           "zerolinewidth": 2
          }
         }
        }
       }
      }
     },
     "metadata": {},
     "output_type": "display_data"
    }
   ],
   "source": [
    "gastos_fev = pd.read_csv('cartao_pagamento_2022_orgaos/202202_CPGF.csv', encoding='latin1', delimiter=';')\n",
    "\n",
    "gastos_fev.loc[:, 'VALOR TRANSAÇÃO'] = pd.to_numeric(gastos_fev['VALOR TRANSAÇÃO'].str.replace(\",\", '.'), errors='coerce')\n",
    "\n",
    "gastos_por_orgao_fev = gastos_fev.groupby('NOME ÓRGÃO SUPERIOR').agg({'VALOR TRANSAÇÃO': sum}).reset_index()\n",
    "gastos_por_orgao_fev = gastos_por_orgao_fev.sort_values('VALOR TRANSAÇÃO', ascending=False).reset_index()\n",
    "\n",
    "df = pd.DataFrame(gastos_por_orgao_fev)\n",
    "df.to_csv(sep=',', index=False, header=True, path_or_buf='CPGF_2022_tables_tratadas/fev_2022.csv')\n",
    "\n",
    "fig_fev = px.treemap(gastos_por_orgao_fev, path=[px.Constant('Cartão de Pagamento do Governo Federal (CPGF)'), 'NOME ÓRGÃO SUPERIOR'], values='VALOR TRANSAÇÃO',\n",
    "                  color='NOME ÓRGÃO SUPERIOR')\n",
    "fig_fev.show()"
   ]
  },
  {
   "cell_type": "code",
   "execution_count": 22,
   "metadata": {},
   "outputs": [
    {
     "name": "stderr",
     "output_type": "stream",
     "text": [
      "/tmp/ipykernel_23205/90753977.py:3: FutureWarning:\n",
      "\n",
      "In a future version, `df.iloc[:, i] = newvals` will attempt to set the values inplace instead of always setting a new array. To retain the old behavior, use either `df[df.columns[i]] = newvals` or, if columns are non-unique, `df.isetitem(i, newvals)`\n",
      "\n"
     ]
    },
    {
     "data": {
      "application/vnd.plotly.v1+json": {
       "config": {
        "plotlyServerURL": "https://plot.ly"
       },
       "data": [
        {
         "branchvalues": "total",
         "customdata": [
          [
           "Ministério do Desenvolvimento Regional"
          ],
          [
           "Ministério das Comunicações"
          ],
          [
           "Ministério do Turismo"
          ],
          [
           "Ministério da Economia"
          ],
          [
           "Ministério de Minas e Energia"
          ],
          [
           "Ministério da Defesa"
          ],
          [
           "Controladoria-Geral da União"
          ],
          [
           "Ministério da Agricultura, Pecuária e Abastec"
          ],
          [
           "Ministério do Trabalho"
          ],
          [
           "Banco Central do Brasil - Orçamento Fiscal e "
          ],
          [
           "Ministério da Ciência, Tecnologia, Inovações "
          ],
          [
           "Ministério do Meio Ambiente"
          ],
          [
           "Ministério da Saúde"
          ],
          [
           "Ministério da Justiça e Segurança Pública"
          ],
          [
           "Ministério da Educação"
          ],
          [
           "Ministério da Infraestrutura"
          ],
          [
           "Presidência da República"
          ],
          [
           "Ministério do Trabalho e Emprego"
          ],
          [
           "Advocacia-Geral da União"
          ],
          [
           "(?)"
          ]
         ],
         "domain": {
          "x": [
           0,
           1
          ],
          "y": [
           0,
           1
          ]
         },
         "hovertemplate": "labels=%{label}<br>VALOR TRANSAÇÃO=%{value}<br>parent=%{parent}<br>id=%{id}<br>NOME ÓRGÃO SUPERIOR=%{customdata[0]}<extra></extra>",
         "ids": [
          "Cartão de Pagamento do Governo Federal (CPGF)/Ministério do Desenvolvimento Regional",
          "Cartão de Pagamento do Governo Federal (CPGF)/Ministério das Comunicações",
          "Cartão de Pagamento do Governo Federal (CPGF)/Ministério do Turismo",
          "Cartão de Pagamento do Governo Federal (CPGF)/Ministério da Economia",
          "Cartão de Pagamento do Governo Federal (CPGF)/Ministério de Minas e Energia",
          "Cartão de Pagamento do Governo Federal (CPGF)/Ministério da Defesa",
          "Cartão de Pagamento do Governo Federal (CPGF)/Controladoria-Geral da União",
          "Cartão de Pagamento do Governo Federal (CPGF)/Ministério da Agricultura, Pecuária e Abastec",
          "Cartão de Pagamento do Governo Federal (CPGF)/Ministério do Trabalho",
          "Cartão de Pagamento do Governo Federal (CPGF)/Banco Central do Brasil - Orçamento Fiscal e ",
          "Cartão de Pagamento do Governo Federal (CPGF)/Ministério da Ciência, Tecnologia, Inovações ",
          "Cartão de Pagamento do Governo Federal (CPGF)/Ministério do Meio Ambiente",
          "Cartão de Pagamento do Governo Federal (CPGF)/Ministério da Saúde",
          "Cartão de Pagamento do Governo Federal (CPGF)/Ministério da Justiça e Segurança Pública",
          "Cartão de Pagamento do Governo Federal (CPGF)/Ministério da Educação",
          "Cartão de Pagamento do Governo Federal (CPGF)/Ministério da Infraestrutura",
          "Cartão de Pagamento do Governo Federal (CPGF)/Presidência da República",
          "Cartão de Pagamento do Governo Federal (CPGF)/Ministério do Trabalho e Emprego",
          "Cartão de Pagamento do Governo Federal (CPGF)/Advocacia-Geral da União",
          "Cartão de Pagamento do Governo Federal (CPGF)"
         ],
         "labels": [
          "Ministério do Desenvolvimento Regional",
          "Ministério das Comunicações",
          "Ministério do Turismo",
          "Ministério da Economia",
          "Ministério de Minas e Energia",
          "Ministério da Defesa",
          "Controladoria-Geral da União",
          "Ministério da Agricultura, Pecuária e Abastec",
          "Ministério do Trabalho",
          "Banco Central do Brasil - Orçamento Fiscal e ",
          "Ministério da Ciência, Tecnologia, Inovações ",
          "Ministério do Meio Ambiente",
          "Ministério da Saúde",
          "Ministério da Justiça e Segurança Pública",
          "Ministério da Educação",
          "Ministério da Infraestrutura",
          "Presidência da República",
          "Ministério do Trabalho e Emprego",
          "Advocacia-Geral da União",
          "Cartão de Pagamento do Governo Federal (CPGF)"
         ],
         "marker": {
          "colors": [
           "#636efa",
           "#EF553B",
           "#00cc96",
           "#ab63fa",
           "#FFA15A",
           "#19d3f3",
           "#FF6692",
           "#B6E880",
           "#FF97FF",
           "#FECB52",
           "#636efa",
           "#EF553B",
           "#00cc96",
           "#ab63fa",
           "#FFA15A",
           "#19d3f3",
           "#FF6692",
           "#B6E880",
           "#FF97FF",
           "#FECB52"
          ]
         },
         "name": "",
         "parents": [
          "Cartão de Pagamento do Governo Federal (CPGF)",
          "Cartão de Pagamento do Governo Federal (CPGF)",
          "Cartão de Pagamento do Governo Federal (CPGF)",
          "Cartão de Pagamento do Governo Federal (CPGF)",
          "Cartão de Pagamento do Governo Federal (CPGF)",
          "Cartão de Pagamento do Governo Federal (CPGF)",
          "Cartão de Pagamento do Governo Federal (CPGF)",
          "Cartão de Pagamento do Governo Federal (CPGF)",
          "Cartão de Pagamento do Governo Federal (CPGF)",
          "Cartão de Pagamento do Governo Federal (CPGF)",
          "Cartão de Pagamento do Governo Federal (CPGF)",
          "Cartão de Pagamento do Governo Federal (CPGF)",
          "Cartão de Pagamento do Governo Federal (CPGF)",
          "Cartão de Pagamento do Governo Federal (CPGF)",
          "Cartão de Pagamento do Governo Federal (CPGF)",
          "Cartão de Pagamento do Governo Federal (CPGF)",
          "Cartão de Pagamento do Governo Federal (CPGF)",
          "Cartão de Pagamento do Governo Federal (CPGF)",
          "Cartão de Pagamento do Governo Federal (CPGF)",
          ""
         ],
         "type": "treemap",
         "values": [
          38289.95,
          12566.2,
          4417.66,
          497681.12,
          33478.17,
          149745.47,
          1753,
          100290.41,
          58328.44,
          28641.77,
          16333.42,
          82051.93000000001,
          154845.66,
          1438255.62,
          324837.98,
          5976.15,
          1801873.6300000001,
          495.72,
          13430.36,
          4763292.66
         ]
        }
       ],
       "layout": {
        "legend": {
         "tracegroupgap": 0
        },
        "margin": {
         "t": 60
        },
        "template": {
         "data": {
          "bar": [
           {
            "error_x": {
             "color": "#2a3f5f"
            },
            "error_y": {
             "color": "#2a3f5f"
            },
            "marker": {
             "line": {
              "color": "#E5ECF6",
              "width": 0.5
             },
             "pattern": {
              "fillmode": "overlay",
              "size": 10,
              "solidity": 0.2
             }
            },
            "type": "bar"
           }
          ],
          "barpolar": [
           {
            "marker": {
             "line": {
              "color": "#E5ECF6",
              "width": 0.5
             },
             "pattern": {
              "fillmode": "overlay",
              "size": 10,
              "solidity": 0.2
             }
            },
            "type": "barpolar"
           }
          ],
          "carpet": [
           {
            "aaxis": {
             "endlinecolor": "#2a3f5f",
             "gridcolor": "white",
             "linecolor": "white",
             "minorgridcolor": "white",
             "startlinecolor": "#2a3f5f"
            },
            "baxis": {
             "endlinecolor": "#2a3f5f",
             "gridcolor": "white",
             "linecolor": "white",
             "minorgridcolor": "white",
             "startlinecolor": "#2a3f5f"
            },
            "type": "carpet"
           }
          ],
          "choropleth": [
           {
            "colorbar": {
             "outlinewidth": 0,
             "ticks": ""
            },
            "type": "choropleth"
           }
          ],
          "contour": [
           {
            "colorbar": {
             "outlinewidth": 0,
             "ticks": ""
            },
            "colorscale": [
             [
              0,
              "#0d0887"
             ],
             [
              0.1111111111111111,
              "#46039f"
             ],
             [
              0.2222222222222222,
              "#7201a8"
             ],
             [
              0.3333333333333333,
              "#9c179e"
             ],
             [
              0.4444444444444444,
              "#bd3786"
             ],
             [
              0.5555555555555556,
              "#d8576b"
             ],
             [
              0.6666666666666666,
              "#ed7953"
             ],
             [
              0.7777777777777778,
              "#fb9f3a"
             ],
             [
              0.8888888888888888,
              "#fdca26"
             ],
             [
              1,
              "#f0f921"
             ]
            ],
            "type": "contour"
           }
          ],
          "contourcarpet": [
           {
            "colorbar": {
             "outlinewidth": 0,
             "ticks": ""
            },
            "type": "contourcarpet"
           }
          ],
          "heatmap": [
           {
            "colorbar": {
             "outlinewidth": 0,
             "ticks": ""
            },
            "colorscale": [
             [
              0,
              "#0d0887"
             ],
             [
              0.1111111111111111,
              "#46039f"
             ],
             [
              0.2222222222222222,
              "#7201a8"
             ],
             [
              0.3333333333333333,
              "#9c179e"
             ],
             [
              0.4444444444444444,
              "#bd3786"
             ],
             [
              0.5555555555555556,
              "#d8576b"
             ],
             [
              0.6666666666666666,
              "#ed7953"
             ],
             [
              0.7777777777777778,
              "#fb9f3a"
             ],
             [
              0.8888888888888888,
              "#fdca26"
             ],
             [
              1,
              "#f0f921"
             ]
            ],
            "type": "heatmap"
           }
          ],
          "heatmapgl": [
           {
            "colorbar": {
             "outlinewidth": 0,
             "ticks": ""
            },
            "colorscale": [
             [
              0,
              "#0d0887"
             ],
             [
              0.1111111111111111,
              "#46039f"
             ],
             [
              0.2222222222222222,
              "#7201a8"
             ],
             [
              0.3333333333333333,
              "#9c179e"
             ],
             [
              0.4444444444444444,
              "#bd3786"
             ],
             [
              0.5555555555555556,
              "#d8576b"
             ],
             [
              0.6666666666666666,
              "#ed7953"
             ],
             [
              0.7777777777777778,
              "#fb9f3a"
             ],
             [
              0.8888888888888888,
              "#fdca26"
             ],
             [
              1,
              "#f0f921"
             ]
            ],
            "type": "heatmapgl"
           }
          ],
          "histogram": [
           {
            "marker": {
             "pattern": {
              "fillmode": "overlay",
              "size": 10,
              "solidity": 0.2
             }
            },
            "type": "histogram"
           }
          ],
          "histogram2d": [
           {
            "colorbar": {
             "outlinewidth": 0,
             "ticks": ""
            },
            "colorscale": [
             [
              0,
              "#0d0887"
             ],
             [
              0.1111111111111111,
              "#46039f"
             ],
             [
              0.2222222222222222,
              "#7201a8"
             ],
             [
              0.3333333333333333,
              "#9c179e"
             ],
             [
              0.4444444444444444,
              "#bd3786"
             ],
             [
              0.5555555555555556,
              "#d8576b"
             ],
             [
              0.6666666666666666,
              "#ed7953"
             ],
             [
              0.7777777777777778,
              "#fb9f3a"
             ],
             [
              0.8888888888888888,
              "#fdca26"
             ],
             [
              1,
              "#f0f921"
             ]
            ],
            "type": "histogram2d"
           }
          ],
          "histogram2dcontour": [
           {
            "colorbar": {
             "outlinewidth": 0,
             "ticks": ""
            },
            "colorscale": [
             [
              0,
              "#0d0887"
             ],
             [
              0.1111111111111111,
              "#46039f"
             ],
             [
              0.2222222222222222,
              "#7201a8"
             ],
             [
              0.3333333333333333,
              "#9c179e"
             ],
             [
              0.4444444444444444,
              "#bd3786"
             ],
             [
              0.5555555555555556,
              "#d8576b"
             ],
             [
              0.6666666666666666,
              "#ed7953"
             ],
             [
              0.7777777777777778,
              "#fb9f3a"
             ],
             [
              0.8888888888888888,
              "#fdca26"
             ],
             [
              1,
              "#f0f921"
             ]
            ],
            "type": "histogram2dcontour"
           }
          ],
          "mesh3d": [
           {
            "colorbar": {
             "outlinewidth": 0,
             "ticks": ""
            },
            "type": "mesh3d"
           }
          ],
          "parcoords": [
           {
            "line": {
             "colorbar": {
              "outlinewidth": 0,
              "ticks": ""
             }
            },
            "type": "parcoords"
           }
          ],
          "pie": [
           {
            "automargin": true,
            "type": "pie"
           }
          ],
          "scatter": [
           {
            "fillpattern": {
             "fillmode": "overlay",
             "size": 10,
             "solidity": 0.2
            },
            "type": "scatter"
           }
          ],
          "scatter3d": [
           {
            "line": {
             "colorbar": {
              "outlinewidth": 0,
              "ticks": ""
             }
            },
            "marker": {
             "colorbar": {
              "outlinewidth": 0,
              "ticks": ""
             }
            },
            "type": "scatter3d"
           }
          ],
          "scattercarpet": [
           {
            "marker": {
             "colorbar": {
              "outlinewidth": 0,
              "ticks": ""
             }
            },
            "type": "scattercarpet"
           }
          ],
          "scattergeo": [
           {
            "marker": {
             "colorbar": {
              "outlinewidth": 0,
              "ticks": ""
             }
            },
            "type": "scattergeo"
           }
          ],
          "scattergl": [
           {
            "marker": {
             "colorbar": {
              "outlinewidth": 0,
              "ticks": ""
             }
            },
            "type": "scattergl"
           }
          ],
          "scattermapbox": [
           {
            "marker": {
             "colorbar": {
              "outlinewidth": 0,
              "ticks": ""
             }
            },
            "type": "scattermapbox"
           }
          ],
          "scatterpolar": [
           {
            "marker": {
             "colorbar": {
              "outlinewidth": 0,
              "ticks": ""
             }
            },
            "type": "scatterpolar"
           }
          ],
          "scatterpolargl": [
           {
            "marker": {
             "colorbar": {
              "outlinewidth": 0,
              "ticks": ""
             }
            },
            "type": "scatterpolargl"
           }
          ],
          "scatterternary": [
           {
            "marker": {
             "colorbar": {
              "outlinewidth": 0,
              "ticks": ""
             }
            },
            "type": "scatterternary"
           }
          ],
          "surface": [
           {
            "colorbar": {
             "outlinewidth": 0,
             "ticks": ""
            },
            "colorscale": [
             [
              0,
              "#0d0887"
             ],
             [
              0.1111111111111111,
              "#46039f"
             ],
             [
              0.2222222222222222,
              "#7201a8"
             ],
             [
              0.3333333333333333,
              "#9c179e"
             ],
             [
              0.4444444444444444,
              "#bd3786"
             ],
             [
              0.5555555555555556,
              "#d8576b"
             ],
             [
              0.6666666666666666,
              "#ed7953"
             ],
             [
              0.7777777777777778,
              "#fb9f3a"
             ],
             [
              0.8888888888888888,
              "#fdca26"
             ],
             [
              1,
              "#f0f921"
             ]
            ],
            "type": "surface"
           }
          ],
          "table": [
           {
            "cells": {
             "fill": {
              "color": "#EBF0F8"
             },
             "line": {
              "color": "white"
             }
            },
            "header": {
             "fill": {
              "color": "#C8D4E3"
             },
             "line": {
              "color": "white"
             }
            },
            "type": "table"
           }
          ]
         },
         "layout": {
          "annotationdefaults": {
           "arrowcolor": "#2a3f5f",
           "arrowhead": 0,
           "arrowwidth": 1
          },
          "autotypenumbers": "strict",
          "coloraxis": {
           "colorbar": {
            "outlinewidth": 0,
            "ticks": ""
           }
          },
          "colorscale": {
           "diverging": [
            [
             0,
             "#8e0152"
            ],
            [
             0.1,
             "#c51b7d"
            ],
            [
             0.2,
             "#de77ae"
            ],
            [
             0.3,
             "#f1b6da"
            ],
            [
             0.4,
             "#fde0ef"
            ],
            [
             0.5,
             "#f7f7f7"
            ],
            [
             0.6,
             "#e6f5d0"
            ],
            [
             0.7,
             "#b8e186"
            ],
            [
             0.8,
             "#7fbc41"
            ],
            [
             0.9,
             "#4d9221"
            ],
            [
             1,
             "#276419"
            ]
           ],
           "sequential": [
            [
             0,
             "#0d0887"
            ],
            [
             0.1111111111111111,
             "#46039f"
            ],
            [
             0.2222222222222222,
             "#7201a8"
            ],
            [
             0.3333333333333333,
             "#9c179e"
            ],
            [
             0.4444444444444444,
             "#bd3786"
            ],
            [
             0.5555555555555556,
             "#d8576b"
            ],
            [
             0.6666666666666666,
             "#ed7953"
            ],
            [
             0.7777777777777778,
             "#fb9f3a"
            ],
            [
             0.8888888888888888,
             "#fdca26"
            ],
            [
             1,
             "#f0f921"
            ]
           ],
           "sequentialminus": [
            [
             0,
             "#0d0887"
            ],
            [
             0.1111111111111111,
             "#46039f"
            ],
            [
             0.2222222222222222,
             "#7201a8"
            ],
            [
             0.3333333333333333,
             "#9c179e"
            ],
            [
             0.4444444444444444,
             "#bd3786"
            ],
            [
             0.5555555555555556,
             "#d8576b"
            ],
            [
             0.6666666666666666,
             "#ed7953"
            ],
            [
             0.7777777777777778,
             "#fb9f3a"
            ],
            [
             0.8888888888888888,
             "#fdca26"
            ],
            [
             1,
             "#f0f921"
            ]
           ]
          },
          "colorway": [
           "#636efa",
           "#EF553B",
           "#00cc96",
           "#ab63fa",
           "#FFA15A",
           "#19d3f3",
           "#FF6692",
           "#B6E880",
           "#FF97FF",
           "#FECB52"
          ],
          "font": {
           "color": "#2a3f5f"
          },
          "geo": {
           "bgcolor": "white",
           "lakecolor": "white",
           "landcolor": "#E5ECF6",
           "showlakes": true,
           "showland": true,
           "subunitcolor": "white"
          },
          "hoverlabel": {
           "align": "left"
          },
          "hovermode": "closest",
          "mapbox": {
           "style": "light"
          },
          "paper_bgcolor": "white",
          "plot_bgcolor": "#E5ECF6",
          "polar": {
           "angularaxis": {
            "gridcolor": "white",
            "linecolor": "white",
            "ticks": ""
           },
           "bgcolor": "#E5ECF6",
           "radialaxis": {
            "gridcolor": "white",
            "linecolor": "white",
            "ticks": ""
           }
          },
          "scene": {
           "xaxis": {
            "backgroundcolor": "#E5ECF6",
            "gridcolor": "white",
            "gridwidth": 2,
            "linecolor": "white",
            "showbackground": true,
            "ticks": "",
            "zerolinecolor": "white"
           },
           "yaxis": {
            "backgroundcolor": "#E5ECF6",
            "gridcolor": "white",
            "gridwidth": 2,
            "linecolor": "white",
            "showbackground": true,
            "ticks": "",
            "zerolinecolor": "white"
           },
           "zaxis": {
            "backgroundcolor": "#E5ECF6",
            "gridcolor": "white",
            "gridwidth": 2,
            "linecolor": "white",
            "showbackground": true,
            "ticks": "",
            "zerolinecolor": "white"
           }
          },
          "shapedefaults": {
           "line": {
            "color": "#2a3f5f"
           }
          },
          "ternary": {
           "aaxis": {
            "gridcolor": "white",
            "linecolor": "white",
            "ticks": ""
           },
           "baxis": {
            "gridcolor": "white",
            "linecolor": "white",
            "ticks": ""
           },
           "bgcolor": "#E5ECF6",
           "caxis": {
            "gridcolor": "white",
            "linecolor": "white",
            "ticks": ""
           }
          },
          "title": {
           "x": 0.05
          },
          "xaxis": {
           "automargin": true,
           "gridcolor": "white",
           "linecolor": "white",
           "ticks": "",
           "title": {
            "standoff": 15
           },
           "zerolinecolor": "white",
           "zerolinewidth": 2
          },
          "yaxis": {
           "automargin": true,
           "gridcolor": "white",
           "linecolor": "white",
           "ticks": "",
           "title": {
            "standoff": 15
           },
           "zerolinecolor": "white",
           "zerolinewidth": 2
          }
         }
        }
       }
      }
     },
     "metadata": {},
     "output_type": "display_data"
    }
   ],
   "source": [
    "gastos_mar = pd.read_csv('cartao_pagamento_2022_orgaos/202203_CPGF.csv', encoding='latin1', delimiter=';')\n",
    "\n",
    "gastos_mar.loc[:, 'VALOR TRANSAÇÃO'] = pd.to_numeric(gastos_mar['VALOR TRANSAÇÃO'].str.replace(\",\", '.'), errors='coerce')\n",
    "\n",
    "gastos_por_orgao_mar = gastos_mar.groupby('NOME ÓRGÃO SUPERIOR').agg({'VALOR TRANSAÇÃO': sum}).reset_index()\n",
    "gastos_por_orgao_mar = gastos_por_orgao_mar.sort_values('VALOR TRANSAÇÃO', ascending=False).reset_index()\n",
    "\n",
    "df = pd.DataFrame(gastos_por_orgao_mar)\n",
    "df.to_csv(sep=',', index=False, header=True, path_or_buf='CPGF_2022_tables_tratadas/mar_2022.csv')\n",
    "\n",
    "fig_mar = px.treemap(gastos_por_orgao_mar, path=[px.Constant('Cartão de Pagamento do Governo Federal (CPGF)'), 'NOME ÓRGÃO SUPERIOR'], values='VALOR TRANSAÇÃO',\n",
    "                  color='NOME ÓRGÃO SUPERIOR')\n",
    "fig_mar.show()"
   ]
  },
  {
   "cell_type": "code",
   "execution_count": 27,
   "metadata": {},
   "outputs": [
    {
     "name": "stderr",
     "output_type": "stream",
     "text": [
      "/tmp/ipykernel_23205/3014667957.py:3: FutureWarning:\n",
      "\n",
      "In a future version, `df.iloc[:, i] = newvals` will attempt to set the values inplace instead of always setting a new array. To retain the old behavior, use either `df[df.columns[i]] = newvals` or, if columns are non-unique, `df.isetitem(i, newvals)`\n",
      "\n"
     ]
    },
    {
     "data": {
      "application/vnd.plotly.v1+json": {
       "config": {
        "plotlyServerURL": "https://plot.ly"
       },
       "data": [
        {
         "branchvalues": "total",
         "customdata": [
          [
           "Ministério de Minas e Energia"
          ],
          [
           "Ministério das Relações Exteriores"
          ],
          [
           "Ministério da Economia"
          ],
          [
           "Ministério da Saúde"
          ],
          [
           "Ministério da Infraestrutura"
          ],
          [
           "Ministério da Agricultura, Pecuária e Abastec"
          ],
          [
           "Ministério da Ciência, Tecnologia, Inovações "
          ],
          [
           "Ministério do Desenvolvimento Regional"
          ],
          [
           "Banco Central do Brasil - Orçamento Fiscal e "
          ],
          [
           "Ministério do Turismo"
          ],
          [
           "Ministério da Educação"
          ],
          [
           "Ministério do Trabalho"
          ],
          [
           "Ministério do Meio Ambiente"
          ],
          [
           "Ministério das Comunicações"
          ],
          [
           "Ministério da Mulher, Família e Direitos Huma"
          ],
          [
           "Ministério da Defesa"
          ],
          [
           "Ministério da Justiça e Segurança Pública"
          ],
          [
           "Presidência da República"
          ],
          [
           "Ministério do Trabalho e Emprego"
          ],
          [
           "Advocacia-Geral da União"
          ],
          [
           "(?)"
          ]
         ],
         "domain": {
          "x": [
           0,
           1
          ],
          "y": [
           0,
           1
          ]
         },
         "hovertemplate": "labels=%{label}<br>VALOR TRANSAÇÃO=%{value}<br>parent=%{parent}<br>id=%{id}<br>NOME ÓRGÃO SUPERIOR=%{customdata[0]}<extra></extra>",
         "ids": [
          "Cartão de Pagamento do Governo Federal (CPGF)/Ministério de Minas e Energia",
          "Cartão de Pagamento do Governo Federal (CPGF)/Ministério das Relações Exteriores",
          "Cartão de Pagamento do Governo Federal (CPGF)/Ministério da Economia",
          "Cartão de Pagamento do Governo Federal (CPGF)/Ministério da Saúde",
          "Cartão de Pagamento do Governo Federal (CPGF)/Ministério da Infraestrutura",
          "Cartão de Pagamento do Governo Federal (CPGF)/Ministério da Agricultura, Pecuária e Abastec",
          "Cartão de Pagamento do Governo Federal (CPGF)/Ministério da Ciência, Tecnologia, Inovações ",
          "Cartão de Pagamento do Governo Federal (CPGF)/Ministério do Desenvolvimento Regional",
          "Cartão de Pagamento do Governo Federal (CPGF)/Banco Central do Brasil - Orçamento Fiscal e ",
          "Cartão de Pagamento do Governo Federal (CPGF)/Ministério do Turismo",
          "Cartão de Pagamento do Governo Federal (CPGF)/Ministério da Educação",
          "Cartão de Pagamento do Governo Federal (CPGF)/Ministério do Trabalho",
          "Cartão de Pagamento do Governo Federal (CPGF)/Ministério do Meio Ambiente",
          "Cartão de Pagamento do Governo Federal (CPGF)/Ministério das Comunicações",
          "Cartão de Pagamento do Governo Federal (CPGF)/Ministério da Mulher, Família e Direitos Huma",
          "Cartão de Pagamento do Governo Federal (CPGF)/Ministério da Defesa",
          "Cartão de Pagamento do Governo Federal (CPGF)/Ministério da Justiça e Segurança Pública",
          "Cartão de Pagamento do Governo Federal (CPGF)/Presidência da República",
          "Cartão de Pagamento do Governo Federal (CPGF)/Ministério do Trabalho e Emprego",
          "Cartão de Pagamento do Governo Federal (CPGF)/Advocacia-Geral da União",
          "Cartão de Pagamento do Governo Federal (CPGF)"
         ],
         "labels": [
          "Ministério de Minas e Energia",
          "Ministério das Relações Exteriores",
          "Ministério da Economia",
          "Ministério da Saúde",
          "Ministério da Infraestrutura",
          "Ministério da Agricultura, Pecuária e Abastec",
          "Ministério da Ciência, Tecnologia, Inovações ",
          "Ministério do Desenvolvimento Regional",
          "Banco Central do Brasil - Orçamento Fiscal e ",
          "Ministério do Turismo",
          "Ministério da Educação",
          "Ministério do Trabalho",
          "Ministério do Meio Ambiente",
          "Ministério das Comunicações",
          "Ministério da Mulher, Família e Direitos Huma",
          "Ministério da Defesa",
          "Ministério da Justiça e Segurança Pública",
          "Presidência da República",
          "Ministério do Trabalho e Emprego",
          "Advocacia-Geral da União",
          "Cartão de Pagamento do Governo Federal (CPGF)"
         ],
         "marker": {
          "colors": [
           "#636efa",
           "#EF553B",
           "#00cc96",
           "#ab63fa",
           "#FFA15A",
           "#19d3f3",
           "#FF6692",
           "#B6E880",
           "#FF97FF",
           "#FECB52",
           "#636efa",
           "#EF553B",
           "#00cc96",
           "#ab63fa",
           "#FFA15A",
           "#19d3f3",
           "#FF6692",
           "#B6E880",
           "#FF97FF",
           "#FECB52",
           "#636efa"
          ]
         },
         "name": "",
         "parents": [
          "Cartão de Pagamento do Governo Federal (CPGF)",
          "Cartão de Pagamento do Governo Federal (CPGF)",
          "Cartão de Pagamento do Governo Federal (CPGF)",
          "Cartão de Pagamento do Governo Federal (CPGF)",
          "Cartão de Pagamento do Governo Federal (CPGF)",
          "Cartão de Pagamento do Governo Federal (CPGF)",
          "Cartão de Pagamento do Governo Federal (CPGF)",
          "Cartão de Pagamento do Governo Federal (CPGF)",
          "Cartão de Pagamento do Governo Federal (CPGF)",
          "Cartão de Pagamento do Governo Federal (CPGF)",
          "Cartão de Pagamento do Governo Federal (CPGF)",
          "Cartão de Pagamento do Governo Federal (CPGF)",
          "Cartão de Pagamento do Governo Federal (CPGF)",
          "Cartão de Pagamento do Governo Federal (CPGF)",
          "Cartão de Pagamento do Governo Federal (CPGF)",
          "Cartão de Pagamento do Governo Federal (CPGF)",
          "Cartão de Pagamento do Governo Federal (CPGF)",
          "Cartão de Pagamento do Governo Federal (CPGF)",
          "Cartão de Pagamento do Governo Federal (CPGF)",
          "Cartão de Pagamento do Governo Federal (CPGF)",
          ""
         ],
         "type": "treemap",
         "values": [
          43283.24,
          12863.2,
          777202.29,
          179868.28,
          15263.17,
          199148.1,
          47074.84,
          74213.82,
          28886.55,
          8218.73,
          664002.16,
          92312.98,
          201597.84,
          12287.11,
          1996,
          178718.33,
          1383458.68,
          2225082.28,
          568.2,
          21355.09,
          6167400.89
         ]
        }
       ],
       "layout": {
        "legend": {
         "tracegroupgap": 0
        },
        "margin": {
         "t": 60
        },
        "template": {
         "data": {
          "bar": [
           {
            "error_x": {
             "color": "#2a3f5f"
            },
            "error_y": {
             "color": "#2a3f5f"
            },
            "marker": {
             "line": {
              "color": "#E5ECF6",
              "width": 0.5
             },
             "pattern": {
              "fillmode": "overlay",
              "size": 10,
              "solidity": 0.2
             }
            },
            "type": "bar"
           }
          ],
          "barpolar": [
           {
            "marker": {
             "line": {
              "color": "#E5ECF6",
              "width": 0.5
             },
             "pattern": {
              "fillmode": "overlay",
              "size": 10,
              "solidity": 0.2
             }
            },
            "type": "barpolar"
           }
          ],
          "carpet": [
           {
            "aaxis": {
             "endlinecolor": "#2a3f5f",
             "gridcolor": "white",
             "linecolor": "white",
             "minorgridcolor": "white",
             "startlinecolor": "#2a3f5f"
            },
            "baxis": {
             "endlinecolor": "#2a3f5f",
             "gridcolor": "white",
             "linecolor": "white",
             "minorgridcolor": "white",
             "startlinecolor": "#2a3f5f"
            },
            "type": "carpet"
           }
          ],
          "choropleth": [
           {
            "colorbar": {
             "outlinewidth": 0,
             "ticks": ""
            },
            "type": "choropleth"
           }
          ],
          "contour": [
           {
            "colorbar": {
             "outlinewidth": 0,
             "ticks": ""
            },
            "colorscale": [
             [
              0,
              "#0d0887"
             ],
             [
              0.1111111111111111,
              "#46039f"
             ],
             [
              0.2222222222222222,
              "#7201a8"
             ],
             [
              0.3333333333333333,
              "#9c179e"
             ],
             [
              0.4444444444444444,
              "#bd3786"
             ],
             [
              0.5555555555555556,
              "#d8576b"
             ],
             [
              0.6666666666666666,
              "#ed7953"
             ],
             [
              0.7777777777777778,
              "#fb9f3a"
             ],
             [
              0.8888888888888888,
              "#fdca26"
             ],
             [
              1,
              "#f0f921"
             ]
            ],
            "type": "contour"
           }
          ],
          "contourcarpet": [
           {
            "colorbar": {
             "outlinewidth": 0,
             "ticks": ""
            },
            "type": "contourcarpet"
           }
          ],
          "heatmap": [
           {
            "colorbar": {
             "outlinewidth": 0,
             "ticks": ""
            },
            "colorscale": [
             [
              0,
              "#0d0887"
             ],
             [
              0.1111111111111111,
              "#46039f"
             ],
             [
              0.2222222222222222,
              "#7201a8"
             ],
             [
              0.3333333333333333,
              "#9c179e"
             ],
             [
              0.4444444444444444,
              "#bd3786"
             ],
             [
              0.5555555555555556,
              "#d8576b"
             ],
             [
              0.6666666666666666,
              "#ed7953"
             ],
             [
              0.7777777777777778,
              "#fb9f3a"
             ],
             [
              0.8888888888888888,
              "#fdca26"
             ],
             [
              1,
              "#f0f921"
             ]
            ],
            "type": "heatmap"
           }
          ],
          "heatmapgl": [
           {
            "colorbar": {
             "outlinewidth": 0,
             "ticks": ""
            },
            "colorscale": [
             [
              0,
              "#0d0887"
             ],
             [
              0.1111111111111111,
              "#46039f"
             ],
             [
              0.2222222222222222,
              "#7201a8"
             ],
             [
              0.3333333333333333,
              "#9c179e"
             ],
             [
              0.4444444444444444,
              "#bd3786"
             ],
             [
              0.5555555555555556,
              "#d8576b"
             ],
             [
              0.6666666666666666,
              "#ed7953"
             ],
             [
              0.7777777777777778,
              "#fb9f3a"
             ],
             [
              0.8888888888888888,
              "#fdca26"
             ],
             [
              1,
              "#f0f921"
             ]
            ],
            "type": "heatmapgl"
           }
          ],
          "histogram": [
           {
            "marker": {
             "pattern": {
              "fillmode": "overlay",
              "size": 10,
              "solidity": 0.2
             }
            },
            "type": "histogram"
           }
          ],
          "histogram2d": [
           {
            "colorbar": {
             "outlinewidth": 0,
             "ticks": ""
            },
            "colorscale": [
             [
              0,
              "#0d0887"
             ],
             [
              0.1111111111111111,
              "#46039f"
             ],
             [
              0.2222222222222222,
              "#7201a8"
             ],
             [
              0.3333333333333333,
              "#9c179e"
             ],
             [
              0.4444444444444444,
              "#bd3786"
             ],
             [
              0.5555555555555556,
              "#d8576b"
             ],
             [
              0.6666666666666666,
              "#ed7953"
             ],
             [
              0.7777777777777778,
              "#fb9f3a"
             ],
             [
              0.8888888888888888,
              "#fdca26"
             ],
             [
              1,
              "#f0f921"
             ]
            ],
            "type": "histogram2d"
           }
          ],
          "histogram2dcontour": [
           {
            "colorbar": {
             "outlinewidth": 0,
             "ticks": ""
            },
            "colorscale": [
             [
              0,
              "#0d0887"
             ],
             [
              0.1111111111111111,
              "#46039f"
             ],
             [
              0.2222222222222222,
              "#7201a8"
             ],
             [
              0.3333333333333333,
              "#9c179e"
             ],
             [
              0.4444444444444444,
              "#bd3786"
             ],
             [
              0.5555555555555556,
              "#d8576b"
             ],
             [
              0.6666666666666666,
              "#ed7953"
             ],
             [
              0.7777777777777778,
              "#fb9f3a"
             ],
             [
              0.8888888888888888,
              "#fdca26"
             ],
             [
              1,
              "#f0f921"
             ]
            ],
            "type": "histogram2dcontour"
           }
          ],
          "mesh3d": [
           {
            "colorbar": {
             "outlinewidth": 0,
             "ticks": ""
            },
            "type": "mesh3d"
           }
          ],
          "parcoords": [
           {
            "line": {
             "colorbar": {
              "outlinewidth": 0,
              "ticks": ""
             }
            },
            "type": "parcoords"
           }
          ],
          "pie": [
           {
            "automargin": true,
            "type": "pie"
           }
          ],
          "scatter": [
           {
            "fillpattern": {
             "fillmode": "overlay",
             "size": 10,
             "solidity": 0.2
            },
            "type": "scatter"
           }
          ],
          "scatter3d": [
           {
            "line": {
             "colorbar": {
              "outlinewidth": 0,
              "ticks": ""
             }
            },
            "marker": {
             "colorbar": {
              "outlinewidth": 0,
              "ticks": ""
             }
            },
            "type": "scatter3d"
           }
          ],
          "scattercarpet": [
           {
            "marker": {
             "colorbar": {
              "outlinewidth": 0,
              "ticks": ""
             }
            },
            "type": "scattercarpet"
           }
          ],
          "scattergeo": [
           {
            "marker": {
             "colorbar": {
              "outlinewidth": 0,
              "ticks": ""
             }
            },
            "type": "scattergeo"
           }
          ],
          "scattergl": [
           {
            "marker": {
             "colorbar": {
              "outlinewidth": 0,
              "ticks": ""
             }
            },
            "type": "scattergl"
           }
          ],
          "scattermapbox": [
           {
            "marker": {
             "colorbar": {
              "outlinewidth": 0,
              "ticks": ""
             }
            },
            "type": "scattermapbox"
           }
          ],
          "scatterpolar": [
           {
            "marker": {
             "colorbar": {
              "outlinewidth": 0,
              "ticks": ""
             }
            },
            "type": "scatterpolar"
           }
          ],
          "scatterpolargl": [
           {
            "marker": {
             "colorbar": {
              "outlinewidth": 0,
              "ticks": ""
             }
            },
            "type": "scatterpolargl"
           }
          ],
          "scatterternary": [
           {
            "marker": {
             "colorbar": {
              "outlinewidth": 0,
              "ticks": ""
             }
            },
            "type": "scatterternary"
           }
          ],
          "surface": [
           {
            "colorbar": {
             "outlinewidth": 0,
             "ticks": ""
            },
            "colorscale": [
             [
              0,
              "#0d0887"
             ],
             [
              0.1111111111111111,
              "#46039f"
             ],
             [
              0.2222222222222222,
              "#7201a8"
             ],
             [
              0.3333333333333333,
              "#9c179e"
             ],
             [
              0.4444444444444444,
              "#bd3786"
             ],
             [
              0.5555555555555556,
              "#d8576b"
             ],
             [
              0.6666666666666666,
              "#ed7953"
             ],
             [
              0.7777777777777778,
              "#fb9f3a"
             ],
             [
              0.8888888888888888,
              "#fdca26"
             ],
             [
              1,
              "#f0f921"
             ]
            ],
            "type": "surface"
           }
          ],
          "table": [
           {
            "cells": {
             "fill": {
              "color": "#EBF0F8"
             },
             "line": {
              "color": "white"
             }
            },
            "header": {
             "fill": {
              "color": "#C8D4E3"
             },
             "line": {
              "color": "white"
             }
            },
            "type": "table"
           }
          ]
         },
         "layout": {
          "annotationdefaults": {
           "arrowcolor": "#2a3f5f",
           "arrowhead": 0,
           "arrowwidth": 1
          },
          "autotypenumbers": "strict",
          "coloraxis": {
           "colorbar": {
            "outlinewidth": 0,
            "ticks": ""
           }
          },
          "colorscale": {
           "diverging": [
            [
             0,
             "#8e0152"
            ],
            [
             0.1,
             "#c51b7d"
            ],
            [
             0.2,
             "#de77ae"
            ],
            [
             0.3,
             "#f1b6da"
            ],
            [
             0.4,
             "#fde0ef"
            ],
            [
             0.5,
             "#f7f7f7"
            ],
            [
             0.6,
             "#e6f5d0"
            ],
            [
             0.7,
             "#b8e186"
            ],
            [
             0.8,
             "#7fbc41"
            ],
            [
             0.9,
             "#4d9221"
            ],
            [
             1,
             "#276419"
            ]
           ],
           "sequential": [
            [
             0,
             "#0d0887"
            ],
            [
             0.1111111111111111,
             "#46039f"
            ],
            [
             0.2222222222222222,
             "#7201a8"
            ],
            [
             0.3333333333333333,
             "#9c179e"
            ],
            [
             0.4444444444444444,
             "#bd3786"
            ],
            [
             0.5555555555555556,
             "#d8576b"
            ],
            [
             0.6666666666666666,
             "#ed7953"
            ],
            [
             0.7777777777777778,
             "#fb9f3a"
            ],
            [
             0.8888888888888888,
             "#fdca26"
            ],
            [
             1,
             "#f0f921"
            ]
           ],
           "sequentialminus": [
            [
             0,
             "#0d0887"
            ],
            [
             0.1111111111111111,
             "#46039f"
            ],
            [
             0.2222222222222222,
             "#7201a8"
            ],
            [
             0.3333333333333333,
             "#9c179e"
            ],
            [
             0.4444444444444444,
             "#bd3786"
            ],
            [
             0.5555555555555556,
             "#d8576b"
            ],
            [
             0.6666666666666666,
             "#ed7953"
            ],
            [
             0.7777777777777778,
             "#fb9f3a"
            ],
            [
             0.8888888888888888,
             "#fdca26"
            ],
            [
             1,
             "#f0f921"
            ]
           ]
          },
          "colorway": [
           "#636efa",
           "#EF553B",
           "#00cc96",
           "#ab63fa",
           "#FFA15A",
           "#19d3f3",
           "#FF6692",
           "#B6E880",
           "#FF97FF",
           "#FECB52"
          ],
          "font": {
           "color": "#2a3f5f"
          },
          "geo": {
           "bgcolor": "white",
           "lakecolor": "white",
           "landcolor": "#E5ECF6",
           "showlakes": true,
           "showland": true,
           "subunitcolor": "white"
          },
          "hoverlabel": {
           "align": "left"
          },
          "hovermode": "closest",
          "mapbox": {
           "style": "light"
          },
          "paper_bgcolor": "white",
          "plot_bgcolor": "#E5ECF6",
          "polar": {
           "angularaxis": {
            "gridcolor": "white",
            "linecolor": "white",
            "ticks": ""
           },
           "bgcolor": "#E5ECF6",
           "radialaxis": {
            "gridcolor": "white",
            "linecolor": "white",
            "ticks": ""
           }
          },
          "scene": {
           "xaxis": {
            "backgroundcolor": "#E5ECF6",
            "gridcolor": "white",
            "gridwidth": 2,
            "linecolor": "white",
            "showbackground": true,
            "ticks": "",
            "zerolinecolor": "white"
           },
           "yaxis": {
            "backgroundcolor": "#E5ECF6",
            "gridcolor": "white",
            "gridwidth": 2,
            "linecolor": "white",
            "showbackground": true,
            "ticks": "",
            "zerolinecolor": "white"
           },
           "zaxis": {
            "backgroundcolor": "#E5ECF6",
            "gridcolor": "white",
            "gridwidth": 2,
            "linecolor": "white",
            "showbackground": true,
            "ticks": "",
            "zerolinecolor": "white"
           }
          },
          "shapedefaults": {
           "line": {
            "color": "#2a3f5f"
           }
          },
          "ternary": {
           "aaxis": {
            "gridcolor": "white",
            "linecolor": "white",
            "ticks": ""
           },
           "baxis": {
            "gridcolor": "white",
            "linecolor": "white",
            "ticks": ""
           },
           "bgcolor": "#E5ECF6",
           "caxis": {
            "gridcolor": "white",
            "linecolor": "white",
            "ticks": ""
           }
          },
          "title": {
           "x": 0.05
          },
          "xaxis": {
           "automargin": true,
           "gridcolor": "white",
           "linecolor": "white",
           "ticks": "",
           "title": {
            "standoff": 15
           },
           "zerolinecolor": "white",
           "zerolinewidth": 2
          },
          "yaxis": {
           "automargin": true,
           "gridcolor": "white",
           "linecolor": "white",
           "ticks": "",
           "title": {
            "standoff": 15
           },
           "zerolinecolor": "white",
           "zerolinewidth": 2
          }
         }
        }
       }
      }
     },
     "metadata": {},
     "output_type": "display_data"
    }
   ],
   "source": [
    "gastos_abr = pd.read_csv('cartao_pagamento_2022_orgaos/202204_CPGF.csv', encoding='latin1', delimiter=';')\n",
    "\n",
    "gastos_abr.loc[:, 'VALOR TRANSAÇÃO'] = pd.to_numeric(gastos_abr['VALOR TRANSAÇÃO'].str.replace(\",\", '.'), errors='coerce')\n",
    "\n",
    "gastos_por_orgao_abr = gastos_abr.groupby('NOME ÓRGÃO SUPERIOR').agg({'VALOR TRANSAÇÃO': sum}).reset_index()\n",
    "gastos_por_orgao_abr = gastos_por_orgao_abr.sort_values('VALOR TRANSAÇÃO', ascending=False).reset_index()\n",
    "\n",
    "df = pd.DataFrame(gastos_por_orgao_abr)\n",
    "df.to_csv(sep=',', index=False, header=True, path_or_buf='CPGF_2022_tables_tratadas/abr_2022.csv')\n",
    "\n",
    "fig_abr = px.treemap(gastos_por_orgao_abr, path=[px.Constant('Cartão de Pagamento do Governo Federal (CPGF)'), 'NOME ÓRGÃO SUPERIOR'], values='VALOR TRANSAÇÃO',\n",
    "                  color='NOME ÓRGÃO SUPERIOR')\n",
    "fig_abr.show()"
   ]
  },
  {
   "cell_type": "code",
   "execution_count": 26,
   "metadata": {},
   "outputs": [
    {
     "name": "stderr",
     "output_type": "stream",
     "text": [
      "/tmp/ipykernel_23205/2229688470.py:3: FutureWarning:\n",
      "\n",
      "In a future version, `df.iloc[:, i] = newvals` will attempt to set the values inplace instead of always setting a new array. To retain the old behavior, use either `df[df.columns[i]] = newvals` or, if columns are non-unique, `df.isetitem(i, newvals)`\n",
      "\n"
     ]
    },
    {
     "data": {
      "application/vnd.plotly.v1+json": {
       "config": {
        "plotlyServerURL": "https://plot.ly"
       },
       "data": [
        {
         "branchvalues": "total",
         "customdata": [
          [
           "Ministério das Comunicações"
          ],
          [
           "Ministério das Relações Exteriores"
          ],
          [
           "Ministério do Trabalho e Emprego"
          ],
          [
           "Ministério da Ciência, Tecnologia, Inovações "
          ],
          [
           "Ministério da Saúde"
          ],
          [
           "Ministério da Defesa"
          ],
          [
           "Ministério da Agricultura, Pecuária e Abastec"
          ],
          [
           "Controladoria-Geral da União"
          ],
          [
           "Ministério de Minas e Energia"
          ],
          [
           "Banco Central do Brasil - Orçamento Fiscal e "
          ],
          [
           "Presidência da República"
          ],
          [
           "Ministério da Economia"
          ],
          [
           "Ministério do Trabalho"
          ],
          [
           "Ministério do Meio Ambiente"
          ],
          [
           "Ministério da Mulher, Família e Direitos Huma"
          ],
          [
           "Ministério da Justiça e Segurança Pública"
          ],
          [
           "Ministério da Educação"
          ],
          [
           "Ministério da Infraestrutura"
          ],
          [
           "Ministério do Turismo"
          ],
          [
           "Ministério do Desenvolvimento Regional"
          ],
          [
           "Advocacia-Geral da União"
          ],
          [
           "(?)"
          ]
         ],
         "domain": {
          "x": [
           0,
           1
          ],
          "y": [
           0,
           1
          ]
         },
         "hovertemplate": "labels=%{label}<br>VALOR TRANSAÇÃO=%{value}<br>parent=%{parent}<br>id=%{id}<br>NOME ÓRGÃO SUPERIOR=%{customdata[0]}<extra></extra>",
         "ids": [
          "Cartão de Pagamento do Governo Federal (CPGF)/Ministério das Comunicações",
          "Cartão de Pagamento do Governo Federal (CPGF)/Ministério das Relações Exteriores",
          "Cartão de Pagamento do Governo Federal (CPGF)/Ministério do Trabalho e Emprego",
          "Cartão de Pagamento do Governo Federal (CPGF)/Ministério da Ciência, Tecnologia, Inovações ",
          "Cartão de Pagamento do Governo Federal (CPGF)/Ministério da Saúde",
          "Cartão de Pagamento do Governo Federal (CPGF)/Ministério da Defesa",
          "Cartão de Pagamento do Governo Federal (CPGF)/Ministério da Agricultura, Pecuária e Abastec",
          "Cartão de Pagamento do Governo Federal (CPGF)/Controladoria-Geral da União",
          "Cartão de Pagamento do Governo Federal (CPGF)/Ministério de Minas e Energia",
          "Cartão de Pagamento do Governo Federal (CPGF)/Banco Central do Brasil - Orçamento Fiscal e ",
          "Cartão de Pagamento do Governo Federal (CPGF)/Presidência da República",
          "Cartão de Pagamento do Governo Federal (CPGF)/Ministério da Economia",
          "Cartão de Pagamento do Governo Federal (CPGF)/Ministério do Trabalho",
          "Cartão de Pagamento do Governo Federal (CPGF)/Ministério do Meio Ambiente",
          "Cartão de Pagamento do Governo Federal (CPGF)/Ministério da Mulher, Família e Direitos Huma",
          "Cartão de Pagamento do Governo Federal (CPGF)/Ministério da Justiça e Segurança Pública",
          "Cartão de Pagamento do Governo Federal (CPGF)/Ministério da Educação",
          "Cartão de Pagamento do Governo Federal (CPGF)/Ministério da Infraestrutura",
          "Cartão de Pagamento do Governo Federal (CPGF)/Ministério do Turismo",
          "Cartão de Pagamento do Governo Federal (CPGF)/Ministério do Desenvolvimento Regional",
          "Cartão de Pagamento do Governo Federal (CPGF)/Advocacia-Geral da União",
          "Cartão de Pagamento do Governo Federal (CPGF)"
         ],
         "labels": [
          "Ministério das Comunicações",
          "Ministério das Relações Exteriores",
          "Ministério do Trabalho e Emprego",
          "Ministério da Ciência, Tecnologia, Inovações ",
          "Ministério da Saúde",
          "Ministério da Defesa",
          "Ministério da Agricultura, Pecuária e Abastec",
          "Controladoria-Geral da União",
          "Ministério de Minas e Energia",
          "Banco Central do Brasil - Orçamento Fiscal e ",
          "Presidência da República",
          "Ministério da Economia",
          "Ministério do Trabalho",
          "Ministério do Meio Ambiente",
          "Ministério da Mulher, Família e Direitos Huma",
          "Ministério da Justiça e Segurança Pública",
          "Ministério da Educação",
          "Ministério da Infraestrutura",
          "Ministério do Turismo",
          "Ministério do Desenvolvimento Regional",
          "Advocacia-Geral da União",
          "Cartão de Pagamento do Governo Federal (CPGF)"
         ],
         "marker": {
          "colors": [
           "#636efa",
           "#EF553B",
           "#00cc96",
           "#ab63fa",
           "#FFA15A",
           "#19d3f3",
           "#FF6692",
           "#B6E880",
           "#FF97FF",
           "#FECB52",
           "#636efa",
           "#EF553B",
           "#00cc96",
           "#ab63fa",
           "#FFA15A",
           "#19d3f3",
           "#FF6692",
           "#B6E880",
           "#FF97FF",
           "#FECB52",
           "#636efa",
           "#EF553B"
          ]
         },
         "name": "",
         "parents": [
          "Cartão de Pagamento do Governo Federal (CPGF)",
          "Cartão de Pagamento do Governo Federal (CPGF)",
          "Cartão de Pagamento do Governo Federal (CPGF)",
          "Cartão de Pagamento do Governo Federal (CPGF)",
          "Cartão de Pagamento do Governo Federal (CPGF)",
          "Cartão de Pagamento do Governo Federal (CPGF)",
          "Cartão de Pagamento do Governo Federal (CPGF)",
          "Cartão de Pagamento do Governo Federal (CPGF)",
          "Cartão de Pagamento do Governo Federal (CPGF)",
          "Cartão de Pagamento do Governo Federal (CPGF)",
          "Cartão de Pagamento do Governo Federal (CPGF)",
          "Cartão de Pagamento do Governo Federal (CPGF)",
          "Cartão de Pagamento do Governo Federal (CPGF)",
          "Cartão de Pagamento do Governo Federal (CPGF)",
          "Cartão de Pagamento do Governo Federal (CPGF)",
          "Cartão de Pagamento do Governo Federal (CPGF)",
          "Cartão de Pagamento do Governo Federal (CPGF)",
          "Cartão de Pagamento do Governo Federal (CPGF)",
          "Cartão de Pagamento do Governo Federal (CPGF)",
          "Cartão de Pagamento do Governo Federal (CPGF)",
          "Cartão de Pagamento do Governo Federal (CPGF)",
          ""
         ],
         "type": "treemap",
         "values": [
          8623.56,
          8778.32,
          1360.74,
          38061.85,
          177154.06,
          253383.93,
          264140.6,
          3035.6,
          62065.37,
          18234.79,
          2269404.02,
          598794.57,
          82356.31,
          165771.31,
          570,
          1829479.42,
          631348.88,
          18191.25,
          15353.04,
          79900.83,
          25669.31,
          6551677.76
         ]
        }
       ],
       "layout": {
        "legend": {
         "tracegroupgap": 0
        },
        "margin": {
         "t": 60
        },
        "template": {
         "data": {
          "bar": [
           {
            "error_x": {
             "color": "#2a3f5f"
            },
            "error_y": {
             "color": "#2a3f5f"
            },
            "marker": {
             "line": {
              "color": "#E5ECF6",
              "width": 0.5
             },
             "pattern": {
              "fillmode": "overlay",
              "size": 10,
              "solidity": 0.2
             }
            },
            "type": "bar"
           }
          ],
          "barpolar": [
           {
            "marker": {
             "line": {
              "color": "#E5ECF6",
              "width": 0.5
             },
             "pattern": {
              "fillmode": "overlay",
              "size": 10,
              "solidity": 0.2
             }
            },
            "type": "barpolar"
           }
          ],
          "carpet": [
           {
            "aaxis": {
             "endlinecolor": "#2a3f5f",
             "gridcolor": "white",
             "linecolor": "white",
             "minorgridcolor": "white",
             "startlinecolor": "#2a3f5f"
            },
            "baxis": {
             "endlinecolor": "#2a3f5f",
             "gridcolor": "white",
             "linecolor": "white",
             "minorgridcolor": "white",
             "startlinecolor": "#2a3f5f"
            },
            "type": "carpet"
           }
          ],
          "choropleth": [
           {
            "colorbar": {
             "outlinewidth": 0,
             "ticks": ""
            },
            "type": "choropleth"
           }
          ],
          "contour": [
           {
            "colorbar": {
             "outlinewidth": 0,
             "ticks": ""
            },
            "colorscale": [
             [
              0,
              "#0d0887"
             ],
             [
              0.1111111111111111,
              "#46039f"
             ],
             [
              0.2222222222222222,
              "#7201a8"
             ],
             [
              0.3333333333333333,
              "#9c179e"
             ],
             [
              0.4444444444444444,
              "#bd3786"
             ],
             [
              0.5555555555555556,
              "#d8576b"
             ],
             [
              0.6666666666666666,
              "#ed7953"
             ],
             [
              0.7777777777777778,
              "#fb9f3a"
             ],
             [
              0.8888888888888888,
              "#fdca26"
             ],
             [
              1,
              "#f0f921"
             ]
            ],
            "type": "contour"
           }
          ],
          "contourcarpet": [
           {
            "colorbar": {
             "outlinewidth": 0,
             "ticks": ""
            },
            "type": "contourcarpet"
           }
          ],
          "heatmap": [
           {
            "colorbar": {
             "outlinewidth": 0,
             "ticks": ""
            },
            "colorscale": [
             [
              0,
              "#0d0887"
             ],
             [
              0.1111111111111111,
              "#46039f"
             ],
             [
              0.2222222222222222,
              "#7201a8"
             ],
             [
              0.3333333333333333,
              "#9c179e"
             ],
             [
              0.4444444444444444,
              "#bd3786"
             ],
             [
              0.5555555555555556,
              "#d8576b"
             ],
             [
              0.6666666666666666,
              "#ed7953"
             ],
             [
              0.7777777777777778,
              "#fb9f3a"
             ],
             [
              0.8888888888888888,
              "#fdca26"
             ],
             [
              1,
              "#f0f921"
             ]
            ],
            "type": "heatmap"
           }
          ],
          "heatmapgl": [
           {
            "colorbar": {
             "outlinewidth": 0,
             "ticks": ""
            },
            "colorscale": [
             [
              0,
              "#0d0887"
             ],
             [
              0.1111111111111111,
              "#46039f"
             ],
             [
              0.2222222222222222,
              "#7201a8"
             ],
             [
              0.3333333333333333,
              "#9c179e"
             ],
             [
              0.4444444444444444,
              "#bd3786"
             ],
             [
              0.5555555555555556,
              "#d8576b"
             ],
             [
              0.6666666666666666,
              "#ed7953"
             ],
             [
              0.7777777777777778,
              "#fb9f3a"
             ],
             [
              0.8888888888888888,
              "#fdca26"
             ],
             [
              1,
              "#f0f921"
             ]
            ],
            "type": "heatmapgl"
           }
          ],
          "histogram": [
           {
            "marker": {
             "pattern": {
              "fillmode": "overlay",
              "size": 10,
              "solidity": 0.2
             }
            },
            "type": "histogram"
           }
          ],
          "histogram2d": [
           {
            "colorbar": {
             "outlinewidth": 0,
             "ticks": ""
            },
            "colorscale": [
             [
              0,
              "#0d0887"
             ],
             [
              0.1111111111111111,
              "#46039f"
             ],
             [
              0.2222222222222222,
              "#7201a8"
             ],
             [
              0.3333333333333333,
              "#9c179e"
             ],
             [
              0.4444444444444444,
              "#bd3786"
             ],
             [
              0.5555555555555556,
              "#d8576b"
             ],
             [
              0.6666666666666666,
              "#ed7953"
             ],
             [
              0.7777777777777778,
              "#fb9f3a"
             ],
             [
              0.8888888888888888,
              "#fdca26"
             ],
             [
              1,
              "#f0f921"
             ]
            ],
            "type": "histogram2d"
           }
          ],
          "histogram2dcontour": [
           {
            "colorbar": {
             "outlinewidth": 0,
             "ticks": ""
            },
            "colorscale": [
             [
              0,
              "#0d0887"
             ],
             [
              0.1111111111111111,
              "#46039f"
             ],
             [
              0.2222222222222222,
              "#7201a8"
             ],
             [
              0.3333333333333333,
              "#9c179e"
             ],
             [
              0.4444444444444444,
              "#bd3786"
             ],
             [
              0.5555555555555556,
              "#d8576b"
             ],
             [
              0.6666666666666666,
              "#ed7953"
             ],
             [
              0.7777777777777778,
              "#fb9f3a"
             ],
             [
              0.8888888888888888,
              "#fdca26"
             ],
             [
              1,
              "#f0f921"
             ]
            ],
            "type": "histogram2dcontour"
           }
          ],
          "mesh3d": [
           {
            "colorbar": {
             "outlinewidth": 0,
             "ticks": ""
            },
            "type": "mesh3d"
           }
          ],
          "parcoords": [
           {
            "line": {
             "colorbar": {
              "outlinewidth": 0,
              "ticks": ""
             }
            },
            "type": "parcoords"
           }
          ],
          "pie": [
           {
            "automargin": true,
            "type": "pie"
           }
          ],
          "scatter": [
           {
            "fillpattern": {
             "fillmode": "overlay",
             "size": 10,
             "solidity": 0.2
            },
            "type": "scatter"
           }
          ],
          "scatter3d": [
           {
            "line": {
             "colorbar": {
              "outlinewidth": 0,
              "ticks": ""
             }
            },
            "marker": {
             "colorbar": {
              "outlinewidth": 0,
              "ticks": ""
             }
            },
            "type": "scatter3d"
           }
          ],
          "scattercarpet": [
           {
            "marker": {
             "colorbar": {
              "outlinewidth": 0,
              "ticks": ""
             }
            },
            "type": "scattercarpet"
           }
          ],
          "scattergeo": [
           {
            "marker": {
             "colorbar": {
              "outlinewidth": 0,
              "ticks": ""
             }
            },
            "type": "scattergeo"
           }
          ],
          "scattergl": [
           {
            "marker": {
             "colorbar": {
              "outlinewidth": 0,
              "ticks": ""
             }
            },
            "type": "scattergl"
           }
          ],
          "scattermapbox": [
           {
            "marker": {
             "colorbar": {
              "outlinewidth": 0,
              "ticks": ""
             }
            },
            "type": "scattermapbox"
           }
          ],
          "scatterpolar": [
           {
            "marker": {
             "colorbar": {
              "outlinewidth": 0,
              "ticks": ""
             }
            },
            "type": "scatterpolar"
           }
          ],
          "scatterpolargl": [
           {
            "marker": {
             "colorbar": {
              "outlinewidth": 0,
              "ticks": ""
             }
            },
            "type": "scatterpolargl"
           }
          ],
          "scatterternary": [
           {
            "marker": {
             "colorbar": {
              "outlinewidth": 0,
              "ticks": ""
             }
            },
            "type": "scatterternary"
           }
          ],
          "surface": [
           {
            "colorbar": {
             "outlinewidth": 0,
             "ticks": ""
            },
            "colorscale": [
             [
              0,
              "#0d0887"
             ],
             [
              0.1111111111111111,
              "#46039f"
             ],
             [
              0.2222222222222222,
              "#7201a8"
             ],
             [
              0.3333333333333333,
              "#9c179e"
             ],
             [
              0.4444444444444444,
              "#bd3786"
             ],
             [
              0.5555555555555556,
              "#d8576b"
             ],
             [
              0.6666666666666666,
              "#ed7953"
             ],
             [
              0.7777777777777778,
              "#fb9f3a"
             ],
             [
              0.8888888888888888,
              "#fdca26"
             ],
             [
              1,
              "#f0f921"
             ]
            ],
            "type": "surface"
           }
          ],
          "table": [
           {
            "cells": {
             "fill": {
              "color": "#EBF0F8"
             },
             "line": {
              "color": "white"
             }
            },
            "header": {
             "fill": {
              "color": "#C8D4E3"
             },
             "line": {
              "color": "white"
             }
            },
            "type": "table"
           }
          ]
         },
         "layout": {
          "annotationdefaults": {
           "arrowcolor": "#2a3f5f",
           "arrowhead": 0,
           "arrowwidth": 1
          },
          "autotypenumbers": "strict",
          "coloraxis": {
           "colorbar": {
            "outlinewidth": 0,
            "ticks": ""
           }
          },
          "colorscale": {
           "diverging": [
            [
             0,
             "#8e0152"
            ],
            [
             0.1,
             "#c51b7d"
            ],
            [
             0.2,
             "#de77ae"
            ],
            [
             0.3,
             "#f1b6da"
            ],
            [
             0.4,
             "#fde0ef"
            ],
            [
             0.5,
             "#f7f7f7"
            ],
            [
             0.6,
             "#e6f5d0"
            ],
            [
             0.7,
             "#b8e186"
            ],
            [
             0.8,
             "#7fbc41"
            ],
            [
             0.9,
             "#4d9221"
            ],
            [
             1,
             "#276419"
            ]
           ],
           "sequential": [
            [
             0,
             "#0d0887"
            ],
            [
             0.1111111111111111,
             "#46039f"
            ],
            [
             0.2222222222222222,
             "#7201a8"
            ],
            [
             0.3333333333333333,
             "#9c179e"
            ],
            [
             0.4444444444444444,
             "#bd3786"
            ],
            [
             0.5555555555555556,
             "#d8576b"
            ],
            [
             0.6666666666666666,
             "#ed7953"
            ],
            [
             0.7777777777777778,
             "#fb9f3a"
            ],
            [
             0.8888888888888888,
             "#fdca26"
            ],
            [
             1,
             "#f0f921"
            ]
           ],
           "sequentialminus": [
            [
             0,
             "#0d0887"
            ],
            [
             0.1111111111111111,
             "#46039f"
            ],
            [
             0.2222222222222222,
             "#7201a8"
            ],
            [
             0.3333333333333333,
             "#9c179e"
            ],
            [
             0.4444444444444444,
             "#bd3786"
            ],
            [
             0.5555555555555556,
             "#d8576b"
            ],
            [
             0.6666666666666666,
             "#ed7953"
            ],
            [
             0.7777777777777778,
             "#fb9f3a"
            ],
            [
             0.8888888888888888,
             "#fdca26"
            ],
            [
             1,
             "#f0f921"
            ]
           ]
          },
          "colorway": [
           "#636efa",
           "#EF553B",
           "#00cc96",
           "#ab63fa",
           "#FFA15A",
           "#19d3f3",
           "#FF6692",
           "#B6E880",
           "#FF97FF",
           "#FECB52"
          ],
          "font": {
           "color": "#2a3f5f"
          },
          "geo": {
           "bgcolor": "white",
           "lakecolor": "white",
           "landcolor": "#E5ECF6",
           "showlakes": true,
           "showland": true,
           "subunitcolor": "white"
          },
          "hoverlabel": {
           "align": "left"
          },
          "hovermode": "closest",
          "mapbox": {
           "style": "light"
          },
          "paper_bgcolor": "white",
          "plot_bgcolor": "#E5ECF6",
          "polar": {
           "angularaxis": {
            "gridcolor": "white",
            "linecolor": "white",
            "ticks": ""
           },
           "bgcolor": "#E5ECF6",
           "radialaxis": {
            "gridcolor": "white",
            "linecolor": "white",
            "ticks": ""
           }
          },
          "scene": {
           "xaxis": {
            "backgroundcolor": "#E5ECF6",
            "gridcolor": "white",
            "gridwidth": 2,
            "linecolor": "white",
            "showbackground": true,
            "ticks": "",
            "zerolinecolor": "white"
           },
           "yaxis": {
            "backgroundcolor": "#E5ECF6",
            "gridcolor": "white",
            "gridwidth": 2,
            "linecolor": "white",
            "showbackground": true,
            "ticks": "",
            "zerolinecolor": "white"
           },
           "zaxis": {
            "backgroundcolor": "#E5ECF6",
            "gridcolor": "white",
            "gridwidth": 2,
            "linecolor": "white",
            "showbackground": true,
            "ticks": "",
            "zerolinecolor": "white"
           }
          },
          "shapedefaults": {
           "line": {
            "color": "#2a3f5f"
           }
          },
          "ternary": {
           "aaxis": {
            "gridcolor": "white",
            "linecolor": "white",
            "ticks": ""
           },
           "baxis": {
            "gridcolor": "white",
            "linecolor": "white",
            "ticks": ""
           },
           "bgcolor": "#E5ECF6",
           "caxis": {
            "gridcolor": "white",
            "linecolor": "white",
            "ticks": ""
           }
          },
          "title": {
           "x": 0.05
          },
          "xaxis": {
           "automargin": true,
           "gridcolor": "white",
           "linecolor": "white",
           "ticks": "",
           "title": {
            "standoff": 15
           },
           "zerolinecolor": "white",
           "zerolinewidth": 2
          },
          "yaxis": {
           "automargin": true,
           "gridcolor": "white",
           "linecolor": "white",
           "ticks": "",
           "title": {
            "standoff": 15
           },
           "zerolinecolor": "white",
           "zerolinewidth": 2
          }
         }
        }
       }
      }
     },
     "metadata": {},
     "output_type": "display_data"
    }
   ],
   "source": [
    "gastos_mai = pd.read_csv('cartao_pagamento_2022_orgaos/202205_CPGF.csv', encoding='latin1', delimiter=';')\n",
    "\n",
    "gastos_mai.loc[:, 'VALOR TRANSAÇÃO'] = pd.to_numeric(gastos_mai['VALOR TRANSAÇÃO'].str.replace(\",\", '.'), errors='coerce')\n",
    "\n",
    "gastos_por_orgao_mai = gastos_mai.groupby('NOME ÓRGÃO SUPERIOR').agg({'VALOR TRANSAÇÃO': sum}).reset_index()\n",
    "gastos_por_orgao_mai = gastos_por_orgao_mai.sort_values('VALOR TRANSAÇÃO', ascending=False).reset_index()\n",
    "\n",
    "df = pd.DataFrame(gastos_por_orgao_mai)\n",
    "df.to_csv(sep=',', index=False, header=True, path_or_buf='CPGF_2022_tables_tratadas/mai_2022.csv')\n",
    "\n",
    "fig_mai = px.treemap(gastos_por_orgao_mai, path=[px.Constant('Cartão de Pagamento do Governo Federal (CPGF)'), 'NOME ÓRGÃO SUPERIOR'], values='VALOR TRANSAÇÃO',\n",
    "                  color='NOME ÓRGÃO SUPERIOR')\n",
    "fig_mai.show()"
   ]
  },
  {
   "cell_type": "code",
   "execution_count": 25,
   "metadata": {},
   "outputs": [
    {
     "name": "stderr",
     "output_type": "stream",
     "text": [
      "/tmp/ipykernel_23205/1819153858.py:3: FutureWarning:\n",
      "\n",
      "In a future version, `df.iloc[:, i] = newvals` will attempt to set the values inplace instead of always setting a new array. To retain the old behavior, use either `df[df.columns[i]] = newvals` or, if columns are non-unique, `df.isetitem(i, newvals)`\n",
      "\n"
     ]
    },
    {
     "data": {
      "application/vnd.plotly.v1+json": {
       "config": {
        "plotlyServerURL": "https://plot.ly"
       },
       "data": [
        {
         "branchvalues": "total",
         "customdata": [
          [
           "Ministério das Relações Exteriores"
          ],
          [
           "Ministério das Comunicações"
          ],
          [
           "Ministério do Trabalho"
          ],
          [
           "Ministério da Economia"
          ],
          [
           "Ministério da Saúde"
          ],
          [
           "Ministério da Ciência, Tecnologia, Inovações "
          ],
          [
           "Controladoria-Geral da União"
          ],
          [
           "Ministério da Agricultura, Pecuária e Abastec"
          ],
          [
           "Ministério do Meio Ambiente"
          ],
          [
           "Banco Central do Brasil - Orçamento Fiscal e "
          ],
          [
           "Ministério do Turismo"
          ],
          [
           "Ministério da Educação"
          ],
          [
           "Ministério de Minas e Energia"
          ],
          [
           "Presidência da República"
          ],
          [
           "Ministério da Mulher, Família e Direitos Huma"
          ],
          [
           "Ministério da Justiça e Segurança Pública"
          ],
          [
           "Ministério da Defesa"
          ],
          [
           "Ministério da Infraestrutura"
          ],
          [
           "Ministério do Trabalho e Emprego"
          ],
          [
           "Ministério do Desenvolvimento Regional"
          ],
          [
           "Advocacia-Geral da União"
          ],
          [
           "(?)"
          ]
         ],
         "domain": {
          "x": [
           0,
           1
          ],
          "y": [
           0,
           1
          ]
         },
         "hovertemplate": "labels=%{label}<br>VALOR TRANSAÇÃO=%{value}<br>parent=%{parent}<br>id=%{id}<br>NOME ÓRGÃO SUPERIOR=%{customdata[0]}<extra></extra>",
         "ids": [
          "Cartão de Pagamento do Governo Federal (CPGF)/Ministério das Relações Exteriores",
          "Cartão de Pagamento do Governo Federal (CPGF)/Ministério das Comunicações",
          "Cartão de Pagamento do Governo Federal (CPGF)/Ministério do Trabalho",
          "Cartão de Pagamento do Governo Federal (CPGF)/Ministério da Economia",
          "Cartão de Pagamento do Governo Federal (CPGF)/Ministério da Saúde",
          "Cartão de Pagamento do Governo Federal (CPGF)/Ministério da Ciência, Tecnologia, Inovações ",
          "Cartão de Pagamento do Governo Federal (CPGF)/Controladoria-Geral da União",
          "Cartão de Pagamento do Governo Federal (CPGF)/Ministério da Agricultura, Pecuária e Abastec",
          "Cartão de Pagamento do Governo Federal (CPGF)/Ministério do Meio Ambiente",
          "Cartão de Pagamento do Governo Federal (CPGF)/Banco Central do Brasil - Orçamento Fiscal e ",
          "Cartão de Pagamento do Governo Federal (CPGF)/Ministério do Turismo",
          "Cartão de Pagamento do Governo Federal (CPGF)/Ministério da Educação",
          "Cartão de Pagamento do Governo Federal (CPGF)/Ministério de Minas e Energia",
          "Cartão de Pagamento do Governo Federal (CPGF)/Presidência da República",
          "Cartão de Pagamento do Governo Federal (CPGF)/Ministério da Mulher, Família e Direitos Huma",
          "Cartão de Pagamento do Governo Federal (CPGF)/Ministério da Justiça e Segurança Pública",
          "Cartão de Pagamento do Governo Federal (CPGF)/Ministério da Defesa",
          "Cartão de Pagamento do Governo Federal (CPGF)/Ministério da Infraestrutura",
          "Cartão de Pagamento do Governo Federal (CPGF)/Ministério do Trabalho e Emprego",
          "Cartão de Pagamento do Governo Federal (CPGF)/Ministério do Desenvolvimento Regional",
          "Cartão de Pagamento do Governo Federal (CPGF)/Advocacia-Geral da União",
          "Cartão de Pagamento do Governo Federal (CPGF)"
         ],
         "labels": [
          "Ministério das Relações Exteriores",
          "Ministério das Comunicações",
          "Ministério do Trabalho",
          "Ministério da Economia",
          "Ministério da Saúde",
          "Ministério da Ciência, Tecnologia, Inovações ",
          "Controladoria-Geral da União",
          "Ministério da Agricultura, Pecuária e Abastec",
          "Ministério do Meio Ambiente",
          "Banco Central do Brasil - Orçamento Fiscal e ",
          "Ministério do Turismo",
          "Ministério da Educação",
          "Ministério de Minas e Energia",
          "Presidência da República",
          "Ministério da Mulher, Família e Direitos Huma",
          "Ministério da Justiça e Segurança Pública",
          "Ministério da Defesa",
          "Ministério da Infraestrutura",
          "Ministério do Trabalho e Emprego",
          "Ministério do Desenvolvimento Regional",
          "Advocacia-Geral da União",
          "Cartão de Pagamento do Governo Federal (CPGF)"
         ],
         "marker": {
          "colors": [
           "#636efa",
           "#EF553B",
           "#00cc96",
           "#ab63fa",
           "#FFA15A",
           "#19d3f3",
           "#FF6692",
           "#B6E880",
           "#FF97FF",
           "#FECB52",
           "#636efa",
           "#EF553B",
           "#00cc96",
           "#ab63fa",
           "#FFA15A",
           "#19d3f3",
           "#FF6692",
           "#B6E880",
           "#FF97FF",
           "#FECB52",
           "#636efa",
           "#EF553B"
          ]
         },
         "name": "",
         "parents": [
          "Cartão de Pagamento do Governo Federal (CPGF)",
          "Cartão de Pagamento do Governo Federal (CPGF)",
          "Cartão de Pagamento do Governo Federal (CPGF)",
          "Cartão de Pagamento do Governo Federal (CPGF)",
          "Cartão de Pagamento do Governo Federal (CPGF)",
          "Cartão de Pagamento do Governo Federal (CPGF)",
          "Cartão de Pagamento do Governo Federal (CPGF)",
          "Cartão de Pagamento do Governo Federal (CPGF)",
          "Cartão de Pagamento do Governo Federal (CPGF)",
          "Cartão de Pagamento do Governo Federal (CPGF)",
          "Cartão de Pagamento do Governo Federal (CPGF)",
          "Cartão de Pagamento do Governo Federal (CPGF)",
          "Cartão de Pagamento do Governo Federal (CPGF)",
          "Cartão de Pagamento do Governo Federal (CPGF)",
          "Cartão de Pagamento do Governo Federal (CPGF)",
          "Cartão de Pagamento do Governo Federal (CPGF)",
          "Cartão de Pagamento do Governo Federal (CPGF)",
          "Cartão de Pagamento do Governo Federal (CPGF)",
          "Cartão de Pagamento do Governo Federal (CPGF)",
          "Cartão de Pagamento do Governo Federal (CPGF)",
          "Cartão de Pagamento do Governo Federal (CPGF)",
          ""
         ],
         "type": "treemap",
         "values": [
          796.95,
          21172.3,
          139667.61,
          815362.25,
          181413.45,
          55417.42,
          2988.4,
          251097.65,
          254432.5,
          28326.39,
          15741.08,
          792057.87,
          62738.6,
          2461518.27,
          1138.8,
          1634681,
          483987.96,
          9861.63,
          1888.51,
          78717.65,
          24241.08,
          7317247.37
         ]
        }
       ],
       "layout": {
        "legend": {
         "tracegroupgap": 0
        },
        "margin": {
         "t": 60
        },
        "template": {
         "data": {
          "bar": [
           {
            "error_x": {
             "color": "#2a3f5f"
            },
            "error_y": {
             "color": "#2a3f5f"
            },
            "marker": {
             "line": {
              "color": "#E5ECF6",
              "width": 0.5
             },
             "pattern": {
              "fillmode": "overlay",
              "size": 10,
              "solidity": 0.2
             }
            },
            "type": "bar"
           }
          ],
          "barpolar": [
           {
            "marker": {
             "line": {
              "color": "#E5ECF6",
              "width": 0.5
             },
             "pattern": {
              "fillmode": "overlay",
              "size": 10,
              "solidity": 0.2
             }
            },
            "type": "barpolar"
           }
          ],
          "carpet": [
           {
            "aaxis": {
             "endlinecolor": "#2a3f5f",
             "gridcolor": "white",
             "linecolor": "white",
             "minorgridcolor": "white",
             "startlinecolor": "#2a3f5f"
            },
            "baxis": {
             "endlinecolor": "#2a3f5f",
             "gridcolor": "white",
             "linecolor": "white",
             "minorgridcolor": "white",
             "startlinecolor": "#2a3f5f"
            },
            "type": "carpet"
           }
          ],
          "choropleth": [
           {
            "colorbar": {
             "outlinewidth": 0,
             "ticks": ""
            },
            "type": "choropleth"
           }
          ],
          "contour": [
           {
            "colorbar": {
             "outlinewidth": 0,
             "ticks": ""
            },
            "colorscale": [
             [
              0,
              "#0d0887"
             ],
             [
              0.1111111111111111,
              "#46039f"
             ],
             [
              0.2222222222222222,
              "#7201a8"
             ],
             [
              0.3333333333333333,
              "#9c179e"
             ],
             [
              0.4444444444444444,
              "#bd3786"
             ],
             [
              0.5555555555555556,
              "#d8576b"
             ],
             [
              0.6666666666666666,
              "#ed7953"
             ],
             [
              0.7777777777777778,
              "#fb9f3a"
             ],
             [
              0.8888888888888888,
              "#fdca26"
             ],
             [
              1,
              "#f0f921"
             ]
            ],
            "type": "contour"
           }
          ],
          "contourcarpet": [
           {
            "colorbar": {
             "outlinewidth": 0,
             "ticks": ""
            },
            "type": "contourcarpet"
           }
          ],
          "heatmap": [
           {
            "colorbar": {
             "outlinewidth": 0,
             "ticks": ""
            },
            "colorscale": [
             [
              0,
              "#0d0887"
             ],
             [
              0.1111111111111111,
              "#46039f"
             ],
             [
              0.2222222222222222,
              "#7201a8"
             ],
             [
              0.3333333333333333,
              "#9c179e"
             ],
             [
              0.4444444444444444,
              "#bd3786"
             ],
             [
              0.5555555555555556,
              "#d8576b"
             ],
             [
              0.6666666666666666,
              "#ed7953"
             ],
             [
              0.7777777777777778,
              "#fb9f3a"
             ],
             [
              0.8888888888888888,
              "#fdca26"
             ],
             [
              1,
              "#f0f921"
             ]
            ],
            "type": "heatmap"
           }
          ],
          "heatmapgl": [
           {
            "colorbar": {
             "outlinewidth": 0,
             "ticks": ""
            },
            "colorscale": [
             [
              0,
              "#0d0887"
             ],
             [
              0.1111111111111111,
              "#46039f"
             ],
             [
              0.2222222222222222,
              "#7201a8"
             ],
             [
              0.3333333333333333,
              "#9c179e"
             ],
             [
              0.4444444444444444,
              "#bd3786"
             ],
             [
              0.5555555555555556,
              "#d8576b"
             ],
             [
              0.6666666666666666,
              "#ed7953"
             ],
             [
              0.7777777777777778,
              "#fb9f3a"
             ],
             [
              0.8888888888888888,
              "#fdca26"
             ],
             [
              1,
              "#f0f921"
             ]
            ],
            "type": "heatmapgl"
           }
          ],
          "histogram": [
           {
            "marker": {
             "pattern": {
              "fillmode": "overlay",
              "size": 10,
              "solidity": 0.2
             }
            },
            "type": "histogram"
           }
          ],
          "histogram2d": [
           {
            "colorbar": {
             "outlinewidth": 0,
             "ticks": ""
            },
            "colorscale": [
             [
              0,
              "#0d0887"
             ],
             [
              0.1111111111111111,
              "#46039f"
             ],
             [
              0.2222222222222222,
              "#7201a8"
             ],
             [
              0.3333333333333333,
              "#9c179e"
             ],
             [
              0.4444444444444444,
              "#bd3786"
             ],
             [
              0.5555555555555556,
              "#d8576b"
             ],
             [
              0.6666666666666666,
              "#ed7953"
             ],
             [
              0.7777777777777778,
              "#fb9f3a"
             ],
             [
              0.8888888888888888,
              "#fdca26"
             ],
             [
              1,
              "#f0f921"
             ]
            ],
            "type": "histogram2d"
           }
          ],
          "histogram2dcontour": [
           {
            "colorbar": {
             "outlinewidth": 0,
             "ticks": ""
            },
            "colorscale": [
             [
              0,
              "#0d0887"
             ],
             [
              0.1111111111111111,
              "#46039f"
             ],
             [
              0.2222222222222222,
              "#7201a8"
             ],
             [
              0.3333333333333333,
              "#9c179e"
             ],
             [
              0.4444444444444444,
              "#bd3786"
             ],
             [
              0.5555555555555556,
              "#d8576b"
             ],
             [
              0.6666666666666666,
              "#ed7953"
             ],
             [
              0.7777777777777778,
              "#fb9f3a"
             ],
             [
              0.8888888888888888,
              "#fdca26"
             ],
             [
              1,
              "#f0f921"
             ]
            ],
            "type": "histogram2dcontour"
           }
          ],
          "mesh3d": [
           {
            "colorbar": {
             "outlinewidth": 0,
             "ticks": ""
            },
            "type": "mesh3d"
           }
          ],
          "parcoords": [
           {
            "line": {
             "colorbar": {
              "outlinewidth": 0,
              "ticks": ""
             }
            },
            "type": "parcoords"
           }
          ],
          "pie": [
           {
            "automargin": true,
            "type": "pie"
           }
          ],
          "scatter": [
           {
            "fillpattern": {
             "fillmode": "overlay",
             "size": 10,
             "solidity": 0.2
            },
            "type": "scatter"
           }
          ],
          "scatter3d": [
           {
            "line": {
             "colorbar": {
              "outlinewidth": 0,
              "ticks": ""
             }
            },
            "marker": {
             "colorbar": {
              "outlinewidth": 0,
              "ticks": ""
             }
            },
            "type": "scatter3d"
           }
          ],
          "scattercarpet": [
           {
            "marker": {
             "colorbar": {
              "outlinewidth": 0,
              "ticks": ""
             }
            },
            "type": "scattercarpet"
           }
          ],
          "scattergeo": [
           {
            "marker": {
             "colorbar": {
              "outlinewidth": 0,
              "ticks": ""
             }
            },
            "type": "scattergeo"
           }
          ],
          "scattergl": [
           {
            "marker": {
             "colorbar": {
              "outlinewidth": 0,
              "ticks": ""
             }
            },
            "type": "scattergl"
           }
          ],
          "scattermapbox": [
           {
            "marker": {
             "colorbar": {
              "outlinewidth": 0,
              "ticks": ""
             }
            },
            "type": "scattermapbox"
           }
          ],
          "scatterpolar": [
           {
            "marker": {
             "colorbar": {
              "outlinewidth": 0,
              "ticks": ""
             }
            },
            "type": "scatterpolar"
           }
          ],
          "scatterpolargl": [
           {
            "marker": {
             "colorbar": {
              "outlinewidth": 0,
              "ticks": ""
             }
            },
            "type": "scatterpolargl"
           }
          ],
          "scatterternary": [
           {
            "marker": {
             "colorbar": {
              "outlinewidth": 0,
              "ticks": ""
             }
            },
            "type": "scatterternary"
           }
          ],
          "surface": [
           {
            "colorbar": {
             "outlinewidth": 0,
             "ticks": ""
            },
            "colorscale": [
             [
              0,
              "#0d0887"
             ],
             [
              0.1111111111111111,
              "#46039f"
             ],
             [
              0.2222222222222222,
              "#7201a8"
             ],
             [
              0.3333333333333333,
              "#9c179e"
             ],
             [
              0.4444444444444444,
              "#bd3786"
             ],
             [
              0.5555555555555556,
              "#d8576b"
             ],
             [
              0.6666666666666666,
              "#ed7953"
             ],
             [
              0.7777777777777778,
              "#fb9f3a"
             ],
             [
              0.8888888888888888,
              "#fdca26"
             ],
             [
              1,
              "#f0f921"
             ]
            ],
            "type": "surface"
           }
          ],
          "table": [
           {
            "cells": {
             "fill": {
              "color": "#EBF0F8"
             },
             "line": {
              "color": "white"
             }
            },
            "header": {
             "fill": {
              "color": "#C8D4E3"
             },
             "line": {
              "color": "white"
             }
            },
            "type": "table"
           }
          ]
         },
         "layout": {
          "annotationdefaults": {
           "arrowcolor": "#2a3f5f",
           "arrowhead": 0,
           "arrowwidth": 1
          },
          "autotypenumbers": "strict",
          "coloraxis": {
           "colorbar": {
            "outlinewidth": 0,
            "ticks": ""
           }
          },
          "colorscale": {
           "diverging": [
            [
             0,
             "#8e0152"
            ],
            [
             0.1,
             "#c51b7d"
            ],
            [
             0.2,
             "#de77ae"
            ],
            [
             0.3,
             "#f1b6da"
            ],
            [
             0.4,
             "#fde0ef"
            ],
            [
             0.5,
             "#f7f7f7"
            ],
            [
             0.6,
             "#e6f5d0"
            ],
            [
             0.7,
             "#b8e186"
            ],
            [
             0.8,
             "#7fbc41"
            ],
            [
             0.9,
             "#4d9221"
            ],
            [
             1,
             "#276419"
            ]
           ],
           "sequential": [
            [
             0,
             "#0d0887"
            ],
            [
             0.1111111111111111,
             "#46039f"
            ],
            [
             0.2222222222222222,
             "#7201a8"
            ],
            [
             0.3333333333333333,
             "#9c179e"
            ],
            [
             0.4444444444444444,
             "#bd3786"
            ],
            [
             0.5555555555555556,
             "#d8576b"
            ],
            [
             0.6666666666666666,
             "#ed7953"
            ],
            [
             0.7777777777777778,
             "#fb9f3a"
            ],
            [
             0.8888888888888888,
             "#fdca26"
            ],
            [
             1,
             "#f0f921"
            ]
           ],
           "sequentialminus": [
            [
             0,
             "#0d0887"
            ],
            [
             0.1111111111111111,
             "#46039f"
            ],
            [
             0.2222222222222222,
             "#7201a8"
            ],
            [
             0.3333333333333333,
             "#9c179e"
            ],
            [
             0.4444444444444444,
             "#bd3786"
            ],
            [
             0.5555555555555556,
             "#d8576b"
            ],
            [
             0.6666666666666666,
             "#ed7953"
            ],
            [
             0.7777777777777778,
             "#fb9f3a"
            ],
            [
             0.8888888888888888,
             "#fdca26"
            ],
            [
             1,
             "#f0f921"
            ]
           ]
          },
          "colorway": [
           "#636efa",
           "#EF553B",
           "#00cc96",
           "#ab63fa",
           "#FFA15A",
           "#19d3f3",
           "#FF6692",
           "#B6E880",
           "#FF97FF",
           "#FECB52"
          ],
          "font": {
           "color": "#2a3f5f"
          },
          "geo": {
           "bgcolor": "white",
           "lakecolor": "white",
           "landcolor": "#E5ECF6",
           "showlakes": true,
           "showland": true,
           "subunitcolor": "white"
          },
          "hoverlabel": {
           "align": "left"
          },
          "hovermode": "closest",
          "mapbox": {
           "style": "light"
          },
          "paper_bgcolor": "white",
          "plot_bgcolor": "#E5ECF6",
          "polar": {
           "angularaxis": {
            "gridcolor": "white",
            "linecolor": "white",
            "ticks": ""
           },
           "bgcolor": "#E5ECF6",
           "radialaxis": {
            "gridcolor": "white",
            "linecolor": "white",
            "ticks": ""
           }
          },
          "scene": {
           "xaxis": {
            "backgroundcolor": "#E5ECF6",
            "gridcolor": "white",
            "gridwidth": 2,
            "linecolor": "white",
            "showbackground": true,
            "ticks": "",
            "zerolinecolor": "white"
           },
           "yaxis": {
            "backgroundcolor": "#E5ECF6",
            "gridcolor": "white",
            "gridwidth": 2,
            "linecolor": "white",
            "showbackground": true,
            "ticks": "",
            "zerolinecolor": "white"
           },
           "zaxis": {
            "backgroundcolor": "#E5ECF6",
            "gridcolor": "white",
            "gridwidth": 2,
            "linecolor": "white",
            "showbackground": true,
            "ticks": "",
            "zerolinecolor": "white"
           }
          },
          "shapedefaults": {
           "line": {
            "color": "#2a3f5f"
           }
          },
          "ternary": {
           "aaxis": {
            "gridcolor": "white",
            "linecolor": "white",
            "ticks": ""
           },
           "baxis": {
            "gridcolor": "white",
            "linecolor": "white",
            "ticks": ""
           },
           "bgcolor": "#E5ECF6",
           "caxis": {
            "gridcolor": "white",
            "linecolor": "white",
            "ticks": ""
           }
          },
          "title": {
           "x": 0.05
          },
          "xaxis": {
           "automargin": true,
           "gridcolor": "white",
           "linecolor": "white",
           "ticks": "",
           "title": {
            "standoff": 15
           },
           "zerolinecolor": "white",
           "zerolinewidth": 2
          },
          "yaxis": {
           "automargin": true,
           "gridcolor": "white",
           "linecolor": "white",
           "ticks": "",
           "title": {
            "standoff": 15
           },
           "zerolinecolor": "white",
           "zerolinewidth": 2
          }
         }
        }
       }
      }
     },
     "metadata": {},
     "output_type": "display_data"
    }
   ],
   "source": [
    "gastos_jun = pd.read_csv('cartao_pagamento_2022_orgaos/202206_CPGF.csv', encoding='latin1', delimiter=';')\n",
    "\n",
    "gastos_jun.loc[:, 'VALOR TRANSAÇÃO'] = pd.to_numeric(gastos_jun['VALOR TRANSAÇÃO'].str.replace(\",\", '.'), errors='coerce')\n",
    "\n",
    "gastos_por_orgao_jun = gastos_jun.groupby('NOME ÓRGÃO SUPERIOR').agg({'VALOR TRANSAÇÃO': sum}).reset_index()\n",
    "gastos_por_orgao_jun = gastos_por_orgao_jun.sort_values('VALOR TRANSAÇÃO', ascending=False).reset_index()\n",
    "\n",
    "df = pd.DataFrame(gastos_por_orgao_jun)\n",
    "df.to_csv(sep=',', index=False, header=True, path_or_buf='CPGF_2022_tables_tratadas/jun_2022.csv')\n",
    "\n",
    "fig_jun = px.treemap(gastos_por_orgao_jun, path=[px.Constant('Cartão de Pagamento do Governo Federal (CPGF)'), 'NOME ÓRGÃO SUPERIOR'], values='VALOR TRANSAÇÃO',\n",
    "                  color='NOME ÓRGÃO SUPERIOR')\n",
    "fig_jun.show()"
   ]
  },
  {
   "cell_type": "code",
   "execution_count": 28,
   "metadata": {},
   "outputs": [
    {
     "name": "stderr",
     "output_type": "stream",
     "text": [
      "/tmp/ipykernel_23205/3631722820.py:3: FutureWarning:\n",
      "\n",
      "In a future version, `df.iloc[:, i] = newvals` will attempt to set the values inplace instead of always setting a new array. To retain the old behavior, use either `df[df.columns[i]] = newvals` or, if columns are non-unique, `df.isetitem(i, newvals)`\n",
      "\n"
     ]
    },
    {
     "data": {
      "application/vnd.plotly.v1+json": {
       "config": {
        "plotlyServerURL": "https://plot.ly"
       },
       "data": [
        {
         "branchvalues": "total",
         "customdata": [
          [
           "Ministério do Desenvolvimento Regional"
          ],
          [
           "Ministério de Minas e Energia"
          ],
          [
           "Ministério do Trabalho e Emprego"
          ],
          [
           "Ministério da Defesa"
          ],
          [
           "Ministério das Comunicações"
          ],
          [
           "Ministério da Ciência, Tecnologia, Inovações "
          ],
          [
           "Controladoria-Geral da União"
          ],
          [
           "Ministério da Agricultura, Pecuária e Abastec"
          ],
          [
           "Ministério do Trabalho"
          ],
          [
           "Banco Central do Brasil - Orçamento Fiscal e "
          ],
          [
           "Ministério da Educação"
          ],
          [
           "Ministério das Relações Exteriores"
          ],
          [
           "Presidência da República"
          ],
          [
           "Ministério da Saúde"
          ],
          [
           "Ministério da Justiça e Segurança Pública"
          ],
          [
           "Ministério da Economia"
          ],
          [
           "Ministério da Infraestrutura"
          ],
          [
           "Ministério do Turismo"
          ],
          [
           "Ministério do Meio Ambiente"
          ],
          [
           "Advocacia-Geral da União"
          ],
          [
           "(?)"
          ]
         ],
         "domain": {
          "x": [
           0,
           1
          ],
          "y": [
           0,
           1
          ]
         },
         "hovertemplate": "labels=%{label}<br>VALOR TRANSAÇÃO=%{value}<br>parent=%{parent}<br>id=%{id}<br>NOME ÓRGÃO SUPERIOR=%{customdata[0]}<extra></extra>",
         "ids": [
          "Cartão de Pagamento do Governo Federal (CPGF)/Ministério do Desenvolvimento Regional",
          "Cartão de Pagamento do Governo Federal (CPGF)/Ministério de Minas e Energia",
          "Cartão de Pagamento do Governo Federal (CPGF)/Ministério do Trabalho e Emprego",
          "Cartão de Pagamento do Governo Federal (CPGF)/Ministério da Defesa",
          "Cartão de Pagamento do Governo Federal (CPGF)/Ministério das Comunicações",
          "Cartão de Pagamento do Governo Federal (CPGF)/Ministério da Ciência, Tecnologia, Inovações ",
          "Cartão de Pagamento do Governo Federal (CPGF)/Controladoria-Geral da União",
          "Cartão de Pagamento do Governo Federal (CPGF)/Ministério da Agricultura, Pecuária e Abastec",
          "Cartão de Pagamento do Governo Federal (CPGF)/Ministério do Trabalho",
          "Cartão de Pagamento do Governo Federal (CPGF)/Banco Central do Brasil - Orçamento Fiscal e ",
          "Cartão de Pagamento do Governo Federal (CPGF)/Ministério da Educação",
          "Cartão de Pagamento do Governo Federal (CPGF)/Ministério das Relações Exteriores",
          "Cartão de Pagamento do Governo Federal (CPGF)/Presidência da República",
          "Cartão de Pagamento do Governo Federal (CPGF)/Ministério da Saúde",
          "Cartão de Pagamento do Governo Federal (CPGF)/Ministério da Justiça e Segurança Pública",
          "Cartão de Pagamento do Governo Federal (CPGF)/Ministério da Economia",
          "Cartão de Pagamento do Governo Federal (CPGF)/Ministério da Infraestrutura",
          "Cartão de Pagamento do Governo Federal (CPGF)/Ministério do Turismo",
          "Cartão de Pagamento do Governo Federal (CPGF)/Ministério do Meio Ambiente",
          "Cartão de Pagamento do Governo Federal (CPGF)/Advocacia-Geral da União",
          "Cartão de Pagamento do Governo Federal (CPGF)"
         ],
         "labels": [
          "Ministério do Desenvolvimento Regional",
          "Ministério de Minas e Energia",
          "Ministério do Trabalho e Emprego",
          "Ministério da Defesa",
          "Ministério das Comunicações",
          "Ministério da Ciência, Tecnologia, Inovações ",
          "Controladoria-Geral da União",
          "Ministério da Agricultura, Pecuária e Abastec",
          "Ministério do Trabalho",
          "Banco Central do Brasil - Orçamento Fiscal e ",
          "Ministério da Educação",
          "Ministério das Relações Exteriores",
          "Presidência da República",
          "Ministério da Saúde",
          "Ministério da Justiça e Segurança Pública",
          "Ministério da Economia",
          "Ministério da Infraestrutura",
          "Ministério do Turismo",
          "Ministério do Meio Ambiente",
          "Advocacia-Geral da União",
          "Cartão de Pagamento do Governo Federal (CPGF)"
         ],
         "marker": {
          "colors": [
           "#636efa",
           "#EF553B",
           "#00cc96",
           "#ab63fa",
           "#FFA15A",
           "#19d3f3",
           "#FF6692",
           "#B6E880",
           "#FF97FF",
           "#FECB52",
           "#636efa",
           "#EF553B",
           "#00cc96",
           "#ab63fa",
           "#FFA15A",
           "#19d3f3",
           "#FF6692",
           "#B6E880",
           "#FF97FF",
           "#FECB52",
           "#636efa"
          ]
         },
         "name": "",
         "parents": [
          "Cartão de Pagamento do Governo Federal (CPGF)",
          "Cartão de Pagamento do Governo Federal (CPGF)",
          "Cartão de Pagamento do Governo Federal (CPGF)",
          "Cartão de Pagamento do Governo Federal (CPGF)",
          "Cartão de Pagamento do Governo Federal (CPGF)",
          "Cartão de Pagamento do Governo Federal (CPGF)",
          "Cartão de Pagamento do Governo Federal (CPGF)",
          "Cartão de Pagamento do Governo Federal (CPGF)",
          "Cartão de Pagamento do Governo Federal (CPGF)",
          "Cartão de Pagamento do Governo Federal (CPGF)",
          "Cartão de Pagamento do Governo Federal (CPGF)",
          "Cartão de Pagamento do Governo Federal (CPGF)",
          "Cartão de Pagamento do Governo Federal (CPGF)",
          "Cartão de Pagamento do Governo Federal (CPGF)",
          "Cartão de Pagamento do Governo Federal (CPGF)",
          "Cartão de Pagamento do Governo Federal (CPGF)",
          "Cartão de Pagamento do Governo Federal (CPGF)",
          "Cartão de Pagamento do Governo Federal (CPGF)",
          "Cartão de Pagamento do Governo Federal (CPGF)",
          "Cartão de Pagamento do Governo Federal (CPGF)",
          ""
         ],
         "type": "treemap",
         "values": [
          87152.06999999999,
          67006.71,
          2126.3,
          512856.46,
          35235.67,
          42572,
          3867.54,
          277559.96,
          96454.35,
          29915.33,
          648027.37,
          1478.9,
          2625598.91,
          158760.58,
          1818781.35,
          1173505.06,
          14576.52,
          20635.4,
          219231.57,
          20746.79,
          7856088.840000001
         ]
        }
       ],
       "layout": {
        "legend": {
         "tracegroupgap": 0
        },
        "margin": {
         "t": 60
        },
        "template": {
         "data": {
          "bar": [
           {
            "error_x": {
             "color": "#2a3f5f"
            },
            "error_y": {
             "color": "#2a3f5f"
            },
            "marker": {
             "line": {
              "color": "#E5ECF6",
              "width": 0.5
             },
             "pattern": {
              "fillmode": "overlay",
              "size": 10,
              "solidity": 0.2
             }
            },
            "type": "bar"
           }
          ],
          "barpolar": [
           {
            "marker": {
             "line": {
              "color": "#E5ECF6",
              "width": 0.5
             },
             "pattern": {
              "fillmode": "overlay",
              "size": 10,
              "solidity": 0.2
             }
            },
            "type": "barpolar"
           }
          ],
          "carpet": [
           {
            "aaxis": {
             "endlinecolor": "#2a3f5f",
             "gridcolor": "white",
             "linecolor": "white",
             "minorgridcolor": "white",
             "startlinecolor": "#2a3f5f"
            },
            "baxis": {
             "endlinecolor": "#2a3f5f",
             "gridcolor": "white",
             "linecolor": "white",
             "minorgridcolor": "white",
             "startlinecolor": "#2a3f5f"
            },
            "type": "carpet"
           }
          ],
          "choropleth": [
           {
            "colorbar": {
             "outlinewidth": 0,
             "ticks": ""
            },
            "type": "choropleth"
           }
          ],
          "contour": [
           {
            "colorbar": {
             "outlinewidth": 0,
             "ticks": ""
            },
            "colorscale": [
             [
              0,
              "#0d0887"
             ],
             [
              0.1111111111111111,
              "#46039f"
             ],
             [
              0.2222222222222222,
              "#7201a8"
             ],
             [
              0.3333333333333333,
              "#9c179e"
             ],
             [
              0.4444444444444444,
              "#bd3786"
             ],
             [
              0.5555555555555556,
              "#d8576b"
             ],
             [
              0.6666666666666666,
              "#ed7953"
             ],
             [
              0.7777777777777778,
              "#fb9f3a"
             ],
             [
              0.8888888888888888,
              "#fdca26"
             ],
             [
              1,
              "#f0f921"
             ]
            ],
            "type": "contour"
           }
          ],
          "contourcarpet": [
           {
            "colorbar": {
             "outlinewidth": 0,
             "ticks": ""
            },
            "type": "contourcarpet"
           }
          ],
          "heatmap": [
           {
            "colorbar": {
             "outlinewidth": 0,
             "ticks": ""
            },
            "colorscale": [
             [
              0,
              "#0d0887"
             ],
             [
              0.1111111111111111,
              "#46039f"
             ],
             [
              0.2222222222222222,
              "#7201a8"
             ],
             [
              0.3333333333333333,
              "#9c179e"
             ],
             [
              0.4444444444444444,
              "#bd3786"
             ],
             [
              0.5555555555555556,
              "#d8576b"
             ],
             [
              0.6666666666666666,
              "#ed7953"
             ],
             [
              0.7777777777777778,
              "#fb9f3a"
             ],
             [
              0.8888888888888888,
              "#fdca26"
             ],
             [
              1,
              "#f0f921"
             ]
            ],
            "type": "heatmap"
           }
          ],
          "heatmapgl": [
           {
            "colorbar": {
             "outlinewidth": 0,
             "ticks": ""
            },
            "colorscale": [
             [
              0,
              "#0d0887"
             ],
             [
              0.1111111111111111,
              "#46039f"
             ],
             [
              0.2222222222222222,
              "#7201a8"
             ],
             [
              0.3333333333333333,
              "#9c179e"
             ],
             [
              0.4444444444444444,
              "#bd3786"
             ],
             [
              0.5555555555555556,
              "#d8576b"
             ],
             [
              0.6666666666666666,
              "#ed7953"
             ],
             [
              0.7777777777777778,
              "#fb9f3a"
             ],
             [
              0.8888888888888888,
              "#fdca26"
             ],
             [
              1,
              "#f0f921"
             ]
            ],
            "type": "heatmapgl"
           }
          ],
          "histogram": [
           {
            "marker": {
             "pattern": {
              "fillmode": "overlay",
              "size": 10,
              "solidity": 0.2
             }
            },
            "type": "histogram"
           }
          ],
          "histogram2d": [
           {
            "colorbar": {
             "outlinewidth": 0,
             "ticks": ""
            },
            "colorscale": [
             [
              0,
              "#0d0887"
             ],
             [
              0.1111111111111111,
              "#46039f"
             ],
             [
              0.2222222222222222,
              "#7201a8"
             ],
             [
              0.3333333333333333,
              "#9c179e"
             ],
             [
              0.4444444444444444,
              "#bd3786"
             ],
             [
              0.5555555555555556,
              "#d8576b"
             ],
             [
              0.6666666666666666,
              "#ed7953"
             ],
             [
              0.7777777777777778,
              "#fb9f3a"
             ],
             [
              0.8888888888888888,
              "#fdca26"
             ],
             [
              1,
              "#f0f921"
             ]
            ],
            "type": "histogram2d"
           }
          ],
          "histogram2dcontour": [
           {
            "colorbar": {
             "outlinewidth": 0,
             "ticks": ""
            },
            "colorscale": [
             [
              0,
              "#0d0887"
             ],
             [
              0.1111111111111111,
              "#46039f"
             ],
             [
              0.2222222222222222,
              "#7201a8"
             ],
             [
              0.3333333333333333,
              "#9c179e"
             ],
             [
              0.4444444444444444,
              "#bd3786"
             ],
             [
              0.5555555555555556,
              "#d8576b"
             ],
             [
              0.6666666666666666,
              "#ed7953"
             ],
             [
              0.7777777777777778,
              "#fb9f3a"
             ],
             [
              0.8888888888888888,
              "#fdca26"
             ],
             [
              1,
              "#f0f921"
             ]
            ],
            "type": "histogram2dcontour"
           }
          ],
          "mesh3d": [
           {
            "colorbar": {
             "outlinewidth": 0,
             "ticks": ""
            },
            "type": "mesh3d"
           }
          ],
          "parcoords": [
           {
            "line": {
             "colorbar": {
              "outlinewidth": 0,
              "ticks": ""
             }
            },
            "type": "parcoords"
           }
          ],
          "pie": [
           {
            "automargin": true,
            "type": "pie"
           }
          ],
          "scatter": [
           {
            "fillpattern": {
             "fillmode": "overlay",
             "size": 10,
             "solidity": 0.2
            },
            "type": "scatter"
           }
          ],
          "scatter3d": [
           {
            "line": {
             "colorbar": {
              "outlinewidth": 0,
              "ticks": ""
             }
            },
            "marker": {
             "colorbar": {
              "outlinewidth": 0,
              "ticks": ""
             }
            },
            "type": "scatter3d"
           }
          ],
          "scattercarpet": [
           {
            "marker": {
             "colorbar": {
              "outlinewidth": 0,
              "ticks": ""
             }
            },
            "type": "scattercarpet"
           }
          ],
          "scattergeo": [
           {
            "marker": {
             "colorbar": {
              "outlinewidth": 0,
              "ticks": ""
             }
            },
            "type": "scattergeo"
           }
          ],
          "scattergl": [
           {
            "marker": {
             "colorbar": {
              "outlinewidth": 0,
              "ticks": ""
             }
            },
            "type": "scattergl"
           }
          ],
          "scattermapbox": [
           {
            "marker": {
             "colorbar": {
              "outlinewidth": 0,
              "ticks": ""
             }
            },
            "type": "scattermapbox"
           }
          ],
          "scatterpolar": [
           {
            "marker": {
             "colorbar": {
              "outlinewidth": 0,
              "ticks": ""
             }
            },
            "type": "scatterpolar"
           }
          ],
          "scatterpolargl": [
           {
            "marker": {
             "colorbar": {
              "outlinewidth": 0,
              "ticks": ""
             }
            },
            "type": "scatterpolargl"
           }
          ],
          "scatterternary": [
           {
            "marker": {
             "colorbar": {
              "outlinewidth": 0,
              "ticks": ""
             }
            },
            "type": "scatterternary"
           }
          ],
          "surface": [
           {
            "colorbar": {
             "outlinewidth": 0,
             "ticks": ""
            },
            "colorscale": [
             [
              0,
              "#0d0887"
             ],
             [
              0.1111111111111111,
              "#46039f"
             ],
             [
              0.2222222222222222,
              "#7201a8"
             ],
             [
              0.3333333333333333,
              "#9c179e"
             ],
             [
              0.4444444444444444,
              "#bd3786"
             ],
             [
              0.5555555555555556,
              "#d8576b"
             ],
             [
              0.6666666666666666,
              "#ed7953"
             ],
             [
              0.7777777777777778,
              "#fb9f3a"
             ],
             [
              0.8888888888888888,
              "#fdca26"
             ],
             [
              1,
              "#f0f921"
             ]
            ],
            "type": "surface"
           }
          ],
          "table": [
           {
            "cells": {
             "fill": {
              "color": "#EBF0F8"
             },
             "line": {
              "color": "white"
             }
            },
            "header": {
             "fill": {
              "color": "#C8D4E3"
             },
             "line": {
              "color": "white"
             }
            },
            "type": "table"
           }
          ]
         },
         "layout": {
          "annotationdefaults": {
           "arrowcolor": "#2a3f5f",
           "arrowhead": 0,
           "arrowwidth": 1
          },
          "autotypenumbers": "strict",
          "coloraxis": {
           "colorbar": {
            "outlinewidth": 0,
            "ticks": ""
           }
          },
          "colorscale": {
           "diverging": [
            [
             0,
             "#8e0152"
            ],
            [
             0.1,
             "#c51b7d"
            ],
            [
             0.2,
             "#de77ae"
            ],
            [
             0.3,
             "#f1b6da"
            ],
            [
             0.4,
             "#fde0ef"
            ],
            [
             0.5,
             "#f7f7f7"
            ],
            [
             0.6,
             "#e6f5d0"
            ],
            [
             0.7,
             "#b8e186"
            ],
            [
             0.8,
             "#7fbc41"
            ],
            [
             0.9,
             "#4d9221"
            ],
            [
             1,
             "#276419"
            ]
           ],
           "sequential": [
            [
             0,
             "#0d0887"
            ],
            [
             0.1111111111111111,
             "#46039f"
            ],
            [
             0.2222222222222222,
             "#7201a8"
            ],
            [
             0.3333333333333333,
             "#9c179e"
            ],
            [
             0.4444444444444444,
             "#bd3786"
            ],
            [
             0.5555555555555556,
             "#d8576b"
            ],
            [
             0.6666666666666666,
             "#ed7953"
            ],
            [
             0.7777777777777778,
             "#fb9f3a"
            ],
            [
             0.8888888888888888,
             "#fdca26"
            ],
            [
             1,
             "#f0f921"
            ]
           ],
           "sequentialminus": [
            [
             0,
             "#0d0887"
            ],
            [
             0.1111111111111111,
             "#46039f"
            ],
            [
             0.2222222222222222,
             "#7201a8"
            ],
            [
             0.3333333333333333,
             "#9c179e"
            ],
            [
             0.4444444444444444,
             "#bd3786"
            ],
            [
             0.5555555555555556,
             "#d8576b"
            ],
            [
             0.6666666666666666,
             "#ed7953"
            ],
            [
             0.7777777777777778,
             "#fb9f3a"
            ],
            [
             0.8888888888888888,
             "#fdca26"
            ],
            [
             1,
             "#f0f921"
            ]
           ]
          },
          "colorway": [
           "#636efa",
           "#EF553B",
           "#00cc96",
           "#ab63fa",
           "#FFA15A",
           "#19d3f3",
           "#FF6692",
           "#B6E880",
           "#FF97FF",
           "#FECB52"
          ],
          "font": {
           "color": "#2a3f5f"
          },
          "geo": {
           "bgcolor": "white",
           "lakecolor": "white",
           "landcolor": "#E5ECF6",
           "showlakes": true,
           "showland": true,
           "subunitcolor": "white"
          },
          "hoverlabel": {
           "align": "left"
          },
          "hovermode": "closest",
          "mapbox": {
           "style": "light"
          },
          "paper_bgcolor": "white",
          "plot_bgcolor": "#E5ECF6",
          "polar": {
           "angularaxis": {
            "gridcolor": "white",
            "linecolor": "white",
            "ticks": ""
           },
           "bgcolor": "#E5ECF6",
           "radialaxis": {
            "gridcolor": "white",
            "linecolor": "white",
            "ticks": ""
           }
          },
          "scene": {
           "xaxis": {
            "backgroundcolor": "#E5ECF6",
            "gridcolor": "white",
            "gridwidth": 2,
            "linecolor": "white",
            "showbackground": true,
            "ticks": "",
            "zerolinecolor": "white"
           },
           "yaxis": {
            "backgroundcolor": "#E5ECF6",
            "gridcolor": "white",
            "gridwidth": 2,
            "linecolor": "white",
            "showbackground": true,
            "ticks": "",
            "zerolinecolor": "white"
           },
           "zaxis": {
            "backgroundcolor": "#E5ECF6",
            "gridcolor": "white",
            "gridwidth": 2,
            "linecolor": "white",
            "showbackground": true,
            "ticks": "",
            "zerolinecolor": "white"
           }
          },
          "shapedefaults": {
           "line": {
            "color": "#2a3f5f"
           }
          },
          "ternary": {
           "aaxis": {
            "gridcolor": "white",
            "linecolor": "white",
            "ticks": ""
           },
           "baxis": {
            "gridcolor": "white",
            "linecolor": "white",
            "ticks": ""
           },
           "bgcolor": "#E5ECF6",
           "caxis": {
            "gridcolor": "white",
            "linecolor": "white",
            "ticks": ""
           }
          },
          "title": {
           "x": 0.05
          },
          "xaxis": {
           "automargin": true,
           "gridcolor": "white",
           "linecolor": "white",
           "ticks": "",
           "title": {
            "standoff": 15
           },
           "zerolinecolor": "white",
           "zerolinewidth": 2
          },
          "yaxis": {
           "automargin": true,
           "gridcolor": "white",
           "linecolor": "white",
           "ticks": "",
           "title": {
            "standoff": 15
           },
           "zerolinecolor": "white",
           "zerolinewidth": 2
          }
         }
        }
       }
      }
     },
     "metadata": {},
     "output_type": "display_data"
    }
   ],
   "source": [
    "gastos_jul = pd.read_csv('cartao_pagamento_2022_orgaos/202207_CPGF.csv', encoding='latin1', delimiter=';')\n",
    "\n",
    "gastos_jul.loc[:, 'VALOR TRANSAÇÃO'] = pd.to_numeric(gastos_jul['VALOR TRANSAÇÃO'].str.replace(\",\", '.'), errors='coerce')\n",
    "\n",
    "gastos_por_orgao_jul = gastos_jul.groupby('NOME ÓRGÃO SUPERIOR').agg({'VALOR TRANSAÇÃO': sum}).reset_index()\n",
    "gastos_por_orgao_jul = gastos_por_orgao_jul.sort_values('VALOR TRANSAÇÃO', ascending=False).reset_index()\n",
    "\n",
    "df = pd.DataFrame(gastos_por_orgao_jul)\n",
    "df.to_csv(sep=',', index=False, header=True, path_or_buf='CPGF_2022_tables_tratadas/jul_2022.csv')\n",
    "\n",
    "fig_jul = px.treemap(gastos_por_orgao_jul, path=[px.Constant('Cartão de Pagamento do Governo Federal (CPGF)'), 'NOME ÓRGÃO SUPERIOR'], values='VALOR TRANSAÇÃO',\n",
    "                  color='NOME ÓRGÃO SUPERIOR')\n",
    "fig_jul.show()"
   ]
  },
  {
   "cell_type": "code",
   "execution_count": 29,
   "metadata": {},
   "outputs": [
    {
     "name": "stderr",
     "output_type": "stream",
     "text": [
      "/tmp/ipykernel_23205/3490085207.py:3: FutureWarning:\n",
      "\n",
      "In a future version, `df.iloc[:, i] = newvals` will attempt to set the values inplace instead of always setting a new array. To retain the old behavior, use either `df[df.columns[i]] = newvals` or, if columns are non-unique, `df.isetitem(i, newvals)`\n",
      "\n"
     ]
    },
    {
     "data": {
      "application/vnd.plotly.v1+json": {
       "config": {
        "plotlyServerURL": "https://plot.ly"
       },
       "data": [
        {
         "branchvalues": "total",
         "customdata": [
          [
           "Ministério de Minas e Energia"
          ],
          [
           "Ministério das Comunicações"
          ],
          [
           "Presidência da República"
          ],
          [
           "Ministério da Defesa"
          ],
          [
           "Ministério da Justiça e Segurança Pública"
          ],
          [
           "Ministério da Agricultura, Pecuária e Abastec"
          ],
          [
           "Controladoria-Geral da União"
          ],
          [
           "Ministério da Ciência, Tecnologia, Inovações "
          ],
          [
           "Ministério do Desenvolvimento Regional"
          ],
          [
           "Banco Central do Brasil - Orçamento Fiscal e "
          ],
          [
           "Ministério do Trabalho"
          ],
          [
           "Ministério da Educação"
          ],
          [
           "Ministério das Relações Exteriores"
          ],
          [
           "Ministério do Trabalho e Emprego"
          ],
          [
           "Ministério da Saúde"
          ],
          [
           "Ministério da Mulher, Família e Direitos Huma"
          ],
          [
           "Ministério da Economia"
          ],
          [
           "Ministério da Infraestrutura"
          ],
          [
           "Ministério do Turismo"
          ],
          [
           "Ministério do Meio Ambiente"
          ],
          [
           "Advocacia-Geral da União"
          ],
          [
           "(?)"
          ]
         ],
         "domain": {
          "x": [
           0,
           1
          ],
          "y": [
           0,
           1
          ]
         },
         "hovertemplate": "labels=%{label}<br>VALOR TRANSAÇÃO=%{value}<br>parent=%{parent}<br>id=%{id}<br>NOME ÓRGÃO SUPERIOR=%{customdata[0]}<extra></extra>",
         "ids": [
          "Cartão de Pagamento do Governo Federal (CPGF)/Ministério de Minas e Energia",
          "Cartão de Pagamento do Governo Federal (CPGF)/Ministério das Comunicações",
          "Cartão de Pagamento do Governo Federal (CPGF)/Presidência da República",
          "Cartão de Pagamento do Governo Federal (CPGF)/Ministério da Defesa",
          "Cartão de Pagamento do Governo Federal (CPGF)/Ministério da Justiça e Segurança Pública",
          "Cartão de Pagamento do Governo Federal (CPGF)/Ministério da Agricultura, Pecuária e Abastec",
          "Cartão de Pagamento do Governo Federal (CPGF)/Controladoria-Geral da União",
          "Cartão de Pagamento do Governo Federal (CPGF)/Ministério da Ciência, Tecnologia, Inovações ",
          "Cartão de Pagamento do Governo Federal (CPGF)/Ministério do Desenvolvimento Regional",
          "Cartão de Pagamento do Governo Federal (CPGF)/Banco Central do Brasil - Orçamento Fiscal e ",
          "Cartão de Pagamento do Governo Federal (CPGF)/Ministério do Trabalho",
          "Cartão de Pagamento do Governo Federal (CPGF)/Ministério da Educação",
          "Cartão de Pagamento do Governo Federal (CPGF)/Ministério das Relações Exteriores",
          "Cartão de Pagamento do Governo Federal (CPGF)/Ministério do Trabalho e Emprego",
          "Cartão de Pagamento do Governo Federal (CPGF)/Ministério da Saúde",
          "Cartão de Pagamento do Governo Federal (CPGF)/Ministério da Mulher, Família e Direitos Huma",
          "Cartão de Pagamento do Governo Federal (CPGF)/Ministério da Economia",
          "Cartão de Pagamento do Governo Federal (CPGF)/Ministério da Infraestrutura",
          "Cartão de Pagamento do Governo Federal (CPGF)/Ministério do Turismo",
          "Cartão de Pagamento do Governo Federal (CPGF)/Ministério do Meio Ambiente",
          "Cartão de Pagamento do Governo Federal (CPGF)/Advocacia-Geral da União",
          "Cartão de Pagamento do Governo Federal (CPGF)"
         ],
         "labels": [
          "Ministério de Minas e Energia",
          "Ministério das Comunicações",
          "Presidência da República",
          "Ministério da Defesa",
          "Ministério da Justiça e Segurança Pública",
          "Ministério da Agricultura, Pecuária e Abastec",
          "Controladoria-Geral da União",
          "Ministério da Ciência, Tecnologia, Inovações ",
          "Ministério do Desenvolvimento Regional",
          "Banco Central do Brasil - Orçamento Fiscal e ",
          "Ministério do Trabalho",
          "Ministério da Educação",
          "Ministério das Relações Exteriores",
          "Ministério do Trabalho e Emprego",
          "Ministério da Saúde",
          "Ministério da Mulher, Família e Direitos Huma",
          "Ministério da Economia",
          "Ministério da Infraestrutura",
          "Ministério do Turismo",
          "Ministério do Meio Ambiente",
          "Advocacia-Geral da União",
          "Cartão de Pagamento do Governo Federal (CPGF)"
         ],
         "marker": {
          "colors": [
           "#636efa",
           "#EF553B",
           "#00cc96",
           "#ab63fa",
           "#FFA15A",
           "#19d3f3",
           "#FF6692",
           "#B6E880",
           "#FF97FF",
           "#FECB52",
           "#636efa",
           "#EF553B",
           "#00cc96",
           "#ab63fa",
           "#FFA15A",
           "#19d3f3",
           "#FF6692",
           "#B6E880",
           "#FF97FF",
           "#FECB52",
           "#636efa",
           "#EF553B"
          ]
         },
         "name": "",
         "parents": [
          "Cartão de Pagamento do Governo Federal (CPGF)",
          "Cartão de Pagamento do Governo Federal (CPGF)",
          "Cartão de Pagamento do Governo Federal (CPGF)",
          "Cartão de Pagamento do Governo Federal (CPGF)",
          "Cartão de Pagamento do Governo Federal (CPGF)",
          "Cartão de Pagamento do Governo Federal (CPGF)",
          "Cartão de Pagamento do Governo Federal (CPGF)",
          "Cartão de Pagamento do Governo Federal (CPGF)",
          "Cartão de Pagamento do Governo Federal (CPGF)",
          "Cartão de Pagamento do Governo Federal (CPGF)",
          "Cartão de Pagamento do Governo Federal (CPGF)",
          "Cartão de Pagamento do Governo Federal (CPGF)",
          "Cartão de Pagamento do Governo Federal (CPGF)",
          "Cartão de Pagamento do Governo Federal (CPGF)",
          "Cartão de Pagamento do Governo Federal (CPGF)",
          "Cartão de Pagamento do Governo Federal (CPGF)",
          "Cartão de Pagamento do Governo Federal (CPGF)",
          "Cartão de Pagamento do Governo Federal (CPGF)",
          "Cartão de Pagamento do Governo Federal (CPGF)",
          "Cartão de Pagamento do Governo Federal (CPGF)",
          "Cartão de Pagamento do Governo Federal (CPGF)",
          ""
         ],
         "type": "treemap",
         "values": [
          57276.43,
          17403.66,
          2132093.64,
          633638.65,
          1756114.97,
          308436.51,
          1322.45,
          76919.34,
          65926.93000000001,
          31421.52,
          95753.86,
          607310.35,
          1786.21,
          1711.45,
          169843.69,
          2447.4,
          1709398.02,
          9541.78,
          6711.23,
          203065.29,
          15146.01,
          7903269.390000001
         ]
        }
       ],
       "layout": {
        "legend": {
         "tracegroupgap": 0
        },
        "margin": {
         "t": 60
        },
        "template": {
         "data": {
          "bar": [
           {
            "error_x": {
             "color": "#2a3f5f"
            },
            "error_y": {
             "color": "#2a3f5f"
            },
            "marker": {
             "line": {
              "color": "#E5ECF6",
              "width": 0.5
             },
             "pattern": {
              "fillmode": "overlay",
              "size": 10,
              "solidity": 0.2
             }
            },
            "type": "bar"
           }
          ],
          "barpolar": [
           {
            "marker": {
             "line": {
              "color": "#E5ECF6",
              "width": 0.5
             },
             "pattern": {
              "fillmode": "overlay",
              "size": 10,
              "solidity": 0.2
             }
            },
            "type": "barpolar"
           }
          ],
          "carpet": [
           {
            "aaxis": {
             "endlinecolor": "#2a3f5f",
             "gridcolor": "white",
             "linecolor": "white",
             "minorgridcolor": "white",
             "startlinecolor": "#2a3f5f"
            },
            "baxis": {
             "endlinecolor": "#2a3f5f",
             "gridcolor": "white",
             "linecolor": "white",
             "minorgridcolor": "white",
             "startlinecolor": "#2a3f5f"
            },
            "type": "carpet"
           }
          ],
          "choropleth": [
           {
            "colorbar": {
             "outlinewidth": 0,
             "ticks": ""
            },
            "type": "choropleth"
           }
          ],
          "contour": [
           {
            "colorbar": {
             "outlinewidth": 0,
             "ticks": ""
            },
            "colorscale": [
             [
              0,
              "#0d0887"
             ],
             [
              0.1111111111111111,
              "#46039f"
             ],
             [
              0.2222222222222222,
              "#7201a8"
             ],
             [
              0.3333333333333333,
              "#9c179e"
             ],
             [
              0.4444444444444444,
              "#bd3786"
             ],
             [
              0.5555555555555556,
              "#d8576b"
             ],
             [
              0.6666666666666666,
              "#ed7953"
             ],
             [
              0.7777777777777778,
              "#fb9f3a"
             ],
             [
              0.8888888888888888,
              "#fdca26"
             ],
             [
              1,
              "#f0f921"
             ]
            ],
            "type": "contour"
           }
          ],
          "contourcarpet": [
           {
            "colorbar": {
             "outlinewidth": 0,
             "ticks": ""
            },
            "type": "contourcarpet"
           }
          ],
          "heatmap": [
           {
            "colorbar": {
             "outlinewidth": 0,
             "ticks": ""
            },
            "colorscale": [
             [
              0,
              "#0d0887"
             ],
             [
              0.1111111111111111,
              "#46039f"
             ],
             [
              0.2222222222222222,
              "#7201a8"
             ],
             [
              0.3333333333333333,
              "#9c179e"
             ],
             [
              0.4444444444444444,
              "#bd3786"
             ],
             [
              0.5555555555555556,
              "#d8576b"
             ],
             [
              0.6666666666666666,
              "#ed7953"
             ],
             [
              0.7777777777777778,
              "#fb9f3a"
             ],
             [
              0.8888888888888888,
              "#fdca26"
             ],
             [
              1,
              "#f0f921"
             ]
            ],
            "type": "heatmap"
           }
          ],
          "heatmapgl": [
           {
            "colorbar": {
             "outlinewidth": 0,
             "ticks": ""
            },
            "colorscale": [
             [
              0,
              "#0d0887"
             ],
             [
              0.1111111111111111,
              "#46039f"
             ],
             [
              0.2222222222222222,
              "#7201a8"
             ],
             [
              0.3333333333333333,
              "#9c179e"
             ],
             [
              0.4444444444444444,
              "#bd3786"
             ],
             [
              0.5555555555555556,
              "#d8576b"
             ],
             [
              0.6666666666666666,
              "#ed7953"
             ],
             [
              0.7777777777777778,
              "#fb9f3a"
             ],
             [
              0.8888888888888888,
              "#fdca26"
             ],
             [
              1,
              "#f0f921"
             ]
            ],
            "type": "heatmapgl"
           }
          ],
          "histogram": [
           {
            "marker": {
             "pattern": {
              "fillmode": "overlay",
              "size": 10,
              "solidity": 0.2
             }
            },
            "type": "histogram"
           }
          ],
          "histogram2d": [
           {
            "colorbar": {
             "outlinewidth": 0,
             "ticks": ""
            },
            "colorscale": [
             [
              0,
              "#0d0887"
             ],
             [
              0.1111111111111111,
              "#46039f"
             ],
             [
              0.2222222222222222,
              "#7201a8"
             ],
             [
              0.3333333333333333,
              "#9c179e"
             ],
             [
              0.4444444444444444,
              "#bd3786"
             ],
             [
              0.5555555555555556,
              "#d8576b"
             ],
             [
              0.6666666666666666,
              "#ed7953"
             ],
             [
              0.7777777777777778,
              "#fb9f3a"
             ],
             [
              0.8888888888888888,
              "#fdca26"
             ],
             [
              1,
              "#f0f921"
             ]
            ],
            "type": "histogram2d"
           }
          ],
          "histogram2dcontour": [
           {
            "colorbar": {
             "outlinewidth": 0,
             "ticks": ""
            },
            "colorscale": [
             [
              0,
              "#0d0887"
             ],
             [
              0.1111111111111111,
              "#46039f"
             ],
             [
              0.2222222222222222,
              "#7201a8"
             ],
             [
              0.3333333333333333,
              "#9c179e"
             ],
             [
              0.4444444444444444,
              "#bd3786"
             ],
             [
              0.5555555555555556,
              "#d8576b"
             ],
             [
              0.6666666666666666,
              "#ed7953"
             ],
             [
              0.7777777777777778,
              "#fb9f3a"
             ],
             [
              0.8888888888888888,
              "#fdca26"
             ],
             [
              1,
              "#f0f921"
             ]
            ],
            "type": "histogram2dcontour"
           }
          ],
          "mesh3d": [
           {
            "colorbar": {
             "outlinewidth": 0,
             "ticks": ""
            },
            "type": "mesh3d"
           }
          ],
          "parcoords": [
           {
            "line": {
             "colorbar": {
              "outlinewidth": 0,
              "ticks": ""
             }
            },
            "type": "parcoords"
           }
          ],
          "pie": [
           {
            "automargin": true,
            "type": "pie"
           }
          ],
          "scatter": [
           {
            "fillpattern": {
             "fillmode": "overlay",
             "size": 10,
             "solidity": 0.2
            },
            "type": "scatter"
           }
          ],
          "scatter3d": [
           {
            "line": {
             "colorbar": {
              "outlinewidth": 0,
              "ticks": ""
             }
            },
            "marker": {
             "colorbar": {
              "outlinewidth": 0,
              "ticks": ""
             }
            },
            "type": "scatter3d"
           }
          ],
          "scattercarpet": [
           {
            "marker": {
             "colorbar": {
              "outlinewidth": 0,
              "ticks": ""
             }
            },
            "type": "scattercarpet"
           }
          ],
          "scattergeo": [
           {
            "marker": {
             "colorbar": {
              "outlinewidth": 0,
              "ticks": ""
             }
            },
            "type": "scattergeo"
           }
          ],
          "scattergl": [
           {
            "marker": {
             "colorbar": {
              "outlinewidth": 0,
              "ticks": ""
             }
            },
            "type": "scattergl"
           }
          ],
          "scattermapbox": [
           {
            "marker": {
             "colorbar": {
              "outlinewidth": 0,
              "ticks": ""
             }
            },
            "type": "scattermapbox"
           }
          ],
          "scatterpolar": [
           {
            "marker": {
             "colorbar": {
              "outlinewidth": 0,
              "ticks": ""
             }
            },
            "type": "scatterpolar"
           }
          ],
          "scatterpolargl": [
           {
            "marker": {
             "colorbar": {
              "outlinewidth": 0,
              "ticks": ""
             }
            },
            "type": "scatterpolargl"
           }
          ],
          "scatterternary": [
           {
            "marker": {
             "colorbar": {
              "outlinewidth": 0,
              "ticks": ""
             }
            },
            "type": "scatterternary"
           }
          ],
          "surface": [
           {
            "colorbar": {
             "outlinewidth": 0,
             "ticks": ""
            },
            "colorscale": [
             [
              0,
              "#0d0887"
             ],
             [
              0.1111111111111111,
              "#46039f"
             ],
             [
              0.2222222222222222,
              "#7201a8"
             ],
             [
              0.3333333333333333,
              "#9c179e"
             ],
             [
              0.4444444444444444,
              "#bd3786"
             ],
             [
              0.5555555555555556,
              "#d8576b"
             ],
             [
              0.6666666666666666,
              "#ed7953"
             ],
             [
              0.7777777777777778,
              "#fb9f3a"
             ],
             [
              0.8888888888888888,
              "#fdca26"
             ],
             [
              1,
              "#f0f921"
             ]
            ],
            "type": "surface"
           }
          ],
          "table": [
           {
            "cells": {
             "fill": {
              "color": "#EBF0F8"
             },
             "line": {
              "color": "white"
             }
            },
            "header": {
             "fill": {
              "color": "#C8D4E3"
             },
             "line": {
              "color": "white"
             }
            },
            "type": "table"
           }
          ]
         },
         "layout": {
          "annotationdefaults": {
           "arrowcolor": "#2a3f5f",
           "arrowhead": 0,
           "arrowwidth": 1
          },
          "autotypenumbers": "strict",
          "coloraxis": {
           "colorbar": {
            "outlinewidth": 0,
            "ticks": ""
           }
          },
          "colorscale": {
           "diverging": [
            [
             0,
             "#8e0152"
            ],
            [
             0.1,
             "#c51b7d"
            ],
            [
             0.2,
             "#de77ae"
            ],
            [
             0.3,
             "#f1b6da"
            ],
            [
             0.4,
             "#fde0ef"
            ],
            [
             0.5,
             "#f7f7f7"
            ],
            [
             0.6,
             "#e6f5d0"
            ],
            [
             0.7,
             "#b8e186"
            ],
            [
             0.8,
             "#7fbc41"
            ],
            [
             0.9,
             "#4d9221"
            ],
            [
             1,
             "#276419"
            ]
           ],
           "sequential": [
            [
             0,
             "#0d0887"
            ],
            [
             0.1111111111111111,
             "#46039f"
            ],
            [
             0.2222222222222222,
             "#7201a8"
            ],
            [
             0.3333333333333333,
             "#9c179e"
            ],
            [
             0.4444444444444444,
             "#bd3786"
            ],
            [
             0.5555555555555556,
             "#d8576b"
            ],
            [
             0.6666666666666666,
             "#ed7953"
            ],
            [
             0.7777777777777778,
             "#fb9f3a"
            ],
            [
             0.8888888888888888,
             "#fdca26"
            ],
            [
             1,
             "#f0f921"
            ]
           ],
           "sequentialminus": [
            [
             0,
             "#0d0887"
            ],
            [
             0.1111111111111111,
             "#46039f"
            ],
            [
             0.2222222222222222,
             "#7201a8"
            ],
            [
             0.3333333333333333,
             "#9c179e"
            ],
            [
             0.4444444444444444,
             "#bd3786"
            ],
            [
             0.5555555555555556,
             "#d8576b"
            ],
            [
             0.6666666666666666,
             "#ed7953"
            ],
            [
             0.7777777777777778,
             "#fb9f3a"
            ],
            [
             0.8888888888888888,
             "#fdca26"
            ],
            [
             1,
             "#f0f921"
            ]
           ]
          },
          "colorway": [
           "#636efa",
           "#EF553B",
           "#00cc96",
           "#ab63fa",
           "#FFA15A",
           "#19d3f3",
           "#FF6692",
           "#B6E880",
           "#FF97FF",
           "#FECB52"
          ],
          "font": {
           "color": "#2a3f5f"
          },
          "geo": {
           "bgcolor": "white",
           "lakecolor": "white",
           "landcolor": "#E5ECF6",
           "showlakes": true,
           "showland": true,
           "subunitcolor": "white"
          },
          "hoverlabel": {
           "align": "left"
          },
          "hovermode": "closest",
          "mapbox": {
           "style": "light"
          },
          "paper_bgcolor": "white",
          "plot_bgcolor": "#E5ECF6",
          "polar": {
           "angularaxis": {
            "gridcolor": "white",
            "linecolor": "white",
            "ticks": ""
           },
           "bgcolor": "#E5ECF6",
           "radialaxis": {
            "gridcolor": "white",
            "linecolor": "white",
            "ticks": ""
           }
          },
          "scene": {
           "xaxis": {
            "backgroundcolor": "#E5ECF6",
            "gridcolor": "white",
            "gridwidth": 2,
            "linecolor": "white",
            "showbackground": true,
            "ticks": "",
            "zerolinecolor": "white"
           },
           "yaxis": {
            "backgroundcolor": "#E5ECF6",
            "gridcolor": "white",
            "gridwidth": 2,
            "linecolor": "white",
            "showbackground": true,
            "ticks": "",
            "zerolinecolor": "white"
           },
           "zaxis": {
            "backgroundcolor": "#E5ECF6",
            "gridcolor": "white",
            "gridwidth": 2,
            "linecolor": "white",
            "showbackground": true,
            "ticks": "",
            "zerolinecolor": "white"
           }
          },
          "shapedefaults": {
           "line": {
            "color": "#2a3f5f"
           }
          },
          "ternary": {
           "aaxis": {
            "gridcolor": "white",
            "linecolor": "white",
            "ticks": ""
           },
           "baxis": {
            "gridcolor": "white",
            "linecolor": "white",
            "ticks": ""
           },
           "bgcolor": "#E5ECF6",
           "caxis": {
            "gridcolor": "white",
            "linecolor": "white",
            "ticks": ""
           }
          },
          "title": {
           "x": 0.05
          },
          "xaxis": {
           "automargin": true,
           "gridcolor": "white",
           "linecolor": "white",
           "ticks": "",
           "title": {
            "standoff": 15
           },
           "zerolinecolor": "white",
           "zerolinewidth": 2
          },
          "yaxis": {
           "automargin": true,
           "gridcolor": "white",
           "linecolor": "white",
           "ticks": "",
           "title": {
            "standoff": 15
           },
           "zerolinecolor": "white",
           "zerolinewidth": 2
          }
         }
        }
       }
      }
     },
     "metadata": {},
     "output_type": "display_data"
    }
   ],
   "source": [
    "gastos_ago = pd.read_csv('cartao_pagamento_2022_orgaos/202208_CPGF.csv', encoding='latin1', delimiter=';')\n",
    "\n",
    "gastos_ago.loc[:, 'VALOR TRANSAÇÃO'] = pd.to_numeric(gastos_ago['VALOR TRANSAÇÃO'].str.replace(\",\", '.'), errors='coerce')\n",
    "\n",
    "gastos_por_orgao_ago = gastos_ago.groupby('NOME ÓRGÃO SUPERIOR').agg({'VALOR TRANSAÇÃO': sum}).reset_index()\n",
    "gastos_por_orgao_ago = gastos_por_orgao_ago.sort_values('VALOR TRANSAÇÃO', ascending=False).reset_index()\n",
    "\n",
    "df = pd.DataFrame(gastos_por_orgao_ago)\n",
    "df.to_csv(sep=',', index=False, header=True, path_or_buf='CPGF_2022_tables_tratadas/ago_2022.csv')\n",
    "\n",
    "fig_ago = px.treemap(gastos_por_orgao_ago, path=[px.Constant('Cartão de Pagamento do Governo Federal (CPGF)'), 'NOME ÓRGÃO SUPERIOR'], values='VALOR TRANSAÇÃO',\n",
    "                  color='NOME ÓRGÃO SUPERIOR')\n",
    "fig_ago.show()"
   ]
  },
  {
   "cell_type": "code",
   "execution_count": 30,
   "metadata": {},
   "outputs": [
    {
     "name": "stderr",
     "output_type": "stream",
     "text": [
      "/tmp/ipykernel_23205/1535904102.py:3: FutureWarning:\n",
      "\n",
      "In a future version, `df.iloc[:, i] = newvals` will attempt to set the values inplace instead of always setting a new array. To retain the old behavior, use either `df[df.columns[i]] = newvals` or, if columns are non-unique, `df.isetitem(i, newvals)`\n",
      "\n"
     ]
    },
    {
     "data": {
      "application/vnd.plotly.v1+json": {
       "config": {
        "plotlyServerURL": "https://plot.ly"
       },
       "data": [
        {
         "branchvalues": "total",
         "customdata": [
          [
           "Ministério das Relações Exteriores"
          ],
          [
           "Ministério das Comunicações"
          ],
          [
           "Ministério do Trabalho"
          ],
          [
           "Ministério da Defesa"
          ],
          [
           "Ministério da Mulher, Família e Direitos Huma"
          ],
          [
           "Ministério da Agricultura, Pecuária e Abastec"
          ],
          [
           "Controladoria-Geral da União"
          ],
          [
           "Ministério da Ciência, Tecnologia, Inovações "
          ],
          [
           "Ministério de Minas e Energia"
          ],
          [
           "Advocacia-Geral da União"
          ],
          [
           "Ministério do Turismo"
          ],
          [
           "Ministério da Economia"
          ],
          [
           "Ministério do Meio Ambiente"
          ],
          [
           "Presidência da República"
          ],
          [
           "Ministério da Saúde"
          ],
          [
           "Ministério da Justiça e Segurança Pública"
          ],
          [
           "Ministério da Educação"
          ],
          [
           "Ministério da Infraestrutura"
          ],
          [
           "Ministério do Trabalho e Emprego"
          ],
          [
           "Ministério do Desenvolvimento Regional"
          ],
          [
           "Banco Central do Brasil - Orçamento Fiscal e "
          ],
          [
           "(?)"
          ]
         ],
         "domain": {
          "x": [
           0,
           1
          ],
          "y": [
           0,
           1
          ]
         },
         "hovertemplate": "labels=%{label}<br>VALOR TRANSAÇÃO=%{value}<br>parent=%{parent}<br>id=%{id}<br>NOME ÓRGÃO SUPERIOR=%{customdata[0]}<extra></extra>",
         "ids": [
          "Cartão de Pagamento do Governo Federal (CPGF)/Ministério das Relações Exteriores",
          "Cartão de Pagamento do Governo Federal (CPGF)/Ministério das Comunicações",
          "Cartão de Pagamento do Governo Federal (CPGF)/Ministério do Trabalho",
          "Cartão de Pagamento do Governo Federal (CPGF)/Ministério da Defesa",
          "Cartão de Pagamento do Governo Federal (CPGF)/Ministério da Mulher, Família e Direitos Huma",
          "Cartão de Pagamento do Governo Federal (CPGF)/Ministério da Agricultura, Pecuária e Abastec",
          "Cartão de Pagamento do Governo Federal (CPGF)/Controladoria-Geral da União",
          "Cartão de Pagamento do Governo Federal (CPGF)/Ministério da Ciência, Tecnologia, Inovações ",
          "Cartão de Pagamento do Governo Federal (CPGF)/Ministério de Minas e Energia",
          "Cartão de Pagamento do Governo Federal (CPGF)/Advocacia-Geral da União",
          "Cartão de Pagamento do Governo Federal (CPGF)/Ministério do Turismo",
          "Cartão de Pagamento do Governo Federal (CPGF)/Ministério da Economia",
          "Cartão de Pagamento do Governo Federal (CPGF)/Ministério do Meio Ambiente",
          "Cartão de Pagamento do Governo Federal (CPGF)/Presidência da República",
          "Cartão de Pagamento do Governo Federal (CPGF)/Ministério da Saúde",
          "Cartão de Pagamento do Governo Federal (CPGF)/Ministério da Justiça e Segurança Pública",
          "Cartão de Pagamento do Governo Federal (CPGF)/Ministério da Educação",
          "Cartão de Pagamento do Governo Federal (CPGF)/Ministério da Infraestrutura",
          "Cartão de Pagamento do Governo Federal (CPGF)/Ministério do Trabalho e Emprego",
          "Cartão de Pagamento do Governo Federal (CPGF)/Ministério do Desenvolvimento Regional",
          "Cartão de Pagamento do Governo Federal (CPGF)/Banco Central do Brasil - Orçamento Fiscal e ",
          "Cartão de Pagamento do Governo Federal (CPGF)"
         ],
         "labels": [
          "Ministério das Relações Exteriores",
          "Ministério das Comunicações",
          "Ministério do Trabalho",
          "Ministério da Defesa",
          "Ministério da Mulher, Família e Direitos Huma",
          "Ministério da Agricultura, Pecuária e Abastec",
          "Controladoria-Geral da União",
          "Ministério da Ciência, Tecnologia, Inovações ",
          "Ministério de Minas e Energia",
          "Advocacia-Geral da União",
          "Ministério do Turismo",
          "Ministério da Economia",
          "Ministério do Meio Ambiente",
          "Presidência da República",
          "Ministério da Saúde",
          "Ministério da Justiça e Segurança Pública",
          "Ministério da Educação",
          "Ministério da Infraestrutura",
          "Ministério do Trabalho e Emprego",
          "Ministério do Desenvolvimento Regional",
          "Banco Central do Brasil - Orçamento Fiscal e ",
          "Cartão de Pagamento do Governo Federal (CPGF)"
         ],
         "marker": {
          "colors": [
           "#636efa",
           "#EF553B",
           "#00cc96",
           "#ab63fa",
           "#FFA15A",
           "#19d3f3",
           "#FF6692",
           "#B6E880",
           "#FF97FF",
           "#FECB52",
           "#636efa",
           "#EF553B",
           "#00cc96",
           "#ab63fa",
           "#FFA15A",
           "#19d3f3",
           "#FF6692",
           "#B6E880",
           "#FF97FF",
           "#FECB52",
           "#636efa",
           "#EF553B"
          ]
         },
         "name": "",
         "parents": [
          "Cartão de Pagamento do Governo Federal (CPGF)",
          "Cartão de Pagamento do Governo Federal (CPGF)",
          "Cartão de Pagamento do Governo Federal (CPGF)",
          "Cartão de Pagamento do Governo Federal (CPGF)",
          "Cartão de Pagamento do Governo Federal (CPGF)",
          "Cartão de Pagamento do Governo Federal (CPGF)",
          "Cartão de Pagamento do Governo Federal (CPGF)",
          "Cartão de Pagamento do Governo Federal (CPGF)",
          "Cartão de Pagamento do Governo Federal (CPGF)",
          "Cartão de Pagamento do Governo Federal (CPGF)",
          "Cartão de Pagamento do Governo Federal (CPGF)",
          "Cartão de Pagamento do Governo Federal (CPGF)",
          "Cartão de Pagamento do Governo Federal (CPGF)",
          "Cartão de Pagamento do Governo Federal (CPGF)",
          "Cartão de Pagamento do Governo Federal (CPGF)",
          "Cartão de Pagamento do Governo Federal (CPGF)",
          "Cartão de Pagamento do Governo Federal (CPGF)",
          "Cartão de Pagamento do Governo Federal (CPGF)",
          "Cartão de Pagamento do Governo Federal (CPGF)",
          "Cartão de Pagamento do Governo Federal (CPGF)",
          "Cartão de Pagamento do Governo Federal (CPGF)",
          ""
         ],
         "type": "treemap",
         "values": [
          279.85,
          10919,
          95144.28,
          930579.61,
          2772.2,
          367365.09,
          7925.1,
          85479.19,
          67158.31,
          31991.51,
          10920,
          1876132.14,
          160676.99,
          2355973.25,
          181423.07,
          3382706.13,
          695556.66,
          22152.63,
          3229,
          90158.93,
          32432.47,
          10410975.41
         ]
        }
       ],
       "layout": {
        "legend": {
         "tracegroupgap": 0
        },
        "margin": {
         "t": 60
        },
        "template": {
         "data": {
          "bar": [
           {
            "error_x": {
             "color": "#2a3f5f"
            },
            "error_y": {
             "color": "#2a3f5f"
            },
            "marker": {
             "line": {
              "color": "#E5ECF6",
              "width": 0.5
             },
             "pattern": {
              "fillmode": "overlay",
              "size": 10,
              "solidity": 0.2
             }
            },
            "type": "bar"
           }
          ],
          "barpolar": [
           {
            "marker": {
             "line": {
              "color": "#E5ECF6",
              "width": 0.5
             },
             "pattern": {
              "fillmode": "overlay",
              "size": 10,
              "solidity": 0.2
             }
            },
            "type": "barpolar"
           }
          ],
          "carpet": [
           {
            "aaxis": {
             "endlinecolor": "#2a3f5f",
             "gridcolor": "white",
             "linecolor": "white",
             "minorgridcolor": "white",
             "startlinecolor": "#2a3f5f"
            },
            "baxis": {
             "endlinecolor": "#2a3f5f",
             "gridcolor": "white",
             "linecolor": "white",
             "minorgridcolor": "white",
             "startlinecolor": "#2a3f5f"
            },
            "type": "carpet"
           }
          ],
          "choropleth": [
           {
            "colorbar": {
             "outlinewidth": 0,
             "ticks": ""
            },
            "type": "choropleth"
           }
          ],
          "contour": [
           {
            "colorbar": {
             "outlinewidth": 0,
             "ticks": ""
            },
            "colorscale": [
             [
              0,
              "#0d0887"
             ],
             [
              0.1111111111111111,
              "#46039f"
             ],
             [
              0.2222222222222222,
              "#7201a8"
             ],
             [
              0.3333333333333333,
              "#9c179e"
             ],
             [
              0.4444444444444444,
              "#bd3786"
             ],
             [
              0.5555555555555556,
              "#d8576b"
             ],
             [
              0.6666666666666666,
              "#ed7953"
             ],
             [
              0.7777777777777778,
              "#fb9f3a"
             ],
             [
              0.8888888888888888,
              "#fdca26"
             ],
             [
              1,
              "#f0f921"
             ]
            ],
            "type": "contour"
           }
          ],
          "contourcarpet": [
           {
            "colorbar": {
             "outlinewidth": 0,
             "ticks": ""
            },
            "type": "contourcarpet"
           }
          ],
          "heatmap": [
           {
            "colorbar": {
             "outlinewidth": 0,
             "ticks": ""
            },
            "colorscale": [
             [
              0,
              "#0d0887"
             ],
             [
              0.1111111111111111,
              "#46039f"
             ],
             [
              0.2222222222222222,
              "#7201a8"
             ],
             [
              0.3333333333333333,
              "#9c179e"
             ],
             [
              0.4444444444444444,
              "#bd3786"
             ],
             [
              0.5555555555555556,
              "#d8576b"
             ],
             [
              0.6666666666666666,
              "#ed7953"
             ],
             [
              0.7777777777777778,
              "#fb9f3a"
             ],
             [
              0.8888888888888888,
              "#fdca26"
             ],
             [
              1,
              "#f0f921"
             ]
            ],
            "type": "heatmap"
           }
          ],
          "heatmapgl": [
           {
            "colorbar": {
             "outlinewidth": 0,
             "ticks": ""
            },
            "colorscale": [
             [
              0,
              "#0d0887"
             ],
             [
              0.1111111111111111,
              "#46039f"
             ],
             [
              0.2222222222222222,
              "#7201a8"
             ],
             [
              0.3333333333333333,
              "#9c179e"
             ],
             [
              0.4444444444444444,
              "#bd3786"
             ],
             [
              0.5555555555555556,
              "#d8576b"
             ],
             [
              0.6666666666666666,
              "#ed7953"
             ],
             [
              0.7777777777777778,
              "#fb9f3a"
             ],
             [
              0.8888888888888888,
              "#fdca26"
             ],
             [
              1,
              "#f0f921"
             ]
            ],
            "type": "heatmapgl"
           }
          ],
          "histogram": [
           {
            "marker": {
             "pattern": {
              "fillmode": "overlay",
              "size": 10,
              "solidity": 0.2
             }
            },
            "type": "histogram"
           }
          ],
          "histogram2d": [
           {
            "colorbar": {
             "outlinewidth": 0,
             "ticks": ""
            },
            "colorscale": [
             [
              0,
              "#0d0887"
             ],
             [
              0.1111111111111111,
              "#46039f"
             ],
             [
              0.2222222222222222,
              "#7201a8"
             ],
             [
              0.3333333333333333,
              "#9c179e"
             ],
             [
              0.4444444444444444,
              "#bd3786"
             ],
             [
              0.5555555555555556,
              "#d8576b"
             ],
             [
              0.6666666666666666,
              "#ed7953"
             ],
             [
              0.7777777777777778,
              "#fb9f3a"
             ],
             [
              0.8888888888888888,
              "#fdca26"
             ],
             [
              1,
              "#f0f921"
             ]
            ],
            "type": "histogram2d"
           }
          ],
          "histogram2dcontour": [
           {
            "colorbar": {
             "outlinewidth": 0,
             "ticks": ""
            },
            "colorscale": [
             [
              0,
              "#0d0887"
             ],
             [
              0.1111111111111111,
              "#46039f"
             ],
             [
              0.2222222222222222,
              "#7201a8"
             ],
             [
              0.3333333333333333,
              "#9c179e"
             ],
             [
              0.4444444444444444,
              "#bd3786"
             ],
             [
              0.5555555555555556,
              "#d8576b"
             ],
             [
              0.6666666666666666,
              "#ed7953"
             ],
             [
              0.7777777777777778,
              "#fb9f3a"
             ],
             [
              0.8888888888888888,
              "#fdca26"
             ],
             [
              1,
              "#f0f921"
             ]
            ],
            "type": "histogram2dcontour"
           }
          ],
          "mesh3d": [
           {
            "colorbar": {
             "outlinewidth": 0,
             "ticks": ""
            },
            "type": "mesh3d"
           }
          ],
          "parcoords": [
           {
            "line": {
             "colorbar": {
              "outlinewidth": 0,
              "ticks": ""
             }
            },
            "type": "parcoords"
           }
          ],
          "pie": [
           {
            "automargin": true,
            "type": "pie"
           }
          ],
          "scatter": [
           {
            "fillpattern": {
             "fillmode": "overlay",
             "size": 10,
             "solidity": 0.2
            },
            "type": "scatter"
           }
          ],
          "scatter3d": [
           {
            "line": {
             "colorbar": {
              "outlinewidth": 0,
              "ticks": ""
             }
            },
            "marker": {
             "colorbar": {
              "outlinewidth": 0,
              "ticks": ""
             }
            },
            "type": "scatter3d"
           }
          ],
          "scattercarpet": [
           {
            "marker": {
             "colorbar": {
              "outlinewidth": 0,
              "ticks": ""
             }
            },
            "type": "scattercarpet"
           }
          ],
          "scattergeo": [
           {
            "marker": {
             "colorbar": {
              "outlinewidth": 0,
              "ticks": ""
             }
            },
            "type": "scattergeo"
           }
          ],
          "scattergl": [
           {
            "marker": {
             "colorbar": {
              "outlinewidth": 0,
              "ticks": ""
             }
            },
            "type": "scattergl"
           }
          ],
          "scattermapbox": [
           {
            "marker": {
             "colorbar": {
              "outlinewidth": 0,
              "ticks": ""
             }
            },
            "type": "scattermapbox"
           }
          ],
          "scatterpolar": [
           {
            "marker": {
             "colorbar": {
              "outlinewidth": 0,
              "ticks": ""
             }
            },
            "type": "scatterpolar"
           }
          ],
          "scatterpolargl": [
           {
            "marker": {
             "colorbar": {
              "outlinewidth": 0,
              "ticks": ""
             }
            },
            "type": "scatterpolargl"
           }
          ],
          "scatterternary": [
           {
            "marker": {
             "colorbar": {
              "outlinewidth": 0,
              "ticks": ""
             }
            },
            "type": "scatterternary"
           }
          ],
          "surface": [
           {
            "colorbar": {
             "outlinewidth": 0,
             "ticks": ""
            },
            "colorscale": [
             [
              0,
              "#0d0887"
             ],
             [
              0.1111111111111111,
              "#46039f"
             ],
             [
              0.2222222222222222,
              "#7201a8"
             ],
             [
              0.3333333333333333,
              "#9c179e"
             ],
             [
              0.4444444444444444,
              "#bd3786"
             ],
             [
              0.5555555555555556,
              "#d8576b"
             ],
             [
              0.6666666666666666,
              "#ed7953"
             ],
             [
              0.7777777777777778,
              "#fb9f3a"
             ],
             [
              0.8888888888888888,
              "#fdca26"
             ],
             [
              1,
              "#f0f921"
             ]
            ],
            "type": "surface"
           }
          ],
          "table": [
           {
            "cells": {
             "fill": {
              "color": "#EBF0F8"
             },
             "line": {
              "color": "white"
             }
            },
            "header": {
             "fill": {
              "color": "#C8D4E3"
             },
             "line": {
              "color": "white"
             }
            },
            "type": "table"
           }
          ]
         },
         "layout": {
          "annotationdefaults": {
           "arrowcolor": "#2a3f5f",
           "arrowhead": 0,
           "arrowwidth": 1
          },
          "autotypenumbers": "strict",
          "coloraxis": {
           "colorbar": {
            "outlinewidth": 0,
            "ticks": ""
           }
          },
          "colorscale": {
           "diverging": [
            [
             0,
             "#8e0152"
            ],
            [
             0.1,
             "#c51b7d"
            ],
            [
             0.2,
             "#de77ae"
            ],
            [
             0.3,
             "#f1b6da"
            ],
            [
             0.4,
             "#fde0ef"
            ],
            [
             0.5,
             "#f7f7f7"
            ],
            [
             0.6,
             "#e6f5d0"
            ],
            [
             0.7,
             "#b8e186"
            ],
            [
             0.8,
             "#7fbc41"
            ],
            [
             0.9,
             "#4d9221"
            ],
            [
             1,
             "#276419"
            ]
           ],
           "sequential": [
            [
             0,
             "#0d0887"
            ],
            [
             0.1111111111111111,
             "#46039f"
            ],
            [
             0.2222222222222222,
             "#7201a8"
            ],
            [
             0.3333333333333333,
             "#9c179e"
            ],
            [
             0.4444444444444444,
             "#bd3786"
            ],
            [
             0.5555555555555556,
             "#d8576b"
            ],
            [
             0.6666666666666666,
             "#ed7953"
            ],
            [
             0.7777777777777778,
             "#fb9f3a"
            ],
            [
             0.8888888888888888,
             "#fdca26"
            ],
            [
             1,
             "#f0f921"
            ]
           ],
           "sequentialminus": [
            [
             0,
             "#0d0887"
            ],
            [
             0.1111111111111111,
             "#46039f"
            ],
            [
             0.2222222222222222,
             "#7201a8"
            ],
            [
             0.3333333333333333,
             "#9c179e"
            ],
            [
             0.4444444444444444,
             "#bd3786"
            ],
            [
             0.5555555555555556,
             "#d8576b"
            ],
            [
             0.6666666666666666,
             "#ed7953"
            ],
            [
             0.7777777777777778,
             "#fb9f3a"
            ],
            [
             0.8888888888888888,
             "#fdca26"
            ],
            [
             1,
             "#f0f921"
            ]
           ]
          },
          "colorway": [
           "#636efa",
           "#EF553B",
           "#00cc96",
           "#ab63fa",
           "#FFA15A",
           "#19d3f3",
           "#FF6692",
           "#B6E880",
           "#FF97FF",
           "#FECB52"
          ],
          "font": {
           "color": "#2a3f5f"
          },
          "geo": {
           "bgcolor": "white",
           "lakecolor": "white",
           "landcolor": "#E5ECF6",
           "showlakes": true,
           "showland": true,
           "subunitcolor": "white"
          },
          "hoverlabel": {
           "align": "left"
          },
          "hovermode": "closest",
          "mapbox": {
           "style": "light"
          },
          "paper_bgcolor": "white",
          "plot_bgcolor": "#E5ECF6",
          "polar": {
           "angularaxis": {
            "gridcolor": "white",
            "linecolor": "white",
            "ticks": ""
           },
           "bgcolor": "#E5ECF6",
           "radialaxis": {
            "gridcolor": "white",
            "linecolor": "white",
            "ticks": ""
           }
          },
          "scene": {
           "xaxis": {
            "backgroundcolor": "#E5ECF6",
            "gridcolor": "white",
            "gridwidth": 2,
            "linecolor": "white",
            "showbackground": true,
            "ticks": "",
            "zerolinecolor": "white"
           },
           "yaxis": {
            "backgroundcolor": "#E5ECF6",
            "gridcolor": "white",
            "gridwidth": 2,
            "linecolor": "white",
            "showbackground": true,
            "ticks": "",
            "zerolinecolor": "white"
           },
           "zaxis": {
            "backgroundcolor": "#E5ECF6",
            "gridcolor": "white",
            "gridwidth": 2,
            "linecolor": "white",
            "showbackground": true,
            "ticks": "",
            "zerolinecolor": "white"
           }
          },
          "shapedefaults": {
           "line": {
            "color": "#2a3f5f"
           }
          },
          "ternary": {
           "aaxis": {
            "gridcolor": "white",
            "linecolor": "white",
            "ticks": ""
           },
           "baxis": {
            "gridcolor": "white",
            "linecolor": "white",
            "ticks": ""
           },
           "bgcolor": "#E5ECF6",
           "caxis": {
            "gridcolor": "white",
            "linecolor": "white",
            "ticks": ""
           }
          },
          "title": {
           "x": 0.05
          },
          "xaxis": {
           "automargin": true,
           "gridcolor": "white",
           "linecolor": "white",
           "ticks": "",
           "title": {
            "standoff": 15
           },
           "zerolinecolor": "white",
           "zerolinewidth": 2
          },
          "yaxis": {
           "automargin": true,
           "gridcolor": "white",
           "linecolor": "white",
           "ticks": "",
           "title": {
            "standoff": 15
           },
           "zerolinecolor": "white",
           "zerolinewidth": 2
          }
         }
        }
       }
      }
     },
     "metadata": {},
     "output_type": "display_data"
    }
   ],
   "source": [
    "gastos_set = pd.read_csv('cartao_pagamento_2022_orgaos/202209_CPGF.csv', encoding='latin1', delimiter=';')\n",
    "\n",
    "gastos_set.loc[:, 'VALOR TRANSAÇÃO'] = pd.to_numeric(gastos_set['VALOR TRANSAÇÃO'].str.replace(\",\", '.'), errors='coerce')\n",
    "\n",
    "gastos_por_orgao_set = gastos_set.groupby('NOME ÓRGÃO SUPERIOR').agg({'VALOR TRANSAÇÃO': sum}).reset_index()\n",
    "gastos_por_orgao_set = gastos_por_orgao_set.sort_values('VALOR TRANSAÇÃO', ascending=False).reset_index()\n",
    "\n",
    "df = pd.DataFrame(gastos_por_orgao_set)\n",
    "df.to_csv(sep=',', index=False, header=True, path_or_buf='CPGF_2022_tables_tratadas/set_2022.csv')\n",
    "\n",
    "fig_set = px.treemap(gastos_por_orgao_set, path=[px.Constant('Cartão de Pagamento do Governo Federal (CPGF)'), 'NOME ÓRGÃO SUPERIOR'], values='VALOR TRANSAÇÃO',\n",
    "                  color='NOME ÓRGÃO SUPERIOR')\n",
    "fig_set.show()"
   ]
  },
  {
   "cell_type": "code",
   "execution_count": 31,
   "metadata": {},
   "outputs": [
    {
     "name": "stderr",
     "output_type": "stream",
     "text": [
      "/tmp/ipykernel_23205/2657510945.py:3: FutureWarning:\n",
      "\n",
      "In a future version, `df.iloc[:, i] = newvals` will attempt to set the values inplace instead of always setting a new array. To retain the old behavior, use either `df[df.columns[i]] = newvals` or, if columns are non-unique, `df.isetitem(i, newvals)`\n",
      "\n"
     ]
    },
    {
     "data": {
      "application/vnd.plotly.v1+json": {
       "config": {
        "plotlyServerURL": "https://plot.ly"
       },
       "data": [
        {
         "branchvalues": "total",
         "customdata": [
          [
           "Ministério das Relações Exteriores"
          ],
          [
           "Ministério das Comunicações"
          ],
          [
           "Ministério do Turismo"
          ],
          [
           "Ministério da Defesa"
          ],
          [
           "Ministério da Justiça e Segurança Pública"
          ],
          [
           "Ministério da Ciência, Tecnologia, Inovações "
          ],
          [
           "Controladoria-Geral da União"
          ],
          [
           "Ministério da Agricultura, Pecuária e Abastec"
          ],
          [
           "Ministério de Minas e Energia"
          ],
          [
           "Advocacia-Geral da União"
          ],
          [
           "Presidência da República"
          ],
          [
           "Ministério da Educação"
          ],
          [
           "Ministério do Desenvolvimento Regional"
          ],
          [
           "Ministério do Trabalho e Emprego"
          ],
          [
           "Ministério da Saúde"
          ],
          [
           "Ministério da Mulher, Família e Direitos Huma"
          ],
          [
           "Ministério da Economia"
          ],
          [
           "Ministério da Infraestrutura"
          ],
          [
           "Ministério do Trabalho"
          ],
          [
           "Ministério do Meio Ambiente"
          ],
          [
           "Banco Central do Brasil - Orçamento Fiscal e "
          ],
          [
           "(?)"
          ]
         ],
         "domain": {
          "x": [
           0,
           1
          ],
          "y": [
           0,
           1
          ]
         },
         "hovertemplate": "labels=%{label}<br>VALOR TRANSAÇÃO=%{value}<br>parent=%{parent}<br>id=%{id}<br>NOME ÓRGÃO SUPERIOR=%{customdata[0]}<extra></extra>",
         "ids": [
          "Cartão de Pagamento do Governo Federal (CPGF)/Ministério das Relações Exteriores",
          "Cartão de Pagamento do Governo Federal (CPGF)/Ministério das Comunicações",
          "Cartão de Pagamento do Governo Federal (CPGF)/Ministério do Turismo",
          "Cartão de Pagamento do Governo Federal (CPGF)/Ministério da Defesa",
          "Cartão de Pagamento do Governo Federal (CPGF)/Ministério da Justiça e Segurança Pública",
          "Cartão de Pagamento do Governo Federal (CPGF)/Ministério da Ciência, Tecnologia, Inovações ",
          "Cartão de Pagamento do Governo Federal (CPGF)/Controladoria-Geral da União",
          "Cartão de Pagamento do Governo Federal (CPGF)/Ministério da Agricultura, Pecuária e Abastec",
          "Cartão de Pagamento do Governo Federal (CPGF)/Ministério de Minas e Energia",
          "Cartão de Pagamento do Governo Federal (CPGF)/Advocacia-Geral da União",
          "Cartão de Pagamento do Governo Federal (CPGF)/Presidência da República",
          "Cartão de Pagamento do Governo Federal (CPGF)/Ministério da Educação",
          "Cartão de Pagamento do Governo Federal (CPGF)/Ministério do Desenvolvimento Regional",
          "Cartão de Pagamento do Governo Federal (CPGF)/Ministério do Trabalho e Emprego",
          "Cartão de Pagamento do Governo Federal (CPGF)/Ministério da Saúde",
          "Cartão de Pagamento do Governo Federal (CPGF)/Ministério da Mulher, Família e Direitos Huma",
          "Cartão de Pagamento do Governo Federal (CPGF)/Ministério da Economia",
          "Cartão de Pagamento do Governo Federal (CPGF)/Ministério da Infraestrutura",
          "Cartão de Pagamento do Governo Federal (CPGF)/Ministério do Trabalho",
          "Cartão de Pagamento do Governo Federal (CPGF)/Ministério do Meio Ambiente",
          "Cartão de Pagamento do Governo Federal (CPGF)/Banco Central do Brasil - Orçamento Fiscal e ",
          "Cartão de Pagamento do Governo Federal (CPGF)"
         ],
         "labels": [
          "Ministério das Relações Exteriores",
          "Ministério das Comunicações",
          "Ministério do Turismo",
          "Ministério da Defesa",
          "Ministério da Justiça e Segurança Pública",
          "Ministério da Ciência, Tecnologia, Inovações ",
          "Controladoria-Geral da União",
          "Ministério da Agricultura, Pecuária e Abastec",
          "Ministério de Minas e Energia",
          "Advocacia-Geral da União",
          "Presidência da República",
          "Ministério da Educação",
          "Ministério do Desenvolvimento Regional",
          "Ministério do Trabalho e Emprego",
          "Ministério da Saúde",
          "Ministério da Mulher, Família e Direitos Huma",
          "Ministério da Economia",
          "Ministério da Infraestrutura",
          "Ministério do Trabalho",
          "Ministério do Meio Ambiente",
          "Banco Central do Brasil - Orçamento Fiscal e ",
          "Cartão de Pagamento do Governo Federal (CPGF)"
         ],
         "marker": {
          "colors": [
           "#636efa",
           "#EF553B",
           "#00cc96",
           "#ab63fa",
           "#FFA15A",
           "#19d3f3",
           "#FF6692",
           "#B6E880",
           "#FF97FF",
           "#FECB52",
           "#636efa",
           "#EF553B",
           "#00cc96",
           "#ab63fa",
           "#FFA15A",
           "#19d3f3",
           "#FF6692",
           "#B6E880",
           "#FF97FF",
           "#FECB52",
           "#636efa",
           "#EF553B"
          ]
         },
         "name": "",
         "parents": [
          "Cartão de Pagamento do Governo Federal (CPGF)",
          "Cartão de Pagamento do Governo Federal (CPGF)",
          "Cartão de Pagamento do Governo Federal (CPGF)",
          "Cartão de Pagamento do Governo Federal (CPGF)",
          "Cartão de Pagamento do Governo Federal (CPGF)",
          "Cartão de Pagamento do Governo Federal (CPGF)",
          "Cartão de Pagamento do Governo Federal (CPGF)",
          "Cartão de Pagamento do Governo Federal (CPGF)",
          "Cartão de Pagamento do Governo Federal (CPGF)",
          "Cartão de Pagamento do Governo Federal (CPGF)",
          "Cartão de Pagamento do Governo Federal (CPGF)",
          "Cartão de Pagamento do Governo Federal (CPGF)",
          "Cartão de Pagamento do Governo Federal (CPGF)",
          "Cartão de Pagamento do Governo Federal (CPGF)",
          "Cartão de Pagamento do Governo Federal (CPGF)",
          "Cartão de Pagamento do Governo Federal (CPGF)",
          "Cartão de Pagamento do Governo Federal (CPGF)",
          "Cartão de Pagamento do Governo Federal (CPGF)",
          "Cartão de Pagamento do Governo Federal (CPGF)",
          "Cartão de Pagamento do Governo Federal (CPGF)",
          "Cartão de Pagamento do Governo Federal (CPGF)",
          ""
         ],
         "type": "treemap",
         "values": [
          2260.45,
          13330.3,
          12765.14,
          528465.63,
          3295032.37,
          77704.69,
          1724.99,
          349574.72,
          44054.03,
          27694.35,
          2813194.74,
          720118.35,
          64038.97,
          6462.79,
          144358.88,
          965.9,
          1857838.83,
          14251.65,
          86135.47,
          223603.79,
          41035.08,
          10324611.120000001
         ]
        }
       ],
       "layout": {
        "legend": {
         "tracegroupgap": 0
        },
        "margin": {
         "t": 60
        },
        "template": {
         "data": {
          "bar": [
           {
            "error_x": {
             "color": "#2a3f5f"
            },
            "error_y": {
             "color": "#2a3f5f"
            },
            "marker": {
             "line": {
              "color": "#E5ECF6",
              "width": 0.5
             },
             "pattern": {
              "fillmode": "overlay",
              "size": 10,
              "solidity": 0.2
             }
            },
            "type": "bar"
           }
          ],
          "barpolar": [
           {
            "marker": {
             "line": {
              "color": "#E5ECF6",
              "width": 0.5
             },
             "pattern": {
              "fillmode": "overlay",
              "size": 10,
              "solidity": 0.2
             }
            },
            "type": "barpolar"
           }
          ],
          "carpet": [
           {
            "aaxis": {
             "endlinecolor": "#2a3f5f",
             "gridcolor": "white",
             "linecolor": "white",
             "minorgridcolor": "white",
             "startlinecolor": "#2a3f5f"
            },
            "baxis": {
             "endlinecolor": "#2a3f5f",
             "gridcolor": "white",
             "linecolor": "white",
             "minorgridcolor": "white",
             "startlinecolor": "#2a3f5f"
            },
            "type": "carpet"
           }
          ],
          "choropleth": [
           {
            "colorbar": {
             "outlinewidth": 0,
             "ticks": ""
            },
            "type": "choropleth"
           }
          ],
          "contour": [
           {
            "colorbar": {
             "outlinewidth": 0,
             "ticks": ""
            },
            "colorscale": [
             [
              0,
              "#0d0887"
             ],
             [
              0.1111111111111111,
              "#46039f"
             ],
             [
              0.2222222222222222,
              "#7201a8"
             ],
             [
              0.3333333333333333,
              "#9c179e"
             ],
             [
              0.4444444444444444,
              "#bd3786"
             ],
             [
              0.5555555555555556,
              "#d8576b"
             ],
             [
              0.6666666666666666,
              "#ed7953"
             ],
             [
              0.7777777777777778,
              "#fb9f3a"
             ],
             [
              0.8888888888888888,
              "#fdca26"
             ],
             [
              1,
              "#f0f921"
             ]
            ],
            "type": "contour"
           }
          ],
          "contourcarpet": [
           {
            "colorbar": {
             "outlinewidth": 0,
             "ticks": ""
            },
            "type": "contourcarpet"
           }
          ],
          "heatmap": [
           {
            "colorbar": {
             "outlinewidth": 0,
             "ticks": ""
            },
            "colorscale": [
             [
              0,
              "#0d0887"
             ],
             [
              0.1111111111111111,
              "#46039f"
             ],
             [
              0.2222222222222222,
              "#7201a8"
             ],
             [
              0.3333333333333333,
              "#9c179e"
             ],
             [
              0.4444444444444444,
              "#bd3786"
             ],
             [
              0.5555555555555556,
              "#d8576b"
             ],
             [
              0.6666666666666666,
              "#ed7953"
             ],
             [
              0.7777777777777778,
              "#fb9f3a"
             ],
             [
              0.8888888888888888,
              "#fdca26"
             ],
             [
              1,
              "#f0f921"
             ]
            ],
            "type": "heatmap"
           }
          ],
          "heatmapgl": [
           {
            "colorbar": {
             "outlinewidth": 0,
             "ticks": ""
            },
            "colorscale": [
             [
              0,
              "#0d0887"
             ],
             [
              0.1111111111111111,
              "#46039f"
             ],
             [
              0.2222222222222222,
              "#7201a8"
             ],
             [
              0.3333333333333333,
              "#9c179e"
             ],
             [
              0.4444444444444444,
              "#bd3786"
             ],
             [
              0.5555555555555556,
              "#d8576b"
             ],
             [
              0.6666666666666666,
              "#ed7953"
             ],
             [
              0.7777777777777778,
              "#fb9f3a"
             ],
             [
              0.8888888888888888,
              "#fdca26"
             ],
             [
              1,
              "#f0f921"
             ]
            ],
            "type": "heatmapgl"
           }
          ],
          "histogram": [
           {
            "marker": {
             "pattern": {
              "fillmode": "overlay",
              "size": 10,
              "solidity": 0.2
             }
            },
            "type": "histogram"
           }
          ],
          "histogram2d": [
           {
            "colorbar": {
             "outlinewidth": 0,
             "ticks": ""
            },
            "colorscale": [
             [
              0,
              "#0d0887"
             ],
             [
              0.1111111111111111,
              "#46039f"
             ],
             [
              0.2222222222222222,
              "#7201a8"
             ],
             [
              0.3333333333333333,
              "#9c179e"
             ],
             [
              0.4444444444444444,
              "#bd3786"
             ],
             [
              0.5555555555555556,
              "#d8576b"
             ],
             [
              0.6666666666666666,
              "#ed7953"
             ],
             [
              0.7777777777777778,
              "#fb9f3a"
             ],
             [
              0.8888888888888888,
              "#fdca26"
             ],
             [
              1,
              "#f0f921"
             ]
            ],
            "type": "histogram2d"
           }
          ],
          "histogram2dcontour": [
           {
            "colorbar": {
             "outlinewidth": 0,
             "ticks": ""
            },
            "colorscale": [
             [
              0,
              "#0d0887"
             ],
             [
              0.1111111111111111,
              "#46039f"
             ],
             [
              0.2222222222222222,
              "#7201a8"
             ],
             [
              0.3333333333333333,
              "#9c179e"
             ],
             [
              0.4444444444444444,
              "#bd3786"
             ],
             [
              0.5555555555555556,
              "#d8576b"
             ],
             [
              0.6666666666666666,
              "#ed7953"
             ],
             [
              0.7777777777777778,
              "#fb9f3a"
             ],
             [
              0.8888888888888888,
              "#fdca26"
             ],
             [
              1,
              "#f0f921"
             ]
            ],
            "type": "histogram2dcontour"
           }
          ],
          "mesh3d": [
           {
            "colorbar": {
             "outlinewidth": 0,
             "ticks": ""
            },
            "type": "mesh3d"
           }
          ],
          "parcoords": [
           {
            "line": {
             "colorbar": {
              "outlinewidth": 0,
              "ticks": ""
             }
            },
            "type": "parcoords"
           }
          ],
          "pie": [
           {
            "automargin": true,
            "type": "pie"
           }
          ],
          "scatter": [
           {
            "fillpattern": {
             "fillmode": "overlay",
             "size": 10,
             "solidity": 0.2
            },
            "type": "scatter"
           }
          ],
          "scatter3d": [
           {
            "line": {
             "colorbar": {
              "outlinewidth": 0,
              "ticks": ""
             }
            },
            "marker": {
             "colorbar": {
              "outlinewidth": 0,
              "ticks": ""
             }
            },
            "type": "scatter3d"
           }
          ],
          "scattercarpet": [
           {
            "marker": {
             "colorbar": {
              "outlinewidth": 0,
              "ticks": ""
             }
            },
            "type": "scattercarpet"
           }
          ],
          "scattergeo": [
           {
            "marker": {
             "colorbar": {
              "outlinewidth": 0,
              "ticks": ""
             }
            },
            "type": "scattergeo"
           }
          ],
          "scattergl": [
           {
            "marker": {
             "colorbar": {
              "outlinewidth": 0,
              "ticks": ""
             }
            },
            "type": "scattergl"
           }
          ],
          "scattermapbox": [
           {
            "marker": {
             "colorbar": {
              "outlinewidth": 0,
              "ticks": ""
             }
            },
            "type": "scattermapbox"
           }
          ],
          "scatterpolar": [
           {
            "marker": {
             "colorbar": {
              "outlinewidth": 0,
              "ticks": ""
             }
            },
            "type": "scatterpolar"
           }
          ],
          "scatterpolargl": [
           {
            "marker": {
             "colorbar": {
              "outlinewidth": 0,
              "ticks": ""
             }
            },
            "type": "scatterpolargl"
           }
          ],
          "scatterternary": [
           {
            "marker": {
             "colorbar": {
              "outlinewidth": 0,
              "ticks": ""
             }
            },
            "type": "scatterternary"
           }
          ],
          "surface": [
           {
            "colorbar": {
             "outlinewidth": 0,
             "ticks": ""
            },
            "colorscale": [
             [
              0,
              "#0d0887"
             ],
             [
              0.1111111111111111,
              "#46039f"
             ],
             [
              0.2222222222222222,
              "#7201a8"
             ],
             [
              0.3333333333333333,
              "#9c179e"
             ],
             [
              0.4444444444444444,
              "#bd3786"
             ],
             [
              0.5555555555555556,
              "#d8576b"
             ],
             [
              0.6666666666666666,
              "#ed7953"
             ],
             [
              0.7777777777777778,
              "#fb9f3a"
             ],
             [
              0.8888888888888888,
              "#fdca26"
             ],
             [
              1,
              "#f0f921"
             ]
            ],
            "type": "surface"
           }
          ],
          "table": [
           {
            "cells": {
             "fill": {
              "color": "#EBF0F8"
             },
             "line": {
              "color": "white"
             }
            },
            "header": {
             "fill": {
              "color": "#C8D4E3"
             },
             "line": {
              "color": "white"
             }
            },
            "type": "table"
           }
          ]
         },
         "layout": {
          "annotationdefaults": {
           "arrowcolor": "#2a3f5f",
           "arrowhead": 0,
           "arrowwidth": 1
          },
          "autotypenumbers": "strict",
          "coloraxis": {
           "colorbar": {
            "outlinewidth": 0,
            "ticks": ""
           }
          },
          "colorscale": {
           "diverging": [
            [
             0,
             "#8e0152"
            ],
            [
             0.1,
             "#c51b7d"
            ],
            [
             0.2,
             "#de77ae"
            ],
            [
             0.3,
             "#f1b6da"
            ],
            [
             0.4,
             "#fde0ef"
            ],
            [
             0.5,
             "#f7f7f7"
            ],
            [
             0.6,
             "#e6f5d0"
            ],
            [
             0.7,
             "#b8e186"
            ],
            [
             0.8,
             "#7fbc41"
            ],
            [
             0.9,
             "#4d9221"
            ],
            [
             1,
             "#276419"
            ]
           ],
           "sequential": [
            [
             0,
             "#0d0887"
            ],
            [
             0.1111111111111111,
             "#46039f"
            ],
            [
             0.2222222222222222,
             "#7201a8"
            ],
            [
             0.3333333333333333,
             "#9c179e"
            ],
            [
             0.4444444444444444,
             "#bd3786"
            ],
            [
             0.5555555555555556,
             "#d8576b"
            ],
            [
             0.6666666666666666,
             "#ed7953"
            ],
            [
             0.7777777777777778,
             "#fb9f3a"
            ],
            [
             0.8888888888888888,
             "#fdca26"
            ],
            [
             1,
             "#f0f921"
            ]
           ],
           "sequentialminus": [
            [
             0,
             "#0d0887"
            ],
            [
             0.1111111111111111,
             "#46039f"
            ],
            [
             0.2222222222222222,
             "#7201a8"
            ],
            [
             0.3333333333333333,
             "#9c179e"
            ],
            [
             0.4444444444444444,
             "#bd3786"
            ],
            [
             0.5555555555555556,
             "#d8576b"
            ],
            [
             0.6666666666666666,
             "#ed7953"
            ],
            [
             0.7777777777777778,
             "#fb9f3a"
            ],
            [
             0.8888888888888888,
             "#fdca26"
            ],
            [
             1,
             "#f0f921"
            ]
           ]
          },
          "colorway": [
           "#636efa",
           "#EF553B",
           "#00cc96",
           "#ab63fa",
           "#FFA15A",
           "#19d3f3",
           "#FF6692",
           "#B6E880",
           "#FF97FF",
           "#FECB52"
          ],
          "font": {
           "color": "#2a3f5f"
          },
          "geo": {
           "bgcolor": "white",
           "lakecolor": "white",
           "landcolor": "#E5ECF6",
           "showlakes": true,
           "showland": true,
           "subunitcolor": "white"
          },
          "hoverlabel": {
           "align": "left"
          },
          "hovermode": "closest",
          "mapbox": {
           "style": "light"
          },
          "paper_bgcolor": "white",
          "plot_bgcolor": "#E5ECF6",
          "polar": {
           "angularaxis": {
            "gridcolor": "white",
            "linecolor": "white",
            "ticks": ""
           },
           "bgcolor": "#E5ECF6",
           "radialaxis": {
            "gridcolor": "white",
            "linecolor": "white",
            "ticks": ""
           }
          },
          "scene": {
           "xaxis": {
            "backgroundcolor": "#E5ECF6",
            "gridcolor": "white",
            "gridwidth": 2,
            "linecolor": "white",
            "showbackground": true,
            "ticks": "",
            "zerolinecolor": "white"
           },
           "yaxis": {
            "backgroundcolor": "#E5ECF6",
            "gridcolor": "white",
            "gridwidth": 2,
            "linecolor": "white",
            "showbackground": true,
            "ticks": "",
            "zerolinecolor": "white"
           },
           "zaxis": {
            "backgroundcolor": "#E5ECF6",
            "gridcolor": "white",
            "gridwidth": 2,
            "linecolor": "white",
            "showbackground": true,
            "ticks": "",
            "zerolinecolor": "white"
           }
          },
          "shapedefaults": {
           "line": {
            "color": "#2a3f5f"
           }
          },
          "ternary": {
           "aaxis": {
            "gridcolor": "white",
            "linecolor": "white",
            "ticks": ""
           },
           "baxis": {
            "gridcolor": "white",
            "linecolor": "white",
            "ticks": ""
           },
           "bgcolor": "#E5ECF6",
           "caxis": {
            "gridcolor": "white",
            "linecolor": "white",
            "ticks": ""
           }
          },
          "title": {
           "x": 0.05
          },
          "xaxis": {
           "automargin": true,
           "gridcolor": "white",
           "linecolor": "white",
           "ticks": "",
           "title": {
            "standoff": 15
           },
           "zerolinecolor": "white",
           "zerolinewidth": 2
          },
          "yaxis": {
           "automargin": true,
           "gridcolor": "white",
           "linecolor": "white",
           "ticks": "",
           "title": {
            "standoff": 15
           },
           "zerolinecolor": "white",
           "zerolinewidth": 2
          }
         }
        }
       }
      }
     },
     "metadata": {},
     "output_type": "display_data"
    }
   ],
   "source": [
    "gastos_out = pd.read_csv('cartao_pagamento_2022_orgaos/202210_CPGF.csv', encoding='latin1', delimiter=';')\n",
    "\n",
    "gastos_out.loc[:, 'VALOR TRANSAÇÃO'] = pd.to_numeric(gastos_out['VALOR TRANSAÇÃO'].str.replace(\",\", '.'), errors='coerce')\n",
    "\n",
    "gastos_por_orgao_out = gastos_out.groupby('NOME ÓRGÃO SUPERIOR').agg({'VALOR TRANSAÇÃO': sum}).reset_index()\n",
    "gastos_por_orgao_out = gastos_por_orgao_out.sort_values('VALOR TRANSAÇÃO', ascending=False).reset_index()\n",
    "\n",
    "df = pd.DataFrame(gastos_por_orgao_out)\n",
    "df.to_csv(sep=',', index=False, header=True, path_or_buf='CPGF_2022_tables_tratadas/out_2022.csv')\n",
    "\n",
    "fig_out = px.treemap(gastos_por_orgao_out, path=[px.Constant('Cartão de Pagamento do Governo Federal (CPGF)'), 'NOME ÓRGÃO SUPERIOR'], values='VALOR TRANSAÇÃO',\n",
    "                  color='NOME ÓRGÃO SUPERIOR')\n",
    "fig_out.show()"
   ]
  },
  {
   "cell_type": "code",
   "execution_count": 32,
   "metadata": {},
   "outputs": [
    {
     "name": "stderr",
     "output_type": "stream",
     "text": [
      "/tmp/ipykernel_23205/2546431096.py:3: FutureWarning:\n",
      "\n",
      "In a future version, `df.iloc[:, i] = newvals` will attempt to set the values inplace instead of always setting a new array. To retain the old behavior, use either `df[df.columns[i]] = newvals` or, if columns are non-unique, `df.isetitem(i, newvals)`\n",
      "\n"
     ]
    },
    {
     "data": {
      "application/vnd.plotly.v1+json": {
       "config": {
        "plotlyServerURL": "https://plot.ly"
       },
       "data": [
        {
         "branchvalues": "total",
         "customdata": [
          [
           "Ministério de Minas e Energia"
          ],
          [
           "Ministério das Comunicações"
          ],
          [
           "Ministério do Turismo"
          ],
          [
           "Ministério da Defesa"
          ],
          [
           "Ministério da Justiça e Segurança Pública"
          ],
          [
           "Ministério da Agricultura, Pecuária e Abastec"
          ],
          [
           "Controladoria-Geral da União"
          ],
          [
           "Ministério da Ciência, Tecnologia, Inovações "
          ],
          [
           "Ministério do Desenvolvimento Regional"
          ],
          [
           "Advocacia-Geral da União"
          ],
          [
           "Presidência da República"
          ],
          [
           "Ministério da Educação"
          ],
          [
           "Ministério do Trabalho e Emprego"
          ],
          [
           "Ministério das Relações Exteriores"
          ],
          [
           "Ministério da Saúde"
          ],
          [
           "Ministério da Previdência Social"
          ],
          [
           "Ministério da Economia"
          ],
          [
           "Ministério da Infraestrutura"
          ],
          [
           "Ministério do Trabalho"
          ],
          [
           "Ministério do Meio Ambiente"
          ],
          [
           "Banco Central do Brasil - Orçamento Fiscal e "
          ],
          [
           "(?)"
          ]
         ],
         "domain": {
          "x": [
           0,
           1
          ],
          "y": [
           0,
           1
          ]
         },
         "hovertemplate": "labels=%{label}<br>VALOR TRANSAÇÃO=%{value}<br>parent=%{parent}<br>id=%{id}<br>NOME ÓRGÃO SUPERIOR=%{customdata[0]}<extra></extra>",
         "ids": [
          "Cartão de Pagamento do Governo Federal (CPGF)/Ministério de Minas e Energia",
          "Cartão de Pagamento do Governo Federal (CPGF)/Ministério das Comunicações",
          "Cartão de Pagamento do Governo Federal (CPGF)/Ministério do Turismo",
          "Cartão de Pagamento do Governo Federal (CPGF)/Ministério da Defesa",
          "Cartão de Pagamento do Governo Federal (CPGF)/Ministério da Justiça e Segurança Pública",
          "Cartão de Pagamento do Governo Federal (CPGF)/Ministério da Agricultura, Pecuária e Abastec",
          "Cartão de Pagamento do Governo Federal (CPGF)/Controladoria-Geral da União",
          "Cartão de Pagamento do Governo Federal (CPGF)/Ministério da Ciência, Tecnologia, Inovações ",
          "Cartão de Pagamento do Governo Federal (CPGF)/Ministério do Desenvolvimento Regional",
          "Cartão de Pagamento do Governo Federal (CPGF)/Advocacia-Geral da União",
          "Cartão de Pagamento do Governo Federal (CPGF)/Presidência da República",
          "Cartão de Pagamento do Governo Federal (CPGF)/Ministério da Educação",
          "Cartão de Pagamento do Governo Federal (CPGF)/Ministério do Trabalho e Emprego",
          "Cartão de Pagamento do Governo Federal (CPGF)/Ministério das Relações Exteriores",
          "Cartão de Pagamento do Governo Federal (CPGF)/Ministério da Saúde",
          "Cartão de Pagamento do Governo Federal (CPGF)/Ministério da Previdência Social",
          "Cartão de Pagamento do Governo Federal (CPGF)/Ministério da Economia",
          "Cartão de Pagamento do Governo Federal (CPGF)/Ministério da Infraestrutura",
          "Cartão de Pagamento do Governo Federal (CPGF)/Ministério do Trabalho",
          "Cartão de Pagamento do Governo Federal (CPGF)/Ministério do Meio Ambiente",
          "Cartão de Pagamento do Governo Federal (CPGF)/Banco Central do Brasil - Orçamento Fiscal e ",
          "Cartão de Pagamento do Governo Federal (CPGF)"
         ],
         "labels": [
          "Ministério de Minas e Energia",
          "Ministério das Comunicações",
          "Ministério do Turismo",
          "Ministério da Defesa",
          "Ministério da Justiça e Segurança Pública",
          "Ministério da Agricultura, Pecuária e Abastec",
          "Controladoria-Geral da União",
          "Ministério da Ciência, Tecnologia, Inovações ",
          "Ministério do Desenvolvimento Regional",
          "Advocacia-Geral da União",
          "Presidência da República",
          "Ministério da Educação",
          "Ministério do Trabalho e Emprego",
          "Ministério das Relações Exteriores",
          "Ministério da Saúde",
          "Ministério da Previdência Social",
          "Ministério da Economia",
          "Ministério da Infraestrutura",
          "Ministério do Trabalho",
          "Ministério do Meio Ambiente",
          "Banco Central do Brasil - Orçamento Fiscal e ",
          "Cartão de Pagamento do Governo Federal (CPGF)"
         ],
         "marker": {
          "colors": [
           "#636efa",
           "#EF553B",
           "#00cc96",
           "#ab63fa",
           "#FFA15A",
           "#19d3f3",
           "#FF6692",
           "#B6E880",
           "#FF97FF",
           "#FECB52",
           "#636efa",
           "#EF553B",
           "#00cc96",
           "#ab63fa",
           "#FFA15A",
           "#19d3f3",
           "#FF6692",
           "#B6E880",
           "#FF97FF",
           "#FECB52",
           "#636efa",
           "#EF553B"
          ]
         },
         "name": "",
         "parents": [
          "Cartão de Pagamento do Governo Federal (CPGF)",
          "Cartão de Pagamento do Governo Federal (CPGF)",
          "Cartão de Pagamento do Governo Federal (CPGF)",
          "Cartão de Pagamento do Governo Federal (CPGF)",
          "Cartão de Pagamento do Governo Federal (CPGF)",
          "Cartão de Pagamento do Governo Federal (CPGF)",
          "Cartão de Pagamento do Governo Federal (CPGF)",
          "Cartão de Pagamento do Governo Federal (CPGF)",
          "Cartão de Pagamento do Governo Federal (CPGF)",
          "Cartão de Pagamento do Governo Federal (CPGF)",
          "Cartão de Pagamento do Governo Federal (CPGF)",
          "Cartão de Pagamento do Governo Federal (CPGF)",
          "Cartão de Pagamento do Governo Federal (CPGF)",
          "Cartão de Pagamento do Governo Federal (CPGF)",
          "Cartão de Pagamento do Governo Federal (CPGF)",
          "Cartão de Pagamento do Governo Federal (CPGF)",
          "Cartão de Pagamento do Governo Federal (CPGF)",
          "Cartão de Pagamento do Governo Federal (CPGF)",
          "Cartão de Pagamento do Governo Federal (CPGF)",
          "Cartão de Pagamento do Governo Federal (CPGF)",
          "Cartão de Pagamento do Governo Federal (CPGF)",
          ""
         ],
         "type": "treemap",
         "values": [
          69387.27,
          4917.9400000000005,
          12286.24,
          834316.06,
          3280013.43,
          287938.16,
          2647.06,
          82981.37,
          76064.74,
          17500.57,
          2512711.37,
          622296.34,
          11064.9,
          20254.76,
          172933.36,
          1540,
          2031311.37,
          16963.05,
          102354.87,
          186467.05,
          36367.41,
          10382317.32
         ]
        }
       ],
       "layout": {
        "legend": {
         "tracegroupgap": 0
        },
        "margin": {
         "t": 60
        },
        "template": {
         "data": {
          "bar": [
           {
            "error_x": {
             "color": "#2a3f5f"
            },
            "error_y": {
             "color": "#2a3f5f"
            },
            "marker": {
             "line": {
              "color": "#E5ECF6",
              "width": 0.5
             },
             "pattern": {
              "fillmode": "overlay",
              "size": 10,
              "solidity": 0.2
             }
            },
            "type": "bar"
           }
          ],
          "barpolar": [
           {
            "marker": {
             "line": {
              "color": "#E5ECF6",
              "width": 0.5
             },
             "pattern": {
              "fillmode": "overlay",
              "size": 10,
              "solidity": 0.2
             }
            },
            "type": "barpolar"
           }
          ],
          "carpet": [
           {
            "aaxis": {
             "endlinecolor": "#2a3f5f",
             "gridcolor": "white",
             "linecolor": "white",
             "minorgridcolor": "white",
             "startlinecolor": "#2a3f5f"
            },
            "baxis": {
             "endlinecolor": "#2a3f5f",
             "gridcolor": "white",
             "linecolor": "white",
             "minorgridcolor": "white",
             "startlinecolor": "#2a3f5f"
            },
            "type": "carpet"
           }
          ],
          "choropleth": [
           {
            "colorbar": {
             "outlinewidth": 0,
             "ticks": ""
            },
            "type": "choropleth"
           }
          ],
          "contour": [
           {
            "colorbar": {
             "outlinewidth": 0,
             "ticks": ""
            },
            "colorscale": [
             [
              0,
              "#0d0887"
             ],
             [
              0.1111111111111111,
              "#46039f"
             ],
             [
              0.2222222222222222,
              "#7201a8"
             ],
             [
              0.3333333333333333,
              "#9c179e"
             ],
             [
              0.4444444444444444,
              "#bd3786"
             ],
             [
              0.5555555555555556,
              "#d8576b"
             ],
             [
              0.6666666666666666,
              "#ed7953"
             ],
             [
              0.7777777777777778,
              "#fb9f3a"
             ],
             [
              0.8888888888888888,
              "#fdca26"
             ],
             [
              1,
              "#f0f921"
             ]
            ],
            "type": "contour"
           }
          ],
          "contourcarpet": [
           {
            "colorbar": {
             "outlinewidth": 0,
             "ticks": ""
            },
            "type": "contourcarpet"
           }
          ],
          "heatmap": [
           {
            "colorbar": {
             "outlinewidth": 0,
             "ticks": ""
            },
            "colorscale": [
             [
              0,
              "#0d0887"
             ],
             [
              0.1111111111111111,
              "#46039f"
             ],
             [
              0.2222222222222222,
              "#7201a8"
             ],
             [
              0.3333333333333333,
              "#9c179e"
             ],
             [
              0.4444444444444444,
              "#bd3786"
             ],
             [
              0.5555555555555556,
              "#d8576b"
             ],
             [
              0.6666666666666666,
              "#ed7953"
             ],
             [
              0.7777777777777778,
              "#fb9f3a"
             ],
             [
              0.8888888888888888,
              "#fdca26"
             ],
             [
              1,
              "#f0f921"
             ]
            ],
            "type": "heatmap"
           }
          ],
          "heatmapgl": [
           {
            "colorbar": {
             "outlinewidth": 0,
             "ticks": ""
            },
            "colorscale": [
             [
              0,
              "#0d0887"
             ],
             [
              0.1111111111111111,
              "#46039f"
             ],
             [
              0.2222222222222222,
              "#7201a8"
             ],
             [
              0.3333333333333333,
              "#9c179e"
             ],
             [
              0.4444444444444444,
              "#bd3786"
             ],
             [
              0.5555555555555556,
              "#d8576b"
             ],
             [
              0.6666666666666666,
              "#ed7953"
             ],
             [
              0.7777777777777778,
              "#fb9f3a"
             ],
             [
              0.8888888888888888,
              "#fdca26"
             ],
             [
              1,
              "#f0f921"
             ]
            ],
            "type": "heatmapgl"
           }
          ],
          "histogram": [
           {
            "marker": {
             "pattern": {
              "fillmode": "overlay",
              "size": 10,
              "solidity": 0.2
             }
            },
            "type": "histogram"
           }
          ],
          "histogram2d": [
           {
            "colorbar": {
             "outlinewidth": 0,
             "ticks": ""
            },
            "colorscale": [
             [
              0,
              "#0d0887"
             ],
             [
              0.1111111111111111,
              "#46039f"
             ],
             [
              0.2222222222222222,
              "#7201a8"
             ],
             [
              0.3333333333333333,
              "#9c179e"
             ],
             [
              0.4444444444444444,
              "#bd3786"
             ],
             [
              0.5555555555555556,
              "#d8576b"
             ],
             [
              0.6666666666666666,
              "#ed7953"
             ],
             [
              0.7777777777777778,
              "#fb9f3a"
             ],
             [
              0.8888888888888888,
              "#fdca26"
             ],
             [
              1,
              "#f0f921"
             ]
            ],
            "type": "histogram2d"
           }
          ],
          "histogram2dcontour": [
           {
            "colorbar": {
             "outlinewidth": 0,
             "ticks": ""
            },
            "colorscale": [
             [
              0,
              "#0d0887"
             ],
             [
              0.1111111111111111,
              "#46039f"
             ],
             [
              0.2222222222222222,
              "#7201a8"
             ],
             [
              0.3333333333333333,
              "#9c179e"
             ],
             [
              0.4444444444444444,
              "#bd3786"
             ],
             [
              0.5555555555555556,
              "#d8576b"
             ],
             [
              0.6666666666666666,
              "#ed7953"
             ],
             [
              0.7777777777777778,
              "#fb9f3a"
             ],
             [
              0.8888888888888888,
              "#fdca26"
             ],
             [
              1,
              "#f0f921"
             ]
            ],
            "type": "histogram2dcontour"
           }
          ],
          "mesh3d": [
           {
            "colorbar": {
             "outlinewidth": 0,
             "ticks": ""
            },
            "type": "mesh3d"
           }
          ],
          "parcoords": [
           {
            "line": {
             "colorbar": {
              "outlinewidth": 0,
              "ticks": ""
             }
            },
            "type": "parcoords"
           }
          ],
          "pie": [
           {
            "automargin": true,
            "type": "pie"
           }
          ],
          "scatter": [
           {
            "fillpattern": {
             "fillmode": "overlay",
             "size": 10,
             "solidity": 0.2
            },
            "type": "scatter"
           }
          ],
          "scatter3d": [
           {
            "line": {
             "colorbar": {
              "outlinewidth": 0,
              "ticks": ""
             }
            },
            "marker": {
             "colorbar": {
              "outlinewidth": 0,
              "ticks": ""
             }
            },
            "type": "scatter3d"
           }
          ],
          "scattercarpet": [
           {
            "marker": {
             "colorbar": {
              "outlinewidth": 0,
              "ticks": ""
             }
            },
            "type": "scattercarpet"
           }
          ],
          "scattergeo": [
           {
            "marker": {
             "colorbar": {
              "outlinewidth": 0,
              "ticks": ""
             }
            },
            "type": "scattergeo"
           }
          ],
          "scattergl": [
           {
            "marker": {
             "colorbar": {
              "outlinewidth": 0,
              "ticks": ""
             }
            },
            "type": "scattergl"
           }
          ],
          "scattermapbox": [
           {
            "marker": {
             "colorbar": {
              "outlinewidth": 0,
              "ticks": ""
             }
            },
            "type": "scattermapbox"
           }
          ],
          "scatterpolar": [
           {
            "marker": {
             "colorbar": {
              "outlinewidth": 0,
              "ticks": ""
             }
            },
            "type": "scatterpolar"
           }
          ],
          "scatterpolargl": [
           {
            "marker": {
             "colorbar": {
              "outlinewidth": 0,
              "ticks": ""
             }
            },
            "type": "scatterpolargl"
           }
          ],
          "scatterternary": [
           {
            "marker": {
             "colorbar": {
              "outlinewidth": 0,
              "ticks": ""
             }
            },
            "type": "scatterternary"
           }
          ],
          "surface": [
           {
            "colorbar": {
             "outlinewidth": 0,
             "ticks": ""
            },
            "colorscale": [
             [
              0,
              "#0d0887"
             ],
             [
              0.1111111111111111,
              "#46039f"
             ],
             [
              0.2222222222222222,
              "#7201a8"
             ],
             [
              0.3333333333333333,
              "#9c179e"
             ],
             [
              0.4444444444444444,
              "#bd3786"
             ],
             [
              0.5555555555555556,
              "#d8576b"
             ],
             [
              0.6666666666666666,
              "#ed7953"
             ],
             [
              0.7777777777777778,
              "#fb9f3a"
             ],
             [
              0.8888888888888888,
              "#fdca26"
             ],
             [
              1,
              "#f0f921"
             ]
            ],
            "type": "surface"
           }
          ],
          "table": [
           {
            "cells": {
             "fill": {
              "color": "#EBF0F8"
             },
             "line": {
              "color": "white"
             }
            },
            "header": {
             "fill": {
              "color": "#C8D4E3"
             },
             "line": {
              "color": "white"
             }
            },
            "type": "table"
           }
          ]
         },
         "layout": {
          "annotationdefaults": {
           "arrowcolor": "#2a3f5f",
           "arrowhead": 0,
           "arrowwidth": 1
          },
          "autotypenumbers": "strict",
          "coloraxis": {
           "colorbar": {
            "outlinewidth": 0,
            "ticks": ""
           }
          },
          "colorscale": {
           "diverging": [
            [
             0,
             "#8e0152"
            ],
            [
             0.1,
             "#c51b7d"
            ],
            [
             0.2,
             "#de77ae"
            ],
            [
             0.3,
             "#f1b6da"
            ],
            [
             0.4,
             "#fde0ef"
            ],
            [
             0.5,
             "#f7f7f7"
            ],
            [
             0.6,
             "#e6f5d0"
            ],
            [
             0.7,
             "#b8e186"
            ],
            [
             0.8,
             "#7fbc41"
            ],
            [
             0.9,
             "#4d9221"
            ],
            [
             1,
             "#276419"
            ]
           ],
           "sequential": [
            [
             0,
             "#0d0887"
            ],
            [
             0.1111111111111111,
             "#46039f"
            ],
            [
             0.2222222222222222,
             "#7201a8"
            ],
            [
             0.3333333333333333,
             "#9c179e"
            ],
            [
             0.4444444444444444,
             "#bd3786"
            ],
            [
             0.5555555555555556,
             "#d8576b"
            ],
            [
             0.6666666666666666,
             "#ed7953"
            ],
            [
             0.7777777777777778,
             "#fb9f3a"
            ],
            [
             0.8888888888888888,
             "#fdca26"
            ],
            [
             1,
             "#f0f921"
            ]
           ],
           "sequentialminus": [
            [
             0,
             "#0d0887"
            ],
            [
             0.1111111111111111,
             "#46039f"
            ],
            [
             0.2222222222222222,
             "#7201a8"
            ],
            [
             0.3333333333333333,
             "#9c179e"
            ],
            [
             0.4444444444444444,
             "#bd3786"
            ],
            [
             0.5555555555555556,
             "#d8576b"
            ],
            [
             0.6666666666666666,
             "#ed7953"
            ],
            [
             0.7777777777777778,
             "#fb9f3a"
            ],
            [
             0.8888888888888888,
             "#fdca26"
            ],
            [
             1,
             "#f0f921"
            ]
           ]
          },
          "colorway": [
           "#636efa",
           "#EF553B",
           "#00cc96",
           "#ab63fa",
           "#FFA15A",
           "#19d3f3",
           "#FF6692",
           "#B6E880",
           "#FF97FF",
           "#FECB52"
          ],
          "font": {
           "color": "#2a3f5f"
          },
          "geo": {
           "bgcolor": "white",
           "lakecolor": "white",
           "landcolor": "#E5ECF6",
           "showlakes": true,
           "showland": true,
           "subunitcolor": "white"
          },
          "hoverlabel": {
           "align": "left"
          },
          "hovermode": "closest",
          "mapbox": {
           "style": "light"
          },
          "paper_bgcolor": "white",
          "plot_bgcolor": "#E5ECF6",
          "polar": {
           "angularaxis": {
            "gridcolor": "white",
            "linecolor": "white",
            "ticks": ""
           },
           "bgcolor": "#E5ECF6",
           "radialaxis": {
            "gridcolor": "white",
            "linecolor": "white",
            "ticks": ""
           }
          },
          "scene": {
           "xaxis": {
            "backgroundcolor": "#E5ECF6",
            "gridcolor": "white",
            "gridwidth": 2,
            "linecolor": "white",
            "showbackground": true,
            "ticks": "",
            "zerolinecolor": "white"
           },
           "yaxis": {
            "backgroundcolor": "#E5ECF6",
            "gridcolor": "white",
            "gridwidth": 2,
            "linecolor": "white",
            "showbackground": true,
            "ticks": "",
            "zerolinecolor": "white"
           },
           "zaxis": {
            "backgroundcolor": "#E5ECF6",
            "gridcolor": "white",
            "gridwidth": 2,
            "linecolor": "white",
            "showbackground": true,
            "ticks": "",
            "zerolinecolor": "white"
           }
          },
          "shapedefaults": {
           "line": {
            "color": "#2a3f5f"
           }
          },
          "ternary": {
           "aaxis": {
            "gridcolor": "white",
            "linecolor": "white",
            "ticks": ""
           },
           "baxis": {
            "gridcolor": "white",
            "linecolor": "white",
            "ticks": ""
           },
           "bgcolor": "#E5ECF6",
           "caxis": {
            "gridcolor": "white",
            "linecolor": "white",
            "ticks": ""
           }
          },
          "title": {
           "x": 0.05
          },
          "xaxis": {
           "automargin": true,
           "gridcolor": "white",
           "linecolor": "white",
           "ticks": "",
           "title": {
            "standoff": 15
           },
           "zerolinecolor": "white",
           "zerolinewidth": 2
          },
          "yaxis": {
           "automargin": true,
           "gridcolor": "white",
           "linecolor": "white",
           "ticks": "",
           "title": {
            "standoff": 15
           },
           "zerolinecolor": "white",
           "zerolinewidth": 2
          }
         }
        }
       }
      }
     },
     "metadata": {},
     "output_type": "display_data"
    }
   ],
   "source": [
    "gastos_nov = pd.read_csv('cartao_pagamento_2022_orgaos/202211_CPGF.csv', encoding='latin1', delimiter=';')\n",
    "\n",
    "gastos_nov.loc[:, 'VALOR TRANSAÇÃO'] = pd.to_numeric(gastos_nov['VALOR TRANSAÇÃO'].str.replace(\",\", '.'), errors='coerce')\n",
    "\n",
    "gastos_por_orgao_nov = gastos_nov.groupby('NOME ÓRGÃO SUPERIOR').agg({'VALOR TRANSAÇÃO': sum}).reset_index()\n",
    "gastos_por_orgao_nov = gastos_por_orgao_nov.sort_values('VALOR TRANSAÇÃO', ascending=False).reset_index()\n",
    "\n",
    "df = pd.DataFrame(gastos_por_orgao_nov)\n",
    "df.to_csv(sep=',', index=False, header=True, path_or_buf='CPGF_2022_tables_tratadas/nov_2022.csv')\n",
    "\n",
    "fig_nov = px.treemap(gastos_por_orgao_nov, path=[px.Constant('Cartão de Pagamento do Governo Federal (CPGF)'), 'NOME ÓRGÃO SUPERIOR'], values='VALOR TRANSAÇÃO',\n",
    "                  color='NOME ÓRGÃO SUPERIOR')\n",
    "fig_nov.show()"
   ]
  },
  {
   "cell_type": "code",
   "execution_count": 38,
   "metadata": {},
   "outputs": [
    {
     "data": {
      "application/vnd.plotly.v1+json": {
       "config": {
        "plotlyServerURL": "https://plot.ly"
       },
       "data": [
        {
         "branchvalues": "total",
         "customdata": [
          [
           "Ministério da Saúde"
          ],
          [
           "Ministério da Justiça e Segurança Pública"
          ],
          [
           "Ministério da Economia"
          ],
          [
           "Ministério da Educação"
          ],
          [
           "Ministério da Defesa"
          ],
          [
           "Ministério do Meio Ambiente"
          ],
          [
           "Presidência da República"
          ],
          [
           "Ministério do Desenvolvimento Regional"
          ],
          [
           "Ministério do Trabalho"
          ],
          [
           "Ministério da Agricultura, Pecuária e Abastec"
          ],
          [
           "(?)"
          ]
         ],
         "domain": {
          "x": [
           0,
           1
          ],
          "y": [
           0,
           1
          ]
         },
         "hovertemplate": "labels=%{label}<br>VALOR TRANSAÇÃO=%{value}<br>parent=%{parent}<br>id=%{id}<br>NOME ÓRGÃO SUPERIOR=%{customdata[0]}<extra></extra>",
         "ids": [
          "Cartão de Pagamento do Governo Federal (CPGF) - 2022/Ministério da Saúde",
          "Cartão de Pagamento do Governo Federal (CPGF) - 2022/Ministério da Justiça e Segurança Pública",
          "Cartão de Pagamento do Governo Federal (CPGF) - 2022/Ministério da Economia",
          "Cartão de Pagamento do Governo Federal (CPGF) - 2022/Ministério da Educação",
          "Cartão de Pagamento do Governo Federal (CPGF) - 2022/Ministério da Defesa",
          "Cartão de Pagamento do Governo Federal (CPGF) - 2022/Ministério do Meio Ambiente",
          "Cartão de Pagamento do Governo Federal (CPGF) - 2022/Presidência da República",
          "Cartão de Pagamento do Governo Federal (CPGF) - 2022/Ministério do Desenvolvimento Regional",
          "Cartão de Pagamento do Governo Federal (CPGF) - 2022/Ministério do Trabalho",
          "Cartão de Pagamento do Governo Federal (CPGF) - 2022/Ministério da Agricultura, Pecuária e Abastec",
          "Cartão de Pagamento do Governo Federal (CPGF) - 2022"
         ],
         "labels": [
          "Ministério da Saúde",
          "Ministério da Justiça e Segurança Pública",
          "Ministério da Economia",
          "Ministério da Educação",
          "Ministério da Defesa",
          "Ministério do Meio Ambiente",
          "Presidência da República",
          "Ministério do Desenvolvimento Regional",
          "Ministério do Trabalho",
          "Ministério da Agricultura, Pecuária e Abastec",
          "Cartão de Pagamento do Governo Federal (CPGF) - 2022"
         ],
         "marker": {
          "colors": [
           "#636efa",
           "#EF553B",
           "#00cc96",
           "#ab63fa",
           "#FFA15A",
           "#19d3f3",
           "#FF6692",
           "#B6E880",
           "#FF97FF",
           "#FECB52",
           "#636efa"
          ]
         },
         "name": "",
         "parents": [
          "Cartão de Pagamento do Governo Federal (CPGF) - 2022",
          "Cartão de Pagamento do Governo Federal (CPGF) - 2022",
          "Cartão de Pagamento do Governo Federal (CPGF) - 2022",
          "Cartão de Pagamento do Governo Federal (CPGF) - 2022",
          "Cartão de Pagamento do Governo Federal (CPGF) - 2022",
          "Cartão de Pagamento do Governo Federal (CPGF) - 2022",
          "Cartão de Pagamento do Governo Federal (CPGF) - 2022",
          "Cartão de Pagamento do Governo Federal (CPGF) - 2022",
          "Cartão de Pagamento do Governo Federal (CPGF) - 2022",
          "Cartão de Pagamento do Governo Federal (CPGF) - 2022",
          ""
         ],
         "type": "treemap",
         "values": [
          1610591.54,
          19341150.15,
          11353949.6,
          5598141.67,
          4400302.67,
          1736369.48,
          21724871.25,
          651588.44,
          840886.71,
          2542231.02,
          69800082.53
         ]
        }
       ],
       "layout": {
        "legend": {
         "tracegroupgap": 0
        },
        "margin": {
         "t": 60
        },
        "template": {
         "data": {
          "bar": [
           {
            "error_x": {
             "color": "#2a3f5f"
            },
            "error_y": {
             "color": "#2a3f5f"
            },
            "marker": {
             "line": {
              "color": "#E5ECF6",
              "width": 0.5
             },
             "pattern": {
              "fillmode": "overlay",
              "size": 10,
              "solidity": 0.2
             }
            },
            "type": "bar"
           }
          ],
          "barpolar": [
           {
            "marker": {
             "line": {
              "color": "#E5ECF6",
              "width": 0.5
             },
             "pattern": {
              "fillmode": "overlay",
              "size": 10,
              "solidity": 0.2
             }
            },
            "type": "barpolar"
           }
          ],
          "carpet": [
           {
            "aaxis": {
             "endlinecolor": "#2a3f5f",
             "gridcolor": "white",
             "linecolor": "white",
             "minorgridcolor": "white",
             "startlinecolor": "#2a3f5f"
            },
            "baxis": {
             "endlinecolor": "#2a3f5f",
             "gridcolor": "white",
             "linecolor": "white",
             "minorgridcolor": "white",
             "startlinecolor": "#2a3f5f"
            },
            "type": "carpet"
           }
          ],
          "choropleth": [
           {
            "colorbar": {
             "outlinewidth": 0,
             "ticks": ""
            },
            "type": "choropleth"
           }
          ],
          "contour": [
           {
            "colorbar": {
             "outlinewidth": 0,
             "ticks": ""
            },
            "colorscale": [
             [
              0,
              "#0d0887"
             ],
             [
              0.1111111111111111,
              "#46039f"
             ],
             [
              0.2222222222222222,
              "#7201a8"
             ],
             [
              0.3333333333333333,
              "#9c179e"
             ],
             [
              0.4444444444444444,
              "#bd3786"
             ],
             [
              0.5555555555555556,
              "#d8576b"
             ],
             [
              0.6666666666666666,
              "#ed7953"
             ],
             [
              0.7777777777777778,
              "#fb9f3a"
             ],
             [
              0.8888888888888888,
              "#fdca26"
             ],
             [
              1,
              "#f0f921"
             ]
            ],
            "type": "contour"
           }
          ],
          "contourcarpet": [
           {
            "colorbar": {
             "outlinewidth": 0,
             "ticks": ""
            },
            "type": "contourcarpet"
           }
          ],
          "heatmap": [
           {
            "colorbar": {
             "outlinewidth": 0,
             "ticks": ""
            },
            "colorscale": [
             [
              0,
              "#0d0887"
             ],
             [
              0.1111111111111111,
              "#46039f"
             ],
             [
              0.2222222222222222,
              "#7201a8"
             ],
             [
              0.3333333333333333,
              "#9c179e"
             ],
             [
              0.4444444444444444,
              "#bd3786"
             ],
             [
              0.5555555555555556,
              "#d8576b"
             ],
             [
              0.6666666666666666,
              "#ed7953"
             ],
             [
              0.7777777777777778,
              "#fb9f3a"
             ],
             [
              0.8888888888888888,
              "#fdca26"
             ],
             [
              1,
              "#f0f921"
             ]
            ],
            "type": "heatmap"
           }
          ],
          "heatmapgl": [
           {
            "colorbar": {
             "outlinewidth": 0,
             "ticks": ""
            },
            "colorscale": [
             [
              0,
              "#0d0887"
             ],
             [
              0.1111111111111111,
              "#46039f"
             ],
             [
              0.2222222222222222,
              "#7201a8"
             ],
             [
              0.3333333333333333,
              "#9c179e"
             ],
             [
              0.4444444444444444,
              "#bd3786"
             ],
             [
              0.5555555555555556,
              "#d8576b"
             ],
             [
              0.6666666666666666,
              "#ed7953"
             ],
             [
              0.7777777777777778,
              "#fb9f3a"
             ],
             [
              0.8888888888888888,
              "#fdca26"
             ],
             [
              1,
              "#f0f921"
             ]
            ],
            "type": "heatmapgl"
           }
          ],
          "histogram": [
           {
            "marker": {
             "pattern": {
              "fillmode": "overlay",
              "size": 10,
              "solidity": 0.2
             }
            },
            "type": "histogram"
           }
          ],
          "histogram2d": [
           {
            "colorbar": {
             "outlinewidth": 0,
             "ticks": ""
            },
            "colorscale": [
             [
              0,
              "#0d0887"
             ],
             [
              0.1111111111111111,
              "#46039f"
             ],
             [
              0.2222222222222222,
              "#7201a8"
             ],
             [
              0.3333333333333333,
              "#9c179e"
             ],
             [
              0.4444444444444444,
              "#bd3786"
             ],
             [
              0.5555555555555556,
              "#d8576b"
             ],
             [
              0.6666666666666666,
              "#ed7953"
             ],
             [
              0.7777777777777778,
              "#fb9f3a"
             ],
             [
              0.8888888888888888,
              "#fdca26"
             ],
             [
              1,
              "#f0f921"
             ]
            ],
            "type": "histogram2d"
           }
          ],
          "histogram2dcontour": [
           {
            "colorbar": {
             "outlinewidth": 0,
             "ticks": ""
            },
            "colorscale": [
             [
              0,
              "#0d0887"
             ],
             [
              0.1111111111111111,
              "#46039f"
             ],
             [
              0.2222222222222222,
              "#7201a8"
             ],
             [
              0.3333333333333333,
              "#9c179e"
             ],
             [
              0.4444444444444444,
              "#bd3786"
             ],
             [
              0.5555555555555556,
              "#d8576b"
             ],
             [
              0.6666666666666666,
              "#ed7953"
             ],
             [
              0.7777777777777778,
              "#fb9f3a"
             ],
             [
              0.8888888888888888,
              "#fdca26"
             ],
             [
              1,
              "#f0f921"
             ]
            ],
            "type": "histogram2dcontour"
           }
          ],
          "mesh3d": [
           {
            "colorbar": {
             "outlinewidth": 0,
             "ticks": ""
            },
            "type": "mesh3d"
           }
          ],
          "parcoords": [
           {
            "line": {
             "colorbar": {
              "outlinewidth": 0,
              "ticks": ""
             }
            },
            "type": "parcoords"
           }
          ],
          "pie": [
           {
            "automargin": true,
            "type": "pie"
           }
          ],
          "scatter": [
           {
            "fillpattern": {
             "fillmode": "overlay",
             "size": 10,
             "solidity": 0.2
            },
            "type": "scatter"
           }
          ],
          "scatter3d": [
           {
            "line": {
             "colorbar": {
              "outlinewidth": 0,
              "ticks": ""
             }
            },
            "marker": {
             "colorbar": {
              "outlinewidth": 0,
              "ticks": ""
             }
            },
            "type": "scatter3d"
           }
          ],
          "scattercarpet": [
           {
            "marker": {
             "colorbar": {
              "outlinewidth": 0,
              "ticks": ""
             }
            },
            "type": "scattercarpet"
           }
          ],
          "scattergeo": [
           {
            "marker": {
             "colorbar": {
              "outlinewidth": 0,
              "ticks": ""
             }
            },
            "type": "scattergeo"
           }
          ],
          "scattergl": [
           {
            "marker": {
             "colorbar": {
              "outlinewidth": 0,
              "ticks": ""
             }
            },
            "type": "scattergl"
           }
          ],
          "scattermapbox": [
           {
            "marker": {
             "colorbar": {
              "outlinewidth": 0,
              "ticks": ""
             }
            },
            "type": "scattermapbox"
           }
          ],
          "scatterpolar": [
           {
            "marker": {
             "colorbar": {
              "outlinewidth": 0,
              "ticks": ""
             }
            },
            "type": "scatterpolar"
           }
          ],
          "scatterpolargl": [
           {
            "marker": {
             "colorbar": {
              "outlinewidth": 0,
              "ticks": ""
             }
            },
            "type": "scatterpolargl"
           }
          ],
          "scatterternary": [
           {
            "marker": {
             "colorbar": {
              "outlinewidth": 0,
              "ticks": ""
             }
            },
            "type": "scatterternary"
           }
          ],
          "surface": [
           {
            "colorbar": {
             "outlinewidth": 0,
             "ticks": ""
            },
            "colorscale": [
             [
              0,
              "#0d0887"
             ],
             [
              0.1111111111111111,
              "#46039f"
             ],
             [
              0.2222222222222222,
              "#7201a8"
             ],
             [
              0.3333333333333333,
              "#9c179e"
             ],
             [
              0.4444444444444444,
              "#bd3786"
             ],
             [
              0.5555555555555556,
              "#d8576b"
             ],
             [
              0.6666666666666666,
              "#ed7953"
             ],
             [
              0.7777777777777778,
              "#fb9f3a"
             ],
             [
              0.8888888888888888,
              "#fdca26"
             ],
             [
              1,
              "#f0f921"
             ]
            ],
            "type": "surface"
           }
          ],
          "table": [
           {
            "cells": {
             "fill": {
              "color": "#EBF0F8"
             },
             "line": {
              "color": "white"
             }
            },
            "header": {
             "fill": {
              "color": "#C8D4E3"
             },
             "line": {
              "color": "white"
             }
            },
            "type": "table"
           }
          ]
         },
         "layout": {
          "annotationdefaults": {
           "arrowcolor": "#2a3f5f",
           "arrowhead": 0,
           "arrowwidth": 1
          },
          "autotypenumbers": "strict",
          "coloraxis": {
           "colorbar": {
            "outlinewidth": 0,
            "ticks": ""
           }
          },
          "colorscale": {
           "diverging": [
            [
             0,
             "#8e0152"
            ],
            [
             0.1,
             "#c51b7d"
            ],
            [
             0.2,
             "#de77ae"
            ],
            [
             0.3,
             "#f1b6da"
            ],
            [
             0.4,
             "#fde0ef"
            ],
            [
             0.5,
             "#f7f7f7"
            ],
            [
             0.6,
             "#e6f5d0"
            ],
            [
             0.7,
             "#b8e186"
            ],
            [
             0.8,
             "#7fbc41"
            ],
            [
             0.9,
             "#4d9221"
            ],
            [
             1,
             "#276419"
            ]
           ],
           "sequential": [
            [
             0,
             "#0d0887"
            ],
            [
             0.1111111111111111,
             "#46039f"
            ],
            [
             0.2222222222222222,
             "#7201a8"
            ],
            [
             0.3333333333333333,
             "#9c179e"
            ],
            [
             0.4444444444444444,
             "#bd3786"
            ],
            [
             0.5555555555555556,
             "#d8576b"
            ],
            [
             0.6666666666666666,
             "#ed7953"
            ],
            [
             0.7777777777777778,
             "#fb9f3a"
            ],
            [
             0.8888888888888888,
             "#fdca26"
            ],
            [
             1,
             "#f0f921"
            ]
           ],
           "sequentialminus": [
            [
             0,
             "#0d0887"
            ],
            [
             0.1111111111111111,
             "#46039f"
            ],
            [
             0.2222222222222222,
             "#7201a8"
            ],
            [
             0.3333333333333333,
             "#9c179e"
            ],
            [
             0.4444444444444444,
             "#bd3786"
            ],
            [
             0.5555555555555556,
             "#d8576b"
            ],
            [
             0.6666666666666666,
             "#ed7953"
            ],
            [
             0.7777777777777778,
             "#fb9f3a"
            ],
            [
             0.8888888888888888,
             "#fdca26"
            ],
            [
             1,
             "#f0f921"
            ]
           ]
          },
          "colorway": [
           "#636efa",
           "#EF553B",
           "#00cc96",
           "#ab63fa",
           "#FFA15A",
           "#19d3f3",
           "#FF6692",
           "#B6E880",
           "#FF97FF",
           "#FECB52"
          ],
          "font": {
           "color": "#2a3f5f"
          },
          "geo": {
           "bgcolor": "white",
           "lakecolor": "white",
           "landcolor": "#E5ECF6",
           "showlakes": true,
           "showland": true,
           "subunitcolor": "white"
          },
          "hoverlabel": {
           "align": "left"
          },
          "hovermode": "closest",
          "mapbox": {
           "style": "light"
          },
          "paper_bgcolor": "white",
          "plot_bgcolor": "#E5ECF6",
          "polar": {
           "angularaxis": {
            "gridcolor": "white",
            "linecolor": "white",
            "ticks": ""
           },
           "bgcolor": "#E5ECF6",
           "radialaxis": {
            "gridcolor": "white",
            "linecolor": "white",
            "ticks": ""
           }
          },
          "scene": {
           "xaxis": {
            "backgroundcolor": "#E5ECF6",
            "gridcolor": "white",
            "gridwidth": 2,
            "linecolor": "white",
            "showbackground": true,
            "ticks": "",
            "zerolinecolor": "white"
           },
           "yaxis": {
            "backgroundcolor": "#E5ECF6",
            "gridcolor": "white",
            "gridwidth": 2,
            "linecolor": "white",
            "showbackground": true,
            "ticks": "",
            "zerolinecolor": "white"
           },
           "zaxis": {
            "backgroundcolor": "#E5ECF6",
            "gridcolor": "white",
            "gridwidth": 2,
            "linecolor": "white",
            "showbackground": true,
            "ticks": "",
            "zerolinecolor": "white"
           }
          },
          "shapedefaults": {
           "line": {
            "color": "#2a3f5f"
           }
          },
          "ternary": {
           "aaxis": {
            "gridcolor": "white",
            "linecolor": "white",
            "ticks": ""
           },
           "baxis": {
            "gridcolor": "white",
            "linecolor": "white",
            "ticks": ""
           },
           "bgcolor": "#E5ECF6",
           "caxis": {
            "gridcolor": "white",
            "linecolor": "white",
            "ticks": ""
           }
          },
          "title": {
           "x": 0.05
          },
          "xaxis": {
           "automargin": true,
           "gridcolor": "white",
           "linecolor": "white",
           "ticks": "",
           "title": {
            "standoff": 15
           },
           "zerolinecolor": "white",
           "zerolinewidth": 2
          },
          "yaxis": {
           "automargin": true,
           "gridcolor": "white",
           "linecolor": "white",
           "ticks": "",
           "title": {
            "standoff": 15
           },
           "zerolinecolor": "white",
           "zerolinewidth": 2
          }
         }
        }
       }
      }
     },
     "metadata": {},
     "output_type": "display_data"
    },
    {
     "data": {
      "text/html": [
       "<div>\n",
       "<style scoped>\n",
       "    .dataframe tbody tr th:only-of-type {\n",
       "        vertical-align: middle;\n",
       "    }\n",
       "\n",
       "    .dataframe tbody tr th {\n",
       "        vertical-align: top;\n",
       "    }\n",
       "\n",
       "    .dataframe thead th {\n",
       "        text-align: right;\n",
       "    }\n",
       "</style>\n",
       "<table border=\"1\" class=\"dataframe\">\n",
       "  <thead>\n",
       "    <tr style=\"text-align: right;\">\n",
       "      <th></th>\n",
       "      <th>index</th>\n",
       "      <th>NOME ÓRGÃO SUPERIOR</th>\n",
       "      <th>VALOR TRANSAÇÃO</th>\n",
       "    </tr>\n",
       "  </thead>\n",
       "  <tbody>\n",
       "    <tr>\n",
       "      <th>0</th>\n",
       "      <td>21</td>\n",
       "      <td>Presidência da República</td>\n",
       "      <td>21724871.25</td>\n",
       "    </tr>\n",
       "    <tr>\n",
       "      <th>1</th>\n",
       "      <td>9</td>\n",
       "      <td>Ministério da Justiça e Segurança Pública</td>\n",
       "      <td>19341150.15</td>\n",
       "    </tr>\n",
       "    <tr>\n",
       "      <th>2</th>\n",
       "      <td>6</td>\n",
       "      <td>Ministério da Economia</td>\n",
       "      <td>11353949.60</td>\n",
       "    </tr>\n",
       "    <tr>\n",
       "      <th>3</th>\n",
       "      <td>7</td>\n",
       "      <td>Ministério da Educação</td>\n",
       "      <td>5598141.67</td>\n",
       "    </tr>\n",
       "    <tr>\n",
       "      <th>4</th>\n",
       "      <td>5</td>\n",
       "      <td>Ministério da Defesa</td>\n",
       "      <td>4400302.67</td>\n",
       "    </tr>\n",
       "    <tr>\n",
       "      <th>5</th>\n",
       "      <td>3</td>\n",
       "      <td>Ministério da Agricultura, Pecuária e Abastec</td>\n",
       "      <td>2542231.02</td>\n",
       "    </tr>\n",
       "    <tr>\n",
       "      <th>6</th>\n",
       "      <td>17</td>\n",
       "      <td>Ministério do Meio Ambiente</td>\n",
       "      <td>1736369.48</td>\n",
       "    </tr>\n",
       "    <tr>\n",
       "      <th>7</th>\n",
       "      <td>12</td>\n",
       "      <td>Ministério da Saúde</td>\n",
       "      <td>1610591.54</td>\n",
       "    </tr>\n",
       "    <tr>\n",
       "      <th>8</th>\n",
       "      <td>18</td>\n",
       "      <td>Ministério do Trabalho</td>\n",
       "      <td>840886.71</td>\n",
       "    </tr>\n",
       "    <tr>\n",
       "      <th>9</th>\n",
       "      <td>16</td>\n",
       "      <td>Ministério do Desenvolvimento Regional</td>\n",
       "      <td>651588.44</td>\n",
       "    </tr>\n",
       "  </tbody>\n",
       "</table>\n",
       "</div>"
      ],
      "text/plain": [
       "   index                            NOME ÓRGÃO SUPERIOR  VALOR TRANSAÇÃO\n",
       "0     21                       Presidência da República      21724871.25\n",
       "1      9      Ministério da Justiça e Segurança Pública      19341150.15\n",
       "2      6                         Ministério da Economia      11353949.60\n",
       "3      7                         Ministério da Educação       5598141.67\n",
       "4      5                           Ministério da Defesa       4400302.67\n",
       "5      3  Ministério da Agricultura, Pecuária e Abastec       2542231.02\n",
       "6     17                    Ministério do Meio Ambiente       1736369.48\n",
       "7     12                            Ministério da Saúde       1610591.54\n",
       "8     18                         Ministério do Trabalho        840886.71\n",
       "9     16         Ministério do Desenvolvimento Regional        651588.44"
      ]
     },
     "execution_count": 38,
     "metadata": {},
     "output_type": "execute_result"
    }
   ],
   "source": [
    "gastos_cpgf_2022 = pd.concat([gastos_por_orgao_jan, gastos_por_orgao_fev, gastos_por_orgao_mar, gastos_por_orgao_abr, gastos_por_orgao_mai, gastos_por_orgao_jun, gastos_por_orgao_ago, gastos_por_orgao_set, gastos_por_orgao_out, gastos_por_orgao_nov], axis=0, ignore_index=True)\n",
    "gastos_group = gastos_cpgf_2022.groupby('NOME ÓRGÃO SUPERIOR').agg({'VALOR TRANSAÇÃO': sum}).reset_index()\n",
    "\n",
    "gastos_sort = gastos_group.sort_values('VALOR TRANSAÇÃO', ascending=False).reset_index()\n",
    "\n",
    "maiores_10_usos = gastos_sort.loc[:9, :]\n",
    "\n",
    "df = pd.DataFrame(maiores_10_usos)\n",
    "df.to_csv(sep=',', index=False, header=True, path_or_buf='CPGF_2022_tables_tratadas/gastos_cpgf_2022.csv')\n",
    "\n",
    "fig_2022 = px.treemap(maiores_10_usos, path=[px.Constant('Cartão de Pagamento do Governo Federal (CPGF) - 2022'), 'NOME ÓRGÃO SUPERIOR'], values='VALOR TRANSAÇÃO',\n",
    "                  color='NOME ÓRGÃO SUPERIOR')\n",
    "fig_2022.show()\n",
    "\n",
    "fig_2022.write_image('images/gastos_cpgf_2022.png')\n",
    "\n",
    "maiores_10_usos"
   ]
  }
 ],
 "metadata": {
  "kernelspec": {
   "display_name": "Python 3.8.10 64-bit",
   "language": "python",
   "name": "python3"
  },
  "language_info": {
   "codemirror_mode": {
    "name": "ipython",
    "version": 3
   },
   "file_extension": ".py",
   "mimetype": "text/x-python",
   "name": "python",
   "nbconvert_exporter": "python",
   "pygments_lexer": "ipython3",
   "version": "3.8.10"
  },
  "orig_nbformat": 4,
  "vscode": {
   "interpreter": {
    "hash": "31f2aee4e71d21fbe5cf8b01ff0e069b9275f58929596ceb00d14d90e3e16cd6"
   }
  }
 },
 "nbformat": 4,
 "nbformat_minor": 2
}
